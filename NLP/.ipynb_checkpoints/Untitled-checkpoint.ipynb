{
 "cells": [
  {
   "cell_type": "markdown",
   "metadata": {
    "toc": true
   },
   "source": [
    "<h1>Table of Contents<span class=\"tocSkip\"></span></h1>\n",
    "<div class=\"toc\"><ul class=\"toc-item\"><li><span><a href=\"#Regular-expressions-&amp;-word-tokenization\" data-toc-modified-id=\"Regular-expressions-&amp;-word-tokenization-1\"><span class=\"toc-item-num\">1&nbsp;&nbsp;</span>Regular expressions &amp; word tokenization</a></span><ul class=\"toc-item\"><li><span><a href=\"#What-is-tokenization?\" data-toc-modified-id=\"What-is-tokenization?-1.1\"><span class=\"toc-item-num\">1.1&nbsp;&nbsp;</span>What is tokenization?</a></span></li><li><span><a href=\"#Why-tokenize?\" data-toc-modified-id=\"Why-tokenize?-1.2\"><span class=\"toc-item-num\">1.2&nbsp;&nbsp;</span>Why tokenize?</a></span></li><li><span><a href=\"#Other-nltk-tokenizers\" data-toc-modified-id=\"Other-nltk-tokenizers-1.3\"><span class=\"toc-item-num\">1.3&nbsp;&nbsp;</span>Other nltk tokenizers</a></span></li><li><span><a href=\"#More-regex-practice\" data-toc-modified-id=\"More-regex-practice-1.4\"><span class=\"toc-item-num\">1.4&nbsp;&nbsp;</span>More regex practice</a></span></li></ul></li></ul></div>"
   ]
  },
  {
   "cell_type": "code",
   "execution_count": 28,
   "metadata": {},
   "outputs": [],
   "source": [
    "# load libraries\n",
    "import pandas as pd\n",
    "import numpy as np\n",
    "import matplotlib.pyplot as plt\n",
    "import seaborn as sns\n",
    "import zipfile"
   ]
  },
  {
   "cell_type": "code",
   "execution_count": 30,
   "metadata": {},
   "outputs": [],
   "source": [
    "# Reading data\n",
    "eng_stop = pd.read_csv('https://assets.datacamp.com/production/repositories/932/datasets/8042ed46ae7faef4951fcda771c5acc4fc3c0bf6/english_stopwords.txt')\n",
    "monty = pd.read_table('https://assets.datacamp.com/production/repositories/932/datasets/4921d0bf6a73fd645f49f528faf74a871bb3a0e9/grail.txt',header=None)\n",
    "#news = pd.read_csv('https://assets.datacamp.com/production/repositories/932/datasets/cd04303b8b2904d1025809dfb29076de696a1ffc/News%20articles.zip')\n"
   ]
  },
  {
   "cell_type": "markdown",
   "metadata": {},
   "source": [
    "# Regular expressions & word tokenization"
   ]
  },
  {
   "cell_type": "code",
   "execution_count": 31,
   "metadata": {},
   "outputs": [],
   "source": [
    "my_string = \"Let's write RegEx!  Won't that be fun?  I sure think so.  Can you find 4 sentences?  Or perhaps, all 19 words?\"\n"
   ]
  },
  {
   "cell_type": "code",
   "execution_count": 32,
   "metadata": {},
   "outputs": [
    {
     "name": "stdout",
     "output_type": "stream",
     "text": [
      "[\"Let's write RegEx\", \"  Won't that be fun\", '  I sure think so', '  Can you find 4 sentences', '  Or perhaps, all 19 words', '']\n",
      "['Let', 'RegEx', 'Won', 'Can', 'Or']\n",
      "[\"Let's\", 'write', 'RegEx!', \"Won't\", 'that', 'be', 'fun?', 'I', 'sure', 'think', 'so.', 'Can', 'you', 'find', '4', 'sentences?', 'Or', 'perhaps,', 'all', '19', 'words?']\n",
      "['4', '19']\n"
     ]
    }
   ],
   "source": [
    "import re\n",
    "\n",
    "# Write a pattern to match sentence endings: sentence_endings\n",
    "sentence_endings = r\"[.?!]\"\n",
    "\n",
    "# Split my_string on sentence endings and print the result\n",
    "print(re.split(sentence_endings,my_string ))\n",
    "\n",
    "# Find all capitalized words in my_string and print the result\n",
    "capitalized_words = r\"[A-Z]\\w+\"\n",
    "print(re.findall(capitalized_words, my_string))\n",
    "\n",
    "# Split my_string on spaces and print the result\n",
    "spaces = r\"\\s+\"\n",
    "print(re.split(spaces, my_string))\n",
    "\n",
    "# Find all digits in my_string and print the result\n",
    "digits = r\"\\d+\"\n",
    "print(re.findall(digits, my_string))\n"
   ]
  },
  {
   "cell_type": "markdown",
   "metadata": {},
   "source": [
    "## What is tokenization?\n",
    "- Turning a string or document into tokens (smaller chunks)\n",
    "- One step in preparing a text for NLP\n",
    "- Many different theories and rules\n",
    "- You can create your own rules using regular expressions. Some examples:\n",
    "        -Breaking out words or sentences\n",
    "        -Separating punctuation\n",
    "        -Separating all hashtags in a tweet\n",
    "\n",
    "- We will be using the nltk library\n",
    "\n",
    "## Why tokenize?\n",
    "- Easier to map part of speech\n",
    "- Matching common words\n",
    "- Removing unwanted tokens\n",
    "- Ex: \"I don't like Sam's shoes.\"\n",
    "- giving us : \"I\", \"do\", \"n't\", \"like\", \"Sam\", \"'s\", \"shoes\", \".\"\n",
    "\n",
    "\n",
    "## Other nltk tokenizers\n",
    "- sent_tokenize: tokenize a document into sentences\n",
    "\n",
    "- regexp_tokenize: tokenize a string or document based on a regular expression pattern\n",
    "\n",
    "- TweetTokenizer: special class just for tweet tokenization, allowing you to separate hashtags, mentions and lots of exclamation points!!!"
   ]
  },
  {
   "cell_type": "markdown",
   "metadata": {},
   "source": [
    "## More regex practice\n",
    "Difference between re.search() and re.match()\n",
    " \n",
    "In [1]: import re\n",
    "\n",
    "In [2]: re.match('abc', 'abcde')\n",
    "Out[2]: <_sre.SRE_Match object; span=(0, 3), match='abc'>\n",
    "\n",
    "In [3]: re.search('abc', 'abcde')\n",
    "Out[3]: <_sre.SRE_Match object; span=(0, 3), match='abc'>\n",
    "\n",
    "In [4]: re.match('cd', 'abcde')\n",
    "\n",
    "In [5]: re.search('cd', 'abcde')\n",
    "Out[5]: <_sre.SRE_Match object; span=(2, 4), match='cd'>\n",
    "\n",
    "- Knowing when to use match or search can be confusing.\n",
    "- Match looks for patterns when they are the beginning. However, if the desired patten is not at the beginning, we should use search."
   ]
  },
  {
   "cell_type": "code",
   "execution_count": null,
   "metadata": {},
   "outputs": [],
   "source": []
  },
  {
   "cell_type": "code",
   "execution_count": null,
   "metadata": {},
   "outputs": [],
   "source": []
  },
  {
   "cell_type": "code",
   "execution_count": null,
   "metadata": {},
   "outputs": [],
   "source": []
  },
  {
   "cell_type": "code",
   "execution_count": null,
   "metadata": {},
   "outputs": [],
   "source": []
  },
  {
   "cell_type": "code",
   "execution_count": null,
   "metadata": {},
   "outputs": [],
   "source": []
  },
  {
   "cell_type": "code",
   "execution_count": null,
   "metadata": {},
   "outputs": [],
   "source": []
  }
 ],
 "metadata": {
  "kernelspec": {
   "display_name": "Python 3",
   "language": "python",
   "name": "python3"
  },
  "language_info": {
   "codemirror_mode": {
    "name": "ipython",
    "version": 3
   },
   "file_extension": ".py",
   "mimetype": "text/x-python",
   "name": "python",
   "nbconvert_exporter": "python",
   "pygments_lexer": "ipython3",
   "version": "3.7.4"
  },
  "toc": {
   "base_numbering": 1,
   "nav_menu": {},
   "number_sections": true,
   "sideBar": true,
   "skip_h1_title": false,
   "title_cell": "Table of Contents",
   "title_sidebar": "Contents",
   "toc_cell": true,
   "toc_position": {},
   "toc_section_display": true,
   "toc_window_display": false
  }
 },
 "nbformat": 4,
 "nbformat_minor": 4
}
