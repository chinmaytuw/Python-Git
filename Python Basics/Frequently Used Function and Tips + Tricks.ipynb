{
 "cells": [
  {
   "cell_type": "markdown",
   "metadata": {
    "toc": true
   },
   "source": [
    "<h1>Table of Contents<span class=\"tocSkip\"></span></h1>\n",
    "<div class=\"toc\"><ul class=\"toc-item\"><li><span><a href=\"#Frequently-used-Operations\" data-toc-modified-id=\"Frequently-used-Operations-1\"><span class=\"toc-item-num\">1&nbsp;&nbsp;</span>Frequently used Operations</a></span><ul class=\"toc-item\"><li><span><a href=\"#Data-Import\" data-toc-modified-id=\"Data-Import-1.1\"><span class=\"toc-item-num\">1.1&nbsp;&nbsp;</span>Data Import</a></span></li><li><span><a href=\"#EDA---High-Level\" data-toc-modified-id=\"EDA---High-Level-1.2\"><span class=\"toc-item-num\">1.2&nbsp;&nbsp;</span>EDA - High Level</a></span><ul class=\"toc-item\"><li><span><a href=\"#Determine-&quot;type&quot;-of-an-object\" data-toc-modified-id=\"Determine-&quot;type&quot;-of-an-object-1.2.1\"><span class=\"toc-item-num\">1.2.1&nbsp;&nbsp;</span>Determine \"type\" of an object</a></span></li><li><span><a href=\"#Looking-at-summary-stats\" data-toc-modified-id=\"Looking-at-summary-stats-1.2.2\"><span class=\"toc-item-num\">1.2.2&nbsp;&nbsp;</span>Looking at summary stats</a></span></li></ul></li><li><span><a href=\"#EDA---Selection\" data-toc-modified-id=\"EDA---Selection-1.3\"><span class=\"toc-item-num\">1.3&nbsp;&nbsp;</span>EDA - Selection</a></span><ul class=\"toc-item\"><li><span><a href=\"#Conditional-Selection\" data-toc-modified-id=\"Conditional-Selection-1.3.1\"><span class=\"toc-item-num\">1.3.1&nbsp;&nbsp;</span>Conditional Selection</a></span></li><li><span><a href=\"#Selecting-specific-data-types-from-dataframe\" data-toc-modified-id=\"Selecting-specific-data-types-from-dataframe-1.3.2\"><span class=\"toc-item-num\">1.3.2&nbsp;&nbsp;</span>Selecting specific data types from dataframe</a></span></li></ul></li><li><span><a href=\"#EDA---2:-DataFrame-Aggregation-+-Getting-sense-of-data\" data-toc-modified-id=\"EDA---2:-DataFrame-Aggregation-+-Getting-sense-of-data-1.4\"><span class=\"toc-item-num\">1.4&nbsp;&nbsp;</span>EDA - 2: DataFrame Aggregation + Getting sense of data</a></span><ul class=\"toc-item\"><li><span><a href=\"#Sum-of-a-col\" data-toc-modified-id=\"Sum-of-a-col-1.4.1\"><span class=\"toc-item-num\">1.4.1&nbsp;&nbsp;</span>Sum of a col</a></span></li><li><span><a href=\"#Unique-values-for-a-given-column\" data-toc-modified-id=\"Unique-values-for-a-given-column-1.4.2\"><span class=\"toc-item-num\">1.4.2&nbsp;&nbsp;</span>Unique values for a given column</a></span></li></ul></li><li><span><a href=\"#Data-Cleaning\" data-toc-modified-id=\"Data-Cleaning-1.5\"><span class=\"toc-item-num\">1.5&nbsp;&nbsp;</span>Data Cleaning</a></span><ul class=\"toc-item\"><li><span><a href=\"#Treating-NAs\" data-toc-modified-id=\"Treating-NAs-1.5.1\"><span class=\"toc-item-num\">1.5.1&nbsp;&nbsp;</span>Treating NAs</a></span><ul class=\"toc-item\"><li><span><a href=\"#Dropping-na\" data-toc-modified-id=\"Dropping-na-1.5.1.1\"><span class=\"toc-item-num\">1.5.1.1&nbsp;&nbsp;</span>Dropping na</a></span></li><li><span><a href=\"#Replacing-NA-values\" data-toc-modified-id=\"Replacing-NA-values-1.5.1.2\"><span class=\"toc-item-num\">1.5.1.2&nbsp;&nbsp;</span>Replacing NA values</a></span></li></ul></li><li><span><a href=\"#Eliminating-loops---using-Zip-+-Map\" data-toc-modified-id=\"Eliminating-loops---using-Zip-+-Map-1.5.2\"><span class=\"toc-item-num\">1.5.2&nbsp;&nbsp;</span>Eliminating loops - using Zip + Map</a></span></li><li><span><a href=\"#Total-and-Averages-w/o-loops---Using-Zip-+-Lambda-+-Sorted\" data-toc-modified-id=\"Total-and-Averages-w/o-loops---Using-Zip-+-Lambda-+-Sorted-1.5.3\"><span class=\"toc-item-num\">1.5.3&nbsp;&nbsp;</span>Total and Averages w/o loops - Using Zip + Lambda + Sorted</a></span></li></ul></li><li><span><a href=\"#Data-Viz\" data-toc-modified-id=\"Data-Viz-1.6\"><span class=\"toc-item-num\">1.6&nbsp;&nbsp;</span>Data Viz</a></span><ul class=\"toc-item\"><li><span><a href=\"#Facetgrid\" data-toc-modified-id=\"Facetgrid-1.6.1\"><span class=\"toc-item-num\">1.6.1&nbsp;&nbsp;</span>Facetgrid</a></span></li></ul></li></ul></li><li><span><a href=\"#Misc\" data-toc-modified-id=\"Misc-2\"><span class=\"toc-item-num\">2&nbsp;&nbsp;</span>Misc</a></span><ul class=\"toc-item\"><li><ul class=\"toc-item\"><li><span><a href=\"#%run-command\" data-toc-modified-id=\"%run-command-2.0.1\"><span class=\"toc-item-num\">2.0.1&nbsp;&nbsp;</span>%run command</a></span></li><li><span><a href=\"#timeit:\" data-toc-modified-id=\"timeit:-2.0.2\"><span class=\"toc-item-num\">2.0.2&nbsp;&nbsp;</span>timeit:</a></span></li><li><span><a href=\"#isinstance\" data-toc-modified-id=\"isinstance-2.0.3\"><span class=\"toc-item-num\">2.0.3&nbsp;&nbsp;</span>isinstance</a></span></li><li><span><a href=\"#Format\" data-toc-modified-id=\"Format-2.0.4\"><span class=\"toc-item-num\">2.0.4&nbsp;&nbsp;</span>Format</a></span></li><li><span><a href=\"#List-Comprehensions\" data-toc-modified-id=\"List-Comprehensions-2.0.5\"><span class=\"toc-item-num\">2.0.5&nbsp;&nbsp;</span>List Comprehensions</a></span></li><li><span><a href=\"#Dict-Comprehensions\" data-toc-modified-id=\"Dict-Comprehensions-2.0.6\"><span class=\"toc-item-num\">2.0.6&nbsp;&nbsp;</span>Dict Comprehensions</a></span></li></ul></li></ul></li></ul></div>"
   ]
  },
  {
   "cell_type": "code",
   "execution_count": null,
   "metadata": {},
   "outputs": [],
   "source": []
  },
  {
   "cell_type": "code",
   "execution_count": 1,
   "metadata": {},
   "outputs": [],
   "source": [
    "# loading Libraries + Files\n",
    "import pandas as pd\n",
    "import numpy as np\n",
    "from numpy.random import randn\n",
    "np.random.seed(101)"
   ]
  },
  {
   "cell_type": "code",
   "execution_count": 3,
   "metadata": {},
   "outputs": [],
   "source": [
    "# Creating dataframes required below\n",
    "# Importing data required below\n",
    "ser1 = pd.Series([1,2,3,4],index = ['USA', 'Germany','USSR', 'Japan'])\n",
    "df_basic = pd.DataFrame(randn(5,4),index='A B C D E'.split(),columns='W X Y Z'.split())\n",
    "df_miss = pd.DataFrame({'A':[1,2,np.nan],\n",
    "                  'B':[5,np.nan,np.nan],\n",
    "                  'C':[1,2,3]})\n",
    "data_grp = {'Company':['GOOG','GOOG','MSFT','MSFT','FB','FB'],\n",
    "       'Person':['Sam','Charlie','Amy','Vanessa','Carl','Sarah'],\n",
    "       'Sales':[200,120,340,124,243,350]}\n",
    "df_grp = pd.DataFrame(data_grp)\n",
    "df_op = pd.DataFrame({'col1':[1,2,3,4],'col2':[444,555,666,444],'col3':['abc','def','ghi','xyz']})\n",
    "\n",
    "stackOverflow = pd.read_csv('./Data/Combined_DS_v10.csv')"
   ]
  },
  {
   "cell_type": "markdown",
   "metadata": {},
   "source": [
    "# Frequently used Operations"
   ]
  },
  {
   "cell_type": "markdown",
   "metadata": {},
   "source": [
    "## Data Import"
   ]
  },
  {
   "cell_type": "raw",
   "metadata": {},
   "source": [
    "# Reading and writing csv\n",
    "df = pd.read_csv('example')\n",
    "df.to_csv('example',index=False)\n",
    "# Similar implementation for excel with read_excel, to_excel\n",
    "# Also html : read_html"
   ]
  },
  {
   "cell_type": "markdown",
   "metadata": {},
   "source": [
    "## EDA - High Level"
   ]
  },
  {
   "cell_type": "markdown",
   "metadata": {},
   "source": [
    "### Determine \"type\" of an object"
   ]
  },
  {
   "cell_type": "code",
   "execution_count": 6,
   "metadata": {},
   "outputs": [
    {
     "data": {
      "text/plain": [
       "pandas.core.series.Series"
      ]
     },
     "execution_count": 6,
     "metadata": {},
     "output_type": "execute_result"
    }
   ],
   "source": [
    "type(ser1)"
   ]
  },
  {
   "cell_type": "markdown",
   "metadata": {},
   "source": [
    "### Looking at summary stats"
   ]
  },
  {
   "cell_type": "code",
   "execution_count": 6,
   "metadata": {},
   "outputs": [
    {
     "data": {
      "text/html": [
       "<div>\n",
       "<style scoped>\n",
       "    .dataframe tbody tr th:only-of-type {\n",
       "        vertical-align: middle;\n",
       "    }\n",
       "\n",
       "    .dataframe tbody tr th {\n",
       "        vertical-align: top;\n",
       "    }\n",
       "\n",
       "    .dataframe thead th {\n",
       "        text-align: right;\n",
       "    }\n",
       "</style>\n",
       "<table border=\"1\" class=\"dataframe\">\n",
       "  <thead>\n",
       "    <tr style=\"text-align: right;\">\n",
       "      <th></th>\n",
       "      <th>count</th>\n",
       "      <th>mean</th>\n",
       "      <th>std</th>\n",
       "      <th>min</th>\n",
       "      <th>25%</th>\n",
       "      <th>50%</th>\n",
       "      <th>75%</th>\n",
       "      <th>max</th>\n",
       "    </tr>\n",
       "  </thead>\n",
       "  <tbody>\n",
       "    <tr>\n",
       "      <th>W</th>\n",
       "      <td>5.0</td>\n",
       "      <td>0.343858</td>\n",
       "      <td>1.681131</td>\n",
       "      <td>-2.018168</td>\n",
       "      <td>0.188695</td>\n",
       "      <td>0.190794</td>\n",
       "      <td>0.651118</td>\n",
       "      <td>2.706850</td>\n",
       "    </tr>\n",
       "    <tr>\n",
       "      <th>X</th>\n",
       "      <td>5.0</td>\n",
       "      <td>0.453764</td>\n",
       "      <td>1.061385</td>\n",
       "      <td>-0.758872</td>\n",
       "      <td>-0.319318</td>\n",
       "      <td>0.628133</td>\n",
       "      <td>0.740122</td>\n",
       "      <td>1.978757</td>\n",
       "    </tr>\n",
       "    <tr>\n",
       "      <th>Y</th>\n",
       "      <td>5.0</td>\n",
       "      <td>0.452287</td>\n",
       "      <td>1.454516</td>\n",
       "      <td>-0.933237</td>\n",
       "      <td>-0.848077</td>\n",
       "      <td>0.528813</td>\n",
       "      <td>0.907969</td>\n",
       "      <td>2.605967</td>\n",
       "    </tr>\n",
       "    <tr>\n",
       "      <th>Z</th>\n",
       "      <td>5.0</td>\n",
       "      <td>0.431871</td>\n",
       "      <td>0.594708</td>\n",
       "      <td>-0.589001</td>\n",
       "      <td>0.503826</td>\n",
       "      <td>0.605965</td>\n",
       "      <td>0.683509</td>\n",
       "      <td>0.955057</td>\n",
       "    </tr>\n",
       "  </tbody>\n",
       "</table>\n",
       "</div>"
      ],
      "text/plain": [
       "   count      mean       std       min       25%       50%       75%       max\n",
       "W    5.0  0.343858  1.681131 -2.018168  0.188695  0.190794  0.651118  2.706850\n",
       "X    5.0  0.453764  1.061385 -0.758872 -0.319318  0.628133  0.740122  1.978757\n",
       "Y    5.0  0.452287  1.454516 -0.933237 -0.848077  0.528813  0.907969  2.605967\n",
       "Z    5.0  0.431871  0.594708 -0.589001  0.503826  0.605965  0.683509  0.955057"
      ]
     },
     "execution_count": 6,
     "metadata": {},
     "output_type": "execute_result"
    }
   ],
   "source": [
    "df_basic.describe().transpose()"
   ]
  },
  {
   "cell_type": "code",
   "execution_count": 7,
   "metadata": {},
   "outputs": [
    {
     "name": "stdout",
     "output_type": "stream",
     "text": [
      "<class 'pandas.core.frame.DataFrame'>\n",
      "Index: 5 entries, A to E\n",
      "Data columns (total 4 columns):\n",
      "W    5 non-null float64\n",
      "X    5 non-null float64\n",
      "Y    5 non-null float64\n",
      "Z    5 non-null float64\n",
      "dtypes: float64(4)\n",
      "memory usage: 200.0+ bytes\n"
     ]
    }
   ],
   "source": [
    "df_basic.info()"
   ]
  },
  {
   "cell_type": "markdown",
   "metadata": {},
   "source": [
    "## EDA - Selection\n",
    "\n",
    "### Conditional Selection"
   ]
  },
  {
   "cell_type": "code",
   "execution_count": 3,
   "metadata": {},
   "outputs": [
    {
     "data": {
      "text/html": [
       "<div>\n",
       "<style scoped>\n",
       "    .dataframe tbody tr th:only-of-type {\n",
       "        vertical-align: middle;\n",
       "    }\n",
       "\n",
       "    .dataframe tbody tr th {\n",
       "        vertical-align: top;\n",
       "    }\n",
       "\n",
       "    .dataframe thead th {\n",
       "        text-align: right;\n",
       "    }\n",
       "</style>\n",
       "<table border=\"1\" class=\"dataframe\">\n",
       "  <thead>\n",
       "    <tr style=\"text-align: right;\">\n",
       "      <th></th>\n",
       "      <th>W</th>\n",
       "      <th>X</th>\n",
       "      <th>Y</th>\n",
       "      <th>Z</th>\n",
       "    </tr>\n",
       "  </thead>\n",
       "  <tbody>\n",
       "    <tr>\n",
       "      <th>E</th>\n",
       "      <td>0.190794</td>\n",
       "      <td>1.978757</td>\n",
       "      <td>2.605967</td>\n",
       "      <td>0.683509</td>\n",
       "    </tr>\n",
       "  </tbody>\n",
       "</table>\n",
       "</div>"
      ],
      "text/plain": [
       "          W         X         Y         Z\n",
       "E  0.190794  1.978757  2.605967  0.683509"
      ]
     },
     "execution_count": 3,
     "metadata": {},
     "output_type": "execute_result"
    }
   ],
   "source": [
    "df_basic[(df_basic['W']>0) & (df_basic['Y'] > 1)]"
   ]
  },
  {
   "cell_type": "markdown",
   "metadata": {},
   "source": [
    "### Selecting specific data types from dataframe"
   ]
  },
  {
   "cell_type": "code",
   "execution_count": 5,
   "metadata": {},
   "outputs": [],
   "source": [
    "stack_numeric = stackOverflow.select_dtypes(include=['int','float'])"
   ]
  },
  {
   "cell_type": "code",
   "execution_count": 6,
   "metadata": {},
   "outputs": [
    {
     "data": {
      "text/html": [
       "<div>\n",
       "<style scoped>\n",
       "    .dataframe tbody tr th:only-of-type {\n",
       "        vertical-align: middle;\n",
       "    }\n",
       "\n",
       "    .dataframe tbody tr th {\n",
       "        vertical-align: top;\n",
       "    }\n",
       "\n",
       "    .dataframe thead th {\n",
       "        text-align: right;\n",
       "    }\n",
       "</style>\n",
       "<table border=\"1\" class=\"dataframe\">\n",
       "  <thead>\n",
       "    <tr style=\"text-align: right;\">\n",
       "      <th></th>\n",
       "      <th>ConvertedSalary</th>\n",
       "      <th>StackOverflowJobsRecommend</th>\n",
       "      <th>Age</th>\n",
       "      <th>Years Experience</th>\n",
       "    </tr>\n",
       "  </thead>\n",
       "  <tbody>\n",
       "    <tr>\n",
       "      <th>0</th>\n",
       "      <td>NaN</td>\n",
       "      <td>NaN</td>\n",
       "      <td>21</td>\n",
       "      <td>13</td>\n",
       "    </tr>\n",
       "    <tr>\n",
       "      <th>1</th>\n",
       "      <td>70841.0</td>\n",
       "      <td>7.0</td>\n",
       "      <td>38</td>\n",
       "      <td>9</td>\n",
       "    </tr>\n",
       "  </tbody>\n",
       "</table>\n",
       "</div>"
      ],
      "text/plain": [
       "   ConvertedSalary  StackOverflowJobsRecommend  Age  Years Experience\n",
       "0              NaN                         NaN   21                13\n",
       "1          70841.0                         7.0   38                 9"
      ]
     },
     "execution_count": 6,
     "metadata": {},
     "output_type": "execute_result"
    }
   ],
   "source": [
    "stack_numeric.head(2)"
   ]
  },
  {
   "cell_type": "markdown",
   "metadata": {},
   "source": [
    "## EDA - 2: DataFrame Aggregation + Getting sense of data"
   ]
  },
  {
   "cell_type": "markdown",
   "metadata": {},
   "source": [
    "### Sum of a col"
   ]
  },
  {
   "cell_type": "code",
   "execution_count": 8,
   "metadata": {},
   "outputs": [
    {
     "data": {
      "text/plain": [
       "10"
      ]
     },
     "execution_count": 8,
     "metadata": {},
     "output_type": "execute_result"
    }
   ],
   "source": [
    "df_op['col1'].sum()\n",
    "# You can perform multiple operations on a column: unique, nunique, value_counts(), sort_values, isnull, dropna,fillna"
   ]
  },
  {
   "cell_type": "markdown",
   "metadata": {},
   "source": [
    "### Unique values for a given column"
   ]
  },
  {
   "cell_type": "code",
   "execution_count": 9,
   "metadata": {},
   "outputs": [
    {
     "data": {
      "text/plain": [
       "4    1\n",
       "3    1\n",
       "2    1\n",
       "1    1\n",
       "Name: col1, dtype: int64"
      ]
     },
     "execution_count": 9,
     "metadata": {},
     "output_type": "execute_result"
    }
   ],
   "source": [
    "df_op['col1'].value_counts()"
   ]
  },
  {
   "cell_type": "markdown",
   "metadata": {},
   "source": [
    "## Data Cleaning\n",
    "### Treating NAs"
   ]
  },
  {
   "cell_type": "markdown",
   "metadata": {},
   "source": [
    "#### Dropping na"
   ]
  },
  {
   "cell_type": "code",
   "execution_count": 4,
   "metadata": {},
   "outputs": [
    {
     "data": {
      "text/html": [
       "<div>\n",
       "<style scoped>\n",
       "    .dataframe tbody tr th:only-of-type {\n",
       "        vertical-align: middle;\n",
       "    }\n",
       "\n",
       "    .dataframe tbody tr th {\n",
       "        vertical-align: top;\n",
       "    }\n",
       "\n",
       "    .dataframe thead th {\n",
       "        text-align: right;\n",
       "    }\n",
       "</style>\n",
       "<table border=\"1\" class=\"dataframe\">\n",
       "  <thead>\n",
       "    <tr style=\"text-align: right;\">\n",
       "      <th></th>\n",
       "      <th>C</th>\n",
       "    </tr>\n",
       "  </thead>\n",
       "  <tbody>\n",
       "    <tr>\n",
       "      <th>0</th>\n",
       "      <td>1</td>\n",
       "    </tr>\n",
       "    <tr>\n",
       "      <th>1</th>\n",
       "      <td>2</td>\n",
       "    </tr>\n",
       "    <tr>\n",
       "      <th>2</th>\n",
       "      <td>3</td>\n",
       "    </tr>\n",
       "  </tbody>\n",
       "</table>\n",
       "</div>"
      ],
      "text/plain": [
       "   C\n",
       "0  1\n",
       "1  2\n",
       "2  3"
      ]
     },
     "execution_count": 4,
     "metadata": {},
     "output_type": "execute_result"
    }
   ],
   "source": [
    "df_miss.dropna(axis=1)"
   ]
  },
  {
   "cell_type": "markdown",
   "metadata": {},
   "source": [
    "#### Replacing NA values"
   ]
  },
  {
   "cell_type": "code",
   "execution_count": 21,
   "metadata": {},
   "outputs": [
    {
     "data": {
      "text/plain": [
       "0    1.0\n",
       "1    2.0\n",
       "2    1.5\n",
       "Name: A, dtype: float64"
      ]
     },
     "execution_count": 21,
     "metadata": {},
     "output_type": "execute_result"
    }
   ],
   "source": [
    "df_miss['A'].fillna(value=df_miss['A'].mean())"
   ]
  },
  {
   "cell_type": "markdown",
   "metadata": {},
   "source": [
    "### Eliminating loops - using Zip + Map"
   ]
  },
  {
   "cell_type": "code",
   "execution_count": 7,
   "metadata": {},
   "outputs": [],
   "source": [
    "poke_names = ['Abomasnow', 'Abra', 'Absol', 'Accelgor', 'Aerodactyl', 'Aggron', 'Aipom', 'Alakazam', 'Alomomola', 'Altaria', 'Amaura', 'Ambipom', 'Amoonguss', 'Ampharos', 'Anorith', 'Arbok', 'Arcanine', 'Arceus', 'Archen', 'Archeops', 'Ariados', 'Armaldo', 'Aromatisse', 'Aron', 'Articuno', 'Audino', 'Aurorus', 'Avalugg', 'Axew', 'Azelf', 'Azumarill', 'Azurill', 'Bagon', 'Baltoy', 'Banette', 'Barbaracle', 'Barboach', 'Basculin', 'Bastiodon', 'Bayleef', 'Beartic', 'Beautifly', 'Beedrill', 'Beheeyem', 'Beldum', 'Bellossom', 'Bellsprout', 'Bergmite', 'Bibarel', 'Bidoof', 'Binacle', 'Bisharp', 'Blastoise', 'Blaziken', 'Blissey', 'Blitzle', 'Boldore', 'Bonsly', 'Bouffalant', 'Braixen', 'Braviary', 'Breloom', 'Bronzong', 'Bronzor', 'Budew', 'Buizel', 'Bulbasaur', 'Buneary', 'Bunnelby', 'Burmy', 'Butterfree', 'Cacnea', 'Cacturne', 'Camerupt', 'Carbink', 'Carnivine', 'Carracosta', 'Carvanha', 'Cascoon', 'Castform', 'Caterpie', 'Celebi', 'Chandelure', 'Chansey', 'Charizard', 'Charmander', 'Charmeleon', 'Chatot', 'Cherrim', 'Cherubi', 'Chesnaught', 'Chespin', 'Chikorita', 'Chimchar', 'Chimecho', 'Chinchou', 'Chingling', 'Cinccino', 'Clamperl', 'Clauncher', 'Clawitzer', 'Claydol', 'Clefable', 'Clefairy', 'Cleffa', 'Cloyster', 'Cobalion', 'Cofagrigus', 'Combee', 'Combusken', 'Conkeldurr', 'Corphish', 'Corsola', 'Cottonee', 'Cradily', 'Cranidos', 'Crawdaunt', 'Cresselia', 'Croagunk', 'Crobat', 'Croconaw', 'Crustle', 'Cryogonal', 'Cubchoo', 'Cubone', 'Cyndaquil', 'Darkrai', 'DarmanitanStandard Mode', 'DarmanitanZen Mode', 'Darumaka', 'Dedenne', 'Deerling', 'Deino', 'Delcatty', 'Delibird', 'Delphox', 'Dewgong', 'Dewott', 'Dialga', 'Diancie', 'Diggersby', 'Diglett', 'Ditto', 'Dodrio', 'Doduo', 'Donphan', 'Doublade', 'Dragalge', 'Dragonair', 'Dragonite', 'Drapion', 'Dratini', 'Drifblim', 'Drifloon', 'Drilbur', 'Drowzee', 'Druddigon', 'Ducklett', 'Dugtrio', 'Dunsparce', 'Duosion', 'Durant', 'Dusclops', 'Dusknoir', 'Duskull', 'Dustox', 'Dwebble', 'Eelektrik', 'Eelektross', 'Eevee', 'Ekans', 'Electabuzz', 'Electivire', 'Electrike', 'Electrode', 'Elekid', 'Elgyem', 'Emboar', 'Emolga', 'Empoleon', 'Entei', 'Escavalier', 'Espeon', 'Espurr', 'Excadrill', 'Exeggcute', 'Exeggutor', 'Exploud', \"Farfetch'd\", 'Fearow', 'Feebas', 'Fennekin', 'Feraligatr', 'Ferroseed', 'Ferrothorn', 'Finneon', 'Flaaffy', 'Flabébé', 'Flareon', 'Fletchinder', 'Fletchling', 'Floatzel', 'Floette', 'Florges', 'Flygon', 'Foongus', 'Forretress', 'Fraxure', 'Frillish', 'Froakie', 'Frogadier', 'Froslass', 'Furfrou', 'Furret', 'Gabite', 'Gallade', 'Galvantula', 'Garbodor', 'Garchomp', 'Gardevoir', 'Gastly', 'Gastrodon', 'Genesect', 'Gengar', 'Geodude', 'Gible', 'Gigalith', 'Girafarig', 'Glaceon', 'Glalie', 'Glameow', 'Gligar', 'Gliscor', 'Gloom', 'Gogoat', 'Golbat', 'Goldeen', 'Golduck', 'Golem', 'Golett', 'Golurk', 'Goodra', 'Goomy', 'Gorebyss', 'Gothita', 'Gothitelle', 'Gothorita', 'Granbull', 'Graveler', 'Greninja', 'Grimer', 'Grotle', 'Groudon', 'GroudonPrimal Groudon', 'Grovyle', 'Growlithe', 'Grumpig', 'Gulpin', 'Gurdurr', 'Gyarados', 'Happiny', 'Hariyama', 'Haunter', 'Hawlucha', 'Haxorus', 'Heatmor', 'Heatran', 'Heliolisk', 'Helioptile', 'Heracross', 'Herdier', 'Hippopotas', 'Hippowdon', 'Hitmonchan', 'Hitmonlee', 'Hitmontop', 'Ho-oh', 'Honchkrow', 'Honedge', 'Hoothoot', 'Hoppip', 'Horsea', 'Houndoom', 'Houndour', 'Huntail', 'Hydreigon', 'Hypno', 'Igglybuff', 'Illumise', 'Infernape', 'Inkay', 'Ivysaur', 'Jellicent', 'Jigglypuff', 'Jirachi', 'Jolteon', 'Joltik', 'Jumpluff', 'Jynx', 'Kabuto', 'Kabutops', 'Kadabra', 'Kakuna', 'Kangaskhan', 'Karrablast', 'Kecleon', 'Kingdra', 'Kingler', 'Kirlia', 'Klang', 'Klefki', 'Klink', 'Klinklang', 'Koffing', 'Krabby', 'Kricketot', 'Kricketune', 'Krokorok', 'Krookodile', 'Kyogre', 'KyogrePrimal Kyogre', 'Kyurem', 'KyuremBlack Kyurem', 'KyuremWhite Kyurem', 'Lairon', 'Lampent', 'Lanturn', 'Lapras', 'Larvesta', 'Larvitar', 'Latias', 'Latios', 'Leafeon', 'Leavanny', 'Ledian', 'Ledyba', 'Lickilicky', 'Lickitung', 'Liepard', 'Lileep', 'Lilligant', 'Lillipup', 'Linoone', 'Litleo', 'Litwick', 'Lombre', 'Lopunny', 'Lotad', 'Loudred', 'Lucario', 'Ludicolo', 'Lugia', 'Lumineon', 'Lunatone', 'Luvdisc', 'Luxio', 'Luxray', 'Machamp', 'Machoke', 'Machop', 'Magby', 'Magcargo', 'Magikarp', 'Magmar', 'Magmortar', 'Magnemite', 'Magneton', 'Magnezone', 'Makuhita', 'Malamar', 'Mamoswine', 'Manaphy', 'Mandibuzz', 'Manectric', 'Mankey', 'Mantine', 'Mantyke', 'Maractus', 'Mareep', 'Marill', 'Marowak', 'Marshtomp', 'Masquerain', 'Mawile', 'Medicham', 'Meditite', 'MeowsticFemale', 'MeowsticMale', 'Meowth', 'Mesprit', 'Metagross', 'Metang', 'Metapod', 'Mew', 'Mewtwo', 'Mienfoo', 'Mienshao', 'Mightyena', 'Milotic', 'Miltank', 'Mime Jr.', 'Minccino', 'Minun', 'Misdreavus', 'Mismagius', 'Moltres', 'Monferno', 'Mothim', 'Mr. Mime', 'Mudkip', 'Muk', 'Munchlax', 'Munna', 'Murkrow', 'Musharna', 'Natu', 'Nidoking', 'Nidoqueen', 'Nidoran♀', 'Nidoran♂', 'Nidorina', 'Nidorino', 'Nincada', 'Ninetales', 'Ninjask', 'Noctowl', 'Noibat', 'Noivern', 'Nosepass', 'Numel', 'Nuzleaf', 'Octillery', 'Oddish', 'Omanyte', 'Omastar', 'Onix', 'Oshawott', 'Pachirisu', 'Palkia', 'Palpitoad', 'Pancham', 'Pangoro', 'Panpour', 'Pansage', 'Pansear', 'Paras', 'Parasect', 'Patrat', 'Pawniard', 'Pelipper', 'Persian', 'Petilil', 'Phanpy', 'Phantump', 'Phione', 'Pichu', 'Pidgeot', 'Pidgeotto', 'Pidgey', 'Pidove', 'Pignite', 'Pikachu', 'Piloswine', 'Pineco', 'Pinsir', 'Piplup', 'Plusle', 'Politoed', 'Poliwag', 'Poliwhirl', 'Poliwrath', 'Ponyta', 'Poochyena', 'Porygon', 'Porygon-Z', 'Porygon2', 'Primeape', 'Prinplup', 'Probopass', 'Psyduck', 'Pupitar', 'Purrloin', 'Purugly', 'Pyroar', 'Quagsire', 'Quilava', 'Quilladin', 'Qwilfish', 'Raichu', 'Raikou', 'Ralts', 'Rampardos', 'Rapidash', 'Raticate', 'Rattata', 'Rayquaza', 'Regice', 'Regigigas', 'Regirock', 'Registeel', 'Relicanth', 'Remoraid', 'Reshiram', 'Reuniclus', 'Rhydon', 'Rhyhorn', 'Rhyperior', 'Riolu', 'Roggenrola', 'Roselia', 'Roserade', 'Rotom', 'RotomFan Rotom', 'RotomFrost Rotom', 'RotomHeat Rotom', 'RotomMow Rotom', 'RotomWash Rotom', 'Rufflet', 'Sableye', 'Salamence', 'Samurott', 'Sandile', 'Sandshrew', 'Sandslash', 'Sawk', 'Sawsbuck', 'Scatterbug', 'Sceptile', 'Scizor', 'Scolipede', 'Scrafty', 'Scraggy', 'Scyther', 'Seadra', 'Seaking', 'Sealeo', 'Seedot', 'Seel', 'Seismitoad', 'Sentret', 'Serperior', 'Servine', 'Seviper', 'Sewaddle', 'Sharpedo', 'Shedinja', 'Shelgon', 'Shellder', 'Shellos', 'Shelmet', 'Shieldon', 'Shiftry', 'Shinx', 'Shroomish', 'Shuckle', 'Shuppet', 'Sigilyph', 'Silcoon', 'Simipour', 'Simisage', 'Simisear', 'Skarmory', 'Skiddo', 'Skiploom', 'Skitty', 'Skorupi', 'Skrelp', 'Skuntank', 'Slaking', 'Slakoth', 'Sliggoo', 'Slowbro', 'Slowking', 'Slowpoke', 'Slugma', 'Slurpuff', 'Smeargle', 'Smoochum', 'Sneasel', 'Snivy', 'Snorlax', 'Snorunt', 'Snover', 'Snubbull', 'Solosis', 'Solrock', 'Spearow', 'Spewpa', 'Spheal', 'Spinarak', 'Spinda', 'Spiritomb', 'Spoink', 'Spritzee', 'Squirtle', 'Stantler', 'Staraptor', 'Staravia', 'Starly', 'Starmie', 'Staryu', 'Steelix', 'Stoutland', 'Stunfisk', 'Stunky', 'Sudowoodo', 'Suicune', 'Sunflora', 'Sunkern', 'Surskit', 'Swablu', 'Swadloon', 'Swalot', 'Swampert', 'Swanna', 'Swellow', 'Swinub', 'Swirlix', 'Swoobat', 'Sylveon', 'Taillow', 'Talonflame', 'Tangela', 'Tangrowth', 'Tauros', 'Teddiursa', 'Tentacool', 'Tentacruel', 'Tepig', 'Terrakion', 'Throh', 'Timburr', 'Tirtouga', 'Togekiss', 'Togepi', 'Togetic', 'Torchic', 'Torkoal', 'Torterra', 'Totodile', 'Toxicroak', 'Tranquill', 'Trapinch', 'Treecko', 'Trevenant', 'Tropius', 'Trubbish', 'Turtwig', 'Tympole', 'Tynamo', 'Typhlosion', 'Tyranitar', 'Tyrantrum', 'Tyrogue', 'Tyrunt', 'Umbreon', 'Unfezant', 'Unown', 'Ursaring', 'Uxie', 'Vanillish', 'Vanillite', 'Vanilluxe', 'Vaporeon', 'Venipede', 'Venomoth', 'Venonat', 'Venusaur', 'Vespiquen', 'Vibrava', 'Victini', 'Victreebel', 'Vigoroth', 'Vileplume', 'Virizion', 'Vivillon', 'Volbeat', 'Volcanion', 'Volcarona', 'Voltorb', 'Vullaby', 'Vulpix', 'Wailmer', 'Wailord', 'Walrein', 'Wartortle', 'Watchog', 'Weavile', 'Weedle', 'Weepinbell', 'Weezing', 'Whimsicott', 'Whirlipede', 'Whiscash', 'Whismur', 'Wigglytuff', 'Wingull', 'Wobbuffet', 'Woobat', 'Wooper', 'WormadamPlant Cloak', 'WormadamSandy Cloak', 'WormadamTrash Cloak', 'Wurmple', 'Wynaut', 'Xatu', 'Xerneas', 'Yamask', 'Yanma', 'Yanmega', 'Yveltal', 'Zangoose', 'Zapdos', 'Zebstrika', 'Zekrom', 'Zigzagoon', 'Zoroark', 'Zorua', 'Zubat', 'Zweilous']\n",
    "poke_gens = [4, 1, 3, 5, 1, 3, 2, 1, 5, 3, 6, 4, 5, 2, 3, 1, 1, 4, 5, 5, 2, 3, 6, 3, 1, 5, 6, 6, 5, 4, 2, 3, 3, 3, 3, 6, 3, 5, 4, 2, 5, 3, 1, 5, 3, 2, 1, 6, 4, 4, 6, 5, 1, 3, 2, 5, 5, 4, 5, 6, 5, 3, 4, 4, 4, 4, 1, 4, 6, 4, 1, 3, 3, 3, 6, 4, 5, 3, 3, 3, 1, 2, 5, 1, 1, 1, 1, 4, 4, 4, 6, 6, 2, 4, 3, 2, 4, 5, 3, 6, 6, 3, 1, 1, 2, 1, 5, 5, 4, 3, 5, 3, 2, 5, 3, 4, 3, 4, 4, 2, 2, 5, 5, 5, 1, 2, 4, 5, 5, 5, 6, 5, 5, 3, 2, 6, 1, 5, 4, 6, 6, 1, 1, 1, 1, 2, 6, 6, 1, 1, 4, 1, 4, 4, 5, 1, 5, 5, 1, 2, 5, 5, 3, 4, 3, 3, 5, 5, 5, 1, 1, 1, 4, 3, 1, 2, 5, 5, 5, 4, 2, 5, 2, 6, 5, 1, 1, 3, 1, 1, 3, 6, 2, 5, 5, 4, 2, 6, 1, 6, 6, 4, 6, 6, 3, 5, 2, 5, 5, 6, 6, 4, 6, 2, 4, 4, 5, 5, 4, 3, 1, 4, 5, 1, 1, 4, 5, 2, 4, 3, 4, 2, 4, 1, 6, 1, 1, 1, 1, 5, 5, 6, 6, 3, 5, 5, 5, 2, 1, 6, 1, 4, 3, 3, 3, 1, 3, 3, 5, 1, 4, 3, 1, 6, 5, 5, 4, 6, 6, 2, 5, 4, 4, 1, 1, 2, 2, 4, 6, 2, 2, 1, 2, 2, 3, 5, 1, 2, 3, 4, 6, 1, 5, 1, 3, 1, 5, 2, 1, 1, 1, 1, 1, 1, 5, 3, 2, 1, 3, 5, 6, 5, 5, 1, 1, 4, 4, 5, 5, 3, 3, 5, 5, 5, 3, 5, 2, 1, 5, 2, 3, 3, 4, 5, 2, 2, 4, 1, 5, 3, 5, 5, 3, 6, 5, 3, 4, 3, 3, 4, 3, 2, 4, 3, 3, 4, 4, 1, 1, 1, 2, 2, 1, 1, 4, 1, 1, 4, 3, 6, 4, 4, 5, 3, 1, 2, 4, 5, 2, 2, 1, 3, 3, 3, 3, 3, 6, 6, 1, 4, 3, 3, 1, 1, 1, 5, 5, 3, 3, 2, 4, 5, 3, 2, 4, 1, 4, 4, 1, 3, 1, 4, 5, 2, 5, 2, 1, 1, 1, 1, 1, 1, 3, 1, 3, 2, 6, 6, 3, 3, 3, 2, 1, 1, 1, 1, 5, 4, 4, 5, 6, 6, 5, 5, 5, 1, 1, 5, 5, 3, 1, 5, 2, 6, 4, 2, 1, 1, 1, 5, 5, 1, 2, 2, 1, 4, 3, 2, 1, 1, 1, 1, 3, 1, 4, 2, 1, 4, 4, 1, 2, 5, 4, 6, 2, 2, 6, 2, 1, 2, 3, 4, 1, 1, 1, 3, 3, 4, 3, 3, 3, 2, 5, 5, 1, 1, 4, 4, 5, 3, 4, 4, 4, 4, 4, 4, 4, 5, 3, 3, 5, 5, 1, 1, 5, 5, 6, 3, 2, 5, 5, 5, 1, 1, 1, 3, 3, 1, 5, 2, 5, 5, 3, 5, 3, 3, 3, 1, 4, 5, 4, 3, 4, 3, 2, 3, 5, 3, 5, 5, 5, 2, 6, 2, 3, 4, 6, 4, 3, 3, 6, 1, 2, 1, 2, 6, 2, 2, 2, 5, 1, 3, 4, 2, 5, 3, 1, 6, 3, 2, 3, 4, 3, 6, 1, 2, 4, 4, 4, 1, 1, 2, 5, 5, 4, 2, 2, 2, 2, 3, 3, 5, 3, 3, 5, 3, 2, 6, 5, 6, 3, 6, 1, 4, 1, 2, 1, 1, 5, 5, 5, 5, 5, 4, 2, 2, 3, 3, 4, 2, 4, 5, 3, 3, 6, 3, 5, 4, 5, 5, 2, 2, 6, 2, 6, 2, 5, 2, 2, 4, 5, 5, 5, 1, 5, 1, 1, 1, 4, 3, 5, 1, 3, 1, 5, 6, 3, 6, 5, 1, 5, 1, 3, 3, 3, 1, 5, 4, 1, 1, 1, 5, 5, 3, 3, 1, 3, 2, 5, 2, 4, 4, 4, 3, 3, 2, 6, 5, 2, 4, 6, 3, 1, 5, 5, 3, 5, 5, 1, 5]\n"
   ]
  },
  {
   "cell_type": "code",
   "execution_count": 10,
   "metadata": {},
   "outputs": [
    {
     "name": "stdout",
     "output_type": "stream",
     "text": [
      "[('Abra', 4), ('Aerodactyl', 10), ('Aipom', 5), ('Alakazam', 8), ('Ampharos', 8)]\n"
     ]
    }
   ],
   "source": [
    "# Collect Pokémon that belong to generation 1 or generation 2\n",
    "gen1_gen2_pokemon = [name for name,gen in zip(poke_names, poke_gens) if gen < 3]\n",
    "\n",
    "# Create a map object that stores the name lengths\n",
    "name_lengths_map = map(len, gen1_gen2_pokemon)\n",
    "\n",
    "# Combine gen1_gen2_pokemon and name_lengths_map into a list\n",
    "gen1_gen2_name_lengths = [*zip(gen1_gen2_pokemon, name_lengths_map)]\n",
    "\n",
    "print(gen1_gen2_name_lengths[:5])"
   ]
  },
  {
   "cell_type": "markdown",
   "metadata": {},
   "source": [
    "### Total and Averages w/o loops - Using Zip + Lambda + Sorted"
   ]
  },
  {
   "cell_type": "code",
   "execution_count": 11,
   "metadata": {},
   "outputs": [],
   "source": [
    "names = ['Abomasnow', 'Abra', 'Absol', 'Accelgor', 'Aerodactyl', 'Aggron', 'Aipom', 'Alakazam', 'Alomomola', 'Altaria', 'Amaura', 'Ambipom', 'Amoonguss', 'Ampharos', 'Anorith', 'Arbok', 'Arcanine', 'Arceus', 'Archen', 'Archeops', 'Ariados', 'Armaldo', 'Aromatisse', 'Aron', 'Articuno', 'Audino', 'Aurorus', 'Avalugg', 'Axew', 'Azelf', 'Azumarill', 'Azurill', 'Bagon', 'Baltoy', 'Banette', 'Barbaracle', 'Barboach', 'Basculin', 'Bastiodon', 'Bayleef', 'Beartic', 'Beautifly', 'Beedrill', 'Beheeyem', 'Beldum', 'Bellossom', 'Bellsprout', 'Bergmite', 'Bibarel', 'Bidoof', 'Binacle', 'Bisharp', 'Blastoise', 'Blaziken', 'Blissey', 'Blitzle', 'Boldore', 'Bonsly', 'Bouffalant', 'Braixen', 'Braviary', 'Breloom', 'Bronzong', 'Bronzor', 'Budew', 'Buizel', 'Bulbasaur', 'Buneary', 'Bunnelby', 'Burmy', 'Butterfree', 'Cacnea', 'Cacturne', 'Camerupt', 'Carbink', 'Carnivine', 'Carracosta', 'Carvanha', 'Cascoon', 'Castform', 'Caterpie', 'Celebi', 'Chandelure', 'Chansey', 'Charizard', 'Charmander', 'Charmeleon', 'Chatot', 'Cherrim', 'Cherubi', 'Chesnaught', 'Chespin', 'Chikorita', 'Chimchar', 'Chimecho', 'Chinchou', 'Chingling', 'Cinccino', 'Clamperl', 'Clauncher', 'Clawitzer', 'Claydol', 'Clefable', 'Clefairy', 'Cleffa', 'Cloyster', 'Cobalion', 'Cofagrigus', 'Combee', 'Combusken', 'Conkeldurr', 'Corphish', 'Corsola', 'Cottonee', 'Cradily', 'Cranidos', 'Crawdaunt', 'Cresselia', 'Croagunk', 'Crobat', 'Croconaw', 'Crustle', 'Cryogonal', 'Cubchoo', 'Cubone', 'Cyndaquil', 'Darkrai', 'DarmanitanStandard Mode', 'DarmanitanZen Mode', 'Darumaka', 'Dedenne', 'Deerling', 'Deino', 'Delcatty', 'Delibird', 'Delphox', 'Dewgong', 'Dewott', 'Dialga', 'Diancie', 'Diggersby', 'Diglett', 'Ditto', 'Dodrio', 'Doduo', 'Donphan', 'Doublade', 'Dragalge', 'Dragonair', 'Dragonite', 'Drapion', 'Dratini', 'Drifblim', 'Drifloon', 'Drilbur', 'Drowzee', 'Druddigon', 'Ducklett', 'Dugtrio', 'Dunsparce', 'Duosion', 'Durant', 'Dusclops', 'Dusknoir', 'Duskull', 'Dustox', 'Dwebble', 'Eelektrik', 'Eelektross', 'Eevee', 'Ekans', 'Electabuzz', 'Electivire', 'Electrike', 'Electrode', 'Elekid', 'Elgyem', 'Emboar', 'Emolga', 'Empoleon', 'Entei', 'Escavalier', 'Espeon', 'Espurr', 'Excadrill', 'Exeggcute', 'Exeggutor', 'Exploud', \"Farfetch'd\", 'Fearow', 'Feebas', 'Fennekin', 'Feraligatr', 'Ferroseed', 'Ferrothorn', 'Finneon', 'Flaaffy', 'Flabébé', 'Flareon', 'Fletchinder', 'Fletchling', 'Floatzel', 'Floette', 'Florges', 'Flygon', 'Foongus', 'Forretress', 'Fraxure', 'Frillish', 'Froakie', 'Frogadier', 'Froslass', 'Furfrou', 'Furret', 'Gabite', 'Gallade', 'Galvantula', 'Garbodor', 'Garchomp', 'Gardevoir', 'Gastly', 'Gastrodon', 'Genesect', 'Gengar', 'Geodude', 'Gible', 'Gigalith', 'Girafarig', 'Glaceon', 'Glalie', 'Glameow', 'Gligar', 'Gliscor', 'Gloom', 'Gogoat', 'Golbat', 'Goldeen', 'Golduck', 'Golem', 'Golett', 'Golurk', 'Goodra', 'Goomy', 'Gorebyss', 'Gothita', 'Gothitelle', 'Gothorita', 'Granbull', 'Graveler', 'Greninja', 'Grimer', 'Grotle', 'Groudon', 'GroudonPrimal Groudon', 'Grovyle', 'Growlithe', 'Grumpig', 'Gulpin', 'Gurdurr', 'Gyarados', 'Happiny', 'Hariyama', 'Haunter', 'Hawlucha', 'Haxorus', 'Heatmor', 'Heatran', 'Heliolisk', 'Helioptile', 'Heracross', 'Herdier', 'Hippopotas', 'Hippowdon', 'Hitmonchan', 'Hitmonlee', 'Hitmontop', 'Ho-oh', 'Honchkrow', 'Honedge', 'Hoothoot', 'Hoppip', 'Horsea', 'Houndoom', 'Houndour', 'Huntail', 'Hydreigon', 'Hypno', 'Igglybuff', 'Illumise', 'Infernape', 'Inkay', 'Ivysaur', 'Jellicent', 'Jigglypuff', 'Jirachi', 'Jolteon', 'Joltik', 'Jumpluff', 'Jynx', 'Kabuto', 'Kabutops', 'Kadabra', 'Kakuna', 'Kangaskhan', 'Karrablast', 'Kecleon', 'Kingdra', 'Kingler', 'Kirlia', 'Klang', 'Klefki', 'Klink', 'Klinklang', 'Koffing', 'Krabby', 'Kricketot', 'Kricketune', 'Krokorok', 'Krookodile', 'Kyogre', 'KyogrePrimal Kyogre', 'Kyurem', 'KyuremBlack Kyurem', 'KyuremWhite Kyurem', 'Lairon', 'Lampent', 'Lanturn', 'Lapras', 'Larvesta', 'Larvitar', 'Latias', 'Latios', 'Leafeon', 'Leavanny', 'Ledian', 'Ledyba', 'Lickilicky', 'Lickitung', 'Liepard', 'Lileep', 'Lilligant', 'Lillipup', 'Linoone', 'Litleo', 'Litwick', 'Lombre', 'Lopunny', 'Lotad', 'Loudred', 'Lucario', 'Ludicolo', 'Lugia', 'Lumineon', 'Lunatone', 'Luvdisc', 'Luxio', 'Luxray', 'Machamp', 'Machoke', 'Machop', 'Magby', 'Magcargo', 'Magikarp', 'Magmar', 'Magmortar', 'Magnemite', 'Magneton', 'Magnezone', 'Makuhita', 'Malamar', 'Mamoswine', 'Manaphy', 'Mandibuzz', 'Manectric', 'Mankey', 'Mantine', 'Mantyke', 'Maractus', 'Mareep', 'Marill', 'Marowak', 'Marshtomp', 'Masquerain', 'Mawile', 'Medicham', 'Meditite', 'MeowsticFemale', 'MeowsticMale', 'Meowth', 'Mesprit', 'Metagross', 'Metang', 'Metapod', 'Mew', 'Mewtwo', 'Mienfoo', 'Mienshao', 'Mightyena', 'Milotic', 'Miltank', 'Mime Jr.', 'Minccino', 'Minun', 'Misdreavus', 'Mismagius', 'Moltres', 'Monferno', 'Mothim', 'Mr. Mime', 'Mudkip', 'Muk', 'Munchlax', 'Munna', 'Murkrow', 'Musharna', 'Natu', 'Nidoking', 'Nidoqueen', 'Nidoran♀', 'Nidoran♂', 'Nidorina', 'Nidorino', 'Nincada', 'Ninetales', 'Ninjask', 'Noctowl', 'Noibat', 'Noivern', 'Nosepass', 'Numel', 'Nuzleaf', 'Octillery', 'Oddish', 'Omanyte', 'Omastar', 'Onix', 'Oshawott', 'Pachirisu', 'Palkia', 'Palpitoad', 'Pancham', 'Pangoro', 'Panpour', 'Pansage', 'Pansear', 'Paras', 'Parasect', 'Patrat', 'Pawniard', 'Pelipper', 'Persian', 'Petilil', 'Phanpy', 'Phantump', 'Phione', 'Pichu', 'Pidgeot', 'Pidgeotto', 'Pidgey', 'Pidove', 'Pignite', 'Pikachu', 'Piloswine', 'Pineco', 'Pinsir', 'Piplup', 'Plusle', 'Politoed', 'Poliwag', 'Poliwhirl', 'Poliwrath', 'Ponyta', 'Poochyena', 'Porygon', 'Porygon-Z', 'Porygon2', 'Primeape', 'Prinplup', 'Probopass', 'Psyduck', 'Pupitar', 'Purrloin', 'Purugly', 'Pyroar', 'Quagsire', 'Quilava', 'Quilladin', 'Qwilfish', 'Raichu', 'Raikou', 'Ralts', 'Rampardos', 'Rapidash', 'Raticate', 'Rattata', 'Rayquaza', 'Regice', 'Regigigas', 'Regirock', 'Registeel', 'Relicanth', 'Remoraid', 'Reshiram', 'Reuniclus', 'Rhydon', 'Rhyhorn', 'Rhyperior', 'Riolu', 'Roggenrola', 'Roselia', 'Roserade', 'Rotom', 'RotomFan Rotom', 'RotomFrost Rotom', 'RotomHeat Rotom', 'RotomMow Rotom', 'RotomWash Rotom', 'Rufflet', 'Sableye', 'Salamence', 'Samurott', 'Sandile', 'Sandshrew', 'Sandslash', 'Sawk', 'Sawsbuck', 'Scatterbug', 'Sceptile', 'Scizor', 'Scolipede', 'Scrafty', 'Scraggy', 'Scyther', 'Seadra', 'Seaking', 'Sealeo', 'Seedot', 'Seel', 'Seismitoad', 'Sentret', 'Serperior', 'Servine', 'Seviper', 'Sewaddle', 'Sharpedo', 'Shedinja', 'Shelgon', 'Shellder', 'Shellos', 'Shelmet', 'Shieldon', 'Shiftry', 'Shinx', 'Shroomish', 'Shuckle', 'Shuppet', 'Sigilyph', 'Silcoon', 'Simipour', 'Simisage', 'Simisear', 'Skarmory', 'Skiddo', 'Skiploom', 'Skitty', 'Skorupi', 'Skrelp', 'Skuntank', 'Slaking', 'Slakoth', 'Sliggoo', 'Slowbro', 'Slowking', 'Slowpoke', 'Slugma', 'Slurpuff', 'Smeargle', 'Smoochum', 'Sneasel', 'Snivy', 'Snorlax', 'Snorunt', 'Snover', 'Snubbull', 'Solosis', 'Solrock', 'Spearow', 'Spewpa', 'Spheal', 'Spinarak', 'Spinda', 'Spiritomb', 'Spoink', 'Spritzee', 'Squirtle', 'Stantler', 'Staraptor', 'Staravia', 'Starly', 'Starmie', 'Staryu', 'Steelix', 'Stoutland', 'Stunfisk', 'Stunky', 'Sudowoodo', 'Suicune', 'Sunflora', 'Sunkern', 'Surskit', 'Swablu', 'Swadloon', 'Swalot', 'Swampert', 'Swanna', 'Swellow', 'Swinub', 'Swirlix', 'Swoobat', 'Sylveon', 'Taillow', 'Talonflame', 'Tangela', 'Tangrowth', 'Tauros', 'Teddiursa', 'Tentacool', 'Tentacruel', 'Tepig', 'Terrakion', 'Throh', 'Timburr', 'Tirtouga', 'Togekiss', 'Togepi', 'Togetic', 'Torchic', 'Torkoal', 'Torterra', 'Totodile', 'Toxicroak', 'Tranquill', 'Trapinch', 'Treecko', 'Trevenant', 'Tropius', 'Trubbish', 'Turtwig', 'Tympole', 'Tynamo', 'Typhlosion', 'Tyranitar', 'Tyrantrum', 'Tyrogue', 'Tyrunt', 'Umbreon', 'Unfezant', 'Unown', 'Ursaring', 'Uxie', 'Vanillish', 'Vanillite', 'Vanilluxe', 'Vaporeon', 'Venipede', 'Venomoth', 'Venonat', 'Venusaur', 'Vespiquen', 'Vibrava', 'Victini', 'Victreebel', 'Vigoroth', 'Vileplume', 'Virizion', 'Vivillon', 'Volbeat', 'Volcanion', 'Volcarona', 'Voltorb', 'Vullaby', 'Vulpix', 'Wailmer', 'Wailord', 'Walrein', 'Wartortle', 'Watchog', 'Weavile', 'Weedle', 'Weepinbell', 'Weezing', 'Whimsicott', 'Whirlipede', 'Whiscash', 'Whismur', 'Wigglytuff', 'Wingull', 'Wobbuffet', 'Woobat', 'Wooper', 'WormadamPlant Cloak', 'WormadamSandy Cloak', 'WormadamTrash Cloak', 'Wurmple', 'Wynaut', 'Xatu', 'Xerneas', 'Yamask', 'Yanma', 'Yanmega', 'Yveltal', 'Zangoose', 'Zapdos', 'Zebstrika', 'Zekrom', 'Zigzagoon', 'Zoroark', 'Zorua', 'Zubat', 'Zweilous']\n",
    "stats = np.array([[90, 92, 75, 92, 85, 60],  [ 25,  20,  15, 105,  55,  90],  [ 65, 130,  60,  75,  60,  75],  [ 80,  70,  40, 100,  60, 145],  [ 80, 105,  65,  60,  75, 130],  [ 70, 110, 180,  60,  60,  50],  [55, 70, 55, 40, 55, 85],  [ 55,  50,  45, 135,  95, 120],  [165,  75,  80,  40,  45,  65],  [ 75,  70,  90,  70, 105,  80],  [77, 59, 50, 67, 63, 46],  [ 75, 100,  66,  60,  66, 115],  [114,  85,  70,  85,  80,  30],  [ 90,  75,  85, 115,  90,  55],  [45, 95, 50, 40, 50, 75],  [60, 85, 69, 65, 79, 80],  [ 90, 110,  80, 100,  80,  95],  [120, 120, 120, 120, 120, 120],  [ 55, 112,  45,  74,  45,  70],  [ 75, 140,  65, 112,  65, 110],  [70, 90, 70, 60, 60, 40],  [ 75, 125, 100,  70,  80,  45],  [101,  72,  72,  99,  89,  29],  [ 50,  70, 100,  40,  40,  30],  [ 90,  85, 100,  95, 125,  85],  [103,  60,  86,  60,  86,  50],  [123,  77,  72,  99,  92,  58],  [ 95, 117, 184,  44,  46,  28],  [46, 87, 60, 30, 40, 57],  [ 75, 125,  70, 125,  70, 115],  [100,  50,  80,  60,  80,  50],  [50, 20, 40, 20, 40, 20],  [45, 75, 60, 40, 30, 50],  [40, 40, 55, 40, 70, 55],  [ 64, 115,  65,  83,  63,  65],  [ 72, 105, 115,  54,  86,  68],  [50, 48, 43, 46, 41, 60],  [70, 92, 65, 80, 55, 98],  [ 60,  52, 168,  47, 138,  30],  [60, 62, 80, 63, 80, 60],  [ 95, 110,  80,  70,  80,  50],  [ 60,  70,  50, 100,  50,  65],  [65, 90, 40, 45, 80, 75],  [ 75,  75,  75, 125,  95,  40],  [40, 55, 80, 35, 60, 30],  [ 75,  80,  95,  90, 100,  50],  [50, 75, 35, 70, 30, 40],  [55, 69, 85, 32, 35, 28],  [79, 85, 60, 55, 60, 71],  [59, 45, 40, 35, 40, 31],  [42, 52, 67, 39, 56, 50],  [ 65, 125, 100,  60,  70,  70],  [ 79,  83, 100,  85, 105,  78],  [ 80, 120,  70, 110,  70,  80],  [255,  10,  10,  75, 135,  55],  [45, 60, 32, 50, 32, 76],  [ 70, 105, 105,  50,  40,  20],  [50, 80, 95, 10, 45, 10],  [ 95, 110,  95,  40,  95,  55],  [59, 59, 58, 90, 70, 73],  [100, 123,  75,  57,  75,  80],  [ 60, 130,  80,  60,  60,  70],  [ 67,  89, 116,  79, 116,  33],  [57, 24, 86, 24, 86, 23],  [40, 30, 35, 50, 70, 55],  [55, 65, 35, 60, 30, 85],  [45, 49, 49, 65, 65, 45],  [55, 66, 44, 44, 56, 85],  [38, 36, 38, 32, 36, 57],  [40, 29, 45, 29, 45, 36],  [60, 45, 50, 90, 80, 70],  [50, 85, 40, 85, 40, 35],  [ 70, 115,  60, 115,  60,  55],  [ 70, 100,  70, 105,  75,  40],  [ 50,  50, 150,  50, 150,  50],  [ 74, 100,  72,  90,  72,  46],  [ 74, 108, 133,  83,  65,  32],  [45, 90, 20, 65, 20, 65],  [50, 35, 55, 25, 25, 15],  [70, 70, 70, 70, 70, 70],  [45, 30, 35, 20, 20, 45],  [100, 100, 100, 100, 100, 100],  [ 60,  55,  90, 145,  90,  80],  [250,   5,   5,  35, 105,  50],  [ 78,  84,  78, 109,  85, 100],  [39, 52, 43, 60, 50, 65],  [58, 64, 58, 80, 65, 80],  [76, 65, 45, 92, 42, 91],  [70, 60, 70, 87, 78, 85],  [45, 35, 45, 62, 53, 35],  [ 88, 107, 122,  74,  75,  64],  [56, 61, 65, 48, 45, 38],  [45, 49, 65, 49, 65, 45],  [44, 58, 44, 58, 44, 61],  [65, 50, 70, 95, 80, 65],  [75, 38, 38, 56, 56, 67],  [45, 30, 50, 65, 50, 45],  [ 75,  95,  60,  65,  60, 115],  [35, 64, 85, 74, 55, 32],  [50, 53, 62, 58, 63, 44],  [ 71,  73,  88, 120,  89,  59],  [ 60,  70, 105,  70, 120,  75],  [95, 70, 73, 95, 90, 60],  [70, 45, 48, 60, 65, 35],  [50, 25, 28, 45, 55, 15],  [ 50,  95, 180,  85,  45,  70],  [ 91,  90, 129,  90,  72, 108],  [ 58,  50, 145,  95, 105,  30],  [30, 30, 42, 30, 42, 70],  [60, 85, 60, 85, 60, 55],  [105, 140,  95,  55,  65,  45],  [43, 80, 65, 50, 35, 35],  [55, 55, 85, 65, 85, 35],  [40, 27, 60, 37, 50, 66],  [ 86,  81,  97,  81, 107,  43],  [ 67, 125,  40,  30,  30,  58],  [ 63, 120,  85,  90,  55,  55],  [120,  70, 120,  75, 130,  85],  [48, 61, 40, 61, 40, 50],  [ 85,  90,  80,  70,  80, 130],  [65, 80, 80, 59, 63, 58],  [ 70,  95, 125,  65,  75,  45],  [ 70,  50,  30,  95, 135, 105],  [55, 70, 40, 60, 40, 40],  [50, 50, 95, 40, 50, 35],  [39, 52, 43, 60, 50, 65],  [ 70,  90,  90, 135,  90, 125],  [105, 140,  55,  30,  55,  95],  [105,  30, 105, 140, 105,  55],  [70, 90, 45, 15, 45, 50],  [ 67,  58,  57,  81,  67, 101],  [60, 60, 50, 40, 50, 75],  [52, 65, 50, 45, 50, 38],  [70, 65, 65, 55, 55, 70],  [45, 55, 45, 65, 45, 75],  [ 75,  69,  72, 114, 100, 104],  [90, 70, 80, 70, 95, 70],  [75, 75, 60, 83, 60, 60],  [100, 120, 120, 150, 100,  90],  [ 50, 100, 150, 100, 150,  50],  [85, 56, 77, 50, 77, 78],  [10, 55, 25, 35, 45, 95],  [48, 48, 48, 48, 48, 48],  [ 60, 110,  70,  60,  60, 100],  [35, 85, 45, 35, 35, 75],  [ 90, 120, 120,  60,  60,  50],  [ 59, 110, 150,  45,  49,  35],  [ 65,  75,  90,  97, 123,  44],  [61, 84, 65, 70, 70, 70],  [ 91, 134,  95, 100, 100,  80],  [ 70,  90, 110,  60,  75,  95],  [41, 64, 45, 50, 50, 50],  [150,  80,  44,  90,  54,  80],  [90, 50, 34, 60, 44, 70],  [60, 85, 40, 30, 45, 68],  [60, 48, 45, 43, 90, 42],  [ 77, 120,  90,  60,  90,  48],  [62, 44, 50, 44, 50, 55],  [ 35,  80,  50,  50,  70, 120],  [100,  70,  70,  65,  65,  45],  [ 65,  40,  50, 125,  60,  30],  [ 58, 109, 112,  48,  48, 109],  [ 40,  70, 130,  60, 130,  25],  [ 45, 100, 135,  65, 135,  45],  [20, 40, 90, 30, 90, 25],  [60, 50, 70, 50, 90, 65],  [50, 65, 85, 35, 35, 55],  [65, 85, 70, 75, 70, 40],  [ 85, 115,  80, 105,  80,  50],  [55, 55, 50, 45, 65, 55],  [35, 60, 44, 40, 54, 55],  [ 65,  83,  57,  95,  85, 105],  [ 75, 123,  67,  95,  85,  95],  [40, 45, 40, 65, 40, 65],  [ 60,  50,  70,  80,  80, 140],  [45, 63, 37, 65, 55, 95],  [55, 55, 55, 85, 55, 30],  [110, 123,  65, 100,  65,  65],  [ 55,  75,  60,  75,  60, 103],  [ 84,  86,  88, 111, 101,  60],  [115, 115,  85,  90,  75, 100],  [ 70, 135, 105,  60, 105,  20],  [ 65,  65,  60, 130,  95, 110],  [62, 48, 54, 63, 60, 68],  [110, 135,  60,  50,  65,  88],  [60, 40, 80, 60, 45, 40],  [ 95,  95,  85, 125,  65,  55],  [104,  91,  63,  91,  73,  68],  [52, 65, 55, 58, 62, 60],  [ 65,  90,  65,  61,  61, 100],  [20, 15, 20, 10, 55, 80],  [40, 45, 40, 62, 60, 60],  [ 85, 105, 100,  79,  83,  78],  [44, 50, 91, 24, 86, 10],  [ 74,  94, 131,  54, 116,  20],  [49, 49, 56, 49, 61, 66],  [70, 55, 55, 80, 60, 45],  [44, 38, 39, 61, 79, 42],  [ 65, 130,  60,  95, 110,  65],  [62, 73, 55, 56, 52, 84],  [45, 50, 43, 40, 38, 62],  [ 85, 105,  55,  85,  50, 115],  [54, 45, 47, 75, 98, 52],  [ 78,  65,  68, 112, 154,  75],  [ 80, 100,  80,  80,  80, 100],  [69, 55, 45, 55, 55, 15],  [ 75,  90, 140,  60,  60,  40],  [ 66, 117,  70,  40,  50,  67],  [55, 40, 50, 65, 85, 40],  [41, 56, 40, 62, 44, 71],  [54, 63, 52, 83, 56, 97],  [ 70,  80,  70,  80,  70, 110],  [ 75,  80,  60,  65,  90, 102],  [85, 76, 64, 45, 55, 90],  [68, 90, 65, 50, 55, 82],  [ 68, 125,  65,  65, 115,  80],  [ 70,  77,  60,  97,  60, 108],  [80, 95, 82, 60, 82, 75],  [108, 130,  95,  80,  85, 102],  [ 68,  65,  65, 125, 115,  80],  [ 30,  35,  30, 100,  35,  80],  [111,  83,  68,  92,  82,  39],  [ 71, 120,  95, 120,  95,  99],  [ 60,  65,  60, 130,  75, 110],  [ 40,  80, 100,  30,  30,  20],  [58, 70, 45, 40, 45, 42],  [ 85, 135, 130,  60,  80,  25],  [70, 80, 65, 90, 65, 85],  [ 65,  60, 110, 130,  95,  65],  [80, 80, 80, 80, 80, 80],  [49, 55, 42, 42, 37, 85],  [ 65,  75, 105,  35,  65,  85],  [ 75,  95, 125,  45,  75,  95],  [60, 65, 70, 85, 75, 40],  [123, 100,  62,  97,  81,  68],  [75, 80, 70, 65, 75, 90],  [45, 67, 60, 35, 50, 63],  [80, 82, 78, 95, 80, 85],  [ 80, 120, 130,  55,  65,  45],  [59, 74, 50, 35, 50, 35],  [ 89, 124,  80,  55,  80,  55],  [ 90, 100,  70, 110, 150,  80],  [45, 50, 35, 55, 75, 40],  [ 55,  84, 105, 114,  75,  52],  [45, 30, 50, 55, 65, 45],  [ 70,  55,  95,  95, 110,  65],  [60, 45, 70, 75, 85, 55],  [ 90, 120,  75,  60,  60,  45],  [ 55,  95, 115,  45,  45,  35],  [ 72,  95,  67, 103,  71, 122],  [80, 80, 50, 40, 50, 25],  [75, 89, 85, 55, 65, 36],  [100, 150, 140, 100,  90,  90],  [100, 180, 160, 150,  90,  90],  [50, 65, 45, 85, 65, 95],  [55, 70, 45, 70, 50, 60],  [ 80,  45,  65,  90, 110,  80],  [70, 43, 53, 43, 53, 40],  [ 85, 105,  85,  40,  50,  40],  [ 95, 125,  79,  60, 100,  81],  [100,   5,   5,  15,  65,  30],  [144, 120,  60,  40,  60,  50],  [ 45,  50,  45, 115,  55,  95],  [ 78,  92,  75,  74,  63, 118],  [ 76, 147,  90,  60,  70,  97],  [ 85,  97,  66, 105,  66,  65],  [ 91,  90, 106, 130, 106,  77],  [ 62,  55,  52, 109,  94, 109],  [44, 38, 33, 61, 43, 70],  [ 80, 125,  75,  40,  95,  85],  [65, 80, 65, 35, 65, 60],  [68, 72, 78, 38, 42, 32],  [108, 112, 118,  68,  72,  47],  [ 50, 105,  79,  35, 110,  76],  [ 50, 120,  53,  35, 110,  87],  [ 50,  95,  95,  35, 110,  70],  [106, 130,  90, 110, 154,  90],  [100, 125,  52, 105,  52,  71],  [ 45,  80, 100,  35,  37,  28],  [60, 30, 30, 36, 56, 50],  [35, 35, 40, 35, 55, 50],  [30, 40, 70, 70, 25, 60],  [ 75,  90,  50, 110,  80,  95],  [45, 60, 30, 80, 50, 65],  [ 55, 104, 105,  94,  75,  52],  [ 92, 105,  90, 125,  90,  98],  [ 85,  73,  70,  73, 115,  67],  [90, 30, 15, 40, 20, 15],  [65, 47, 55, 73, 75, 85],  [ 76, 104,  71, 104,  71, 108],  [53, 54, 53, 37, 46, 45],  [60, 62, 63, 80, 80, 60],  [100,  60,  70,  85, 105,  60],  [115,  45,  20,  45,  25,  20],  [100, 100, 100, 100, 100, 100],  [ 65,  65,  60, 110,  95, 130],  [50, 47, 50, 57, 50, 65],  [ 75,  55,  70,  55,  95, 110],  [ 65,  50,  35, 115,  95,  95],  [30, 80, 90, 55, 45, 55],  [ 60, 115, 105,  65,  70,  80],  [ 40,  35,  30, 120,  70, 105],  [45, 25, 50, 25, 25, 35],  [105,  95,  80,  40,  80,  90],  [50, 75, 45, 40, 45, 60],  [ 60,  90,  70,  60, 120,  40],  [75, 95, 95, 95, 95, 85],  [ 55, 130, 115,  50,  50,  75],  [38, 35, 35, 65, 55, 50],  [60, 80, 95, 70, 85, 50],  [57, 80, 91, 80, 87, 75],  [40, 55, 70, 45, 60, 30],  [ 60, 100, 115,  70,  85,  90],  [40, 65, 95, 60, 45, 35],  [ 30, 105,  90,  25,  25,  50],  [37, 25, 41, 25, 41, 25],  [77, 85, 51, 55, 51, 65],  [60, 82, 45, 45, 45, 74],  [ 95, 117,  80,  65,  70,  92],  [100, 100,  90, 150, 140,  90],  [100, 150,  90, 180, 160,  90],  [125, 130,  90, 130,  90,  95],  [125, 170, 100, 120,  90,  95],  [125, 120,  90, 170, 100,  95],  [ 60,  90, 140,  50,  50,  40],  [60, 40, 60, 95, 60, 55],  [125,  58,  58,  76,  76,  67],  [130,  85,  80,  85,  95,  60],  [55, 85, 55, 50, 55, 60],  [50, 64, 50, 45, 50, 41],  [ 80,  80,  90, 110, 130, 110],  [ 80,  90,  80, 130, 110, 110],  [ 65, 110, 130,  60,  65,  95],  [ 75, 103,  80,  70,  80,  92],  [ 55,  35,  50,  55, 110,  85],  [40, 20, 30, 40, 80, 55],  [110,  85,  95,  80,  95,  50],  [90, 55, 75, 60, 75, 30],  [ 64,  88,  50,  88,  50, 106],  [66, 41, 77, 61, 87, 23],  [ 70,  60,  75, 110,  75,  90],  [45, 60, 45, 25, 45, 55],  [ 78,  70,  61,  50,  61, 100],  [62, 50, 58, 73, 54, 72],  [50, 30, 55, 65, 55, 20],  [60, 50, 50, 60, 70, 50],  [ 65,  76,  84,  54,  96, 105],  [40, 30, 30, 40, 50, 30],  [84, 71, 43, 71, 43, 48],  [ 70, 110,  70, 115,  70,  90],  [ 80,  70,  70,  90, 100,  70],  [106,  90, 130,  90, 154, 110],  [69, 69, 76, 69, 86, 91],  [70, 55, 65, 95, 85, 70],  [43, 30, 55, 40, 65, 97],  [60, 85, 49, 60, 49, 60],  [ 80, 120,  79,  95,  79,  70],  [ 90, 130,  80,  65,  85,  55],  [ 80, 100,  70,  50,  60,  45],  [70, 80, 50, 35, 35, 35],  [45, 75, 37, 70, 55, 83],  [ 50,  50, 120,  80,  80,  30],  [20, 10, 55, 15, 20, 80],  [ 65,  95,  57, 100,  85,  93],  [ 75,  95,  67, 125,  95,  83],  [25, 35, 70, 95, 55, 45],  [ 50,  60,  95, 120,  70,  70],  [ 70,  70, 115, 130,  90,  60],  [72, 60, 30, 20, 30, 25],  [86, 92, 88, 68, 75, 73],  [110, 130,  80,  70,  60,  80],  [100, 100, 100, 100, 100, 100],  [110,  65, 105,  55,  95,  80],  [ 70,  75,  60, 105,  60, 105],  [40, 80, 35, 35, 45, 70],  [ 65,  40,  70,  80, 140,  70],  [ 45,  20,  50,  60, 120,  50],  [ 75,  86,  67, 106,  67,  60],  [55, 40, 40, 65, 45, 35],  [70, 20, 50, 20, 50, 40],  [ 60,  80, 110,  50,  80,  45],  [70, 85, 70, 60, 70, 50],  [70, 60, 62, 80, 82, 60],  [50, 85, 85, 55, 55, 50],  [60, 60, 75, 60, 75, 80],  [30, 40, 55, 40, 55, 60],  [ 74,  48,  76,  83,  81, 104],  [ 74,  48,  76,  83,  81, 104],  [40, 45, 35, 40, 40, 90],  [ 80, 105, 105, 105, 105,  80],  [ 80, 135, 130,  95,  90,  70],  [ 60,  75, 100,  55,  80,  50],  [50, 20, 55, 25, 25, 30],  [100, 100, 100, 100, 100, 100],  [106, 110,  90, 154,  90, 130],  [45, 85, 50, 55, 50, 65],  [ 65, 125,  60,  95,  60, 105],  [70, 90, 70, 60, 60, 70],  [ 95,  60,  79, 100, 125,  81],  [ 95,  80, 105,  40,  70, 100],  [20, 25, 45, 70, 90, 60],  [55, 50, 40, 40, 40, 75],  [60, 40, 50, 75, 85, 95],  [60, 60, 60, 85, 85, 85],  [ 60,  60,  60, 105, 105, 105],  [ 90, 100,  90, 125,  85,  90],  [64, 78, 52, 78, 52, 81],  [70, 94, 50, 94, 50, 66],  [ 40,  45,  65, 100, 120,  90],  [50, 70, 50, 50, 50, 40],  [105, 105,  75,  65, 100,  50],  [135,  85,  40,  40,  85,   5],  [76, 25, 45, 67, 55, 24],  [60, 85, 42, 85, 42, 91],  [116,  55,  85, 107,  95,  29],  [40, 50, 45, 70, 45, 70],  [ 81, 102,  77,  85,  75,  85],  [90, 92, 87, 75, 85, 76],  [55, 47, 52, 40, 40, 41],  [46, 57, 40, 40, 40, 50],  [70, 62, 67, 55, 55, 56],  [61, 72, 57, 55, 55, 65],  [31, 45, 90, 30, 30, 40],  [ 73,  76,  75,  81, 100, 100],  [ 61,  90,  45,  50,  50, 160],  [100,  50,  50,  76,  96,  70],  [40, 30, 35, 45, 40, 55],  [ 85,  70,  80,  97,  80, 123],  [ 30,  45, 135,  45,  90,  30],  [60, 60, 40, 65, 45, 35],  [70, 70, 40, 60, 40, 60],  [ 75, 105,  75, 105,  75,  45],  [45, 50, 55, 75, 65, 30],  [ 35,  40, 100,  90,  55,  35],  [ 70,  60, 125, 115,  70,  55],  [ 35,  45, 160,  30,  45,  70],  [55, 55, 45, 63, 45, 45],  [60, 45, 70, 45, 90, 95],  [ 90, 120, 100, 150, 120, 100],  [75, 65, 55, 65, 55, 69],  [67, 82, 62, 46, 48, 43],  [ 95, 124,  78,  69,  71,  58],  [50, 53, 48, 53, 48, 64],  [50, 53, 48, 53, 48, 64],  [50, 53, 48, 53, 48, 64],  [35, 70, 55, 45, 55, 25],  [60, 95, 80, 60, 80, 30],  [45, 55, 39, 35, 39, 42],  [45, 85, 70, 40, 40, 60],  [ 60,  50, 100,  85,  70,  65],  [ 65,  70,  60,  65,  65, 115],  [45, 35, 50, 70, 50, 30],  [90, 60, 60, 40, 40, 40],  [43, 70, 48, 50, 60, 38],  [80, 80, 80, 80, 80, 80],  [20, 40, 15, 35, 35, 60],  [ 83,  80,  75,  70,  70, 101],  [63, 60, 55, 50, 50, 71],  [40, 45, 40, 35, 35, 56],  [50, 55, 50, 36, 30, 43],  [90, 93, 55, 70, 55, 55],  [35, 55, 40, 50, 50, 90],  [100, 100,  80,  60,  60,  50],  [50, 65, 90, 35, 35, 15],  [ 65, 125, 100,  55,  70,  85],  [53, 51, 53, 61, 56, 40],  [60, 50, 40, 85, 75, 95],  [ 90,  75,  75,  90, 100,  70],  [40, 50, 40, 40, 40, 90],  [65, 65, 65, 50, 50, 90],  [90, 95, 95, 70, 90, 70],  [50, 85, 55, 65, 65, 90],  [35, 55, 35, 30, 30, 35],  [65, 60, 70, 85, 75, 40],  [ 85,  80,  70, 135,  75,  90],  [ 85,  80,  90, 105,  95,  60],  [ 65, 105,  60,  60,  70,  95],  [64, 66, 68, 81, 76, 50],  [ 60,  55, 145,  75, 150,  40],  [50, 52, 48, 65, 50, 55],  [70, 84, 70, 65, 70, 51],  [41, 50, 37, 50, 37, 66],  [ 71,  82,  64,  64,  59, 112],  [ 86,  68,  72, 109,  66, 106],  [95, 85, 85, 65, 65, 35],  [58, 64, 58, 80, 65, 80],  [61, 78, 95, 56, 58, 57],  [65, 95, 75, 55, 55, 85],  [ 60,  90,  55,  90,  80, 110],  [ 90,  85,  75, 115, 100, 115],  [28, 25, 25, 45, 35, 40],  [ 97, 165,  60,  65,  50,  58],  [ 65, 100,  70,  80,  80, 105],  [55, 81, 60, 50, 70, 97],  [30, 56, 35, 25, 35, 72],  [105, 150,  90, 150,  90,  95],  [ 80,  50, 100, 100, 200,  50],  [110, 160, 110,  80, 110, 100],  [ 80, 100, 200,  50, 100,  50],  [ 80,  75, 150,  75, 150,  50],  [100,  90, 130,  45,  65,  55],  [35, 65, 35, 65, 35, 65],  [100, 120, 100, 150, 120,  90],  [110,  65,  75, 125,  85,  30],  [105, 130, 120,  45,  45,  40],  [80, 85, 95, 30, 30, 25],  [115, 140, 130,  55,  55,  40],  [40, 70, 40, 35, 40, 60],  [55, 75, 85, 25, 25, 15],  [ 50,  60,  45, 100,  80,  65],  [ 60,  70,  65, 125, 105,  90],  [50, 50, 77, 95, 77, 91],  [ 50,  65, 107, 105, 107,  86],  [ 50,  65, 107, 105, 107,  86],  [ 50,  65, 107, 105, 107,  86],  [ 50,  65, 107, 105, 107,  86],  [ 50,  65, 107, 105, 107,  86],  [70, 83, 50, 37, 50, 60],  [50, 75, 75, 65, 65, 50],  [ 95, 135,  80, 110,  80, 100],  [ 95, 100,  85, 108,  70,  70],  [50, 72, 35, 35, 35, 65],  [50, 75, 85, 20, 30, 40],  [ 75, 100, 110,  45,  55,  65],  [ 75, 125,  75,  30,  75,  85],  [ 80, 100,  70,  60,  70,  95],  [38, 35, 40, 27, 25, 35],  [ 70,  85,  65, 105,  85, 120],  [ 70, 130, 100,  55,  80,  65],  [ 60, 100,  89,  55,  69, 112],  [ 65,  90, 115,  45, 115,  58],  [50, 75, 70, 35, 70, 48],  [ 70, 110,  80,  55,  80, 105],  [55, 65, 95, 95, 45, 85],  [80, 92, 65, 65, 80, 68],  [90, 60, 70, 75, 70, 45],  [40, 40, 50, 30, 30, 30],  [65, 45, 55, 45, 70, 45],  [105,  95,  75,  85,  75,  74],  [35, 46, 34, 35, 45, 20],  [ 75,  75,  95,  75,  95, 113],  [60, 60, 75, 60, 75, 83],  [ 73, 100,  60, 100,  60,  65],  [45, 53, 70, 40, 60, 42],  [ 70, 120,  40,  95,  40,  95],  [ 1, 90, 45, 30, 30, 40],  [ 65,  95, 100,  60,  50,  50],  [ 30,  65, 100,  45,  25,  40],  [76, 48, 48, 57, 62, 34],  [50, 40, 85, 40, 65, 25],  [ 30,  42, 118,  42,  88,  30],  [ 90, 100,  60,  90,  60,  80],  [45, 65, 34, 40, 34, 45],  [60, 40, 60, 40, 60, 35],  [ 20,  10, 230,  10, 230,   5],  [44, 75, 35, 63, 33, 45],  [ 72,  58,  80, 103,  80,  97],  [50, 35, 55, 25, 25, 15],  [ 75,  98,  63,  98,  63, 101],  [ 75,  98,  63,  98,  63, 101],  [ 75,  98,  63,  98,  63, 101],  [ 65,  80, 140,  40,  70,  70],  [66, 65, 48, 62, 57, 52],  [55, 45, 50, 45, 65, 80],  [50, 45, 45, 35, 35, 50],  [40, 50, 90, 30, 55, 65],  [50, 60, 60, 60, 60, 30],  [103,  93,  67,  71,  61,  84],  [150, 160, 100,  95,  65, 100],  [60, 60, 60, 35, 35, 30],  [ 68,  75,  53,  83, 113,  60],  [ 95,  75, 110, 100,  80,  30],  [ 95,  75,  80, 100, 110,  30],  [90, 65, 65, 40, 40, 15],  [40, 40, 40, 70, 40, 20],  [82, 80, 86, 85, 75, 72],  [55, 20, 35, 20, 45, 75],  [45, 30, 15, 85, 65, 65],  [ 55,  95,  55,  35,  75, 115],  [45, 45, 55, 45, 55, 63],  [160, 110,  65,  65, 110,  30],  [50, 50, 50, 50, 50, 50],  [60, 62, 50, 62, 60, 40],  [60, 80, 50, 40, 40, 30],  [ 45,  30,  40, 105,  50,  20],  [70, 95, 85, 55, 65, 70],  [40, 60, 30, 31, 31, 70],  [45, 22, 60, 27, 30, 29],  [70, 40, 50, 55, 50, 25],  [40, 60, 40, 40, 40, 30],  [60, 60, 60, 60, 60, 60],  [ 50,  92, 108,  92, 108,  35],  [60, 25, 35, 70, 80, 60],  [78, 52, 60, 63, 65, 23],  [44, 48, 65, 50, 64, 43],  [73, 95, 62, 85, 65, 85],  [ 85, 120,  70,  50,  60, 100],  [55, 75, 50, 40, 40, 80],  [40, 55, 30, 30, 30, 60],  [ 60,  75,  85, 100,  85, 115],  [30, 45, 55, 70, 55, 85],  [ 75,  85, 200,  55,  65,  30],  [ 85, 110,  90,  45,  90,  80],  [109,  66,  84,  81,  99,  32],  [63, 63, 47, 41, 41, 74],  [ 70, 100, 115,  30,  65,  30],  [100,  75, 115,  90, 115,  85],  [ 75,  75,  55, 105,  85,  30],  [30, 30, 30, 30, 30, 30],  [40, 30, 32, 50, 52, 65],  [45, 40, 60, 40, 75, 50],  [55, 63, 90, 50, 80, 42],  [100,  73,  83,  73,  83,  55],  [100, 110,  90,  85,  90,  60],  [75, 87, 63, 87, 63, 98],  [ 60,  85,  60,  50,  50, 125],  [50, 50, 40, 30, 30, 50],  [62, 48, 66, 59, 57, 49],  [ 67,  57,  55,  77,  55, 114],  [ 95,  65,  65, 110, 130,  60],  [40, 55, 30, 30, 30, 85],  [ 78,  81,  71,  74,  69, 126],  [ 65,  55, 115, 100,  40,  60],  [100, 100, 125, 110,  50,  50],  [ 75, 100,  95,  40,  70, 110],  [60, 80, 50, 50, 50, 40],  [ 40,  40,  35,  50, 100,  70],  [ 80,  70,  65,  80, 120, 100],  [65, 63, 45, 45, 45, 45],  [ 91, 129,  90,  72,  90, 108],  [120, 100,  85,  30,  85,  45],  [75, 80, 55, 25, 35, 35],  [ 54,  78, 103,  53,  45,  22],  [ 85,  50,  95, 120, 115,  80],  [35, 20, 65, 40, 65, 20],  [ 55,  40,  85,  80, 105,  40],  [45, 60, 40, 70, 50, 45],  [ 70,  85, 140,  85,  70,  20],  [ 95, 109, 105,  75,  85,  56],  [50, 65, 64, 44, 48, 43],  [ 83, 106,  65,  86,  65,  85],  [62, 77, 62, 50, 42, 65],  [ 45, 100,  45,  45,  45,  10],  [40, 45, 35, 65, 55, 70],  [ 85, 110,  76,  65,  82,  56],  [99, 68, 83, 72, 87, 51],  [50, 50, 62, 40, 62, 65],  [55, 68, 64, 45, 55, 31],  [50, 50, 40, 50, 40, 64],  [35, 55, 40, 45, 40, 60],  [ 78,  84,  78, 109,  85, 100],  [100, 134, 110,  95, 100,  61],  [ 82, 121, 119,  69,  59,  71],  [35, 35, 35, 35, 35, 35],  [58, 89, 77, 45, 45, 48],  [ 95,  65, 110,  60, 130,  65],  [ 80, 115,  80,  65,  55,  93],  [48, 72, 48, 72, 48, 48],  [ 90, 130,  75,  75,  75,  55],  [ 75,  75, 130,  75, 130,  95],  [51, 65, 65, 80, 75, 59],  [36, 50, 50, 65, 60, 44],  [ 71,  95,  85, 110,  95,  79],  [130,  65,  60, 110,  95,  65],  [30, 45, 59, 30, 39, 57],  [70, 65, 60, 90, 75, 90],  [60, 55, 50, 40, 55, 45],  [ 80,  82,  83, 100, 100,  80],  [ 70,  80, 102,  80, 102,  40],  [50, 70, 50, 50, 50, 70],  [100, 100, 100, 100, 100, 100],  [ 80, 105,  65, 100,  70,  70],  [80, 80, 80, 55, 55, 90],  [ 75,  80,  85, 110,  90,  50],  [ 91,  90,  72,  90, 129, 108],  [80, 52, 50, 90, 50, 89],  [65, 73, 55, 47, 75, 85],  [ 80, 110, 120, 130,  90,  70],  [ 85,  60,  65, 135, 105, 100],  [ 40,  30,  50,  55,  55, 100],  [70, 55, 75, 45, 65, 60],  [38, 41, 40, 50, 65, 65],  [130,  70,  35,  70,  35,  60],  [170,  90,  45,  90,  45,  60],  [110,  80,  90,  95,  90,  65],  [59, 63, 80, 65, 80, 58],  [60, 85, 69, 60, 69, 77],  [ 70, 120,  65,  45,  85, 125],  [40, 35, 30, 20, 20, 50],  [65, 90, 50, 85, 45, 55],  [ 65,  90, 120,  85,  70,  60],  [ 60,  67,  85,  77,  75, 116],  [40, 55, 99, 40, 79, 47],  [110,  78,  73,  76,  71,  60],  [64, 51, 23, 51, 23, 28],  [140,  70,  45,  85,  50,  45],  [40, 30, 30, 55, 30, 85],  [190,  33,  58,  33,  58,  33],  [55, 45, 43, 55, 43, 72],  [55, 45, 45, 25, 25, 15],  [ 60,  59,  85,  79, 105,  36],  [ 60,  79, 105,  59,  85,  36],  [60, 69, 95, 69, 95, 36],  [45, 45, 35, 20, 30, 20],  [95, 23, 48, 23, 48, 23],  [65, 75, 70, 95, 70, 95],  [126, 131,  95, 131,  98,  99],  [38, 30, 85, 55, 65, 30],  [65, 65, 45, 75, 45, 95],  [ 86,  76,  86, 116,  56,  95],  [126, 131,  95, 131,  98,  99],  [ 73, 115,  60,  60,  60,  90],  [ 90,  90,  85, 125,  90, 100],  [ 75, 100,  63,  80,  63, 116],  [100, 150, 120, 120, 100,  90],  [38, 30, 41, 30, 41, 60],  [ 60, 105,  60, 120,  60, 105],  [40, 65, 40, 80, 40, 65],  [40, 45, 35, 30, 40, 55],  [72, 85, 70, 65, 70, 58]])\n"
   ]
  },
  {
   "cell_type": "code",
   "execution_count": 12,
   "metadata": {},
   "outputs": [
    {
     "name": "stdout",
     "output_type": "stream",
     "text": [
      "[('Abomasnow', 494, 82.33333333333333), ('Abra', 310, 51.666666666666664), ('Absol', 465, 77.5)]\n",
      "3 strongest Pokémon:\n",
      "[('GroudonPrimal Groudon', 770, 128.33333333333334), ('KyogrePrimal Kyogre', 770, 128.33333333333334), ('Arceus', 720, 120.0)]\n"
     ]
    }
   ],
   "source": [
    "# Create a total stats array\n",
    "total_stats_np = stats.sum(axis=1)\n",
    "\n",
    "# Create an average stats array\n",
    "avg_stats_np = stats.mean(axis=1)\n",
    "\n",
    "# Combine names, total_stats_np, and avg_stats_np into a list\n",
    "poke_list_np = [*zip(names, total_stats_np, avg_stats_np)]\n",
    "\n",
    "print(poke_list_np[:3])\n",
    "\n",
    "# Sorting\n",
    "top_3 = sorted(poke_list_np, key=lambda x: x[1], reverse=True)[:3]\n",
    "print('3 strongest Pokémon:\\n{}'.format(top_3))"
   ]
  },
  {
   "cell_type": "markdown",
   "metadata": {},
   "source": [
    "# Misc "
   ]
  },
  {
   "cell_type": "markdown",
   "metadata": {},
   "source": [
    "### %run command\n",
    "\n",
    "you can run any file inside your notebook using run command:\n",
    "> %run ipython_script_test.py\n",
    "\n",
    "Doing this will import the variables and results in that file into your current env"
   ]
  },
  {
   "cell_type": "markdown",
   "metadata": {},
   "source": [
    "### timeit:"
   ]
  },
  {
   "cell_type": "code",
   "execution_count": 11,
   "metadata": {},
   "outputs": [
    {
     "name": "stdout",
     "output_type": "stream",
     "text": [
      "17.2 µs ± 855 ns per loop (mean ± std. dev. of 7 runs, 100000 loops each)\n"
     ]
    }
   ],
   "source": [
    "a = np.random.randn(100, 100)\n",
    "%timeit np.dot(a, a)"
   ]
  },
  {
   "cell_type": "markdown",
   "metadata": {},
   "source": [
    "### isinstance"
   ]
  },
  {
   "cell_type": "code",
   "execution_count": 12,
   "metadata": {},
   "outputs": [
    {
     "data": {
      "text/plain": [
       "True"
      ]
     },
     "execution_count": 12,
     "metadata": {},
     "output_type": "execute_result"
    }
   ],
   "source": [
    "a = 3.5\n",
    "b = 4\n",
    "\n",
    "isinstance(a,(int,float))"
   ]
  },
  {
   "cell_type": "markdown",
   "metadata": {},
   "source": [
    "### Format"
   ]
  },
  {
   "cell_type": "markdown",
   "metadata": {},
   "source": [
    "> template = '{0:.2f} {1:s} are worth US${2:d}'\n",
    "\n",
    "> template.format(4.5560, 'Argentine Pesos', 1)\n",
    "\n",
    "1. {0:.2f}: format first arg as float with 2 decimals\n",
    "2. {1:s}: second arg as string\n",
    "3. {2:d}: third arg as integer"
   ]
  },
  {
   "cell_type": "code",
   "execution_count": 14,
   "metadata": {},
   "outputs": [
    {
     "data": {
      "text/plain": [
       "'4.56 Argentine Pesos are worth US$1'"
      ]
     },
     "execution_count": 14,
     "metadata": {},
     "output_type": "execute_result"
    }
   ],
   "source": [
    "template = '{0:.2f} {1:s} are worth US${2:d}'\n",
    "template.format(4.5560, 'Argentine Pesos', 1)"
   ]
  },
  {
   "cell_type": "markdown",
   "metadata": {},
   "source": [
    "### List Comprehensions"
   ]
  },
  {
   "cell_type": "code",
   "execution_count": 26,
   "metadata": {},
   "outputs": [
    {
     "data": {
      "text/plain": [
       "[3, 4]"
      ]
     },
     "execution_count": 26,
     "metadata": {},
     "output_type": "execute_result"
    }
   ],
   "source": [
    "string = ['a','ba','cba','dcba']\n",
    "[len(x) for x in string if len(x)>2]"
   ]
  },
  {
   "cell_type": "markdown",
   "metadata": {},
   "source": [
    "### Dict Comprehensions"
   ]
  },
  {
   "cell_type": "code",
   "execution_count": 28,
   "metadata": {},
   "outputs": [
    {
     "data": {
      "text/plain": [
       "{'cba': 3, 'dcba': 4}"
      ]
     },
     "execution_count": 28,
     "metadata": {},
     "output_type": "execute_result"
    }
   ],
   "source": [
    "{x:len(x) for x in string if len(x) > 2}"
   ]
  },
  {
   "cell_type": "code",
   "execution_count": null,
   "metadata": {},
   "outputs": [],
   "source": []
  },
  {
   "cell_type": "code",
   "execution_count": null,
   "metadata": {},
   "outputs": [],
   "source": []
  }
 ],
 "metadata": {
  "kernelspec": {
   "display_name": "Python 3",
   "language": "python",
   "name": "python3"
  },
  "language_info": {
   "codemirror_mode": {
    "name": "ipython",
    "version": 3
   },
   "file_extension": ".py",
   "mimetype": "text/x-python",
   "name": "python",
   "nbconvert_exporter": "python",
   "pygments_lexer": "ipython3",
   "version": "3.7.6"
  },
  "toc": {
   "base_numbering": 1,
   "nav_menu": {},
   "number_sections": true,
   "sideBar": true,
   "skip_h1_title": false,
   "title_cell": "Table of Contents",
   "title_sidebar": "Contents",
   "toc_cell": true,
   "toc_position": {},
   "toc_section_display": true,
   "toc_window_display": false
  }
 },
 "nbformat": 4,
 "nbformat_minor": 2
}
