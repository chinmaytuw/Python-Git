{
 "cells": [
  {
   "cell_type": "markdown",
   "metadata": {
    "toc": true
   },
   "source": [
    "<h1>Table of Contents<span class=\"tocSkip\"></span></h1>\n",
    "<div class=\"toc\"><ul class=\"toc-item\"><li><span><a href=\"#Transforming-Data\" data-toc-modified-id=\"Transforming-Data-1\"><span class=\"toc-item-num\">1&nbsp;&nbsp;</span>Transforming Data</a></span><ul class=\"toc-item\"><li><span><a href=\"#Inspecting-a-DataFrame\" data-toc-modified-id=\"Inspecting-a-DataFrame-1.1\"><span class=\"toc-item-num\">1.1&nbsp;&nbsp;</span>Inspecting a DataFrame</a></span><ul class=\"toc-item\"><li><span><a href=\"#Parts-of-a-DataFrame\" data-toc-modified-id=\"Parts-of-a-DataFrame-1.1.1\"><span class=\"toc-item-num\">1.1.1&nbsp;&nbsp;</span>Parts of a DataFrame</a></span></li></ul></li><li><span><a href=\"#Sorting-and-subsetting\" data-toc-modified-id=\"Sorting-and-subsetting-1.2\"><span class=\"toc-item-num\">1.2&nbsp;&nbsp;</span>Sorting and subsetting</a></span><ul class=\"toc-item\"><li><span><a href=\"#Sorting-rows\" data-toc-modified-id=\"Sorting-rows-1.2.1\"><span class=\"toc-item-num\">1.2.1&nbsp;&nbsp;</span>Sorting rows</a></span></li><li><span><a href=\"#Subsetting\" data-toc-modified-id=\"Subsetting-1.2.2\"><span class=\"toc-item-num\">1.2.2&nbsp;&nbsp;</span>Subsetting</a></span></li><li><span><a href=\"#Subsetting-rows-by-numeric-vars\" data-toc-modified-id=\"Subsetting-rows-by-numeric-vars-1.2.3\"><span class=\"toc-item-num\">1.2.3&nbsp;&nbsp;</span>Subsetting rows by numeric vars</a></span></li><li><span><a href=\"#Subsetting-rows-by-categorical-variables\" data-toc-modified-id=\"Subsetting-rows-by-categorical-variables-1.2.4\"><span class=\"toc-item-num\">1.2.4&nbsp;&nbsp;</span>Subsetting rows by categorical variables</a></span><ul class=\"toc-item\"><li><span><a href=\"#using-isin()\" data-toc-modified-id=\"using-isin()-1.2.4.1\"><span class=\"toc-item-num\">1.2.4.1&nbsp;&nbsp;</span>using isin()</a></span></li></ul></li></ul></li><li><span><a href=\"#Adding-new-columns\" data-toc-modified-id=\"Adding-new-columns-1.3\"><span class=\"toc-item-num\">1.3&nbsp;&nbsp;</span>Adding new columns</a></span></li><li><span><a href=\"#Bringing-it-all-together\" data-toc-modified-id=\"Bringing-it-all-together-1.4\"><span class=\"toc-item-num\">1.4&nbsp;&nbsp;</span>Bringing it all together</a></span></li></ul></li><li><span><a href=\"#Aggregating-Data\" data-toc-modified-id=\"Aggregating-Data-2\"><span class=\"toc-item-num\">2&nbsp;&nbsp;</span>Aggregating Data</a></span><ul class=\"toc-item\"><li><span><a href=\"#Mean-and-median\" data-toc-modified-id=\"Mean-and-median-2.1\"><span class=\"toc-item-num\">2.1&nbsp;&nbsp;</span>Mean and median</a></span></li><li><span><a href=\"#Efficient-summaries\" data-toc-modified-id=\"Efficient-summaries-2.2\"><span class=\"toc-item-num\">2.2&nbsp;&nbsp;</span>Efficient summaries</a></span></li><li><span><a href=\"#Cumulative-statistics\" data-toc-modified-id=\"Cumulative-statistics-2.3\"><span class=\"toc-item-num\">2.3&nbsp;&nbsp;</span>Cumulative statistics</a></span></li><li><span><a href=\"#Dropping-duplicates\" data-toc-modified-id=\"Dropping-duplicates-2.4\"><span class=\"toc-item-num\">2.4&nbsp;&nbsp;</span>Dropping duplicates</a></span></li><li><span><a href=\"#Counting-categorical-variables\" data-toc-modified-id=\"Counting-categorical-variables-2.5\"><span class=\"toc-item-num\">2.5&nbsp;&nbsp;</span>Counting categorical variables</a></span></li><li><span><a href=\"#Calculations-with-.groupby()\" data-toc-modified-id=\"Calculations-with-.groupby()-2.6\"><span class=\"toc-item-num\">2.6&nbsp;&nbsp;</span>Calculations with .groupby()</a></span></li><li><span><a href=\"#Multiple-grouped-summaries\" data-toc-modified-id=\"Multiple-grouped-summaries-2.7\"><span class=\"toc-item-num\">2.7&nbsp;&nbsp;</span>Multiple grouped summaries</a></span></li><li><span><a href=\"#Pivot-tables\" data-toc-modified-id=\"Pivot-tables-2.8\"><span class=\"toc-item-num\">2.8&nbsp;&nbsp;</span>Pivot tables</a></span></li><li><span><a href=\"#Fill-in-missing-values-and-sum-values-with-pivot-tables\" data-toc-modified-id=\"Fill-in-missing-values-and-sum-values-with-pivot-tables-2.9\"><span class=\"toc-item-num\">2.9&nbsp;&nbsp;</span>Fill in missing values and sum values with pivot tables</a></span></li></ul></li><li><span><a href=\"#Slicing-and-indexing\" data-toc-modified-id=\"Slicing-and-indexing-3\"><span class=\"toc-item-num\">3&nbsp;&nbsp;</span>Slicing and indexing</a></span><ul class=\"toc-item\"><li><span><a href=\"#Setting-&amp;-removing-indexes\" data-toc-modified-id=\"Setting-&amp;-removing-indexes-3.1\"><span class=\"toc-item-num\">3.1&nbsp;&nbsp;</span>Setting &amp; removing indexes</a></span><ul class=\"toc-item\"><li><span><a href=\"#Subsetting-with-.loc[]\" data-toc-modified-id=\"Subsetting-with-.loc[]-3.1.1\"><span class=\"toc-item-num\">3.1.1&nbsp;&nbsp;</span>Subsetting with .loc[]</a></span></li><li><span><a href=\"#Setting-multi-level-indexes\" data-toc-modified-id=\"Setting-multi-level-indexes-3.1.2\"><span class=\"toc-item-num\">3.1.2&nbsp;&nbsp;</span>Setting multi-level indexes</a></span></li><li><span><a href=\"#Sorting-by-index-values\" data-toc-modified-id=\"Sorting-by-index-values-3.1.3\"><span class=\"toc-item-num\">3.1.3&nbsp;&nbsp;</span>Sorting by index values</a></span></li></ul></li><li><span><a href=\"#Slicing-index-value\" data-toc-modified-id=\"Slicing-index-value-3.2\"><span class=\"toc-item-num\">3.2&nbsp;&nbsp;</span>Slicing index value</a></span><ul class=\"toc-item\"><li><span><a href=\"#Slicing-both-directions\" data-toc-modified-id=\"Slicing-both-directions-3.2.1\"><span class=\"toc-item-num\">3.2.1&nbsp;&nbsp;</span>Slicing both directions</a></span></li><li><span><a href=\"#Slicing-time-series\" data-toc-modified-id=\"Slicing-time-series-3.2.2\"><span class=\"toc-item-num\">3.2.2&nbsp;&nbsp;</span>Slicing time series</a></span></li><li><span><a href=\"#Subsetting-by-row/column-number\" data-toc-modified-id=\"Subsetting-by-row/column-number-3.2.3\"><span class=\"toc-item-num\">3.2.3&nbsp;&nbsp;</span>Subsetting by row/column number</a></span></li></ul></li><li><span><a href=\"#Pivot-temperature-by-city-and-year\" data-toc-modified-id=\"Pivot-temperature-by-city-and-year-3.3\"><span class=\"toc-item-num\">3.3&nbsp;&nbsp;</span>Pivot temperature by city and year</a></span></li></ul></li><li><span><a href=\"#Creating-and-Visualizing-DataFrames\" data-toc-modified-id=\"Creating-and-Visualizing-DataFrames-4\"><span class=\"toc-item-num\">4&nbsp;&nbsp;</span>Creating and Visualizing DataFrames</a></span><ul class=\"toc-item\"><li><span><a href=\"#Which-avocado-size-is-most-popular?\" data-toc-modified-id=\"Which-avocado-size-is-most-popular?-4.1\"><span class=\"toc-item-num\">4.1&nbsp;&nbsp;</span>Which avocado size is most popular?</a></span><ul class=\"toc-item\"><li><span><a href=\"#Changes-in-sales-over-time\" data-toc-modified-id=\"Changes-in-sales-over-time-4.1.1\"><span class=\"toc-item-num\">4.1.1&nbsp;&nbsp;</span>Changes in sales over time</a></span></li><li><span><a href=\"#Avocado-supply-and-demand\" data-toc-modified-id=\"Avocado-supply-and-demand-4.1.2\"><span class=\"toc-item-num\">4.1.2&nbsp;&nbsp;</span>Avocado supply and demand</a></span></li><li><span><a href=\"#Price-of-conventional-vs.-organic-avocados\" data-toc-modified-id=\"Price-of-conventional-vs.-organic-avocados-4.1.3\"><span class=\"toc-item-num\">4.1.3&nbsp;&nbsp;</span>Price of conventional vs. organic avocados</a></span></li></ul></li><li><span><a href=\"#Missing-values\" data-toc-modified-id=\"Missing-values-4.2\"><span class=\"toc-item-num\">4.2&nbsp;&nbsp;</span>Missing values</a></span><ul class=\"toc-item\"><li><span><a href=\"#Finding-missing-values\" data-toc-modified-id=\"Finding-missing-values-4.2.1\"><span class=\"toc-item-num\">4.2.1&nbsp;&nbsp;</span>Finding missing values</a></span></li></ul></li></ul></li></ul></div>"
   ]
  },
  {
   "cell_type": "code",
   "execution_count": 1,
   "metadata": {},
   "outputs": [],
   "source": [
    "import pandas as pd\n",
    "import numpy as np\n",
    "import matplotlib.pyplot as plt"
   ]
  },
  {
   "cell_type": "code",
   "execution_count": 5,
   "metadata": {},
   "outputs": [],
   "source": [
    "avoplotto = pd.read_pickle('./Data/avoplotto.pkl')\n",
    "homelessness = pd.read_pickle('./Data/homeless_data.pkl')\n",
    "walmart_sales = pd.read_pickle('./Data/walmart_sales.pkl.bz2')"
   ]
  },
  {
   "cell_type": "code",
   "execution_count": null,
   "metadata": {},
   "outputs": [],
   "source": []
  },
  {
   "cell_type": "markdown",
   "metadata": {},
   "source": [
    "# Transforming Data\n",
    "\n",
    "## Inspecting a DataFrame\n",
    "- When you get a new DataFrame to work with, the first thing you need to do is explore it and see what it contains. There are several useful methods and attributes for this.\n",
    "\n",
    "    - .head() returns the first few rows (the “head” of the DataFrame).\n",
    "    - .info() shows information on each of the columns, such as the data type and number of missing values.\n",
    "    - .shape returns the number of rows and columns of the DataFrame.\n",
    "    - .describe() calculates a few summary statistics for each column."
   ]
  },
  {
   "cell_type": "code",
   "execution_count": 6,
   "metadata": {},
   "outputs": [
    {
     "name": "stdout",
     "output_type": "stream",
     "text": [
      "               region       state  individuals  family_members  state_pop\n",
      "0  East South Central     Alabama       2570.0           864.0    4887681\n",
      "1             Pacific      Alaska       1434.0           582.0     735139\n",
      "2            Mountain     Arizona       7259.0          2606.0    7158024\n",
      "3  West South Central    Arkansas       2280.0           432.0    3009733\n",
      "4             Pacific  California     109008.0         20964.0   39461588\n",
      "<class 'pandas.core.frame.DataFrame'>\n",
      "Int64Index: 51 entries, 0 to 50\n",
      "Data columns (total 5 columns):\n",
      "region            51 non-null object\n",
      "state             51 non-null object\n",
      "individuals       51 non-null float64\n",
      "family_members    51 non-null float64\n",
      "state_pop         51 non-null int64\n",
      "dtypes: float64(2), int64(1), object(2)\n",
      "memory usage: 2.4+ KB\n",
      "None\n",
      "(51, 5)\n",
      "         individuals  family_members     state_pop\n",
      "count      51.000000       51.000000  5.100000e+01\n",
      "mean     7225.784314     3504.882353  6.405637e+06\n",
      "std     15991.025083     7805.411811  7.327258e+06\n",
      "min       434.000000       75.000000  5.776010e+05\n",
      "25%      1446.500000      592.000000  1.777414e+06\n",
      "50%      3082.000000     1482.000000  4.461153e+06\n",
      "75%      6781.500000     3196.000000  7.340946e+06\n",
      "max    109008.000000    52070.000000  3.946159e+07\n"
     ]
    }
   ],
   "source": [
    "# Print the head of the homelessness data\n",
    "print(homelessness.head())\n",
    "\n",
    "# Print information about homelessness\n",
    "print(homelessness.info())\n",
    "\n",
    "# Print the shape of homelessness\n",
    "print(homelessness.shape)\n",
    "\n",
    "# Print a description of homelessness\n",
    "print(homelessness.describe())"
   ]
  },
  {
   "cell_type": "markdown",
   "metadata": {},
   "source": [
    "### Parts of a DataFrame\n",
    "- To better understand DataFrame objects, it's useful to know that they consist of three components, stored as attributes:\n",
    "\n",
    "    - .values: A two-dimensional NumPy array of values.\n",
    "    - .columns: An index of columns: the column names.\n",
    "    - .index: An index for the rows: either row numbers or row names.\n",
    "\n",
    "- You can usually think of indexes as being like a list of strings or numbers, though the pandas Index data type allows for more sophisticated options. (These will be covered later in the course.)"
   ]
  },
  {
   "cell_type": "code",
   "execution_count": 7,
   "metadata": {},
   "outputs": [
    {
     "name": "stdout",
     "output_type": "stream",
     "text": [
      "[['East South Central' 'Alabama' 2570.0 864.0 4887681]\n",
      " ['Pacific' 'Alaska' 1434.0 582.0 735139]\n",
      " ['Mountain' 'Arizona' 7259.0 2606.0 7158024]\n",
      " ['West South Central' 'Arkansas' 2280.0 432.0 3009733]\n",
      " ['Pacific' 'California' 109008.0 20964.0 39461588]\n",
      " ['Mountain' 'Colorado' 7607.0 3250.0 5691287]\n",
      " ['New England' 'Connecticut' 2280.0 1696.0 3571520]\n",
      " ['South Atlantic' 'Delaware' 708.0 374.0 965479]\n",
      " ['South Atlantic' 'District of Columbia' 3770.0 3134.0 701547]\n",
      " ['South Atlantic' 'Florida' 21443.0 9587.0 21244317]\n",
      " ['South Atlantic' 'Georgia' 6943.0 2556.0 10511131]\n",
      " ['Pacific' 'Hawaii' 4131.0 2399.0 1420593]\n",
      " ['Mountain' 'Idaho' 1297.0 715.0 1750536]\n",
      " ['East North Central' 'Illinois' 6752.0 3891.0 12723071]\n",
      " ['East North Central' 'Indiana' 3776.0 1482.0 6695497]\n",
      " ['West North Central' 'Iowa' 1711.0 1038.0 3148618]\n",
      " ['West North Central' 'Kansas' 1443.0 773.0 2911359]\n",
      " ['East South Central' 'Kentucky' 2735.0 953.0 4461153]\n",
      " ['West South Central' 'Louisiana' 2540.0 519.0 4659690]\n",
      " ['New England' 'Maine' 1450.0 1066.0 1339057]\n",
      " ['South Atlantic' 'Maryland' 4914.0 2230.0 6035802]\n",
      " ['New England' 'Massachusetts' 6811.0 13257.0 6882635]\n",
      " ['East North Central' 'Michigan' 5209.0 3142.0 9984072]\n",
      " ['West North Central' 'Minnesota' 3993.0 3250.0 5606249]\n",
      " ['East South Central' 'Mississippi' 1024.0 328.0 2981020]\n",
      " ['West North Central' 'Missouri' 3776.0 2107.0 6121623]\n",
      " ['Mountain' 'Montana' 983.0 422.0 1060665]\n",
      " ['West North Central' 'Nebraska' 1745.0 676.0 1925614]\n",
      " ['Mountain' 'Nevada' 7058.0 486.0 3027341]\n",
      " ['New England' 'New Hampshire' 835.0 615.0 1353465]\n",
      " ['Mid-Atlantic' 'New Jersey' 6048.0 3350.0 8886025]\n",
      " ['Mountain' 'New Mexico' 1949.0 602.0 2092741]\n",
      " ['Mid-Atlantic' 'New York' 39827.0 52070.0 19530351]\n",
      " ['South Atlantic' 'North Carolina' 6451.0 2817.0 10381615]\n",
      " ['West North Central' 'North Dakota' 467.0 75.0 758080]\n",
      " ['East North Central' 'Ohio' 6929.0 3320.0 11676341]\n",
      " ['West South Central' 'Oklahoma' 2823.0 1048.0 3940235]\n",
      " ['Pacific' 'Oregon' 11139.0 3337.0 4181886]\n",
      " ['Mid-Atlantic' 'Pennsylvania' 8163.0 5349.0 12800922]\n",
      " ['New England' 'Rhode Island' 747.0 354.0 1058287]\n",
      " ['South Atlantic' 'South Carolina' 3082.0 851.0 5084156]\n",
      " ['West North Central' 'South Dakota' 836.0 323.0 878698]\n",
      " ['East South Central' 'Tennessee' 6139.0 1744.0 6771631]\n",
      " ['West South Central' 'Texas' 19199.0 6111.0 28628666]\n",
      " ['Mountain' 'Utah' 1904.0 972.0 3153550]\n",
      " ['New England' 'Vermont' 780.0 511.0 624358]\n",
      " ['South Atlantic' 'Virginia' 3928.0 2047.0 8501286]\n",
      " ['Pacific' 'Washington' 16424.0 5880.0 7523869]\n",
      " ['South Atlantic' 'West Virginia' 1021.0 222.0 1804291]\n",
      " ['East North Central' 'Wisconsin' 2740.0 2167.0 5807406]\n",
      " ['Mountain' 'Wyoming' 434.0 205.0 577601]]\n",
      "Index(['region', 'state', 'individuals', 'family_members', 'state_pop'], dtype='object')\n",
      "Int64Index([ 0,  1,  2,  3,  4,  5,  6,  7,  8,  9, 10, 11, 12, 13, 14, 15, 16,\n",
      "            17, 18, 19, 20, 21, 22, 23, 24, 25, 26, 27, 28, 29, 30, 31, 32, 33,\n",
      "            34, 35, 36, 37, 38, 39, 40, 41, 42, 43, 44, 45, 46, 47, 48, 49,\n",
      "            50],\n",
      "           dtype='int64')\n"
     ]
    }
   ],
   "source": [
    "# Import pandas using the alias pd\n",
    "import pandas as pd\n",
    "\n",
    "# Print the values of homelessness\n",
    "print(homelessness.values)\n",
    "\n",
    "# Print the column index of homelessness\n",
    "print(homelessness.columns)\n",
    "\n",
    "# Print the row index of homelessness\n",
    "print(homelessness.index)"
   ]
  },
  {
   "cell_type": "markdown",
   "metadata": {},
   "source": [
    "## Sorting and subsetting\n",
    "\n",
    "### Sorting rows\n"
   ]
  },
  {
   "cell_type": "code",
   "execution_count": 8,
   "metadata": {},
   "outputs": [
    {
     "name": "stdout",
     "output_type": "stream",
     "text": [
      "                region      state  individuals  family_members  state_pop\n",
      "13  East North Central   Illinois       6752.0          3891.0   12723071\n",
      "35  East North Central       Ohio       6929.0          3320.0   11676341\n",
      "22  East North Central   Michigan       5209.0          3142.0    9984072\n",
      "49  East North Central  Wisconsin       2740.0          2167.0    5807406\n",
      "14  East North Central    Indiana       3776.0          1482.0    6695497\n"
     ]
    }
   ],
   "source": [
    "# Sort homelessness by region, then descending family members\n",
    "homelessness_reg_fam = homelessness.sort_values(['region','family_members'],ascending=[True,False])\n",
    "\n",
    "# Print the top few rows\n",
    "print(homelessness_reg_fam.head())"
   ]
  },
  {
   "cell_type": "markdown",
   "metadata": {},
   "source": [
    "### Subsetting"
   ]
  },
  {
   "cell_type": "code",
   "execution_count": 9,
   "metadata": {},
   "outputs": [
    {
     "name": "stdout",
     "output_type": "stream",
     "text": [
      "   individuals       state\n",
      "0       2570.0     Alabama\n",
      "1       1434.0      Alaska\n",
      "2       7259.0     Arizona\n",
      "3       2280.0    Arkansas\n",
      "4     109008.0  California\n"
     ]
    }
   ],
   "source": [
    "# Select only the individuals and state columns, in that order\n",
    "ind_state = homelessness[['individuals','state']]\n",
    "\n",
    "# Print the head of the result\n",
    "print(ind_state.head())"
   ]
  },
  {
   "cell_type": "markdown",
   "metadata": {},
   "source": [
    "### Subsetting rows by numeric vars"
   ]
  },
  {
   "cell_type": "code",
   "execution_count": 10,
   "metadata": {},
   "outputs": [
    {
     "name": "stdout",
     "output_type": "stream",
     "text": [
      "    region   state  individuals  family_members  state_pop\n",
      "1  Pacific  Alaska       1434.0           582.0     735139\n"
     ]
    }
   ],
   "source": [
    "# Filter for rows where family_members is less than 1000 \n",
    "# and region is Pacific\n",
    "fam_lt_1k_pac = homelessness[(homelessness['family_members']<1000)&(homelessness['region']=='Pacific')]\n",
    "\n",
    "# See the result\n",
    "print(fam_lt_1k_pac)"
   ]
  },
  {
   "cell_type": "markdown",
   "metadata": {},
   "source": [
    "### Subsetting rows by categorical variables"
   ]
  },
  {
   "cell_type": "code",
   "execution_count": 12,
   "metadata": {},
   "outputs": [
    {
     "name": "stdout",
     "output_type": "stream",
     "text": [
      "           region                 state  individuals  family_members  \\\n",
      "7  South Atlantic              Delaware        708.0           374.0   \n",
      "8  South Atlantic  District of Columbia       3770.0          3134.0   \n",
      "\n",
      "   state_pop  \n",
      "7     965479  \n",
      "8     701547  \n"
     ]
    }
   ],
   "source": [
    "# Subset for rows in South Atlantic or Mid-Atlantic regions\n",
    "south_mid_atlantic = homelessness[(homelessness['region']=='South Atlantic')|(homelessness['region']=='Mid-Atlantic')]\n",
    "\n",
    "# See the result\n",
    "print(south_mid_atlantic.head(2))"
   ]
  },
  {
   "cell_type": "markdown",
   "metadata": {},
   "source": [
    "#### using isin()"
   ]
  },
  {
   "cell_type": "code",
   "execution_count": 13,
   "metadata": {},
   "outputs": [
    {
     "name": "stdout",
     "output_type": "stream",
     "text": [
      "      region       state  individuals  family_members  state_pop\n",
      "2   Mountain     Arizona       7259.0          2606.0    7158024\n",
      "4    Pacific  California     109008.0         20964.0   39461588\n",
      "28  Mountain      Nevada       7058.0           486.0    3027341\n",
      "44  Mountain        Utah       1904.0           972.0    3153550\n"
     ]
    }
   ],
   "source": [
    "# The Mojave Desert states\n",
    "canu = [\"California\", \"Arizona\", \"Nevada\", \"Utah\"]\n",
    "\n",
    "# Filter for rows in the Mojave Desert states\n",
    "mojave_homelessness = homelessness[homelessness['state'].isin(canu)]\n",
    "\n",
    "# See the result\n",
    "print(mojave_homelessness)"
   ]
  },
  {
   "cell_type": "markdown",
   "metadata": {},
   "source": [
    "## Adding new columns"
   ]
  },
  {
   "cell_type": "code",
   "execution_count": 16,
   "metadata": {},
   "outputs": [
    {
     "name": "stdout",
     "output_type": "stream",
     "text": [
      "               region    state  individuals  family_members  state_pop  \\\n",
      "0  East South Central  Alabama       2570.0           864.0    4887681   \n",
      "1             Pacific   Alaska       1434.0           582.0     735139   \n",
      "\n",
      "    total  p_individuals  \n",
      "0  3434.0       0.748398  \n",
      "1  2016.0       0.711310  \n"
     ]
    }
   ],
   "source": [
    "# Add total col as sum of individuals and family_members\n",
    "homelessness['total'] = homelessness['individuals'] + homelessness['family_members']\n",
    "\n",
    "# Add p_individuals col as proportion of individuals\n",
    "homelessness['p_individuals'] = homelessness['individuals']/homelessness['total']\n",
    "\n",
    "# See the result\n",
    "print(homelessness.head(2))"
   ]
  },
  {
   "cell_type": "markdown",
   "metadata": {},
   "source": [
    "## Bringing it all together"
   ]
  },
  {
   "cell_type": "code",
   "execution_count": 33,
   "metadata": {},
   "outputs": [
    {
     "name": "stdout",
     "output_type": "stream",
     "text": [
      "                   state  indiv_per_10k\n",
      "8   District of Columbia      53.738381\n",
      "11                Hawaii      29.079406\n",
      "4             California      27.623825\n",
      "37                Oregon      26.636307\n",
      "28                Nevada      23.314189\n",
      "47            Washington      21.829195\n",
      "32              New York      20.392363\n"
     ]
    }
   ],
   "source": [
    "# Create indiv_per_10k col as homeless individuals per 10k state pop\n",
    "homelessness[\"indiv_per_10k\"] = 10000 * homelessness['individuals'] / homelessness['state_pop'] \n",
    "\n",
    "# Subset rows for indiv_per_10k greater than 20\n",
    "high_homelessness = homelessness[homelessness['indiv_per_10k']>20]\n",
    "\n",
    "# Sort high_homelessness by descending indiv_per_10k\n",
    "high_homelessness_srt = high_homelessness.sort_values('indiv_per_10k',ascending=False)\n",
    "\n",
    "# From high_homelessness_srt, select the state and indiv_per_10k cols\n",
    "result = high_homelessness_srt[['state','indiv_per_10k']]\n",
    "\n",
    "# See the result\n",
    "print(result)"
   ]
  },
  {
   "cell_type": "markdown",
   "metadata": {},
   "source": [
    "# Aggregating Data\n",
    "\n",
    "## Mean and median\n",
    "\n",
    "- Summary statistics are exactly what they sound like - they summarize many numbers in one statistic. For example, mean, median, minimum, maximum, and standard deviation are summary statistics. Calculating summary statistics allows you to get a better sense of your data, even if there's a lot of it."
   ]
  },
  {
   "cell_type": "code",
   "execution_count": 34,
   "metadata": {},
   "outputs": [
    {
     "name": "stdout",
     "output_type": "stream",
     "text": [
      "   store type  department       date  weekly_sales  is_holiday  temperature_c  \\\n",
      "0      1    A           1 2010-02-05      24924.50       False       5.727778   \n",
      "1      1    A           2 2010-02-05      50605.27       False       5.727778   \n",
      "2      1    A           3 2010-02-05      13740.12       False       5.727778   \n",
      "3      1    A           4 2010-02-05      39954.04       False       5.727778   \n",
      "4      1    A           5 2010-02-05      32229.38       False       5.727778   \n",
      "\n",
      "   fuel_price_usd_per_l  unemployment  \n",
      "0              0.679451         8.106  \n",
      "1              0.679451         8.106  \n",
      "2              0.679451         8.106  \n",
      "3              0.679451         8.106  \n",
      "4              0.679451         8.106  \n",
      "<class 'pandas.core.frame.DataFrame'>\n",
      "Int64Index: 413119 entries, 0 to 413118\n",
      "Data columns (total 9 columns):\n",
      "store                   413119 non-null int64\n",
      "type                    413119 non-null object\n",
      "department              413119 non-null int32\n",
      "date                    413119 non-null datetime64[ns]\n",
      "weekly_sales            413119 non-null float64\n",
      "is_holiday              413119 non-null bool\n",
      "temperature_c           413119 non-null float64\n",
      "fuel_price_usd_per_l    413119 non-null float64\n",
      "unemployment            413119 non-null float64\n",
      "dtypes: bool(1), datetime64[ns](1), float64(4), int32(1), int64(1), object(1)\n",
      "memory usage: 27.2+ MB\n",
      "None\n",
      "16094.726811185497\n",
      "7682.47\n"
     ]
    }
   ],
   "source": [
    "sales = walmart_sales.copy()\n",
    "\n",
    "# Print the head of the sales DataFrame\n",
    "print(sales.head())\n",
    "\n",
    "# Print the info about the sales DataFrame\n",
    "print(sales.info())\n",
    "\n",
    "# Print the mean of weekly_sales\n",
    "print(sales['weekly_sales'].mean())\n",
    "\n",
    "# Print the median of weekly_sales\n",
    "print(sales['weekly_sales'].median())"
   ]
  },
  {
   "cell_type": "code",
   "execution_count": 35,
   "metadata": {},
   "outputs": [
    {
     "name": "stdout",
     "output_type": "stream",
     "text": [
      "2012-10-26 00:00:00\n",
      "2010-02-05 00:00:00\n"
     ]
    }
   ],
   "source": [
    "# Print the maximum of the date column\n",
    "print(sales['date'].max())\n",
    "\n",
    "# Print the minimum of the date column\n",
    "print(sales['date'].min())"
   ]
  },
  {
   "cell_type": "markdown",
   "metadata": {},
   "source": [
    "## Efficient summaries\n",
    "- While pandas and NumPy have tons of functions, sometimes you may need a different function to summarize your data.\n",
    "\n",
    "- The .agg() method allows you to apply your own custom functions to a DataFrame, as well as apply functions to more than one column of a DataFrame at once, making your aggregations super efficient."
   ]
  },
  {
   "cell_type": "code",
   "execution_count": 36,
   "metadata": {},
   "outputs": [
    {
     "name": "stdout",
     "output_type": "stream",
     "text": [
      "        temperature_c  fuel_price_usd_per_l  unemployment\n",
      "iqr             15.30              0.211866         1.672\n",
      "median          16.75              0.911922         7.852\n"
     ]
    }
   ],
   "source": [
    "# Import NumPy and create custom IQR function\n",
    "import numpy as np\n",
    "def iqr(column):\n",
    "    return column.quantile(0.75) - column.quantile(0.25)\n",
    "\n",
    "# Update to print IQR and median of temperature_c, fuel_price_usd_per_l, & unemployment\n",
    "print(sales[[\"temperature_c\", \"fuel_price_usd_per_l\", \"unemployment\"]].agg([iqr,np.median]))"
   ]
  },
  {
   "cell_type": "markdown",
   "metadata": {},
   "source": [
    "## Cumulative statistics\n",
    "\n",
    "- Cumulative statistics can also be helpful in tracking summary statistics over time. In this exercise, you'll calculate the cumulative sum and cumulative max of a department's weekly sales, which will allow you to identify what the total sales were so far as well as what the highest weekly sales were so far."
   ]
  },
  {
   "cell_type": "code",
   "execution_count": 49,
   "metadata": {},
   "outputs": [
    {
     "name": "stdout",
     "output_type": "stream",
     "text": [
      "           date  weekly_sales  cum_weekly_sales  cum_max_sales\n",
      "0    2010-02-05      24924.50          24924.50       24924.50\n",
      "73   2010-02-12      46039.49          70963.99       46039.49\n",
      "145  2010-02-19      41595.55         112559.54       46039.49\n",
      "218  2010-02-26      19403.54         131963.08       46039.49\n",
      "290  2010-03-05      21827.90         153790.98       46039.49\n",
      "363  2010-03-12      21043.39         174834.37       46039.49\n",
      "436  2010-03-19      22136.64         196971.01       46039.49\n",
      "508  2010-03-26      26229.21         223200.22       46039.49\n",
      "580  2010-04-02      57258.43         280458.65       57258.43\n",
      "652  2010-04-09      42960.91         323419.56       57258.43\n",
      "725  2010-04-16      17596.96         341016.52       57258.43\n",
      "798  2010-04-23      16145.35         357161.87       57258.43\n",
      "870  2010-04-30      16555.11         373716.98       57258.43\n",
      "941  2010-05-07      17413.94         391130.92       57258.43\n",
      "1013 2010-05-14      18926.74         410057.66       57258.43\n"
     ]
    }
   ],
   "source": [
    "sales_1_1 = walmart_sales[(walmart_sales['department']==1)&(walmart_sales['store']==1)].head(15)\n",
    "\n",
    "# Sort sales_1_1 by date\n",
    "sales_1_1 = sales_1_1.sort_values('date')\n",
    "\n",
    "# Get the cumulative sum of weekly_sales, add as cum_weekly_sales col\n",
    "sales_1_1['cum_weekly_sales'] = sales_1_1['weekly_sales'].cumsum()\n",
    "\n",
    "# Get the cumulative max of weekly_sales, add as cum_max_sales col\n",
    "sales_1_1['cum_max_sales'] = sales_1_1['weekly_sales'].cummax()\n",
    "\n",
    "# See the columns you calculated\n",
    "print(sales_1_1[[\"date\", \"weekly_sales\", \"cum_weekly_sales\", \"cum_max_sales\"]])"
   ]
  },
  {
   "cell_type": "markdown",
   "metadata": {},
   "source": [
    "- Not all functions that calculate on columns return a single number. Some, like the cumulative statistic functions, return a whole column."
   ]
  },
  {
   "cell_type": "markdown",
   "metadata": {},
   "source": [
    "## Dropping duplicates\n",
    "\n",
    "- Removing duplicates is an essential skill to get accurate counts, because often you don't want to count the same thing multiple times."
   ]
  },
  {
   "cell_type": "code",
   "execution_count": 53,
   "metadata": {},
   "outputs": [],
   "source": [
    "sales = walmart_sales.sample(n=11000)"
   ]
  },
  {
   "cell_type": "code",
   "execution_count": 60,
   "metadata": {},
   "outputs": [
    {
     "name": "stdout",
     "output_type": "stream",
     "text": [
      "        store type  department       date  weekly_sales  is_holiday  \\\n",
      "41242       5    B          24 2010-07-16       1218.00       False   \n",
      "316956     33    A          94 2011-05-06      30593.88       False   \n",
      "\n",
      "        temperature_c  fuel_price_usd_per_l  unemployment  \n",
      "41242       28.877778              0.692924         6.496  \n",
      "316956      25.511111              1.107674         8.687  \n",
      "        store type  department       date  weekly_sales  is_holiday  \\\n",
      "41242       5    B          24 2010-07-16       1218.00       False   \n",
      "316956     33    A          94 2011-05-06      30593.88       False   \n",
      "\n",
      "        temperature_c  fuel_price_usd_per_l  unemployment  \n",
      "41242       28.877778              0.692924         6.496  \n",
      "316956      25.511111              1.107674         8.687  \n",
      "237195   2010-02-12\n",
      "355829   2010-11-26\n",
      "355290   2010-09-10\n",
      "124568   2011-11-25\n",
      "370423   2012-09-07\n",
      "384724   2011-02-11\n",
      "309805   2011-09-09\n",
      "174593   2012-02-10\n",
      "84822    2011-12-30\n",
      "260136   2010-12-31\n",
      "Name: date, dtype: datetime64[ns]\n"
     ]
    }
   ],
   "source": [
    "# Drop duplicate store/type combinations\n",
    "store_types = sales.drop_duplicates(['store','type'])\n",
    "print(store_types.head(2))\n",
    "\n",
    "# Drop duplicate store/department combinations\n",
    "store_depts = sales.drop_duplicates(['store','department'])\n",
    "print(store_depts.head(2))\n",
    "\n",
    "# Subset the rows that are holiday weeks and drop duplicate dates\n",
    "holiday_dates = sales[sales['is_holiday']==True].drop_duplicates('date')\n",
    "\n",
    "# Print date col of holiday_dates\n",
    "print(holiday_dates['date'])"
   ]
  },
  {
   "cell_type": "markdown",
   "metadata": {},
   "source": [
    "## Counting categorical variables\n",
    "\n",
    "- Counting is a great way to get an overview of your data and to spot curiosities that you might not notice otherwise. "
   ]
  },
  {
   "cell_type": "raw",
   "metadata": {},
   "source": [
    "# Count the number of stores of each type\n",
    "store_counts = stores['store'].value_counts()\n",
    "print(store_counts)\n",
    "\n",
    "# Get the proportion of stores of each type\n",
    "store_props = stores['store'].value_counts(normalize=True)\n",
    "print(store_props)\n",
    "\n",
    "# Count the number of each department number and sort\n",
    "dept_counts_sorted = departments['department'].value_counts(ascending=False)\n",
    "print(dept_counts_sorted)\n",
    "\n",
    "# Get the proportion of departments of each number and sort\n",
    "dept_props_sorted = departments['department'].value_counts(sort=True, normalize=True)\n",
    "print(dept_props_sorted)"
   ]
  },
  {
   "cell_type": "markdown",
   "metadata": {},
   "source": [
    "## Calculations with .groupby()\n",
    "\n",
    "- The .groupby() method makes life much easier. In this exercise, you'll perform the same calculations as last time, except you'll use the .groupby() method. You'll also perform calculations on data grouped by two variables to see if sales differs by store type depending on if it's a holiday week or not."
   ]
  },
  {
   "cell_type": "code",
   "execution_count": 78,
   "metadata": {},
   "outputs": [
    {
     "name": "stdout",
     "output_type": "stream",
     "text": [
      "type  is_holiday\n",
      "A     False         1.054388e+08\n",
      "      True          9.451671e+06\n",
      "B     False         4.752099e+07\n",
      "      True          3.856934e+06\n",
      "C     False         9.972225e+06\n",
      "      True          6.427048e+05\n",
      "Name: weekly_sales, dtype: float64\n"
     ]
    }
   ],
   "source": [
    "# From previous step\n",
    "sales_by_type = sales.groupby(\"type\")[\"weekly_sales\"].sum()\n",
    "\n",
    "# Group by type and is_holiday; calc total weekly sales\n",
    "sales_by_type_is_holiday = sales.groupby([\"type\",'is_holiday'])[\"weekly_sales\"].sum()\n",
    "print(sales_by_type_is_holiday)"
   ]
  },
  {
   "cell_type": "markdown",
   "metadata": {},
   "source": [
    "## Multiple grouped summaries"
   ]
  },
  {
   "cell_type": "code",
   "execution_count": 85,
   "metadata": {},
   "outputs": [
    {
     "data": {
      "text/html": [
       "<div>\n",
       "<style scoped>\n",
       "    .dataframe tbody tr th:only-of-type {\n",
       "        vertical-align: middle;\n",
       "    }\n",
       "\n",
       "    .dataframe tbody tr th {\n",
       "        vertical-align: top;\n",
       "    }\n",
       "\n",
       "    .dataframe thead th {\n",
       "        text-align: right;\n",
       "    }\n",
       "</style>\n",
       "<table border=\"1\" class=\"dataframe\">\n",
       "  <thead>\n",
       "    <tr style=\"text-align: right;\">\n",
       "      <th></th>\n",
       "      <th>amin</th>\n",
       "      <th>amax</th>\n",
       "    </tr>\n",
       "    <tr>\n",
       "      <th>type</th>\n",
       "      <th></th>\n",
       "      <th></th>\n",
       "    </tr>\n",
       "  </thead>\n",
       "  <tbody>\n",
       "    <tr>\n",
       "      <td>A</td>\n",
       "      <td>-698.0</td>\n",
       "      <td>420586.57</td>\n",
       "    </tr>\n",
       "    <tr>\n",
       "      <td>B</td>\n",
       "      <td>-19.0</td>\n",
       "      <td>360140.66</td>\n",
       "    </tr>\n",
       "    <tr>\n",
       "      <td>C</td>\n",
       "      <td>-18.0</td>\n",
       "      <td>99647.65</td>\n",
       "    </tr>\n",
       "  </tbody>\n",
       "</table>\n",
       "</div>"
      ],
      "text/plain": [
       "       amin       amax\n",
       "type                  \n",
       "A    -698.0  420586.57\n",
       "B     -19.0  360140.66\n",
       "C     -18.0   99647.65"
      ]
     },
     "execution_count": 85,
     "metadata": {},
     "output_type": "execute_result"
    }
   ],
   "source": [
    "# Import NumPy with the alias np\n",
    "import numpy as np\n",
    "\n",
    "# For each store type, aggregate weekly_sales: get min, max, mean, and median\n",
    "sales_stats = sales.groupby('type')['weekly_sales'].agg([np.min,np.max,np.mean,np.median])\n",
    "\n",
    "# Print sales_stats\n",
    "print(sales_stats)\n",
    "\n",
    "# For each store type, aggregate unemployment and fuel_price_usd_per_l: get min, max, mean, and median\n",
    "unemp_fuel_stats = sales.groupby('type')[['unemployment','fuel_price_usd_per_l']].agg([np.min,np.max,np.mean,np.median])\n",
    "\n",
    "# Print unemp_fuel_stats\n",
    "print(unemp_fuel_stats)"
   ]
  },
  {
   "cell_type": "markdown",
   "metadata": {},
   "source": [
    "## Pivot tables\n"
   ]
  },
  {
   "cell_type": "code",
   "execution_count": 86,
   "metadata": {},
   "outputs": [
    {
     "name": "stdout",
     "output_type": "stream",
     "text": [
      "              mean       median\n",
      "      weekly_sales weekly_sales\n",
      "type                           \n",
      "A     20291.494802    10104.745\n",
      "B     12291.369084     6306.750\n",
      "C      9166.606192     1041.060\n"
     ]
    }
   ],
   "source": [
    "# Pivot for mean and median weekly_sales for each store type\n",
    "mean_med_sales_by_type = sales.pivot_table(index='type',values='weekly_sales',aggfunc=[np.mean,np.median])\n",
    "\n",
    "# Print mean_med_sales_by_type\n",
    "print(mean_med_sales_by_type)"
   ]
  },
  {
   "cell_type": "code",
   "execution_count": 87,
   "metadata": {},
   "outputs": [
    {
     "name": "stdout",
     "output_type": "stream",
     "text": [
      "is_holiday         False         True \n",
      "type                                  \n",
      "A           20175.807920  21678.145367\n",
      "B           12238.214991  12986.309630\n",
      "C            9216.474325   8456.641447\n"
     ]
    }
   ],
   "source": [
    "# Pivot for mean weekly_sales by store type and holiday \n",
    "mean_sales_by_type_holiday = sales.pivot_table(index='type',values='weekly_sales',columns='is_holiday')\n",
    "\n",
    "# Print mean_sales_by_type_holiday\n",
    "print(mean_sales_by_type_holiday)"
   ]
  },
  {
   "cell_type": "markdown",
   "metadata": {},
   "source": [
    "## Fill in missing values and sum values with pivot tables"
   ]
  },
  {
   "cell_type": "code",
   "execution_count": null,
   "metadata": {},
   "outputs": [],
   "source": [
    "# Print the mean weekly_sales by department and type; fill missing values with 0s; sum all rows and cols\n",
    "print(sales.pivot_table(values=\"weekly_sales\", index=\"department\", columns=\"type\", fill_value=0,margins=True))"
   ]
  },
  {
   "cell_type": "markdown",
   "metadata": {},
   "source": [
    "# Slicing and indexing\n",
    "\n",
    "## Setting & removing indexes"
   ]
  },
  {
   "cell_type": "code",
   "execution_count": 89,
   "metadata": {
    "scrolled": true
   },
   "outputs": [
    {
     "data": {
      "text/html": [
       "<div>\n",
       "<style scoped>\n",
       "    .dataframe tbody tr th:only-of-type {\n",
       "        vertical-align: middle;\n",
       "    }\n",
       "\n",
       "    .dataframe tbody tr th {\n",
       "        vertical-align: top;\n",
       "    }\n",
       "\n",
       "    .dataframe thead th {\n",
       "        text-align: right;\n",
       "    }\n",
       "</style>\n",
       "<table border=\"1\" class=\"dataframe\">\n",
       "  <thead>\n",
       "    <tr style=\"text-align: right;\">\n",
       "      <th></th>\n",
       "      <th>region</th>\n",
       "      <th>state</th>\n",
       "      <th>individuals</th>\n",
       "      <th>family_members</th>\n",
       "      <th>state_pop</th>\n",
       "      <th>total</th>\n",
       "      <th>p_individuals</th>\n",
       "      <th>indiv_per_10k</th>\n",
       "    </tr>\n",
       "  </thead>\n",
       "  <tbody>\n",
       "    <tr>\n",
       "      <td>0</td>\n",
       "      <td>East South Central</td>\n",
       "      <td>Alabama</td>\n",
       "      <td>2570.0</td>\n",
       "      <td>864.0</td>\n",
       "      <td>4887681</td>\n",
       "      <td>3434.0</td>\n",
       "      <td>0.748398</td>\n",
       "      <td>5.258117</td>\n",
       "    </tr>\n",
       "    <tr>\n",
       "      <td>1</td>\n",
       "      <td>Pacific</td>\n",
       "      <td>Alaska</td>\n",
       "      <td>1434.0</td>\n",
       "      <td>582.0</td>\n",
       "      <td>735139</td>\n",
       "      <td>2016.0</td>\n",
       "      <td>0.711310</td>\n",
       "      <td>19.506515</td>\n",
       "    </tr>\n",
       "    <tr>\n",
       "      <td>2</td>\n",
       "      <td>Mountain</td>\n",
       "      <td>Arizona</td>\n",
       "      <td>7259.0</td>\n",
       "      <td>2606.0</td>\n",
       "      <td>7158024</td>\n",
       "      <td>9865.0</td>\n",
       "      <td>0.735834</td>\n",
       "      <td>10.141067</td>\n",
       "    </tr>\n",
       "    <tr>\n",
       "      <td>3</td>\n",
       "      <td>West South Central</td>\n",
       "      <td>Arkansas</td>\n",
       "      <td>2280.0</td>\n",
       "      <td>432.0</td>\n",
       "      <td>3009733</td>\n",
       "      <td>2712.0</td>\n",
       "      <td>0.840708</td>\n",
       "      <td>7.575423</td>\n",
       "    </tr>\n",
       "    <tr>\n",
       "      <td>4</td>\n",
       "      <td>Pacific</td>\n",
       "      <td>California</td>\n",
       "      <td>109008.0</td>\n",
       "      <td>20964.0</td>\n",
       "      <td>39461588</td>\n",
       "      <td>129972.0</td>\n",
       "      <td>0.838704</td>\n",
       "      <td>27.623825</td>\n",
       "    </tr>\n",
       "  </tbody>\n",
       "</table>\n",
       "</div>"
      ],
      "text/plain": [
       "               region       state  individuals  family_members  state_pop  \\\n",
       "0  East South Central     Alabama       2570.0           864.0    4887681   \n",
       "1             Pacific      Alaska       1434.0           582.0     735139   \n",
       "2            Mountain     Arizona       7259.0          2606.0    7158024   \n",
       "3  West South Central    Arkansas       2280.0           432.0    3009733   \n",
       "4             Pacific  California     109008.0         20964.0   39461588   \n",
       "\n",
       "      total  p_individuals  indiv_per_10k  \n",
       "0    3434.0       0.748398       5.258117  \n",
       "1    2016.0       0.711310      19.506515  \n",
       "2    9865.0       0.735834      10.141067  \n",
       "3    2712.0       0.840708       7.575423  \n",
       "4  129972.0       0.838704      27.623825  "
      ]
     },
     "execution_count": 89,
     "metadata": {},
     "output_type": "execute_result"
    }
   ],
   "source": [
    "homelessness.head()"
   ]
  },
  {
   "cell_type": "code",
   "execution_count": 92,
   "metadata": {},
   "outputs": [
    {
     "name": "stdout",
     "output_type": "stream",
     "text": [
      "                     region  individuals  family_members  state_pop   total  \\\n",
      "state                                                                         \n",
      "Alabama  East South Central       2570.0           864.0    4887681  3434.0   \n",
      "Alaska              Pacific       1434.0           582.0     735139  2016.0   \n",
      "\n",
      "         p_individuals  indiv_per_10k  \n",
      "state                                  \n",
      "Alabama       0.748398       5.258117  \n",
      "Alaska        0.711310      19.506515  \n",
      "     state              region  individuals  family_members  state_pop  \\\n",
      "0  Alabama  East South Central       2570.0           864.0    4887681   \n",
      "1   Alaska             Pacific       1434.0           582.0     735139   \n",
      "\n",
      "    total  p_individuals  indiv_per_10k  \n",
      "0  3434.0       0.748398       5.258117  \n",
      "1  2016.0       0.711310      19.506515  \n",
      "               region  individuals  family_members  state_pop   total  \\\n",
      "0  East South Central       2570.0           864.0    4887681  3434.0   \n",
      "1             Pacific       1434.0           582.0     735139  2016.0   \n",
      "\n",
      "   p_individuals  indiv_per_10k  \n",
      "0       0.748398       5.258117  \n",
      "1       0.711310      19.506515  \n"
     ]
    }
   ],
   "source": [
    "# Index homelessness by state\n",
    "homelessness_ind = homelessness.set_index('state')\n",
    "\n",
    "# Look at temperatures_ind\n",
    "print(homelessness_ind.head(2))\n",
    "\n",
    "# Reset the index, keeping its contents\n",
    "print(homelessness_ind.reset_index().head(2))\n",
    "\n",
    "# Reset the index, dropping its contents\n",
    "print(homelessness_ind.reset_index(drop=True).head(2))"
   ]
  },
  {
   "cell_type": "markdown",
   "metadata": {},
   "source": [
    "### Subsetting with .loc[]"
   ]
  },
  {
   "cell_type": "code",
   "execution_count": 93,
   "metadata": {},
   "outputs": [
    {
     "name": "stdout",
     "output_type": "stream",
     "text": [
      "     region    state  individuals  family_members  state_pop   total  \\\n",
      "1   Pacific   Alaska       1434.0           582.0     735139  2016.0   \n",
      "2  Mountain  Arizona       7259.0          2606.0    7158024  9865.0   \n",
      "\n",
      "   p_individuals  indiv_per_10k  \n",
      "1       0.711310      19.506515  \n",
      "2       0.735834      10.141067  \n",
      "           region  individuals  family_members  state_pop   total  \\\n",
      "state                                                               \n",
      "Alaska    Pacific       1434.0           582.0     735139  2016.0   \n",
      "Arizona  Mountain       7259.0          2606.0    7158024  9865.0   \n",
      "\n",
      "         p_individuals  indiv_per_10k  \n",
      "state                                  \n",
      "Alaska        0.711310      19.506515  \n",
      "Arizona       0.735834      10.141067  \n"
     ]
    }
   ],
   "source": [
    "# Make a list of cities to subset on\n",
    "states = ['Alaska','Arizona']\n",
    "\n",
    "# Subset temperatures using square brackets\n",
    "print(homelessness[homelessness['state'].isin(states)])\n",
    "\n",
    "# Subset temperatures_ind using .loc[]\n",
    "print(homelessness_ind.loc[states])"
   ]
  },
  {
   "cell_type": "markdown",
   "metadata": {},
   "source": [
    "- .loc[] is used by all the best folk! Setting an index allows more concise code for subsetting rows via .loc[]."
   ]
  },
  {
   "cell_type": "markdown",
   "metadata": {},
   "source": [
    "### Setting multi-level indexes\n",
    "- Indexes can also be made out of multiple columns, forming a multi-level index (sometimes called a hierarchical index). There is a trade-off to using these.\n",
    "\n",
    "- The benefit is that multi-level indexes make it more natural to reason about nested categorical variables. For example, in a clinical trial you might have control and treatment groups. Then each test subject belongs to one or other group, and we can say that test subject is nested inside treatment group. Similarly, in the temperature dataset, the city is located in the country, so we can say city is nested inside country.\n",
    "\n",
    "- The main downside is that the code for manipulating indexes is different to the code for the manipulating columns, so you have to learn two syntaxes, and keep track of how your data is represented."
   ]
  },
  {
   "cell_type": "code",
   "execution_count": 94,
   "metadata": {},
   "outputs": [
    {
     "name": "stdout",
     "output_type": "stream",
     "text": [
      "                  individuals  family_members  state_pop   total  \\\n",
      "region   state                                                     \n",
      "Pacific  Alaska        1434.0           582.0     735139  2016.0   \n",
      "Mountain Arizona       7259.0          2606.0    7158024  9865.0   \n",
      "\n",
      "                  p_individuals  indiv_per_10k  \n",
      "region   state                                  \n",
      "Pacific  Alaska        0.711310      19.506515  \n",
      "Mountain Arizona       0.735834      10.141067  \n"
     ]
    }
   ],
   "source": [
    "# Index temperatures by country & city\n",
    "homelessness_ind = homelessness.set_index(['region','state'])\n",
    "\n",
    "# List of tuples: Brazil, Rio De Janeiro & Pakistan, Lahore\n",
    "rows_to_keep = [('Pacific','Alaska'),('Mountain','Arizona')]\n",
    "\n",
    "# Subset for rows to keep\n",
    "print(homelessness_ind.loc[rows_to_keep])"
   ]
  },
  {
   "cell_type": "markdown",
   "metadata": {},
   "source": [
    "- Magnificent multi-level indexing! Multi-level indexes can make it easy to comprehend your dataset when one category is nested inside another category."
   ]
  },
  {
   "cell_type": "markdown",
   "metadata": {},
   "source": [
    "### Sorting by index values"
   ]
  },
  {
   "cell_type": "code",
   "execution_count": 99,
   "metadata": {},
   "outputs": [
    {
     "name": "stdout",
     "output_type": "stream",
     "text": [
      "<bound method DataFrame.sort_index of                                          individuals  family_members  \\\n",
      "region             state                                               \n",
      "East South Central Alabama                    2570.0           864.0   \n",
      "Pacific            Alaska                     1434.0           582.0   \n",
      "Mountain           Arizona                    7259.0          2606.0   \n",
      "West South Central Arkansas                   2280.0           432.0   \n",
      "Pacific            California               109008.0         20964.0   \n",
      "Mountain           Colorado                   7607.0          3250.0   \n",
      "New England        Connecticut                2280.0          1696.0   \n",
      "South Atlantic     Delaware                    708.0           374.0   \n",
      "                   District of Columbia       3770.0          3134.0   \n",
      "                   Florida                   21443.0          9587.0   \n",
      "                   Georgia                    6943.0          2556.0   \n",
      "Pacific            Hawaii                     4131.0          2399.0   \n",
      "Mountain           Idaho                      1297.0           715.0   \n",
      "East North Central Illinois                   6752.0          3891.0   \n",
      "                   Indiana                    3776.0          1482.0   \n",
      "West North Central Iowa                       1711.0          1038.0   \n",
      "                   Kansas                     1443.0           773.0   \n",
      "East South Central Kentucky                   2735.0           953.0   \n",
      "West South Central Louisiana                  2540.0           519.0   \n",
      "New England        Maine                      1450.0          1066.0   \n",
      "South Atlantic     Maryland                   4914.0          2230.0   \n",
      "New England        Massachusetts              6811.0         13257.0   \n",
      "East North Central Michigan                   5209.0          3142.0   \n",
      "West North Central Minnesota                  3993.0          3250.0   \n",
      "East South Central Mississippi                1024.0           328.0   \n",
      "West North Central Missouri                   3776.0          2107.0   \n",
      "Mountain           Montana                     983.0           422.0   \n",
      "West North Central Nebraska                   1745.0           676.0   \n",
      "Mountain           Nevada                     7058.0           486.0   \n",
      "New England        New Hampshire               835.0           615.0   \n",
      "Mid-Atlantic       New Jersey                 6048.0          3350.0   \n",
      "Mountain           New Mexico                 1949.0           602.0   \n",
      "Mid-Atlantic       New York                  39827.0         52070.0   \n",
      "South Atlantic     North Carolina             6451.0          2817.0   \n",
      "West North Central North Dakota                467.0            75.0   \n",
      "East North Central Ohio                       6929.0          3320.0   \n",
      "West South Central Oklahoma                   2823.0          1048.0   \n",
      "Pacific            Oregon                    11139.0          3337.0   \n",
      "Mid-Atlantic       Pennsylvania               8163.0          5349.0   \n",
      "New England        Rhode Island                747.0           354.0   \n",
      "South Atlantic     South Carolina             3082.0           851.0   \n",
      "West North Central South Dakota                836.0           323.0   \n",
      "East South Central Tennessee                  6139.0          1744.0   \n",
      "West South Central Texas                     19199.0          6111.0   \n",
      "Mountain           Utah                       1904.0           972.0   \n",
      "New England        Vermont                     780.0           511.0   \n",
      "South Atlantic     Virginia                   3928.0          2047.0   \n",
      "Pacific            Washington                16424.0          5880.0   \n",
      "South Atlantic     West Virginia              1021.0           222.0   \n",
      "East North Central Wisconsin                  2740.0          2167.0   \n",
      "Mountain           Wyoming                     434.0           205.0   \n",
      "\n",
      "                                         state_pop     total  p_individuals  \\\n",
      "region             state                                                      \n",
      "East South Central Alabama                 4887681    3434.0       0.748398   \n",
      "Pacific            Alaska                   735139    2016.0       0.711310   \n",
      "Mountain           Arizona                 7158024    9865.0       0.735834   \n",
      "West South Central Arkansas                3009733    2712.0       0.840708   \n",
      "Pacific            California             39461588  129972.0       0.838704   \n",
      "Mountain           Colorado                5691287   10857.0       0.700654   \n",
      "New England        Connecticut             3571520    3976.0       0.573441   \n",
      "South Atlantic     Delaware                 965479    1082.0       0.654344   \n",
      "                   District of Columbia     701547    6904.0       0.546060   \n",
      "                   Florida                21244317   31030.0       0.691041   \n",
      "                   Georgia                10511131    9499.0       0.730919   \n",
      "Pacific            Hawaii                  1420593    6530.0       0.632619   \n",
      "Mountain           Idaho                   1750536    2012.0       0.644632   \n",
      "East North Central Illinois               12723071   10643.0       0.634408   \n",
      "                   Indiana                 6695497    5258.0       0.718144   \n",
      "West North Central Iowa                    3148618    2749.0       0.622408   \n",
      "                   Kansas                  2911359    2216.0       0.651173   \n",
      "East South Central Kentucky                4461153    3688.0       0.741594   \n",
      "West South Central Louisiana               4659690    3059.0       0.830337   \n",
      "New England        Maine                   1339057    2516.0       0.576312   \n",
      "South Atlantic     Maryland                6035802    7144.0       0.687850   \n",
      "New England        Massachusetts           6882635   20068.0       0.339396   \n",
      "East North Central Michigan                9984072    8351.0       0.623758   \n",
      "West North Central Minnesota               5606249    7243.0       0.551291   \n",
      "East South Central Mississippi             2981020    1352.0       0.757396   \n",
      "West North Central Missouri                6121623    5883.0       0.641849   \n",
      "Mountain           Montana                 1060665    1405.0       0.699644   \n",
      "West North Central Nebraska                1925614    2421.0       0.720777   \n",
      "Mountain           Nevada                  3027341    7544.0       0.935578   \n",
      "New England        New Hampshire           1353465    1450.0       0.575862   \n",
      "Mid-Atlantic       New Jersey              8886025    9398.0       0.643541   \n",
      "Mountain           New Mexico              2092741    2551.0       0.764014   \n",
      "Mid-Atlantic       New York               19530351   91897.0       0.433387   \n",
      "South Atlantic     North Carolina         10381615    9268.0       0.696051   \n",
      "West North Central North Dakota             758080     542.0       0.861624   \n",
      "East North Central Ohio                   11676341   10249.0       0.676066   \n",
      "West South Central Oklahoma                3940235    3871.0       0.729269   \n",
      "Pacific            Oregon                  4181886   14476.0       0.769481   \n",
      "Mid-Atlantic       Pennsylvania           12800922   13512.0       0.604130   \n",
      "New England        Rhode Island            1058287    1101.0       0.678474   \n",
      "South Atlantic     South Carolina          5084156    3933.0       0.783626   \n",
      "West North Central South Dakota             878698    1159.0       0.721311   \n",
      "East South Central Tennessee               6771631    7883.0       0.778764   \n",
      "West South Central Texas                  28628666   25310.0       0.758554   \n",
      "Mountain           Utah                    3153550    2876.0       0.662031   \n",
      "New England        Vermont                  624358    1291.0       0.604183   \n",
      "South Atlantic     Virginia                8501286    5975.0       0.657406   \n",
      "Pacific            Washington              7523869   22304.0       0.736370   \n",
      "South Atlantic     West Virginia           1804291    1243.0       0.821400   \n",
      "East North Central Wisconsin               5807406    4907.0       0.558386   \n",
      "Mountain           Wyoming                  577601     639.0       0.679186   \n",
      "\n",
      "                                         indiv_per_10k  \n",
      "region             state                                \n",
      "East South Central Alabama                    5.258117  \n",
      "Pacific            Alaska                    19.506515  \n",
      "Mountain           Arizona                   10.141067  \n",
      "West South Central Arkansas                   7.575423  \n",
      "Pacific            California                27.623825  \n",
      "Mountain           Colorado                  13.366045  \n",
      "New England        Connecticut                6.383837  \n",
      "South Atlantic     Delaware                   7.333148  \n",
      "                   District of Columbia      53.738381  \n",
      "                   Florida                   10.093523  \n",
      "                   Georgia                    6.605379  \n",
      "Pacific            Hawaii                    29.079406  \n",
      "Mountain           Idaho                      7.409159  \n",
      "East North Central Illinois                   5.306895  \n",
      "                   Indiana                    5.639611  \n",
      "West North Central Iowa                       5.434130  \n",
      "                   Kansas                     4.956448  \n",
      "East South Central Kentucky                   6.130702  \n",
      "West South Central Louisiana                  5.451006  \n",
      "New England        Maine                     10.828516  \n",
      "South Atlantic     Maryland                   8.141420  \n",
      "New England        Massachusetts              9.895919  \n",
      "East North Central Michigan                   5.217310  \n",
      "West North Central Minnesota                  7.122409  \n",
      "East South Central Mississippi                3.435066  \n",
      "West North Central Missouri                   6.168299  \n",
      "Mountain           Montana                    9.267771  \n",
      "West North Central Nebraska                   9.062045  \n",
      "Mountain           Nevada                    23.314189  \n",
      "New England        New Hampshire              6.169351  \n",
      "Mid-Atlantic       New Jersey                 6.806193  \n",
      "Mountain           New Mexico                 9.313145  \n",
      "Mid-Atlantic       New York                  20.392363  \n",
      "South Atlantic     North Carolina             6.213869  \n",
      "West North Central North Dakota               6.160300  \n",
      "East North Central Ohio                       5.934222  \n",
      "West South Central Oklahoma                   7.164547  \n",
      "Pacific            Oregon                    26.636307  \n",
      "Mid-Atlantic       Pennsylvania               6.376884  \n",
      "New England        Rhode Island               7.058577  \n",
      "South Atlantic     South Carolina             6.061970  \n",
      "West North Central South Dakota               9.514077  \n",
      "East South Central Tennessee                  9.065763  \n",
      "West South Central Texas                      6.706215  \n",
      "Mountain           Utah                       6.037640  \n",
      "New England        Vermont                   12.492833  \n",
      "South Atlantic     Virginia                   4.620477  \n",
      "Pacific            Washington                21.829195  \n",
      "South Atlantic     West Virginia              5.658732  \n",
      "East North Central Wisconsin                  4.718113  \n",
      "Mountain           Wyoming                    7.513837  >\n",
      "                                         individuals  family_members  \\\n",
      "region             state                                               \n",
      "East South Central Alabama                    2570.0           864.0   \n",
      "Pacific            Alaska                     1434.0           582.0   \n",
      "Mountain           Arizona                    7259.0          2606.0   \n",
      "West South Central Arkansas                   2280.0           432.0   \n",
      "Pacific            California               109008.0         20964.0   \n",
      "Mountain           Colorado                   7607.0          3250.0   \n",
      "New England        Connecticut                2280.0          1696.0   \n",
      "South Atlantic     Delaware                    708.0           374.0   \n",
      "                   District of Columbia       3770.0          3134.0   \n",
      "                   Florida                   21443.0          9587.0   \n",
      "                   Georgia                    6943.0          2556.0   \n",
      "Pacific            Hawaii                     4131.0          2399.0   \n",
      "Mountain           Idaho                      1297.0           715.0   \n",
      "East North Central Illinois                   6752.0          3891.0   \n",
      "                   Indiana                    3776.0          1482.0   \n",
      "West North Central Iowa                       1711.0          1038.0   \n",
      "                   Kansas                     1443.0           773.0   \n",
      "East South Central Kentucky                   2735.0           953.0   \n",
      "West South Central Louisiana                  2540.0           519.0   \n",
      "New England        Maine                      1450.0          1066.0   \n",
      "South Atlantic     Maryland                   4914.0          2230.0   \n",
      "New England        Massachusetts              6811.0         13257.0   \n",
      "East North Central Michigan                   5209.0          3142.0   \n",
      "West North Central Minnesota                  3993.0          3250.0   \n",
      "East South Central Mississippi                1024.0           328.0   \n",
      "West North Central Missouri                   3776.0          2107.0   \n",
      "Mountain           Montana                     983.0           422.0   \n",
      "West North Central Nebraska                   1745.0           676.0   \n",
      "Mountain           Nevada                     7058.0           486.0   \n",
      "New England        New Hampshire               835.0           615.0   \n",
      "Mid-Atlantic       New Jersey                 6048.0          3350.0   \n",
      "Mountain           New Mexico                 1949.0           602.0   \n",
      "Mid-Atlantic       New York                  39827.0         52070.0   \n",
      "South Atlantic     North Carolina             6451.0          2817.0   \n",
      "West North Central North Dakota                467.0            75.0   \n",
      "East North Central Ohio                       6929.0          3320.0   \n",
      "West South Central Oklahoma                   2823.0          1048.0   \n",
      "Pacific            Oregon                    11139.0          3337.0   \n",
      "Mid-Atlantic       Pennsylvania               8163.0          5349.0   \n",
      "New England        Rhode Island                747.0           354.0   \n",
      "South Atlantic     South Carolina             3082.0           851.0   \n",
      "West North Central South Dakota                836.0           323.0   \n",
      "East South Central Tennessee                  6139.0          1744.0   \n",
      "West South Central Texas                     19199.0          6111.0   \n",
      "Mountain           Utah                       1904.0           972.0   \n",
      "New England        Vermont                     780.0           511.0   \n",
      "South Atlantic     Virginia                   3928.0          2047.0   \n",
      "Pacific            Washington                16424.0          5880.0   \n",
      "South Atlantic     West Virginia              1021.0           222.0   \n",
      "East North Central Wisconsin                  2740.0          2167.0   \n",
      "Mountain           Wyoming                     434.0           205.0   \n",
      "\n",
      "                                         state_pop     total  p_individuals  \\\n",
      "region             state                                                      \n",
      "East South Central Alabama                 4887681    3434.0       0.748398   \n",
      "Pacific            Alaska                   735139    2016.0       0.711310   \n",
      "Mountain           Arizona                 7158024    9865.0       0.735834   \n",
      "West South Central Arkansas                3009733    2712.0       0.840708   \n",
      "Pacific            California             39461588  129972.0       0.838704   \n",
      "Mountain           Colorado                5691287   10857.0       0.700654   \n",
      "New England        Connecticut             3571520    3976.0       0.573441   \n",
      "South Atlantic     Delaware                 965479    1082.0       0.654344   \n",
      "                   District of Columbia     701547    6904.0       0.546060   \n",
      "                   Florida                21244317   31030.0       0.691041   \n",
      "                   Georgia                10511131    9499.0       0.730919   \n",
      "Pacific            Hawaii                  1420593    6530.0       0.632619   \n",
      "Mountain           Idaho                   1750536    2012.0       0.644632   \n",
      "East North Central Illinois               12723071   10643.0       0.634408   \n",
      "                   Indiana                 6695497    5258.0       0.718144   \n",
      "West North Central Iowa                    3148618    2749.0       0.622408   \n",
      "                   Kansas                  2911359    2216.0       0.651173   \n",
      "East South Central Kentucky                4461153    3688.0       0.741594   \n",
      "West South Central Louisiana               4659690    3059.0       0.830337   \n",
      "New England        Maine                   1339057    2516.0       0.576312   \n",
      "South Atlantic     Maryland                6035802    7144.0       0.687850   \n",
      "New England        Massachusetts           6882635   20068.0       0.339396   \n",
      "East North Central Michigan                9984072    8351.0       0.623758   \n",
      "West North Central Minnesota               5606249    7243.0       0.551291   \n",
      "East South Central Mississippi             2981020    1352.0       0.757396   \n",
      "West North Central Missouri                6121623    5883.0       0.641849   \n",
      "Mountain           Montana                 1060665    1405.0       0.699644   \n",
      "West North Central Nebraska                1925614    2421.0       0.720777   \n",
      "Mountain           Nevada                  3027341    7544.0       0.935578   \n",
      "New England        New Hampshire           1353465    1450.0       0.575862   \n",
      "Mid-Atlantic       New Jersey              8886025    9398.0       0.643541   \n",
      "Mountain           New Mexico              2092741    2551.0       0.764014   \n",
      "Mid-Atlantic       New York               19530351   91897.0       0.433387   \n",
      "South Atlantic     North Carolina         10381615    9268.0       0.696051   \n",
      "West North Central North Dakota             758080     542.0       0.861624   \n",
      "East North Central Ohio                   11676341   10249.0       0.676066   \n",
      "West South Central Oklahoma                3940235    3871.0       0.729269   \n",
      "Pacific            Oregon                  4181886   14476.0       0.769481   \n",
      "Mid-Atlantic       Pennsylvania           12800922   13512.0       0.604130   \n",
      "New England        Rhode Island            1058287    1101.0       0.678474   \n",
      "South Atlantic     South Carolina          5084156    3933.0       0.783626   \n",
      "West North Central South Dakota             878698    1159.0       0.721311   \n",
      "East South Central Tennessee               6771631    7883.0       0.778764   \n",
      "West South Central Texas                  28628666   25310.0       0.758554   \n",
      "Mountain           Utah                    3153550    2876.0       0.662031   \n",
      "New England        Vermont                  624358    1291.0       0.604183   \n",
      "South Atlantic     Virginia                8501286    5975.0       0.657406   \n",
      "Pacific            Washington              7523869   22304.0       0.736370   \n",
      "South Atlantic     West Virginia           1804291    1243.0       0.821400   \n",
      "East North Central Wisconsin               5807406    4907.0       0.558386   \n",
      "Mountain           Wyoming                  577601     639.0       0.679186   \n",
      "\n",
      "                                         indiv_per_10k  \n",
      "region             state                                \n",
      "East South Central Alabama                    5.258117  \n",
      "Pacific            Alaska                    19.506515  \n",
      "Mountain           Arizona                   10.141067  \n",
      "West South Central Arkansas                   7.575423  \n",
      "Pacific            California                27.623825  \n",
      "Mountain           Colorado                  13.366045  \n",
      "New England        Connecticut                6.383837  \n",
      "South Atlantic     Delaware                   7.333148  \n",
      "                   District of Columbia      53.738381  \n",
      "                   Florida                   10.093523  \n",
      "                   Georgia                    6.605379  \n",
      "Pacific            Hawaii                    29.079406  \n",
      "Mountain           Idaho                      7.409159  \n",
      "East North Central Illinois                   5.306895  \n",
      "                   Indiana                    5.639611  \n",
      "West North Central Iowa                       5.434130  \n",
      "                   Kansas                     4.956448  \n",
      "East South Central Kentucky                   6.130702  \n",
      "West South Central Louisiana                  5.451006  \n",
      "New England        Maine                     10.828516  \n",
      "South Atlantic     Maryland                   8.141420  \n",
      "New England        Massachusetts              9.895919  \n",
      "East North Central Michigan                   5.217310  \n",
      "West North Central Minnesota                  7.122409  \n",
      "East South Central Mississippi                3.435066  \n",
      "West North Central Missouri                   6.168299  \n",
      "Mountain           Montana                    9.267771  \n",
      "West North Central Nebraska                   9.062045  \n",
      "Mountain           Nevada                    23.314189  \n",
      "New England        New Hampshire              6.169351  \n",
      "Mid-Atlantic       New Jersey                 6.806193  \n",
      "Mountain           New Mexico                 9.313145  \n",
      "Mid-Atlantic       New York                  20.392363  \n",
      "South Atlantic     North Carolina             6.213869  \n",
      "West North Central North Dakota               6.160300  \n",
      "East North Central Ohio                       5.934222  \n",
      "West South Central Oklahoma                   7.164547  \n",
      "Pacific            Oregon                    26.636307  \n",
      "Mid-Atlantic       Pennsylvania               6.376884  \n",
      "New England        Rhode Island               7.058577  \n",
      "South Atlantic     South Carolina             6.061970  \n",
      "West North Central South Dakota               9.514077  \n",
      "East South Central Tennessee                  9.065763  \n",
      "West South Central Texas                      6.706215  \n",
      "Mountain           Utah                       6.037640  \n",
      "New England        Vermont                   12.492833  \n",
      "South Atlantic     Virginia                   4.620477  \n",
      "Pacific            Washington                21.829195  \n",
      "South Atlantic     West Virginia              5.658732  \n",
      "East North Central Wisconsin                  4.718113  \n",
      "Mountain           Wyoming                    7.513837  \n",
      "                                         individuals  family_members  \\\n",
      "region             state                                               \n",
      "East North Central Wisconsin                  2740.0          2167.0   \n",
      "                   Ohio                       6929.0          3320.0   \n",
      "                   Michigan                   5209.0          3142.0   \n",
      "                   Indiana                    3776.0          1482.0   \n",
      "                   Illinois                   6752.0          3891.0   \n",
      "East South Central Tennessee                  6139.0          1744.0   \n",
      "                   Mississippi                1024.0           328.0   \n",
      "                   Kentucky                   2735.0           953.0   \n",
      "                   Alabama                    2570.0           864.0   \n",
      "Mid-Atlantic       Pennsylvania               8163.0          5349.0   \n",
      "                   New York                  39827.0         52070.0   \n",
      "                   New Jersey                 6048.0          3350.0   \n",
      "Mountain           Wyoming                     434.0           205.0   \n",
      "                   Utah                       1904.0           972.0   \n",
      "                   New Mexico                 1949.0           602.0   \n",
      "                   Nevada                     7058.0           486.0   \n",
      "                   Montana                     983.0           422.0   \n",
      "                   Idaho                      1297.0           715.0   \n",
      "                   Colorado                   7607.0          3250.0   \n",
      "                   Arizona                    7259.0          2606.0   \n",
      "New England        Vermont                     780.0           511.0   \n",
      "                   Rhode Island                747.0           354.0   \n",
      "                   New Hampshire               835.0           615.0   \n",
      "                   Massachusetts              6811.0         13257.0   \n",
      "                   Maine                      1450.0          1066.0   \n",
      "                   Connecticut                2280.0          1696.0   \n",
      "Pacific            Washington                16424.0          5880.0   \n",
      "                   Oregon                    11139.0          3337.0   \n",
      "                   Hawaii                     4131.0          2399.0   \n",
      "                   California               109008.0         20964.0   \n",
      "                   Alaska                     1434.0           582.0   \n",
      "South Atlantic     West Virginia              1021.0           222.0   \n",
      "                   Virginia                   3928.0          2047.0   \n",
      "                   South Carolina             3082.0           851.0   \n",
      "                   North Carolina             6451.0          2817.0   \n",
      "                   Maryland                   4914.0          2230.0   \n",
      "                   Georgia                    6943.0          2556.0   \n",
      "                   Florida                   21443.0          9587.0   \n",
      "                   District of Columbia       3770.0          3134.0   \n",
      "                   Delaware                    708.0           374.0   \n",
      "West North Central South Dakota                836.0           323.0   \n",
      "                   North Dakota                467.0            75.0   \n",
      "                   Nebraska                   1745.0           676.0   \n",
      "                   Missouri                   3776.0          2107.0   \n",
      "                   Minnesota                  3993.0          3250.0   \n",
      "                   Kansas                     1443.0           773.0   \n",
      "                   Iowa                       1711.0          1038.0   \n",
      "West South Central Texas                     19199.0          6111.0   \n",
      "                   Oklahoma                   2823.0          1048.0   \n",
      "                   Louisiana                  2540.0           519.0   \n",
      "                   Arkansas                   2280.0           432.0   \n",
      "\n",
      "                                         state_pop     total  p_individuals  \\\n",
      "region             state                                                      \n",
      "East North Central Wisconsin               5807406    4907.0       0.558386   \n",
      "                   Ohio                   11676341   10249.0       0.676066   \n",
      "                   Michigan                9984072    8351.0       0.623758   \n",
      "                   Indiana                 6695497    5258.0       0.718144   \n",
      "                   Illinois               12723071   10643.0       0.634408   \n",
      "East South Central Tennessee               6771631    7883.0       0.778764   \n",
      "                   Mississippi             2981020    1352.0       0.757396   \n",
      "                   Kentucky                4461153    3688.0       0.741594   \n",
      "                   Alabama                 4887681    3434.0       0.748398   \n",
      "Mid-Atlantic       Pennsylvania           12800922   13512.0       0.604130   \n",
      "                   New York               19530351   91897.0       0.433387   \n",
      "                   New Jersey              8886025    9398.0       0.643541   \n",
      "Mountain           Wyoming                  577601     639.0       0.679186   \n",
      "                   Utah                    3153550    2876.0       0.662031   \n",
      "                   New Mexico              2092741    2551.0       0.764014   \n",
      "                   Nevada                  3027341    7544.0       0.935578   \n",
      "                   Montana                 1060665    1405.0       0.699644   \n",
      "                   Idaho                   1750536    2012.0       0.644632   \n",
      "                   Colorado                5691287   10857.0       0.700654   \n",
      "                   Arizona                 7158024    9865.0       0.735834   \n",
      "New England        Vermont                  624358    1291.0       0.604183   \n",
      "                   Rhode Island            1058287    1101.0       0.678474   \n",
      "                   New Hampshire           1353465    1450.0       0.575862   \n",
      "                   Massachusetts           6882635   20068.0       0.339396   \n",
      "                   Maine                   1339057    2516.0       0.576312   \n",
      "                   Connecticut             3571520    3976.0       0.573441   \n",
      "Pacific            Washington              7523869   22304.0       0.736370   \n",
      "                   Oregon                  4181886   14476.0       0.769481   \n",
      "                   Hawaii                  1420593    6530.0       0.632619   \n",
      "                   California             39461588  129972.0       0.838704   \n",
      "                   Alaska                   735139    2016.0       0.711310   \n",
      "South Atlantic     West Virginia           1804291    1243.0       0.821400   \n",
      "                   Virginia                8501286    5975.0       0.657406   \n",
      "                   South Carolina          5084156    3933.0       0.783626   \n",
      "                   North Carolina         10381615    9268.0       0.696051   \n",
      "                   Maryland                6035802    7144.0       0.687850   \n",
      "                   Georgia                10511131    9499.0       0.730919   \n",
      "                   Florida                21244317   31030.0       0.691041   \n",
      "                   District of Columbia     701547    6904.0       0.546060   \n",
      "                   Delaware                 965479    1082.0       0.654344   \n",
      "West North Central South Dakota             878698    1159.0       0.721311   \n",
      "                   North Dakota             758080     542.0       0.861624   \n",
      "                   Nebraska                1925614    2421.0       0.720777   \n",
      "                   Missouri                6121623    5883.0       0.641849   \n",
      "                   Minnesota               5606249    7243.0       0.551291   \n",
      "                   Kansas                  2911359    2216.0       0.651173   \n",
      "                   Iowa                    3148618    2749.0       0.622408   \n",
      "West South Central Texas                  28628666   25310.0       0.758554   \n",
      "                   Oklahoma                3940235    3871.0       0.729269   \n",
      "                   Louisiana               4659690    3059.0       0.830337   \n",
      "                   Arkansas                3009733    2712.0       0.840708   \n",
      "\n",
      "                                         indiv_per_10k  \n",
      "region             state                                \n",
      "East North Central Wisconsin                  4.718113  \n",
      "                   Ohio                       5.934222  \n",
      "                   Michigan                   5.217310  \n",
      "                   Indiana                    5.639611  \n",
      "                   Illinois                   5.306895  \n",
      "East South Central Tennessee                  9.065763  \n",
      "                   Mississippi                3.435066  \n",
      "                   Kentucky                   6.130702  \n",
      "                   Alabama                    5.258117  \n",
      "Mid-Atlantic       Pennsylvania               6.376884  \n",
      "                   New York                  20.392363  \n",
      "                   New Jersey                 6.806193  \n",
      "Mountain           Wyoming                    7.513837  \n",
      "                   Utah                       6.037640  \n",
      "                   New Mexico                 9.313145  \n",
      "                   Nevada                    23.314189  \n",
      "                   Montana                    9.267771  \n",
      "                   Idaho                      7.409159  \n",
      "                   Colorado                  13.366045  \n",
      "                   Arizona                   10.141067  \n",
      "New England        Vermont                   12.492833  \n",
      "                   Rhode Island               7.058577  \n",
      "                   New Hampshire              6.169351  \n",
      "                   Massachusetts              9.895919  \n",
      "                   Maine                     10.828516  \n",
      "                   Connecticut                6.383837  \n",
      "Pacific            Washington                21.829195  \n",
      "                   Oregon                    26.636307  \n",
      "                   Hawaii                    29.079406  \n",
      "                   California                27.623825  \n",
      "                   Alaska                    19.506515  \n",
      "South Atlantic     West Virginia              5.658732  \n",
      "                   Virginia                   4.620477  \n",
      "                   South Carolina             6.061970  \n",
      "                   North Carolina             6.213869  \n",
      "                   Maryland                   8.141420  \n",
      "                   Georgia                    6.605379  \n",
      "                   Florida                   10.093523  \n",
      "                   District of Columbia      53.738381  \n",
      "                   Delaware                   7.333148  \n",
      "West North Central South Dakota               9.514077  \n",
      "                   North Dakota               6.160300  \n",
      "                   Nebraska                   9.062045  \n",
      "                   Missouri                   6.168299  \n",
      "                   Minnesota                  7.122409  \n",
      "                   Kansas                     4.956448  \n",
      "                   Iowa                       5.434130  \n",
      "West South Central Texas                      6.706215  \n",
      "                   Oklahoma                   7.164547  \n",
      "                   Louisiana                  5.451006  \n",
      "                   Arkansas                   7.575423  \n"
     ]
    }
   ],
   "source": [
    "# Sort homelessness_ind by index values\n",
    "print(homelessness_ind.sort_index)\n",
    "\n",
    "# Sort homelessness_ind by index values at the state level\n",
    "print(homelessness_ind.sort_index(level=['state']))\n",
    "\n",
    "# Sort homelessness_ind by region then descending state\n",
    "print(homelessness_ind.sort_index(level=['region','state'],ascending=[True,False]))"
   ]
  },
  {
   "cell_type": "markdown",
   "metadata": {},
   "source": [
    "## Slicing index value"
   ]
  },
  {
   "cell_type": "code",
   "execution_count": 103,
   "metadata": {},
   "outputs": [
    {
     "name": "stdout",
     "output_type": "stream",
     "text": [
      "                                 individuals  family_members  state_pop  \\\n",
      "region             state                                                  \n",
      "East North Central Illinois           6752.0          3891.0   12723071   \n",
      "                   Indiana            3776.0          1482.0    6695497   \n",
      "                   Michigan           5209.0          3142.0    9984072   \n",
      "                   Ohio               6929.0          3320.0   11676341   \n",
      "                   Wisconsin          2740.0          2167.0    5807406   \n",
      "East South Central Alabama            2570.0           864.0    4887681   \n",
      "                   Kentucky           2735.0           953.0    4461153   \n",
      "                   Mississippi        1024.0           328.0    2981020   \n",
      "                   Tennessee          6139.0          1744.0    6771631   \n",
      "Mid-Atlantic       New Jersey         6048.0          3350.0    8886025   \n",
      "                   New York          39827.0         52070.0   19530351   \n",
      "                   Pennsylvania       8163.0          5349.0   12800922   \n",
      "\n",
      "                                   total  p_individuals  indiv_per_10k  \n",
      "region             state                                                \n",
      "East North Central Illinois      10643.0       0.634408       5.306895  \n",
      "                   Indiana        5258.0       0.718144       5.639611  \n",
      "                   Michigan       8351.0       0.623758       5.217310  \n",
      "                   Ohio          10249.0       0.676066       5.934222  \n",
      "                   Wisconsin      4907.0       0.558386       4.718113  \n",
      "East South Central Alabama        3434.0       0.748398       5.258117  \n",
      "                   Kentucky       3688.0       0.741594       6.130702  \n",
      "                   Mississippi    1352.0       0.757396       3.435066  \n",
      "                   Tennessee      7883.0       0.778764       9.065763  \n",
      "Mid-Atlantic       New Jersey     9398.0       0.643541       6.806193  \n",
      "                   New York      91897.0       0.433387      20.392363  \n",
      "                   Pennsylvania  13512.0       0.604130       6.376884  \n",
      "Empty DataFrame\n",
      "Columns: [individuals, family_members, state_pop, total, p_individuals, indiv_per_10k]\n",
      "Index: []\n",
      "                                individuals  family_members  state_pop  \\\n",
      "region             state                                                 \n",
      "East North Central Michigan          5209.0          3142.0    9984072   \n",
      "                   Ohio              6929.0          3320.0   11676341   \n",
      "                   Wisconsin         2740.0          2167.0    5807406   \n",
      "East South Central Alabama           2570.0           864.0    4887681   \n",
      "                   Kentucky          2735.0           953.0    4461153   \n",
      "                   Mississippi       1024.0           328.0    2981020   \n",
      "                   Tennessee         6139.0          1744.0    6771631   \n",
      "\n",
      "                                  total  p_individuals  indiv_per_10k  \n",
      "region             state                                               \n",
      "East North Central Michigan      8351.0       0.623758       5.217310  \n",
      "                   Ohio         10249.0       0.676066       5.934222  \n",
      "                   Wisconsin     4907.0       0.558386       4.718113  \n",
      "East South Central Alabama       3434.0       0.748398       5.258117  \n",
      "                   Kentucky      3688.0       0.741594       6.130702  \n",
      "                   Mississippi   1352.0       0.757396       3.435066  \n",
      "                   Tennessee     7883.0       0.778764       9.065763  \n"
     ]
    }
   ],
   "source": [
    "# Sort the index of temperatures_ind\n",
    "homelessness_srt = homelessness_ind.sort_index()\n",
    "\n",
    "# Subset rows from Pakistan to Russia\n",
    "print(homelessness_srt.loc['East North Central':'Mid-Atlantic'])\n",
    "\n",
    "# Try to subset rows from Lahore to Moscow\n",
    "# This will return rows but it will be nonsenscial data\n",
    "print(homelessness_srt.loc['Michigan':'Colorado'])\n",
    "\n",
    "# Subset rows from Pakistan, Lahore to Russia, Moscow\n",
    "# this is the correct way of slicing multi level index\n",
    "print(homelessness_srt.loc[('East North Central','Michigan'):('Mid-Atlantic','Colorado')])"
   ]
  },
  {
   "cell_type": "markdown",
   "metadata": {},
   "source": [
    "### Slicing both directions"
   ]
  },
  {
   "cell_type": "raw",
   "metadata": {},
   "source": [
    "#  The code works but Too MANY rows being printed here. So converting the cell\n",
    "# Subset rows from India, Hyderabad to Iraq, Baghdad\n",
    "print(homelessness_srt.loc[('Mountain','Connecticut'):('New England','Massachusetts')])\n",
    "\n",
    "# Subset columns from date to avg_temp_c\n",
    "print(homelessness_srt.loc[:,'individuals':'family_members'])\n",
    "\n",
    "# Subset in both directions at once\n",
    "print(homelessness_srt.loc[('Mountain','Connecticut'):('New England','Massachusetts'),'individuals':'family_members'])"
   ]
  },
  {
   "cell_type": "code",
   "execution_count": 130,
   "metadata": {},
   "outputs": [
    {
     "data": {
      "text/plain": [
       "date          object\n",
       "type          object\n",
       "year           int64\n",
       "avg_price    float64\n",
       "size          object\n",
       "nb_sold      float64\n",
       "dtype: object"
      ]
     },
     "execution_count": 130,
     "metadata": {},
     "output_type": "execute_result"
    }
   ],
   "source": [
    "avoplotto.dtypes"
   ]
  },
  {
   "cell_type": "markdown",
   "metadata": {},
   "source": [
    "### Slicing time series"
   ]
  },
  {
   "cell_type": "code",
   "execution_count": 135,
   "metadata": {},
   "outputs": [],
   "source": [
    "avoplotto['date'] = pd.to_datetime(avoplotto['date'])"
   ]
  },
  {
   "cell_type": "code",
   "execution_count": 137,
   "metadata": {},
   "outputs": [
    {
     "name": "stdout",
     "output_type": "stream",
     "text": [
      "          date          type  year  avg_price         size     nb_sold\n",
      "0   2015-12-27  conventional  2015       0.95        small  9626901.09\n",
      "1   2015-12-20  conventional  2015       0.98        small  8710021.76\n",
      "2   2015-12-13  conventional  2015       0.93        small  9855053.66\n",
      "3   2015-12-06  conventional  2015       0.89        small  9405464.36\n",
      "4   2015-11-29  conventional  2015       0.99        small  8094803.56\n",
      "..         ...           ...   ...        ...          ...         ...\n",
      "892 2015-02-01       organic  2015       1.36  extra_large     5852.28\n",
      "893 2015-01-25       organic  2015       1.53  extra_large     4753.87\n",
      "894 2015-01-18       organic  2015       1.42  extra_large     4020.85\n",
      "895 2015-01-11       organic  2015       1.42  extra_large     3830.42\n",
      "896 2015-01-04       organic  2015       1.46  extra_large     4370.99\n",
      "\n",
      "[312 rows x 6 columns]\n",
      "                    type  year  avg_price         size      nb_sold\n",
      "date                                                               \n",
      "2017-12-31  conventional  2017       0.98        small  13109617.49\n",
      "2017-12-24  conventional  2017       1.18        small  10027319.18\n",
      "2017-12-17  conventional  2017       1.07        small  10704214.26\n",
      "2017-12-10  conventional  2017       1.03        small  11943914.54\n",
      "2017-12-03  conventional  2017       1.09        small  11746980.00\n",
      "...                  ...   ...        ...          ...          ...\n",
      "2018-02-04       organic  2018       1.53  extra_large      1703.52\n",
      "2018-01-28       organic  2018       1.61  extra_large      1270.61\n",
      "2018-01-21       organic  2018       1.63  extra_large      1490.02\n",
      "2018-01-14       organic  2018       1.59  extra_large      1580.01\n",
      "2018-01-07       organic  2018       1.51  extra_large      1289.07\n",
      "\n",
      "[390 rows x 5 columns]\n",
      "                    type  year  avg_price         size      nb_sold\n",
      "date                                                               \n",
      "2015-12-27  conventional  2015       0.95        small   9626901.09\n",
      "2015-12-20  conventional  2015       0.98        small   8710021.76\n",
      "2015-12-13  conventional  2015       0.93        small   9855053.66\n",
      "2015-12-06  conventional  2015       0.89        small   9405464.36\n",
      "2016-09-25  conventional  2016       1.22        small  10548061.13\n",
      "...                  ...   ...        ...          ...          ...\n",
      "2016-01-31       organic  2016       1.43  extra_large      5515.91\n",
      "2016-01-24       organic  2016       1.41  extra_large     12933.97\n",
      "2016-01-17       organic  2016       1.44  extra_large     13106.29\n",
      "2016-01-10       organic  2016       1.35  extra_large      8771.79\n",
      "2016-01-03       organic  2016       1.43  extra_large      7749.40\n",
      "\n",
      "[258 rows x 5 columns]\n"
     ]
    }
   ],
   "source": [
    "# Use Boolean conditions to subset temperatures for rows in 2010 and 2011\n",
    "print(avoplotto[(avoplotto[\"date\"] >= \"2015\") & (avoplotto[\"date\"] < \"2016\")])\n",
    "\n",
    "# Set date as an index\n",
    "avoplotto_ind = avoplotto.set_index(\"date\")\n",
    "\n",
    "\n",
    "# Use .loc[] to subset temperatures_ind for rows in 2010 and 2011\n",
    "print(avoplotto_ind.loc[\"2017\":\"2018\"])\n",
    "\n",
    "\n",
    "# Use .loc[] to subset temperatures_ind for rows from Aug 2010 to Feb 2011\n",
    "print(avoplotto_ind.loc[\"2015-12\":\"2016-09\"])"
   ]
  },
  {
   "cell_type": "markdown",
   "metadata": {},
   "source": [
    "### Subsetting by row/column number\n",
    "- The most common ways to subset rows are the ways we've previously discussed: using a Boolean condition, or by index labels. However, it is also occasionally useful to pass row numbers.\n",
    "\n",
    "- This is done using .iloc[], and like .loc[], it can take two arguments to let you subset by rows and columns."
   ]
  },
  {
   "cell_type": "code",
   "execution_count": 140,
   "metadata": {},
   "outputs": [
    {
     "name": "stdout",
     "output_type": "stream",
     "text": [
      "conventional\n",
      "        date          type  year  avg_price   size     nb_sold\n",
      "0 2015-12-27  conventional  2015       0.95  small  9626901.09\n",
      "1 2015-12-20  conventional  2015       0.98  small  8710021.76\n",
      "2 2015-12-13  conventional  2015       0.93  small  9855053.66\n",
      "3 2015-12-06  conventional  2015       0.89  small  9405464.36\n",
      "4 2015-11-29  conventional  2015       0.99  small  8094803.56\n",
      "      year  avg_price\n",
      "0     2015       0.95\n",
      "1     2015       0.98\n",
      "2     2015       0.93\n",
      "3     2015       0.89\n",
      "4     2015       0.99\n",
      "...    ...        ...\n",
      "1009  2018       1.53\n",
      "1010  2018       1.61\n",
      "1011  2018       1.63\n",
      "1012  2018       1.59\n",
      "1013  2018       1.51\n",
      "\n",
      "[1014 rows x 2 columns]\n",
      "   year  avg_price\n",
      "0  2015       0.95\n",
      "1  2015       0.98\n",
      "2  2015       0.93\n",
      "3  2015       0.89\n",
      "4  2015       0.99\n"
     ]
    }
   ],
   "source": [
    "# Get 23rd row, 2nd column (index 22, 1)\n",
    "print(avoplotto.iloc[22,1])\n",
    "\n",
    "# Use slicing to get the first 5 rows\n",
    "print(avoplotto.iloc[:5])\n",
    "\n",
    "# Use slicing to get columns 3 to 4\n",
    "print(avoplotto.iloc[:,2:4])\n",
    "\n",
    "# Use slicing in both directions at once\n",
    "print(avoplotto.iloc[:5,2:4])"
   ]
  },
  {
   "cell_type": "markdown",
   "metadata": {},
   "source": [
    "## Pivot temperature by city and year\n",
    "- It's interesting to see how temperatures for each city change over time. Looking at every month results in a big table, which can be tricky to reason about. Instead, let's look at how temperatures change by year.\n",
    "\n",
    "- You can access the components of a date (year, month and day) using code of the form dataframe[\"column\"].dt.component. For example, the month component is dataframe[\"column\"].dt.month, and the year component is dataframe[\"column\"].dt.year.\n",
    "\n",
    "- Once you have the year column, you can create a pivot table with the data aggregated by city and year, which you'll explore in the coming exercises."
   ]
  },
  {
   "cell_type": "code",
   "execution_count": 143,
   "metadata": {},
   "outputs": [
    {
     "name": "stdout",
     "output_type": "stream",
     "text": [
      "year                   2010       2011       2012\n",
      "store department                                 \n",
      "1     1           19.720833  19.810150  21.108010\n",
      "      2           19.720833  19.810150  21.108010\n",
      "      3           19.720833  19.810150  21.108010\n",
      "      4           19.720833  19.810150  21.108010\n",
      "      5           19.720833  19.810150  21.108010\n",
      "...                     ...        ...        ...\n",
      "45    5           14.301852  13.254808  15.656072\n",
      "      6           14.301852  13.254808  15.656072\n",
      "      7           14.301852  13.254808  15.656072\n",
      "      8           14.301852  13.254808  15.656072\n",
      "      9           16.128175        NaN        NaN\n",
      "\n",
      "[3266 rows x 3 columns]\n"
     ]
    }
   ],
   "source": [
    "# Add a year column to temperatures\n",
    "walmart_sales['year'] = walmart_sales['date'].dt.year\n",
    "\n",
    "# Pivot avg_temp_c by country and city vs year\n",
    "temp_by_country_city_vs_year = walmart_sales.pivot_table(values='temperature_c',index=['store','department'],columns='year')\n",
    "\n",
    "# See the result\n",
    "print(temp_by_country_city_vs_year)"
   ]
  },
  {
   "cell_type": "markdown",
   "metadata": {},
   "source": [
    "# Creating and Visualizing DataFrames\n",
    "\n",
    "## Which avocado size is most popular?\n",
    "\n",
    "- Avocados are increasingly popular and delicious in guacamole and on toast. The Hass Avocado Board keeps track of avocado supply and demand across the USA, including the sales of three different sizes of avocado. In this exercise, you'll use a bar plot to figure out which size is the most popular.\n",
    "\n",
    "- Bar plots are great for revealing relationships between categorical (size) and numeric (number sold) variables, but you'll often have to manipulate your data first in order to get the numbers you need for plotting."
   ]
  },
  {
   "cell_type": "code",
   "execution_count": 144,
   "metadata": {},
   "outputs": [
    {
     "name": "stdout",
     "output_type": "stream",
     "text": [
      "        date          type  year  avg_price   size     nb_sold\n",
      "0 2015-12-27  conventional  2015       0.95  small  9626901.09\n",
      "1 2015-12-20  conventional  2015       0.98  small  8710021.76\n",
      "2 2015-12-13  conventional  2015       0.93  small  9855053.66\n",
      "3 2015-12-06  conventional  2015       0.89  small  9405464.36\n",
      "4 2015-11-29  conventional  2015       0.99  small  8094803.56\n"
     ]
    },
    {
     "data": {
      "image/png": "[encoded data removed]",
      "text/plain": [
       "<Figure size 432x288 with 1 Axes>"
      ]
     },
     "metadata": {
      "needs_background": "light"
     },
     "output_type": "display_data"
    }
   ],
   "source": [
    "avocados = avoplotto.copy()\n",
    "\n",
    "# Import matplotlib.pyplot with alias plt\n",
    "import matplotlib.pyplot as plt\n",
    "\n",
    "# Look at the first few rows of data\n",
    "print(avocados.head())\n",
    "\n",
    "# Get the total number of avocados sold of each size\n",
    "nb_sold_by_size = avocados.groupby('size').sum()['nb_sold']\n",
    "\n",
    "# Create a bar plot of the number of avocados sold by size\n",
    "nb_sold_by_size.plot(kind='bar')\n",
    "\n",
    "# Show the plot\n",
    "plt.show()"
   ]
  },
  {
   "cell_type": "markdown",
   "metadata": {},
   "source": [
    "### Changes in sales over time\n",
    "\n",
    "- Line plots are designed to visualize the relationship between two numeric variables, where each data values is connected to the next one. They are especially useful for visualizing change in a number over time, since each time point is naturally connected to the next time point. In this exercise, you'll visualize the change in avocado sales over three years."
   ]
  },
  {
   "cell_type": "code",
   "execution_count": 145,
   "metadata": {},
   "outputs": [
    {
     "data": {
      "image/png": "[encoded data removed]",
      "text/plain": [
       "<Figure size 432x288 with 1 Axes>"
      ]
     },
     "metadata": {
      "needs_background": "light"
     },
     "output_type": "display_data"
    }
   ],
   "source": [
    "# Import matplotlib.pyplot with alias plt\n",
    "import matplotlib.pyplot as plt\n",
    "\n",
    "# Get the total number of avocados sold on each date\n",
    "nb_sold_by_date = avocados.groupby('date').sum()['nb_sold']\n",
    "\n",
    "# Create a line plot of the number of avocados sold by date\n",
    "nb_sold_by_date.plot(x='date',kind='line')\n",
    "\n",
    "# Show the plot\n",
    "plt.show()"
   ]
  },
  {
   "cell_type": "markdown",
   "metadata": {},
   "source": [
    "### Avocado supply and demand"
   ]
  },
  {
   "cell_type": "code",
   "execution_count": 146,
   "metadata": {},
   "outputs": [
    {
     "data": {
      "image/png": "[encoded data removed]",
      "text/plain": [
       "<Figure size 432x288 with 1 Axes>"
      ]
     },
     "metadata": {
      "needs_background": "light"
     },
     "output_type": "display_data"
    }
   ],
   "source": [
    "# Scatter plot of nb_sold vs avg_price with title\n",
    "avocados.plot(x='nb_sold',y='avg_price',title='Number of avocados sold vs. average price',kind='scatter')\n",
    "\n",
    "# Show the plot\n",
    "plt.show()"
   ]
  },
  {
   "cell_type": "markdown",
   "metadata": {},
   "source": [
    "### Price of conventional vs. organic avocados"
   ]
  },
  {
   "cell_type": "code",
   "execution_count": 147,
   "metadata": {},
   "outputs": [
    {
     "data": {
      "image/png": "[encoded data removed]",
      "text/plain": [
       "<Figure size 432x288 with 1 Axes>"
      ]
     },
     "metadata": {
      "needs_background": "light"
     },
     "output_type": "display_data"
    }
   ],
   "source": [
    "# Modify bins to 20\n",
    "avocados[avocados[\"type\"] == \"conventional\"][\"avg_price\"].hist(alpha=0.5,bins=20)\n",
    "\n",
    "# Modify bins to 20\n",
    "avocados[avocados[\"type\"] == \"organic\"][\"avg_price\"].hist(alpha=0.5,bins=20)\n",
    "\n",
    "# Add a legend\n",
    "plt.legend([\"conventional\", \"organic\"])\n",
    "\n",
    "# Show the plot\n",
    "plt.show()"
   ]
  },
  {
   "cell_type": "markdown",
   "metadata": {},
   "source": [
    "- We can see that on average, organic avocados are more expensive than conventional ones, but their price distributions have some overlap."
   ]
  },
  {
   "cell_type": "markdown",
   "metadata": {},
   "source": [
    "## Missing values\n",
    "\n",
    "### Finding missing values\n",
    "\n",
    "- Missing values are everywhere, and you don't want them interfering with your work. Some functions ignore missing data by default, but that's not always the behavior you might want. Some functions can't handle missing values at all, so these values need to be taken care of before you can use them. If you don't know where your missing values are, or if they exist, you could make mistakes in your analysis. In this exercise, you'll determine if there are missing values in the dataset, and if so, how many."
   ]
  },
  {
   "cell_type": "code",
   "execution_count": 152,
   "metadata": {},
   "outputs": [],
   "source": [
    "avocados_2016 = avocados[(avocados['date']>='2016')&(avocados['date']<'2017')]"
   ]
  },
  {
   "cell_type": "raw",
   "metadata": {},
   "source": [
    "# there are no missing values but had there been, you can use the following code\n",
    "# Import matplotlib.pyplot with alias plt\n",
    "import matplotlib.pyplot as plt\n",
    "\n",
    "# Check individual values for missing values\n",
    "print(avocados_2016.isna())\n",
    "\n",
    "# Check each column for missing values\n",
    "print(avocados_2016.isna().any())\n",
    "\n",
    "# Bar plot of missing values by variable\n",
    "avocados_2016.isna().sum().plot(kind='bar')\n",
    "\n",
    "# Show plot\n",
    "plt.show()"
   ]
  },
  {
   "cell_type": "code",
   "execution_count": null,
   "metadata": {},
   "outputs": [],
   "source": []
  },
  {
   "cell_type": "code",
   "execution_count": null,
   "metadata": {},
   "outputs": [],
   "source": []
  },
  {
   "cell_type": "code",
   "execution_count": null,
   "metadata": {},
   "outputs": [],
   "source": []
  },
  {
   "cell_type": "code",
   "execution_count": null,
   "metadata": {},
   "outputs": [],
   "source": []
  },
  {
   "cell_type": "code",
   "execution_count": null,
   "metadata": {},
   "outputs": [],
   "source": []
  },
  {
   "cell_type": "code",
   "execution_count": null,
   "metadata": {},
   "outputs": [],
   "source": []
  },
  {
   "cell_type": "code",
   "execution_count": null,
   "metadata": {},
   "outputs": [],
   "source": []
  },
  {
   "cell_type": "code",
   "execution_count": null,
   "metadata": {},
   "outputs": [],
   "source": []
  },
  {
   "cell_type": "code",
   "execution_count": null,
   "metadata": {},
   "outputs": [],
   "source": []
  },
  {
   "cell_type": "code",
   "execution_count": null,
   "metadata": {},
   "outputs": [],
   "source": []
  },
  {
   "cell_type": "code",
   "execution_count": null,
   "metadata": {},
   "outputs": [],
   "source": []
  },
  {
   "cell_type": "code",
   "execution_count": null,
   "metadata": {},
   "outputs": [],
   "source": []
  },
  {
   "cell_type": "code",
   "execution_count": null,
   "metadata": {},
   "outputs": [],
   "source": []
  },
  {
   "cell_type": "code",
   "execution_count": null,
   "metadata": {},
   "outputs": [],
   "source": []
  },
  {
   "cell_type": "code",
   "execution_count": null,
   "metadata": {},
   "outputs": [],
   "source": []
  },
  {
   "cell_type": "code",
   "execution_count": null,
   "metadata": {},
   "outputs": [],
   "source": []
  }
 ],
 "metadata": {
  "kernelspec": {
   "display_name": "Python 3",
   "language": "python",
   "name": "python3"
  },
  "language_info": {
   "codemirror_mode": {
    "name": "ipython",
    "version": 3
   },
   "file_extension": ".py",
   "mimetype": "text/x-python",
   "name": "python",
   "nbconvert_exporter": "python",
   "pygments_lexer": "ipython3",
   "version": "3.7.6"
  },
  "toc": {
   "base_numbering": 1,
   "nav_menu": {},
   "number_sections": true,
   "sideBar": true,
   "skip_h1_title": false,
   "title_cell": "Table of Contents",
   "title_sidebar": "Contents",
   "toc_cell": true,
   "toc_position": {},
   "toc_section_display": true,
   "toc_window_display": true
  }
 },
 "nbformat": 4,
 "nbformat_minor": 4
}
