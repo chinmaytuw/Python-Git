{
 "cells": [
  {
   "cell_type": "markdown",
   "metadata": {
    "toc": true
   },
   "source": [
    "<h1>Table of Contents<span class=\"tocSkip\"></span></h1>\n",
    "<div class=\"toc\"><ul class=\"toc-item\"><li><span><a href=\"#Testing-Enumerate\" data-toc-modified-id=\"Testing-Enumerate-1\"><span class=\"toc-item-num\">1&nbsp;&nbsp;</span>Testing Enumerate</a></span></li><li><span><a href=\"#Why-do-we-need-Zip\" data-toc-modified-id=\"Why-do-we-need-Zip-2\"><span class=\"toc-item-num\">2&nbsp;&nbsp;</span>Why do we need Zip</a></span></li><li><span><a href=\"#Sets\" data-toc-modified-id=\"Sets-3\"><span class=\"toc-item-num\">3&nbsp;&nbsp;</span>Sets</a></span></li><li><span><a href=\"#Numpy-arrays\" data-toc-modified-id=\"Numpy-arrays-4\"><span class=\"toc-item-num\">4&nbsp;&nbsp;</span>Numpy arrays</a></span></li><li><span><a href=\"#Vectorization\" data-toc-modified-id=\"Vectorization-5\"><span class=\"toc-item-num\">5&nbsp;&nbsp;</span>Vectorization</a></span></li><li><span><a href=\"#Transform\" data-toc-modified-id=\"Transform-6\"><span class=\"toc-item-num\">6&nbsp;&nbsp;</span>Transform</a></span></li><li><span><a href=\"#Groupby\" data-toc-modified-id=\"Groupby-7\"><span class=\"toc-item-num\">7&nbsp;&nbsp;</span>Groupby</a></span></li></ul></div>"
   ]
  },
  {
   "cell_type": "code",
   "execution_count": 36,
   "metadata": {},
   "outputs": [],
   "source": [
    "import pandas as pd\n",
    "import numpy as np\n",
    "poker_hands = pd.read_csv('./Data/poker_hand.csv')\n",
    "baby = pd.read_csv('./Data/Popular_Baby_Names.csv')\n",
    "resturant = pd.read_csv('./Data/restaurant_data.csv')\n",
    "avoplotto = pd.read_pickle('./Data/avoplotto.pkl')\n",
    "homelessness = pd.read_pickle('./Data/homeless_data.pkl')\n",
    "walmart_sales = pd.read_pickle('./Data/walmart_sales.pkl.bz2')\n",
    "olympics = pd.read_csv('https://assets.datacamp.com/production/repositories/502/datasets/bf22326ecc9171f68796ad805a7c1135288120b6/all_medalists.csv')\n",
    "gapminder = pd.read_csv('https://assets.datacamp.com/production/repositories/502/datasets/09378cc53faec573bcb802dce03b01318108a880/gapminder_tidy.csv')\n",
    "elections = pd.read_csv('https://assets.datacamp.com/production/repositories/502/datasets/502f4eedaf44ad1c94b3595c7691746f282e0b0a/pennsylvania2012_turnout.csv')\n",
    "weather = pd.read_csv('https://assets.datacamp.com/production/repositories/502/datasets/6c4984cb81ea50971c1660434cc4535a6669a848/pittsburgh2013.csv')\n",
    "titanic = pd.read_csv('https://assets.datacamp.com/production/repositories/502/datasets/e280ed94bf4539afb57d8b1cbcc14bcf660d3c63/titanic.csv')\n",
    "users = pd.read_csv('https://assets.datacamp.com/production/repositories/502/datasets/eaf29468b9fbaad454a74d3c2b59b36e5ab4558b/users.csv',index_col='Unnamed: 0')\n",
    "\n"
   ]
  },
  {
   "cell_type": "markdown",
   "metadata": {},
   "source": [
    "# Testing Enumerate\n"
   ]
  },
  {
   "cell_type": "code",
   "execution_count": 1,
   "metadata": {},
   "outputs": [],
   "source": [
    "names = ['Jerry', 'Kramer', 'Elaine', 'George', 'Newman']\n"
   ]
  },
  {
   "cell_type": "code",
   "execution_count": 8,
   "metadata": {},
   "outputs": [
    {
     "data": {
      "text/plain": [
       "[(1, 'Jerry'), (2, 'Kramer'), (3, 'Elaine'), (4, 'George'), (5, 'Newman')]"
      ]
     },
     "execution_count": 8,
     "metadata": {},
     "output_type": "execute_result"
    }
   ],
   "source": [
    "[*enumerate(names,1)]"
   ]
  },
  {
   "cell_type": "code",
   "execution_count": 4,
   "metadata": {},
   "outputs": [],
   "source": [
    "?enumerate"
   ]
  },
  {
   "cell_type": "markdown",
   "metadata": {},
   "source": [
    "# Why do we need Zip"
   ]
  },
  {
   "cell_type": "code",
   "execution_count": 11,
   "metadata": {},
   "outputs": [],
   "source": [
    "import numpy as np\n",
    "nan = str(\"nan\")\n",
    "names = np.array(['Abomasnow', 'Abra', 'Absol', 'Accelgor', 'Aerodactyl', 'Aggron', 'Aipom', 'Alakazam', 'Alomomola', 'Altaria', 'Amaura', 'Ambipom', 'Amoonguss', 'Ampharos', 'Anorith', 'Arbok', 'Arcanine', 'Arceus', 'Archen', 'Archeops', 'Ariados', 'Armaldo', 'Aromatisse', 'Aron', 'Articuno', 'Audino', 'Aurorus', 'Avalugg', 'Axew', 'Azelf', 'Azumarill', 'Azurill', 'Bagon', 'Baltoy', 'Banette', 'Barbaracle', 'Barboach', 'Basculin', 'Bastiodon', 'Bayleef', 'Beartic', 'Beautifly', 'Beedrill', 'Beheeyem', 'Beldum', 'Bellossom', 'Bellsprout', 'Bergmite', 'Bibarel', 'Bidoof', 'Binacle', 'Bisharp', 'Blastoise', 'Blaziken', 'Blissey', 'Blitzle', 'Boldore', 'Bonsly', 'Bouffalant', 'Braixen', 'Braviary', 'Breloom', 'Bronzong', 'Bronzor', 'Budew', 'Buizel', 'Bulbasaur', 'Buneary', 'Bunnelby', 'Burmy', 'Butterfree', 'Cacnea', 'Cacturne', 'Camerupt', 'Carbink', 'Carnivine', 'Carracosta', 'Carvanha', 'Cascoon', 'Castform', 'Caterpie', 'Celebi', 'Chandelure', 'Chansey', 'Charizard', 'Charmander', 'Charmeleon', 'Chatot', 'Cherrim', 'Cherubi', 'Chesnaught', 'Chespin', 'Chikorita', 'Chimchar', 'Chimecho', 'Chinchou', 'Chingling', 'Cinccino', 'Clamperl', 'Clauncher', 'Clawitzer', 'Claydol', 'Clefable', 'Clefairy', 'Cleffa', 'Cloyster', 'Cobalion', 'Cofagrigus', 'Combee', 'Combusken', 'Conkeldurr', 'Corphish', 'Corsola', 'Cottonee', 'Cradily', 'Cranidos', 'Crawdaunt', 'Cresselia', 'Croagunk', 'Crobat', 'Croconaw', 'Crustle', 'Cryogonal', 'Cubchoo', 'Cubone', 'Cyndaquil', 'Darkrai', 'DarmanitanStandard Mode', 'DarmanitanZen Mode', 'Darumaka', 'Dedenne', 'Deerling', 'Deino', 'Delcatty', 'Delibird', 'Delphox', 'Dewgong', 'Dewott', 'Dialga', 'Diancie', 'Diggersby', 'Diglett', 'Ditto', 'Dodrio', 'Doduo', 'Donphan', 'Doublade', 'Dragalge', 'Dragonair', 'Dragonite', 'Drapion', 'Dratini', 'Drifblim', 'Drifloon', 'Drilbur', 'Drowzee', 'Druddigon', 'Ducklett', 'Dugtrio', 'Dunsparce', 'Duosion', 'Durant', 'Dusclops', 'Dusknoir', 'Duskull', 'Dustox', 'Dwebble', 'Eelektrik', 'Eelektross', 'Eevee', 'Ekans', 'Electabuzz', 'Electivire', 'Electrike', 'Electrode', 'Elekid', 'Elgyem', 'Emboar', 'Emolga', 'Empoleon', 'Entei', 'Escavalier', 'Espeon', 'Espurr', 'Excadrill', 'Exeggcute', 'Exeggutor', 'Exploud', \"Farfetch'd\", 'Fearow', 'Feebas', 'Fennekin', 'Feraligatr', 'Ferroseed', 'Ferrothorn', 'Finneon', 'Flaaffy', 'Flabébé', 'Flareon', 'Fletchinder', 'Fletchling', 'Floatzel', 'Floette', 'Florges', 'Flygon', 'Foongus', 'Forretress', 'Fraxure', 'Frillish', 'Froakie', 'Frogadier', 'Froslass', 'Furfrou', 'Furret', 'Gabite', 'Gallade', 'Galvantula', 'Garbodor', 'Garchomp', 'Gardevoir', 'Gastly', 'Gastrodon', 'Genesect', 'Gengar', 'Geodude', 'Gible', 'Gigalith', 'Girafarig', 'Glaceon', 'Glalie', 'Glameow', 'Gligar', 'Gliscor', 'Gloom', 'Gogoat', 'Golbat', 'Goldeen', 'Golduck', 'Golem', 'Golett', 'Golurk', 'Goodra', 'Goomy', 'Gorebyss', 'Gothita', 'Gothitelle', 'Gothorita', 'Granbull', 'Graveler', 'Greninja', 'Grimer', 'Grotle', 'Groudon', 'GroudonPrimal Groudon', 'Grovyle', 'Growlithe', 'Grumpig', 'Gulpin', 'Gurdurr', 'Gyarados', 'Happiny', 'Hariyama', 'Haunter', 'Hawlucha', 'Haxorus', 'Heatmor', 'Heatran', 'Heliolisk', 'Helioptile', 'Heracross', 'Herdier', 'Hippopotas', 'Hippowdon', 'Hitmonchan', 'Hitmonlee', 'Hitmontop', 'Ho-oh', 'Honchkrow', 'Honedge', 'Hoothoot', 'Hoppip', 'Horsea', 'Houndoom', 'Houndour', 'Huntail', 'Hydreigon', 'Hypno', 'Igglybuff', 'Illumise', 'Infernape', 'Inkay', 'Ivysaur', 'Jellicent', 'Jigglypuff', 'Jirachi', 'Jolteon', 'Joltik', 'Jumpluff', 'Jynx', 'Kabuto', 'Kabutops', 'Kadabra', 'Kakuna', 'Kangaskhan', 'Karrablast', 'Kecleon', 'Kingdra', 'Kingler', 'Kirlia', 'Klang', 'Klefki', 'Klink', 'Klinklang', 'Koffing', 'Krabby', 'Kricketot', 'Kricketune', 'Krokorok', 'Krookodile', 'Kyogre', 'KyogrePrimal Kyogre', 'Kyurem', 'KyuremBlack Kyurem', 'KyuremWhite Kyurem', 'Lairon', 'Lampent', 'Lanturn', 'Lapras', 'Larvesta', 'Larvitar', 'Latias', 'Latios', 'Leafeon', 'Leavanny', 'Ledian', 'Ledyba', 'Lickilicky', 'Lickitung', 'Liepard', 'Lileep', 'Lilligant', 'Lillipup', 'Linoone', 'Litleo', 'Litwick', 'Lombre', 'Lopunny', 'Lotad', 'Loudred', 'Lucario', 'Ludicolo', 'Lugia', 'Lumineon', 'Lunatone', 'Luvdisc', 'Luxio', 'Luxray', 'Machamp', 'Machoke', 'Machop', 'Magby', 'Magcargo', 'Magikarp', 'Magmar', 'Magmortar', 'Magnemite', 'Magneton', 'Magnezone', 'Makuhita', 'Malamar', 'Mamoswine', 'Manaphy', 'Mandibuzz', 'Manectric', 'Mankey', 'Mantine', 'Mantyke', 'Maractus', 'Mareep', 'Marill', 'Marowak', 'Marshtomp', 'Masquerain', 'Mawile', 'Medicham', 'Meditite', 'MeowsticFemale', 'MeowsticMale', 'Meowth', 'Mesprit', 'Metagross', 'Metang', 'Metapod', 'Mew', 'Mewtwo', 'Mienfoo', 'Mienshao', 'Mightyena', 'Milotic', 'Miltank', 'Mime Jr.', 'Minccino', 'Minun', 'Misdreavus', 'Mismagius', 'Moltres', 'Monferno', 'Mothim', 'Mr. Mime', 'Mudkip', 'Muk', 'Munchlax', 'Munna', 'Murkrow', 'Musharna', 'Natu', 'Nidoking', 'Nidoqueen', 'Nidoran♀', 'Nidoran♂', 'Nidorina', 'Nidorino', 'Nincada', 'Ninetales', 'Ninjask', 'Noctowl', 'Noibat', 'Noivern', 'Nosepass', 'Numel', 'Nuzleaf', 'Octillery', 'Oddish', 'Omanyte', 'Omastar', 'Onix', 'Oshawott', 'Pachirisu', 'Palkia', 'Palpitoad', 'Pancham', 'Pangoro', 'Panpour', 'Pansage', 'Pansear', 'Paras', 'Parasect', 'Patrat', 'Pawniard', 'Pelipper', 'Persian', 'Petilil', 'Phanpy', 'Phantump', 'Phione', 'Pichu', 'Pidgeot', 'Pidgeotto', 'Pidgey', 'Pidove', 'Pignite', 'Pikachu', 'Piloswine', 'Pineco', 'Pinsir', 'Piplup', 'Plusle', 'Politoed', 'Poliwag', 'Poliwhirl', 'Poliwrath', 'Ponyta', 'Poochyena', 'Porygon', 'Porygon-Z', 'Porygon2', 'Primeape', 'Prinplup', 'Probopass', 'Psyduck', 'Pupitar', 'Purrloin', 'Purugly', 'Pyroar', 'Quagsire', 'Quilava', 'Quilladin', 'Qwilfish', 'Raichu', 'Raikou', 'Ralts', 'Rampardos', 'Rapidash', 'Raticate', 'Rattata', 'Rayquaza', 'Regice', 'Regigigas', 'Regirock', 'Registeel', 'Relicanth', 'Remoraid', 'Reshiram', 'Reuniclus', 'Rhydon', 'Rhyhorn', 'Rhyperior', 'Riolu', 'Roggenrola', 'Roselia', 'Roserade', 'Rotom', 'RotomFan Rotom', 'RotomFrost Rotom', 'RotomHeat Rotom', 'RotomMow Rotom', 'RotomWash Rotom', 'Rufflet', 'Sableye', 'Salamence', 'Samurott', 'Sandile', 'Sandshrew', 'Sandslash', 'Sawk', 'Sawsbuck', 'Scatterbug', 'Sceptile', 'Scizor', 'Scolipede', 'Scrafty', 'Scraggy', 'Scyther', 'Seadra', 'Seaking', 'Sealeo', 'Seedot', 'Seel', 'Seismitoad', 'Sentret', 'Serperior', 'Servine', 'Seviper', 'Sewaddle', 'Sharpedo', 'Shedinja', 'Shelgon', 'Shellder', 'Shellos', 'Shelmet', 'Shieldon', 'Shiftry', 'Shinx', 'Shroomish', 'Shuckle', 'Shuppet', 'Sigilyph', 'Silcoon', 'Simipour', 'Simisage', 'Simisear', 'Skarmory', 'Skiddo', 'Skiploom', 'Skitty', 'Skorupi', 'Skrelp', 'Skuntank', 'Slaking', 'Slakoth', 'Sliggoo', 'Slowbro', 'Slowking', 'Slowpoke', 'Slugma', 'Slurpuff', 'Smeargle', 'Smoochum', 'Sneasel', 'Snivy', 'Snorlax', 'Snorunt', 'Snover', 'Snubbull', 'Solosis', 'Solrock', 'Spearow', 'Spewpa', 'Spheal', 'Spinarak', 'Spinda', 'Spiritomb', 'Spoink', 'Spritzee', 'Squirtle', 'Stantler', 'Staraptor', 'Staravia', 'Starly', 'Starmie', 'Staryu', 'Steelix', 'Stoutland', 'Stunfisk', 'Stunky', 'Sudowoodo', 'Suicune', 'Sunflora', 'Sunkern', 'Surskit', 'Swablu', 'Swadloon', 'Swalot', 'Swampert', 'Swanna', 'Swellow', 'Swinub', 'Swirlix', 'Swoobat', 'Sylveon', 'Taillow', 'Talonflame', 'Tangela', 'Tangrowth', 'Tauros', 'Teddiursa', 'Tentacool', 'Tentacruel', 'Tepig', 'Terrakion', 'Throh', 'Timburr', 'Tirtouga', 'Togekiss', 'Togepi', 'Togetic', 'Torchic', 'Torkoal', 'Torterra', 'Totodile', 'Toxicroak', 'Tranquill', 'Trapinch', 'Treecko', 'Trevenant', 'Tropius', 'Trubbish', 'Turtwig', 'Tympole', 'Tynamo', 'Typhlosion', 'Tyranitar', 'Tyrantrum', 'Tyrogue', 'Tyrunt', 'Umbreon', 'Unfezant', 'Unown', 'Ursaring', 'Uxie', 'Vanillish', 'Vanillite', 'Vanilluxe', 'Vaporeon', 'Venipede', 'Venomoth', 'Venonat', 'Venusaur', 'Vespiquen', 'Vibrava', 'Victini', 'Victreebel', 'Vigoroth', 'Vileplume', 'Virizion', 'Vivillon', 'Volbeat', 'Volcanion', 'Volcarona', 'Voltorb', 'Vullaby', 'Vulpix', 'Wailmer', 'Wailord', 'Walrein', 'Wartortle', 'Watchog', 'Weavile', 'Weedle', 'Weepinbell', 'Weezing', 'Whimsicott', 'Whirlipede', 'Whiscash', 'Whismur', 'Wigglytuff', 'Wingull', 'Wobbuffet', 'Woobat', 'Wooper', 'WormadamPlant Cloak', 'WormadamSandy Cloak', 'WormadamTrash Cloak', 'Wurmple', 'Wynaut', 'Xatu', 'Xerneas', 'Yamask', 'Yanma', 'Yanmega', 'Yveltal', 'Zangoose', 'Zapdos', 'Zebstrika', 'Zekrom', 'Zigzagoon', 'Zoroark', 'Zorua', 'Zubat', 'Zweilous'])\n",
    "primary_types = np.array(['Grass', 'Psychic', 'Dark', 'Bug', 'Rock', 'Steel', 'Normal', 'Psychic', 'Water', 'Dragon', 'Rock', 'Normal', 'Grass', 'Electric', 'Rock', 'Poison', 'Fire', 'Normal', 'Rock', 'Rock', 'Bug', 'Rock', 'Fairy', 'Steel', 'Ice', 'Normal', 'Rock', 'Ice', 'Dragon', 'Psychic', 'Water', 'Normal', 'Dragon', 'Ground', 'Ghost', 'Rock', 'Water', 'Water', 'Rock', 'Grass', 'Ice', 'Bug', 'Bug', 'Psychic', 'Steel', 'Grass', 'Grass', 'Ice', 'Normal', 'Normal', 'Rock', 'Dark', 'Water', 'Fire', 'Normal', 'Electric', 'Rock', 'Rock', 'Normal', 'Fire', 'Normal', 'Grass', 'Steel', 'Steel', 'Grass', 'Water', 'Grass', 'Normal', 'Normal', 'Bug', 'Bug', 'Grass', 'Grass', 'Fire', 'Rock', 'Grass', 'Water', 'Water', 'Bug', 'Normal', 'Bug', 'Psychic', 'Ghost', 'Normal', 'Fire', 'Fire', 'Fire', 'Normal', 'Grass', 'Grass', 'Grass', 'Grass', 'Grass', 'Fire', 'Psychic', 'Water', 'Psychic', 'Normal', 'Water', 'Water', 'Water', 'Ground', 'Fairy', 'Fairy', 'Fairy', 'Water', 'Steel', 'Ghost', 'Bug', 'Fire', 'Fighting', 'Water', 'Water', 'Grass', 'Rock', 'Rock', 'Water', 'Psychic', 'Poison', 'Poison', 'Water', 'Bug', 'Ice', 'Ice', 'Ground', 'Fire', 'Dark', 'Fire', 'Fire', 'Fire', 'Electric', 'Normal', 'Dark', 'Normal', 'Ice', 'Fire', 'Water', 'Water', 'Steel', 'Rock', 'Normal', 'Ground', 'Normal', 'Normal', 'Normal', 'Ground', 'Steel', 'Poison', 'Dragon', 'Dragon', 'Poison', 'Dragon', 'Ghost', 'Ghost', 'Ground', 'Psychic', 'Dragon', 'Water', 'Ground', 'Normal', 'Psychic', 'Bug', 'Ghost', 'Ghost', 'Ghost', 'Bug', 'Bug', 'Electric', 'Electric', 'Normal', 'Poison', 'Electric', 'Electric', 'Electric', 'Electric', 'Electric', 'Psychic', 'Fire', 'Electric', 'Water', 'Fire', 'Bug', 'Psychic', 'Psychic', 'Ground', 'Grass', 'Grass', 'Normal', 'Normal', 'Normal', 'Water', 'Fire', 'Water', 'Grass', 'Grass', 'Water', 'Electric', 'Fairy', 'Fire', 'Fire', 'Normal', 'Water', 'Fairy', 'Fairy', 'Ground', 'Grass', 'Bug', 'Dragon', 'Water', 'Water', 'Water', 'Ice', 'Normal', 'Normal', 'Dragon', 'Psychic', 'Bug', 'Poison', 'Dragon', 'Psychic', 'Ghost', 'Water', 'Bug', 'Ghost', 'Rock', 'Dragon', 'Rock', 'Normal', 'Ice', 'Ice', 'Normal', 'Ground', 'Ground', 'Grass', 'Grass', 'Poison', 'Water', 'Water', 'Rock', 'Ground', 'Ground', 'Dragon', 'Dragon', 'Water', 'Psychic', 'Psychic', 'Psychic', 'Fairy', 'Rock', 'Water', 'Poison', 'Grass', 'Ground', 'Ground', 'Grass', 'Fire', 'Psychic', 'Poison', 'Fighting', 'Water', 'Normal', 'Fighting', 'Ghost', 'Fighting', 'Dragon', 'Fire', 'Fire', 'Electric', 'Electric', 'Bug', 'Normal', 'Ground', 'Ground', 'Fighting', 'Fighting', 'Fighting', 'Fire', 'Dark', 'Steel', 'Normal', 'Grass', 'Water', 'Dark', 'Dark', 'Water', 'Dark', 'Psychic', 'Normal', 'Bug', 'Fire', 'Dark', 'Grass', 'Water', 'Normal', 'Steel', 'Electric', 'Bug', 'Grass', 'Ice', 'Rock', 'Rock', 'Psychic', 'Bug', 'Normal', 'Bug', 'Normal', 'Water', 'Water', 'Psychic', 'Steel', 'Steel', 'Steel', 'Steel', 'Poison', 'Water', 'Bug', 'Bug', 'Ground', 'Ground', 'Water', 'Water', 'Dragon', 'Dragon', 'Dragon', 'Steel', 'Ghost', 'Water', 'Water', 'Bug', 'Rock', 'Dragon', 'Dragon', 'Grass', 'Bug', 'Bug', 'Bug', 'Normal', 'Normal', 'Dark', 'Rock', 'Grass', 'Normal', 'Normal', 'Fire', 'Ghost', 'Water', 'Normal', 'Water', 'Normal', 'Fighting', 'Water', 'Psychic', 'Water', 'Rock', 'Water', 'Electric', 'Electric', 'Fighting', 'Fighting', 'Fighting', 'Fire', 'Fire', 'Water', 'Fire', 'Fire', 'Electric', 'Electric', 'Electric', 'Fighting', 'Dark', 'Ice', 'Water', 'Dark', 'Electric', 'Fighting', 'Water', 'Water', 'Grass', 'Electric', 'Water', 'Ground', 'Water', 'Bug', 'Steel', 'Fighting', 'Fighting', 'Psychic', 'Psychic', 'Normal', 'Psychic', 'Steel', 'Steel', 'Bug', 'Psychic', 'Psychic', 'Fighting', 'Fighting', 'Dark', 'Water', 'Normal', 'Psychic', 'Normal', 'Electric', 'Ghost', 'Ghost', 'Fire', 'Fire', 'Bug', 'Psychic', 'Water', 'Poison', 'Normal', 'Psychic', 'Dark', 'Psychic', 'Psychic', 'Poison', 'Poison', 'Poison', 'Poison', 'Poison', 'Poison', 'Bug', 'Fire', 'Bug', 'Normal', 'Flying', 'Flying', 'Rock', 'Fire', 'Grass', 'Water', 'Grass', 'Rock', 'Rock', 'Rock', 'Water', 'Electric', 'Water', 'Water', 'Fighting', 'Fighting', 'Water', 'Grass', 'Fire', 'Bug', 'Bug', 'Normal', 'Dark', 'Water', 'Normal', 'Grass', 'Ground', 'Ghost', 'Water', 'Electric', 'Normal', 'Normal', 'Normal', 'Normal', 'Fire', 'Electric', 'Ice', 'Bug', 'Bug', 'Water', 'Electric', 'Water', 'Water', 'Water', 'Water', 'Fire', 'Dark', 'Normal', 'Normal', 'Normal', 'Fighting', 'Water', 'Rock', 'Water', 'Rock', 'Dark', 'Normal', 'Fire', 'Water', 'Fire', 'Grass', 'Water', 'Electric', 'Electric', 'Psychic', 'Rock', 'Fire', 'Normal', 'Normal', 'Dragon', 'Ice', 'Normal', 'Rock', 'Steel', 'Water', 'Water', 'Dragon', 'Psychic', 'Ground', 'Ground', 'Ground', 'Fighting', 'Rock', 'Grass', 'Grass', 'Electric', 'Electric', 'Electric', 'Electric', 'Electric', 'Electric', 'Normal', 'Dark', 'Dragon', 'Water', 'Ground', 'Ground', 'Ground', 'Fighting', 'Normal', 'Bug', 'Grass', 'Bug', 'Bug', 'Dark', 'Dark', 'Bug', 'Water', 'Water', 'Ice', 'Grass', 'Water', 'Water', 'Normal', 'Grass', 'Grass', 'Poison', 'Bug', 'Water', 'Bug', 'Dragon', 'Water', 'Water', 'Bug', 'Rock', 'Grass', 'Electric', 'Grass', 'Bug', 'Ghost', 'Psychic', 'Bug', 'Water', 'Grass', 'Fire', 'Steel', 'Grass', 'Grass', 'Normal', 'Poison', 'Poison', 'Poison', 'Normal', 'Normal', 'Dragon', 'Water', 'Water', 'Water', 'Fire', 'Fairy', 'Normal', 'Ice', 'Dark', 'Grass', 'Normal', 'Ice', 'Grass', 'Fairy', 'Psychic', 'Rock', 'Normal', 'Bug', 'Ice', 'Bug', 'Normal', 'Ghost', 'Psychic', 'Fairy', 'Water', 'Normal', 'Normal', 'Normal', 'Normal', 'Water', 'Water', 'Steel', 'Normal', 'Ground', 'Poison', 'Rock', 'Water', 'Grass', 'Grass', 'Bug', 'Normal', 'Bug', 'Poison', 'Water', 'Water', 'Normal', 'Ice', 'Fairy', 'Psychic', 'Fairy', 'Normal', 'Fire', 'Grass', 'Grass', 'Normal', 'Normal', 'Water', 'Water', 'Fire', 'Rock', 'Fighting', 'Fighting', 'Water', 'Fairy', 'Fairy', 'Fairy', 'Fire', 'Fire', 'Grass', 'Water', 'Poison', 'Normal', 'Ground', 'Grass', 'Ghost', 'Grass', 'Poison', 'Grass', 'Water', 'Electric', 'Fire', 'Rock', 'Rock', 'Fighting', 'Rock', 'Dark', 'Normal', 'Psychic', 'Normal', 'Psychic', 'Ice', 'Ice', 'Ice', 'Water', 'Bug', 'Bug', 'Bug', 'Grass', 'Bug', 'Ground', 'Psychic', 'Grass', 'Normal', 'Grass', 'Grass', 'Bug', 'Bug', 'Fire', 'Bug', 'Electric', 'Dark', 'Fire', 'Water', 'Water', 'Ice', 'Water', 'Normal', 'Dark', 'Bug', 'Grass', 'Poison', 'Grass', 'Bug', 'Water', 'Normal', 'Normal', 'Water', 'Psychic', 'Psychic', 'Water', 'Bug', 'Bug', 'Bug', 'Bug', 'Psychic', 'Psychic', 'Fairy', 'Ghost', 'Bug', 'Bug', 'Dark', 'Normal', 'Electric', 'Electric', 'Dragon', 'Normal', 'Dark', 'Dark', 'Poison', 'Dark'])\n",
    "secondary_types = np.array(['Ice', nan, nan, nan, 'Flying', 'Rock', nan, nan, nan, 'Flying', 'Ice', nan, 'Poison', nan, 'Bug', nan, nan, nan, 'Flying', 'Flying', 'Poison', 'Bug', nan, 'Rock', 'Flying', nan, 'Ice', nan, nan, nan, 'Fairy', 'Fairy', nan, 'Psychic', nan, 'Water', 'Ground', nan, 'Steel', nan, nan, 'Flying', 'Poison', nan, 'Psychic', nan, 'Poison', nan, 'Water', nan, 'Water', 'Steel', nan, 'Fighting', nan, nan, nan, nan, nan, nan, 'Flying', 'Fighting', 'Psychic', 'Psychic', 'Poison', nan, 'Poison', nan, nan, nan, 'Flying', nan, 'Dark', 'Ground', 'Fairy', nan, 'Rock', 'Dark', nan, nan, nan, 'Grass', 'Fire', nan, 'Flying', nan, nan, 'Flying', nan, nan, 'Fighting', nan, nan, nan, nan, 'Electric', nan, nan, nan, nan, nan, 'Psychic', nan, nan, nan, 'Ice', 'Fighting', nan, 'Flying', 'Fighting', nan, nan, 'Rock', 'Fairy', 'Grass', nan, 'Dark', nan, 'Fighting', 'Flying', nan, 'Rock', nan, nan, nan, nan, nan, nan, 'Psychic', nan, 'Fairy', 'Grass', 'Dragon', nan, 'Flying', 'Psychic', 'Ice', nan, 'Dragon', 'Fairy', 'Ground', nan, nan, 'Flying', 'Flying', nan, 'Ghost', 'Dragon', nan, 'Flying', 'Dark', nan, 'Flying', 'Flying', nan, nan, nan, 'Flying', nan, nan, nan, 'Steel', nan, nan, nan, 'Poison', 'Rock', nan, nan, nan, nan, nan, nan, nan, nan, nan, nan, 'Fighting', 'Flying', 'Steel', nan, 'Steel', nan, nan, 'Steel', 'Psychic', 'Psychic', nan, 'Flying', 'Flying', nan, nan, nan, 'Steel', 'Steel', nan, nan, nan, nan, 'Flying', 'Flying', nan, nan, nan, 'Dragon', 'Poison', 'Steel', nan, 'Ghost', nan, nan, 'Ghost', nan, nan, 'Ground', 'Fighting', 'Electric', nan, 'Ground', 'Fairy', 'Poison', 'Ground', 'Steel', 'Poison', 'Ground', 'Ground', nan, 'Psychic', nan, nan, nan, 'Flying', 'Flying', 'Poison', nan, 'Flying', nan, nan, 'Ground', 'Ghost', 'Ghost', nan, nan, nan, nan, nan, nan, nan, 'Ground', 'Dark', nan, nan, nan, 'Fire', nan, nan, nan, nan, nan, 'Flying', nan, nan, 'Poison', 'Flying', nan, nan, 'Steel', 'Normal', 'Normal', 'Fighting', nan, nan, nan, nan, nan, nan, 'Flying', 'Flying', 'Ghost', 'Flying', 'Flying', nan, 'Fire', 'Fire', nan, 'Dragon', nan, 'Fairy', nan, 'Fighting', 'Psychic', 'Poison', 'Ghost', 'Fairy', 'Psychic', nan, 'Electric', 'Flying', 'Psychic', 'Water', 'Water', nan, 'Poison', nan, nan, nan, 'Dragon', nan, 'Fairy', nan, 'Fairy', nan, nan, nan, nan, nan, nan, 'Dark', 'Dark', nan, nan, 'Ice', 'Ice', 'Ice', 'Rock', 'Fire', 'Electric', 'Ice', 'Fire', 'Ground', 'Psychic', 'Psychic', nan, 'Grass', 'Flying', 'Flying', nan, nan, nan, 'Grass', nan, nan, nan, 'Normal', 'Fire', 'Grass', nan, 'Grass', nan, 'Steel', 'Grass', 'Flying', nan, 'Psychic', nan, nan, nan, nan, nan, nan, nan, 'Rock', nan, nan, nan, 'Steel', 'Steel', 'Steel', nan, 'Psychic', 'Ground', nan, 'Flying', nan, nan, 'Flying', 'Flying', nan, nan, 'Fairy', nan, 'Ground', 'Flying', 'Fairy', 'Psychic', 'Psychic', nan, nan, nan, nan, 'Psychic', 'Psychic', nan, nan, nan, nan, nan, nan, nan, nan, 'Fairy', nan, nan, nan, nan, 'Flying', 'Fighting', 'Flying', 'Fairy', nan, nan, nan, nan, 'Flying', nan, 'Flying', 'Ground', 'Ground', nan, nan, nan, nan, 'Ground', nan, 'Flying', 'Flying', 'Dragon', 'Dragon', nan, 'Ground', 'Dark', nan, 'Poison', 'Water', 'Water', 'Ground', nan, nan, 'Dragon', 'Ground', nan, 'Dark', nan, nan, nan, 'Grass', 'Grass', nan, 'Steel', 'Flying', nan, nan, nan, 'Grass', nan, nan, 'Flying', 'Flying', 'Flying', 'Flying', 'Fighting', nan, 'Ground', nan, nan, nan, nan, nan, nan, nan, 'Fighting', nan, nan, nan, nan, nan, nan, nan, 'Steel', nan, 'Ground', nan, nan, 'Normal', 'Ground', nan, nan, 'Poison', nan, nan, 'Fairy', nan, nan, nan, nan, 'Flying', nan, nan, nan, nan, 'Rock', nan, 'Fire', nan, 'Rock', 'Rock', 'Rock', nan, nan, 'Poison', 'Poison', 'Ghost', 'Flying', 'Ice', 'Fire', 'Grass', 'Water', 'Flying', 'Ghost', 'Flying', nan, 'Dark', nan, nan, nan, 'Grass', nan, nan, 'Steel', 'Poison', 'Fighting', 'Fighting', 'Flying', nan, nan, 'Water', nan, nan, 'Ground', nan, nan, nan, nan, 'Grass', 'Dark', 'Ghost', nan, nan, nan, nan, 'Steel', 'Dark', nan, nan, 'Rock', nan, 'Flying', nan, nan, nan, nan, 'Flying', nan, 'Flying', nan, 'Bug', 'Water', 'Dark', nan, nan, nan, 'Psychic', 'Psychic', 'Psychic', nan, nan, nan, 'Psychic', 'Ice', nan, nan, nan, 'Ice', nan, nan, 'Psychic', 'Flying', nan, 'Water', 'Poison', nan, 'Dark', nan, nan, nan, nan, 'Flying', 'Flying', 'Flying', 'Psychic', nan, 'Ground', nan, 'Electric', 'Dark', nan, nan, nan, nan, 'Water', 'Flying', 'Grass', nan, 'Ground', 'Flying', 'Flying', 'Ground', nan, 'Flying', nan, 'Flying', 'Flying', nan, nan, nan, nan, 'Poison', 'Poison', nan, 'Fighting', nan, nan, 'Rock', 'Flying', nan, 'Flying', nan, nan, 'Ground', nan, 'Fighting', 'Flying', nan, nan, 'Grass', 'Flying', nan, nan, nan, nan, nan, 'Dark', 'Dragon', nan, 'Dragon', nan, 'Flying', nan, nan, nan, nan, nan, nan, nan, 'Poison', 'Poison', 'Poison', 'Poison', 'Flying', 'Dragon', 'Fire', 'Poison', nan, 'Poison', 'Fighting', 'Flying', nan, 'Water', 'Fire', nan, 'Flying', nan, nan, nan, 'Water', nan, nan, 'Ice', 'Poison', 'Poison', nan, 'Fairy', 'Poison', 'Ground', nan, 'Fairy', 'Flying', nan, 'Flying', 'Ground', 'Grass', 'Ground', 'Steel', nan, nan, 'Flying', nan, nan, 'Flying', 'Flying', 'Flying', nan, 'Flying', nan, 'Electric', nan, nan, nan, 'Flying', 'Dragon'])\n"
   ]
  },
  {
   "cell_type": "code",
   "execution_count": 13,
   "metadata": {},
   "outputs": [
    {
     "name": "stdout",
     "output_type": "stream",
     "text": [
      "('Abomasnow', 'Grass', 'Ice')\n"
     ]
    }
   ],
   "source": [
    "# traditional method\n",
    "zip_list = [*zip(names,primary_types,secondary_types)]\n",
    "print(zip_list[0])"
   ]
  },
  {
   "cell_type": "code",
   "execution_count": 15,
   "metadata": {},
   "outputs": [
    {
     "data": {
      "text/plain": [
       "array([['Abomasnow', 'Abra', 'Absol', ..., 'Zorua', 'Zubat', 'Zweilous'],\n",
       "       ['Grass', 'Psychic', 'Dark', ..., 'Dark', 'Poison', 'Dark'],\n",
       "       ['Ice', 'nan', 'nan', ..., 'nan', 'Flying', 'Dragon']],\n",
       "      dtype='<U23')"
      ]
     },
     "execution_count": 15,
     "metadata": {},
     "output_type": "execute_result"
    }
   ],
   "source": [
    "# Why not this\n",
    "np.array([names,primary_types,secondary_types])\n",
    "# Because this is a list of lists"
   ]
  },
  {
   "cell_type": "markdown",
   "metadata": {},
   "source": [
    "# Sets"
   ]
  },
  {
   "cell_type": "code",
   "execution_count": 16,
   "metadata": {},
   "outputs": [
    {
     "name": "stdout",
     "output_type": "stream",
     "text": [
      "{'Pikachu', 'Koffing', 'Bulbasaur'}\n"
     ]
    }
   ],
   "source": [
    "# Does set mean only unique variables?\n",
    "ash_pokedex  = ['Pikachu', 'Bulbasaur', 'Koffing','Pikachu','Pikachu','Pikachu']\n",
    "ash_set = set(ash_pokedex)\n",
    "print(ash_set)\n",
    "# Yes, it does"
   ]
  },
  {
   "cell_type": "markdown",
   "metadata": {},
   "source": [
    "# Numpy arrays"
   ]
  },
  {
   "cell_type": "code",
   "execution_count": 21,
   "metadata": {},
   "outputs": [
    {
     "ename": "AttributeError",
     "evalue": "'list' object has no attribute 'sum'",
     "output_type": "error",
     "traceback": [
      "\u001b[0;31m---------------------------------------------------------------------------\u001b[0m",
      "\u001b[0;31mAttributeError\u001b[0m                            Traceback (most recent call last)",
      "\u001b[0;32m<ipython-input-21-b94599e5e7ab>\u001b[0m in \u001b[0;36m<module>\u001b[0;34m\u001b[0m\n\u001b[1;32m      1\u001b[0m \u001b[0mnp_1\u001b[0m \u001b[0;34m=\u001b[0m \u001b[0;34m[\u001b[0m\u001b[0;36m90\u001b[0m\u001b[0;34m,\u001b[0m \u001b[0;36m92\u001b[0m\u001b[0;34m,\u001b[0m \u001b[0;36m75\u001b[0m\u001b[0;34m,\u001b[0m \u001b[0;36m92\u001b[0m\u001b[0;34m,\u001b[0m \u001b[0;36m85\u001b[0m\u001b[0;34m,\u001b[0m \u001b[0;36m60\u001b[0m\u001b[0;34m]\u001b[0m\u001b[0;34m\u001b[0m\u001b[0;34m\u001b[0m\u001b[0m\n\u001b[0;32m----> 2\u001b[0;31m \u001b[0mnp_1\u001b[0m\u001b[0;34m.\u001b[0m\u001b[0msum\u001b[0m\u001b[0;34m(\u001b[0m\u001b[0;34m)\u001b[0m\u001b[0;34m\u001b[0m\u001b[0;34m\u001b[0m\u001b[0m\n\u001b[0m",
      "\u001b[0;31mAttributeError\u001b[0m: 'list' object has no attribute 'sum'"
     ]
    }
   ],
   "source": [
    "# Create 1 dimensional array\n",
    "np_1 = [90, 92, 75, 92, 85, 60]\n",
    "np_1.sum()\n",
    "# this doesn't work"
   ]
  },
  {
   "cell_type": "code",
   "execution_count": null,
   "metadata": {},
   "outputs": [],
   "source": [
    "# Create 1 dimensional array\n",
    "np_1 = [90, 92, 75, 92, 85, 60]\n",
    "\n",
    "# Aggregating\n",
    "np.sum(np_1)\n",
    "# this works"
   ]
  },
  {
   "cell_type": "code",
   "execution_count": 27,
   "metadata": {},
   "outputs": [
    {
     "name": "stdout",
     "output_type": "stream",
     "text": [
      "<class 'numpy.ndarray'>\n",
      "<class 'list'>\n",
      "[494 310]\n",
      "[115 112  90 197 140 150]\n"
     ]
    }
   ],
   "source": [
    "# Create nd (n dimensional array)\n",
    "np_2 = np.array([[90, 92, 75, 92, 85, 60],  [ 25,  20,  15, 105,  55,  90]])\n",
    "\n",
    "# Check type()\n",
    "print(type(np_2))\n",
    "print(type(np_1))\n",
    "\n",
    "# Sum\n",
    "print(np_2.sum(axis=1))\n",
    "print(np_2.sum(axis=0))\n",
    "# this works as this is ndarray"
   ]
  },
  {
   "cell_type": "markdown",
   "metadata": {},
   "source": [
    "# Vectorization"
   ]
  },
  {
   "cell_type": "code",
   "execution_count": 8,
   "metadata": {},
   "outputs": [
    {
     "name": "stdout",
     "output_type": "stream",
     "text": [
      "[23.3 23.3 23.3 23.3 23.3]\n"
     ]
    }
   ],
   "source": [
    "poker_var = poker_hands[['R1', 'R2', 'R3', 'R4', 'R5']].values.var(axis=1, ddof=1)\n",
    "print(poker_var[0:5])"
   ]
  },
  {
   "cell_type": "markdown",
   "metadata": {},
   "source": [
    "# Transform "
   ]
  },
  {
   "cell_type": "code",
   "execution_count": 17,
   "metadata": {},
   "outputs": [
    {
     "name": "stdout",
     "output_type": "stream",
     "text": [
      "   total_bill       tip  size\n",
      "0    0.291579  0.001111   0.2\n",
      "1    0.152283  0.073333   0.4\n",
      "2    0.375786  0.277778   0.4\n",
      "3    0.431713  0.256667   0.2\n",
      "4    0.450775  0.290000   0.6\n"
     ]
    }
   ],
   "source": [
    "restaurant_data = resturant.copy()\n",
    "# Define the min-max transformation\n",
    "min_max_tr = lambda x: (x - x.min()) / (x.max() - x.min())\n",
    "\n",
    "# Group the data according to the time\n",
    "restaurant_grouped = restaurant_data.groupby('time')\n",
    "\n",
    "# Apply the transformation\n",
    "restaurant_min_max_group = restaurant_grouped.transform(min_max_tr)\n",
    "print(restaurant_min_max_group.head())"
   ]
  },
  {
   "cell_type": "markdown",
   "metadata": {},
   "source": [
    "# Groupby"
   ]
  },
  {
   "cell_type": "code",
   "execution_count": 34,
   "metadata": {},
   "outputs": [],
   "source": [
    "sales = walmart_sales.sample(n=11000)\n",
    "# For each store type, aggregate weekly_sales: get min, max, mean, and median\n",
    "sales_stats = sales.groupby('type')['weekly_sales'].agg([min,max,sum,np.min,np.max,np.mean,np.median]) # \n"
   ]
  },
  {
   "cell_type": "code",
   "execution_count": 35,
   "metadata": {},
   "outputs": [
    {
     "data": {
      "text/html": [
       "<div>\n",
       "<style scoped>\n",
       "    .dataframe tbody tr th:only-of-type {\n",
       "        vertical-align: middle;\n",
       "    }\n",
       "\n",
       "    .dataframe tbody tr th {\n",
       "        vertical-align: top;\n",
       "    }\n",
       "\n",
       "    .dataframe thead th {\n",
       "        text-align: right;\n",
       "    }\n",
       "</style>\n",
       "<table border=\"1\" class=\"dataframe\">\n",
       "  <thead>\n",
       "    <tr style=\"text-align: right;\">\n",
       "      <th></th>\n",
       "      <th>min</th>\n",
       "      <th>max</th>\n",
       "      <th>sum</th>\n",
       "      <th>amin</th>\n",
       "      <th>amax</th>\n",
       "      <th>mean</th>\n",
       "      <th>median</th>\n",
       "    </tr>\n",
       "    <tr>\n",
       "      <th>type</th>\n",
       "      <th></th>\n",
       "      <th></th>\n",
       "      <th></th>\n",
       "      <th></th>\n",
       "      <th></th>\n",
       "      <th></th>\n",
       "      <th></th>\n",
       "    </tr>\n",
       "  </thead>\n",
       "  <tbody>\n",
       "    <tr>\n",
       "      <th>A</th>\n",
       "      <td>-498.00</td>\n",
       "      <td>313933.22</td>\n",
       "      <td>1.169007e+08</td>\n",
       "      <td>-498.00</td>\n",
       "      <td>313933.22</td>\n",
       "      <td>20437.189112</td>\n",
       "      <td>10153.730</td>\n",
       "    </tr>\n",
       "    <tr>\n",
       "      <th>B</th>\n",
       "      <td>-1008.96</td>\n",
       "      <td>138335.78</td>\n",
       "      <td>5.123012e+07</td>\n",
       "      <td>-1008.96</td>\n",
       "      <td>138335.78</td>\n",
       "      <td>12464.748491</td>\n",
       "      <td>6488.425</td>\n",
       "    </tr>\n",
       "    <tr>\n",
       "      <th>C</th>\n",
       "      <td>-11.88</td>\n",
       "      <td>98721.37</td>\n",
       "      <td>1.074237e+07</td>\n",
       "      <td>-11.88</td>\n",
       "      <td>98721.37</td>\n",
       "      <td>9181.515701</td>\n",
       "      <td>1109.955</td>\n",
       "    </tr>\n",
       "  </tbody>\n",
       "</table>\n",
       "</div>"
      ],
      "text/plain": [
       "          min        max           sum     amin       amax          mean  \\\n",
       "type                                                                       \n",
       "A     -498.00  313933.22  1.169007e+08  -498.00  313933.22  20437.189112   \n",
       "B    -1008.96  138335.78  5.123012e+07 -1008.96  138335.78  12464.748491   \n",
       "C      -11.88   98721.37  1.074237e+07   -11.88   98721.37   9181.515701   \n",
       "\n",
       "         median  \n",
       "type             \n",
       "A     10153.730  \n",
       "B      6488.425  \n",
       "C      1109.955  "
      ]
     },
     "execution_count": 35,
     "metadata": {},
     "output_type": "execute_result"
    }
   ],
   "source": [
    "sales_stats"
   ]
  },
  {
   "cell_type": "code",
   "execution_count": null,
   "metadata": {},
   "outputs": [],
   "source": []
  },
  {
   "cell_type": "code",
   "execution_count": null,
   "metadata": {},
   "outputs": [],
   "source": []
  }
 ],
 "metadata": {
  "kernelspec": {
   "display_name": "Python 3",
   "language": "python",
   "name": "python3"
  },
  "language_info": {
   "codemirror_mode": {
    "name": "ipython",
    "version": 3
   },
   "file_extension": ".py",
   "mimetype": "text/x-python",
   "name": "python",
   "nbconvert_exporter": "python",
   "pygments_lexer": "ipython3",
   "version": "3.7.6"
  },
  "toc": {
   "base_numbering": 1,
   "nav_menu": {},
   "number_sections": true,
   "sideBar": true,
   "skip_h1_title": false,
   "title_cell": "Table of Contents",
   "title_sidebar": "Contents",
   "toc_cell": true,
   "toc_position": {},
   "toc_section_display": true,
   "toc_window_display": false
  }
 },
 "nbformat": 4,
 "nbformat_minor": 4
}
