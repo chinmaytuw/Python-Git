{
 "cells": [
  {
   "cell_type": "markdown",
   "metadata": {
    "toc": true
   },
   "source": [
    "<h1>Table of Contents<span class=\"tocSkip\"></span></h1>\n",
    "<div class=\"toc\"><ul class=\"toc-item\"><li><span><a href=\"#Notes:\" data-toc-modified-id=\"Notes:-1\"><span class=\"toc-item-num\">1&nbsp;&nbsp;</span>Notes:</a></span></li><li><span><a href=\"#Foundations-for-efficiencies\" data-toc-modified-id=\"Foundations-for-efficiencies-2\"><span class=\"toc-item-num\">2&nbsp;&nbsp;</span>Foundations for efficiencies</a></span><ul class=\"toc-item\"><li><span><a href=\"#A-taste-of-things-to-come\" data-toc-modified-id=\"A-taste-of-things-to-come-2.1\"><span class=\"toc-item-num\">2.1&nbsp;&nbsp;</span>A taste of things to come</a></span></li><li><span><a href=\"#Zen-of-Python\" data-toc-modified-id=\"Zen-of-Python-2.2\"><span class=\"toc-item-num\">2.2&nbsp;&nbsp;</span>Zen of Python</a></span></li><li><span><a href=\"#Built-in-practice:-range()\" data-toc-modified-id=\"Built-in-practice:-range()-2.3\"><span class=\"toc-item-num\">2.3&nbsp;&nbsp;</span>Built-in practice: range()</a></span></li><li><span><a href=\"#Built-in-practice:-enumerate()\" data-toc-modified-id=\"Built-in-practice:-enumerate()-2.4\"><span class=\"toc-item-num\">2.4&nbsp;&nbsp;</span>Built-in practice: enumerate()</a></span></li><li><span><a href=\"#Built-in-practice:-map()\" data-toc-modified-id=\"Built-in-practice:-map()-2.5\"><span class=\"toc-item-num\">2.5&nbsp;&nbsp;</span>Built-in practice: map()</a></span></li><li><span><a href=\"#Bringing-it-all-together\" data-toc-modified-id=\"Bringing-it-all-together-2.6\"><span class=\"toc-item-num\">2.6&nbsp;&nbsp;</span>Bringing it all together</a></span></li></ul></li><li><span><a href=\"#Timing-and-profiling-code\" data-toc-modified-id=\"Timing-and-profiling-code-3\"><span class=\"toc-item-num\">3&nbsp;&nbsp;</span>Timing and profiling code</a></span><ul class=\"toc-item\"><li><span><a href=\"#Magic-commands:-%timeit\" data-toc-modified-id=\"Magic-commands:-%timeit-3.1\"><span class=\"toc-item-num\">3.1&nbsp;&nbsp;</span>Magic commands: %timeit</a></span><ul class=\"toc-item\"><li><span><a href=\"#Example-1\" data-toc-modified-id=\"Example-1-3.1.1\"><span class=\"toc-item-num\">3.1.1&nbsp;&nbsp;</span>Example 1</a></span></li><li><span><a href=\"#Example-2\" data-toc-modified-id=\"Example-2-3.1.2\"><span class=\"toc-item-num\">3.1.2&nbsp;&nbsp;</span>Example 2</a></span></li></ul></li><li><span><a href=\"#Code-profiling-for-runtime\" data-toc-modified-id=\"Code-profiling-for-runtime-3.2\"><span class=\"toc-item-num\">3.2&nbsp;&nbsp;</span>Code profiling for runtime</a></span></li><li><span><a href=\"#Code-profiling-for-memory-usage\" data-toc-modified-id=\"Code-profiling-for-memory-usage-3.3\"><span class=\"toc-item-num\">3.3&nbsp;&nbsp;</span>Code profiling for memory usage</a></span></li><li><span><a href=\"#Bringing-it-all-together\" data-toc-modified-id=\"Bringing-it-all-together-3.4\"><span class=\"toc-item-num\">3.4&nbsp;&nbsp;</span>Bringing it all together</a></span></li></ul></li><li><span><a href=\"#Gaining-efficiencies\" data-toc-modified-id=\"Gaining-efficiencies-4\"><span class=\"toc-item-num\">4&nbsp;&nbsp;</span>Gaining efficiencies</a></span><ul class=\"toc-item\"><li><span><a href=\"#Efficiently-combining,-counting,-and-iterating\" data-toc-modified-id=\"Efficiently-combining,-counting,-and-iterating-4.1\"><span class=\"toc-item-num\">4.1&nbsp;&nbsp;</span>Efficiently combining, counting, and iterating</a></span></li><li><span><a href=\"#Counting-Pokémon-from-a-sample\" data-toc-modified-id=\"Counting-Pokémon-from-a-sample-4.2\"><span class=\"toc-item-num\">4.2&nbsp;&nbsp;</span>Counting Pokémon from a sample</a></span></li><li><span><a href=\"#Combinations\" data-toc-modified-id=\"Combinations-4.3\"><span class=\"toc-item-num\">4.3&nbsp;&nbsp;</span>Combinations</a></span></li><li><span><a href=\"#Set-theory\" data-toc-modified-id=\"Set-theory-4.4\"><span class=\"toc-item-num\">4.4&nbsp;&nbsp;</span>Set theory</a></span></li><li><span><a href=\"#Searching\" data-toc-modified-id=\"Searching-4.5\"><span class=\"toc-item-num\">4.5&nbsp;&nbsp;</span>Searching</a></span></li><li><span><a href=\"#Gathering-unique\" data-toc-modified-id=\"Gathering-unique-4.6\"><span class=\"toc-item-num\">4.6&nbsp;&nbsp;</span>Gathering unique</a></span></li><li><span><a href=\"#Eliminating-loops\" data-toc-modified-id=\"Eliminating-loops-4.7\"><span class=\"toc-item-num\">4.7&nbsp;&nbsp;</span>Eliminating loops</a></span></li><li><span><a href=\"#Totals-and-averages-without-a-loop\" data-toc-modified-id=\"Totals-and-averages-without-a-loop-4.8\"><span class=\"toc-item-num\">4.8&nbsp;&nbsp;</span>Totals and averages without a loop</a></span></li><li><span><a href=\"#Writing-better-loops\" data-toc-modified-id=\"Writing-better-loops-4.9\"><span class=\"toc-item-num\">4.9&nbsp;&nbsp;</span>Writing better loops</a></span></li><li><span><a href=\"#Holistic-conversion-loop\" data-toc-modified-id=\"Holistic-conversion-loop-4.10\"><span class=\"toc-item-num\">4.10&nbsp;&nbsp;</span>Holistic conversion loop</a></span></li><li><span><a href=\"#Bringing-it-all-together:-Pokémon-z-scores\" data-toc-modified-id=\"Bringing-it-all-together:-Pokémon-z-scores-4.11\"><span class=\"toc-item-num\">4.11&nbsp;&nbsp;</span>Bringing it all together: Pokémon z-scores</a></span></li></ul></li><li><span><a href=\"#Basic-pandas-optimizations\" data-toc-modified-id=\"Basic-pandas-optimizations-5\"><span class=\"toc-item-num\">5&nbsp;&nbsp;</span>Basic pandas optimizations</a></span><ul class=\"toc-item\"><li><span><a href=\"#Iterating-with-.iterrows()\" data-toc-modified-id=\"Iterating-with-.iterrows()-5.1\"><span class=\"toc-item-num\">5.1&nbsp;&nbsp;</span>Iterating with .iterrows()</a></span></li><li><span><a href=\"#Run-differentials-with-.iterrows()\" data-toc-modified-id=\"Run-differentials-with-.iterrows()-5.2\"><span class=\"toc-item-num\">5.2&nbsp;&nbsp;</span>Run differentials with .iterrows()</a></span></li><li><span><a href=\"#Another-iterator-method:-.itertuples()\" data-toc-modified-id=\"Another-iterator-method:-.itertuples()-5.3\"><span class=\"toc-item-num\">5.3&nbsp;&nbsp;</span>Another iterator method: .itertuples()</a></span></li><li><span><a href=\"#Run-differentials-with-.itertuples()\" data-toc-modified-id=\"Run-differentials-with-.itertuples()-5.4\"><span class=\"toc-item-num\">5.4&nbsp;&nbsp;</span>Run differentials with .itertuples()</a></span></li><li><span><a href=\"#pandas-alternative-to-looping:-apply()\" data-toc-modified-id=\"pandas-alternative-to-looping:-apply()-5.5\"><span class=\"toc-item-num\">5.5&nbsp;&nbsp;</span>pandas alternative to looping: apply()</a></span></li><li><span><a href=\"#Settle-a-debate-with-.apply()\" data-toc-modified-id=\"Settle-a-debate-with-.apply()-5.6\"><span class=\"toc-item-num\">5.6&nbsp;&nbsp;</span>Settle a debate with .apply()</a></span></li><li><span><a href=\"#Optimal-pandas-iterating\" data-toc-modified-id=\"Optimal-pandas-iterating-5.7\"><span class=\"toc-item-num\">5.7&nbsp;&nbsp;</span>Optimal pandas iterating</a></span><ul class=\"toc-item\"><li><span><a href=\"#Replacing-.iloc-with-underlying-arrays\" data-toc-modified-id=\"Replacing-.iloc-with-underlying-arrays-5.7.1\"><span class=\"toc-item-num\">5.7.1&nbsp;&nbsp;</span>Replacing .iloc with underlying arrays</a></span></li></ul></li><li><span><a href=\"#Bringing-it-all-together:-Predict-win-percentage\" data-toc-modified-id=\"Bringing-it-all-together:-Predict-win-percentage-5.8\"><span class=\"toc-item-num\">5.8&nbsp;&nbsp;</span>Bringing it all together: Predict win percentage</a></span></li></ul></li></ul></div>"
   ]
  },
  {
   "cell_type": "markdown",
   "metadata": {},
   "source": [
    "# Notes:\n",
    "\n",
    "1. "
   ]
  },
  {
   "cell_type": "code",
   "execution_count": 1,
   "metadata": {},
   "outputs": [],
   "source": [
    "import numpy as np\n",
    "import pandas as pd"
   ]
  },
  {
   "cell_type": "code",
   "execution_count": 2,
   "metadata": {},
   "outputs": [],
   "source": [
    "baseball = pd.read_csv('https://assets.datacamp.com/production/repositories/3581/datasets/779033fb8fb5021aee9ff46253980abcbc5851f3/baseball_stats.csv')\n"
   ]
  },
  {
   "cell_type": "markdown",
   "metadata": {},
   "source": [
    "# Foundations for efficiencies"
   ]
  },
  {
   "cell_type": "markdown",
   "metadata": {},
   "source": [
    "## A taste of things to come"
   ]
  },
  {
   "cell_type": "code",
   "execution_count": 5,
   "metadata": {},
   "outputs": [
    {
     "name": "stdout",
     "output_type": "stream",
     "text": [
      "['Kramer', 'Elaine', 'George', 'Newman']\n"
     ]
    }
   ],
   "source": [
    "names = ['Jerry', 'Kramer', 'Elaine', 'George', 'Newman']\n",
    "\n",
    "\n",
    "# Print the list created using the Non-Pythonic approach\n",
    "i = 0\n",
    "new_list= []\n",
    "while i < len(names):\n",
    "    if len(names[i]) >= 6:\n",
    "        new_list.append(names[i])\n",
    "    i += 1\n",
    "print(new_list)"
   ]
  },
  {
   "cell_type": "code",
   "execution_count": 6,
   "metadata": {},
   "outputs": [
    {
     "name": "stdout",
     "output_type": "stream",
     "text": [
      "['Kramer', 'Elaine', 'George', 'Newman']\n"
     ]
    }
   ],
   "source": [
    "# Print the list created by looping over the contents of names\n",
    "better_list = []\n",
    "for name in names:\n",
    "    if len(name) >= 6:\n",
    "        better_list.append(name)\n",
    "print(better_list)"
   ]
  },
  {
   "cell_type": "code",
   "execution_count": 7,
   "metadata": {},
   "outputs": [
    {
     "name": "stdout",
     "output_type": "stream",
     "text": [
      "['Kramer', 'Elaine', 'George', 'Newman']\n"
     ]
    }
   ],
   "source": [
    "# Print the list created by using list comprehension\n",
    "best_list = [name for name in names if len(name) >= 6]\n",
    "print(best_list)"
   ]
  },
  {
   "cell_type": "markdown",
   "metadata": {},
   "source": [
    "- The important thing to notice here is that following some of Python's guiding principles allows you to write cleaner and more efficient code. Remember, `Pythonic code == efficient code`."
   ]
  },
  {
   "cell_type": "markdown",
   "metadata": {},
   "source": [
    "## Zen of Python"
   ]
  },
  {
   "cell_type": "code",
   "execution_count": 8,
   "metadata": {},
   "outputs": [
    {
     "name": "stdout",
     "output_type": "stream",
     "text": [
      "The Zen of Python, by Tim Peters\n",
      "\n",
      "Beautiful is better than ugly.\n",
      "Explicit is better than implicit.\n",
      "Simple is better than complex.\n",
      "Complex is better than complicated.\n",
      "Flat is better than nested.\n",
      "Sparse is better than dense.\n",
      "Readability counts.\n",
      "Special cases aren't special enough to break the rules.\n",
      "Although practicality beats purity.\n",
      "Errors should never pass silently.\n",
      "Unless explicitly silenced.\n",
      "In the face of ambiguity, refuse the temptation to guess.\n",
      "There should be one-- and preferably only one --obvious way to do it.\n",
      "Although that way may not be obvious at first unless you're Dutch.\n",
      "Now is better than never.\n",
      "Although never is often better than *right* now.\n",
      "If the implementation is hard to explain, it's a bad idea.\n",
      "If the implementation is easy to explain, it may be a good idea.\n",
      "Namespaces are one honking great idea -- let's do more of those!\n"
     ]
    }
   ],
   "source": [
    "import this"
   ]
  },
  {
   "cell_type": "markdown",
   "metadata": {},
   "source": [
    "- Python has a design philosophy that emphasizes readability. Faster code is good, but faster & readable code is best!"
   ]
  },
  {
   "cell_type": "markdown",
   "metadata": {},
   "source": [
    "## Built-in practice: range()"
   ]
  },
  {
   "cell_type": "code",
   "execution_count": 9,
   "metadata": {},
   "outputs": [
    {
     "name": "stdout",
     "output_type": "stream",
     "text": [
      "<class 'range'>\n",
      "[0, 1, 2, 3, 4, 5]\n",
      "[1, 3, 5, 7, 9, 11]\n"
     ]
    }
   ],
   "source": [
    "# Create a range object that goes from 0 to 5\n",
    "nums = range(6)\n",
    "print(type(nums))\n",
    "# CT: This means range will just crreate an iterable that will have to be explicitly unpacked\n",
    "# either using list() or [* ] as showed below  \n",
    "\n",
    "# Convert nums to a list\n",
    "nums_list = list(nums)\n",
    "print(nums_list)\n",
    "\n",
    "# Create a new list of odd numbers from 1 to 11 by unpacking a range object\n",
    "nums_list2 = [*range(1,12,2)]\n",
    "print(nums_list2)"
   ]
  },
  {
   "cell_type": "markdown",
   "metadata": {},
   "source": [
    "- Notice that using Python's range() function allows you to create a range object of numbers without explicitly typing them out. You can convert the range object into a list by using the list() function or by unpacking it into a list using the star character (*). Cool!"
   ]
  },
  {
   "cell_type": "markdown",
   "metadata": {},
   "source": [
    "## Built-in practice: enumerate()\n",
    "- enumerate() is useful for obtaining an indexed list. For example, suppose you had a list of people that arrived at a party you are hosting. The list is ordered by arrival (Jerry was the first to arrive, followed by Kramer, etc.):\n",
    "\n",
    "`names = ['Jerry', 'Kramer', 'Elaine', 'George', 'Newman']`"
   ]
  },
  {
   "cell_type": "code",
   "execution_count": 10,
   "metadata": {},
   "outputs": [
    {
     "name": "stdout",
     "output_type": "stream",
     "text": [
      "[(0, 'Jerry'), (1, 'Kramer'), (2, 'Elaine'), (3, 'George'), (4, 'Newman')]\n",
      "[(0, 'Jerry'), (1, 'Kramer'), (2, 'Elaine'), (3, 'George'), (4, 'Newman')]\n",
      "[(1, 'Jerry'), (2, 'Kramer'), (3, 'Elaine'), (4, 'George'), (5, 'Newman')]\n"
     ]
    }
   ],
   "source": [
    "# Rewrite the for loop to use enumerate\n",
    "indexed_names = []\n",
    "for i,name in enumerate(names):\n",
    "    index_name = (i,name)\n",
    "    indexed_names.append(index_name) \n",
    "print(indexed_names)\n",
    "\n",
    "# Rewrite the above for loop using list comprehension\n",
    "indexed_names_comp = [(i,name) for i,name in enumerate(names)]\n",
    "print(indexed_names_comp)\n",
    "\n",
    "# Unpack an enumerate object with a starting index of one\n",
    "indexed_names_unpack = [*enumerate(names, 1)]\n",
    "print(indexed_names_unpack)"
   ]
  },
  {
   "cell_type": "markdown",
   "metadata": {},
   "source": [
    "- Using Python's built-in enumerate() function allows you to create an index for each item in the object you give it. You can use list comprehension, or even unpack the enumerate object directly into a list, to write a nice simple one-liner."
   ]
  },
  {
   "cell_type": "markdown",
   "metadata": {},
   "source": [
    "## Built-in practice: map()\n",
    "- In this exercise, you'll practice using Python's built-in map() function to apply a function to every element of an object. Let's look at a list of party guests:\n",
    "\n",
    "`names = ['Jerry', 'Kramer', 'Elaine', 'George', 'Newman']`\n",
    "- Suppose you wanted to create a new list (called names_uppercase) that converted all the letters in each name to uppercase. you could accomplish this with the below for loop:\n",
    "\n",
    "`names_uppercase = []\n",
    "for name in names:\n",
    "  names_uppercase.append(name.upper())`\n",
    "\n",
    "`> ['JERRY', 'KRAMER', 'ELAINE', 'GEORGE', 'NEWMAN']`\n",
    "\n",
    "- Let's explore using the map() function to do this more efficiently in one line of code."
   ]
  },
  {
   "cell_type": "code",
   "execution_count": 11,
   "metadata": {},
   "outputs": [
    {
     "name": "stdout",
     "output_type": "stream",
     "text": [
      "<class 'map'>\n",
      "['JERRY', 'KRAMER', 'ELAINE', 'GEORGE', 'NEWMAN']\n"
     ]
    }
   ],
   "source": [
    "# Use map to apply str.upper to each element in names\n",
    "names_map  = map(str.upper, names)\n",
    "\n",
    "# Print the type of the names_map\n",
    "print(type(names_map))\n",
    "\n",
    "# Unpack names_map into a list\n",
    "names_uppercase = [*names_map]\n",
    "\n",
    "# Print the list created above\n",
    "print(names_uppercase)"
   ]
  },
  {
   "cell_type": "markdown",
   "metadata": {},
   "source": [
    "## Bringing it all together\n",
    "\n",
    "- In this exercise, you will be throwing a party—a Festivus if you will! \n",
    "- You have a list of guests (the names list). Each guest, for whatever reason, has decided to show up to the party in 10-minute increments. For example, Jerry shows up to Festivus 10 minutes into the party's start time, Kramer shows up 20 minutes into the party, and so on and so forth.\n",
    "- We want to write a few simple lines of code, using the built-ins we have covered, to welcome each of your guests and let them know how many minutes late they are to your party. Note that numpy has been imported into your session as np and the names list has been loaded as well."
   ]
  },
  {
   "cell_type": "code",
   "execution_count": 12,
   "metadata": {},
   "outputs": [],
   "source": [
    "# Will need this function for exercise\n",
    "def welcome_guest(guest_and_time):\n",
    "    \"\"\"\n",
    "    Returns a welcome string for the guest_and_time tuple.\n",
    "    \n",
    "    Args:\n",
    "        guest_and_time (tuple): The guest and time tuple to create\n",
    "            a welcome string for.\n",
    "            \n",
    "    Returns:\n",
    "        welcome_string (str): A string welcoming the guest to Festivus.\n",
    "        'Welcome to Festivus {guest}... You're {time} min late.'\n",
    "    \n",
    "    \"\"\"\n",
    "    guest = guest_and_time[0]\n",
    "    arrival_time = guest_and_time[1]\n",
    "    welcome_string = \"Welcome to Festivus {}... You're {} min late.\".format(guest,arrival_time)\n",
    "    return welcome_string\n",
    "\n",
    "\n",
    "# The function was originally preloaded in datacamp but was extracted using instructions here:\n",
    "# https://stackoverflow.com/questions/1562759/can-python-print-a-function-definition\n",
    "# import inspect\n",
    "# print(inspect.getsource(welcome_guest))"
   ]
  },
  {
   "cell_type": "code",
   "execution_count": 13,
   "metadata": {},
   "outputs": [
    {
     "name": "stdout",
     "output_type": "stream",
     "text": [
      "Welcome to Festivus Jerry... You're 7 min late.\n",
      "Welcome to Festivus Kramer... You're 17 min late.\n",
      "Welcome to Festivus Elaine... You're 27 min late.\n",
      "Welcome to Festivus George... You're 37 min late.\n",
      "Welcome to Festivus Newman... You're 47 min late.\n"
     ]
    }
   ],
   "source": [
    "# Create a list of arrival times\n",
    "# Use range() to create a list of arrival times (10 through 50 incremented by 10). \n",
    "# Create the list arrival_times by unpacking the range object.\n",
    "arrival_times = [*range(10,60,10)]\n",
    "\n",
    "# Convert arrival_times to an array and update the times\n",
    "# You realize your clock is three minutes fast. \n",
    "# Convert the arrival_times list into a numpy array (called arrival_times_np) and \n",
    "# use NumPy broadcasting to subtract three minutes from each arrival time.\n",
    "arrival_times_np = np.array(arrival_times)\n",
    "new_times = arrival_times_np - 3\n",
    "\n",
    "# Use list comprehension and enumerate to pair guests to new times\n",
    "# Use list comprehension with enumerate() to pair each guest in the names list \n",
    "# to their updated arrival time in the new_times array. \n",
    "# You'll need to use the index variable created from using enumerate() on new_times to index the names list.\n",
    "guest_arrivals = [(names[i],time) for i,time in enumerate(new_times)]\n",
    "\n",
    "# Map the welcome_guest function to each (guest,time) pair\n",
    "# A function named welcome_guest() has been pre-loaded into your session. \n",
    "# Use map() to apply this function to each element of the guest_arrivals list and \n",
    "# save it as the variable welcome_map.\n",
    "welcome_map = map(welcome_guest, guest_arrivals)\n",
    "\n",
    "guest_welcomes = [*welcome_map]\n",
    "print(*guest_welcomes, sep='\\n')"
   ]
  },
  {
   "cell_type": "markdown",
   "metadata": {},
   "source": [
    "# Timing and profiling code"
   ]
  },
  {
   "cell_type": "markdown",
   "metadata": {},
   "source": [
    "## Magic commands: %timeit"
   ]
  },
  {
   "cell_type": "markdown",
   "metadata": {},
   "source": [
    "### Example 1"
   ]
  },
  {
   "cell_type": "code",
   "execution_count": 14,
   "metadata": {},
   "outputs": [
    {
     "name": "stdout",
     "output_type": "stream",
     "text": [
      "85.5 ns ± 4.61 ns per loop (mean ± std. dev. of 7 runs, 10000000 loops each)\n"
     ]
    }
   ],
   "source": [
    "%timeit formal_list = list()"
   ]
  },
  {
   "cell_type": "code",
   "execution_count": 15,
   "metadata": {},
   "outputs": [
    {
     "name": "stdout",
     "output_type": "stream",
     "text": [
      "20.4 ns ± 0.515 ns per loop (mean ± std. dev. of 7 runs, 10000000 loops each)\n"
     ]
    }
   ],
   "source": [
    "%timeit literal_list = []"
   ]
  },
  {
   "cell_type": "markdown",
   "metadata": {},
   "source": [
    "- Seems creating a list using the literal notation is quicker than explicit creation using `list()`."
   ]
  },
  {
   "cell_type": "markdown",
   "metadata": {},
   "source": [
    "### Example 2"
   ]
  },
  {
   "cell_type": "code",
   "execution_count": 16,
   "metadata": {},
   "outputs": [],
   "source": [
    "# dataset needed for next exercise\n",
    "wts = np.array([441.0, 65.0, 90.0, 441.0, 122.0, 88.0, 61.0, 81.0, 104.0, 108.0, 90.0, 90.0, 72.0, 169.0, 173.0, 101.0, 68.0, 57.0, 54.0, 83.0, 90.0, 122.0, 86.0, 358.0, 135.0, 106.0, 146.0, 63.0, 68.0, 57.0, 98.0, 270.0, 59.0, 50.0, 101.0, 68.0, 54.0, 81.0, 63.0, 67.0, 180.0, 77.0, 54.0, 57.0, 52.0, 61.0, 95.0, 79.0, 133.0, 63.0, 181.0, 68.0, 216.0, 135.0, 71.0, 54.0, 124.0, 155.0, 113.0, 95.0, 58.0, 54.0, 86.0, 90.0, 52.0, 92.0, 90.0, 59.0, 61.0, 104.0, 86.0, 88.0, 97.0, 68.0, 56.0, 77.0, 230.0, 495.0, 86.0, 55.0, 97.0, 110.0, 135.0, 61.0, 99.0, 52.0, 90.0, 59.0, 158.0, 74.0, 81.0, 108.0, 90.0, 116.0, 108.0, 74.0, 74.0, 86.0, 61.0, 61.0, 62.0, 97.0, 63.0, 81.0, 50.0, 55.0, 54.0, 86.0, 170.0, 70.0, 78.0, 225.0, 67.0, 79.0, 99.0, 104.0, 50.0, 173.0, 88.0, 68.0, 52.0, 90.0, 81.0, 817.0, 56.0, 135.0, 27.0, 52.0, 90.0, 95.0, 91.0, 178.0, 101.0, 95.0, 383.0, 90.0, 171.0, 187.0, 132.0, 89.0, 110.0, 81.0, 54.0, 63.0, 412.0, 104.0, 306.0, 56.0, 74.0, 59.0, 80.0, 65.0, 57.0, 203.0, 95.0, 106.0, 88.0, 96.0, 108.0, 50.0, 18.0, 56.0, 99.0, 56.0, 91.0, 81.0, 88.0, 86.0, 52.0, 81.0, 45.0, 92.0, 104.0, 167.0, 16.0, 81.0, 77.0, 86.0, 99.0, 630.0, 268.0, 50.0, 62.0, 90.0, 270.0, 115.0, 79.0, 88.0, 83.0, 77.0, 88.0, 79.0, 4.0, 95.0, 90.0, 79.0, 63.0, 79.0, 89.0, 104.0, 57.0, 61.0, 88.0, 54.0, 65.0, 81.0, 225.0, 158.0, 61.0, 81.0, 146.0, 83.0, 48.0, 18.0, 630.0, 77.0, 59.0, 58.0, 77.0, 119.0, 207.0, 65.0, 65.0, 81.0, 54.0, 79.0, 191.0, 79.0, 14.0, 77.0, 52.0, 55.0, 56.0, 113.0, 90.0, 88.0, 86.0, 49.0, 52.0, 855.0, 81.0, 104.0, 72.0, 356.0, 324.0, 203.0, 97.0, 99.0, 106.0, 18.0, 79.0, 58.0, 63.0, 59.0, 95.0, 54.0, 65.0, 95.0, 360.0, 230.0, 288.0, 236.0, 36.0, 191.0, 77.0, 79.0, 383.0, 86.0, 225.0, 90.0, 97.0, 52.0, 135.0, 56.0, 81.0, 110.0, 72.0, 59.0, 54.0, 140.0, 72.0, 90.0, 90.0, 86.0, 77.0, 101.0, 61.0, 81.0, 86.0, 128.0, 61.0, 338.0, 248.0, 90.0, 101.0, 59.0, 79.0, 79.0, 72.0, 70.0, 158.0, 61.0, 70.0, 79.0, 54.0, 125.0, 85.0, 101.0, 54.0, 83.0, 99.0, 88.0, 79.0, 83.0, 86.0, 293.0, 191.0, 65.0, 69.0, 405.0, 59.0, 117.0, 89.0, 79.0, 54.0, 52.0, 87.0, 80.0, 55.0, 50.0, 52.0, 81.0, 234.0, 86.0, 81.0, 70.0, 90.0, 74.0, 68.0, 83.0, 79.0, 56.0, 97.0, 50.0, 70.0, 117.0, 83.0, 81.0, 630.0, 56.0, 108.0, 146.0, 320.0, 85.0, 72.0, 79.0, 101.0, 56.0, 38.0, 25.0, 54.0, 104.0, 63.0, 171.0, 61.0, 203.0, 900.0, 63.0, 74.0, 113.0, 59.0, 310.0, 87.0, 149.0, 54.0, 50.0, 79.0, 88.0, 315.0, 153.0, 79.0, 52.0, 191.0, 101.0, 50.0, 92.0, 72.0, 52.0, 180.0, 49.0, 437.0, 65.0, 113.0, 405.0, 54.0, 56.0, 74.0, 59.0, 55.0, 58.0, 81.0, 83.0, 79.0, 71.0, 62.0, 63.0, 131.0, 91.0, 57.0, 77.0, 68.0, 77.0, 54.0, 101.0, 47.0, 74.0, 146.0, 99.0, 54.0, 443.0, 101.0, 225.0, 288.0, 143.0, 101.0, 74.0, 288.0, 158.0, 203.0, 81.0, 54.0, 76.0, 97.0, 81.0, 59.0, 86.0, 82.0, 105.0, 331.0, 58.0, 54.0, 56.0, 214.0, 79.0, 73.0, 117.0, 50.0, 334.0, 52.0, 71.0, 54.0, 41.0, 135.0, 135.0, 63.0, 79.0, 162.0, 95.0, 54.0, 108.0, 67.0, 158.0, 50.0, 65.0, 117.0, 39.0, 473.0, 135.0, 51.0, 171.0, 74.0, 117.0, 50.0, 61.0, 95.0, 83.0, 52.0, 17.0, 57.0, 81.0])\n",
    "heroes = np.array(['A-Bomb', 'Abe Sapien', 'Abin Sur', 'Abomination', 'Absorbing Man', 'Adam Strange', 'Agent 13', 'Agent Bob', 'Agent Zero', 'Air-Walker', 'Ajax', 'Alan Scott', 'Alfred Pennyworth', 'Alien', 'Amazo', 'Ammo', 'Angel', 'Angel Dust', 'Angel Salvadore', 'Animal Man', 'Annihilus', 'Ant-Man', 'Ant-Man II', 'Anti-Venom', 'Apocalypse', 'Aqualad', 'Aquaman', 'Arachne', 'Archangel', 'Arclight', 'Ardina', 'Ares', 'Ariel', 'Armor', 'Atlas', 'Atom', 'Atom Girl', 'Atom II', 'Aurora', 'Azazel', 'Bane', 'Banshee', 'Bantam', 'Batgirl', 'Batgirl IV', 'Batgirl VI', 'Batman', 'Batman II', 'Battlestar', 'Beak', 'Beast', 'Beast Boy', 'Beta Ray Bill', 'Big Barda', 'Big Man', 'Binary', 'Bishop', 'Bizarro', 'Black Adam', 'Black Bolt', 'Black Canary', 'Black Cat', 'Black Knight III', 'Black Lightning', 'Black Mamba', 'Black Manta', 'Black Panther', 'Black Widow', 'Black Widow II', 'Blackout', 'Blackwing', 'Blackwulf', 'Blade', 'Bling!', 'Blink', 'Blizzard II', 'Blob', 'Bloodaxe', 'Blue Beetle II', 'Boom-Boom', 'Booster Gold', 'Box III', 'Brainiac', 'Brainiac 5', 'Brother Voodoo', 'Buffy', 'Bullseye', 'Bumblebee', 'Cable', 'Callisto', 'Cannonball', 'Captain America', 'Captain Atom', 'Captain Britain', 'Captain Mar-vell', 'Captain Marvel', 'Captain Marvel II', 'Carnage', 'Cat', 'Catwoman', 'Cecilia Reyes', 'Century', 'Chamber', 'Changeling', 'Cheetah', 'Cheetah II', 'Cheetah III', 'Chromos', 'Citizen Steel', 'Cloak', 'Clock King', 'Colossus', 'Copycat', 'Corsair', 'Cottonmouth', 'Crimson Dynamo', 'Crystal', 'Cyborg', 'Cyclops', 'Cypher', 'Dagger', 'Daredevil', 'Darkhawk', 'Darkseid', 'Darkstar', 'Darth Vader', 'Dash', 'Dazzler', 'Deadman', 'Deadpool', 'Deadshot', 'Deathlok', 'Deathstroke', 'Demogoblin', 'Destroyer', 'Diamondback', 'Doc Samson', 'Doctor Doom', 'Doctor Doom II', 'Doctor Fate', 'Doctor Octopus', 'Doctor Strange', 'Domino', 'Donna Troy', 'Doomsday', 'Doppelganger', 'Drax the Destroyer', 'Elastigirl', 'Electro', 'Elektra', 'Elongated Man', 'Emma Frost', 'Enchantress', 'Etrigan', 'Evil Deadpool', 'Evilhawk', 'Exodus', 'Fabian Cortez', 'Falcon', 'Feral', 'Fin Fang Foom', 'Firebird', 'Firelord', 'Firestar', 'Firestorm', 'Flash', 'Flash II', 'Flash III', 'Flash IV', 'Forge', 'Franklin Richards', 'Franklin Storm', 'Frenzy', 'Frigga', 'Galactus', 'Gambit', 'Gamora', 'Genesis', 'Ghost Rider', 'Giganta', 'Gladiator', 'Goblin Queen', 'Goku', 'Goliath IV', 'Gorilla Grodd', 'Granny Goodness', 'Gravity', 'Green Arrow', 'Green Goblin', 'Green Goblin II', 'Green Goblin III', 'Green Goblin IV', 'Groot', 'Guy Gardner', 'Hal Jordan', 'Han Solo', 'Harley Quinn', 'Havok', 'Hawk', 'Hawkeye', 'Hawkeye II', 'Hawkgirl', 'Hawkman', 'Hawkwoman', 'Hawkwoman III', 'Heat Wave', 'Hela', 'Hellboy', 'Hellcat', 'Hellstorm', 'Hercules', 'Hobgoblin', 'Hope Summers', 'Howard the Duck', 'Hulk', 'Human Torch', 'Huntress', 'Husk', 'Hybrid', 'Hydro-Man', 'Hyperion', 'Iceman', 'Impulse', 'Ink', 'Invisible Woman', 'Iron Fist', 'Iron Man', 'Jack of Hearts', 'Jack-Jack', 'James T. Kirk', 'Jean Grey', 'Jennifer Kale', 'Jessica Jones', 'Jigsaw', 'John Stewart', 'John Wraith', 'Joker', 'Jolt', 'Jubilee', 'Juggernaut', 'Justice', 'Kang', 'Karate Kid', 'Killer Croc', 'Kilowog', 'Kingpin', 'Klaw', 'Kraven II', 'Kraven the Hunter', 'Krypto', 'Kyle Rayner', 'Lady Deathstrike', 'Leader', 'Legion', 'Lex Luthor', 'Light Lass', 'Lightning Lad', 'Lightning Lord', 'Living Brain', 'Lizard', 'Lobo', 'Loki', 'Longshot', 'Luke Cage', 'Luke Skywalker', 'Mach-IV', 'Machine Man', 'Magneto', 'Man-Thing', 'Man-Wolf', 'Mandarin', 'Mantis', 'Martian Manhunter', 'Marvel Girl', 'Master Brood', 'Maverick', 'Maxima', 'Medusa', 'Meltdown', 'Mephisto', 'Mera', 'Metallo', 'Metamorpho', 'Metron', 'Micro Lad', 'Mimic', 'Miss Martian', 'Mister Fantastic', 'Mister Freeze', 'Mister Sinister', 'Mockingbird', 'MODOK', 'Molten Man', 'Monarch', 'Moon Knight', 'Moonstone', 'Morlun', 'Morph', 'Moses Magnum', 'Mr Immortal', 'Mr Incredible', 'Ms Marvel II', 'Multiple Man', 'Mysterio', 'Mystique', 'Namor', 'Namora', 'Namorita', 'Naruto Uzumaki', 'Nebula', 'Nick Fury', 'Nightcrawler', 'Nightwing', 'Northstar', 'Nova', 'Odin', 'Omega Red', 'Omniscient', 'One Punch Man', 'Onslaught', 'Oracle', 'Paul Blart', 'Penance II', 'Penguin', 'Phantom Girl', 'Phoenix', 'Plantman', 'Plastic Man', 'Plastique', 'Poison Ivy', 'Polaris', 'Power Girl', 'Predator', 'Professor X', 'Professor Zoom', 'Psylocke', 'Punisher', 'Purple Man', 'Pyro', 'Question', 'Quicksilver', 'Quill', \"Ra's Al Ghul\", 'Raven', 'Ray', 'Razor-Fist II', 'Red Arrow', 'Red Hood', 'Red Hulk', 'Red Robin', 'Red Skull', 'Red Tornado', 'Rhino', 'Rick Flag', 'Ripcord', 'Robin', 'Robin II', 'Robin III', 'Robin V', 'Rocket Raccoon', 'Rogue', 'Ronin', 'Rorschach', 'Sabretooth', 'Sage', 'Sandman', 'Sasquatch', 'Scarecrow', 'Scarlet Spider', 'Scarlet Spider II', 'Scarlet Witch', 'Scorpion', 'Sentry', 'Shadow King', 'Shadow Lass', 'Shadowcat', 'Shang-Chi', 'Shatterstar', 'She-Hulk', 'She-Thing', 'Shocker', 'Shriek', 'Sif', 'Silver Surfer', 'Silverclaw', 'Sinestro', 'Siren', 'Siryn', 'Skaar', 'Snowbird', 'Solomon Grundy', 'Songbird', 'Space Ghost', 'Spawn', 'Spider-Girl', 'Spider-Gwen', 'Spider-Man', 'Spider-Woman', 'Spider-Woman III', 'Spider-Woman IV', 'Spock', 'Spyke', 'Star-Lord', 'Starfire', 'Stargirl', 'Static', 'Steel', 'Steppenwolf', 'Storm', 'Sunspot', 'Superboy', 'Superboy-Prime', 'Supergirl', 'Superman', 'Swarm', 'Synch', 'T-1000', 'Taskmaster', 'Tempest', 'Thanos', 'The Comedian', 'Thing', 'Thor', 'Thor Girl', 'Thunderbird', 'Thunderbird III', 'Thunderstrike', 'Thundra', 'Tiger Shark', 'Tigra', 'Tinkerer', 'Toad', 'Toxin', 'Trickster', 'Triplicate Girl', 'Triton', 'Two-Face', 'Ultragirl', 'Ultron', 'Utgard-Loki', 'Vagabond', 'Valerie Hart', 'Valkyrie', 'Vanisher', 'Vegeta', 'Venom', 'Venom II', 'Venom III', 'Vertigo II', 'Vibe', 'Vindicator', 'Violet Parr', 'Vision', 'Vision II', 'Vixen', 'Vulture', 'Walrus', 'War Machine', 'Warbird', 'Warlock', 'Warp', 'Warpath', 'Wasp', 'White Queen', 'Winter Soldier', 'Wiz Kid', 'Wolfsbane', 'Wolverine', 'Wonder Girl', 'Wonder Man', 'Wonder Woman', 'Wyatt Wingfoot', 'X-23', 'X-Man', 'Yellow Claw', 'Yellowjacket', 'Yellowjacket II', 'Yoda', 'Zatanna', 'Zoom'])\n",
    "hts = np.array([203. , 191. , 185. , 203. , 193. , 185. , 173. , 178. , 191. ,       188. , 193. , 180. , 178. , 244. , 257. , 188. , 183. , 165. ,       163. , 183. , 180. , 211. , 183. , 229. , 213. , 178. , 185. ,       175. , 183. , 173. , 193. , 185. , 165. , 163. , 183. , 178. ,       168. , 183. , 180. , 183. , 203. , 183. , 165. , 170. , 165. ,       168. , 188. , 178. , 198. , 175. , 180. , 173. , 201. , 188. ,       165. , 180. , 198. , 191. , 191. , 188. , 165. , 178. , 183. ,       185. , 170. , 188. , 183. , 170. , 170. , 191. , 185. , 188. ,       188. , 168. , 165. , 175. , 178. , 218. , 183. , 165. , 196. ,       193. , 198. , 170. , 183. , 157. , 183. , 170. , 203. , 175. ,       183. , 188. , 193. , 198. , 188. , 180. , 175. , 185. , 173. ,       175. , 170. , 201. , 175. , 180. , 163. , 170. , 175. , 185. ,       183. , 226. , 178. , 226. , 183. , 191. , 183. , 180. , 168. ,       198. , 191. , 175. , 165. , 183. , 185. , 267. , 168. , 198. ,       122. , 173. , 183. , 188. , 185. , 193. , 193. , 185. , 188. ,       193. , 198. , 201. , 201. , 188. , 175. , 188. , 173. , 175. ,       244. , 196. , 193. , 168. , 180. , 175. , 185. , 178. , 168. ,       193. , 188. , 191. , 183. , 196. , 188. , 175. , 975. , 165. ,       193. , 173. , 188. , 180. , 183. , 183. , 157. , 183. , 142. ,       188. , 211. , 180. , 876. , 185. , 183. , 185. , 188. ,  62.5,       198. , 168. , 175. , 183. , 198. , 178. , 178. , 188. , 180. ,       178. , 183. , 178. , 701. , 188. , 188. , 183. , 170. , 183. ,       185. , 191. , 165. , 175. , 185. , 175. , 170. , 180. , 213. ,       259. , 173. , 185. , 196. , 180. , 168. ,  79. , 244. , 178. ,       180. , 170. , 175. , 188. , 183. , 173. , 170. , 180. , 168. ,       180. , 198. , 155. ,  71. , 178. , 168. , 168. , 170. , 188. ,       185. , 183. , 196. , 165. , 165. , 287. , 178. , 191. , 173. ,       244. , 234. , 201. , 188. , 191. , 183. ,  64. , 180. , 175. ,       178. , 175. , 188. , 165. , 155. , 191. , 198. , 203. , 229. ,       193. , 188. , 198. , 168. , 180. , 183. , 188. , 213. , 188. ,       188. , 168. , 201. , 170. , 183. , 193. , 180. , 180. , 165. ,       198. , 175. , 196. , 185. , 185. , 183. , 188. , 178. , 185. ,       183. , 196. , 175. , 366. , 196. , 193. , 188. , 180. , 188. ,       178. , 175. , 188. , 201. , 173. , 180. , 180. , 178. , 188. ,       180. , 168. , 168. , 185. , 185. , 175. , 178. , 180. , 185. ,       206. , 211. , 180. , 175. , 305. , 178. , 170. , 183. , 157. ,       168. , 168. , 183. , 185. , 168. , 168. , 170. , 180. , 213. ,       183. , 180. , 180. , 183. , 180. , 178. , 188. , 183. , 163. ,       193. , 165. , 178. , 191. , 180. , 183. , 213. , 165. , 188. ,       185. , 196. , 185. , 180. , 178. , 183. , 165. , 137. , 122. ,       173. , 191. , 168. , 198. , 170. , 185. , 305. , 183. , 178. ,       193. , 170. , 211. , 188. , 185. , 173. , 168. , 178. , 191. ,       201. , 183. , 175. , 173. , 188. , 193. , 157. , 201. , 175. ,       168. , 198. , 178. , 279. , 165. , 188. , 211. , 170. , 165. ,       178. , 178. , 173. , 178. , 185. , 183. , 188. , 193. , 165. ,       170. , 201. , 183. , 180. , 173. , 170. , 180. , 165. , 191. ,       196. , 180. , 183. , 188. , 163. , 201. , 188. , 183. , 198. ,       175. , 185. , 175. , 198. , 218. , 185. , 178. , 163. , 175. ,       188. , 183. , 168. , 188. , 183. , 168. , 206. ,  15.2, 168. ,       175. , 191. , 165. , 168. , 191. , 175. , 229. , 168. , 178. ,       165. , 137. , 191. , 191. , 175. , 180. , 183. , 185. , 180. ,       188. , 173. , 218. , 163. , 178. , 175. , 140. , 366. , 160. ,       165. , 188. , 183. , 196. , 155. , 175. , 188. , 183. , 165. ,        66. , 170. , 185. ])\n",
    "publishers = np.array(['Marvel Comics', 'Dark Horse Comics', 'DC Comics', 'Marvel Comics', 'Marvel Comics', 'DC Comics', 'Marvel Comics', 'Marvel Comics', 'Marvel Comics', 'Marvel Comics', 'Marvel Comics', 'DC Comics', 'DC Comics', 'Dark Horse Comics', 'DC Comics', 'Marvel Comics', 'Marvel Comics', 'Marvel Comics', 'Marvel Comics', 'DC Comics', 'Marvel Comics', 'Marvel Comics', 'Marvel Comics', 'Marvel Comics', 'Marvel Comics', 'DC Comics', 'DC Comics', 'Marvel Comics', 'Marvel Comics', 'Marvel Comics', 'Marvel Comics', 'Marvel Comics', 'Marvel Comics', 'Marvel Comics', 'Marvel Comics', 'DC Comics', 'DC Comics', 'DC Comics', 'Marvel Comics', 'Marvel Comics', 'DC Comics', 'Marvel Comics', 'Marvel Comics', 'DC Comics', 'DC Comics', 'DC Comics', 'DC Comics', 'DC Comics', 'Marvel Comics', 'Marvel Comics', 'Marvel Comics', 'DC Comics', 'Marvel Comics', 'DC Comics', 'Marvel Comics', 'Marvel Comics', 'Marvel Comics', 'DC Comics', 'DC Comics', 'Marvel Comics', 'DC Comics', 'Marvel Comics', 'Marvel Comics', 'DC Comics', 'Marvel Comics', 'DC Comics', 'Marvel Comics', 'Marvel Comics', 'Marvel Comics', 'Marvel Comics', 'Marvel Comics', 'Marvel Comics', 'Marvel Comics', 'Marvel Comics', 'Marvel Comics', 'Marvel Comics', 'Marvel Comics', 'Marvel Comics', 'DC Comics', 'Marvel Comics', 'DC Comics', 'Marvel Comics', 'DC Comics', 'DC Comics', 'Marvel Comics', 'Dark Horse Comics', 'Marvel Comics', 'DC Comics', 'Marvel Comics', 'Marvel Comics', 'Marvel Comics', 'Marvel Comics', 'DC Comics', 'Marvel Comics', 'Marvel Comics', 'Marvel Comics', 'DC Comics', 'Marvel Comics', 'Marvel Comics', 'DC Comics', 'Marvel Comics', 'Marvel Comics', 'Marvel Comics', 'Marvel Comics', 'DC Comics', 'DC Comics', 'DC Comics', 'Team Epic TV', 'DC Comics', 'Marvel Comics', 'DC Comics', 'Marvel Comics', 'Marvel Comics', 'Marvel Comics', 'Marvel Comics', 'Marvel Comics', 'Marvel Comics', 'DC Comics', 'Marvel Comics', 'Marvel Comics', 'Marvel Comics', 'Marvel Comics', 'Marvel Comics', 'DC Comics', 'Marvel Comics', 'George Lucas', 'Dark Horse Comics', 'Marvel Comics', 'DC Comics', 'Marvel Comics', 'DC Comics', 'Marvel Comics', 'DC Comics', 'Marvel Comics', 'Marvel Comics', 'Marvel Comics', 'Marvel Comics', 'Marvel Comics', 'Marvel Comics', 'DC Comics', 'Marvel Comics', 'Marvel Comics', 'Marvel Comics', 'DC Comics', 'DC Comics', 'Marvel Comics', 'Marvel Comics', 'Dark Horse Comics', 'Marvel Comics', 'Marvel Comics', 'DC Comics', 'Marvel Comics', 'DC Comics', 'DC Comics', 'Marvel Comics', 'Marvel Comics', 'Marvel Comics', 'Marvel Comics', 'Marvel Comics', 'Marvel Comics', 'Marvel Comics', 'Marvel Comics', 'Marvel Comics', 'Marvel Comics', 'DC Comics', 'DC Comics', 'DC Comics', 'DC Comics', 'DC Comics', 'Marvel Comics', 'Marvel Comics', 'Marvel Comics', 'Marvel Comics', 'Marvel Comics', 'Marvel Comics', 'Marvel Comics', 'Marvel Comics', 'Marvel Comics', 'Marvel Comics', 'DC Comics', 'Marvel Comics', 'Marvel Comics', 'Shueisha', 'Marvel Comics', 'DC Comics', 'DC Comics', 'Marvel Comics', 'DC Comics', 'Marvel Comics', 'Marvel Comics', 'Marvel Comics', 'Marvel Comics', 'Marvel Comics', 'DC Comics', 'DC Comics', 'George Lucas', 'DC Comics', 'Marvel Comics', 'DC Comics', 'Marvel Comics', 'Marvel Comics', 'DC Comics', 'DC Comics', 'DC Comics', 'DC Comics', 'DC Comics', 'Marvel Comics', 'Dark Horse Comics', 'Marvel Comics', 'Marvel Comics', 'Marvel Comics', 'Marvel Comics', 'Marvel Comics', 'Marvel Comics', 'Marvel Comics', 'Marvel Comics', 'DC Comics', 'Marvel Comics', 'Marvel Comics', 'Marvel Comics', 'Marvel Comics', 'Marvel Comics', 'DC Comics', 'Marvel Comics', 'Marvel Comics', 'Marvel Comics', 'Marvel Comics', 'Marvel Comics', 'Dark Horse Comics', 'Star Trek', 'Marvel Comics', 'Marvel Comics', 'Marvel Comics', 'Marvel Comics', 'DC Comics', 'Marvel Comics', 'DC Comics', 'Marvel Comics', 'Marvel Comics', 'Marvel Comics', 'Marvel Comics', 'Marvel Comics', 'DC Comics', 'DC Comics', 'DC Comics', 'Marvel Comics', 'Marvel Comics', 'Marvel Comics', 'Marvel Comics', 'DC Comics', 'DC Comics', 'Marvel Comics', 'Marvel Comics', 'Marvel Comics', 'DC Comics', 'DC Comics', 'DC Comics', 'DC Comics', 'Marvel Comics', 'Marvel Comics', 'DC Comics', 'Marvel Comics', 'Marvel Comics', 'Marvel Comics', 'George Lucas', 'Marvel Comics', 'Marvel Comics', 'Marvel Comics', 'Marvel Comics', 'Marvel Comics', 'Marvel Comics', 'Marvel Comics', 'DC Comics', 'Marvel Comics', 'Team Epic TV', 'Marvel Comics', 'DC Comics', 'Marvel Comics', 'Marvel Comics', 'Marvel Comics', 'DC Comics', 'DC Comics', 'DC Comics', 'DC Comics', 'DC Comics', 'Marvel Comics', 'DC Comics', 'Marvel Comics', 'DC Comics', 'Marvel Comics', 'Marvel Comics', 'Marvel Comics', 'Marvel Comics', 'DC Comics', 'Marvel Comics', 'Marvel Comics', 'Marvel Comics', 'Marvel Comics', 'Marvel Comics', 'Marvel Comics', 'Dark Horse Comics', 'Marvel Comics', 'Marvel Comics', 'Marvel Comics', 'Marvel Comics', 'Marvel Comics', 'Marvel Comics', 'Marvel Comics', 'Shueisha', 'Marvel Comics', 'Marvel Comics', 'Marvel Comics', 'DC Comics', 'Marvel Comics', 'Marvel Comics', 'Marvel Comics', 'Marvel Comics', 'Team Epic TV', 'Shueisha', 'Marvel Comics', 'DC Comics', 'Sony Pictures', 'Marvel Comics', 'DC Comics', 'DC Comics', 'Marvel Comics', 'Marvel Comics', 'DC Comics', 'DC Comics', 'DC Comics', 'Marvel Comics', 'DC Comics', 'Dark Horse Comics', 'Marvel Comics', 'DC Comics', 'Marvel Comics', 'Marvel Comics', 'Marvel Comics', 'Marvel Comics', 'DC Comics', 'Marvel Comics', 'Marvel Comics', 'DC Comics', 'DC Comics', 'DC Comics', 'Marvel Comics', 'DC Comics', 'DC Comics', 'Marvel Comics', 'DC Comics', 'Marvel Comics', 'DC Comics', 'Marvel Comics', 'DC Comics', 'Marvel Comics', 'DC Comics', 'DC Comics', 'DC Comics', 'DC Comics', 'Marvel Comics', 'Marvel Comics', 'Marvel Comics', 'DC Comics', 'Marvel Comics', 'Marvel Comics', 'Marvel Comics', 'Marvel Comics', 'DC Comics', 'Marvel Comics', 'Marvel Comics', 'Marvel Comics', 'Marvel Comics', 'Marvel Comics', 'Marvel Comics', 'DC Comics', 'Marvel Comics', 'Marvel Comics', 'Marvel Comics', 'Marvel Comics', 'Marvel Comics', 'Marvel Comics', 'Marvel Comics', 'Marvel Comics', 'Marvel Comics', 'Marvel Comics', 'DC Comics', 'DC Comics', 'Marvel Comics', 'Marvel Comics', 'Marvel Comics', 'DC Comics', 'Marvel Comics', 'DC Comics', 'Image Comics', 'Marvel Comics', 'Marvel Comics', 'Marvel Comics', 'Marvel Comics', 'Marvel Comics', 'Marvel Comics', 'Star Trek', 'Marvel Comics', 'Marvel Comics', 'DC Comics', 'DC Comics', 'DC Comics', 'DC Comics', 'DC Comics', 'Marvel Comics', 'Marvel Comics', 'DC Comics', 'DC Comics', 'DC Comics', 'DC Comics', 'Marvel Comics', 'Marvel Comics', 'Dark Horse Comics', 'Marvel Comics', 'Marvel Comics', 'Marvel Comics', 'DC Comics', 'Marvel Comics', 'Marvel Comics', 'Marvel Comics', 'Marvel Comics', 'Marvel Comics', 'Marvel Comics', 'Marvel Comics', 'Marvel Comics', 'Marvel Comics', 'Marvel Comics', 'Marvel Comics', 'Marvel Comics', 'DC Comics', 'DC Comics', 'Marvel Comics', 'DC Comics', 'Marvel Comics', 'Marvel Comics', 'Marvel Comics', 'Marvel Comics', 'Team Epic TV', 'Marvel Comics', 'Marvel Comics', 'Shueisha', 'Marvel Comics', 'Marvel Comics', 'Marvel Comics', 'Marvel Comics', 'DC Comics', 'Marvel Comics', 'Dark Horse Comics', 'Marvel Comics', 'Marvel Comics', 'DC Comics', 'Marvel Comics', 'Marvel Comics', 'Marvel Comics', 'Marvel Comics', 'Marvel Comics', 'DC Comics', 'Marvel Comics', 'Marvel Comics', 'Marvel Comics', 'Marvel Comics', 'Marvel Comics', 'Marvel Comics', 'Marvel Comics', 'DC Comics', 'Marvel Comics', 'DC Comics', 'Marvel Comics', 'Marvel Comics', 'Marvel Comics', 'Marvel Comics', 'Marvel Comics', 'Marvel Comics', 'George Lucas', 'DC Comics', 'DC Comics'])\n"
   ]
  },
  {
   "cell_type": "code",
   "execution_count": 17,
   "metadata": {},
   "outputs": [
    {
     "name": "stdout",
     "output_type": "stream",
     "text": [
      "132 µs ± 6.19 µs per loop (mean ± std. dev. of 7 runs, 10000 loops each)\n"
     ]
    }
   ],
   "source": [
    "%%timeit\n",
    "hero_wts_lbs = []\n",
    "for wt in wts:\n",
    "    hero_wts_lbs.append(wt * 2.20462)"
   ]
  },
  {
   "cell_type": "code",
   "execution_count": 18,
   "metadata": {},
   "outputs": [
    {
     "name": "stdout",
     "output_type": "stream",
     "text": [
      "1.59 µs ± 78.9 ns per loop (mean ± std. dev. of 7 runs, 1000000 loops each)\n"
     ]
    }
   ],
   "source": [
    "%%timeit\n",
    "wts_np = np.array(wts)\n",
    "hero_wts_lbs_np = wts_np * 2.20462"
   ]
  },
  {
   "cell_type": "markdown",
   "metadata": {},
   "source": [
    "- Seems converting wts into numpy array and broadcasting was quicker."
   ]
  },
  {
   "cell_type": "markdown",
   "metadata": {},
   "source": [
    "## Code profiling for runtime\n",
    "\n",
    "- Detailed stats on frequency and duration offunction calls\n",
    "- Line-by-line analyses\n",
    "- Package used: line_profiler\n",
    "\n",
    "`pip install line_profiler`"
   ]
  },
  {
   "cell_type": "code",
   "execution_count": 19,
   "metadata": {},
   "outputs": [],
   "source": [
    "# Function needed for the exercise\n",
    "def convert_units(heroes, heights, weights):\n",
    "\n",
    "    new_hts = [ht * 0.39370  for ht in heights]\n",
    "    new_wts = [wt * 2.20462  for wt in weights]\n",
    "\n",
    "    hero_data = {}\n",
    "\n",
    "    for i,hero in enumerate(heroes):\n",
    "        hero_data[hero] = (new_hts[i], new_wts[i])\n",
    "\n",
    "    return hero_data"
   ]
  },
  {
   "cell_type": "code",
   "execution_count": 20,
   "metadata": {},
   "outputs": [],
   "source": [
    "# load the line profilerr\n",
    "%load_ext line_profiler\n",
    "\n",
    "# use lprun to profile\n",
    "%lprun -f convert_units convert_units(heroes, hts, wts)"
   ]
  },
  {
   "cell_type": "markdown",
   "metadata": {},
   "source": [
    "- seems the list comprehension new_hts, new_wts could be one of the bottlenecks which we would try to optimize\n",
    "- one option is that since the height and weight of each hero is stored in a numpy array, we can use array broadcasting rather than list comprehension to convert the heights and weights."
   ]
  },
  {
   "cell_type": "code",
   "execution_count": 21,
   "metadata": {},
   "outputs": [],
   "source": [
    "# revised function definition to fix bottleneck by using numpy broadcasting\n",
    "def convert_units_broadcast(heroes, heights, weights):\n",
    "\n",
    "    # Array broadcasting instead of list comprehension\n",
    "    new_hts = heights * 0.39370\n",
    "    new_wts = weights * 2.20462\n",
    "\n",
    "    hero_data = {}\n",
    "\n",
    "    for i,hero in enumerate(heroes):\n",
    "        hero_data[hero] = (new_hts[i], new_wts[i])\n",
    "\n",
    "    return hero_data"
   ]
  },
  {
   "cell_type": "code",
   "execution_count": 22,
   "metadata": {},
   "outputs": [],
   "source": [
    "# use lprun to profile the new function def\n",
    "%lprun -f convert_units_broadcast convert_units_broadcast(heroes, hts, wts)"
   ]
  },
  {
   "cell_type": "markdown",
   "metadata": {},
   "source": [
    "- By profiling the convert_units() function, you were able to see that using list comprehension was not the most efficient solution for creating the new_hts and new_wts objects. You also saw that using array broadcasting in the convert_units_broadcast() function dramatically decreased the percentage of time spent executing these lines of code."
   ]
  },
  {
   "cell_type": "markdown",
   "metadata": {},
   "source": [
    "## Code profiling for memory usage"
   ]
  },
  {
   "cell_type": "raw",
   "metadata": {},
   "source": [
    "from hero_funcs import convert_units\n",
    "%load_ext memory_profiler\n",
    "%mprun -f convert_units convert_units(heroes, hts, wts)"
   ]
  },
  {
   "cell_type": "markdown",
   "metadata": {},
   "source": [
    "## Bringing it all together\n",
    "\n",
    "- A list of 480 superheroes has been loaded into your session (called heroes) as well as a list of each hero's corresponding publisher (called publishers).\n",
    "\n",
    "- You'd like to filter the heroes list based on a hero's specific publisher, but are unsure which of the below functions is more efficient."
   ]
  },
  {
   "cell_type": "code",
   "execution_count": 24,
   "metadata": {},
   "outputs": [],
   "source": [
    "# First function\n",
    "def get_publisher_heroes(heroes, publishers, desired_publisher):\n",
    "\n",
    "    desired_heroes = []\n",
    "\n",
    "    for i,pub in enumerate(publishers):\n",
    "        if pub == desired_publisher:\n",
    "            desired_heroes.append(heroes[i])\n",
    "\n",
    "    return desired_heroes\n",
    "\n",
    "# Second function with numpy implementation \n",
    "def get_publisher_heroes_np(heroes, publishers, desired_publisher):\n",
    "\n",
    "    heroes_np = np.array(heroes)\n",
    "    pubs_np = np.array(publishers)\n",
    "\n",
    "    desired_heroes = heroes_np[pubs_np == desired_publisher]\n",
    "\n",
    "    return desired_heroes"
   ]
  },
  {
   "cell_type": "code",
   "execution_count": 25,
   "metadata": {},
   "outputs": [
    {
     "name": "stdout",
     "output_type": "stream",
     "text": [
      "['Darth Vader', 'Han Solo', 'Luke Skywalker', 'Yoda']\n",
      "<class 'list'>\n",
      "['Darth Vader' 'Han Solo' 'Luke Skywalker' 'Yoda']\n",
      "<class 'numpy.ndarray'>\n"
     ]
    }
   ],
   "source": [
    "# Use get_publisher_heroes() to gather Star Wars heroes\n",
    "star_wars_heroes = get_publisher_heroes(heroes, publishers, 'George Lucas')\n",
    "\n",
    "print(star_wars_heroes)\n",
    "print(type(star_wars_heroes))\n",
    "\n",
    "# Use get_publisher_heroes_np() to gather Star Wars heroes\n",
    "star_wars_heroes_np = get_publisher_heroes_np(heroes, publishers, 'George Lucas')\n",
    "\n",
    "print(star_wars_heroes_np)\n",
    "print(type(star_wars_heroes_np))"
   ]
  },
  {
   "cell_type": "code",
   "execution_count": 26,
   "metadata": {},
   "outputs": [
    {
     "name": "stdout",
     "output_type": "stream",
     "text": [
      "The line_profiler extension is already loaded. To reload it, use:\n",
      "  %reload_ext line_profiler\n"
     ]
    }
   ],
   "source": [
    "# Load profiler\n",
    "%load_ext line_profiler\n",
    "\n",
    "# Profile first function\n",
    "%lprun -f get_publisher_heroes get_publisher_heroes(heroes, publishers, 'George Lucas')"
   ]
  },
  {
   "cell_type": "code",
   "execution_count": 27,
   "metadata": {},
   "outputs": [],
   "source": [
    "# profile second funcion\n",
    "%lprun -f get_publisher_heroes_np get_publisher_heroes_np(heroes, publishers, 'George Lucas')"
   ]
  },
  {
   "cell_type": "markdown",
   "metadata": {},
   "source": [
    "- seems the numpy implementation is quicker"
   ]
  },
  {
   "cell_type": "code",
   "execution_count": 29,
   "metadata": {},
   "outputs": [
    {
     "name": "stdout",
     "output_type": "stream",
     "text": [
      "The memory_profiler extension is already loaded. To reload it, use:\n",
      "  %reload_ext memory_profiler\n"
     ]
    }
   ],
   "source": [
    "# Load memory profiler\n",
    "%load_ext memory_profiler\n",
    "\n",
    "# Load function from external file as memory profiler cannot accept functions\n",
    "# defined in the ipython session\n",
    "from hero_funcs import get_publisher_heroes, get_publisher_heroes_np"
   ]
  },
  {
   "cell_type": "code",
   "execution_count": 30,
   "metadata": {},
   "outputs": [
    {
     "name": "stdout",
     "output_type": "stream",
     "text": [
      "\n"
     ]
    }
   ],
   "source": [
    "# memory profile the first function\n",
    "%mprun -f get_publisher_heroes get_publisher_heroes(heroes, publishers, 'George Lucas')"
   ]
  },
  {
   "cell_type": "raw",
   "metadata": {},
   "source": [
    "# memory profile the first function\n",
    "%mprun -f get_publisher_heroes_np get_publisher_heroes_np(heroes, publishers, 'George Lucas')"
   ]
  },
  {
   "cell_type": "markdown",
   "metadata": {},
   "source": [
    "# Gaining efficiencies"
   ]
  },
  {
   "cell_type": "markdown",
   "metadata": {},
   "source": [
    "## Efficiently combining, counting, and iterating"
   ]
  },
  {
   "cell_type": "markdown",
   "metadata": {},
   "source": [
    "<img src = './Images/Py-1.png' width = 400 align = \"left\">"
   ]
  },
  {
   "cell_type": "markdown",
   "metadata": {},
   "source": [
    "<img src = './Images/Py-2.png' width = 500 align = \"left\">"
   ]
  },
  {
   "cell_type": "code",
   "execution_count": 43,
   "metadata": {},
   "outputs": [],
   "source": [
    "# data needed for exercise\n",
    "nan = str(\"nan\")\n",
    "names = np.array(['Abomasnow', 'Abra', 'Absol', 'Accelgor', 'Aerodactyl', 'Aggron', 'Aipom', 'Alakazam', 'Alomomola', 'Altaria', 'Amaura', 'Ambipom', 'Amoonguss', 'Ampharos', 'Anorith', 'Arbok', 'Arcanine', 'Arceus', 'Archen', 'Archeops', 'Ariados', 'Armaldo', 'Aromatisse', 'Aron', 'Articuno', 'Audino', 'Aurorus', 'Avalugg', 'Axew', 'Azelf', 'Azumarill', 'Azurill', 'Bagon', 'Baltoy', 'Banette', 'Barbaracle', 'Barboach', 'Basculin', 'Bastiodon', 'Bayleef', 'Beartic', 'Beautifly', 'Beedrill', 'Beheeyem', 'Beldum', 'Bellossom', 'Bellsprout', 'Bergmite', 'Bibarel', 'Bidoof', 'Binacle', 'Bisharp', 'Blastoise', 'Blaziken', 'Blissey', 'Blitzle', 'Boldore', 'Bonsly', 'Bouffalant', 'Braixen', 'Braviary', 'Breloom', 'Bronzong', 'Bronzor', 'Budew', 'Buizel', 'Bulbasaur', 'Buneary', 'Bunnelby', 'Burmy', 'Butterfree', 'Cacnea', 'Cacturne', 'Camerupt', 'Carbink', 'Carnivine', 'Carracosta', 'Carvanha', 'Cascoon', 'Castform', 'Caterpie', 'Celebi', 'Chandelure', 'Chansey', 'Charizard', 'Charmander', 'Charmeleon', 'Chatot', 'Cherrim', 'Cherubi', 'Chesnaught', 'Chespin', 'Chikorita', 'Chimchar', 'Chimecho', 'Chinchou', 'Chingling', 'Cinccino', 'Clamperl', 'Clauncher', 'Clawitzer', 'Claydol', 'Clefable', 'Clefairy', 'Cleffa', 'Cloyster', 'Cobalion', 'Cofagrigus', 'Combee', 'Combusken', 'Conkeldurr', 'Corphish', 'Corsola', 'Cottonee', 'Cradily', 'Cranidos', 'Crawdaunt', 'Cresselia', 'Croagunk', 'Crobat', 'Croconaw', 'Crustle', 'Cryogonal', 'Cubchoo', 'Cubone', 'Cyndaquil', 'Darkrai', 'DarmanitanStandard Mode', 'DarmanitanZen Mode', 'Darumaka', 'Dedenne', 'Deerling', 'Deino', 'Delcatty', 'Delibird', 'Delphox', 'Dewgong', 'Dewott', 'Dialga', 'Diancie', 'Diggersby', 'Diglett', 'Ditto', 'Dodrio', 'Doduo', 'Donphan', 'Doublade', 'Dragalge', 'Dragonair', 'Dragonite', 'Drapion', 'Dratini', 'Drifblim', 'Drifloon', 'Drilbur', 'Drowzee', 'Druddigon', 'Ducklett', 'Dugtrio', 'Dunsparce', 'Duosion', 'Durant', 'Dusclops', 'Dusknoir', 'Duskull', 'Dustox', 'Dwebble', 'Eelektrik', 'Eelektross', 'Eevee', 'Ekans', 'Electabuzz', 'Electivire', 'Electrike', 'Electrode', 'Elekid', 'Elgyem', 'Emboar', 'Emolga', 'Empoleon', 'Entei', 'Escavalier', 'Espeon', 'Espurr', 'Excadrill', 'Exeggcute', 'Exeggutor', 'Exploud', \"Farfetch'd\", 'Fearow', 'Feebas', 'Fennekin', 'Feraligatr', 'Ferroseed', 'Ferrothorn', 'Finneon', 'Flaaffy', 'Flabébé', 'Flareon', 'Fletchinder', 'Fletchling', 'Floatzel', 'Floette', 'Florges', 'Flygon', 'Foongus', 'Forretress', 'Fraxure', 'Frillish', 'Froakie', 'Frogadier', 'Froslass', 'Furfrou', 'Furret', 'Gabite', 'Gallade', 'Galvantula', 'Garbodor', 'Garchomp', 'Gardevoir', 'Gastly', 'Gastrodon', 'Genesect', 'Gengar', 'Geodude', 'Gible', 'Gigalith', 'Girafarig', 'Glaceon', 'Glalie', 'Glameow', 'Gligar', 'Gliscor', 'Gloom', 'Gogoat', 'Golbat', 'Goldeen', 'Golduck', 'Golem', 'Golett', 'Golurk', 'Goodra', 'Goomy', 'Gorebyss', 'Gothita', 'Gothitelle', 'Gothorita', 'Granbull', 'Graveler', 'Greninja', 'Grimer', 'Grotle', 'Groudon', 'GroudonPrimal Groudon', 'Grovyle', 'Growlithe', 'Grumpig', 'Gulpin', 'Gurdurr', 'Gyarados', 'Happiny', 'Hariyama', 'Haunter', 'Hawlucha', 'Haxorus', 'Heatmor', 'Heatran', 'Heliolisk', 'Helioptile', 'Heracross', 'Herdier', 'Hippopotas', 'Hippowdon', 'Hitmonchan', 'Hitmonlee', 'Hitmontop', 'Ho-oh', 'Honchkrow', 'Honedge', 'Hoothoot', 'Hoppip', 'Horsea', 'Houndoom', 'Houndour', 'Huntail', 'Hydreigon', 'Hypno', 'Igglybuff', 'Illumise', 'Infernape', 'Inkay', 'Ivysaur', 'Jellicent', 'Jigglypuff', 'Jirachi', 'Jolteon', 'Joltik', 'Jumpluff', 'Jynx', 'Kabuto', 'Kabutops', 'Kadabra', 'Kakuna', 'Kangaskhan', 'Karrablast', 'Kecleon', 'Kingdra', 'Kingler', 'Kirlia', 'Klang', 'Klefki', 'Klink', 'Klinklang', 'Koffing', 'Krabby', 'Kricketot', 'Kricketune', 'Krokorok', 'Krookodile', 'Kyogre', 'KyogrePrimal Kyogre', 'Kyurem', 'KyuremBlack Kyurem', 'KyuremWhite Kyurem', 'Lairon', 'Lampent', 'Lanturn', 'Lapras', 'Larvesta', 'Larvitar', 'Latias', 'Latios', 'Leafeon', 'Leavanny', 'Ledian', 'Ledyba', 'Lickilicky', 'Lickitung', 'Liepard', 'Lileep', 'Lilligant', 'Lillipup', 'Linoone', 'Litleo', 'Litwick', 'Lombre', 'Lopunny', 'Lotad', 'Loudred', 'Lucario', 'Ludicolo', 'Lugia', 'Lumineon', 'Lunatone', 'Luvdisc', 'Luxio', 'Luxray', 'Machamp', 'Machoke', 'Machop', 'Magby', 'Magcargo', 'Magikarp', 'Magmar', 'Magmortar', 'Magnemite', 'Magneton', 'Magnezone', 'Makuhita', 'Malamar', 'Mamoswine', 'Manaphy', 'Mandibuzz', 'Manectric', 'Mankey', 'Mantine', 'Mantyke', 'Maractus', 'Mareep', 'Marill', 'Marowak', 'Marshtomp', 'Masquerain', 'Mawile', 'Medicham', 'Meditite', 'MeowsticFemale', 'MeowsticMale', 'Meowth', 'Mesprit', 'Metagross', 'Metang', 'Metapod', 'Mew', 'Mewtwo', 'Mienfoo', 'Mienshao', 'Mightyena', 'Milotic', 'Miltank', 'Mime Jr.', 'Minccino', 'Minun', 'Misdreavus', 'Mismagius', 'Moltres', 'Monferno', 'Mothim', 'Mr. Mime', 'Mudkip', 'Muk', 'Munchlax', 'Munna', 'Murkrow', 'Musharna', 'Natu', 'Nidoking', 'Nidoqueen', 'Nidoran♀', 'Nidoran♂', 'Nidorina', 'Nidorino', 'Nincada', 'Ninetales', 'Ninjask', 'Noctowl', 'Noibat', 'Noivern', 'Nosepass', 'Numel', 'Nuzleaf', 'Octillery', 'Oddish', 'Omanyte', 'Omastar', 'Onix', 'Oshawott', 'Pachirisu', 'Palkia', 'Palpitoad', 'Pancham', 'Pangoro', 'Panpour', 'Pansage', 'Pansear', 'Paras', 'Parasect', 'Patrat', 'Pawniard', 'Pelipper', 'Persian', 'Petilil', 'Phanpy', 'Phantump', 'Phione', 'Pichu', 'Pidgeot', 'Pidgeotto', 'Pidgey', 'Pidove', 'Pignite', 'Pikachu', 'Piloswine', 'Pineco', 'Pinsir', 'Piplup', 'Plusle', 'Politoed', 'Poliwag', 'Poliwhirl', 'Poliwrath', 'Ponyta', 'Poochyena', 'Porygon', 'Porygon-Z', 'Porygon2', 'Primeape', 'Prinplup', 'Probopass', 'Psyduck', 'Pupitar', 'Purrloin', 'Purugly', 'Pyroar', 'Quagsire', 'Quilava', 'Quilladin', 'Qwilfish', 'Raichu', 'Raikou', 'Ralts', 'Rampardos', 'Rapidash', 'Raticate', 'Rattata', 'Rayquaza', 'Regice', 'Regigigas', 'Regirock', 'Registeel', 'Relicanth', 'Remoraid', 'Reshiram', 'Reuniclus', 'Rhydon', 'Rhyhorn', 'Rhyperior', 'Riolu', 'Roggenrola', 'Roselia', 'Roserade', 'Rotom', 'RotomFan Rotom', 'RotomFrost Rotom', 'RotomHeat Rotom', 'RotomMow Rotom', 'RotomWash Rotom', 'Rufflet', 'Sableye', 'Salamence', 'Samurott', 'Sandile', 'Sandshrew', 'Sandslash', 'Sawk', 'Sawsbuck', 'Scatterbug', 'Sceptile', 'Scizor', 'Scolipede', 'Scrafty', 'Scraggy', 'Scyther', 'Seadra', 'Seaking', 'Sealeo', 'Seedot', 'Seel', 'Seismitoad', 'Sentret', 'Serperior', 'Servine', 'Seviper', 'Sewaddle', 'Sharpedo', 'Shedinja', 'Shelgon', 'Shellder', 'Shellos', 'Shelmet', 'Shieldon', 'Shiftry', 'Shinx', 'Shroomish', 'Shuckle', 'Shuppet', 'Sigilyph', 'Silcoon', 'Simipour', 'Simisage', 'Simisear', 'Skarmory', 'Skiddo', 'Skiploom', 'Skitty', 'Skorupi', 'Skrelp', 'Skuntank', 'Slaking', 'Slakoth', 'Sliggoo', 'Slowbro', 'Slowking', 'Slowpoke', 'Slugma', 'Slurpuff', 'Smeargle', 'Smoochum', 'Sneasel', 'Snivy', 'Snorlax', 'Snorunt', 'Snover', 'Snubbull', 'Solosis', 'Solrock', 'Spearow', 'Spewpa', 'Spheal', 'Spinarak', 'Spinda', 'Spiritomb', 'Spoink', 'Spritzee', 'Squirtle', 'Stantler', 'Staraptor', 'Staravia', 'Starly', 'Starmie', 'Staryu', 'Steelix', 'Stoutland', 'Stunfisk', 'Stunky', 'Sudowoodo', 'Suicune', 'Sunflora', 'Sunkern', 'Surskit', 'Swablu', 'Swadloon', 'Swalot', 'Swampert', 'Swanna', 'Swellow', 'Swinub', 'Swirlix', 'Swoobat', 'Sylveon', 'Taillow', 'Talonflame', 'Tangela', 'Tangrowth', 'Tauros', 'Teddiursa', 'Tentacool', 'Tentacruel', 'Tepig', 'Terrakion', 'Throh', 'Timburr', 'Tirtouga', 'Togekiss', 'Togepi', 'Togetic', 'Torchic', 'Torkoal', 'Torterra', 'Totodile', 'Toxicroak', 'Tranquill', 'Trapinch', 'Treecko', 'Trevenant', 'Tropius', 'Trubbish', 'Turtwig', 'Tympole', 'Tynamo', 'Typhlosion', 'Tyranitar', 'Tyrantrum', 'Tyrogue', 'Tyrunt', 'Umbreon', 'Unfezant', 'Unown', 'Ursaring', 'Uxie', 'Vanillish', 'Vanillite', 'Vanilluxe', 'Vaporeon', 'Venipede', 'Venomoth', 'Venonat', 'Venusaur', 'Vespiquen', 'Vibrava', 'Victini', 'Victreebel', 'Vigoroth', 'Vileplume', 'Virizion', 'Vivillon', 'Volbeat', 'Volcanion', 'Volcarona', 'Voltorb', 'Vullaby', 'Vulpix', 'Wailmer', 'Wailord', 'Walrein', 'Wartortle', 'Watchog', 'Weavile', 'Weedle', 'Weepinbell', 'Weezing', 'Whimsicott', 'Whirlipede', 'Whiscash', 'Whismur', 'Wigglytuff', 'Wingull', 'Wobbuffet', 'Woobat', 'Wooper', 'WormadamPlant Cloak', 'WormadamSandy Cloak', 'WormadamTrash Cloak', 'Wurmple', 'Wynaut', 'Xatu', 'Xerneas', 'Yamask', 'Yanma', 'Yanmega', 'Yveltal', 'Zangoose', 'Zapdos', 'Zebstrika', 'Zekrom', 'Zigzagoon', 'Zoroark', 'Zorua', 'Zubat', 'Zweilous'])\n",
    "primary_types = np.array(['Grass', 'Psychic', 'Dark', 'Bug', 'Rock', 'Steel', 'Normal', 'Psychic', 'Water', 'Dragon', 'Rock', 'Normal', 'Grass', 'Electric', 'Rock', 'Poison', 'Fire', 'Normal', 'Rock', 'Rock', 'Bug', 'Rock', 'Fairy', 'Steel', 'Ice', 'Normal', 'Rock', 'Ice', 'Dragon', 'Psychic', 'Water', 'Normal', 'Dragon', 'Ground', 'Ghost', 'Rock', 'Water', 'Water', 'Rock', 'Grass', 'Ice', 'Bug', 'Bug', 'Psychic', 'Steel', 'Grass', 'Grass', 'Ice', 'Normal', 'Normal', 'Rock', 'Dark', 'Water', 'Fire', 'Normal', 'Electric', 'Rock', 'Rock', 'Normal', 'Fire', 'Normal', 'Grass', 'Steel', 'Steel', 'Grass', 'Water', 'Grass', 'Normal', 'Normal', 'Bug', 'Bug', 'Grass', 'Grass', 'Fire', 'Rock', 'Grass', 'Water', 'Water', 'Bug', 'Normal', 'Bug', 'Psychic', 'Ghost', 'Normal', 'Fire', 'Fire', 'Fire', 'Normal', 'Grass', 'Grass', 'Grass', 'Grass', 'Grass', 'Fire', 'Psychic', 'Water', 'Psychic', 'Normal', 'Water', 'Water', 'Water', 'Ground', 'Fairy', 'Fairy', 'Fairy', 'Water', 'Steel', 'Ghost', 'Bug', 'Fire', 'Fighting', 'Water', 'Water', 'Grass', 'Rock', 'Rock', 'Water', 'Psychic', 'Poison', 'Poison', 'Water', 'Bug', 'Ice', 'Ice', 'Ground', 'Fire', 'Dark', 'Fire', 'Fire', 'Fire', 'Electric', 'Normal', 'Dark', 'Normal', 'Ice', 'Fire', 'Water', 'Water', 'Steel', 'Rock', 'Normal', 'Ground', 'Normal', 'Normal', 'Normal', 'Ground', 'Steel', 'Poison', 'Dragon', 'Dragon', 'Poison', 'Dragon', 'Ghost', 'Ghost', 'Ground', 'Psychic', 'Dragon', 'Water', 'Ground', 'Normal', 'Psychic', 'Bug', 'Ghost', 'Ghost', 'Ghost', 'Bug', 'Bug', 'Electric', 'Electric', 'Normal', 'Poison', 'Electric', 'Electric', 'Electric', 'Electric', 'Electric', 'Psychic', 'Fire', 'Electric', 'Water', 'Fire', 'Bug', 'Psychic', 'Psychic', 'Ground', 'Grass', 'Grass', 'Normal', 'Normal', 'Normal', 'Water', 'Fire', 'Water', 'Grass', 'Grass', 'Water', 'Electric', 'Fairy', 'Fire', 'Fire', 'Normal', 'Water', 'Fairy', 'Fairy', 'Ground', 'Grass', 'Bug', 'Dragon', 'Water', 'Water', 'Water', 'Ice', 'Normal', 'Normal', 'Dragon', 'Psychic', 'Bug', 'Poison', 'Dragon', 'Psychic', 'Ghost', 'Water', 'Bug', 'Ghost', 'Rock', 'Dragon', 'Rock', 'Normal', 'Ice', 'Ice', 'Normal', 'Ground', 'Ground', 'Grass', 'Grass', 'Poison', 'Water', 'Water', 'Rock', 'Ground', 'Ground', 'Dragon', 'Dragon', 'Water', 'Psychic', 'Psychic', 'Psychic', 'Fairy', 'Rock', 'Water', 'Poison', 'Grass', 'Ground', 'Ground', 'Grass', 'Fire', 'Psychic', 'Poison', 'Fighting', 'Water', 'Normal', 'Fighting', 'Ghost', 'Fighting', 'Dragon', 'Fire', 'Fire', 'Electric', 'Electric', 'Bug', 'Normal', 'Ground', 'Ground', 'Fighting', 'Fighting', 'Fighting', 'Fire', 'Dark', 'Steel', 'Normal', 'Grass', 'Water', 'Dark', 'Dark', 'Water', 'Dark', 'Psychic', 'Normal', 'Bug', 'Fire', 'Dark', 'Grass', 'Water', 'Normal', 'Steel', 'Electric', 'Bug', 'Grass', 'Ice', 'Rock', 'Rock', 'Psychic', 'Bug', 'Normal', 'Bug', 'Normal', 'Water', 'Water', 'Psychic', 'Steel', 'Steel', 'Steel', 'Steel', 'Poison', 'Water', 'Bug', 'Bug', 'Ground', 'Ground', 'Water', 'Water', 'Dragon', 'Dragon', 'Dragon', 'Steel', 'Ghost', 'Water', 'Water', 'Bug', 'Rock', 'Dragon', 'Dragon', 'Grass', 'Bug', 'Bug', 'Bug', 'Normal', 'Normal', 'Dark', 'Rock', 'Grass', 'Normal', 'Normal', 'Fire', 'Ghost', 'Water', 'Normal', 'Water', 'Normal', 'Fighting', 'Water', 'Psychic', 'Water', 'Rock', 'Water', 'Electric', 'Electric', 'Fighting', 'Fighting', 'Fighting', 'Fire', 'Fire', 'Water', 'Fire', 'Fire', 'Electric', 'Electric', 'Electric', 'Fighting', 'Dark', 'Ice', 'Water', 'Dark', 'Electric', 'Fighting', 'Water', 'Water', 'Grass', 'Electric', 'Water', 'Ground', 'Water', 'Bug', 'Steel', 'Fighting', 'Fighting', 'Psychic', 'Psychic', 'Normal', 'Psychic', 'Steel', 'Steel', 'Bug', 'Psychic', 'Psychic', 'Fighting', 'Fighting', 'Dark', 'Water', 'Normal', 'Psychic', 'Normal', 'Electric', 'Ghost', 'Ghost', 'Fire', 'Fire', 'Bug', 'Psychic', 'Water', 'Poison', 'Normal', 'Psychic', 'Dark', 'Psychic', 'Psychic', 'Poison', 'Poison', 'Poison', 'Poison', 'Poison', 'Poison', 'Bug', 'Fire', 'Bug', 'Normal', 'Flying', 'Flying', 'Rock', 'Fire', 'Grass', 'Water', 'Grass', 'Rock', 'Rock', 'Rock', 'Water', 'Electric', 'Water', 'Water', 'Fighting', 'Fighting', 'Water', 'Grass', 'Fire', 'Bug', 'Bug', 'Normal', 'Dark', 'Water', 'Normal', 'Grass', 'Ground', 'Ghost', 'Water', 'Electric', 'Normal', 'Normal', 'Normal', 'Normal', 'Fire', 'Electric', 'Ice', 'Bug', 'Bug', 'Water', 'Electric', 'Water', 'Water', 'Water', 'Water', 'Fire', 'Dark', 'Normal', 'Normal', 'Normal', 'Fighting', 'Water', 'Rock', 'Water', 'Rock', 'Dark', 'Normal', 'Fire', 'Water', 'Fire', 'Grass', 'Water', 'Electric', 'Electric', 'Psychic', 'Rock', 'Fire', 'Normal', 'Normal', 'Dragon', 'Ice', 'Normal', 'Rock', 'Steel', 'Water', 'Water', 'Dragon', 'Psychic', 'Ground', 'Ground', 'Ground', 'Fighting', 'Rock', 'Grass', 'Grass', 'Electric', 'Electric', 'Electric', 'Electric', 'Electric', 'Electric', 'Normal', 'Dark', 'Dragon', 'Water', 'Ground', 'Ground', 'Ground', 'Fighting', 'Normal', 'Bug', 'Grass', 'Bug', 'Bug', 'Dark', 'Dark', 'Bug', 'Water', 'Water', 'Ice', 'Grass', 'Water', 'Water', 'Normal', 'Grass', 'Grass', 'Poison', 'Bug', 'Water', 'Bug', 'Dragon', 'Water', 'Water', 'Bug', 'Rock', 'Grass', 'Electric', 'Grass', 'Bug', 'Ghost', 'Psychic', 'Bug', 'Water', 'Grass', 'Fire', 'Steel', 'Grass', 'Grass', 'Normal', 'Poison', 'Poison', 'Poison', 'Normal', 'Normal', 'Dragon', 'Water', 'Water', 'Water', 'Fire', 'Fairy', 'Normal', 'Ice', 'Dark', 'Grass', 'Normal', 'Ice', 'Grass', 'Fairy', 'Psychic', 'Rock', 'Normal', 'Bug', 'Ice', 'Bug', 'Normal', 'Ghost', 'Psychic', 'Fairy', 'Water', 'Normal', 'Normal', 'Normal', 'Normal', 'Water', 'Water', 'Steel', 'Normal', 'Ground', 'Poison', 'Rock', 'Water', 'Grass', 'Grass', 'Bug', 'Normal', 'Bug', 'Poison', 'Water', 'Water', 'Normal', 'Ice', 'Fairy', 'Psychic', 'Fairy', 'Normal', 'Fire', 'Grass', 'Grass', 'Normal', 'Normal', 'Water', 'Water', 'Fire', 'Rock', 'Fighting', 'Fighting', 'Water', 'Fairy', 'Fairy', 'Fairy', 'Fire', 'Fire', 'Grass', 'Water', 'Poison', 'Normal', 'Ground', 'Grass', 'Ghost', 'Grass', 'Poison', 'Grass', 'Water', 'Electric', 'Fire', 'Rock', 'Rock', 'Fighting', 'Rock', 'Dark', 'Normal', 'Psychic', 'Normal', 'Psychic', 'Ice', 'Ice', 'Ice', 'Water', 'Bug', 'Bug', 'Bug', 'Grass', 'Bug', 'Ground', 'Psychic', 'Grass', 'Normal', 'Grass', 'Grass', 'Bug', 'Bug', 'Fire', 'Bug', 'Electric', 'Dark', 'Fire', 'Water', 'Water', 'Ice', 'Water', 'Normal', 'Dark', 'Bug', 'Grass', 'Poison', 'Grass', 'Bug', 'Water', 'Normal', 'Normal', 'Water', 'Psychic', 'Psychic', 'Water', 'Bug', 'Bug', 'Bug', 'Bug', 'Psychic', 'Psychic', 'Fairy', 'Ghost', 'Bug', 'Bug', 'Dark', 'Normal', 'Electric', 'Electric', 'Dragon', 'Normal', 'Dark', 'Dark', 'Poison', 'Dark'])\n",
    "secondary_types = np.array(['Ice', nan, nan, nan, 'Flying', 'Rock', nan, nan, nan, 'Flying', 'Ice', nan, 'Poison', nan, 'Bug', nan, nan, nan, 'Flying', 'Flying', 'Poison', 'Bug', nan, 'Rock', 'Flying', nan, 'Ice', nan, nan, nan, 'Fairy', 'Fairy', nan, 'Psychic', nan, 'Water', 'Ground', nan, 'Steel', nan, nan, 'Flying', 'Poison', nan, 'Psychic', nan, 'Poison', nan, 'Water', nan, 'Water', 'Steel', nan, 'Fighting', nan, nan, nan, nan, nan, nan, 'Flying', 'Fighting', 'Psychic', 'Psychic', 'Poison', nan, 'Poison', nan, nan, nan, 'Flying', nan, 'Dark', 'Ground', 'Fairy', nan, 'Rock', 'Dark', nan, nan, nan, 'Grass', 'Fire', nan, 'Flying', nan, nan, 'Flying', nan, nan, 'Fighting', nan, nan, nan, nan, 'Electric', nan, nan, nan, nan, nan, 'Psychic', nan, nan, nan, 'Ice', 'Fighting', nan, 'Flying', 'Fighting', nan, nan, 'Rock', 'Fairy', 'Grass', nan, 'Dark', nan, 'Fighting', 'Flying', nan, 'Rock', nan, nan, nan, nan, nan, nan, 'Psychic', nan, 'Fairy', 'Grass', 'Dragon', nan, 'Flying', 'Psychic', 'Ice', nan, 'Dragon', 'Fairy', 'Ground', nan, nan, 'Flying', 'Flying', nan, 'Ghost', 'Dragon', nan, 'Flying', 'Dark', nan, 'Flying', 'Flying', nan, nan, nan, 'Flying', nan, nan, nan, 'Steel', nan, nan, nan, 'Poison', 'Rock', nan, nan, nan, nan, nan, nan, nan, nan, nan, nan, 'Fighting', 'Flying', 'Steel', nan, 'Steel', nan, nan, 'Steel', 'Psychic', 'Psychic', nan, 'Flying', 'Flying', nan, nan, nan, 'Steel', 'Steel', nan, nan, nan, nan, 'Flying', 'Flying', nan, nan, nan, 'Dragon', 'Poison', 'Steel', nan, 'Ghost', nan, nan, 'Ghost', nan, nan, 'Ground', 'Fighting', 'Electric', nan, 'Ground', 'Fairy', 'Poison', 'Ground', 'Steel', 'Poison', 'Ground', 'Ground', nan, 'Psychic', nan, nan, nan, 'Flying', 'Flying', 'Poison', nan, 'Flying', nan, nan, 'Ground', 'Ghost', 'Ghost', nan, nan, nan, nan, nan, nan, nan, 'Ground', 'Dark', nan, nan, nan, 'Fire', nan, nan, nan, nan, nan, 'Flying', nan, nan, 'Poison', 'Flying', nan, nan, 'Steel', 'Normal', 'Normal', 'Fighting', nan, nan, nan, nan, nan, nan, 'Flying', 'Flying', 'Ghost', 'Flying', 'Flying', nan, 'Fire', 'Fire', nan, 'Dragon', nan, 'Fairy', nan, 'Fighting', 'Psychic', 'Poison', 'Ghost', 'Fairy', 'Psychic', nan, 'Electric', 'Flying', 'Psychic', 'Water', 'Water', nan, 'Poison', nan, nan, nan, 'Dragon', nan, 'Fairy', nan, 'Fairy', nan, nan, nan, nan, nan, nan, 'Dark', 'Dark', nan, nan, 'Ice', 'Ice', 'Ice', 'Rock', 'Fire', 'Electric', 'Ice', 'Fire', 'Ground', 'Psychic', 'Psychic', nan, 'Grass', 'Flying', 'Flying', nan, nan, nan, 'Grass', nan, nan, nan, 'Normal', 'Fire', 'Grass', nan, 'Grass', nan, 'Steel', 'Grass', 'Flying', nan, 'Psychic', nan, nan, nan, nan, nan, nan, nan, 'Rock', nan, nan, nan, 'Steel', 'Steel', 'Steel', nan, 'Psychic', 'Ground', nan, 'Flying', nan, nan, 'Flying', 'Flying', nan, nan, 'Fairy', nan, 'Ground', 'Flying', 'Fairy', 'Psychic', 'Psychic', nan, nan, nan, nan, 'Psychic', 'Psychic', nan, nan, nan, nan, nan, nan, nan, nan, 'Fairy', nan, nan, nan, nan, 'Flying', 'Fighting', 'Flying', 'Fairy', nan, nan, nan, nan, 'Flying', nan, 'Flying', 'Ground', 'Ground', nan, nan, nan, nan, 'Ground', nan, 'Flying', 'Flying', 'Dragon', 'Dragon', nan, 'Ground', 'Dark', nan, 'Poison', 'Water', 'Water', 'Ground', nan, nan, 'Dragon', 'Ground', nan, 'Dark', nan, nan, nan, 'Grass', 'Grass', nan, 'Steel', 'Flying', nan, nan, nan, 'Grass', nan, nan, 'Flying', 'Flying', 'Flying', 'Flying', 'Fighting', nan, 'Ground', nan, nan, nan, nan, nan, nan, nan, 'Fighting', nan, nan, nan, nan, nan, nan, nan, 'Steel', nan, 'Ground', nan, nan, 'Normal', 'Ground', nan, nan, 'Poison', nan, nan, 'Fairy', nan, nan, nan, nan, 'Flying', nan, nan, nan, nan, 'Rock', nan, 'Fire', nan, 'Rock', 'Rock', 'Rock', nan, nan, 'Poison', 'Poison', 'Ghost', 'Flying', 'Ice', 'Fire', 'Grass', 'Water', 'Flying', 'Ghost', 'Flying', nan, 'Dark', nan, nan, nan, 'Grass', nan, nan, 'Steel', 'Poison', 'Fighting', 'Fighting', 'Flying', nan, nan, 'Water', nan, nan, 'Ground', nan, nan, nan, nan, 'Grass', 'Dark', 'Ghost', nan, nan, nan, nan, 'Steel', 'Dark', nan, nan, 'Rock', nan, 'Flying', nan, nan, nan, nan, 'Flying', nan, 'Flying', nan, 'Bug', 'Water', 'Dark', nan, nan, nan, 'Psychic', 'Psychic', 'Psychic', nan, nan, nan, 'Psychic', 'Ice', nan, nan, nan, 'Ice', nan, nan, 'Psychic', 'Flying', nan, 'Water', 'Poison', nan, 'Dark', nan, nan, nan, nan, 'Flying', 'Flying', 'Flying', 'Psychic', nan, 'Ground', nan, 'Electric', 'Dark', nan, nan, nan, nan, 'Water', 'Flying', 'Grass', nan, 'Ground', 'Flying', 'Flying', 'Ground', nan, 'Flying', nan, 'Flying', 'Flying', nan, nan, nan, nan, 'Poison', 'Poison', nan, 'Fighting', nan, nan, 'Rock', 'Flying', nan, 'Flying', nan, nan, 'Ground', nan, 'Fighting', 'Flying', nan, nan, 'Grass', 'Flying', nan, nan, nan, nan, nan, 'Dark', 'Dragon', nan, 'Dragon', nan, 'Flying', nan, nan, nan, nan, nan, nan, nan, 'Poison', 'Poison', 'Poison', 'Poison', 'Flying', 'Dragon', 'Fire', 'Poison', nan, 'Poison', 'Fighting', 'Flying', nan, 'Water', 'Fire', nan, 'Flying', nan, nan, nan, 'Water', nan, nan, 'Ice', 'Poison', 'Poison', nan, 'Fairy', 'Poison', 'Ground', nan, 'Fairy', 'Flying', nan, 'Flying', 'Ground', 'Grass', 'Ground', 'Steel', nan, nan, 'Flying', nan, nan, 'Flying', 'Flying', 'Flying', nan, 'Flying', nan, 'Electric', nan, nan, nan, 'Flying', 'Dragon'])\n",
    "\n"
   ]
  },
  {
   "cell_type": "code",
   "execution_count": 45,
   "metadata": {},
   "outputs": [
    {
     "name": "stdout",
     "output_type": "stream",
     "text": [
      "('Abomasnow', 'Grass')\n",
      "('Abra', 'Psychic')\n",
      "('Absol', 'Dark')\n",
      "('Accelgor', 'Bug')\n",
      "('Aerodactyl', 'Rock')\n"
     ]
    }
   ],
   "source": [
    "# Combine names and primary_types\n",
    "names_type1 = [*zip(names, primary_types)]\n",
    "\n",
    "print(*names_type1[:5], sep='\\n')"
   ]
  },
  {
   "cell_type": "code",
   "execution_count": 46,
   "metadata": {},
   "outputs": [
    {
     "name": "stdout",
     "output_type": "stream",
     "text": [
      "('Abomasnow', 'Grass', 'Ice')\n",
      "('Abra', 'Psychic', 'nan')\n",
      "('Absol', 'Dark', 'nan')\n",
      "('Accelgor', 'Bug', 'nan')\n",
      "('Aerodactyl', 'Rock', 'Flying')\n"
     ]
    }
   ],
   "source": [
    "# Combine all three lists together\n",
    "names_types = [*zip(names,primary_types,secondary_types)]\n",
    "\n",
    "print(*names_types[:5], sep='\\n')"
   ]
  },
  {
   "cell_type": "code",
   "execution_count": 47,
   "metadata": {},
   "outputs": [
    {
     "name": "stdout",
     "output_type": "stream",
     "text": [
      "('Abomasnow', 'Grass')\n",
      "('Abra', 'Psychic')\n",
      "('Absol', 'Dark')\n"
     ]
    }
   ],
   "source": [
    "# Combine five items from names and three items from primary_types\n",
    "differing_lengths = [*zip(names[:5], primary_types[:3])]\n",
    "\n",
    "print(*differing_lengths, sep='\\n')"
   ]
  },
  {
   "cell_type": "markdown",
   "metadata": {},
   "source": [
    "## Counting Pokémon from a sample"
   ]
  },
  {
   "cell_type": "code",
   "execution_count": 48,
   "metadata": {},
   "outputs": [],
   "source": [
    "# data needed\n",
    "names = np.array(['Seel', 'Nidorino', 'Fearow', 'Vanilluxe', 'Relicanth', 'Karrablast', 'Exeggutor', 'Diggersby', 'Mew', 'Flabébé', 'Archen', 'Cryogonal', 'Cherubi', 'Barbaracle', 'Jirachi', 'Lopunny', 'Sentret', 'Heatmor', 'Bellossom', 'Drilbur', 'Gallade', 'Ivysaur', 'Sandslash', 'Aipom', 'Scatterbug', 'Carracosta', 'Frillish', 'Honedge', 'Gogoat', 'Kangaskhan', 'Hippowdon', 'Lillipup', 'Braixen', 'Wooper', 'Helioptile', 'Geodude', 'Claydol', 'Furret', 'Burmy', 'Clefairy', 'Sandile', 'Walrein', 'Throh', 'Leavanny', 'Gengar', 'Solosis', 'Eelektross', 'Foongus', 'Ferroseed', 'Sylveon', 'Marowak', 'Wailord', 'Chimchar', 'Tyrunt', 'Golem', 'Mamoswine', 'Elgyem', 'Metagross', 'Panpour', 'Cinccino', 'Gloom', 'Chatot', 'Onix', 'Dodrio', 'Chandelure', 'Florges', 'Lilligant', 'Graveler', 'Raichu', 'Sylveon', 'Minccino', 'Scolipede', 'Cresselia', 'Delphox', 'Wigglytuff', 'Seadra', 'Shellos', 'Lampent', 'Infernape', 'Sawsbuck', 'Delphox', 'Delibird', 'Slaking', 'Stunfisk', 'Spritzee', 'Lillipup', 'Sharpedo', 'Gallade', 'Beheeyem', 'Charmander', 'Krookodile', 'Braixen', 'Bellsprout', 'Snorlax', 'Swinub', 'Hariyama', 'Numel', 'Gardevoir', 'Mismagius', 'WormadamTrash Cloak', 'Dugtrio', 'Wailmer', 'Diggersby', 'Castform', 'Bisharp', 'Lileep', 'Eelektross', 'Zigzagoon', 'Tropius', 'Venomoth', 'Vibrava', 'MeowsticFemale', 'Shieldon', 'Floatzel', 'Carnivine', 'Servine', 'Swalot', 'Finneon', 'Magnezone', 'Combusken', 'DarmanitanStandard Mode', 'Cryogonal', 'Wynaut', 'Emboar', 'Hippopotas', 'Krabby', 'Tentacruel', 'Ludicolo', 'Bisharp', 'Claydol', 'Corsola', 'Shelmet', 'Bastiodon', 'Snorunt', 'Yanma', 'Lumineon', 'Treecko', 'Zekrom', 'Azurill', 'Golduck', 'Phanpy', 'WormadamSandy Cloak', 'Aron', 'Panpour', 'Illumise', 'Zekrom', 'Shinx', 'Kabutops', 'Delibird', 'Carnivine', 'Beautifly', 'Klang', 'Patrat', 'Exeggutor', 'RotomWash Rotom', 'Dragalge', 'Kirlia', 'Dedenne', 'Electrike', 'Cherrim', 'Venomoth', 'Scolipede', 'Swirlix', 'Primeape', 'Simipour', 'Skuntank', 'Glameow', 'Clamperl', 'Swablu', 'Cofagrigus', 'Hoppip', 'Torchic', 'Psyduck', 'Helioptile', 'Larvesta', 'Wigglytuff', 'Mandibuzz', 'Empoleon', 'Shelgon', 'Spewpa', 'Charizard', 'Clamperl', 'Seedot', 'Spritzee', 'Darkrai', 'Electrike', 'Virizion', 'Yanmega', 'Girafarig', 'Cranidos', 'Croagunk', 'Nidoking', 'Pupitar', 'Tympole', 'Flareon', 'Lairon', 'Frogadier', 'Mime Jr.', 'Magnemite', 'Clefable', 'Gloom', 'Exeggcute', 'Bayleef', 'Staravia', 'Rattata', 'Golem', 'Gible', 'Kricketune', 'Seismitoad', 'Slakoth', 'Dragonair', 'Skuntank', 'Munna', 'Cacturne', 'Magmortar', 'Golbat', 'Shroomish', 'Leafeon', 'Ledian', 'Cinccino', 'Armaldo', 'Froslass', 'Seadra', 'Slowbro', 'Nidorino', 'KyuremBlack Kyurem', 'Venomoth', 'Carnivine', 'Abomasnow', 'Zangoose', 'Honchkrow', 'Banette', 'Panpour', 'Beldum', 'Ampharos', 'Wynaut', 'Medicham', 'Seviper', 'Blissey', 'Azelf', \"Farfetch'd\", 'Relicanth', 'WormadamPlant Cloak', 'Sneasel', 'Fletchling', 'Larvesta', 'Cleffa', 'Mienfoo', 'Panpour', 'Arcanine', 'Hitmonchan', 'Tangela', 'Escavalier', 'Lumineon', 'Kingdra', 'Lickilicky', 'Noctowl', 'Blissey', 'Zekrom', 'Amoonguss', 'Carracosta', 'Staravia', 'Pineco', 'Swampert', 'Jirachi', 'Swanna', 'Drifblim', 'Roggenrola', 'Inkay', 'Electrike', 'Cubone', 'Crobat', 'Prinplup', 'Spinarak', 'Lilligant', 'Poliwhirl', 'Vespiquen', 'Loudred', 'Grimer', 'Kadabra', 'Caterpie', 'Machop', 'Slakoth', 'Foongus', 'Exeggcute', 'Gulpin', 'Delcatty', 'GroudonPrimal Groudon', 'Delcatty', 'Shelmet', 'Granbull', 'Shelmet', 'Bronzong', 'Tyranitar', 'Azumarill', 'Numel', 'Pyroar', 'Mantyke', 'Chikorita', 'Articuno', 'Umbreon', 'Musharna', 'Jellicent', 'Spheal', 'Kadabra', 'Nosepass', 'Cobalion', 'Ducklett', 'Tirtouga', 'Accelgor', 'Fletchling', 'KyuremWhite Kyurem', 'Slowbro', 'Zebstrika', 'Dugtrio', 'Stoutland', 'Shelmet', 'Dragonair', 'Hawlucha', 'RotomFrost Rotom', 'Gardevoir', 'Primeape', 'Swirlix', 'Gothita', 'Krabby', 'Chimchar', 'Aurorus', 'Mandibuzz', 'Nidoqueen', 'Delibird', 'Fraxure', 'Pidove', 'Altaria', 'Oddish', 'Blitzle', 'Ducklett', 'Ralts', 'Baltoy', 'Jirachi', 'Avalugg', 'Clefable', 'Gurdurr', 'Seel', 'Baltoy', 'Vigoroth', 'Stunky', 'Klinklang', 'Luvdisc', 'Mew', 'Sandshrew', 'Koffing', 'Pancham', 'Kirlia', 'Jirachi', 'Probopass', 'Tympole', 'Spoink', 'Basculin', 'Drifblim', 'Duosion', 'Primeape', 'Shelmet', 'Whirlipede', 'Roselia', 'Rufflet', 'Avalugg', 'Druddigon', 'Luxray', 'Eelektrik', 'Chespin', 'Clefable', 'Graveler', 'Chatot', 'Psyduck', 'Makuhita', 'Piplup', 'Pinsir', 'Lopunny', 'Tauros', 'Grimer', 'Eelektross', 'Turtwig', 'Darkrai', 'Emboar', 'Cobalion', 'Talonflame', 'Nidorino', 'Dragonair', 'Larvitar', 'WormadamSandy Cloak', 'Wobbuffet', 'Maractus', 'Teddiursa', 'Leavanny', 'Lampent', 'Yveltal', 'Primeape', 'Plusle', 'Altaria', 'Zweilous', 'Bunnelby', 'Riolu', 'Manectric', 'Lunatone', 'Wigglytuff', 'Bouffalant', 'Leavanny', 'Cyndaquil', 'Clamperl', 'Minccino', 'Groudon', 'Scatterbug', 'Torkoal', 'Scolipede', 'Slowking', 'Rapidash', 'Ledian', 'Cofagrigus', 'Ledian', 'Mawile', 'Sealeo', 'Lickitung', 'Sharpedo', 'Kabutops', 'Beedrill', 'Spiritomb', 'Dusclops', 'Venomoth', 'Nuzleaf', 'Gothita', 'Onix', 'Aron', 'Trevenant', 'Electivire', 'Blitzle', 'Feraligatr', 'Donphan', 'Skrelp', 'Ursaring', 'Hitmontop', 'Hydreigon', 'Spritzee', 'Jumpluff', 'Arbok', 'Taillow', 'Gurdurr', 'Dustox', 'Zangoose', 'Sawsbuck', 'Volcarona', 'Simipour', 'Shedinja', 'Mienfoo', 'Wobbuffet', 'Mantine', 'Croagunk', 'Bronzor', 'Meditite', 'Elgyem', 'Hawlucha', 'Dratini', 'WormadamTrash Cloak', 'Moltres', 'Mr. Mime', 'Roserade', 'Dunsparce', 'Skitty', 'Skuntank', 'Joltik', 'Slowking', 'Rhyperior', 'Beautifly', 'Kyogre', 'Gallade', 'Azurill', 'Aggron', 'Solrock', 'Salamence', 'Weepinbell', 'Skiploom', 'Marshtomp', 'Mienshao', 'Krookodile', 'Xerneas', 'Staraptor', 'Shiftry', 'Eelektross', 'Dewott', 'Throh', 'Barbaracle', 'Ninetales', 'Sudowoodo', 'Nosepass', 'Staryu', 'Snivy', 'Hawlucha', 'Suicune', 'Weedle', 'Nincada', 'Simisage'])\n",
    "generations = np.array([1, 1, 1, 5, 3, 5, 1, 6, 1, 6, 5, 5, 4, 6, 3, 4, 2, 5, 2, 5, 4, 1, 1, 2, 6, 5, 5, 6, 6, 1, 4, 5, 6, 2, 6, 1, 3, 2, 4, 1, 5, 3, 5, 5, 1, 5, 5, 5, 5, 6, 1, 3, 4, 6, 1, 4, 5, 3, 5, 5, 1, 4, 1, 1, 5, 6, 5, 1, 1, 6, 5, 5, 4, 6, 1, 1, 4, 5, 4, 5, 6, 2, 3, 5, 6, 5, 3, 4, 5, 1, 5, 6, 1, 1, 2, 3, 3, 3, 4, 4, 1, 3, 6, 3, 5, 3, 5, 3, 3, 1, 3, 6, 4, 4, 4, 5, 3, 4, 4, 3, 5, 5, 3, 5, 4, 1, 1, 3, 5, 3, 2, 5, 4, 3, 2, 4, 3, 5, 3, 1, 2, 4, 3, 5, 3, 5, 4, 1, 2, 4, 3, 5, 5, 1, 4, 6, 3, 6, 3, 4, 1, 5, 6, 1, 5, 4, 4, 3, 3, 5, 2, 3, 1, 6, 5, 1, 5, 4, 3, 6, 1, 3, 3, 6, 4, 3, 5, 4, 2, 4, 4, 1, 2, 5, 1, 3, 6, 4, 1, 1, 1, 1, 2, 4, 1, 1, 4, 4, 5, 3, 1, 4, 5, 3, 4, 1, 3, 4, 2, 5, 3, 4, 1, 1, 1, 5, 1, 4, 4, 3, 4, 3, 5, 3, 2, 3, 3, 3, 2, 4, 1, 3, 4, 2, 6, 5, 2, 5, 5, 1, 1, 1, 5, 4, 2, 4, 2, 2, 5, 5, 5, 4, 2, 3, 3, 5, 4, 5, 6, 3, 1, 2, 4, 2, 5, 1, 4, 3, 1, 1, 1, 1, 3, 5, 1, 3, 3, 3, 3, 5, 2, 5, 4, 2, 2, 3, 6, 4, 2, 1, 2, 5, 5, 3, 1, 3, 5, 5, 5, 5, 6, 5, 1, 5, 1, 5, 5, 1, 6, 4, 3, 1, 6, 5, 1, 4, 6, 5, 1, 2, 5, 5, 3, 1, 5, 5, 3, 3, 3, 6, 1, 5, 1, 3, 3, 4, 5, 3, 1, 1, 1, 6, 3, 3, 4, 5, 3, 5, 4, 5, 1, 5, 5, 3, 5, 6, 5, 4, 5, 6, 1, 1, 4, 1, 3, 4, 1, 4, 1, 1, 5, 4, 4, 5, 5, 6, 1, 1, 2, 4, 2, 5, 2, 5, 5, 6, 1, 3, 3, 5, 6, 4, 3, 3, 1, 5, 5, 2, 3, 5, 3, 6, 3, 5, 2, 1, 2, 5, 2, 3, 3, 1, 3, 1, 1, 4, 3, 1, 3, 5, 1, 3, 6, 4, 5, 2, 2, 6, 2, 2, 5, 6, 2, 1, 3, 5, 3, 3, 5, 5, 5, 3, 5, 2, 2, 4, 4, 3, 5, 6, 1, 4, 1, 1, 4, 2, 3, 4, 5, 2, 4, 3, 3, 4, 3, 3, 3, 3, 1, 2, 3, 5, 5, 6, 4, 3, 5, 5, 5, 6, 1, 2, 3, 1, 5, 6, 2, 1, 3, 5])\n",
    "primary_types = np.array(['Water', 'Poison', 'Normal', 'Ice', 'Water', 'Bug', 'Grass', 'Normal', 'Psychic', 'Fairy', 'Rock', 'Ice', 'Grass', 'Rock', 'Steel', 'Normal', 'Normal', 'Fire', 'Grass', 'Ground', 'Psychic', 'Grass', 'Ground', 'Normal', 'Bug', 'Water', 'Water', 'Steel', 'Grass', 'Normal', 'Ground', 'Normal', 'Fire', 'Water', 'Electric', 'Rock', 'Ground', 'Normal', 'Bug', 'Fairy', 'Ground', 'Ice', 'Fighting', 'Bug', 'Ghost', 'Psychic', 'Electric', 'Grass', 'Grass', 'Fairy', 'Ground', 'Water', 'Fire', 'Rock', 'Rock', 'Ice', 'Psychic', 'Steel', 'Water', 'Normal', 'Grass', 'Normal', 'Rock', 'Normal', 'Ghost', 'Fairy', 'Grass', 'Rock', 'Electric', 'Fairy', 'Normal', 'Bug', 'Psychic', 'Fire', 'Normal', 'Water', 'Water', 'Ghost', 'Fire', 'Normal', 'Fire', 'Ice', 'Normal', 'Ground', 'Fairy', 'Normal', 'Water', 'Psychic', 'Psychic', 'Fire', 'Ground', 'Fire', 'Grass', 'Normal', 'Ice', 'Fighting', 'Fire', 'Psychic', 'Ghost', 'Bug', 'Ground', 'Water', 'Normal', 'Normal', 'Dark', 'Rock', 'Electric', 'Normal', 'Grass', 'Bug', 'Ground', 'Psychic', 'Rock', 'Water', 'Grass', 'Grass', 'Poison', 'Water', 'Electric', 'Fire', 'Fire', 'Ice', 'Psychic', 'Fire', 'Ground', 'Water', 'Water', 'Water', 'Dark', 'Ground', 'Water', 'Bug', 'Rock', 'Ice', 'Bug', 'Water', 'Grass', 'Dragon', 'Normal', 'Water', 'Ground', 'Bug', 'Steel', 'Water', 'Bug', 'Dragon', 'Electric', 'Rock', 'Ice', 'Grass', 'Bug', 'Steel', 'Normal', 'Grass', 'Electric', 'Poison', 'Psychic', 'Electric', 'Electric', 'Grass', 'Bug', 'Bug', 'Fairy', 'Fighting', 'Water', 'Poison', 'Normal', 'Water', 'Normal', 'Ghost', 'Grass', 'Fire', 'Water', 'Electric', 'Bug', 'Normal', 'Dark', 'Water', 'Dragon', 'Bug', 'Fire', 'Water', 'Grass', 'Fairy', 'Dark', 'Electric', 'Grass', 'Bug', 'Normal', 'Rock', 'Poison', 'Poison', 'Rock', 'Water', 'Fire', 'Steel', 'Water', 'Psychic', 'Electric', 'Fairy', 'Grass', 'Grass', 'Grass', 'Normal', 'Normal', 'Rock', 'Dragon', 'Bug', 'Water', 'Normal', 'Dragon', 'Poison', 'Psychic', 'Grass', 'Fire', 'Poison', 'Grass', 'Grass', 'Bug', 'Normal', 'Rock', 'Ice', 'Water', 'Water', 'Poison', 'Dragon', 'Bug', 'Grass', 'Grass', 'Normal', 'Dark', 'Ghost', 'Water', 'Steel', 'Electric', 'Psychic', 'Fighting', 'Poison', 'Normal', 'Psychic', 'Normal', 'Water', 'Bug', 'Dark', 'Normal', 'Bug', 'Fairy', 'Fighting', 'Water', 'Fire', 'Fighting', 'Grass', 'Bug', 'Water', 'Water', 'Normal', 'Normal', 'Normal', 'Dragon', 'Grass', 'Water', 'Normal', 'Bug', 'Water', 'Steel', 'Water', 'Ghost', 'Rock', 'Dark', 'Electric', 'Ground', 'Poison', 'Water', 'Bug', 'Grass', 'Water', 'Bug', 'Normal', 'Poison', 'Psychic', 'Bug', 'Fighting', 'Normal', 'Grass', 'Grass', 'Poison', 'Normal', 'Ground', 'Normal', 'Bug', 'Fairy', 'Bug', 'Steel', 'Rock', 'Water', 'Fire', 'Fire', 'Water', 'Grass', 'Ice', 'Dark', 'Psychic', 'Water', 'Ice', 'Psychic', 'Rock', 'Steel', 'Water', 'Water', 'Bug', 'Normal', 'Dragon', 'Water', 'Electric', 'Ground', 'Normal', 'Bug', 'Dragon', 'Fighting', 'Electric', 'Psychic', 'Fighting', 'Fairy', 'Psychic', 'Water', 'Fire', 'Rock', 'Dark', 'Poison', 'Ice', 'Dragon', 'Normal', 'Dragon', 'Grass', 'Electric', 'Water', 'Psychic', 'Ground', 'Steel', 'Ice', 'Fairy', 'Fighting', 'Water', 'Ground', 'Normal', 'Poison', 'Steel', 'Water', 'Psychic', 'Ground', 'Poison', 'Fighting', 'Psychic', 'Steel', 'Rock', 'Water', 'Psychic', 'Water', 'Ghost', 'Psychic', 'Fighting', 'Bug', 'Bug', 'Grass', 'Normal', 'Ice', 'Dragon', 'Electric', 'Electric', 'Grass', 'Fairy', 'Rock', 'Normal', 'Water', 'Fighting', 'Water', 'Bug', 'Normal', 'Normal', 'Poison', 'Electric', 'Grass', 'Dark', 'Fire', 'Steel', 'Fire', 'Poison', 'Dragon', 'Rock', 'Bug', 'Psychic', 'Grass', 'Normal', 'Bug', 'Ghost', 'Dark', 'Fighting', 'Electric', 'Dragon', 'Dark', 'Normal', 'Fighting', 'Electric', 'Rock', 'Normal', 'Normal', 'Bug', 'Fire', 'Water', 'Normal', 'Ground', 'Bug', 'Fire', 'Bug', 'Water', 'Fire', 'Bug', 'Ghost', 'Bug', 'Steel', 'Ice', 'Normal', 'Water', 'Rock', 'Bug', 'Ghost', 'Ghost', 'Bug', 'Grass', 'Psychic', 'Rock', 'Steel', 'Ghost', 'Electric', 'Electric', 'Water', 'Ground', 'Poison', 'Normal', 'Fighting', 'Dark', 'Fairy', 'Grass', 'Poison', 'Normal', 'Fighting', 'Bug', 'Normal', 'Normal', 'Bug', 'Water', 'Bug', 'Fighting', 'Psychic', 'Water', 'Poison', 'Steel', 'Fighting', 'Psychic', 'Fighting', 'Dragon', 'Bug', 'Fire', 'Psychic', 'Grass', 'Normal', 'Normal', 'Poison', 'Bug', 'Water', 'Ground', 'Bug', 'Water', 'Psychic', 'Normal', 'Steel', 'Rock', 'Dragon', 'Grass', 'Grass', 'Water', 'Fighting', 'Ground', 'Fairy', 'Normal', 'Grass', 'Electric', 'Water', 'Fighting', 'Rock', 'Fire', 'Rock', 'Rock', 'Water', 'Grass', 'Fighting', 'Water', 'Bug', 'Bug', 'Grass'])\n"
   ]
  },
  {
   "cell_type": "code",
   "execution_count": 49,
   "metadata": {},
   "outputs": [
    {
     "name": "stdout",
     "output_type": "stream",
     "text": [
      "Counter({'Water': 66, 'Normal': 64, 'Bug': 51, 'Grass': 47, 'Psychic': 31, 'Rock': 29, 'Fire': 27, 'Electric': 25, 'Ground': 23, 'Fighting': 23, 'Poison': 22, 'Steel': 18, 'Ice': 16, 'Fairy': 16, 'Dragon': 16, 'Ghost': 13, 'Dark': 13}) \n",
      "\n",
      "Counter({5: 122, 3: 103, 1: 99, 4: 78, 2: 51, 6: 47}) \n",
      "\n",
      "Counter({'S': 83, 'C': 46, 'D': 33, 'M': 32, 'L': 29, 'G': 29, 'B': 28, 'P': 23, 'A': 22, 'K': 20, 'E': 19, 'W': 19, 'T': 19, 'F': 18, 'H': 15, 'R': 14, 'N': 13, 'V': 10, 'Z': 8, 'J': 7, 'I': 4, 'O': 3, 'Y': 3, 'U': 2, 'X': 1})\n"
     ]
    }
   ],
   "source": [
    "from collections import Counter\n",
    "\n",
    "# Collect the count of primary types\n",
    "type_count = Counter(primary_types)\n",
    "print(type_count, '\\n')\n",
    "\n",
    "# Collect the count of generations\n",
    "gen_count = Counter(generations)\n",
    "print(gen_count, '\\n')\n",
    "\n",
    "# Use list comprehension to get each Pokémon's starting letter\n",
    "starting_letters = [name[0] for name in names]\n",
    "\n",
    "# Collect the count of Pokémon for each starting_letter\n",
    "starting_letters_count = Counter(starting_letters)\n",
    "print(starting_letters_count)"
   ]
  },
  {
   "cell_type": "markdown",
   "metadata": {},
   "source": [
    "-  You used Counter from the collections module to better understand the sample of 500 Pokémon that was generated. The sample's most common Pokémon type was 'Water' and the sample's least common Pokémon types were 'Ghost' and 'Dark'. Did you also notice that most of the Pokémon in the sample came from generation 5 and had a starting letter of 'S'?"
   ]
  },
  {
   "cell_type": "markdown",
   "metadata": {},
   "source": [
    "## Combinations"
   ]
  },
  {
   "cell_type": "code",
   "execution_count": 50,
   "metadata": {},
   "outputs": [
    {
     "name": "stdout",
     "output_type": "stream",
     "text": [
      "<class 'itertools.combinations'> \n",
      "\n",
      "[('Geodude', 'Cubone'), ('Geodude', 'Lickitung'), ('Geodude', 'Persian'), ('Geodude', 'Diglett'), ('Cubone', 'Lickitung'), ('Cubone', 'Persian'), ('Cubone', 'Diglett'), ('Lickitung', 'Persian'), ('Lickitung', 'Diglett'), ('Persian', 'Diglett')] \n",
      "\n",
      "[('Geodude', 'Cubone', 'Lickitung', 'Persian'), ('Geodude', 'Cubone', 'Lickitung', 'Diglett'), ('Geodude', 'Cubone', 'Persian', 'Diglett'), ('Geodude', 'Lickitung', 'Persian', 'Diglett'), ('Cubone', 'Lickitung', 'Persian', 'Diglett')]\n"
     ]
    }
   ],
   "source": [
    "pokemon = np.array(['Geodude', 'Cubone', 'Lickitung', 'Persian', 'Diglett'])\n",
    "\n",
    "# Import combinations from itertools\n",
    "from itertools import combinations\n",
    "\n",
    "# Create a combination object with pairs of Pokémon\n",
    "combos_obj = combinations(pokemon, 2)\n",
    "print(type(combos_obj), '\\n')\n",
    "\n",
    "# Convert combos_obj to a list by unpacking\n",
    "combos_2 = [*combos_obj]\n",
    "print(combos_2, '\\n')\n",
    "\n",
    "# Collect all possible combinations of 4 Pokémon directly into a list\n",
    "combos_4 = [*combinations(pokemon,4)]\n",
    "print(combos_4)"
   ]
  },
  {
   "cell_type": "markdown",
   "metadata": {},
   "source": [
    "- You used combinations() from itertools to collect various combination-tuples from a list. combinations() allows you to specify any size of combinations by passing an integer as the second argument. Ash has 10 combination options when his Pokédex can store only two Pokémon. He has 5 combination options when his Pokédex can store four Pokémon."
   ]
  },
  {
   "cell_type": "markdown",
   "metadata": {},
   "source": [
    "## Set theory\n",
    "\n",
    "\n",
    "<img src = './Images/Py-1.png' width = 400 align = \"left\">"
   ]
  },
  {
   "cell_type": "code",
   "execution_count": 52,
   "metadata": {},
   "outputs": [],
   "source": [
    "ash_pokedex  = ['Pikachu', 'Bulbasaur', 'Koffing', 'Spearow', 'Vulpix', 'Wigglytuff', 'Zubat', 'Rattata', 'Psyduck', 'Squirtle'] \n",
    "\n",
    "misty_pokedex =  ['Krabby', 'Horsea', 'Slowbro', 'Tentacool', 'Vaporeon', 'Magikarp', 'Poliwag', 'Starmie', 'Psyduck', 'Squirtle']\n",
    "    "
   ]
  },
  {
   "cell_type": "code",
   "execution_count": 53,
   "metadata": {},
   "outputs": [
    {
     "name": "stdout",
     "output_type": "stream",
     "text": [
      "{'Squirtle', 'Psyduck'}\n",
      "{'Wigglytuff', 'Bulbasaur', 'Spearow', 'Rattata', 'Pikachu', 'Zubat', 'Koffing', 'Vulpix'}\n",
      "{'Wigglytuff', 'Poliwag', 'Krabby', 'Bulbasaur', 'Starmie', 'Vaporeon', 'Tentacool', 'Spearow', 'Rattata', 'Horsea', 'Pikachu', 'Magikarp', 'Slowbro', 'Zubat', 'Koffing', 'Vulpix'}\n"
     ]
    }
   ],
   "source": [
    "# Convert both lists to sets\n",
    "ash_set = set(ash_pokedex)\n",
    "misty_set = set(misty_pokedex)\n",
    "\n",
    "# Find the Pokémon that exist in both sets\n",
    "both = ash_set.intersection(misty_set)\n",
    "print(both)\n",
    "\n",
    "# Find the Pokémon that Ash has and Misty does not have\n",
    "ash_only = ash_set.difference(misty_set)\n",
    "print(ash_only)\n",
    "\n",
    "# Find the Pokémon that are in only one set (not both)\n",
    "unique_to_set = ash_set.symmetric_difference(misty_set)\n",
    "print(unique_to_set)"
   ]
  },
  {
   "cell_type": "markdown",
   "metadata": {},
   "source": [
    "-  Using sets lets you do some cool comparisons between objects without the need to write a for loop. With a few lines of code, you were able to see that both Ash and Misty have 'Psyduck' and 'Squirtle' in their Pokédex. You were also able to see that Ash has 8 Pokémon that Misty does not have."
   ]
  },
  {
   "cell_type": "markdown",
   "metadata": {},
   "source": [
    "## Searching"
   ]
  },
  {
   "cell_type": "code",
   "execution_count": 59,
   "metadata": {},
   "outputs": [],
   "source": [
    "ash_pokedex = ['Pikachu', 'Bulbasaur', 'Koffing', 'Spearow', 'Vulpix', 'Wigglytuff', 'Zubat', 'Rattata', 'Psyduck', 'Squirtle']\n",
    "brock_pokedex = ['Onix', 'Geodude', 'Zubat', 'Golem', 'Vulpix', 'Tauros', 'Kabutops', 'Omastar', 'Machop', 'Dugtrio']\n"
   ]
  },
  {
   "cell_type": "code",
   "execution_count": 60,
   "metadata": {},
   "outputs": [
    {
     "name": "stdout",
     "output_type": "stream",
     "text": [
      "{'Golem', 'Tauros', 'Machop', 'Kabutops', 'Geodude', 'Dugtrio', 'Omastar', 'Zubat', 'Onix', 'Vulpix'}\n",
      "True\n",
      "False\n",
      "False\n",
      "True\n"
     ]
    }
   ],
   "source": [
    "# Convert Brock's Pokédex to a set\n",
    "brock_pokedex_set = set(brock_pokedex)\n",
    "print(brock_pokedex_set)\n",
    "\n",
    "# Check if Psyduck is in Ash's list and Brock's set\n",
    "print('Psyduck' in ash_pokedex)\n",
    "print('Psyduck' in brock_pokedex_set)\n",
    "\n",
    "# Check if Machop is in Ash's list and Brock's set\n",
    "print('Machop' in ash_pokedex)\n",
    "print('Machop' in brock_pokedex_set)"
   ]
  },
  {
   "cell_type": "code",
   "execution_count": 61,
   "metadata": {},
   "outputs": [
    {
     "name": "stdout",
     "output_type": "stream",
     "text": [
      "106 ns ± 0.608 ns per loop (mean ± std. dev. of 7 runs, 10000000 loops each)\n",
      "29 ns ± 0.365 ns per loop (mean ± std. dev. of 7 runs, 10000000 loops each)\n",
      "118 ns ± 1.51 ns per loop (mean ± std. dev. of 7 runs, 10000000 loops each)\n",
      "28.8 ns ± 0.251 ns per loop (mean ± std. dev. of 7 runs, 10000000 loops each)\n"
     ]
    }
   ],
   "source": [
    "%timeit 'Psyduck' in ash_pokedex\n",
    "%timeit 'Psyduck' in brock_pokedex_set\n",
    "\n",
    "%timeit 'Machop' in ash_pokedex\n",
    "%timeit 'Machop' in brock_pokedex_set"
   ]
  },
  {
   "cell_type": "markdown",
   "metadata": {},
   "source": [
    "-  Membership testing is much faster when you use sets. Did you notice that using a set for member testing is faster than using a list regardless if the item you are checking is in the set? Checking for 'Psyduck' (which was not in Brock's set) is still faster than checking for 'Psyduck' in Ash's list!"
   ]
  },
  {
   "cell_type": "markdown",
   "metadata": {},
   "source": [
    "## Gathering unique"
   ]
  },
  {
   "cell_type": "code",
   "execution_count": 63,
   "metadata": {},
   "outputs": [],
   "source": [
    "# data required\n",
    "names = ['Forretress', 'WormadamSandy Cloak', 'Croagunk', 'Mime Jr.', 'Camerupt', 'Alomomola', 'Munchlax', 'Tauros', 'Victini', 'Salamence', 'Flygon', 'Cottonee', 'Pachirisu', 'Caterpie', 'Avalugg', 'Beldum', 'Foongus', 'Zigzagoon', 'Buizel', 'Octillery', 'Seviper', 'Charmeleon', 'Torkoal', 'Doublade', 'Grovyle', 'Maractus', 'Tynamo', 'Magikarp', 'Beautifly', 'Parasect', 'Frogadier', 'Clefairy', 'Doduo', 'Aggron', 'Conkeldurr', 'Volbeat', 'Whimsicott', 'Sentret', 'Lairon', 'Jirachi', 'Cloyster', 'Dragalge', 'Hitmonlee', 'Gothitelle', 'Delphox', 'Magmortar', 'Talonflame', 'Victini', 'Feebas', 'Rampardos', 'Marowak', 'Pelipper', 'Espurr', 'MeowsticMale', 'Stunfisk', 'Cascoon', 'Metang', 'Scizor', 'Chimecho', 'Anorith', 'Heatmor', 'Shieldon', 'Doduo', 'Mesprit', 'Nidoran♀', 'Wartortle', 'Wooper', 'Mr. Mime', 'Mightyena', 'Mankey', 'Golbat', 'Azurill', 'Bagon', 'Leafeon', 'Electivire', 'Milotic', 'Elekid', 'Chimecho', 'Delphox', 'Gabite', 'Scizor', 'Budew', 'Haxorus', 'Porygon-Z', 'Beldum', 'Torterra', 'Volcanion', 'Chimecho', 'Pidove', 'Entei', 'WormadamPlant Cloak', 'Azelf', 'Galvantula', 'Tirtouga', 'Gible', 'Primeape', 'Zweilous', 'Shellder', 'Ho-oh', 'Emboar', 'Rotom', 'Solosis', 'Vigoroth', 'Frogadier', 'Ampharos', 'Gastly', 'Riolu', 'Doublade', 'Kirlia', 'Lickitung', 'Aromatisse', 'Mandibuzz', 'Happiny', 'Chandelure', 'Gorebyss', 'Barboach', 'Eevee', 'Ho-oh', 'Duosion', 'Sewaddle', 'Hippopotas', 'Seaking', 'Butterfree', 'Mew', 'Bronzor', 'Suicune', 'Herdier', 'Xerneas', 'Mareep', 'Slakoth', 'Uxie', 'Samurott', 'Dewgong', 'Togekiss', 'Pichu', 'Vanillish', 'Zapdos', 'Floette', 'Fletchling', 'Vigoroth', 'Umbreon', 'Conkeldurr', 'Phantump', 'Shellder', 'WormadamTrash Cloak', 'Rampardos', 'Electabuzz', 'Clawitzer', 'Dedenne', 'Regigigas', 'Xatu', 'Wartortle', 'Growlithe', 'Gulpin', 'Weezing', 'Starly', 'Scraggy', 'Skrelp', 'Wynaut', 'Carvanha', 'Solrock', 'Heatmor', 'KyogrePrimal Kyogre', 'Swinub', 'Mothim', 'Eelektrik', 'Yanma', 'Piplup', 'Chespin', 'Shellos', 'Cradily', 'Chatot', 'Burmy', 'Groudon', 'Inkay', 'Azumarill', 'Spinarak', 'Surskit', 'Azelf', 'Chandelure', 'Ariados', 'Gloom', 'Toxicroak', 'Teddiursa', 'Forretress', 'Onix', 'Musharna', 'Carbink', 'Phantump', 'Ledyba', 'Escavalier', 'Misdreavus', 'Nuzleaf', 'Drilbur', 'Staravia', 'Garbodor', 'Slakoth', 'Glalie', 'Minccino', 'Cottonee', 'Feraligatr', 'Munna', 'Ditto', 'Feraligatr', 'Igglybuff', 'Electrike', 'Tropius', 'Muk', 'Froslass', 'Huntail', 'Pidove', 'Shellder', 'Regice', 'Sealeo', 'Chinchou', 'Absol', 'Skrelp', 'Volcarona', 'Minun', 'Magnezone', 'Feraligatr', 'Marowak', 'Mantine', 'Shelmet', 'Abra', 'Musharna', 'Chespin', 'Victreebel', 'Sudowoodo', 'Grotle', 'Hawlucha', 'Ivysaur', 'Mew', 'Hawlucha', 'Porygon', 'Qwilfish', 'Skrelp', 'Natu', 'Clefable', 'Anorith', 'RotomWash Rotom', 'Swoobat', 'Floette', 'Corsola', 'Marowak', 'Glalie', 'Buneary', 'Zweilous', 'Arceus', 'Ponyta', 'Sandslash', 'Dugtrio', 'Kingler', 'Breloom', 'Lilligant', 'Entei', 'Carbink', 'Audino', 'Dewott', 'Golem', 'Victreebel', 'Shiftry', 'Swirlix', 'Caterpie', 'Krabby', 'Nosepass', 'Roggenrola', 'Gligar', 'Sceptile', 'Sunflora', 'Leavanny', 'Froakie', 'Girafarig', 'Exeggcute', 'Simipour', 'Archeops', 'Kadabra', 'Chikorita', 'Chansey', 'Onix', 'Cottonee', 'Muk', 'Chimecho', 'Victini', 'Gastrodon', 'Cradily', 'Exeggcute', 'Celebi', 'Eelektross', 'Sliggoo', 'Haunter', 'Bouffalant', 'Crobat', 'Solrock', 'Whismur', 'Sudowoodo', 'Durant', 'Articuno', 'Minun', 'Rhyperior', 'Ho-oh', 'Electrode', 'Lombre', 'Mesprit', 'Goodra', 'Numel', 'Castform', 'Drifblim', 'Bastiodon', 'Helioptile', 'Aggron', 'Scolipede', 'Sandslash', 'Cherrim', 'Mantyke', 'Golduck', 'Wingull', 'Froslass', 'Seismitoad', 'Manaphy', 'Jynx', 'Gallade', 'Karrablast', 'Rampardos', 'Haxorus', 'Sandshrew', 'Bayleef', 'Ludicolo', 'Blitzle', 'Venonat', 'Chingling', 'Flygon', 'Raticate', 'Espeon', 'Lileep', 'Durant', 'Surskit', 'Wynaut', 'Slowking', 'Abomasnow', 'Larvesta', 'Registeel', 'Hoppip', 'Drilbur', 'Aggron', 'Murkrow', 'Fennekin', 'Archen', 'Klink', 'Pignite', 'Golduck', 'Sableye', 'Wartortle', 'Sliggoo', 'Trapinch', 'Vanilluxe', 'Gengar', 'Carracosta', 'Espurr', 'Golett', 'Tropius', 'Weepinbell', 'Krabby', 'Talonflame', 'Hippopotas', 'Simisear', 'Slowbro', 'Manectric', 'Lugia', 'Gligar', 'Claydol', 'Tangela', 'Duskull', 'Buneary', 'Altaria', 'Cryogonal', 'Elekid', 'Toxicroak', 'Zapdos', 'Ralts', 'KyogrePrimal Kyogre', \"Farfetch'd\", 'Duskull', 'Mesprit', 'Mightyena', 'Manaphy', 'Zebstrika', 'Vileplume', 'Smeargle', 'Ludicolo', 'Numel', 'Snover', 'Totodile', 'Reuniclus', 'Panpour', 'Pyroar', 'Qwilfish', 'Manaphy', 'Tyranitar', 'Kyurem', 'Honchkrow', 'Tympole', 'Azurill', 'Pikachu', 'Forretress', 'Marshtomp', 'Persian', 'Gigalith', 'Clamperl', 'Poliwag', 'Reuniclus', 'Kricketot', 'Exeggcute', 'Infernape', 'Chingling', 'Gulpin', 'Yveltal', 'Porygon-Z', 'Cascoon', 'Donphan', 'Duosion', 'Natu', 'Lombre', 'Phantump', 'Spheal', 'Corsola', 'Bastiodon', 'Spritzee', 'Nincada', 'Beheeyem', 'Quagsire', 'Combusken', 'Vespiquen', 'DarmanitanStandard Mode', 'Scizor', 'Swanna', 'Pidgeotto', 'Cradily', 'Blissey', 'Clefable', 'Numel', 'Virizion', 'Chesnaught', 'Yamask', 'Burmy', 'Butterfree', 'Garchomp', 'Masquerain', 'Ursaring', 'Servine', 'Infernape', 'Ludicolo', 'Gastrodon', 'Ducklett', 'Bergmite', 'Espurr', 'Moltres', 'Butterfree', 'Arcanine', 'Chansey', 'Chespin', 'Snover', 'Shroomish', 'Mightyena', 'Swoobat', 'Grumpig', 'Bellsprout', 'Cyndaquil', 'Gabite', 'Bibarel', 'Zorua', 'WormadamPlant Cloak', 'Roggenrola', 'Arcanine', 'Slakoth', 'Dewott', 'Scizor', 'Crawdaunt', 'Fearow', 'Buizel', 'Tentacruel', 'Azumarill', 'Espeon', 'Watchog', 'Staravia', 'Amaura', 'Exeggutor', 'Gible', 'Marowak', 'Ekans', 'Bastiodon', 'Shelgon', 'Roserade', 'Scrafty', 'Machamp', 'Shuppet', 'Mawile', 'Boldore', 'Krookodile', 'Sudowoodo']\n",
    "primary_types = ['Bug', 'Bug', 'Poison', 'Psychic', 'Fire', 'Water', 'Normal', 'Normal', 'Psychic', 'Dragon', 'Ground', 'Grass', 'Electric', 'Bug', 'Ice', 'Steel', 'Grass', 'Normal', 'Water', 'Water', 'Poison', 'Fire', 'Fire', 'Steel', 'Grass', 'Grass', 'Electric', 'Water', 'Bug', 'Bug', 'Water', 'Fairy', 'Normal', 'Steel', 'Fighting', 'Bug', 'Grass', 'Normal', 'Steel', 'Steel', 'Water', 'Poison', 'Fighting', 'Psychic', 'Fire', 'Fire', 'Fire', 'Psychic', 'Water', 'Rock', 'Ground', 'Water', 'Psychic', 'Psychic', 'Ground', 'Bug', 'Steel', 'Bug', 'Psychic', 'Rock', 'Fire', 'Rock', 'Normal', 'Psychic', 'Poison', 'Water', 'Water', 'Psychic', 'Dark', 'Fighting', 'Poison', 'Normal', 'Dragon', 'Grass', 'Electric', 'Water', 'Electric', 'Psychic', 'Fire', 'Dragon', 'Bug', 'Grass', 'Dragon', 'Normal', 'Steel', 'Grass', 'Fire', 'Psychic', 'Normal', 'Fire', 'Bug', 'Psychic', 'Bug', 'Water', 'Dragon', 'Fighting', 'Dark', 'Water', 'Fire', 'Fire', 'Electric', 'Psychic', 'Normal', 'Water', 'Electric', 'Ghost', 'Fighting', 'Steel', 'Psychic', 'Normal', 'Fairy', 'Dark', 'Normal', 'Ghost', 'Water', 'Water', 'Normal', 'Fire', 'Psychic', 'Bug', 'Ground', 'Water', 'Bug', 'Psychic', 'Steel', 'Water', 'Normal', 'Fairy', 'Electric', 'Normal', 'Psychic', 'Water', 'Water', 'Fairy', 'Electric', 'Ice', 'Electric', 'Fairy', 'Normal', 'Normal', 'Dark', 'Fighting', 'Ghost', 'Water', 'Bug', 'Rock', 'Electric', 'Water', 'Electric', 'Normal', 'Psychic', 'Water', 'Fire', 'Poison', 'Poison', 'Normal', 'Dark', 'Poison', 'Psychic', 'Water', 'Rock', 'Fire', 'Water', 'Ice', 'Bug', 'Electric', 'Bug', 'Water', 'Grass', 'Water', 'Rock', 'Normal', 'Bug', 'Ground', 'Dark', 'Water', 'Bug', 'Bug', 'Psychic', 'Ghost', 'Bug', 'Grass', 'Poison', 'Normal', 'Bug', 'Rock', 'Psychic', 'Rock', 'Ghost', 'Bug', 'Bug', 'Ghost', 'Grass', 'Ground', 'Normal', 'Poison', 'Normal', 'Ice', 'Normal', 'Grass', 'Water', 'Psychic', 'Normal', 'Water', 'Normal', 'Electric', 'Grass', 'Poison', 'Ice', 'Water', 'Normal', 'Water', 'Ice', 'Ice', 'Water', 'Dark', 'Poison', 'Bug', 'Electric', 'Electric', 'Water', 'Ground', 'Water', 'Bug', 'Psychic', 'Psychic', 'Grass', 'Grass', 'Rock', 'Grass', 'Fighting', 'Grass', 'Psychic', 'Fighting', 'Normal', 'Water', 'Poison', 'Psychic', 'Fairy', 'Rock', 'Electric', 'Psychic', 'Fairy', 'Water', 'Ground', 'Ice', 'Normal', 'Dark', 'Normal', 'Fire', 'Ground', 'Ground', 'Water', 'Grass', 'Grass', 'Fire', 'Rock', 'Normal', 'Water', 'Rock', 'Grass', 'Grass', 'Fairy', 'Bug', 'Water', 'Rock', 'Rock', 'Ground', 'Grass', 'Grass', 'Bug', 'Water', 'Normal', 'Grass', 'Water', 'Rock', 'Psychic', 'Grass', 'Normal', 'Rock', 'Grass', 'Poison', 'Psychic', 'Psychic', 'Water', 'Rock', 'Grass', 'Psychic', 'Electric', 'Dragon', 'Ghost', 'Normal', 'Poison', 'Rock', 'Normal', 'Rock', 'Bug', 'Ice', 'Electric', 'Ground', 'Fire', 'Electric', 'Water', 'Psychic', 'Dragon', 'Fire', 'Normal', 'Ghost', 'Rock', 'Electric', 'Steel', 'Bug', 'Ground', 'Grass', 'Water', 'Water', 'Water', 'Ice', 'Water', 'Water', 'Ice', 'Psychic', 'Bug', 'Rock', 'Dragon', 'Ground', 'Grass', 'Water', 'Electric', 'Bug', 'Psychic', 'Ground', 'Normal', 'Psychic', 'Rock', 'Bug', 'Bug', 'Psychic', 'Water', 'Grass', 'Bug', 'Steel', 'Grass', 'Ground', 'Steel', 'Dark', 'Fire', 'Rock', 'Steel', 'Fire', 'Water', 'Dark', 'Water', 'Dragon', 'Ground', 'Ice', 'Ghost', 'Water', 'Psychic', 'Ground', 'Grass', 'Grass', 'Water', 'Fire', 'Ground', 'Fire', 'Water', 'Electric', 'Psychic', 'Ground', 'Ground', 'Grass', 'Ghost', 'Normal', 'Dragon', 'Ice', 'Electric', 'Poison', 'Electric', 'Psychic', 'Water', 'Normal', 'Ghost', 'Psychic', 'Dark', 'Water', 'Electric', 'Grass', 'Normal', 'Water', 'Fire', 'Grass', 'Water', 'Psychic', 'Water', 'Fire', 'Water', 'Water', 'Rock', 'Dragon', 'Dark', 'Water', 'Normal', 'Electric', 'Bug', 'Water', 'Normal', 'Rock', 'Water', 'Water', 'Psychic', 'Bug', 'Grass', 'Fire', 'Psychic', 'Poison', 'Dark', 'Normal', 'Bug', 'Ground', 'Psychic', 'Psychic', 'Water', 'Ghost', 'Ice', 'Water', 'Rock', 'Fairy', 'Bug', 'Psychic', 'Water', 'Fire', 'Bug', 'Fire', 'Bug', 'Water', 'Normal', 'Rock', 'Normal', 'Fairy', 'Fire', 'Grass', 'Grass', 'Ghost', 'Bug', 'Bug', 'Dragon', 'Bug', 'Normal', 'Grass', 'Fire', 'Water', 'Water', 'Water', 'Ice', 'Psychic', 'Fire', 'Bug', 'Fire', 'Normal', 'Grass', 'Grass', 'Grass', 'Dark', 'Psychic', 'Psychic', 'Grass', 'Fire', 'Dragon', 'Normal', 'Dark', 'Bug', 'Rock', 'Fire', 'Normal', 'Water', 'Bug', 'Water', 'Normal', 'Water', 'Water', 'Water', 'Psychic', 'Normal', 'Normal', 'Rock', 'Grass', 'Dragon', 'Ground', 'Poison', 'Rock', 'Dragon', 'Grass', 'Dark', 'Fighting', 'Ghost', 'Steel', 'Rock', 'Ground', 'Rock']\n",
    "generations = [2, 4, 4, 4, 3, 5, 4, 1, 5, 3, 3, 5, 4, 1, 6, 3, 5, 3, 4, 2, 3, 1, 3, 6, 3, 5, 5, 1, 3, 1, 6, 1, 1, 3, 5, 3, 5, 2, 3, 3, 1, 6, 1, 5, 6, 4, 6, 5, 3, 4, 1, 3, 6, 6, 5, 3, 3, 2, 3, 3, 5, 4, 1, 4, 1, 1, 2, 1, 3, 1, 1, 3, 3, 4, 4, 3, 2, 3, 6, 4, 2, 4, 5, 4, 3, 4, 6, 3, 5, 2, 4, 4, 5, 5, 4, 1, 5, 1, 2, 5, 4, 5, 3, 6, 2, 1, 4, 6, 3, 1, 6, 5, 4, 5, 3, 3, 1, 2, 5, 5, 4, 1, 1, 1, 4, 2, 5, 6, 2, 3, 4, 5, 1, 4, 2, 5, 1, 6, 6, 3, 2, 5, 6, 1, 4, 4, 1, 6, 6, 4, 2, 1, 1, 3, 1, 4, 5, 6, 3, 3, 3, 5, 3, 2, 4, 5, 2, 4, 6, 4, 3, 4, 4, 3, 6, 2, 2, 3, 4, 5, 2, 1, 4, 2, 2, 1, 5, 6, 6, 2, 5, 2, 3, 5, 4, 5, 3, 3, 5, 5, 2, 5, 1, 2, 2, 3, 3, 1, 4, 3, 5, 1, 3, 3, 2, 3, 6, 5, 3, 4, 2, 1, 2, 5, 1, 5, 6, 1, 2, 4, 6, 1, 1, 6, 1, 2, 6, 2, 1, 3, 4, 5, 6, 2, 1, 3, 4, 5, 4, 1, 1, 1, 1, 3, 5, 2, 6, 5, 5, 1, 1, 3, 6, 1, 1, 3, 5, 2, 3, 2, 5, 6, 2, 1, 5, 5, 1, 2, 1, 1, 5, 1, 3, 5, 4, 3, 1, 2, 5, 6, 1, 5, 2, 3, 3, 2, 5, 1, 3, 4, 2, 1, 3, 4, 6, 3, 3, 4, 4, 6, 3, 5, 1, 4, 4, 1, 3, 4, 5, 4, 1, 4, 5, 4, 5, 1, 2, 3, 5, 1, 4, 3, 1, 2, 3, 5, 3, 3, 2, 4, 5, 3, 2, 5, 3, 2, 6, 5, 5, 5, 1, 3, 1, 6, 3, 5, 1, 5, 6, 5, 3, 1, 1, 6, 4, 5, 1, 3, 2, 2, 3, 1, 3, 4, 3, 5, 2, 4, 1, 3, 3, 1, 3, 4, 3, 4, 5, 1, 2, 3, 3, 4, 2, 5, 5, 6, 2, 4, 2, 5, 4, 5, 3, 1, 2, 3, 1, 5, 3, 1, 5, 4, 1, 4, 4, 3, 6, 4, 3, 2, 5, 2, 3, 6, 3, 2, 4, 6, 3, 5, 2, 3, 4, 5, 2, 5, 1, 3, 2, 1, 3, 5, 6, 5, 4, 1, 4, 3, 2, 5, 4, 3, 4, 5, 6, 6, 1, 1, 1, 1, 6, 4, 3, 3, 5, 3, 1, 2, 4, 4, 5, 4, 5, 1, 3, 5, 2, 3, 1, 4, 1, 2, 2, 5, 4, 6, 1, 4, 1, 1, 4, 3, 4, 5, 1, 3, 3, 5, 5, 2]\n",
    "\n",
    "# function required\n",
    "def find_unique_items(data):\n",
    "    uniques = []\n",
    "\n",
    "    for item in data:\n",
    "        if item not in uniques:\n",
    "            uniques.append(item)\n",
    "\n",
    "    return uniques\n"
   ]
  },
  {
   "cell_type": "code",
   "execution_count": 64,
   "metadata": {},
   "outputs": [
    {
     "name": "stdout",
     "output_type": "stream",
     "text": [
      "368\n",
      "368\n",
      "True\n"
     ]
    }
   ],
   "source": [
    "# Use find_unique_items() to collect unique Pokémon names\n",
    "uniq_names_func = find_unique_items(names)\n",
    "print(len(uniq_names_func))\n",
    "\n",
    "# Convert the names list to a set to collect unique Pokémon names\n",
    "uniq_names_set = set(names)\n",
    "print(len(uniq_names_set))\n",
    "\n",
    "# Check that both unique collections are equivalent\n",
    "print(sorted(uniq_names_func) == sorted(uniq_names_set))\n",
    "\n",
    "# Use the best approach to collect unique primary types and generations\n",
    "uniq_types = set(primary_types) \n",
    "uniq_gens = set(generations)\n",
    "print(uniq_types, uniq_gens, sep='\\n') "
   ]
  },
  {
   "cell_type": "code",
   "execution_count": 65,
   "metadata": {},
   "outputs": [
    {
     "name": "stdout",
     "output_type": "stream",
     "text": [
      "881 µs ± 12.4 µs per loop (mean ± std. dev. of 7 runs, 1000 loops each)\n",
      "6.81 µs ± 130 ns per loop (mean ± std. dev. of 7 runs, 100000 loops each)\n"
     ]
    }
   ],
   "source": [
    "%timeit find_unique_items(names)\n",
    "%timeit set(names)"
   ]
  },
  {
   "cell_type": "markdown",
   "metadata": {},
   "source": [
    "- Using a set data type to collect unique values is much faster than using a for loop (like in the find_unique_items() function). Since a set is defined as a collection of distinct elements, it is an efficient way to collect unique items from an existing object. Here you took advantage of a set to find the distinct Pokémon from the sample (eliminating duplicate Pokémon) and saw what unique Pokémon types and generations were included in the sample."
   ]
  },
  {
   "cell_type": "markdown",
   "metadata": {},
   "source": [
    "## Eliminating loops"
   ]
  },
  {
   "cell_type": "code",
   "execution_count": 2,
   "metadata": {},
   "outputs": [],
   "source": [
    "poke_names = ['Abomasnow', 'Abra', 'Absol', 'Accelgor', 'Aerodactyl', 'Aggron', 'Aipom', 'Alakazam', 'Alomomola', 'Altaria', 'Amaura', 'Ambipom', 'Amoonguss', 'Ampharos', 'Anorith', 'Arbok', 'Arcanine', 'Arceus', 'Archen', 'Archeops', 'Ariados', 'Armaldo', 'Aromatisse', 'Aron', 'Articuno', 'Audino', 'Aurorus', 'Avalugg', 'Axew', 'Azelf', 'Azumarill', 'Azurill', 'Bagon', 'Baltoy', 'Banette', 'Barbaracle', 'Barboach', 'Basculin', 'Bastiodon', 'Bayleef', 'Beartic', 'Beautifly', 'Beedrill', 'Beheeyem', 'Beldum', 'Bellossom', 'Bellsprout', 'Bergmite', 'Bibarel', 'Bidoof', 'Binacle', 'Bisharp', 'Blastoise', 'Blaziken', 'Blissey', 'Blitzle', 'Boldore', 'Bonsly', 'Bouffalant', 'Braixen', 'Braviary', 'Breloom', 'Bronzong', 'Bronzor', 'Budew', 'Buizel', 'Bulbasaur', 'Buneary', 'Bunnelby', 'Burmy', 'Butterfree', 'Cacnea', 'Cacturne', 'Camerupt', 'Carbink', 'Carnivine', 'Carracosta', 'Carvanha', 'Cascoon', 'Castform', 'Caterpie', 'Celebi', 'Chandelure', 'Chansey', 'Charizard', 'Charmander', 'Charmeleon', 'Chatot', 'Cherrim', 'Cherubi', 'Chesnaught', 'Chespin', 'Chikorita', 'Chimchar', 'Chimecho', 'Chinchou', 'Chingling', 'Cinccino', 'Clamperl', 'Clauncher', 'Clawitzer', 'Claydol', 'Clefable', 'Clefairy', 'Cleffa', 'Cloyster', 'Cobalion', 'Cofagrigus', 'Combee', 'Combusken', 'Conkeldurr', 'Corphish', 'Corsola', 'Cottonee', 'Cradily', 'Cranidos', 'Crawdaunt', 'Cresselia', 'Croagunk', 'Crobat', 'Croconaw', 'Crustle', 'Cryogonal', 'Cubchoo', 'Cubone', 'Cyndaquil', 'Darkrai', 'DarmanitanStandard Mode', 'DarmanitanZen Mode', 'Darumaka', 'Dedenne', 'Deerling', 'Deino', 'Delcatty', 'Delibird', 'Delphox', 'Dewgong', 'Dewott', 'Dialga', 'Diancie', 'Diggersby', 'Diglett', 'Ditto', 'Dodrio', 'Doduo', 'Donphan', 'Doublade', 'Dragalge', 'Dragonair', 'Dragonite', 'Drapion', 'Dratini', 'Drifblim', 'Drifloon', 'Drilbur', 'Drowzee', 'Druddigon', 'Ducklett', 'Dugtrio', 'Dunsparce', 'Duosion', 'Durant', 'Dusclops', 'Dusknoir', 'Duskull', 'Dustox', 'Dwebble', 'Eelektrik', 'Eelektross', 'Eevee', 'Ekans', 'Electabuzz', 'Electivire', 'Electrike', 'Electrode', 'Elekid', 'Elgyem', 'Emboar', 'Emolga', 'Empoleon', 'Entei', 'Escavalier', 'Espeon', 'Espurr', 'Excadrill', 'Exeggcute', 'Exeggutor', 'Exploud', \"Farfetch'd\", 'Fearow', 'Feebas', 'Fennekin', 'Feraligatr', 'Ferroseed', 'Ferrothorn', 'Finneon', 'Flaaffy', 'Flabébé', 'Flareon', 'Fletchinder', 'Fletchling', 'Floatzel', 'Floette', 'Florges', 'Flygon', 'Foongus', 'Forretress', 'Fraxure', 'Frillish', 'Froakie', 'Frogadier', 'Froslass', 'Furfrou', 'Furret', 'Gabite', 'Gallade', 'Galvantula', 'Garbodor', 'Garchomp', 'Gardevoir', 'Gastly', 'Gastrodon', 'Genesect', 'Gengar', 'Geodude', 'Gible', 'Gigalith', 'Girafarig', 'Glaceon', 'Glalie', 'Glameow', 'Gligar', 'Gliscor', 'Gloom', 'Gogoat', 'Golbat', 'Goldeen', 'Golduck', 'Golem', 'Golett', 'Golurk', 'Goodra', 'Goomy', 'Gorebyss', 'Gothita', 'Gothitelle', 'Gothorita', 'Granbull', 'Graveler', 'Greninja', 'Grimer', 'Grotle', 'Groudon', 'GroudonPrimal Groudon', 'Grovyle', 'Growlithe', 'Grumpig', 'Gulpin', 'Gurdurr', 'Gyarados', 'Happiny', 'Hariyama', 'Haunter', 'Hawlucha', 'Haxorus', 'Heatmor', 'Heatran', 'Heliolisk', 'Helioptile', 'Heracross', 'Herdier', 'Hippopotas', 'Hippowdon', 'Hitmonchan', 'Hitmonlee', 'Hitmontop', 'Ho-oh', 'Honchkrow', 'Honedge', 'Hoothoot', 'Hoppip', 'Horsea', 'Houndoom', 'Houndour', 'Huntail', 'Hydreigon', 'Hypno', 'Igglybuff', 'Illumise', 'Infernape', 'Inkay', 'Ivysaur', 'Jellicent', 'Jigglypuff', 'Jirachi', 'Jolteon', 'Joltik', 'Jumpluff', 'Jynx', 'Kabuto', 'Kabutops', 'Kadabra', 'Kakuna', 'Kangaskhan', 'Karrablast', 'Kecleon', 'Kingdra', 'Kingler', 'Kirlia', 'Klang', 'Klefki', 'Klink', 'Klinklang', 'Koffing', 'Krabby', 'Kricketot', 'Kricketune', 'Krokorok', 'Krookodile', 'Kyogre', 'KyogrePrimal Kyogre', 'Kyurem', 'KyuremBlack Kyurem', 'KyuremWhite Kyurem', 'Lairon', 'Lampent', 'Lanturn', 'Lapras', 'Larvesta', 'Larvitar', 'Latias', 'Latios', 'Leafeon', 'Leavanny', 'Ledian', 'Ledyba', 'Lickilicky', 'Lickitung', 'Liepard', 'Lileep', 'Lilligant', 'Lillipup', 'Linoone', 'Litleo', 'Litwick', 'Lombre', 'Lopunny', 'Lotad', 'Loudred', 'Lucario', 'Ludicolo', 'Lugia', 'Lumineon', 'Lunatone', 'Luvdisc', 'Luxio', 'Luxray', 'Machamp', 'Machoke', 'Machop', 'Magby', 'Magcargo', 'Magikarp', 'Magmar', 'Magmortar', 'Magnemite', 'Magneton', 'Magnezone', 'Makuhita', 'Malamar', 'Mamoswine', 'Manaphy', 'Mandibuzz', 'Manectric', 'Mankey', 'Mantine', 'Mantyke', 'Maractus', 'Mareep', 'Marill', 'Marowak', 'Marshtomp', 'Masquerain', 'Mawile', 'Medicham', 'Meditite', 'MeowsticFemale', 'MeowsticMale', 'Meowth', 'Mesprit', 'Metagross', 'Metang', 'Metapod', 'Mew', 'Mewtwo', 'Mienfoo', 'Mienshao', 'Mightyena', 'Milotic', 'Miltank', 'Mime Jr.', 'Minccino', 'Minun', 'Misdreavus', 'Mismagius', 'Moltres', 'Monferno', 'Mothim', 'Mr. Mime', 'Mudkip', 'Muk', 'Munchlax', 'Munna', 'Murkrow', 'Musharna', 'Natu', 'Nidoking', 'Nidoqueen', 'Nidoran♀', 'Nidoran♂', 'Nidorina', 'Nidorino', 'Nincada', 'Ninetales', 'Ninjask', 'Noctowl', 'Noibat', 'Noivern', 'Nosepass', 'Numel', 'Nuzleaf', 'Octillery', 'Oddish', 'Omanyte', 'Omastar', 'Onix', 'Oshawott', 'Pachirisu', 'Palkia', 'Palpitoad', 'Pancham', 'Pangoro', 'Panpour', 'Pansage', 'Pansear', 'Paras', 'Parasect', 'Patrat', 'Pawniard', 'Pelipper', 'Persian', 'Petilil', 'Phanpy', 'Phantump', 'Phione', 'Pichu', 'Pidgeot', 'Pidgeotto', 'Pidgey', 'Pidove', 'Pignite', 'Pikachu', 'Piloswine', 'Pineco', 'Pinsir', 'Piplup', 'Plusle', 'Politoed', 'Poliwag', 'Poliwhirl', 'Poliwrath', 'Ponyta', 'Poochyena', 'Porygon', 'Porygon-Z', 'Porygon2', 'Primeape', 'Prinplup', 'Probopass', 'Psyduck', 'Pupitar', 'Purrloin', 'Purugly', 'Pyroar', 'Quagsire', 'Quilava', 'Quilladin', 'Qwilfish', 'Raichu', 'Raikou', 'Ralts', 'Rampardos', 'Rapidash', 'Raticate', 'Rattata', 'Rayquaza', 'Regice', 'Regigigas', 'Regirock', 'Registeel', 'Relicanth', 'Remoraid', 'Reshiram', 'Reuniclus', 'Rhydon', 'Rhyhorn', 'Rhyperior', 'Riolu', 'Roggenrola', 'Roselia', 'Roserade', 'Rotom', 'RotomFan Rotom', 'RotomFrost Rotom', 'RotomHeat Rotom', 'RotomMow Rotom', 'RotomWash Rotom', 'Rufflet', 'Sableye', 'Salamence', 'Samurott', 'Sandile', 'Sandshrew', 'Sandslash', 'Sawk', 'Sawsbuck', 'Scatterbug', 'Sceptile', 'Scizor', 'Scolipede', 'Scrafty', 'Scraggy', 'Scyther', 'Seadra', 'Seaking', 'Sealeo', 'Seedot', 'Seel', 'Seismitoad', 'Sentret', 'Serperior', 'Servine', 'Seviper', 'Sewaddle', 'Sharpedo', 'Shedinja', 'Shelgon', 'Shellder', 'Shellos', 'Shelmet', 'Shieldon', 'Shiftry', 'Shinx', 'Shroomish', 'Shuckle', 'Shuppet', 'Sigilyph', 'Silcoon', 'Simipour', 'Simisage', 'Simisear', 'Skarmory', 'Skiddo', 'Skiploom', 'Skitty', 'Skorupi', 'Skrelp', 'Skuntank', 'Slaking', 'Slakoth', 'Sliggoo', 'Slowbro', 'Slowking', 'Slowpoke', 'Slugma', 'Slurpuff', 'Smeargle', 'Smoochum', 'Sneasel', 'Snivy', 'Snorlax', 'Snorunt', 'Snover', 'Snubbull', 'Solosis', 'Solrock', 'Spearow', 'Spewpa', 'Spheal', 'Spinarak', 'Spinda', 'Spiritomb', 'Spoink', 'Spritzee', 'Squirtle', 'Stantler', 'Staraptor', 'Staravia', 'Starly', 'Starmie', 'Staryu', 'Steelix', 'Stoutland', 'Stunfisk', 'Stunky', 'Sudowoodo', 'Suicune', 'Sunflora', 'Sunkern', 'Surskit', 'Swablu', 'Swadloon', 'Swalot', 'Swampert', 'Swanna', 'Swellow', 'Swinub', 'Swirlix', 'Swoobat', 'Sylveon', 'Taillow', 'Talonflame', 'Tangela', 'Tangrowth', 'Tauros', 'Teddiursa', 'Tentacool', 'Tentacruel', 'Tepig', 'Terrakion', 'Throh', 'Timburr', 'Tirtouga', 'Togekiss', 'Togepi', 'Togetic', 'Torchic', 'Torkoal', 'Torterra', 'Totodile', 'Toxicroak', 'Tranquill', 'Trapinch', 'Treecko', 'Trevenant', 'Tropius', 'Trubbish', 'Turtwig', 'Tympole', 'Tynamo', 'Typhlosion', 'Tyranitar', 'Tyrantrum', 'Tyrogue', 'Tyrunt', 'Umbreon', 'Unfezant', 'Unown', 'Ursaring', 'Uxie', 'Vanillish', 'Vanillite', 'Vanilluxe', 'Vaporeon', 'Venipede', 'Venomoth', 'Venonat', 'Venusaur', 'Vespiquen', 'Vibrava', 'Victini', 'Victreebel', 'Vigoroth', 'Vileplume', 'Virizion', 'Vivillon', 'Volbeat', 'Volcanion', 'Volcarona', 'Voltorb', 'Vullaby', 'Vulpix', 'Wailmer', 'Wailord', 'Walrein', 'Wartortle', 'Watchog', 'Weavile', 'Weedle', 'Weepinbell', 'Weezing', 'Whimsicott', 'Whirlipede', 'Whiscash', 'Whismur', 'Wigglytuff', 'Wingull', 'Wobbuffet', 'Woobat', 'Wooper', 'WormadamPlant Cloak', 'WormadamSandy Cloak', 'WormadamTrash Cloak', 'Wurmple', 'Wynaut', 'Xatu', 'Xerneas', 'Yamask', 'Yanma', 'Yanmega', 'Yveltal', 'Zangoose', 'Zapdos', 'Zebstrika', 'Zekrom', 'Zigzagoon', 'Zoroark', 'Zorua', 'Zubat', 'Zweilous']\n",
    "poke_gens = [4, 1, 3, 5, 1, 3, 2, 1, 5, 3, 6, 4, 5, 2, 3, 1, 1, 4, 5, 5, 2, 3, 6, 3, 1, 5, 6, 6, 5, 4, 2, 3, 3, 3, 3, 6, 3, 5, 4, 2, 5, 3, 1, 5, 3, 2, 1, 6, 4, 4, 6, 5, 1, 3, 2, 5, 5, 4, 5, 6, 5, 3, 4, 4, 4, 4, 1, 4, 6, 4, 1, 3, 3, 3, 6, 4, 5, 3, 3, 3, 1, 2, 5, 1, 1, 1, 1, 4, 4, 4, 6, 6, 2, 4, 3, 2, 4, 5, 3, 6, 6, 3, 1, 1, 2, 1, 5, 5, 4, 3, 5, 3, 2, 5, 3, 4, 3, 4, 4, 2, 2, 5, 5, 5, 1, 2, 4, 5, 5, 5, 6, 5, 5, 3, 2, 6, 1, 5, 4, 6, 6, 1, 1, 1, 1, 2, 6, 6, 1, 1, 4, 1, 4, 4, 5, 1, 5, 5, 1, 2, 5, 5, 3, 4, 3, 3, 5, 5, 5, 1, 1, 1, 4, 3, 1, 2, 5, 5, 5, 4, 2, 5, 2, 6, 5, 1, 1, 3, 1, 1, 3, 6, 2, 5, 5, 4, 2, 6, 1, 6, 6, 4, 6, 6, 3, 5, 2, 5, 5, 6, 6, 4, 6, 2, 4, 4, 5, 5, 4, 3, 1, 4, 5, 1, 1, 4, 5, 2, 4, 3, 4, 2, 4, 1, 6, 1, 1, 1, 1, 5, 5, 6, 6, 3, 5, 5, 5, 2, 1, 6, 1, 4, 3, 3, 3, 1, 3, 3, 5, 1, 4, 3, 1, 6, 5, 5, 4, 6, 6, 2, 5, 4, 4, 1, 1, 2, 2, 4, 6, 2, 2, 1, 2, 2, 3, 5, 1, 2, 3, 4, 6, 1, 5, 1, 3, 1, 5, 2, 1, 1, 1, 1, 1, 1, 5, 3, 2, 1, 3, 5, 6, 5, 5, 1, 1, 4, 4, 5, 5, 3, 3, 5, 5, 5, 3, 5, 2, 1, 5, 2, 3, 3, 4, 5, 2, 2, 4, 1, 5, 3, 5, 5, 3, 6, 5, 3, 4, 3, 3, 4, 3, 2, 4, 3, 3, 4, 4, 1, 1, 1, 2, 2, 1, 1, 4, 1, 1, 4, 3, 6, 4, 4, 5, 3, 1, 2, 4, 5, 2, 2, 1, 3, 3, 3, 3, 3, 6, 6, 1, 4, 3, 3, 1, 1, 1, 5, 5, 3, 3, 2, 4, 5, 3, 2, 4, 1, 4, 4, 1, 3, 1, 4, 5, 2, 5, 2, 1, 1, 1, 1, 1, 1, 3, 1, 3, 2, 6, 6, 3, 3, 3, 2, 1, 1, 1, 1, 5, 4, 4, 5, 6, 6, 5, 5, 5, 1, 1, 5, 5, 3, 1, 5, 2, 6, 4, 2, 1, 1, 1, 5, 5, 1, 2, 2, 1, 4, 3, 2, 1, 1, 1, 1, 3, 1, 4, 2, 1, 4, 4, 1, 2, 5, 4, 6, 2, 2, 6, 2, 1, 2, 3, 4, 1, 1, 1, 3, 3, 4, 3, 3, 3, 2, 5, 5, 1, 1, 4, 4, 5, 3, 4, 4, 4, 4, 4, 4, 4, 5, 3, 3, 5, 5, 1, 1, 5, 5, 6, 3, 2, 5, 5, 5, 1, 1, 1, 3, 3, 1, 5, 2, 5, 5, 3, 5, 3, 3, 3, 1, 4, 5, 4, 3, 4, 3, 2, 3, 5, 3, 5, 5, 5, 2, 6, 2, 3, 4, 6, 4, 3, 3, 6, 1, 2, 1, 2, 6, 2, 2, 2, 5, 1, 3, 4, 2, 5, 3, 1, 6, 3, 2, 3, 4, 3, 6, 1, 2, 4, 4, 4, 1, 1, 2, 5, 5, 4, 2, 2, 2, 2, 3, 3, 5, 3, 3, 5, 3, 2, 6, 5, 6, 3, 6, 1, 4, 1, 2, 1, 1, 5, 5, 5, 5, 5, 4, 2, 2, 3, 3, 4, 2, 4, 5, 3, 3, 6, 3, 5, 4, 5, 5, 2, 2, 6, 2, 6, 2, 5, 2, 2, 4, 5, 5, 5, 1, 5, 1, 1, 1, 4, 3, 5, 1, 3, 1, 5, 6, 3, 6, 5, 1, 5, 1, 3, 3, 3, 1, 5, 4, 1, 1, 1, 5, 5, 3, 3, 1, 3, 2, 5, 2, 4, 4, 4, 3, 3, 2, 6, 5, 2, 4, 6, 3, 1, 5, 5, 3, 5, 5, 1, 5]\n"
   ]
  },
  {
   "cell_type": "code",
   "execution_count": 4,
   "metadata": {},
   "outputs": [],
   "source": [
    "# A for loop has been created to filter the Pokémon that belong to generation one or two, \n",
    "# and collect the number of letters in each Pokémon's name:\n",
    "gen1_gen2_name_lengths_loop = []\n",
    "\n",
    "for name,gen in zip(poke_names, poke_gens):\n",
    "    if gen < 3:\n",
    "        name_length = len(name)\n",
    "        poke_tuple = (name, name_length)\n",
    "        gen1_gen2_name_lengths_loop.append(poke_tuple)"
   ]
  },
  {
   "cell_type": "code",
   "execution_count": 5,
   "metadata": {},
   "outputs": [
    {
     "name": "stdout",
     "output_type": "stream",
     "text": [
      "[('Abra', 4), ('Aerodactyl', 10), ('Aipom', 5), ('Alakazam', 8), ('Ampharos', 8)]\n",
      "[('Abra', 4), ('Aerodactyl', 10), ('Aipom', 5), ('Alakazam', 8), ('Ampharos', 8)]\n"
     ]
    }
   ],
   "source": [
    "# Collect Pokémon that belong to generation 1 or generation 2\n",
    "gen1_gen2_pokemon = [name for name,gen in zip(poke_names, poke_gens) if gen < 3]\n",
    "\n",
    "# Create a map object that stores the name lengths\n",
    "name_lengths_map = map(len, gen1_gen2_pokemon)\n",
    "\n",
    "# Combine gen1_gen2_pokemon and name_lengths_map into a list\n",
    "gen1_gen2_name_lengths = [*zip(gen1_gen2_pokemon, name_lengths_map)]\n",
    "\n",
    "print(gen1_gen2_name_lengths_loop[:5])\n",
    "print(gen1_gen2_name_lengths[:5])"
   ]
  },
  {
   "cell_type": "markdown",
   "metadata": {},
   "source": [
    "- You successfully used list comprehension and the map() function to eliminate a for loop. If you compared runtimes between the for loop and using list comprehension with a map() function, you'd see that the for loop took quite a bit longer.\n",
    "\n",
    "- If you're an experienced Pythonista, you may have noticed that you could replace the entire for loop with one list comprehension: \n",
    "\n",
    "`[(name, len(name)) for name,gen in zip(poke_names, poke_gens) if gen < 3]`"
   ]
  },
  {
   "cell_type": "markdown",
   "metadata": {},
   "source": [
    "##  Totals and averages without a loop"
   ]
  },
  {
   "cell_type": "code",
   "execution_count": 84,
   "metadata": {},
   "outputs": [],
   "source": [
    "names = ['Abomasnow', 'Abra', 'Absol', 'Accelgor', 'Aerodactyl', 'Aggron', 'Aipom', 'Alakazam', 'Alomomola', 'Altaria', 'Amaura', 'Ambipom', 'Amoonguss', 'Ampharos', 'Anorith', 'Arbok', 'Arcanine', 'Arceus', 'Archen', 'Archeops', 'Ariados', 'Armaldo', 'Aromatisse', 'Aron', 'Articuno', 'Audino', 'Aurorus', 'Avalugg', 'Axew', 'Azelf', 'Azumarill', 'Azurill', 'Bagon', 'Baltoy', 'Banette', 'Barbaracle', 'Barboach', 'Basculin', 'Bastiodon', 'Bayleef', 'Beartic', 'Beautifly', 'Beedrill', 'Beheeyem', 'Beldum', 'Bellossom', 'Bellsprout', 'Bergmite', 'Bibarel', 'Bidoof', 'Binacle', 'Bisharp', 'Blastoise', 'Blaziken', 'Blissey', 'Blitzle', 'Boldore', 'Bonsly', 'Bouffalant', 'Braixen', 'Braviary', 'Breloom', 'Bronzong', 'Bronzor', 'Budew', 'Buizel', 'Bulbasaur', 'Buneary', 'Bunnelby', 'Burmy', 'Butterfree', 'Cacnea', 'Cacturne', 'Camerupt', 'Carbink', 'Carnivine', 'Carracosta', 'Carvanha', 'Cascoon', 'Castform', 'Caterpie', 'Celebi', 'Chandelure', 'Chansey', 'Charizard', 'Charmander', 'Charmeleon', 'Chatot', 'Cherrim', 'Cherubi', 'Chesnaught', 'Chespin', 'Chikorita', 'Chimchar', 'Chimecho', 'Chinchou', 'Chingling', 'Cinccino', 'Clamperl', 'Clauncher', 'Clawitzer', 'Claydol', 'Clefable', 'Clefairy', 'Cleffa', 'Cloyster', 'Cobalion', 'Cofagrigus', 'Combee', 'Combusken', 'Conkeldurr', 'Corphish', 'Corsola', 'Cottonee', 'Cradily', 'Cranidos', 'Crawdaunt', 'Cresselia', 'Croagunk', 'Crobat', 'Croconaw', 'Crustle', 'Cryogonal', 'Cubchoo', 'Cubone', 'Cyndaquil', 'Darkrai', 'DarmanitanStandard Mode', 'DarmanitanZen Mode', 'Darumaka', 'Dedenne', 'Deerling', 'Deino', 'Delcatty', 'Delibird', 'Delphox', 'Dewgong', 'Dewott', 'Dialga', 'Diancie', 'Diggersby', 'Diglett', 'Ditto', 'Dodrio', 'Doduo', 'Donphan', 'Doublade', 'Dragalge', 'Dragonair', 'Dragonite', 'Drapion', 'Dratini', 'Drifblim', 'Drifloon', 'Drilbur', 'Drowzee', 'Druddigon', 'Ducklett', 'Dugtrio', 'Dunsparce', 'Duosion', 'Durant', 'Dusclops', 'Dusknoir', 'Duskull', 'Dustox', 'Dwebble', 'Eelektrik', 'Eelektross', 'Eevee', 'Ekans', 'Electabuzz', 'Electivire', 'Electrike', 'Electrode', 'Elekid', 'Elgyem', 'Emboar', 'Emolga', 'Empoleon', 'Entei', 'Escavalier', 'Espeon', 'Espurr', 'Excadrill', 'Exeggcute', 'Exeggutor', 'Exploud', \"Farfetch'd\", 'Fearow', 'Feebas', 'Fennekin', 'Feraligatr', 'Ferroseed', 'Ferrothorn', 'Finneon', 'Flaaffy', 'Flabébé', 'Flareon', 'Fletchinder', 'Fletchling', 'Floatzel', 'Floette', 'Florges', 'Flygon', 'Foongus', 'Forretress', 'Fraxure', 'Frillish', 'Froakie', 'Frogadier', 'Froslass', 'Furfrou', 'Furret', 'Gabite', 'Gallade', 'Galvantula', 'Garbodor', 'Garchomp', 'Gardevoir', 'Gastly', 'Gastrodon', 'Genesect', 'Gengar', 'Geodude', 'Gible', 'Gigalith', 'Girafarig', 'Glaceon', 'Glalie', 'Glameow', 'Gligar', 'Gliscor', 'Gloom', 'Gogoat', 'Golbat', 'Goldeen', 'Golduck', 'Golem', 'Golett', 'Golurk', 'Goodra', 'Goomy', 'Gorebyss', 'Gothita', 'Gothitelle', 'Gothorita', 'Granbull', 'Graveler', 'Greninja', 'Grimer', 'Grotle', 'Groudon', 'GroudonPrimal Groudon', 'Grovyle', 'Growlithe', 'Grumpig', 'Gulpin', 'Gurdurr', 'Gyarados', 'Happiny', 'Hariyama', 'Haunter', 'Hawlucha', 'Haxorus', 'Heatmor', 'Heatran', 'Heliolisk', 'Helioptile', 'Heracross', 'Herdier', 'Hippopotas', 'Hippowdon', 'Hitmonchan', 'Hitmonlee', 'Hitmontop', 'Ho-oh', 'Honchkrow', 'Honedge', 'Hoothoot', 'Hoppip', 'Horsea', 'Houndoom', 'Houndour', 'Huntail', 'Hydreigon', 'Hypno', 'Igglybuff', 'Illumise', 'Infernape', 'Inkay', 'Ivysaur', 'Jellicent', 'Jigglypuff', 'Jirachi', 'Jolteon', 'Joltik', 'Jumpluff', 'Jynx', 'Kabuto', 'Kabutops', 'Kadabra', 'Kakuna', 'Kangaskhan', 'Karrablast', 'Kecleon', 'Kingdra', 'Kingler', 'Kirlia', 'Klang', 'Klefki', 'Klink', 'Klinklang', 'Koffing', 'Krabby', 'Kricketot', 'Kricketune', 'Krokorok', 'Krookodile', 'Kyogre', 'KyogrePrimal Kyogre', 'Kyurem', 'KyuremBlack Kyurem', 'KyuremWhite Kyurem', 'Lairon', 'Lampent', 'Lanturn', 'Lapras', 'Larvesta', 'Larvitar', 'Latias', 'Latios', 'Leafeon', 'Leavanny', 'Ledian', 'Ledyba', 'Lickilicky', 'Lickitung', 'Liepard', 'Lileep', 'Lilligant', 'Lillipup', 'Linoone', 'Litleo', 'Litwick', 'Lombre', 'Lopunny', 'Lotad', 'Loudred', 'Lucario', 'Ludicolo', 'Lugia', 'Lumineon', 'Lunatone', 'Luvdisc', 'Luxio', 'Luxray', 'Machamp', 'Machoke', 'Machop', 'Magby', 'Magcargo', 'Magikarp', 'Magmar', 'Magmortar', 'Magnemite', 'Magneton', 'Magnezone', 'Makuhita', 'Malamar', 'Mamoswine', 'Manaphy', 'Mandibuzz', 'Manectric', 'Mankey', 'Mantine', 'Mantyke', 'Maractus', 'Mareep', 'Marill', 'Marowak', 'Marshtomp', 'Masquerain', 'Mawile', 'Medicham', 'Meditite', 'MeowsticFemale', 'MeowsticMale', 'Meowth', 'Mesprit', 'Metagross', 'Metang', 'Metapod', 'Mew', 'Mewtwo', 'Mienfoo', 'Mienshao', 'Mightyena', 'Milotic', 'Miltank', 'Mime Jr.', 'Minccino', 'Minun', 'Misdreavus', 'Mismagius', 'Moltres', 'Monferno', 'Mothim', 'Mr. Mime', 'Mudkip', 'Muk', 'Munchlax', 'Munna', 'Murkrow', 'Musharna', 'Natu', 'Nidoking', 'Nidoqueen', 'Nidoran♀', 'Nidoran♂', 'Nidorina', 'Nidorino', 'Nincada', 'Ninetales', 'Ninjask', 'Noctowl', 'Noibat', 'Noivern', 'Nosepass', 'Numel', 'Nuzleaf', 'Octillery', 'Oddish', 'Omanyte', 'Omastar', 'Onix', 'Oshawott', 'Pachirisu', 'Palkia', 'Palpitoad', 'Pancham', 'Pangoro', 'Panpour', 'Pansage', 'Pansear', 'Paras', 'Parasect', 'Patrat', 'Pawniard', 'Pelipper', 'Persian', 'Petilil', 'Phanpy', 'Phantump', 'Phione', 'Pichu', 'Pidgeot', 'Pidgeotto', 'Pidgey', 'Pidove', 'Pignite', 'Pikachu', 'Piloswine', 'Pineco', 'Pinsir', 'Piplup', 'Plusle', 'Politoed', 'Poliwag', 'Poliwhirl', 'Poliwrath', 'Ponyta', 'Poochyena', 'Porygon', 'Porygon-Z', 'Porygon2', 'Primeape', 'Prinplup', 'Probopass', 'Psyduck', 'Pupitar', 'Purrloin', 'Purugly', 'Pyroar', 'Quagsire', 'Quilava', 'Quilladin', 'Qwilfish', 'Raichu', 'Raikou', 'Ralts', 'Rampardos', 'Rapidash', 'Raticate', 'Rattata', 'Rayquaza', 'Regice', 'Regigigas', 'Regirock', 'Registeel', 'Relicanth', 'Remoraid', 'Reshiram', 'Reuniclus', 'Rhydon', 'Rhyhorn', 'Rhyperior', 'Riolu', 'Roggenrola', 'Roselia', 'Roserade', 'Rotom', 'RotomFan Rotom', 'RotomFrost Rotom', 'RotomHeat Rotom', 'RotomMow Rotom', 'RotomWash Rotom', 'Rufflet', 'Sableye', 'Salamence', 'Samurott', 'Sandile', 'Sandshrew', 'Sandslash', 'Sawk', 'Sawsbuck', 'Scatterbug', 'Sceptile', 'Scizor', 'Scolipede', 'Scrafty', 'Scraggy', 'Scyther', 'Seadra', 'Seaking', 'Sealeo', 'Seedot', 'Seel', 'Seismitoad', 'Sentret', 'Serperior', 'Servine', 'Seviper', 'Sewaddle', 'Sharpedo', 'Shedinja', 'Shelgon', 'Shellder', 'Shellos', 'Shelmet', 'Shieldon', 'Shiftry', 'Shinx', 'Shroomish', 'Shuckle', 'Shuppet', 'Sigilyph', 'Silcoon', 'Simipour', 'Simisage', 'Simisear', 'Skarmory', 'Skiddo', 'Skiploom', 'Skitty', 'Skorupi', 'Skrelp', 'Skuntank', 'Slaking', 'Slakoth', 'Sliggoo', 'Slowbro', 'Slowking', 'Slowpoke', 'Slugma', 'Slurpuff', 'Smeargle', 'Smoochum', 'Sneasel', 'Snivy', 'Snorlax', 'Snorunt', 'Snover', 'Snubbull', 'Solosis', 'Solrock', 'Spearow', 'Spewpa', 'Spheal', 'Spinarak', 'Spinda', 'Spiritomb', 'Spoink', 'Spritzee', 'Squirtle', 'Stantler', 'Staraptor', 'Staravia', 'Starly', 'Starmie', 'Staryu', 'Steelix', 'Stoutland', 'Stunfisk', 'Stunky', 'Sudowoodo', 'Suicune', 'Sunflora', 'Sunkern', 'Surskit', 'Swablu', 'Swadloon', 'Swalot', 'Swampert', 'Swanna', 'Swellow', 'Swinub', 'Swirlix', 'Swoobat', 'Sylveon', 'Taillow', 'Talonflame', 'Tangela', 'Tangrowth', 'Tauros', 'Teddiursa', 'Tentacool', 'Tentacruel', 'Tepig', 'Terrakion', 'Throh', 'Timburr', 'Tirtouga', 'Togekiss', 'Togepi', 'Togetic', 'Torchic', 'Torkoal', 'Torterra', 'Totodile', 'Toxicroak', 'Tranquill', 'Trapinch', 'Treecko', 'Trevenant', 'Tropius', 'Trubbish', 'Turtwig', 'Tympole', 'Tynamo', 'Typhlosion', 'Tyranitar', 'Tyrantrum', 'Tyrogue', 'Tyrunt', 'Umbreon', 'Unfezant', 'Unown', 'Ursaring', 'Uxie', 'Vanillish', 'Vanillite', 'Vanilluxe', 'Vaporeon', 'Venipede', 'Venomoth', 'Venonat', 'Venusaur', 'Vespiquen', 'Vibrava', 'Victini', 'Victreebel', 'Vigoroth', 'Vileplume', 'Virizion', 'Vivillon', 'Volbeat', 'Volcanion', 'Volcarona', 'Voltorb', 'Vullaby', 'Vulpix', 'Wailmer', 'Wailord', 'Walrein', 'Wartortle', 'Watchog', 'Weavile', 'Weedle', 'Weepinbell', 'Weezing', 'Whimsicott', 'Whirlipede', 'Whiscash', 'Whismur', 'Wigglytuff', 'Wingull', 'Wobbuffet', 'Woobat', 'Wooper', 'WormadamPlant Cloak', 'WormadamSandy Cloak', 'WormadamTrash Cloak', 'Wurmple', 'Wynaut', 'Xatu', 'Xerneas', 'Yamask', 'Yanma', 'Yanmega', 'Yveltal', 'Zangoose', 'Zapdos', 'Zebstrika', 'Zekrom', 'Zigzagoon', 'Zoroark', 'Zorua', 'Zubat', 'Zweilous']\n",
    "stats = np.array([[90, 92, 75, 92, 85, 60],  [ 25,  20,  15, 105,  55,  90],  [ 65, 130,  60,  75,  60,  75],  [ 80,  70,  40, 100,  60, 145],  [ 80, 105,  65,  60,  75, 130],  [ 70, 110, 180,  60,  60,  50],  [55, 70, 55, 40, 55, 85],  [ 55,  50,  45, 135,  95, 120],  [165,  75,  80,  40,  45,  65],  [ 75,  70,  90,  70, 105,  80],  [77, 59, 50, 67, 63, 46],  [ 75, 100,  66,  60,  66, 115],  [114,  85,  70,  85,  80,  30],  [ 90,  75,  85, 115,  90,  55],  [45, 95, 50, 40, 50, 75],  [60, 85, 69, 65, 79, 80],  [ 90, 110,  80, 100,  80,  95],  [120, 120, 120, 120, 120, 120],  [ 55, 112,  45,  74,  45,  70],  [ 75, 140,  65, 112,  65, 110],  [70, 90, 70, 60, 60, 40],  [ 75, 125, 100,  70,  80,  45],  [101,  72,  72,  99,  89,  29],  [ 50,  70, 100,  40,  40,  30],  [ 90,  85, 100,  95, 125,  85],  [103,  60,  86,  60,  86,  50],  [123,  77,  72,  99,  92,  58],  [ 95, 117, 184,  44,  46,  28],  [46, 87, 60, 30, 40, 57],  [ 75, 125,  70, 125,  70, 115],  [100,  50,  80,  60,  80,  50],  [50, 20, 40, 20, 40, 20],  [45, 75, 60, 40, 30, 50],  [40, 40, 55, 40, 70, 55],  [ 64, 115,  65,  83,  63,  65],  [ 72, 105, 115,  54,  86,  68],  [50, 48, 43, 46, 41, 60],  [70, 92, 65, 80, 55, 98],  [ 60,  52, 168,  47, 138,  30],  [60, 62, 80, 63, 80, 60],  [ 95, 110,  80,  70,  80,  50],  [ 60,  70,  50, 100,  50,  65],  [65, 90, 40, 45, 80, 75],  [ 75,  75,  75, 125,  95,  40],  [40, 55, 80, 35, 60, 30],  [ 75,  80,  95,  90, 100,  50],  [50, 75, 35, 70, 30, 40],  [55, 69, 85, 32, 35, 28],  [79, 85, 60, 55, 60, 71],  [59, 45, 40, 35, 40, 31],  [42, 52, 67, 39, 56, 50],  [ 65, 125, 100,  60,  70,  70],  [ 79,  83, 100,  85, 105,  78],  [ 80, 120,  70, 110,  70,  80],  [255,  10,  10,  75, 135,  55],  [45, 60, 32, 50, 32, 76],  [ 70, 105, 105,  50,  40,  20],  [50, 80, 95, 10, 45, 10],  [ 95, 110,  95,  40,  95,  55],  [59, 59, 58, 90, 70, 73],  [100, 123,  75,  57,  75,  80],  [ 60, 130,  80,  60,  60,  70],  [ 67,  89, 116,  79, 116,  33],  [57, 24, 86, 24, 86, 23],  [40, 30, 35, 50, 70, 55],  [55, 65, 35, 60, 30, 85],  [45, 49, 49, 65, 65, 45],  [55, 66, 44, 44, 56, 85],  [38, 36, 38, 32, 36, 57],  [40, 29, 45, 29, 45, 36],  [60, 45, 50, 90, 80, 70],  [50, 85, 40, 85, 40, 35],  [ 70, 115,  60, 115,  60,  55],  [ 70, 100,  70, 105,  75,  40],  [ 50,  50, 150,  50, 150,  50],  [ 74, 100,  72,  90,  72,  46],  [ 74, 108, 133,  83,  65,  32],  [45, 90, 20, 65, 20, 65],  [50, 35, 55, 25, 25, 15],  [70, 70, 70, 70, 70, 70],  [45, 30, 35, 20, 20, 45],  [100, 100, 100, 100, 100, 100],  [ 60,  55,  90, 145,  90,  80],  [250,   5,   5,  35, 105,  50],  [ 78,  84,  78, 109,  85, 100],  [39, 52, 43, 60, 50, 65],  [58, 64, 58, 80, 65, 80],  [76, 65, 45, 92, 42, 91],  [70, 60, 70, 87, 78, 85],  [45, 35, 45, 62, 53, 35],  [ 88, 107, 122,  74,  75,  64],  [56, 61, 65, 48, 45, 38],  [45, 49, 65, 49, 65, 45],  [44, 58, 44, 58, 44, 61],  [65, 50, 70, 95, 80, 65],  [75, 38, 38, 56, 56, 67],  [45, 30, 50, 65, 50, 45],  [ 75,  95,  60,  65,  60, 115],  [35, 64, 85, 74, 55, 32],  [50, 53, 62, 58, 63, 44],  [ 71,  73,  88, 120,  89,  59],  [ 60,  70, 105,  70, 120,  75],  [95, 70, 73, 95, 90, 60],  [70, 45, 48, 60, 65, 35],  [50, 25, 28, 45, 55, 15],  [ 50,  95, 180,  85,  45,  70],  [ 91,  90, 129,  90,  72, 108],  [ 58,  50, 145,  95, 105,  30],  [30, 30, 42, 30, 42, 70],  [60, 85, 60, 85, 60, 55],  [105, 140,  95,  55,  65,  45],  [43, 80, 65, 50, 35, 35],  [55, 55, 85, 65, 85, 35],  [40, 27, 60, 37, 50, 66],  [ 86,  81,  97,  81, 107,  43],  [ 67, 125,  40,  30,  30,  58],  [ 63, 120,  85,  90,  55,  55],  [120,  70, 120,  75, 130,  85],  [48, 61, 40, 61, 40, 50],  [ 85,  90,  80,  70,  80, 130],  [65, 80, 80, 59, 63, 58],  [ 70,  95, 125,  65,  75,  45],  [ 70,  50,  30,  95, 135, 105],  [55, 70, 40, 60, 40, 40],  [50, 50, 95, 40, 50, 35],  [39, 52, 43, 60, 50, 65],  [ 70,  90,  90, 135,  90, 125],  [105, 140,  55,  30,  55,  95],  [105,  30, 105, 140, 105,  55],  [70, 90, 45, 15, 45, 50],  [ 67,  58,  57,  81,  67, 101],  [60, 60, 50, 40, 50, 75],  [52, 65, 50, 45, 50, 38],  [70, 65, 65, 55, 55, 70],  [45, 55, 45, 65, 45, 75],  [ 75,  69,  72, 114, 100, 104],  [90, 70, 80, 70, 95, 70],  [75, 75, 60, 83, 60, 60],  [100, 120, 120, 150, 100,  90],  [ 50, 100, 150, 100, 150,  50],  [85, 56, 77, 50, 77, 78],  [10, 55, 25, 35, 45, 95],  [48, 48, 48, 48, 48, 48],  [ 60, 110,  70,  60,  60, 100],  [35, 85, 45, 35, 35, 75],  [ 90, 120, 120,  60,  60,  50],  [ 59, 110, 150,  45,  49,  35],  [ 65,  75,  90,  97, 123,  44],  [61, 84, 65, 70, 70, 70],  [ 91, 134,  95, 100, 100,  80],  [ 70,  90, 110,  60,  75,  95],  [41, 64, 45, 50, 50, 50],  [150,  80,  44,  90,  54,  80],  [90, 50, 34, 60, 44, 70],  [60, 85, 40, 30, 45, 68],  [60, 48, 45, 43, 90, 42],  [ 77, 120,  90,  60,  90,  48],  [62, 44, 50, 44, 50, 55],  [ 35,  80,  50,  50,  70, 120],  [100,  70,  70,  65,  65,  45],  [ 65,  40,  50, 125,  60,  30],  [ 58, 109, 112,  48,  48, 109],  [ 40,  70, 130,  60, 130,  25],  [ 45, 100, 135,  65, 135,  45],  [20, 40, 90, 30, 90, 25],  [60, 50, 70, 50, 90, 65],  [50, 65, 85, 35, 35, 55],  [65, 85, 70, 75, 70, 40],  [ 85, 115,  80, 105,  80,  50],  [55, 55, 50, 45, 65, 55],  [35, 60, 44, 40, 54, 55],  [ 65,  83,  57,  95,  85, 105],  [ 75, 123,  67,  95,  85,  95],  [40, 45, 40, 65, 40, 65],  [ 60,  50,  70,  80,  80, 140],  [45, 63, 37, 65, 55, 95],  [55, 55, 55, 85, 55, 30],  [110, 123,  65, 100,  65,  65],  [ 55,  75,  60,  75,  60, 103],  [ 84,  86,  88, 111, 101,  60],  [115, 115,  85,  90,  75, 100],  [ 70, 135, 105,  60, 105,  20],  [ 65,  65,  60, 130,  95, 110],  [62, 48, 54, 63, 60, 68],  [110, 135,  60,  50,  65,  88],  [60, 40, 80, 60, 45, 40],  [ 95,  95,  85, 125,  65,  55],  [104,  91,  63,  91,  73,  68],  [52, 65, 55, 58, 62, 60],  [ 65,  90,  65,  61,  61, 100],  [20, 15, 20, 10, 55, 80],  [40, 45, 40, 62, 60, 60],  [ 85, 105, 100,  79,  83,  78],  [44, 50, 91, 24, 86, 10],  [ 74,  94, 131,  54, 116,  20],  [49, 49, 56, 49, 61, 66],  [70, 55, 55, 80, 60, 45],  [44, 38, 39, 61, 79, 42],  [ 65, 130,  60,  95, 110,  65],  [62, 73, 55, 56, 52, 84],  [45, 50, 43, 40, 38, 62],  [ 85, 105,  55,  85,  50, 115],  [54, 45, 47, 75, 98, 52],  [ 78,  65,  68, 112, 154,  75],  [ 80, 100,  80,  80,  80, 100],  [69, 55, 45, 55, 55, 15],  [ 75,  90, 140,  60,  60,  40],  [ 66, 117,  70,  40,  50,  67],  [55, 40, 50, 65, 85, 40],  [41, 56, 40, 62, 44, 71],  [54, 63, 52, 83, 56, 97],  [ 70,  80,  70,  80,  70, 110],  [ 75,  80,  60,  65,  90, 102],  [85, 76, 64, 45, 55, 90],  [68, 90, 65, 50, 55, 82],  [ 68, 125,  65,  65, 115,  80],  [ 70,  77,  60,  97,  60, 108],  [80, 95, 82, 60, 82, 75],  [108, 130,  95,  80,  85, 102],  [ 68,  65,  65, 125, 115,  80],  [ 30,  35,  30, 100,  35,  80],  [111,  83,  68,  92,  82,  39],  [ 71, 120,  95, 120,  95,  99],  [ 60,  65,  60, 130,  75, 110],  [ 40,  80, 100,  30,  30,  20],  [58, 70, 45, 40, 45, 42],  [ 85, 135, 130,  60,  80,  25],  [70, 80, 65, 90, 65, 85],  [ 65,  60, 110, 130,  95,  65],  [80, 80, 80, 80, 80, 80],  [49, 55, 42, 42, 37, 85],  [ 65,  75, 105,  35,  65,  85],  [ 75,  95, 125,  45,  75,  95],  [60, 65, 70, 85, 75, 40],  [123, 100,  62,  97,  81,  68],  [75, 80, 70, 65, 75, 90],  [45, 67, 60, 35, 50, 63],  [80, 82, 78, 95, 80, 85],  [ 80, 120, 130,  55,  65,  45],  [59, 74, 50, 35, 50, 35],  [ 89, 124,  80,  55,  80,  55],  [ 90, 100,  70, 110, 150,  80],  [45, 50, 35, 55, 75, 40],  [ 55,  84, 105, 114,  75,  52],  [45, 30, 50, 55, 65, 45],  [ 70,  55,  95,  95, 110,  65],  [60, 45, 70, 75, 85, 55],  [ 90, 120,  75,  60,  60,  45],  [ 55,  95, 115,  45,  45,  35],  [ 72,  95,  67, 103,  71, 122],  [80, 80, 50, 40, 50, 25],  [75, 89, 85, 55, 65, 36],  [100, 150, 140, 100,  90,  90],  [100, 180, 160, 150,  90,  90],  [50, 65, 45, 85, 65, 95],  [55, 70, 45, 70, 50, 60],  [ 80,  45,  65,  90, 110,  80],  [70, 43, 53, 43, 53, 40],  [ 85, 105,  85,  40,  50,  40],  [ 95, 125,  79,  60, 100,  81],  [100,   5,   5,  15,  65,  30],  [144, 120,  60,  40,  60,  50],  [ 45,  50,  45, 115,  55,  95],  [ 78,  92,  75,  74,  63, 118],  [ 76, 147,  90,  60,  70,  97],  [ 85,  97,  66, 105,  66,  65],  [ 91,  90, 106, 130, 106,  77],  [ 62,  55,  52, 109,  94, 109],  [44, 38, 33, 61, 43, 70],  [ 80, 125,  75,  40,  95,  85],  [65, 80, 65, 35, 65, 60],  [68, 72, 78, 38, 42, 32],  [108, 112, 118,  68,  72,  47],  [ 50, 105,  79,  35, 110,  76],  [ 50, 120,  53,  35, 110,  87],  [ 50,  95,  95,  35, 110,  70],  [106, 130,  90, 110, 154,  90],  [100, 125,  52, 105,  52,  71],  [ 45,  80, 100,  35,  37,  28],  [60, 30, 30, 36, 56, 50],  [35, 35, 40, 35, 55, 50],  [30, 40, 70, 70, 25, 60],  [ 75,  90,  50, 110,  80,  95],  [45, 60, 30, 80, 50, 65],  [ 55, 104, 105,  94,  75,  52],  [ 92, 105,  90, 125,  90,  98],  [ 85,  73,  70,  73, 115,  67],  [90, 30, 15, 40, 20, 15],  [65, 47, 55, 73, 75, 85],  [ 76, 104,  71, 104,  71, 108],  [53, 54, 53, 37, 46, 45],  [60, 62, 63, 80, 80, 60],  [100,  60,  70,  85, 105,  60],  [115,  45,  20,  45,  25,  20],  [100, 100, 100, 100, 100, 100],  [ 65,  65,  60, 110,  95, 130],  [50, 47, 50, 57, 50, 65],  [ 75,  55,  70,  55,  95, 110],  [ 65,  50,  35, 115,  95,  95],  [30, 80, 90, 55, 45, 55],  [ 60, 115, 105,  65,  70,  80],  [ 40,  35,  30, 120,  70, 105],  [45, 25, 50, 25, 25, 35],  [105,  95,  80,  40,  80,  90],  [50, 75, 45, 40, 45, 60],  [ 60,  90,  70,  60, 120,  40],  [75, 95, 95, 95, 95, 85],  [ 55, 130, 115,  50,  50,  75],  [38, 35, 35, 65, 55, 50],  [60, 80, 95, 70, 85, 50],  [57, 80, 91, 80, 87, 75],  [40, 55, 70, 45, 60, 30],  [ 60, 100, 115,  70,  85,  90],  [40, 65, 95, 60, 45, 35],  [ 30, 105,  90,  25,  25,  50],  [37, 25, 41, 25, 41, 25],  [77, 85, 51, 55, 51, 65],  [60, 82, 45, 45, 45, 74],  [ 95, 117,  80,  65,  70,  92],  [100, 100,  90, 150, 140,  90],  [100, 150,  90, 180, 160,  90],  [125, 130,  90, 130,  90,  95],  [125, 170, 100, 120,  90,  95],  [125, 120,  90, 170, 100,  95],  [ 60,  90, 140,  50,  50,  40],  [60, 40, 60, 95, 60, 55],  [125,  58,  58,  76,  76,  67],  [130,  85,  80,  85,  95,  60],  [55, 85, 55, 50, 55, 60],  [50, 64, 50, 45, 50, 41],  [ 80,  80,  90, 110, 130, 110],  [ 80,  90,  80, 130, 110, 110],  [ 65, 110, 130,  60,  65,  95],  [ 75, 103,  80,  70,  80,  92],  [ 55,  35,  50,  55, 110,  85],  [40, 20, 30, 40, 80, 55],  [110,  85,  95,  80,  95,  50],  [90, 55, 75, 60, 75, 30],  [ 64,  88,  50,  88,  50, 106],  [66, 41, 77, 61, 87, 23],  [ 70,  60,  75, 110,  75,  90],  [45, 60, 45, 25, 45, 55],  [ 78,  70,  61,  50,  61, 100],  [62, 50, 58, 73, 54, 72],  [50, 30, 55, 65, 55, 20],  [60, 50, 50, 60, 70, 50],  [ 65,  76,  84,  54,  96, 105],  [40, 30, 30, 40, 50, 30],  [84, 71, 43, 71, 43, 48],  [ 70, 110,  70, 115,  70,  90],  [ 80,  70,  70,  90, 100,  70],  [106,  90, 130,  90, 154, 110],  [69, 69, 76, 69, 86, 91],  [70, 55, 65, 95, 85, 70],  [43, 30, 55, 40, 65, 97],  [60, 85, 49, 60, 49, 60],  [ 80, 120,  79,  95,  79,  70],  [ 90, 130,  80,  65,  85,  55],  [ 80, 100,  70,  50,  60,  45],  [70, 80, 50, 35, 35, 35],  [45, 75, 37, 70, 55, 83],  [ 50,  50, 120,  80,  80,  30],  [20, 10, 55, 15, 20, 80],  [ 65,  95,  57, 100,  85,  93],  [ 75,  95,  67, 125,  95,  83],  [25, 35, 70, 95, 55, 45],  [ 50,  60,  95, 120,  70,  70],  [ 70,  70, 115, 130,  90,  60],  [72, 60, 30, 20, 30, 25],  [86, 92, 88, 68, 75, 73],  [110, 130,  80,  70,  60,  80],  [100, 100, 100, 100, 100, 100],  [110,  65, 105,  55,  95,  80],  [ 70,  75,  60, 105,  60, 105],  [40, 80, 35, 35, 45, 70],  [ 65,  40,  70,  80, 140,  70],  [ 45,  20,  50,  60, 120,  50],  [ 75,  86,  67, 106,  67,  60],  [55, 40, 40, 65, 45, 35],  [70, 20, 50, 20, 50, 40],  [ 60,  80, 110,  50,  80,  45],  [70, 85, 70, 60, 70, 50],  [70, 60, 62, 80, 82, 60],  [50, 85, 85, 55, 55, 50],  [60, 60, 75, 60, 75, 80],  [30, 40, 55, 40, 55, 60],  [ 74,  48,  76,  83,  81, 104],  [ 74,  48,  76,  83,  81, 104],  [40, 45, 35, 40, 40, 90],  [ 80, 105, 105, 105, 105,  80],  [ 80, 135, 130,  95,  90,  70],  [ 60,  75, 100,  55,  80,  50],  [50, 20, 55, 25, 25, 30],  [100, 100, 100, 100, 100, 100],  [106, 110,  90, 154,  90, 130],  [45, 85, 50, 55, 50, 65],  [ 65, 125,  60,  95,  60, 105],  [70, 90, 70, 60, 60, 70],  [ 95,  60,  79, 100, 125,  81],  [ 95,  80, 105,  40,  70, 100],  [20, 25, 45, 70, 90, 60],  [55, 50, 40, 40, 40, 75],  [60, 40, 50, 75, 85, 95],  [60, 60, 60, 85, 85, 85],  [ 60,  60,  60, 105, 105, 105],  [ 90, 100,  90, 125,  85,  90],  [64, 78, 52, 78, 52, 81],  [70, 94, 50, 94, 50, 66],  [ 40,  45,  65, 100, 120,  90],  [50, 70, 50, 50, 50, 40],  [105, 105,  75,  65, 100,  50],  [135,  85,  40,  40,  85,   5],  [76, 25, 45, 67, 55, 24],  [60, 85, 42, 85, 42, 91],  [116,  55,  85, 107,  95,  29],  [40, 50, 45, 70, 45, 70],  [ 81, 102,  77,  85,  75,  85],  [90, 92, 87, 75, 85, 76],  [55, 47, 52, 40, 40, 41],  [46, 57, 40, 40, 40, 50],  [70, 62, 67, 55, 55, 56],  [61, 72, 57, 55, 55, 65],  [31, 45, 90, 30, 30, 40],  [ 73,  76,  75,  81, 100, 100],  [ 61,  90,  45,  50,  50, 160],  [100,  50,  50,  76,  96,  70],  [40, 30, 35, 45, 40, 55],  [ 85,  70,  80,  97,  80, 123],  [ 30,  45, 135,  45,  90,  30],  [60, 60, 40, 65, 45, 35],  [70, 70, 40, 60, 40, 60],  [ 75, 105,  75, 105,  75,  45],  [45, 50, 55, 75, 65, 30],  [ 35,  40, 100,  90,  55,  35],  [ 70,  60, 125, 115,  70,  55],  [ 35,  45, 160,  30,  45,  70],  [55, 55, 45, 63, 45, 45],  [60, 45, 70, 45, 90, 95],  [ 90, 120, 100, 150, 120, 100],  [75, 65, 55, 65, 55, 69],  [67, 82, 62, 46, 48, 43],  [ 95, 124,  78,  69,  71,  58],  [50, 53, 48, 53, 48, 64],  [50, 53, 48, 53, 48, 64],  [50, 53, 48, 53, 48, 64],  [35, 70, 55, 45, 55, 25],  [60, 95, 80, 60, 80, 30],  [45, 55, 39, 35, 39, 42],  [45, 85, 70, 40, 40, 60],  [ 60,  50, 100,  85,  70,  65],  [ 65,  70,  60,  65,  65, 115],  [45, 35, 50, 70, 50, 30],  [90, 60, 60, 40, 40, 40],  [43, 70, 48, 50, 60, 38],  [80, 80, 80, 80, 80, 80],  [20, 40, 15, 35, 35, 60],  [ 83,  80,  75,  70,  70, 101],  [63, 60, 55, 50, 50, 71],  [40, 45, 40, 35, 35, 56],  [50, 55, 50, 36, 30, 43],  [90, 93, 55, 70, 55, 55],  [35, 55, 40, 50, 50, 90],  [100, 100,  80,  60,  60,  50],  [50, 65, 90, 35, 35, 15],  [ 65, 125, 100,  55,  70,  85],  [53, 51, 53, 61, 56, 40],  [60, 50, 40, 85, 75, 95],  [ 90,  75,  75,  90, 100,  70],  [40, 50, 40, 40, 40, 90],  [65, 65, 65, 50, 50, 90],  [90, 95, 95, 70, 90, 70],  [50, 85, 55, 65, 65, 90],  [35, 55, 35, 30, 30, 35],  [65, 60, 70, 85, 75, 40],  [ 85,  80,  70, 135,  75,  90],  [ 85,  80,  90, 105,  95,  60],  [ 65, 105,  60,  60,  70,  95],  [64, 66, 68, 81, 76, 50],  [ 60,  55, 145,  75, 150,  40],  [50, 52, 48, 65, 50, 55],  [70, 84, 70, 65, 70, 51],  [41, 50, 37, 50, 37, 66],  [ 71,  82,  64,  64,  59, 112],  [ 86,  68,  72, 109,  66, 106],  [95, 85, 85, 65, 65, 35],  [58, 64, 58, 80, 65, 80],  [61, 78, 95, 56, 58, 57],  [65, 95, 75, 55, 55, 85],  [ 60,  90,  55,  90,  80, 110],  [ 90,  85,  75, 115, 100, 115],  [28, 25, 25, 45, 35, 40],  [ 97, 165,  60,  65,  50,  58],  [ 65, 100,  70,  80,  80, 105],  [55, 81, 60, 50, 70, 97],  [30, 56, 35, 25, 35, 72],  [105, 150,  90, 150,  90,  95],  [ 80,  50, 100, 100, 200,  50],  [110, 160, 110,  80, 110, 100],  [ 80, 100, 200,  50, 100,  50],  [ 80,  75, 150,  75, 150,  50],  [100,  90, 130,  45,  65,  55],  [35, 65, 35, 65, 35, 65],  [100, 120, 100, 150, 120,  90],  [110,  65,  75, 125,  85,  30],  [105, 130, 120,  45,  45,  40],  [80, 85, 95, 30, 30, 25],  [115, 140, 130,  55,  55,  40],  [40, 70, 40, 35, 40, 60],  [55, 75, 85, 25, 25, 15],  [ 50,  60,  45, 100,  80,  65],  [ 60,  70,  65, 125, 105,  90],  [50, 50, 77, 95, 77, 91],  [ 50,  65, 107, 105, 107,  86],  [ 50,  65, 107, 105, 107,  86],  [ 50,  65, 107, 105, 107,  86],  [ 50,  65, 107, 105, 107,  86],  [ 50,  65, 107, 105, 107,  86],  [70, 83, 50, 37, 50, 60],  [50, 75, 75, 65, 65, 50],  [ 95, 135,  80, 110,  80, 100],  [ 95, 100,  85, 108,  70,  70],  [50, 72, 35, 35, 35, 65],  [50, 75, 85, 20, 30, 40],  [ 75, 100, 110,  45,  55,  65],  [ 75, 125,  75,  30,  75,  85],  [ 80, 100,  70,  60,  70,  95],  [38, 35, 40, 27, 25, 35],  [ 70,  85,  65, 105,  85, 120],  [ 70, 130, 100,  55,  80,  65],  [ 60, 100,  89,  55,  69, 112],  [ 65,  90, 115,  45, 115,  58],  [50, 75, 70, 35, 70, 48],  [ 70, 110,  80,  55,  80, 105],  [55, 65, 95, 95, 45, 85],  [80, 92, 65, 65, 80, 68],  [90, 60, 70, 75, 70, 45],  [40, 40, 50, 30, 30, 30],  [65, 45, 55, 45, 70, 45],  [105,  95,  75,  85,  75,  74],  [35, 46, 34, 35, 45, 20],  [ 75,  75,  95,  75,  95, 113],  [60, 60, 75, 60, 75, 83],  [ 73, 100,  60, 100,  60,  65],  [45, 53, 70, 40, 60, 42],  [ 70, 120,  40,  95,  40,  95],  [ 1, 90, 45, 30, 30, 40],  [ 65,  95, 100,  60,  50,  50],  [ 30,  65, 100,  45,  25,  40],  [76, 48, 48, 57, 62, 34],  [50, 40, 85, 40, 65, 25],  [ 30,  42, 118,  42,  88,  30],  [ 90, 100,  60,  90,  60,  80],  [45, 65, 34, 40, 34, 45],  [60, 40, 60, 40, 60, 35],  [ 20,  10, 230,  10, 230,   5],  [44, 75, 35, 63, 33, 45],  [ 72,  58,  80, 103,  80,  97],  [50, 35, 55, 25, 25, 15],  [ 75,  98,  63,  98,  63, 101],  [ 75,  98,  63,  98,  63, 101],  [ 75,  98,  63,  98,  63, 101],  [ 65,  80, 140,  40,  70,  70],  [66, 65, 48, 62, 57, 52],  [55, 45, 50, 45, 65, 80],  [50, 45, 45, 35, 35, 50],  [40, 50, 90, 30, 55, 65],  [50, 60, 60, 60, 60, 30],  [103,  93,  67,  71,  61,  84],  [150, 160, 100,  95,  65, 100],  [60, 60, 60, 35, 35, 30],  [ 68,  75,  53,  83, 113,  60],  [ 95,  75, 110, 100,  80,  30],  [ 95,  75,  80, 100, 110,  30],  [90, 65, 65, 40, 40, 15],  [40, 40, 40, 70, 40, 20],  [82, 80, 86, 85, 75, 72],  [55, 20, 35, 20, 45, 75],  [45, 30, 15, 85, 65, 65],  [ 55,  95,  55,  35,  75, 115],  [45, 45, 55, 45, 55, 63],  [160, 110,  65,  65, 110,  30],  [50, 50, 50, 50, 50, 50],  [60, 62, 50, 62, 60, 40],  [60, 80, 50, 40, 40, 30],  [ 45,  30,  40, 105,  50,  20],  [70, 95, 85, 55, 65, 70],  [40, 60, 30, 31, 31, 70],  [45, 22, 60, 27, 30, 29],  [70, 40, 50, 55, 50, 25],  [40, 60, 40, 40, 40, 30],  [60, 60, 60, 60, 60, 60],  [ 50,  92, 108,  92, 108,  35],  [60, 25, 35, 70, 80, 60],  [78, 52, 60, 63, 65, 23],  [44, 48, 65, 50, 64, 43],  [73, 95, 62, 85, 65, 85],  [ 85, 120,  70,  50,  60, 100],  [55, 75, 50, 40, 40, 80],  [40, 55, 30, 30, 30, 60],  [ 60,  75,  85, 100,  85, 115],  [30, 45, 55, 70, 55, 85],  [ 75,  85, 200,  55,  65,  30],  [ 85, 110,  90,  45,  90,  80],  [109,  66,  84,  81,  99,  32],  [63, 63, 47, 41, 41, 74],  [ 70, 100, 115,  30,  65,  30],  [100,  75, 115,  90, 115,  85],  [ 75,  75,  55, 105,  85,  30],  [30, 30, 30, 30, 30, 30],  [40, 30, 32, 50, 52, 65],  [45, 40, 60, 40, 75, 50],  [55, 63, 90, 50, 80, 42],  [100,  73,  83,  73,  83,  55],  [100, 110,  90,  85,  90,  60],  [75, 87, 63, 87, 63, 98],  [ 60,  85,  60,  50,  50, 125],  [50, 50, 40, 30, 30, 50],  [62, 48, 66, 59, 57, 49],  [ 67,  57,  55,  77,  55, 114],  [ 95,  65,  65, 110, 130,  60],  [40, 55, 30, 30, 30, 85],  [ 78,  81,  71,  74,  69, 126],  [ 65,  55, 115, 100,  40,  60],  [100, 100, 125, 110,  50,  50],  [ 75, 100,  95,  40,  70, 110],  [60, 80, 50, 50, 50, 40],  [ 40,  40,  35,  50, 100,  70],  [ 80,  70,  65,  80, 120, 100],  [65, 63, 45, 45, 45, 45],  [ 91, 129,  90,  72,  90, 108],  [120, 100,  85,  30,  85,  45],  [75, 80, 55, 25, 35, 35],  [ 54,  78, 103,  53,  45,  22],  [ 85,  50,  95, 120, 115,  80],  [35, 20, 65, 40, 65, 20],  [ 55,  40,  85,  80, 105,  40],  [45, 60, 40, 70, 50, 45],  [ 70,  85, 140,  85,  70,  20],  [ 95, 109, 105,  75,  85,  56],  [50, 65, 64, 44, 48, 43],  [ 83, 106,  65,  86,  65,  85],  [62, 77, 62, 50, 42, 65],  [ 45, 100,  45,  45,  45,  10],  [40, 45, 35, 65, 55, 70],  [ 85, 110,  76,  65,  82,  56],  [99, 68, 83, 72, 87, 51],  [50, 50, 62, 40, 62, 65],  [55, 68, 64, 45, 55, 31],  [50, 50, 40, 50, 40, 64],  [35, 55, 40, 45, 40, 60],  [ 78,  84,  78, 109,  85, 100],  [100, 134, 110,  95, 100,  61],  [ 82, 121, 119,  69,  59,  71],  [35, 35, 35, 35, 35, 35],  [58, 89, 77, 45, 45, 48],  [ 95,  65, 110,  60, 130,  65],  [ 80, 115,  80,  65,  55,  93],  [48, 72, 48, 72, 48, 48],  [ 90, 130,  75,  75,  75,  55],  [ 75,  75, 130,  75, 130,  95],  [51, 65, 65, 80, 75, 59],  [36, 50, 50, 65, 60, 44],  [ 71,  95,  85, 110,  95,  79],  [130,  65,  60, 110,  95,  65],  [30, 45, 59, 30, 39, 57],  [70, 65, 60, 90, 75, 90],  [60, 55, 50, 40, 55, 45],  [ 80,  82,  83, 100, 100,  80],  [ 70,  80, 102,  80, 102,  40],  [50, 70, 50, 50, 50, 70],  [100, 100, 100, 100, 100, 100],  [ 80, 105,  65, 100,  70,  70],  [80, 80, 80, 55, 55, 90],  [ 75,  80,  85, 110,  90,  50],  [ 91,  90,  72,  90, 129, 108],  [80, 52, 50, 90, 50, 89],  [65, 73, 55, 47, 75, 85],  [ 80, 110, 120, 130,  90,  70],  [ 85,  60,  65, 135, 105, 100],  [ 40,  30,  50,  55,  55, 100],  [70, 55, 75, 45, 65, 60],  [38, 41, 40, 50, 65, 65],  [130,  70,  35,  70,  35,  60],  [170,  90,  45,  90,  45,  60],  [110,  80,  90,  95,  90,  65],  [59, 63, 80, 65, 80, 58],  [60, 85, 69, 60, 69, 77],  [ 70, 120,  65,  45,  85, 125],  [40, 35, 30, 20, 20, 50],  [65, 90, 50, 85, 45, 55],  [ 65,  90, 120,  85,  70,  60],  [ 60,  67,  85,  77,  75, 116],  [40, 55, 99, 40, 79, 47],  [110,  78,  73,  76,  71,  60],  [64, 51, 23, 51, 23, 28],  [140,  70,  45,  85,  50,  45],  [40, 30, 30, 55, 30, 85],  [190,  33,  58,  33,  58,  33],  [55, 45, 43, 55, 43, 72],  [55, 45, 45, 25, 25, 15],  [ 60,  59,  85,  79, 105,  36],  [ 60,  79, 105,  59,  85,  36],  [60, 69, 95, 69, 95, 36],  [45, 45, 35, 20, 30, 20],  [95, 23, 48, 23, 48, 23],  [65, 75, 70, 95, 70, 95],  [126, 131,  95, 131,  98,  99],  [38, 30, 85, 55, 65, 30],  [65, 65, 45, 75, 45, 95],  [ 86,  76,  86, 116,  56,  95],  [126, 131,  95, 131,  98,  99],  [ 73, 115,  60,  60,  60,  90],  [ 90,  90,  85, 125,  90, 100],  [ 75, 100,  63,  80,  63, 116],  [100, 150, 120, 120, 100,  90],  [38, 30, 41, 30, 41, 60],  [ 60, 105,  60, 120,  60, 105],  [40, 65, 40, 80, 40, 65],  [40, 45, 35, 30, 40, 55],  [72, 85, 70, 65, 70, 58]])\n"
   ]
  },
  {
   "cell_type": "code",
   "execution_count": 86,
   "metadata": {},
   "outputs": [],
   "source": [
    "# You want to gather each Pokémon's total stat value (i.e., the sum of each row in stats) and \n",
    "# each Pokémon's average stat value (i.e., the mean of each row in stats) so that you find the strongest Pokémon.\n",
    "# The below for loop was written to collect these values:\n",
    "poke_list = []\n",
    "\n",
    "for pokemon,row in zip(names, stats):\n",
    "    total_stats = np.sum(row)\n",
    "    avg_stats = np.mean(row)\n",
    "    poke_list.append((pokemon, total_stats, avg_stats))"
   ]
  },
  {
   "cell_type": "code",
   "execution_count": 87,
   "metadata": {},
   "outputs": [
    {
     "name": "stdout",
     "output_type": "stream",
     "text": [
      "True \n",
      "\n",
      "[('Abomasnow', 494, 82.33333333333333), ('Abra', 310, 51.666666666666664), ('Absol', 465, 77.5)]\n",
      "[('Abomasnow', 494, 82.33333333333333), ('Abra', 310, 51.666666666666664), ('Absol', 465, 77.5)] \n",
      "\n",
      "3 strongest Pokémon:\n",
      "[('GroudonPrimal Groudon', 770, 128.33333333333334), ('KyogrePrimal Kyogre', 770, 128.33333333333334), ('Arceus', 720, 120.0)]\n"
     ]
    }
   ],
   "source": [
    "# Create a total stats array\n",
    "total_stats_np = stats.sum(axis=1)\n",
    "\n",
    "# Create an average stats array\n",
    "avg_stats_np = stats.mean(axis=1)\n",
    "\n",
    "# Combine names, total_stats_np, and avg_stats_np into a list\n",
    "poke_list_np = [*zip(names, total_stats_np, avg_stats_np)]\n",
    "\n",
    "print(poke_list_np == poke_list, '\\n')\n",
    "print(poke_list_np[:3])\n",
    "print(poke_list[:3], '\\n')\n",
    "top_3 = sorted(poke_list_np, key=lambda x: x[1], reverse=True)[:3]\n",
    "print('3 strongest Pokémon:\\n{}'.format(top_3))"
   ]
  },
  {
   "cell_type": "markdown",
   "metadata": {},
   "source": [
    "## Writing better loops"
   ]
  },
  {
   "cell_type": "code",
   "execution_count": 88,
   "metadata": {},
   "outputs": [],
   "source": [
    "generations = [4,  1,  3,  5,  1,  3,  2,  1,  5,  3,  6,  4,  5,  2,  3,  1,  1,  4,  5,  5,  2,  3,  6,  3,  1,  5,  6,  6,  5,  4,  2,  3,  3,  3,  3,  6,  3,  5,  4,  2,  5,  3,  1,  5,  3,  2,  1,  6,  4,  4,  6,  5,  1,  3,  2,  5,  5,  4,  5,  6,  5,  3,  4,  4,  4,  4,  1,  4,  6,  4,  1,  3,  3,  3,  6,  4,  5,  3,  3,  3,  1,  2,  5,  1,  1,  1,  1,  4,  4,  4,  6,  6,  2,  4,  3,  2,  4,  5,  3,  6,  6,  3,  1,  1,  2,  1,  5,  5,  4,  3,  5,  3,  2,  5,  3,  4,  3,  4,  4,  2,  2,  5,  5,  5,  1,  2,  4,  5,  5,  5,  6,  5,  5,  3,  2,  6,  1,  5,  4,  6,  6,  1,  1,  1,  1,  2,  6,  6,  1,  1,  4,  1,  4,  4,  5,  1,  5,  5,  1,  2,  5,  5,  3,  4,  3,  3,  5,  5,  5,  1,  1,  1,  4,  3,  1,  2,  5,  5,  5,  4,  2,  5,  2,  6,  5,  1,  1,  3,  1,  1,  3,  6,  2,  5,  5,  4,  2,  6,  1,  6,  6,  4,  6,  6,  3,  5,  2,  5,  5,  6,  6,  4,  6,  2,  4,  4,  5,  5,  4,  3,  1,  4,  5,  1,  1,  4,  5,  2,  4,  3,  4,  2,  4,  1,  6,  1,  1,  1,  1,  5,  5,  6,  6,  3,  5,  5,  5,  2,  1,  6,  1,  4,  3,  3,  3,  1,  3,  3,  5,  1,  4,  3,  1,  6,  5,  5,  4,  6,  6,  2,  5,  4,  4,  1,  1,  2,  2,  4,  6,  2,  2,  1,  2,  2,  3,  5,  1,  2,  3,  4,  6,  1,  5,  1,  3,  1,  5,  2,  1,  1,  1,  1,  1,  1,  5,  3,  2,  1,  3,  5,  6,  5,  5,  1,  1,  4,  4,  5,  5,  3,  3,  5,  5,  5,  3,  5,  2,  1,  5,  2,  3,  3,  4,  5,  2,  2,  4,  1,  5,  3,  5,  5,  3,  6,  5,  3,  4,  3,  3,  4,  3,  2,  4,  3,  3,  4,  4,  1,  1,  1,  2,  2,  1,  1,  4,  1,  1,  4,  3,  6,  4,  4,  5,  3,  1,  2,  4,  5,  2,  2,  1,  3,  3,  3,  3,  3,  6,  6,  1,  4,  3,  3,  1,  1,  1,  5,  5,  3,  3,  2,  4,  5,  3,  2,  4,  1,  4,  4,  1,  3,  1,  4,  5,  2,  5,  2,  1,  1,  1,  1,  1,  1,  3,  1,  3,  2,  6,  6,  3,  3,  3,  2,  1,  1,  1,  1,  5,  4,  4,  5,  6,  6,  5,  5,  5,  1,  1,  5,  5,  3,  1,  5,  2,  6,  4,  2,  1,  1,  1,  5,  5,  1,  2,  2,  1,  4,  3,  2,  1,  1,  1,  1,  3,  1,  4,  2,  1,  4,  4,  1,  2,  5,  4,  6,  2,  2,  6,  2,  1,  2,  3,  4,  1,  1,  1,  3,  3,  4,  3,  3,  3,  2,  5,  5,  1,  1,  4,  4,  5,  3,  4,  4,  4,  4,  4,  4,  4,  5,  3,  3,  5,  5,  1,  1,  5,  5,  6,  3,  2,  5,  5,  5,  1,  1,  1,  3,  3,  1,  5,  2,  5,  5,  3,  5,  3,  3,  3,  1,  4,  5,  4,  3,  4,  3,  2,  3,  5,  3,  5,  5,  5,  2,  6,  2,  3,  4,  6,  4,  3,  3,  6,  1,  2,  1,  2,  6,  2,  2,  2,  5,  1,  3,  4,  2,  5,  3,  1,  6,  3,  2,  3,  4,  3,  6,  1,  2,  4,  4,  4,  1,  1,  2,  5,  5,  4,  2,  2,  2,  2,  3,  3,  5,  3,  3,  5,  3,  2,  6,  5,  6,  3,  6,  1,  4,  1,  2,  1,  1,  5,  5,  5,  5,  5,  4,  2,  2,  3,  3,  4,  2,  4,  5,  3,  3,  6,  3,  5,  4,  5,  5,  2,  2,  6,  2,  6,  2,  5,  2,  2,  4,  5,  5,  5,  1,  5,  1,  1,  1,  4,  3,  5,  1,  3,  1,  5,  6,  3,  6,  5,  1,  5,  1,  3,  3,  3,  1,  5,  4,  1,  1,  1,  5,  5,  3,  3,  1,  3,  2,  5,  2,  4,  4,  4,  3,  3,  2,  6,  5,  2,  4,  6,  3,  1,  5,  5,  3,  5,  5,  1,  5] \n"
   ]
  },
  {
   "cell_type": "code",
   "execution_count": 93,
   "metadata": {},
   "outputs": [
    {
     "name": "stdout",
     "output_type": "stream",
     "text": [
      "generation 4: count = 112 percentage = 15.56\n",
      "generation 1: count = 151 percentage = 20.97\n",
      "generation 3: count = 136 percentage = 18.89\n",
      "generation 5: count = 154 percentage = 21.39\n",
      "generation 2: count =  99 percentage = 13.75\n",
      "generation 6: count =  68 percentage = 9.44\n"
     ]
    }
   ],
   "source": [
    "# Import Counter\n",
    "from collections import Counter\n",
    "\n",
    "# Collect the count of each generation\n",
    "gen_counts = Counter(generations)\n",
    "\n",
    "# Improve for loop by moving one calculation above the loop\n",
    "total_count = len(generations)\n",
    "\n",
    "for gen,count in gen_counts.items():\n",
    "    gen_percent = round(count/total_count*100,2)\n",
    "    print('generation {}: count = {:3} percentage = {}'\n",
    "          .format(gen, count, gen_percent))"
   ]
  },
  {
   "cell_type": "markdown",
   "metadata": {},
   "source": [
    "- You spotted a calculation that could be moved outside a loop to make the loop more efficient. Since the total count is now calculated just once (and not with each loop iteration), you can expect to see an efficiency gain with your new loop. When writing a loop is unavoidable, be sure to analyze the loop and move any one-time calculations outside."
   ]
  },
  {
   "cell_type": "markdown",
   "metadata": {},
   "source": [
    "## Holistic conversion loop\n",
    "\n",
    "- A list of all possible Pokémon types has been loaded into your session as pokemon_types. It's been printed in the console for convenience.\n",
    "\n",
    "- You'd like to gather all the possible pairs of Pokémon types. You want to store each of these pairs in an individual list with an enumerated index as the first element of each list. This allows you to see the total number of possible pairs and provides an indexed label for each pair."
   ]
  },
  {
   "cell_type": "markdown",
   "metadata": {},
   "source": [
    "#The below loop was written to accomplish this task:\n",
    "enumerated_pairs = []\n",
    "\n",
    "`for i,pair in enumerate(possible_pairs, 1):\n",
    "    enumerated_pair_tuple = (i,) + pair\n",
    "    enumerated_pair_list = list(enumerated_pair_tuple)\n",
    "    enumerated_pairs.append(enumerated_pair_list)`"
   ]
  },
  {
   "cell_type": "code",
   "execution_count": 95,
   "metadata": {},
   "outputs": [
    {
     "name": "stdout",
     "output_type": "stream",
     "text": [
      "[[1, 'Bug', 'Dark'], [2, 'Bug', 'Dragon'], [3, 'Bug', 'Electric']]\n"
     ]
    }
   ],
   "source": [
    "from itertools import combinations\n",
    "\n",
    "# Collect all possible pairs using combinations()\n",
    "possible_pairs = [*combinations(pokemon_types, 2)]\n",
    "\n",
    "# Create an empty list called enumerated_tuples\n",
    "enumerated_tuples = []\n",
    "\n",
    "# Add a line to append each enumerated_pair_tuple to the empty list above\n",
    "for i,pair in enumerate(possible_pairs, 1):\n",
    "    enumerated_pair_tuple = (i,) + pair\n",
    "    enumerated_tuples.append(enumerated_pair_tuple)\n",
    "\n",
    "# Convert all tuples in enumerated_tuples to a list\n",
    "enumerated_pairs = [*map(list, enumerated_tuples)]\n",
    "print(enumerated_pairs[:3])"
   ]
  },
  {
   "cell_type": "markdown",
   "metadata": {},
   "source": [
    "- Rather than converting each tuple to a list within the loop, you used the map() function to convert tuples to lists all at once outside of a loop. You're getting the hang of writing efficient loops! Remember, you want to avoid looping as much as possible when writing Python code. In cases where looping is unavoidable, be sure to check your loops for one-time calculations and holistic conversions to make them more efficient."
   ]
  },
  {
   "cell_type": "markdown",
   "metadata": {},
   "source": [
    "## Bringing it all together: Pokémon z-scores\n",
    "\n",
    "- A list of 720 Pokémon has been loaded into your session as names. Each Pokémon's corresponding Health Points is stored in a NumPy array called hps. You want to analyze the Health Points using the z-score to see how many standard deviations each Pokémon's HP is from the mean of all HPs.\n",
    "\n",
    "- The below code was written to calculate the HP z-score for each Pokémon and gather the Pokémon with the highest HPs based on their z-scores:"
   ]
  },
  {
   "cell_type": "code",
   "execution_count": 98,
   "metadata": {},
   "outputs": [],
   "source": [
    "names = ['Abomasnow',  'Abra',  'Absol',  'Accelgor',  'Aerodactyl',  'Aggron',  'Aipom',  'Alakazam',  'Alomomola',  'Altaria',  'Amaura',  'Ambipom',  'Amoonguss',  'Ampharos',  'Anorith',  'Arbok',  'Arcanine',  'Arceus',  'Archen',  'Archeops',  'Ariados',  'Armaldo',  'Aromatisse',  'Aron',  'Articuno',  'Audino',  'Aurorus',  'Avalugg',  'Axew',  'Azelf',  'Azumarill',  'Azurill',  'Bagon',  'Baltoy',  'Banette',  'Barbaracle',  'Barboach',  'Basculin',  'Bastiodon',  'Bayleef',  'Beartic',  'Beautifly',  'Beedrill',  'Beheeyem',  'Beldum',  'Bellossom',  'Bellsprout',  'Bergmite',  'Bibarel',  'Bidoof',  'Binacle',  'Bisharp',  'Blastoise',  'Blaziken',  'Blissey',  'Blitzle',  'Boldore',  'Bonsly',  'Bouffalant',  'Braixen',  'Braviary',  'Breloom',  'Bronzong',  'Bronzor',  'Budew',  'Buizel',  'Bulbasaur',  'Buneary',  'Bunnelby',  'Burmy',  'Butterfree',  'Cacnea',  'Cacturne',  'Camerupt',  'Carbink',  'Carnivine',  'Carracosta',  'Carvanha',  'Cascoon',  'Castform',  'Caterpie',  'Celebi',  'Chandelure',  'Chansey',  'Charizard',  'Charmander',  'Charmeleon',  'Chatot',  'Cherrim',  'Cherubi',  'Chesnaught',  'Chespin',  'Chikorita',  'Chimchar',  'Chimecho',  'Chinchou',  'Chingling',  'Cinccino',  'Clamperl',  'Clauncher',  'Clawitzer',  'Claydol',  'Clefable',  'Clefairy',  'Cleffa',  'Cloyster',  'Cobalion',  'Cofagrigus',  'Combee',  'Combusken',  'Conkeldurr',  'Corphish',  'Corsola',  'Cottonee',  'Cradily',  'Cranidos',  'Crawdaunt',  'Cresselia',  'Croagunk',  'Crobat',  'Croconaw',  'Crustle',  'Cryogonal',  'Cubchoo',  'Cubone',  'Cyndaquil',  'Darkrai',  'DarmanitanStandard Mode',  'DarmanitanZen Mode',  'Darumaka',  'Dedenne',  'Deerling',  'Deino',  'Delcatty',  'Delibird',  'Delphox',  'Dewgong',  'Dewott',  'Dialga',  'Diancie',  'Diggersby',  'Diglett',  'Ditto',  'Dodrio',  'Doduo',  'Donphan',  'Doublade',  'Dragalge',  'Dragonair',  'Dragonite',  'Drapion',  'Dratini',  'Drifblim',  'Drifloon',  'Drilbur',  'Drowzee',  'Druddigon',  'Ducklett',  'Dugtrio',  'Dunsparce',  'Duosion',  'Durant',  'Dusclops',  'Dusknoir',  'Duskull',  'Dustox',  'Dwebble',  'Eelektrik',  'Eelektross',  'Eevee',  'Ekans',  'Electabuzz',  'Electivire',  'Electrike',  'Electrode',  'Elekid',  'Elgyem',  'Emboar',  'Emolga',  'Empoleon',  'Entei',  'Escavalier',  'Espeon',  'Espurr',  'Excadrill',  'Exeggcute',  'Exeggutor',  'Exploud',  \"Farfetch'd\",  'Fearow',  'Feebas',  'Fennekin',  'Feraligatr',  'Ferroseed',  'Ferrothorn',  'Finneon',  'Flaaffy',  'Flabébé',  'Flareon',  'Fletchinder',  'Fletchling',  'Floatzel',  'Floette',  'Florges',  'Flygon',  'Foongus',  'Forretress',  'Fraxure',  'Frillish',  'Froakie',  'Frogadier',  'Froslass',  'Furfrou',  'Furret',  'Gabite',  'Gallade',  'Galvantula',  'Garbodor',  'Garchomp',  'Gardevoir',  'Gastly',  'Gastrodon',  'Genesect',  'Gengar',  'Geodude',  'Gible',  'Gigalith',  'Girafarig',  'Glaceon',  'Glalie',  'Glameow',  'Gligar',  'Gliscor',  'Gloom',  'Gogoat',  'Golbat',  'Goldeen',  'Golduck',  'Golem',  'Golett',  'Golurk',  'Goodra',  'Goomy',  'Gorebyss',  'Gothita',  'Gothitelle',  'Gothorita',  'Granbull',  'Graveler',  'Greninja',  'Grimer',  'Grotle',  'Groudon',  'GroudonPrimal Groudon',  'Grovyle',  'Growlithe',  'Grumpig',  'Gulpin',  'Gurdurr',  'Gyarados',  'Happiny',  'Hariyama',  'Haunter',  'Hawlucha',  'Haxorus',  'Heatmor',  'Heatran',  'Heliolisk',  'Helioptile',  'Heracross',  'Herdier',  'Hippopotas',  'Hippowdon',  'Hitmonchan',  'Hitmonlee',  'Hitmontop',  'Ho-oh',  'Honchkrow',  'Honedge',  'Hoothoot',  'Hoppip',  'Horsea',  'Houndoom',  'Houndour',  'Huntail',  'Hydreigon',  'Hypno',  'Igglybuff',  'Illumise',  'Infernape',  'Inkay',  'Ivysaur',  'Jellicent',  'Jigglypuff',  'Jirachi',  'Jolteon',  'Joltik',  'Jumpluff',  'Jynx',  'Kabuto',  'Kabutops',  'Kadabra',  'Kakuna',  'Kangaskhan',  'Karrablast',  'Kecleon',  'Kingdra',  'Kingler',  'Kirlia',  'Klang',  'Klefki',  'Klink',  'Klinklang',  'Koffing',  'Krabby',  'Kricketot',  'Kricketune',  'Krokorok',  'Krookodile',  'Kyogre',  'KyogrePrimal Kyogre',  'Kyurem',  'KyuremBlack Kyurem',  'KyuremWhite Kyurem',  'Lairon',  'Lampent',  'Lanturn',  'Lapras',  'Larvesta',  'Larvitar',  'Latias',  'Latios',  'Leafeon',  'Leavanny',  'Ledian',  'Ledyba',  'Lickilicky',  'Lickitung',  'Liepard',  'Lileep',  'Lilligant',  'Lillipup',  'Linoone',  'Litleo',  'Litwick',  'Lombre',  'Lopunny',  'Lotad',  'Loudred',  'Lucario',  'Ludicolo',  'Lugia',  'Lumineon',  'Lunatone',  'Luvdisc',  'Luxio',  'Luxray',  'Machamp',  'Machoke',  'Machop',  'Magby',  'Magcargo',  'Magikarp',  'Magmar',  'Magmortar',  'Magnemite',  'Magneton',  'Magnezone',  'Makuhita',  'Malamar',  'Mamoswine',  'Manaphy',  'Mandibuzz',  'Manectric',  'Mankey',  'Mantine',  'Mantyke',  'Maractus',  'Mareep',  'Marill',  'Marowak',  'Marshtomp',  'Masquerain',  'Mawile',  'Medicham',  'Meditite',  'MeowsticFemale',  'MeowsticMale',  'Meowth',  'Mesprit',  'Metagross',  'Metang',  'Metapod',  'Mew',  'Mewtwo',  'Mienfoo',  'Mienshao',  'Mightyena',  'Milotic',  'Miltank',  'Mime Jr.',  'Minccino',  'Minun',  'Misdreavus',  'Mismagius',  'Moltres',  'Monferno',  'Mothim',  'Mr. Mime',  'Mudkip',  'Muk',  'Munchlax',  'Munna',  'Murkrow',  'Musharna',  'Natu',  'Nidoking',  'Nidoqueen',  'Nidoran♀',  'Nidoran♂',  'Nidorina',  'Nidorino',  'Nincada',  'Ninetales',  'Ninjask',  'Noctowl',  'Noibat',  'Noivern',  'Nosepass',  'Numel',  'Nuzleaf',  'Octillery',  'Oddish',  'Omanyte',  'Omastar',  'Onix',  'Oshawott',  'Pachirisu',  'Palkia',  'Palpitoad',  'Pancham',  'Pangoro',  'Panpour',  'Pansage',  'Pansear',  'Paras',  'Parasect',  'Patrat',  'Pawniard',  'Pelipper',  'Persian',  'Petilil',  'Phanpy',  'Phantump',  'Phione',  'Pichu',  'Pidgeot',  'Pidgeotto',  'Pidgey',  'Pidove',  'Pignite',  'Pikachu',  'Piloswine',  'Pineco',  'Pinsir',  'Piplup',  'Plusle',  'Politoed',  'Poliwag',  'Poliwhirl',  'Poliwrath',  'Ponyta',  'Poochyena',  'Porygon',  'Porygon-Z',  'Porygon2',  'Primeape',  'Prinplup',  'Probopass',  'Psyduck',  'Pupitar',  'Purrloin',  'Purugly',  'Pyroar',  'Quagsire',  'Quilava',  'Quilladin',  'Qwilfish',  'Raichu',  'Raikou',  'Ralts',  'Rampardos',  'Rapidash',  'Raticate',  'Rattata',  'Rayquaza',  'Regice',  'Regigigas',  'Regirock',  'Registeel',  'Relicanth',  'Remoraid',  'Reshiram',  'Reuniclus',  'Rhydon',  'Rhyhorn',  'Rhyperior',  'Riolu',  'Roggenrola',  'Roselia',  'Roserade',  'Rotom',  'RotomFan Rotom',  'RotomFrost Rotom',  'RotomHeat Rotom',  'RotomMow Rotom',  'RotomWash Rotom',  'Rufflet',  'Sableye',  'Salamence',  'Samurott',  'Sandile',  'Sandshrew',  'Sandslash',  'Sawk',  'Sawsbuck',  'Scatterbug',  'Sceptile',  'Scizor',  'Scolipede',  'Scrafty',  'Scraggy',  'Scyther',  'Seadra',  'Seaking',  'Sealeo',  'Seedot',  'Seel',  'Seismitoad',  'Sentret',  'Serperior',  'Servine',  'Seviper',  'Sewaddle',  'Sharpedo',  'Shedinja',  'Shelgon',  'Shellder',  'Shellos',  'Shelmet',  'Shieldon',  'Shiftry',  'Shinx',  'Shroomish',  'Shuckle',  'Shuppet',  'Sigilyph',  'Silcoon',  'Simipour',  'Simisage',  'Simisear',  'Skarmory',  'Skiddo',  'Skiploom',  'Skitty',  'Skorupi',  'Skrelp',  'Skuntank',  'Slaking',  'Slakoth',  'Sliggoo',  'Slowbro',  'Slowking',  'Slowpoke',  'Slugma',  'Slurpuff',  'Smeargle',  'Smoochum',  'Sneasel',  'Snivy',  'Snorlax',  'Snorunt',  'Snover',  'Snubbull',  'Solosis',  'Solrock',  'Spearow',  'Spewpa',  'Spheal',  'Spinarak',  'Spinda',  'Spiritomb',  'Spoink',  'Spritzee',  'Squirtle',  'Stantler',  'Staraptor',  'Staravia',  'Starly',  'Starmie',  'Staryu',  'Steelix',  'Stoutland',  'Stunfisk',  'Stunky',  'Sudowoodo',  'Suicune',  'Sunflora',  'Sunkern',  'Surskit',  'Swablu',  'Swadloon',  'Swalot',  'Swampert',  'Swanna',  'Swellow',  'Swinub',  'Swirlix',  'Swoobat',  'Sylveon',  'Taillow',  'Talonflame',  'Tangela',  'Tangrowth',  'Tauros',  'Teddiursa',  'Tentacool',  'Tentacruel',  'Tepig',  'Terrakion',  'Throh',  'Timburr',  'Tirtouga',  'Togekiss',  'Togepi',  'Togetic',  'Torchic',  'Torkoal',  'Torterra',  'Totodile',  'Toxicroak',  'Tranquill',  'Trapinch',  'Treecko',  'Trevenant',  'Tropius',  'Trubbish',  'Turtwig',  'Tympole',  'Tynamo',  'Typhlosion',  'Tyranitar',  'Tyrantrum',  'Tyrogue',  'Tyrunt',  'Umbreon',  'Unfezant',  'Unown',  'Ursaring',  'Uxie',  'Vanillish',  'Vanillite',  'Vanilluxe',  'Vaporeon',  'Venipede',  'Venomoth',  'Venonat',  'Venusaur',  'Vespiquen',  'Vibrava',  'Victini',  'Victreebel',  'Vigoroth',  'Vileplume',  'Virizion',  'Vivillon',  'Volbeat',  'Volcanion',  'Volcarona',  'Voltorb',  'Vullaby',  'Vulpix',  'Wailmer',  'Wailord',  'Walrein',  'Wartortle',  'Watchog',  'Weavile',  'Weedle',  'Weepinbell',  'Weezing',  'Whimsicott',  'Whirlipede',  'Whiscash',  'Whismur',  'Wigglytuff',  'Wingull',  'Wobbuffet',  'Woobat',  'Wooper',  'WormadamPlant Cloak',  'WormadamSandy Cloak',  'WormadamTrash Cloak',  'Wurmple',  'Wynaut',  'Xatu',  'Xerneas',  'Yamask',  'Yanma',  'Yanmega',  'Yveltal',  'Zangoose',  'Zapdos',  'Zebstrika',  'Zekrom',  'Zigzagoon',  'Zoroark',  'Zorua',  'Zubat',  'Zweilous'] \n",
    "hps = np.array([ 80., 60., 131., 62., 71., 109., 45., 53., 73., 60., 37., 63., 59., 84., 25., 50., 98., 116., 29., 85., 43., 46., 46., 57., 94., 87., 70., 59., 68., 65., 89., 52., 68., 66., 67., 75., 73., 103., 66., 109., 60., 56., 71., 77., 75., 102., 98., 81., 60., 66., 105., 74., 34., 50., 53., 98., 65., 127., 85., 71., 57., 93., 62., 47., 83., 69., 99., 66., 1., 89., 20., 108., 115., 57., 38., 32., 91., 63., 53., 62., 122., 77., 87., 88., 95., 96., 50., 63., 49., 50., 98., 55., 66., 50., 53., 89., 57., 56., 81., 81., 89., 73., 23., 85., 81., 95., 46., 133., 36., 87., 69., 56., 89., 61., 8., 38., 80., 126., 30., 68., 106., 84., 59., 32., 22., 49., 59., 10., 24., 76., 58., 49., 58., 47., 92., 111., 122., 87., 88., 106., 113., 106., 100., 52., 27., 91., 66., 67., 45., 35., 104., 80., 41., 78., 76., 82., 126., 67., 35., 69., 52., 82., 74., 77., 54., 79., 55., 82., 60., 39., 81., 50., 106., 80., 80., 71., 67., 7., 100., 47., 93., 52., 65., 62., 41., 64., 81., 58., 36., 53., 75., 98., 90., 76., 43., 92., 69., 62., 92., 84., 81., 38., 52., 24., 73., 69., 92., 74., 59., 123., 42., 34., 52., 82., 59., 57., 39., 106., 52., 40., 65., 47., 62., 103., 57., 67., 59., 63., 89., 82., 59., 44., 65., 90., 68., 65., 22., 94., 30., 35., 59., 69., 69., 48., 60., 53., 21., 62., 50., 79., 64., 93., 86., 91., 99., 86., 64., 103., 44., 67., 90., 61., 87., 47., 54., 82., 87., 99., 66., 76., 84., 80., 35., 54., 105., 36., 84., 57., 94., 48., 69., 16., 67., 96., 29., 99., 50., 67., 1., 96., 46., 54., 35., 43., 98., 55., 91., 64., 77., 55., 79., 135., 85., 81., 56., 94., 103., 24., 33., 123., 79., 72., 83., 97., 89., 62., 122., 69., 46., 54., 65., 58., 63., 76., 1., 48., 93., 83., 51., 52., 98., 62., 55., 116., 59., 86., 67., 70., 44., 47., 101., 39., 75., 37., 62., 67., 26., 98., 63., 100., 44., 92., 129., 74., 52., 81., 72., 63., 65., 53., 79., 58., 46., 89., 64., 137., 62., 50., 54., 78., 50., 36., 111., 36., 107., 72., 41., 111., 63., 42., 70., 101., 86., 90., 114., 74., 78., 62., 31., 64., 110., 24., 103., 75., 45., 70., 114., 53., 89., 97., 45., 85., 82., 56., 86., 59., 53., 36., 78., 57., 54., 39., 33., 48., 87., 47., 106., 79., 72., 37., 119., 31., 82., 112., 63., 51., 68., 92., 103., 84., 41., 51., 73., 35., 62., 126., 41., 98., 44., 59., 66., 29., 66., 102., 87., 86., 47., 64., 73., 86., 103., 42., 112., 61., 62., 37., 66., 62., 36., 61., 71., 58., 88., 42., 91., 63., 78., 21., 72., 67., 92., 38., 103., 40., 102., 83., 49., 124., 37., 64., 74., 82., 74., 89., 80., 69., 44., 59., 92., 38., 71., 15., 50., 26., 100., 21., 62., 87., 84., 88., 96., 80., 90., 67., 68., 23., 73., 101., 49., 38., 71., 98., 99., 29., 80., 51., 75., 10., 92., 58., 74., 64., 42., 82., 56., 50., 85., 66., 50., 92., 53., 67., 87., 93., 99., 111., 69., 48., 111., 104., 60., 86., 58., 28., 95., 77., 71., 112., 105., 52., 40., 19., 68., 58., 78., 69., 51., 58., 28., 100., 54., 84., 51., 70., 84., 61., 47., 128., 63., 83., 66., 48., 102., 78., 77., 9., 76., 90., 76., 64., 99., 75., 83., 95., 94., 34., 77., 49., 16., 76., 23., 56., 3., 42., 56., 68., 54., 44., 45., 108., 56., 66., 117., 23., 15., 42., 58., 39., 67., 66., 28., 72., 31., 86., 74., 125., 89., 63., 77., 72., 49., 31., 96., 107., 56., 61., 56., 94., 99., 46., 59., 54., 74., 88., 96., 61., 43., 82., 83., 59., 72., 77., 91., 70., 81., 73., 43., 86., 71., 95., 38., 50., 77., 24., 65., 57., 57., 62., 11., 69., 70., 95., 106., 77., 92., 6., 82., 97., 91., 74., 59., 59., 69., 79., 83., 66., 36., 115., 46., 1., 105., 94., 73., 93., 80., 47., 71., 36., 51., 46., 72., 96., 52., 80., 13., 41., 82., 93., 93., 96., 26., 55., 2., 64., 74., 59., 44., 79., 82., 72., 53., 69., 70., 75., 84., 68., 31., 61., 78., 57.])\n"
   ]
  },
  {
   "cell_type": "code",
   "execution_count": 99,
   "metadata": {},
   "outputs": [],
   "source": [
    "poke_zscores = []\n",
    "\n",
    "for name,hp in zip(names, hps):\n",
    "    hp_avg = hps.mean()\n",
    "    hp_std = hps.std()\n",
    "    z_score = (hp - hp_avg)/hp_std\n",
    "    poke_zscores.append((name, hp, z_score))\n",
    "highest_hp_pokemon = []\n",
    "\n",
    "for name,hp,zscore in poke_zscores:\n",
    "    if zscore > 2:\n",
    "        highest_hp_pokemon.append((name, hp, zscore))"
   ]
  },
  {
   "cell_type": "code",
   "execution_count": 104,
   "metadata": {},
   "outputs": [
    {
     "name": "stdout",
     "output_type": "stream",
     "text": [
      "('Abomasnow', 80.0, 0.46797638117739043)\n",
      "('Abra', 60.0, -0.3271693284337512)\n",
      "('Absol', 131.0, 2.4955979406858013)\n",
      "('Absol', 131.0, 2.4955979406858013)\n",
      "('Bonsly', 127.0, 2.3365687987635733)\n",
      "('Caterpie', 122.0, 2.137782371360788)\n",
      "('Cofagrigus', 133.0, 2.575112511646916)\n",
      "('Cresselia', 126.0, 2.296811513283016)\n",
      "('Dewgong', 122.0, 2.137782371360788)\n",
      "('Druddigon', 126.0, 2.296811513283016)\n",
      "('Froakie', 123.0, 2.1775396568413448)\n",
      "('Kadabra', 135.0, 2.65462708260803)\n",
      "('Klang', 123.0, 2.1775396568413448)\n",
      "('Kricketune', 122.0, 2.137782371360788)\n",
      "('Lumineon', 129.0, 2.4160833697246873)\n",
      "('Magnemite', 137.0, 2.734141653569144)\n",
      "('Nidorina', 119.0, 2.0185105149191167)\n",
      "('Onix', 126.0, 2.296811513283016)\n",
      "('Prinplup', 124.0, 2.217296942321902)\n",
      "('Skuntank', 128.0, 2.3763260842441305)\n",
      "('Swellow', 125.0, 2.2570542278024592)\n"
     ]
    }
   ],
   "source": [
    "# Calculate the total HP avg and total HP standard deviation\n",
    "hp_avg = hps.mean()\n",
    "hp_std = hps.std()\n",
    "\n",
    "# Use NumPy to eliminate the previous for loop\n",
    "z_scores = (hps - hp_avg)/hp_std\n",
    "\n",
    "# Combine names, hps, and z_scores\n",
    "poke_zscores2 = [*zip(names, hps, z_scores)]\n",
    "print(*poke_zscores2[:3], sep='\\n')\n",
    "\n",
    "# Use list comprehension with the same logic as the highest_hp_pokemon code block\n",
    "highest_hp_pokemon2 = [(name, hp, zscore) for name,hp,zscore in poke_zscores2 if zscore > 2]\n",
    "print(*highest_hp_pokemon2, sep='\\n')"
   ]
  },
  {
   "cell_type": "markdown",
   "metadata": {},
   "source": [
    "- You're Catching 'Em All (efficiencies that is). You eliminated two loops using NumPy broadcasting and list comprehension. Did you notice how much faster the approach you developed was compared to the original loops? What a great improvement!\n",
    "\n",
    "- Remember the techniques you've learned throughout this chapter as you continue writing Python code outside this course. Keep in mind the built-in functions and modules you covered to eliminate loops and remember to check your unavoidable loops for things that can be moved outside."
   ]
  },
  {
   "cell_type": "markdown",
   "metadata": {},
   "source": [
    "# Basic pandas optimizations"
   ]
  },
  {
   "cell_type": "markdown",
   "metadata": {},
   "source": [
    "## Iterating with .iterrows()\n",
    "- In the video, we discussed that .iterrows() returns each DataFrame row as a tuple of (index, pandas Series) pairs. But, what does this mean? Let's explore with a few coding exercises.\n",
    "\n",
    "- A pandas DataFrame has been loaded into your session called pit_df. This DataFrame contains the stats for the Major League Baseball team named the Pittsburgh Pirates (abbreviated as 'PIT') from the year 2008 to the year 2012. It has been printed into your console for convenience."
   ]
  },
  {
   "cell_type": "code",
   "execution_count": 111,
   "metadata": {},
   "outputs": [],
   "source": [
    "pit_df = baseball.head(2)[['Team', 'League', 'Year', 'RS', 'RA', 'W', 'G', 'Playoffs']]"
   ]
  },
  {
   "cell_type": "code",
   "execution_count": 112,
   "metadata": {},
   "outputs": [
    {
     "name": "stdout",
     "output_type": "stream",
     "text": [
      "Team         ARI\n",
      "League        NL\n",
      "Year        2012\n",
      "RS           734\n",
      "RA           688\n",
      "W             81\n",
      "G            162\n",
      "Playoffs       0\n",
      "Name: 0, dtype: object\n",
      "Team         ATL\n",
      "League        NL\n",
      "Year        2012\n",
      "RS           700\n",
      "RA           600\n",
      "W             94\n",
      "G            162\n",
      "Playoffs       1\n",
      "Name: 1, dtype: object\n"
     ]
    }
   ],
   "source": [
    "# Iterate over pit_df and print each row\n",
    "for i,row in pit_df.iterrows():\n",
    "    print(row)"
   ]
  },
  {
   "cell_type": "code",
   "execution_count": 113,
   "metadata": {},
   "outputs": [
    {
     "name": "stdout",
     "output_type": "stream",
     "text": [
      "0\n",
      "Team         ARI\n",
      "League        NL\n",
      "Year        2012\n",
      "RS           734\n",
      "RA           688\n",
      "W             81\n",
      "G            162\n",
      "Playoffs       0\n",
      "Name: 0, dtype: object\n",
      "<class 'pandas.core.series.Series'>\n",
      "1\n",
      "Team         ATL\n",
      "League        NL\n",
      "Year        2012\n",
      "RS           700\n",
      "RA           600\n",
      "W             94\n",
      "G            162\n",
      "Playoffs       1\n",
      "Name: 1, dtype: object\n",
      "<class 'pandas.core.series.Series'>\n"
     ]
    }
   ],
   "source": [
    "# Iterate over pit_df and print each index variable and then each row\n",
    "for i,row in pit_df.iterrows():\n",
    "    print(i)\n",
    "    print(row)\n",
    "    print(type(row))"
   ]
  },
  {
   "cell_type": "code",
   "execution_count": 114,
   "metadata": {},
   "outputs": [
    {
     "name": "stdout",
     "output_type": "stream",
     "text": [
      "(0, Team         ARI\n",
      "League        NL\n",
      "Year        2012\n",
      "RS           734\n",
      "RA           688\n",
      "W             81\n",
      "G            162\n",
      "Playoffs       0\n",
      "Name: 0, dtype: object)\n",
      "<class 'tuple'>\n",
      "(1, Team         ATL\n",
      "League        NL\n",
      "Year        2012\n",
      "RS           700\n",
      "RA           600\n",
      "W             94\n",
      "G            162\n",
      "Playoffs       1\n",
      "Name: 1, dtype: object)\n",
      "<class 'tuple'>\n"
     ]
    }
   ],
   "source": [
    "# Print the row and type of each row\n",
    "for row_tuple in pit_df.iterrows():\n",
    "    print(row_tuple)\n",
    "    print(type(row_tuple))"
   ]
  },
  {
   "cell_type": "markdown",
   "metadata": {},
   "source": [
    "- Since `.iterrows()` returns each DataFrame row as a tuple of (index, `pandas` Series) pairs, you can either split this tuple and use the index and row-values separately (as you did with `for i,row in pit_df.iterrows()`), or you can keep the result of `.iterrows()` in the tuple form (as you did with `for row_tuple in pit_df.iterrows()`).\n",
    "\n",
    "- If using `i,row`, you can access things from the row using square brackets (i.e., `row['Team']`). If using row_tuple, you would have to specify which element of the tuple you'd like to access before grabbing the team name (i.e., `row_tuple[1]['Team']`).\n",
    "\n",
    "- With either approach, using `.iterrows()` will still be substantially faster than using `.iloc` as you saw in the video."
   ]
  },
  {
   "cell_type": "markdown",
   "metadata": {},
   "source": [
    "## Run differentials with .iterrows()\n",
    "\n",
    "- You've been hired by the San Francisco Giants as an analyst—congrats! The team's owner wants you to calculate a metric called the run differential for each season from the year 2008 to 2012. This metric is calculated by subtracting the total number of runs a team allowed in a season from the team's total number of runs scored in a season. 'RS' means runs scored and 'RA' means runs allowed.\n"
   ]
  },
  {
   "cell_type": "code",
   "execution_count": 115,
   "metadata": {},
   "outputs": [],
   "source": [
    "# The below function calculates this metric:\n",
    "def calc_run_diff(runs_scored, runs_allowed):\n",
    "\n",
    "    run_diff = runs_scored - runs_allowed\n",
    "\n",
    "    return run_diff"
   ]
  },
  {
   "cell_type": "code",
   "execution_count": 120,
   "metadata": {},
   "outputs": [],
   "source": [
    "giants_df = baseball[baseball['Team']=='SFG'].head()[['Team', 'League', 'Year', 'RS', 'RA', 'W', 'G', 'Playoffs']]"
   ]
  },
  {
   "cell_type": "code",
   "execution_count": 122,
   "metadata": {},
   "outputs": [
    {
     "name": "stdout",
     "output_type": "stream",
     "text": [
      "    Team League  Year   RS   RA   W    G  Playoffs   RD\n",
      "24   SFG     NL  2012  718  649  94  162         1   69\n",
      "54   SFG     NL  2011  570  578  86  162         0   -8\n",
      "84   SFG     NL  2010  697  583  92  162         1  114\n",
      "114  SFG     NL  2009  657  611  88  162         0   46\n",
      "144  SFG     NL  2008  640  759  72  162         0 -119\n"
     ]
    }
   ],
   "source": [
    "# Create an empty list to store run differentials\n",
    "run_diffs = []\n",
    "\n",
    "# Write a for loop and collect runs allowed and runs scored for each row\n",
    "for i,row in giants_df.iterrows():\n",
    "    runs_scored = row['RS']\n",
    "    runs_allowed = row['RA']\n",
    "    \n",
    "    # Use the provided function to calculate run_diff for each row\n",
    "    run_diff = calc_run_diff(runs_scored, runs_allowed)\n",
    "    \n",
    "    # Append each run differential to the output list\n",
    "    run_diffs.append(run_diff)\n",
    "\n",
    "giants_df['RD'] = run_diffs\n",
    "print(giants_df)"
   ]
  },
  {
   "cell_type": "markdown",
   "metadata": {},
   "source": [
    "- Take a look at the giants_df DataFrame with the new run differential column ('RD') you created (it has been printed in the console).\n",
    "\n",
    "- The 'Playoffs' column tells you if a team made the playoffs for a given season. A 1 means that the team made the playoffs in that season and a 0 means the team did not make the playoffs in that season.\n",
    "\n",
    "- Did you notice that in the seasons with the highest run differentials the Giants made the playoffs? In fact, in both of these seasons (2010 and 2012), the San Francisco Giants not only made the playoffs but also won the World Series! Cool!"
   ]
  },
  {
   "cell_type": "markdown",
   "metadata": {},
   "source": [
    "## Another iterator method: .itertuples()\n",
    "\n",
    "- Remember, .itertuples() returns each DataFrame row as a special data type called a namedtuple. You can look up an attribute within a namedtuple with a special syntax. Let's practice working with namedtuples.\n",
    "\n",
    "- A pandas DataFrame has been loaded into your session called rangers_df. This DataFrame contains the stats (`'Team', 'League', 'Year', 'RS', 'RA', 'W', 'G', and 'Playoffs'`) for the Major League baseball team named the Texas Rangers (abbreviated as 'TEX')."
   ]
  },
  {
   "cell_type": "code",
   "execution_count": 126,
   "metadata": {},
   "outputs": [],
   "source": [
    "rangers_df = baseball[baseball['Team']=='TEX'][['Team', 'League', 'Year', 'RS', 'RA', 'W', 'G', 'Playoffs']]"
   ]
  },
  {
   "cell_type": "code",
   "execution_count": 128,
   "metadata": {},
   "outputs": [
    {
     "name": "stdout",
     "output_type": "stream",
     "text": [
      "27 2012 93\n",
      "57 2011 96\n",
      "87 2010 90\n"
     ]
    }
   ],
   "source": [
    "# Loop over the DataFrame and print each row's Index, Year and Wins (W)\n",
    "for row in rangers_df[:3].itertuples():\n",
    "  i = row.Index\n",
    "  year = row.Year\n",
    "  wins = row.W\n",
    "  print(i, year, wins)"
   ]
  },
  {
   "cell_type": "code",
   "execution_count": 129,
   "metadata": {},
   "outputs": [
    {
     "name": "stdout",
     "output_type": "stream",
     "text": [
      "27 2012 93\n",
      "57 2011 96\n",
      "87 2010 90\n",
      "418 1999 95\n",
      "448 1998 88\n",
      "504 1996 90\n"
     ]
    }
   ],
   "source": [
    "# Loop over the DataFrame and print each row's Index, Year and Wins (W)\n",
    "for row in rangers_df.itertuples():\n",
    "  i = row.Index\n",
    "  year = row.Year\n",
    "  wins = row.W\n",
    "  \n",
    "  # Check if rangers made Playoffs (1 means yes; 0 means no)\n",
    "  if row.Playoffs == 1:\n",
    "    print(i, year, wins)"
   ]
  },
  {
   "cell_type": "markdown",
   "metadata": {},
   "source": [
    "- You're getting the hang of using `.itertuples()`. Remember, you need to use the dot syntax for referencing an attribute in a namedtuple.\n",
    "\n",
    "- You can create a new variable using a row's dot reference (as you did when storing row.Index as the variable i). Or you can use the row's dot reference directly to perform calculations and checks. Notice that you did not have to save row.Playoffs to a new variable in your check statement (you were able to use row.Playoffs directly in your check).\n",
    "\n",
    "- Did you notice the pattern in the Texas Rangers playoff appearances? Only six appearances and two distinct sets of groupings (one from 2010 - 2012 and one from 1996 - 1999)."
   ]
  },
  {
   "cell_type": "markdown",
   "metadata": {},
   "source": [
    "## Run differentials with .itertuples()"
   ]
  },
  {
   "cell_type": "code",
   "execution_count": 133,
   "metadata": {},
   "outputs": [],
   "source": [
    "yankees_df = baseball[baseball['Team']=='NYY'][['Team', 'League', 'Year', 'RS', 'RA', 'W', 'G', 'Playoffs']]\n"
   ]
  },
  {
   "cell_type": "code",
   "execution_count": 135,
   "metadata": {},
   "outputs": [
    {
     "name": "stdout",
     "output_type": "stream",
     "text": [
      "    Team League  Year   RS   RA    W    G  Playoffs   RD\n",
      "18   NYY     AL  2012  804  668   95  162         1  136\n",
      "48   NYY     AL  2011  867  657   97  162         1  210\n",
      "78   NYY     AL  2010  859  693   95  162         1  166\n",
      "108  NYY     AL  2009  915  753  103  162         1  162\n",
      "138  NYY     AL  2008  789  727   89  162         0   62\n"
     ]
    }
   ],
   "source": [
    "run_diffs = []\n",
    "\n",
    "# Loop over the DataFrame and calculate each row's run differential\n",
    "for row in yankees_df.itertuples():\n",
    "    \n",
    "    runs_scored = row.RS\n",
    "    runs_allowed = row.RA\n",
    "\n",
    "    run_diff = calc_run_diff(runs_scored, runs_allowed)\n",
    "    \n",
    "    run_diffs.append(run_diff)\n",
    "\n",
    "# Append new column\n",
    "yankees_df['RD'] = run_diffs\n",
    "print(yankees_df.head())"
   ]
  },
  {
   "cell_type": "markdown",
   "metadata": {},
   "source": [
    "- You used .itertuples() to help the Yankees calculate run differentials. Remember, using .itertuples() is just like using .iterrows() except it tends to be faster. You also have to use a dot reference when looking up attributes with .itertuples().\n"
   ]
  },
  {
   "cell_type": "markdown",
   "metadata": {},
   "source": [
    "## pandas alternative to looping: apply()\n"
   ]
  },
  {
   "cell_type": "code",
   "execution_count": 143,
   "metadata": {},
   "outputs": [],
   "source": [
    "rays_df = baseball.head()[['RS','RA','W','Playoffs']]\n",
    "\n",
    "# The below function can be used to convert the 'Playoffs' column to text:\n",
    "def text_playoffs(num_playoffs): \n",
    "    if num_playoffs == 1:\n",
    "        return 'Yes'\n",
    "    else:\n",
    "        return 'No' "
   ]
  },
  {
   "cell_type": "code",
   "execution_count": 141,
   "metadata": {},
   "outputs": [
    {
     "name": "stdout",
     "output_type": "stream",
     "text": [
      "RS          3493\n",
      "RA          3558\n",
      "W            398\n",
      "Playoffs       2\n",
      "dtype: int64\n"
     ]
    }
   ],
   "source": [
    "# Gather sum of all columns\n",
    "stat_totals = rays_df.apply(sum, axis=0)\n",
    "print(stat_totals)"
   ]
  },
  {
   "cell_type": "code",
   "execution_count": 142,
   "metadata": {},
   "outputs": [
    {
     "name": "stdout",
     "output_type": "stream",
     "text": [
      "0    1422\n",
      "1    1300\n",
      "2    1417\n",
      "3    1540\n",
      "4    1372\n",
      "dtype: int64\n"
     ]
    }
   ],
   "source": [
    "# Gather total runs scored in all games per year\n",
    "total_runs_scored = rays_df[['RS', 'RA']].apply(sum, axis=1)\n",
    "print(total_runs_scored)"
   ]
  },
  {
   "cell_type": "code",
   "execution_count": 144,
   "metadata": {},
   "outputs": [
    {
     "name": "stdout",
     "output_type": "stream",
     "text": [
      "0     No\n",
      "1    Yes\n",
      "2    Yes\n",
      "3     No\n",
      "4     No\n",
      "dtype: object\n"
     ]
    }
   ],
   "source": [
    "# Convert numeric playoffs to text\n",
    "textual_playoffs = rays_df.apply(lambda row: text_playoffs(row['Playoffs']), axis=1)\n",
    "print(textual_playoffs)"
   ]
  },
  {
   "cell_type": "markdown",
   "metadata": {},
   "source": [
    "- The `.apply()` method let's you apply functions to all rows or columns of a DataFrame by specifying an axis.\n",
    "\n",
    "- If you've been using pandas for some time, you may have noticed that a better way to find these stats would use the pandas built-in `.sum()` method.\n",
    "\n",
    "- You could have used `rays_df.sum(axis=0)` to get columnar sums and `rays_df[['RS', 'RA']].sum(axis=1)` to get row sums.\n",
    "\n",
    "- You could have also used `.apply()` directly on a Series (or column) of the DataFrame. For example, you could use `rays_df['Playoffs'].apply(text_playoffs)` to convert the 'Playoffs' column to text."
   ]
  },
  {
   "cell_type": "markdown",
   "metadata": {},
   "source": [
    "## Settle a debate with .apply()\n",
    "\n",
    "- Word has gotten to the Arizona Diamondbacks about your awesome analytics skills. They'd like for you to help settle a debate amongst the managers. One manager claims that the team has made the playoffs every year they have had a win percentage of 0.50 or greater. Another manager says this is not true.\n",
    "\n"
   ]
  },
  {
   "cell_type": "code",
   "execution_count": 145,
   "metadata": {},
   "outputs": [],
   "source": [
    "# Let's use the below function and the .apply() method to see which manager is correct.\n",
    "\n",
    "def calc_win_perc(wins, games_played):\n",
    "    win_perc = wins / games_played\n",
    "    return np.round(win_perc,2)"
   ]
  },
  {
   "cell_type": "code",
   "execution_count": 146,
   "metadata": {},
   "outputs": [],
   "source": [
    "dbacks_df = baseball[baseball['Team']=='ARI'][['Team', 'League', 'Year', 'RS', 'RA', 'W', 'G', 'Playoffs']]"
   ]
  },
  {
   "cell_type": "code",
   "execution_count": 147,
   "metadata": {},
   "outputs": [
    {
     "name": "stdout",
     "output_type": "stream",
     "text": [
      "    Team League  Year   RS   RA   W    G  Playoffs\n",
      "0    ARI     NL  2012  734  688  81  162         0\n",
      "30   ARI     NL  2011  731  662  94  162         1\n",
      "60   ARI     NL  2010  713  836  65  162         0\n",
      "90   ARI     NL  2009  720  782  70  162         0\n",
      "120  ARI     NL  2008  720  706  82  162         0\n",
      "0      0.50\n",
      "30     0.58\n",
      "60     0.40\n",
      "90     0.43\n",
      "120    0.51\n",
      "150    0.56\n",
      "180    0.47\n",
      "210    0.48\n",
      "241    0.31\n",
      "271    0.52\n",
      "301    0.60\n",
      "331    0.57\n",
      "361    0.52\n",
      "391    0.62\n",
      "421    0.40\n",
      "dtype: float64 \n",
      "\n",
      "    Team League  Year   RS   RA    W    G  Playoffs    WP\n",
      "0    ARI     NL  2012  734  688   81  162         0  0.50\n",
      "30   ARI     NL  2011  731  662   94  162         1  0.58\n",
      "60   ARI     NL  2010  713  836   65  162         0  0.40\n",
      "90   ARI     NL  2009  720  782   70  162         0  0.43\n",
      "120  ARI     NL  2008  720  706   82  162         0  0.51\n",
      "150  ARI     NL  2007  712  732   90  162         1  0.56\n",
      "180  ARI     NL  2006  773  788   76  162         0  0.47\n",
      "210  ARI     NL  2005  696  856   77  162         0  0.48\n",
      "241  ARI     NL  2004  615  899   51  162         0  0.31\n",
      "271  ARI     NL  2003  717  685   84  162         0  0.52\n",
      "301  ARI     NL  2002  819  674   98  162         1  0.60\n",
      "331  ARI     NL  2001  818  677   92  162         1  0.57\n",
      "361  ARI     NL  2000  792  754   85  162         0  0.52\n",
      "391  ARI     NL  1999  908  676  100  162         1  0.62\n",
      "421  ARI     NL  1998  665  812   65  162         0  0.40 \n",
      "\n",
      "    Team League  Year   RS   RA    W    G  Playoffs    WP\n",
      "0    ARI     NL  2012  734  688   81  162         0  0.50\n",
      "30   ARI     NL  2011  731  662   94  162         1  0.58\n",
      "120  ARI     NL  2008  720  706   82  162         0  0.51\n",
      "150  ARI     NL  2007  712  732   90  162         1  0.56\n",
      "271  ARI     NL  2003  717  685   84  162         0  0.52\n",
      "301  ARI     NL  2002  819  674   98  162         1  0.60\n",
      "331  ARI     NL  2001  818  677   92  162         1  0.57\n",
      "361  ARI     NL  2000  792  754   85  162         0  0.52\n",
      "391  ARI     NL  1999  908  676  100  162         1  0.62\n"
     ]
    }
   ],
   "source": [
    "# Display the first five rows of the DataFrame\n",
    "print(dbacks_df.head())\n",
    "\n",
    "# Create a win percentage Series \n",
    "win_percs = dbacks_df.apply(lambda row: calc_win_perc(row['W'], row['G']), axis=1)\n",
    "print(win_percs, '\\n')\n",
    "\n",
    "# Append a new column to dbacks_df\n",
    "dbacks_df['WP'] = win_percs\n",
    "print(dbacks_df, '\\n')\n",
    "\n",
    "# Display dbacks_df where WP is greater than 0.50\n",
    "print(dbacks_df[dbacks_df['WP'] >= 0.50])"
   ]
  },
  {
   "cell_type": "markdown",
   "metadata": {},
   "source": [
    "## Optimal pandas iterating\n",
    "\n",
    "### Replacing .iloc with underlying arrays\n",
    "\n",
    "- Now that you have a better grasp on a DataFrame's internals let's update one of your previous analyses to leverage a DataFrame's underlying arrays. You'll revisit the win percentage calculations you performed row by row with the .iloc method:"
   ]
  },
  {
   "cell_type": "code",
   "execution_count": 149,
   "metadata": {},
   "outputs": [],
   "source": [
    "baseball_df = baseball.copy()\n",
    "\n",
    "def calc_win_perc(wins, games_played):\n",
    "    win_perc = wins / games_played\n",
    "    return np.round(win_perc,2)\n",
    "\n",
    "win_percs_list = []\n",
    "\n",
    "for i in range(len(baseball_df)):\n",
    "    row = baseball_df.iloc[i]\n",
    "\n",
    "    wins = row['W']\n",
    "    games_played = row['G']\n",
    "\n",
    "    win_perc = calc_win_perc(wins, games_played)\n",
    "\n",
    "    win_percs_list.append(win_perc)\n",
    "\n",
    "baseball_df['WP'] = win_percs_list"
   ]
  },
  {
   "cell_type": "code",
   "execution_count": 150,
   "metadata": {},
   "outputs": [
    {
     "name": "stdout",
     "output_type": "stream",
     "text": [
      "  Team League  Year   RS   RA   W    OBP    SLG     BA  Playoffs  RankSeason  \\\n",
      "0  ARI     NL  2012  734  688  81  0.328  0.418  0.259         0         NaN   \n",
      "1  ATL     NL  2012  700  600  94  0.320  0.389  0.247         1         4.0   \n",
      "2  BAL     AL  2012  712  705  93  0.311  0.417  0.247         1         5.0   \n",
      "3  BOS     AL  2012  734  806  69  0.315  0.415  0.260         0         NaN   \n",
      "4  CHC     NL  2012  613  759  61  0.302  0.378  0.240         0         NaN   \n",
      "\n",
      "   RankPlayoffs    G   OOBP   OSLG    WP  \n",
      "0           NaN  162  0.317  0.415  0.50  \n",
      "1           5.0  162  0.306  0.378  0.58  \n",
      "2           4.0  162  0.315  0.403  0.57  \n",
      "3           NaN  162  0.331  0.428  0.43  \n",
      "4           NaN  162  0.335  0.424  0.38  \n"
     ]
    }
   ],
   "source": [
    "# Use the W array and G array to calculate win percentages\n",
    "win_percs_np = calc_win_perc(baseball_df['W'].values, baseball_df['G'].values)\n",
    "\n",
    "# Append a new column to baseball_df that stores all win percentages\n",
    "baseball_df['WP'] = win_percs_np\n",
    "\n",
    "print(baseball_df.head())"
   ]
  },
  {
   "cell_type": "markdown",
   "metadata": {},
   "source": [
    "- Using a DataFrame's underlying arrays to perform calculations can really speed up your code and yields some significant efficiency gains. Did you notice that the NumPy array approach was not just faster, but that it also used fewer lines of code and was easier to read?"
   ]
  },
  {
   "cell_type": "markdown",
   "metadata": {},
   "source": [
    "## Bringing it all together: Predict win percentage"
   ]
  },
  {
   "cell_type": "code",
   "execution_count": 152,
   "metadata": {},
   "outputs": [],
   "source": [
    "# You'd like to attempt to predict a team's win percentage for a given season by \n",
    "# using the team's total runs scored in a season ('RS') and total runs allowed in a season ('RA') \n",
    "# with the following function:\n",
    "\n",
    "def predict_win_perc(RS, RA):\n",
    "    prediction = RS ** 2 / (RS ** 2 + RA ** 2)\n",
    "    return np.round(prediction, 2)"
   ]
  },
  {
   "cell_type": "code",
   "execution_count": 153,
   "metadata": {},
   "outputs": [
    {
     "name": "stdout",
     "output_type": "stream",
     "text": [
      "  Team League  Year   RS   RA   W    OBP    SLG     BA  Playoffs  RankSeason  \\\n",
      "0  ARI     NL  2012  734  688  81  0.328  0.418  0.259         0         NaN   \n",
      "1  ATL     NL  2012  700  600  94  0.320  0.389  0.247         1         4.0   \n",
      "2  BAL     AL  2012  712  705  93  0.311  0.417  0.247         1         5.0   \n",
      "3  BOS     AL  2012  734  806  69  0.315  0.415  0.260         0         NaN   \n",
      "4  CHC     NL  2012  613  759  61  0.302  0.378  0.240         0         NaN   \n",
      "\n",
      "   RankPlayoffs    G   OOBP   OSLG    WP  WP_preds  \n",
      "0           NaN  162  0.317  0.415  0.50      0.53  \n",
      "1           5.0  162  0.306  0.378  0.58      0.58  \n",
      "2           4.0  162  0.315  0.403  0.57      0.50  \n",
      "3           NaN  162  0.331  0.428  0.43      0.45  \n",
      "4           NaN  162  0.335  0.424  0.38      0.39  \n"
     ]
    }
   ],
   "source": [
    "win_perc_preds_loop = []\n",
    "\n",
    "# Use a loop and .itertuples() to collect each row's predicted win percentage\n",
    "for row in baseball_df.itertuples():\n",
    "    runs_scored = row.RS\n",
    "    runs_allowed = row.RA\n",
    "    win_perc_pred = predict_win_perc(runs_scored, runs_allowed)\n",
    "    win_perc_preds_loop.append(win_perc_pred)\n",
    "\n",
    "# Apply predict_win_perc to each row of the DataFrame\n",
    "win_perc_preds_apply = baseball_df.apply(lambda row: predict_win_perc(row['RS'], row['RA']), axis=1)\n",
    "\n",
    "# Calculate the win percentage predictions using NumPy arrays\n",
    "win_perc_preds_np = predict_win_perc(baseball_df['RS'].values, baseball_df['RA'].values)\n",
    "baseball_df['WP_preds'] = win_perc_preds_np\n",
    "print(baseball_df.head())"
   ]
  },
  {
   "cell_type": "markdown",
   "metadata": {},
   "source": [
    "- That's a home run! You practiced using three different approaches to iterate over a pandas DataFrame and perform calculations. Did you notice that the .itertuples() approach beat the .apply() approach? Even though both these implementations can be useful, you should default to using a DataFrame's underlying arrays to perform calculations."
   ]
  }
 ],
 "metadata": {
  "kernelspec": {
   "display_name": "Python 3",
   "language": "python",
   "name": "python3"
  },
  "language_info": {
   "codemirror_mode": {
    "name": "ipython",
    "version": 3
   },
   "file_extension": ".py",
   "mimetype": "text/x-python",
   "name": "python",
   "nbconvert_exporter": "python",
   "pygments_lexer": "ipython3",
   "version": "3.7.6"
  },
  "toc": {
   "base_numbering": 1,
   "nav_menu": {},
   "number_sections": true,
   "sideBar": true,
   "skip_h1_title": false,
   "title_cell": "Table of Contents",
   "title_sidebar": "Contents",
   "toc_cell": true,
   "toc_position": {},
   "toc_section_display": true,
   "toc_window_display": false
  }
 },
 "nbformat": 4,
 "nbformat_minor": 4
}
