{
 "cells": [
  {
   "cell_type": "markdown",
   "metadata": {
    "toc": true
   },
   "source": [
    "<h1>Table of Contents<span class=\"tocSkip\"></span></h1>\n",
    "<div class=\"toc\"><ul class=\"toc-item\"><li><span><a href=\"#Preparing-data\" data-toc-modified-id=\"Preparing-data-1\"><span class=\"toc-item-num\">1&nbsp;&nbsp;</span>Preparing data</a></span><ul class=\"toc-item\"><li><span><a href=\"#Reading-DataFrames-from-multiple-files\" data-toc-modified-id=\"Reading-DataFrames-from-multiple-files-1.1\"><span class=\"toc-item-num\">1.1&nbsp;&nbsp;</span>Reading DataFrames from multiple files</a></span><ul class=\"toc-item\"><li><span><a href=\"#Reading-DataFrames-from-multiple-files-in-a-loop\" data-toc-modified-id=\"Reading-DataFrames-from-multiple-files-in-a-loop-1.1.1\"><span class=\"toc-item-num\">1.1.1&nbsp;&nbsp;</span>Reading DataFrames from multiple files in a loop</a></span></li></ul></li><li><span><a href=\"#Reindexing-DataFrames\" data-toc-modified-id=\"Reindexing-DataFrames-1.2\"><span class=\"toc-item-num\">1.2&nbsp;&nbsp;</span>Reindexing DataFrames</a></span><ul class=\"toc-item\"><li><span><a href=\"#Sorting-DataFrame-with-the-Index-&amp;-columns\" data-toc-modified-id=\"Sorting-DataFrame-with-the-Index-&amp;-columns-1.2.1\"><span class=\"toc-item-num\">1.2.1&nbsp;&nbsp;</span>Sorting DataFrame with the Index &amp; columns</a></span></li><li><span><a href=\"#Reindexing-DataFrame-from-a-list\" data-toc-modified-id=\"Reindexing-DataFrame-from-a-list-1.2.2\"><span class=\"toc-item-num\">1.2.2&nbsp;&nbsp;</span>Reindexing DataFrame from a list</a></span></li></ul></li><li><span><a href=\"#Arithmetic-with-Series-&amp;-DataFrames\" data-toc-modified-id=\"Arithmetic-with-Series-&amp;-DataFrames-1.3\"><span class=\"toc-item-num\">1.3&nbsp;&nbsp;</span>Arithmetic with Series &amp; DataFrames</a></span><ul class=\"toc-item\"><li><span><a href=\"#Broadcasting-in-arithmetic-formulas\" data-toc-modified-id=\"Broadcasting-in-arithmetic-formulas-1.3.1\"><span class=\"toc-item-num\">1.3.1&nbsp;&nbsp;</span>Broadcasting in arithmetic formulas</a></span></li><li><span><a href=\"#Converting-currency-of-stocks\" data-toc-modified-id=\"Converting-currency-of-stocks-1.3.2\"><span class=\"toc-item-num\">1.3.2&nbsp;&nbsp;</span>Converting currency of stocks</a></span></li></ul></li></ul></li><li><span><a href=\"#Concatenating-data\" data-toc-modified-id=\"Concatenating-data-2\"><span class=\"toc-item-num\">2&nbsp;&nbsp;</span>Concatenating data</a></span><ul class=\"toc-item\"><li><span><a href=\"#Appending-pandas-Series\" data-toc-modified-id=\"Appending-pandas-Series-2.1\"><span class=\"toc-item-num\">2.1&nbsp;&nbsp;</span>Appending pandas Series</a></span></li></ul></li></ul></div>"
   ]
  },
  {
   "cell_type": "code",
   "execution_count": 1,
   "metadata": {},
   "outputs": [],
   "source": [
    "import numpy as np\n",
    "import pandas as pd"
   ]
  },
  {
   "cell_type": "code",
   "execution_count": 23,
   "metadata": {},
   "outputs": [],
   "source": [
    "automobile = pd.read_csv('https://assets.datacamp.com/production/repositories/516/datasets/2f3d8b2156d5669fb7e12137f1c2e979c3c9ce0b/automobiles.csv')\n",
    "exchange = pd.read_csv('https://assets.datacamp.com/production/repositories/516/datasets/e91482db6a7bae394653278e4e908e63ed9ac833/exchange.csv',index_col='Date',parse_dates=True)\n",
    "oil_price = pd.read_csv('https://assets.datacamp.com/production/repositories/516/datasets/707566cf46c4dd6290b9029f5e07a92baf3fe3f7/oil_price.csv')\n",
    "pittsburgh2013 = pd.read_csv('https://assets.datacamp.com/production/repositories/516/datasets/58c1ead59818b2451324e9e84239db7bda6b11d3/pittsburgh2013.csv',index_col='Date',parse_dates=True)\n",
    "sp500 = pd.read_csv('https://assets.datacamp.com/production/repositories/516/datasets/7a9b570a02ef589891d9576a86876a616ca5f3c8/sp500.csv',index_col='Date',parse_dates=True)\n"
   ]
  },
  {
   "cell_type": "markdown",
   "metadata": {},
   "source": [
    "# Preparing data\n",
    "\n",
    "## Reading DataFrames from multiple files\n",
    "\n",
    "- When data is spread among several files, you usually invoke pandas' `read_csv()` (or a similar data import function) multiple times to load the data into several DataFrames.\n",
    "\n",
    "- The data files for this example have been derived from a list of Olympic medals awarded between 1896 & 2008 compiled by the Guardian.\n",
    "\n",
    "- The column labels of each DataFrame are `NOC, Country, & Total` where `NOC` is a three-letter code for the name of the `country` and `Total` is the number of medals of that type won (bronze, silver, or gold).\n",
    "\n",
    "- This course touches on a lot of concepts you may have forgotten, so if you ever need a quick refresher, download the [Pandas Cheat Sheet](https://datacamp-community-prod.s3.amazonaws.com/9f0f2ae1-8bd8-4302-a67b-e17f3059d9e8) and keep it handy!"
   ]
  },
  {
   "cell_type": "markdown",
   "metadata": {},
   "source": [
    "### Reading DataFrames from multiple files in a loop\n",
    "As you saw in the video, loading data from multiple files into DataFrames is more efficient in a loop or a list comprehension.\n",
    "\n",
    "Notice that this approach is not restricted to working with CSV files. That is, even if your data comes in other formats, as long as pandas has a suitable data import function, you can apply a loop or comprehension to generate a list of DataFrames imported from the source files."
   ]
  },
  {
   "cell_type": "raw",
   "metadata": {},
   "source": [
    "# Import pandas\n",
    "import pandas as pd\n",
    "\n",
    "# Create the list of file names: filenames\n",
    "filenames = ['Gold.csv', 'Silver.csv', 'Bronze.csv']\n",
    "\n",
    "# Create the list of three DataFrames: dataframes\n",
    "dataframes = []\n",
    "for filename in filenames:\n",
    "    dataframes.append(pd.read_csv(filename))\n",
    "\n",
    "# Print top 5 rows of 1st DataFrame in dataframes\n",
    "print(dataframes[0].head())"
   ]
  },
  {
   "cell_type": "markdown",
   "metadata": {},
   "source": [
    "## Reindexing DataFrames\n",
    "\n",
    "### Sorting DataFrame with the Index & columns\n",
    "It is often useful to rearrange the sequence of the rows of a DataFrame by sorting. You don't have to implement these yourself; the principal methods for doing this are .sort_index() and .sort_values().\n",
    "\n",
    "### Reindexing DataFrame from a list\n",
    "Sorting methods are not the only way to change DataFrame Indexes. There is also the .reindex() method.\n",
    "\n",
    "You'll initially use a list of all twelve month abbreviations and subsequently apply the .ffill() method to forward-fill the null entries when upsampling. This list of month abbreviations has been pre-loaded as year."
   ]
  },
  {
   "cell_type": "raw",
   "metadata": {},
   "source": [
    "# Import pandas\n",
    "import pandas as pd\n",
    "\n",
    "# Reindex weather1 using the list year: weather2\n",
    "weather2 = weather1.reindex(year)\n",
    "\n",
    "# Print weather2\n",
    "print(weather2)\n",
    "\n",
    "# Reindex weather1 using the list year with forward-fill: weather3\n",
    "weather3 = weather1.reindex(year).ffill()\n",
    "\n",
    "# Print weather3\n",
    "print(weather3)"
   ]
  },
  {
   "cell_type": "markdown",
   "metadata": {},
   "source": [
    "## Arithmetic with Series & DataFrames\n",
    "\n",
    "### Broadcasting in arithmetic formulas"
   ]
  },
  {
   "cell_type": "code",
   "execution_count": 6,
   "metadata": {},
   "outputs": [
    {
     "name": "stdout",
     "output_type": "stream",
     "text": [
      "            Min TemperatureC  Mean TemperatureC  Max TemperatureC\n",
      "Date                                                             \n",
      "2013-01-01         -6.111111          -2.222222          0.000000\n",
      "2013-01-02         -8.333333          -6.111111         -3.888889\n",
      "2013-01-03         -8.888889          -4.444444          0.000000\n",
      "2013-01-04         -2.777778          -2.222222         -1.111111\n",
      "2013-01-05         -3.888889          -1.111111          1.111111\n"
     ]
    }
   ],
   "source": [
    "weather = pittsburgh2013.copy()\n",
    "\n",
    "# Extract selected columns from weather as new DataFrame: temps_f\n",
    "temps_f = weather[['Min TemperatureF', 'Mean TemperatureF','Max TemperatureF']]\n",
    "\n",
    "# Convert temps_f to celsius: temps_c\n",
    "temps_c = (temps_f - 32) * 5/9\n",
    "\n",
    "# Rename 'F' in column names with 'C': temps_c.columns\n",
    "temps_c.columns = temps_c.columns.str.replace('F','C')\n",
    "\n",
    "# Print first 5 rows of temps_c\n",
    "print(temps_c.head())"
   ]
  },
  {
   "cell_type": "code",
   "execution_count": 14,
   "metadata": {},
   "outputs": [],
   "source": [
    "# Creating dataframe\n",
    "gdp_ix = ['1947-01-01 00:00:00',  '1947-04-01 00:00:00',  '1947-07-01 00:00:00',  '1947-10-01 00:00:00',  '1948-01-01 00:00:00',  '1948-04-01 00:00:00',  '1948-07-01 00:00:00',  '1948-10-01 00:00:00',  '1949-01-01 00:00:00',  '1949-04-01 00:00:00',  '1949-07-01 00:00:00',  '1949-10-01 00:00:00',  '1950-01-01 00:00:00',  '1950-04-01 00:00:00',  '1950-07-01 00:00:00',  '1950-10-01 00:00:00',  '1951-01-01 00:00:00',  '1951-04-01 00:00:00',  '1951-07-01 00:00:00',  '1951-10-01 00:00:00',  '1952-01-01 00:00:00',  '1952-04-01 00:00:00',  '1952-07-01 00:00:00',  '1952-10-01 00:00:00',  '1953-01-01 00:00:00',  '1953-04-01 00:00:00',  '1953-07-01 00:00:00',  '1953-10-01 00:00:00',  '1954-01-01 00:00:00',  '1954-04-01 00:00:00',  '1954-07-01 00:00:00',  '1954-10-01 00:00:00',  '1955-01-01 00:00:00',  '1955-04-01 00:00:00',  '1955-07-01 00:00:00',  '1955-10-01 00:00:00',  '1956-01-01 00:00:00',  '1956-04-01 00:00:00',  '1956-07-01 00:00:00',  '1956-10-01 00:00:00',  '1957-01-01 00:00:00',  '1957-04-01 00:00:00',  '1957-07-01 00:00:00',  '1957-10-01 00:00:00',  '1958-01-01 00:00:00',  '1958-04-01 00:00:00',  '1958-07-01 00:00:00',  '1958-10-01 00:00:00',  '1959-01-01 00:00:00',  '1959-04-01 00:00:00',  '1959-07-01 00:00:00',  '1959-10-01 00:00:00',  '1960-01-01 00:00:00',  '1960-04-01 00:00:00',  '1960-07-01 00:00:00',  '1960-10-01 00:00:00',  '1961-01-01 00:00:00',  '1961-04-01 00:00:00',  '1961-07-01 00:00:00',  '1961-10-01 00:00:00',  '1962-01-01 00:00:00',  '1962-04-01 00:00:00',  '1962-07-01 00:00:00',  '1962-10-01 00:00:00',  '1963-01-01 00:00:00',  '1963-04-01 00:00:00',  '1963-07-01 00:00:00',  '1963-10-01 00:00:00',  '1964-01-01 00:00:00',  '1964-04-01 00:00:00',  '1964-07-01 00:00:00',  '1964-10-01 00:00:00',  '1965-01-01 00:00:00',  '1965-04-01 00:00:00',  '1965-07-01 00:00:00',  '1965-10-01 00:00:00',  '1966-01-01 00:00:00',  '1966-04-01 00:00:00',  '1966-07-01 00:00:00',  '1966-10-01 00:00:00',  '1967-01-01 00:00:00',  '1967-04-01 00:00:00',  '1967-07-01 00:00:00',  '1967-10-01 00:00:00',  '1968-01-01 00:00:00',  '1968-04-01 00:00:00',  '1968-07-01 00:00:00',  '1968-10-01 00:00:00',  '1969-01-01 00:00:00',  '1969-04-01 00:00:00',  '1969-07-01 00:00:00',  '1969-10-01 00:00:00',  '1970-01-01 00:00:00',  '1970-04-01 00:00:00',  '1970-07-01 00:00:00',  '1970-10-01 00:00:00',  '1971-01-01 00:00:00',  '1971-04-01 00:00:00',  '1971-07-01 00:00:00',  '1971-10-01 00:00:00',  '1972-01-01 00:00:00',  '1972-04-01 00:00:00',  '1972-07-01 00:00:00',  '1972-10-01 00:00:00',  '1973-01-01 00:00:00',  '1973-04-01 00:00:00',  '1973-07-01 00:00:00',  '1973-10-01 00:00:00',  '1974-01-01 00:00:00',  '1974-04-01 00:00:00',  '1974-07-01 00:00:00',  '1974-10-01 00:00:00',  '1975-01-01 00:00:00',  '1975-04-01 00:00:00',  '1975-07-01 00:00:00',  '1975-10-01 00:00:00',  '1976-01-01 00:00:00',  '1976-04-01 00:00:00',  '1976-07-01 00:00:00',  '1976-10-01 00:00:00',  '1977-01-01 00:00:00',  '1977-04-01 00:00:00',  '1977-07-01 00:00:00',  '1977-10-01 00:00:00',  '1978-01-01 00:00:00',  '1978-04-01 00:00:00',  '1978-07-01 00:00:00',  '1978-10-01 00:00:00',  '1979-01-01 00:00:00',  '1979-04-01 00:00:00',  '1979-07-01 00:00:00',  '1979-10-01 00:00:00',  '1980-01-01 00:00:00',  '1980-04-01 00:00:00',  '1980-07-01 00:00:00',  '1980-10-01 00:00:00',  '1981-01-01 00:00:00',  '1981-04-01 00:00:00',  '1981-07-01 00:00:00',  '1981-10-01 00:00:00',  '1982-01-01 00:00:00',  '1982-04-01 00:00:00',  '1982-07-01 00:00:00',  '1982-10-01 00:00:00',  '1983-01-01 00:00:00',  '1983-04-01 00:00:00',  '1983-07-01 00:00:00',  '1983-10-01 00:00:00',  '1984-01-01 00:00:00',  '1984-04-01 00:00:00',  '1984-07-01 00:00:00',  '1984-10-01 00:00:00',  '1985-01-01 00:00:00',  '1985-04-01 00:00:00',  '1985-07-01 00:00:00',  '1985-10-01 00:00:00',  '1986-01-01 00:00:00',  '1986-04-01 00:00:00',  '1986-07-01 00:00:00',  '1986-10-01 00:00:00',  '1987-01-01 00:00:00',  '1987-04-01 00:00:00',  '1987-07-01 00:00:00',  '1987-10-01 00:00:00',  '1988-01-01 00:00:00',  '1988-04-01 00:00:00',  '1988-07-01 00:00:00',  '1988-10-01 00:00:00',  '1989-01-01 00:00:00',  '1989-04-01 00:00:00',  '1989-07-01 00:00:00',  '1989-10-01 00:00:00',  '1990-01-01 00:00:00',  '1990-04-01 00:00:00',  '1990-07-01 00:00:00',  '1990-10-01 00:00:00',  '1991-01-01 00:00:00',  '1991-04-01 00:00:00',  '1991-07-01 00:00:00',  '1991-10-01 00:00:00',  '1992-01-01 00:00:00',  '1992-04-01 00:00:00',  '1992-07-01 00:00:00',  '1992-10-01 00:00:00',  '1993-01-01 00:00:00',  '1993-04-01 00:00:00',  '1993-07-01 00:00:00',  '1993-10-01 00:00:00',  '1994-01-01 00:00:00',  '1994-04-01 00:00:00',  '1994-07-01 00:00:00',  '1994-10-01 00:00:00',  '1995-01-01 00:00:00',  '1995-04-01 00:00:00',  '1995-07-01 00:00:00',  '1995-10-01 00:00:00',  '1996-01-01 00:00:00',  '1996-04-01 00:00:00',  '1996-07-01 00:00:00',  '1996-10-01 00:00:00',  '1997-01-01 00:00:00',  '1997-04-01 00:00:00',  '1997-07-01 00:00:00',  '1997-10-01 00:00:00',  '1998-01-01 00:00:00',  '1998-04-01 00:00:00',  '1998-07-01 00:00:00',  '1998-10-01 00:00:00',  '1999-01-01 00:00:00',  '1999-04-01 00:00:00',  '1999-07-01 00:00:00',  '1999-10-01 00:00:00',  '2000-01-01 00:00:00',  '2000-04-01 00:00:00',  '2000-07-01 00:00:00',  '2000-10-01 00:00:00',  '2001-01-01 00:00:00',  '2001-04-01 00:00:00',  '2001-07-01 00:00:00',  '2001-10-01 00:00:00',  '2002-01-01 00:00:00',  '2002-04-01 00:00:00',  '2002-07-01 00:00:00',  '2002-10-01 00:00:00',  '2003-01-01 00:00:00',  '2003-04-01 00:00:00',  '2003-07-01 00:00:00',  '2003-10-01 00:00:00',  '2004-01-01 00:00:00',  '2004-04-01 00:00:00',  '2004-07-01 00:00:00',  '2004-10-01 00:00:00',  '2005-01-01 00:00:00',  '2005-04-01 00:00:00',  '2005-07-01 00:00:00',  '2005-10-01 00:00:00',  '2006-01-01 00:00:00',  '2006-04-01 00:00:00',  '2006-07-01 00:00:00',  '2006-10-01 00:00:00',  '2007-01-01 00:00:00',  '2007-04-01 00:00:00',  '2007-07-01 00:00:00',  '2007-10-01 00:00:00',  '2008-01-01 00:00:00',  '2008-04-01 00:00:00',  '2008-07-01 00:00:00',  '2008-10-01 00:00:00',  '2009-01-01 00:00:00',  '2009-04-01 00:00:00',  '2009-07-01 00:00:00',  '2009-10-01 00:00:00',  '2010-01-01 00:00:00',  '2010-04-01 00:00:00',  '2010-07-01 00:00:00',  '2010-10-01 00:00:00',  '2011-01-01 00:00:00',  '2011-04-01 00:00:00',  '2011-07-01 00:00:00',  '2011-10-01 00:00:00',  '2012-01-01 00:00:00',  '2012-04-01 00:00:00',  '2012-07-01 00:00:00',  '2012-10-01 00:00:00',  '2013-01-01 00:00:00',  '2013-04-01 00:00:00',  '2013-07-01 00:00:00',  '2013-10-01 00:00:00',  '2014-01-01 00:00:00',  '2014-04-01 00:00:00',  '2014-07-01 00:00:00',  '2014-10-01 00:00:00',  '2015-01-01 00:00:00',  '2015-04-01 00:00:00',  '2015-07-01 00:00:00',  '2015-10-01 00:00:00',  '2016-01-01 00:00:00',  '2016-04-01 00:00:00'] \n",
    "gdp_val = [243.1,  246.3,  250.1,  260.3,  266.2,  272.9,  279.5,  280.7,  275.4,  271.7,  273.3,  271.0,  281.2,  290.7,  308.5,  320.3,  336.4,  344.5,  351.8,  356.6,  360.2,  361.4,  368.1,  381.2,  388.5,  392.3,  391.7,  386.5,  385.9,  386.7,  391.6,  400.3,  413.8,  422.2,  430.9,  437.8,  440.5,  446.8,  452.0,  461.3,  470.6,  472.8,  480.3,  475.7,  468.4,  472.8,  486.7,  500.4,  511.1,  524.2,  525.2,  529.3,  543.3,  542.7,  546.0,  541.1,  545.9,  557.4,  568.2,  581.6,  595.2,  602.6,  609.6,  613.1,  622.7,  631.8,  645.0,  654.8,  671.1,  680.8,  692.8,  698.4,  719.2,  732.4,  750.2,  773.1,  797.3,  807.2,  820.8,  834.9,  846.0,  851.1,  866.6,  883.2,  911.1,  936.3,  952.3,  970.1,  995.4,  1011.4,  1032.0,  1040.7,  1053.5,  1070.1,  1088.5,  1091.5,  1137.8,  1159.4,  1180.3,  1193.6,  1233.8,  1270.1,  1293.8,  1332.0,  1380.7,  1417.6,  1436.8,  1479.1,  1494.7,  1534.2,  1563.4,  1603.0,  1619.6,  1656.4,  1713.8,  1765.9,  1824.5,  1856.9,  1890.5,  1938.4,  1992.5,  2060.2,  2122.4,  2168.7,  2208.7,  2336.6,  2398.9,  2482.2,  2531.6,  2595.9,  2670.4,  2730.7,  2796.5,  2799.9,  2860.0,  2993.5,  3131.8,  3167.3,  3261.2,  3283.5,  3273.8,  3331.3,  3367.1,  3407.8,  3480.3,  3583.8,  3692.3,  3796.1,  3912.8,  4015.0,  4087.4,  4147.6,  4237.0,  4302.3,  4394.6,  4453.1,  4516.3,  4555.2,  4619.6,  4669.4,  4736.2,  4821.5,  4900.5,  5022.7,  5090.6,  5207.7,  5299.5,  5412.7,  5527.4,  5628.4,  5711.6,  5763.4,  5890.8,  5974.7,  6029.5,  6023.3,  6054.9,  6143.6,  6218.4,  6279.3,  6380.8,  6492.3,  6586.5,  6697.6,  6748.2,  6829.6,  6904.2,  7032.8,  7136.3,  7269.8,  7352.3,  7476.7,  7545.3,  7604.9,  7706.5,  7799.5,  7893.1,  8061.5,  8159.0,  8287.1,  8402.1,  8551.9,  8691.8,  8788.3,  8889.7,  8994.7,  9146.5,  9325.7,  9447.1,  9557.0,  9712.3,  9926.1,  10031.0,  10278.3,  10357.4,  10472.3,  10508.1,  10638.4,  10639.5,  10701.3,  10834.4,  10934.8,  11037.1,  11103.8,  11230.1,  11370.7,  11625.1,  11816.8,  11988.4,  12181.4,  12367.7,  12562.2,  12813.7,  12974.1,  13205.4,  13381.6,  13648.9,  13799.8,  13908.5,  14066.4,  14233.2,  14422.3,  14569.7,  14685.3,  14668.4,  14813.0,  14843.0,  14549.9,  14383.9,  14340.4,  14384.1,  14566.5,  14681.1,  14888.6,  15057.7,  15230.2,  15238.4,  15460.9,  15587.1,  15785.3,  15973.9,  16121.9,  16227.9,  16297.3,  16475.4,  16541.4,  16749.3,  16999.9,  17025.2,  17285.6,  17569.4,  17692.2,  17783.6,  17998.3,  18141.9,  18222.8,  18281.6,  18436.5] \n",
    "gdp = pd.DataFrame({'VALUE':gdp_val},index=pd.DatetimeIndex(gdp_ix))\n"
   ]
  },
  {
   "cell_type": "code",
   "execution_count": 22,
   "metadata": {},
   "outputs": [
    {
     "name": "stdout",
     "output_type": "stream",
     "text": [
      "              VALUE\n",
      "2015-07-01  18141.9\n",
      "2015-10-01  18222.8\n",
      "2016-01-01  18281.6\n",
      "2016-04-01  18436.5\n",
      "\n",
      "\n",
      "               VALUE\n",
      "2012-12-31  16297.3\n",
      "2013-12-31  16999.9\n",
      "2014-12-31  17692.2\n",
      "2015-12-31  18222.8\n",
      "2016-12-31  18436.5\n",
      "\n",
      "\n",
      "               VALUE    growth\n",
      "2012-12-31  16297.3  3.243524\n",
      "2013-12-31  16999.9  4.311144\n",
      "2014-12-31  17692.2  4.072377\n",
      "2015-12-31  18222.8  2.999062\n",
      "2016-12-31  18436.5  1.172707\n"
     ]
    }
   ],
   "source": [
    "# Slice all the gdp data from 2008 onward: post2008\n",
    "post2008 = gdp.loc['2008':]\n",
    "\n",
    "# Print the last 8 rows of post2008\n",
    "print(post2008.tail(4))\n",
    "\n",
    "# Resample post2008 by year, keeping last(): yearly\n",
    "yearly = post2008.resample('A').last()\n",
    "\n",
    "# Print yearly\n",
    "print('\\n\\n',yearly.tail(5))\n",
    "\n",
    "# Compute percentage growth of yearly: yearly['growth']\n",
    "yearly['growth'] = yearly.pct_change()*100\n",
    "\n",
    "# Print yearly again\n",
    "print('\\n\\n',yearly.tail(5))"
   ]
  },
  {
   "cell_type": "markdown",
   "metadata": {},
   "source": [
    "### Converting currency of stocks\n",
    "\n",
    "- We also have DIVIDE and ADD operations similar to multiply below"
   ]
  },
  {
   "cell_type": "code",
   "execution_count": null,
   "metadata": {},
   "outputs": [],
   "source": [
    "# Subset 'Open' & 'Close' columns from sp500: dollars\n",
    "dollars = sp500[['Open','Close']]\n",
    "\n",
    "# Print the head of dollars\n",
    "print(dollars.head())\n",
    "\n",
    "# Convert dollars to pounds: pounds\n",
    "pounds = dollars.multiply(exchange['GBP/USD'],axis='rows')\n",
    "\n",
    "# Print the head of pounds\n",
    "print(pounds.head())"
   ]
  },
  {
   "cell_type": "markdown",
   "metadata": {},
   "source": [
    "# Concatenating data\n",
    "\n",
    "## Appending pandas Series"
   ]
  },
  {
   "cell_type": "code",
   "execution_count": null,
   "metadata": {},
   "outputs": [],
   "source": []
  },
  {
   "cell_type": "code",
   "execution_count": null,
   "metadata": {},
   "outputs": [],
   "source": []
  },
  {
   "cell_type": "code",
   "execution_count": null,
   "metadata": {},
   "outputs": [],
   "source": []
  }
 ],
 "metadata": {
  "kernelspec": {
   "display_name": "Python 3",
   "language": "python",
   "name": "python3"
  },
  "language_info": {
   "codemirror_mode": {
    "name": "ipython",
    "version": 3
   },
   "file_extension": ".py",
   "mimetype": "text/x-python",
   "name": "python",
   "nbconvert_exporter": "python",
   "pygments_lexer": "ipython3",
   "version": "3.7.6"
  },
  "toc": {
   "base_numbering": 1,
   "nav_menu": {},
   "number_sections": true,
   "sideBar": true,
   "skip_h1_title": false,
   "title_cell": "Table of Contents",
   "title_sidebar": "Contents",
   "toc_cell": true,
   "toc_position": {},
   "toc_section_display": true,
   "toc_window_display": false
  }
 },
 "nbformat": 4,
 "nbformat_minor": 4
}
