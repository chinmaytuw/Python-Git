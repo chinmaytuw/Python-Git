{
 "cells": [
  {
   "cell_type": "markdown",
   "metadata": {
    "toc": true
   },
   "source": [
    "<h1>Table of Contents<span class=\"tocSkip\"></span></h1>\n",
    "<div class=\"toc\"><ul class=\"toc-item\"><li><span><a href=\"#Extracting-and-transforming-data\" data-toc-modified-id=\"Extracting-and-transforming-data-1\"><span class=\"toc-item-num\">1&nbsp;&nbsp;</span>Extracting and transforming data</a></span><ul class=\"toc-item\"><li><span><a href=\"#Indexing-and-column-rearrangement\" data-toc-modified-id=\"Indexing-and-column-rearrangement-1.1\"><span class=\"toc-item-num\">1.1&nbsp;&nbsp;</span>Indexing and column rearrangement</a></span></li><li><span><a href=\"#Slicing-DataFrames\" data-toc-modified-id=\"Slicing-DataFrames-1.2\"><span class=\"toc-item-num\">1.2&nbsp;&nbsp;</span>Slicing DataFrames</a></span></li><li><span><a href=\"#Slicing-columns\" data-toc-modified-id=\"Slicing-columns-1.3\"><span class=\"toc-item-num\">1.3&nbsp;&nbsp;</span>Slicing columns</a></span></li><li><span><a href=\"#Subselecting-DataFrames-with-lists\" data-toc-modified-id=\"Subselecting-DataFrames-with-lists-1.4\"><span class=\"toc-item-num\">1.4&nbsp;&nbsp;</span>Subselecting DataFrames with lists</a></span></li><li><span><a href=\"#Filtering\" data-toc-modified-id=\"Filtering-1.5\"><span class=\"toc-item-num\">1.5&nbsp;&nbsp;</span>Filtering</a></span><ul class=\"toc-item\"><li><span><a href=\"#Filtering-columns-using-other-columns\" data-toc-modified-id=\"Filtering-columns-using-other-columns-1.5.1\"><span class=\"toc-item-num\">1.5.1&nbsp;&nbsp;</span>Filtering columns using other columns</a></span></li><li><span><a href=\"#Filtering-using-NaNs\" data-toc-modified-id=\"Filtering-using-NaNs-1.5.2\"><span class=\"toc-item-num\">1.5.2&nbsp;&nbsp;</span>Filtering using NaNs</a></span></li></ul></li><li><span><a href=\"#Using-apply()-to-transform-a-column\" data-toc-modified-id=\"Using-apply()-to-transform-a-column-1.6\"><span class=\"toc-item-num\">1.6&nbsp;&nbsp;</span>Using apply() to transform a column</a></span></li><li><span><a href=\"#Using-.map()-with-a-dictionary\" data-toc-modified-id=\"Using-.map()-with-a-dictionary-1.7\"><span class=\"toc-item-num\">1.7&nbsp;&nbsp;</span>Using .map() with a dictionary</a></span></li><li><span><a href=\"#Using-vectorized-functions\" data-toc-modified-id=\"Using-vectorized-functions-1.8\"><span class=\"toc-item-num\">1.8&nbsp;&nbsp;</span>Using vectorized functions</a></span></li></ul></li><li><span><a href=\"#Advanced-indexing\" data-toc-modified-id=\"Advanced-indexing-2\"><span class=\"toc-item-num\">2&nbsp;&nbsp;</span>Advanced indexing</a></span><ul class=\"toc-item\"><li><span><a href=\"#Single-Index\" data-toc-modified-id=\"Single-Index-2.1\"><span class=\"toc-item-num\">2.1&nbsp;&nbsp;</span>Single Index</a></span><ul class=\"toc-item\"><li><span><a href=\"#Changing-index-of-a-DataFrame\" data-toc-modified-id=\"Changing-index-of-a-DataFrame-2.1.1\"><span class=\"toc-item-num\">2.1.1&nbsp;&nbsp;</span>Changing index of a DataFrame</a></span></li><li><span><a href=\"#Changing-index-name-labels\" data-toc-modified-id=\"Changing-index-name-labels-2.1.2\"><span class=\"toc-item-num\">2.1.2&nbsp;&nbsp;</span>Changing index name labels</a></span></li><li><span><a href=\"#Building-an-index,-then-a-DataFrame\" data-toc-modified-id=\"Building-an-index,-then-a-DataFrame-2.1.3\"><span class=\"toc-item-num\">2.1.3&nbsp;&nbsp;</span>Building an index, then a DataFrame</a></span></li></ul></li><li><span><a href=\"#Multi-index\" data-toc-modified-id=\"Multi-index-2.2\"><span class=\"toc-item-num\">2.2&nbsp;&nbsp;</span>Multi index</a></span><ul class=\"toc-item\"><li><span><a href=\"#Extracting-data-with-a-MultiIndex\" data-toc-modified-id=\"Extracting-data-with-a-MultiIndex-2.2.1\"><span class=\"toc-item-num\">2.2.1&nbsp;&nbsp;</span>Extracting data with a MultiIndex</a></span></li><li><span><a href=\"#Extracting-data-with-a-MultiIndex\" data-toc-modified-id=\"Extracting-data-with-a-MultiIndex-2.2.2\"><span class=\"toc-item-num\">2.2.2&nbsp;&nbsp;</span>Extracting data with a MultiIndex</a></span></li><li><span><a href=\"#Setting-&amp;-sorting-a-MultiIndex\" data-toc-modified-id=\"Setting-&amp;-sorting-a-MultiIndex-2.2.3\"><span class=\"toc-item-num\">2.2.3&nbsp;&nbsp;</span>Setting &amp; sorting a MultiIndex</a></span></li><li><span><a href=\"#Using-.loc[]-with-nonunique-indexes\" data-toc-modified-id=\"Using-.loc[]-with-nonunique-indexes-2.2.4\"><span class=\"toc-item-num\">2.2.4&nbsp;&nbsp;</span>Using .loc[] with nonunique indexes</a></span></li><li><span><a href=\"#Indexing-multiple-levels-of-a-MultiIndex\" data-toc-modified-id=\"Indexing-multiple-levels-of-a-MultiIndex-2.2.5\"><span class=\"toc-item-num\">2.2.5&nbsp;&nbsp;</span>Indexing multiple levels of a MultiIndex</a></span></li></ul></li></ul></li><li><span><a href=\"#Rearranging-and-reshaping-data\" data-toc-modified-id=\"Rearranging-and-reshaping-data-3\"><span class=\"toc-item-num\">3&nbsp;&nbsp;</span>Rearranging and reshaping data</a></span><ul class=\"toc-item\"><li><span><a href=\"#Pivoting\" data-toc-modified-id=\"Pivoting-3.1\"><span class=\"toc-item-num\">3.1&nbsp;&nbsp;</span>Pivoting</a></span><ul class=\"toc-item\"><li><span><a href=\"#Pivoting-a-single-variable\" data-toc-modified-id=\"Pivoting-a-single-variable-3.1.1\"><span class=\"toc-item-num\">3.1.1&nbsp;&nbsp;</span>Pivoting a single variable</a></span></li><li><span><a href=\"#Pivoting-all-variables\" data-toc-modified-id=\"Pivoting-all-variables-3.1.2\"><span class=\"toc-item-num\">3.1.2&nbsp;&nbsp;</span>Pivoting all variables</a></span></li></ul></li><li><span><a href=\"#Stacking-&amp;-unstacking-DataFrames\" data-toc-modified-id=\"Stacking-&amp;-unstacking-DataFrames-3.2\"><span class=\"toc-item-num\">3.2&nbsp;&nbsp;</span>Stacking &amp; unstacking DataFrames</a></span><ul class=\"toc-item\"><li><span><a href=\"#Stacking-&amp;-unstacking-I\" data-toc-modified-id=\"Stacking-&amp;-unstacking-I-3.2.1\"><span class=\"toc-item-num\">3.2.1&nbsp;&nbsp;</span>Stacking &amp; unstacking I</a></span></li><li><span><a href=\"#Stacking-&amp;-unstacking-II\" data-toc-modified-id=\"Stacking-&amp;-unstacking-II-3.2.2\"><span class=\"toc-item-num\">3.2.2&nbsp;&nbsp;</span>Stacking &amp; unstacking II</a></span></li><li><span><a href=\"#Restoring-the-index-order\" data-toc-modified-id=\"Restoring-the-index-order-3.2.3\"><span class=\"toc-item-num\">3.2.3&nbsp;&nbsp;</span>Restoring the index order</a></span></li></ul></li><li><span><a href=\"#Melting-DataFrames\" data-toc-modified-id=\"Melting-DataFrames-3.3\"><span class=\"toc-item-num\">3.3&nbsp;&nbsp;</span>Melting DataFrames</a></span><ul class=\"toc-item\"><li><span><a href=\"#Adding-names-for-readability\" data-toc-modified-id=\"Adding-names-for-readability-3.3.1\"><span class=\"toc-item-num\">3.3.1&nbsp;&nbsp;</span>Adding names for readability</a></span></li><li><span><a href=\"#Going-from-wide-to-long\" data-toc-modified-id=\"Going-from-wide-to-long-3.3.2\"><span class=\"toc-item-num\">3.3.2&nbsp;&nbsp;</span>Going from wide to long</a></span></li><li><span><a href=\"#Obtaining-key-value-pairs-with-melt()\" data-toc-modified-id=\"Obtaining-key-value-pairs-with-melt()-3.3.3\"><span class=\"toc-item-num\">3.3.3&nbsp;&nbsp;</span>Obtaining key-value pairs with melt()</a></span></li></ul></li><li><span><a href=\"#Pivot-tables\" data-toc-modified-id=\"Pivot-tables-3.4\"><span class=\"toc-item-num\">3.4&nbsp;&nbsp;</span>Pivot tables</a></span><ul class=\"toc-item\"><li><span><a href=\"#Setting-up-a-pivot-table\" data-toc-modified-id=\"Setting-up-a-pivot-table-3.4.1\"><span class=\"toc-item-num\">3.4.1&nbsp;&nbsp;</span>Setting up a pivot table</a></span></li><li><span><a href=\"#Using-other-aggregations-in-pivot-tables\" data-toc-modified-id=\"Using-other-aggregations-in-pivot-tables-3.4.2\"><span class=\"toc-item-num\">3.4.2&nbsp;&nbsp;</span>Using other aggregations in pivot tables</a></span></li><li><span><a href=\"#Using-margins-in-pivot-tables\" data-toc-modified-id=\"Using-margins-in-pivot-tables-3.4.3\"><span class=\"toc-item-num\">3.4.3&nbsp;&nbsp;</span>Using margins in pivot tables</a></span></li></ul></li></ul></li><li><span><a href=\"#Grouping-data\" data-toc-modified-id=\"Grouping-data-4\"><span class=\"toc-item-num\">4&nbsp;&nbsp;</span>Grouping data</a></span><ul class=\"toc-item\"><li><span><a href=\"#Grouping-by-multiple-columns\" data-toc-modified-id=\"Grouping-by-multiple-columns-4.1\"><span class=\"toc-item-num\">4.1&nbsp;&nbsp;</span>Grouping by multiple columns</a></span></li><li><span><a href=\"#Groupby-and-aggregation\" data-toc-modified-id=\"Groupby-and-aggregation-4.2\"><span class=\"toc-item-num\">4.2&nbsp;&nbsp;</span>Groupby and aggregation</a></span><ul class=\"toc-item\"><li><span><a href=\"#Computing-multiple-aggregates-of-multiple-columns\" data-toc-modified-id=\"Computing-multiple-aggregates-of-multiple-columns-4.2.1\"><span class=\"toc-item-num\">4.2.1&nbsp;&nbsp;</span>Computing multiple aggregates of multiple columns</a></span></li><li><span><a href=\"#Aggregating-on-index-levels/fields\" data-toc-modified-id=\"Aggregating-on-index-levels/fields-4.2.2\"><span class=\"toc-item-num\">4.2.2&nbsp;&nbsp;</span>Aggregating on index levels/fields</a></span></li><li><span><a href=\"#Grouping-on-a-function-of-the-index\" data-toc-modified-id=\"Grouping-on-a-function-of-the-index-4.2.3\"><span class=\"toc-item-num\">4.2.3&nbsp;&nbsp;</span>Grouping on a function of the index</a></span></li></ul></li><li><span><a href=\"#Groupby-and-transformation\" data-toc-modified-id=\"Groupby-and-transformation-4.3\"><span class=\"toc-item-num\">4.3&nbsp;&nbsp;</span>Groupby and transformation</a></span><ul class=\"toc-item\"><li><span><a href=\"#Detecting-outliers-with-Z-Scores\" data-toc-modified-id=\"Detecting-outliers-with-Z-Scores-4.3.1\"><span class=\"toc-item-num\">4.3.1&nbsp;&nbsp;</span>Detecting outliers with Z-Scores</a></span></li><li><span><a href=\"#Filling-missing-data-(imputation)-by-group\" data-toc-modified-id=\"Filling-missing-data-(imputation)-by-group-4.3.2\"><span class=\"toc-item-num\">4.3.2&nbsp;&nbsp;</span>Filling missing data (imputation) by group</a></span></li></ul></li><li><span><a href=\"#Other-transformations-with-.apply\" data-toc-modified-id=\"Other-transformations-with-.apply-4.4\"><span class=\"toc-item-num\">4.4&nbsp;&nbsp;</span>Other transformations with .apply</a></span><ul class=\"toc-item\"><li><span><a href=\"#Grouping-and-filtering-with-.apply()\" data-toc-modified-id=\"Grouping-and-filtering-with-.apply()-4.4.1\"><span class=\"toc-item-num\">4.4.1&nbsp;&nbsp;</span>Grouping and filtering with .apply()</a></span></li><li><span><a href=\"#Grouping-and-filtering-with-.filter()\" data-toc-modified-id=\"Grouping-and-filtering-with-.filter()-4.4.2\"><span class=\"toc-item-num\">4.4.2&nbsp;&nbsp;</span>Grouping and filtering with .filter()</a></span></li><li><span><a href=\"#Filtering-and-grouping-with-.map()\" data-toc-modified-id=\"Filtering-and-grouping-with-.map()-4.4.3\"><span class=\"toc-item-num\">4.4.3&nbsp;&nbsp;</span>Filtering and grouping with .map()</a></span></li></ul></li></ul></li><li><span><a href=\"#Case-Study---Summer-Olympics\" data-toc-modified-id=\"Case-Study---Summer-Olympics-5\"><span class=\"toc-item-num\">5&nbsp;&nbsp;</span>Case Study - Summer Olympics</a></span><ul class=\"toc-item\"><li><span><a href=\"#Using-.value_counts()-for-ranking\" data-toc-modified-id=\"Using-.value_counts()-for-ranking-5.1\"><span class=\"toc-item-num\">5.1&nbsp;&nbsp;</span>Using .value_counts() for ranking</a></span></li><li><span><a href=\"#Using-.pivot_table()-to-count-medals-by-type\" data-toc-modified-id=\"Using-.pivot_table()-to-count-medals-by-type-5.2\"><span class=\"toc-item-num\">5.2&nbsp;&nbsp;</span>Using .pivot_table() to count medals by type</a></span></li><li><span><a href=\"#Applying-.drop_duplicates()\" data-toc-modified-id=\"Applying-.drop_duplicates()-5.3\"><span class=\"toc-item-num\">5.3&nbsp;&nbsp;</span>Applying .drop_duplicates()</a></span></li><li><span><a href=\"#Finding-possible-errors-with-.groupby()\" data-toc-modified-id=\"Finding-possible-errors-with-.groupby()-5.4\"><span class=\"toc-item-num\">5.4&nbsp;&nbsp;</span>Finding possible errors with .groupby()</a></span></li><li><span><a href=\"#Using-.nunique()-to-rank-by-distinct-sports\" data-toc-modified-id=\"Using-.nunique()-to-rank-by-distinct-sports-5.5\"><span class=\"toc-item-num\">5.5&nbsp;&nbsp;</span>Using .nunique() to rank by distinct sports</a></span></li><li><span><a href=\"#Counting-USA-vs.-USSR-Cold-War-Olympic-Sports\" data-toc-modified-id=\"Counting-USA-vs.-USSR-Cold-War-Olympic-Sports-5.6\"><span class=\"toc-item-num\">5.6&nbsp;&nbsp;</span>Counting USA vs. USSR Cold War Olympic Sports</a></span></li><li><span><a href=\"#Counting-USA-vs.-USSR-Cold-War-Olympic-Medals\" data-toc-modified-id=\"Counting-USA-vs.-USSR-Cold-War-Olympic-Medals-5.7\"><span class=\"toc-item-num\">5.7&nbsp;&nbsp;</span>Counting USA vs. USSR Cold War Olympic Medals</a></span></li><li><span><a href=\"#Visualizing-USA-Medal-Counts-by-Edition:-Line-Plot\" data-toc-modified-id=\"Visualizing-USA-Medal-Counts-by-Edition:-Line-Plot-5.8\"><span class=\"toc-item-num\">5.8&nbsp;&nbsp;</span>Visualizing USA Medal Counts by Edition: Line Plot</a></span></li><li><span><a href=\"#Visualizing-USA-Medal-Counts-by-Edition:-Area-Plot\" data-toc-modified-id=\"Visualizing-USA-Medal-Counts-by-Edition:-Area-Plot-5.9\"><span class=\"toc-item-num\">5.9&nbsp;&nbsp;</span>Visualizing USA Medal Counts by Edition: Area Plot</a></span></li><li><span><a href=\"#Visualizing-USA-Medal-Counts-by-Edition:-Area-Plot-with-Ordered-Medals\" data-toc-modified-id=\"Visualizing-USA-Medal-Counts-by-Edition:-Area-Plot-with-Ordered-Medals-5.10\"><span class=\"toc-item-num\">5.10&nbsp;&nbsp;</span>Visualizing USA Medal Counts by Edition: Area Plot with Ordered Medals</a></span></li></ul></li></ul></div>"
   ]
  },
  {
   "cell_type": "code",
   "execution_count": 1,
   "metadata": {},
   "outputs": [],
   "source": [
    "import pandas as pd\n",
    "import numpy as np\n",
    "import matplotlib.pyplot as plt\n"
   ]
  },
  {
   "cell_type": "code",
   "execution_count": 2,
   "metadata": {},
   "outputs": [],
   "source": [
    "# importing data\n",
    "olympics = pd.read_csv('https://assets.datacamp.com/production/repositories/502/datasets/bf22326ecc9171f68796ad805a7c1135288120b6/all_medalists.csv')\n",
    "gapminder = pd.read_csv('https://assets.datacamp.com/production/repositories/502/datasets/09378cc53faec573bcb802dce03b01318108a880/gapminder_tidy.csv')\n",
    "elections = pd.read_csv('https://assets.datacamp.com/production/repositories/502/datasets/502f4eedaf44ad1c94b3595c7691746f282e0b0a/pennsylvania2012_turnout.csv')\n",
    "weather = pd.read_csv('https://assets.datacamp.com/production/repositories/502/datasets/6c4984cb81ea50971c1660434cc4535a6669a848/pittsburgh2013.csv')\n",
    "titanic = pd.read_csv('https://assets.datacamp.com/production/repositories/502/datasets/e280ed94bf4539afb57d8b1cbcc14bcf660d3c63/titanic.csv')\n",
    "users = pd.read_csv('https://assets.datacamp.com/production/repositories/502/datasets/eaf29468b9fbaad454a74d3c2b59b36e5ab4558b/users.csv',index_col='Unnamed: 0')\n",
    "\n"
   ]
  },
  {
   "cell_type": "markdown",
   "metadata": {},
   "source": [
    "# Extracting and transforming data\n",
    "\n",
    "## Indexing and column rearrangement"
   ]
  },
  {
   "cell_type": "code",
   "execution_count": 3,
   "metadata": {},
   "outputs": [
    {
     "name": "stdout",
     "output_type": "stream",
     "text": [
      "           winner   total  voters\n",
      "county                           \n",
      "Adams      Romney   41973   61156\n",
      "Allegheny   Obama  614671  924351\n",
      "Armstrong  Romney   28322   42147\n",
      "Beaver     Romney   80015  115157\n",
      "Bedford    Romney   21444   32189\n"
     ]
    }
   ],
   "source": [
    "# Import pandas\n",
    "import pandas as pd\n",
    "\n",
    "# read df\n",
    "election = pd.read_csv('https://assets.datacamp.com/production/repositories/502/datasets/502f4eedaf44ad1c94b3595c7691746f282e0b0a/pennsylvania2012_turnout.csv',index_col='county')\n",
    "\n",
    "# Create a separate dataframe with the columns ['winner', 'total', 'voters']: results\n",
    "results = election[['winner', 'total', 'voters']]\n",
    "\n",
    "# Print the output of results.head()\n",
    "print(results.head())"
   ]
  },
  {
   "cell_type": "markdown",
   "metadata": {},
   "source": [
    "## Slicing DataFrames\n",
    "<img src = './Images/df-1.png' width = 400 align = \"left\">"
   ]
  },
  {
   "cell_type": "code",
   "execution_count": 4,
   "metadata": {},
   "outputs": [
    {
     "name": "stdout",
     "output_type": "stream",
     "text": [
      "             state   total      Obama     Romney  winner   voters    turnout  \\\n",
      "county                                                                         \n",
      "Perry           PA   18240  29.769737  68.591009  Romney    27245  66.948064   \n",
      "Philadelphia    PA  653598  85.224251  14.051451   Obama  1099197  59.461407   \n",
      "\n",
      "                 margin  \n",
      "county                   \n",
      "Perry         38.821272  \n",
      "Philadelphia  71.172800  \n",
      "       state  total      Obama     Romney  winner  voters    turnout  \\\n",
      "county                                                                 \n",
      "Potter    PA   7205  26.259542  72.158223  Romney   10913  66.022175   \n",
      "Pike      PA  23164  43.904334  54.882576  Romney   41840  55.363289   \n",
      "\n",
      "           margin  \n",
      "county             \n",
      "Potter  45.898681  \n",
      "Pike    10.978242  \n"
     ]
    }
   ],
   "source": [
    "# Slice the row labels 'Perry' to 'Potter': p_counties\n",
    "p_counties = election.loc['Perry':'Potter']\n",
    "\n",
    "# Print the p_counties DataFrame\n",
    "print(p_counties.head(2))\n",
    "\n",
    "# Slice the row labels 'Potter' to 'Perry' in reverse order: p_counties_rev\n",
    "p_counties_rev = election.loc['Potter':'Perry':-1]\n",
    "\n",
    "# Print the p_counties_rev DataFrame\n",
    "print(p_counties_rev.head(2))"
   ]
  },
  {
   "cell_type": "markdown",
   "metadata": {},
   "source": [
    "## Slicing columns"
   ]
  },
  {
   "cell_type": "code",
   "execution_count": 5,
   "metadata": {},
   "outputs": [
    {
     "name": "stdout",
     "output_type": "stream",
     "text": [
      "       state  total      Obama\n",
      "county                        \n",
      "Adams     PA  41973  35.482334\n",
      "            Obama     Romney  winner\n",
      "county                              \n",
      "Adams   35.482334  63.112001  Romney\n",
      "           Romney  winner  voters    turnout     margin\n",
      "county                                                 \n",
      "Adams   63.112001  Romney   61156  68.632677  27.629667\n"
     ]
    }
   ],
   "source": [
    "# Slice the columns from the starting column to 'Obama': left_columns\n",
    "left_columns = election.loc[:,:'Obama']\n",
    "\n",
    "# Print the output of left_columns.head()\n",
    "print(left_columns.head(1))\n",
    "\n",
    "# Slice the columns from 'Obama' to 'winner': middle_columns\n",
    "middle_columns = election.loc[:,'Obama':'winner']\n",
    "\n",
    "# Print the output of middle_columns.head()\n",
    "print(middle_columns.head(1))\n",
    "\n",
    "# Slice the columns from 'Romney' to the end: 'right_columns'\n",
    "right_columns = election.loc[:,'Romney':]\n",
    "\n",
    "# Print the output of right_columns.head()\n",
    "print(right_columns.head(1))"
   ]
  },
  {
   "cell_type": "markdown",
   "metadata": {},
   "source": [
    "## Subselecting DataFrames with lists"
   ]
  },
  {
   "cell_type": "code",
   "execution_count": 6,
   "metadata": {},
   "outputs": [
    {
     "name": "stdout",
     "output_type": "stream",
     "text": [
      "              winner      Obama     Romney\n",
      "county                                    \n",
      "Philadelphia   Obama  85.224251  14.051451\n",
      "Centre        Romney  48.948416  48.977486\n",
      "Fulton        Romney  21.096291  77.748861\n"
     ]
    }
   ],
   "source": [
    "# Create the list of row labels: rows\n",
    "rows = ['Philadelphia', 'Centre', 'Fulton']\n",
    "\n",
    "# Create the list of column labels: cols\n",
    "cols = ['winner', 'Obama', 'Romney']\n",
    "\n",
    "# Create the new DataFrame: three_counties\n",
    "three_counties = election.loc[rows,cols]\n",
    "\n",
    "# Print the three_counties DataFrame\n",
    "print(three_counties)"
   ]
  },
  {
   "cell_type": "markdown",
   "metadata": {},
   "source": [
    "## Filtering \n",
    "\n",
    "### Filtering columns using other columns"
   ]
  },
  {
   "cell_type": "code",
   "execution_count": 7,
   "metadata": {},
   "outputs": [
    {
     "name": "stdout",
     "output_type": "stream",
     "text": [
      "       state   total      Obama     Romney  winner  voters    turnout  \\\n",
      "county                                                                  \n",
      "Bucks     PA  319407  49.966970  48.801686   Obama  435606  73.324748   \n",
      "Butler    PA   88924  31.920516  66.816607  Romney  122762  72.436096   \n",
      "\n",
      "           margin  \n",
      "county             \n",
      "Bucks    1.165284  \n",
      "Butler  34.896091  \n"
     ]
    }
   ],
   "source": [
    "# Create the boolean array: high_turnout\n",
    "high_turnout = election['turnout']>70\n",
    "\n",
    "# Filter the election DataFrame with the high_turnout array: high_turnout_df\n",
    "high_turnout_df = election[high_turnout]\n",
    "\n",
    "# Print the high_turnout_results DataFrame\n",
    "print(high_turnout_df.head(2))"
   ]
  },
  {
   "cell_type": "code",
   "execution_count": 8,
   "metadata": {},
   "outputs": [
    {
     "name": "stdout",
     "output_type": "stream",
     "text": [
      "<class 'pandas.core.frame.DataFrame'>\n",
      "Index: 67 entries, Adams to York\n",
      "Data columns (total 8 columns):\n",
      " #   Column   Non-Null Count  Dtype  \n",
      "---  ------   --------------  -----  \n",
      " 0   state    67 non-null     object \n",
      " 1   total    67 non-null     int64  \n",
      " 2   Obama    67 non-null     float64\n",
      " 3   Romney   67 non-null     float64\n",
      " 4   winner   64 non-null     object \n",
      " 5   voters   67 non-null     int64  \n",
      " 6   turnout  67 non-null     float64\n",
      " 7   margin   67 non-null     float64\n",
      "dtypes: float64(4), int64(2), object(2)\n",
      "memory usage: 4.7+ KB\n",
      "None\n"
     ]
    },
    {
     "name": "stderr",
     "output_type": "stream",
     "text": [
      "/Users/ctatwawadi/opt/anaconda3/lib/python3.7/site-packages/ipykernel_launcher.py:10: SettingWithCopyWarning: \n",
      "A value is trying to be set on a copy of a slice from a DataFrame\n",
      "\n",
      "See the caveats in the documentation: https://pandas.pydata.org/pandas-docs/stable/user_guide/indexing.html#returning-a-view-versus-a-copy\n",
      "  # Remove the CWD from sys.path while we load stuff.\n"
     ]
    }
   ],
   "source": [
    "election_2 = election.copy()\n",
    "\n",
    "# Import numpy\n",
    "import numpy as np\n",
    "\n",
    "# Create the boolean array: too_close\n",
    "too_close = election_2['margin']<1\n",
    "\n",
    "# Assign np.nan to the 'winner' column where the results were too close to call\n",
    "election_2.winner[too_close] = np.nan\n",
    "\n",
    "# Print the output of election.info()\n",
    "print(election_2.info())\n"
   ]
  },
  {
   "cell_type": "markdown",
   "metadata": {},
   "source": [
    "### Filtering using NaNs"
   ]
  },
  {
   "cell_type": "code",
   "execution_count": 9,
   "metadata": {},
   "outputs": [
    {
     "name": "stdout",
     "output_type": "stream",
     "text": [
      "(1309, 2)\n",
      "(272, 2)\n",
      "(1069, 2)\n",
      "<class 'pandas.core.frame.DataFrame'>\n",
      "RangeIndex: 1309 entries, 0 to 1308\n",
      "Data columns (total 10 columns):\n",
      " #   Column    Non-Null Count  Dtype  \n",
      "---  ------    --------------  -----  \n",
      " 0   pclass    1309 non-null   int64  \n",
      " 1   survived  1309 non-null   int64  \n",
      " 2   name      1309 non-null   object \n",
      " 3   sex       1309 non-null   object \n",
      " 4   age       1046 non-null   float64\n",
      " 5   sibsp     1309 non-null   int64  \n",
      " 6   parch     1309 non-null   int64  \n",
      " 7   ticket    1309 non-null   object \n",
      " 8   fare      1308 non-null   float64\n",
      " 9   embarked  1307 non-null   object \n",
      "dtypes: float64(2), int64(4), object(4)\n",
      "memory usage: 102.4+ KB\n",
      "None\n"
     ]
    }
   ],
   "source": [
    "# Select the 'age' and 'cabin' columns: df\n",
    "df = titanic[['age','cabin']]\n",
    "\n",
    "# Print the shape of df\n",
    "print(df.shape)\n",
    "\n",
    "# Drop rows in df with how='any' and print the shape\n",
    "print(df.dropna(how='any').shape)\n",
    "\n",
    "# Drop rows in df with how='all' and print the shape\n",
    "print(df.dropna(how='all').shape)\n",
    "\n",
    "# Drop columns in titanic with less than 1000 non-missing values\n",
    "print(titanic.dropna(thresh=1000, axis='columns').info())"
   ]
  },
  {
   "cell_type": "markdown",
   "metadata": {},
   "source": [
    "## Using apply() to transform a column\n",
    "- The .apply() method can be used on a pandas DataFrame to apply an arbitrary Python function to every element. In this exercise you'll take daily weather data in Pittsburgh in 2013 obtained from Weather Underground.\n",
    "\n",
    "- A function to convert degrees Fahrenheit to degrees Celsius has been written for you. Your job is to use the .apply() method to perform this conversion on the 'Mean TemperatureF' and 'Mean Dew PointF' columns of the weather DataFrame."
   ]
  },
  {
   "cell_type": "code",
   "execution_count": 10,
   "metadata": {},
   "outputs": [
    {
     "name": "stdout",
     "output_type": "stream",
     "text": [
      "   Mean TemperatureC  Mean Dew PointC\n",
      "0          -2.222222        -2.777778\n",
      "1          -6.111111       -11.111111\n",
      "2          -4.444444        -9.444444\n",
      "3          -2.222222        -7.222222\n",
      "4          -1.111111        -6.666667\n"
     ]
    }
   ],
   "source": [
    "# Write a function to convert degrees Fahrenheit to degrees Celsius: to_celsius\n",
    "def to_celsius(F):\n",
    "    return 5/9*(F - 32)\n",
    "\n",
    "# Apply the function over 'Mean TemperatureF' and 'Mean Dew PointF': df_celsius\n",
    "df_celsius = weather[['Mean TemperatureF','Mean Dew PointF']].apply(to_celsius)\n",
    "\n",
    "# Reassign the column labels of df_celsius\n",
    "df_celsius.columns = ['Mean TemperatureC', 'Mean Dew PointC']\n",
    "\n",
    "# Print the output of df_celsius.head()\n",
    "print(df_celsius.head())"
   ]
  },
  {
   "cell_type": "markdown",
   "metadata": {},
   "source": [
    "## Using .map() with a dictionary\n",
    "\n",
    "- The .map() method is used to transform values according to a Python dictionary look-up. In this exercise you'll practice this method while returning to working with the election DataFrame, which has been pre-loaded for you."
   ]
  },
  {
   "cell_type": "code",
   "execution_count": 11,
   "metadata": {},
   "outputs": [
    {
     "name": "stdout",
     "output_type": "stream",
     "text": [
      "          state   total      Obama     Romney  winner  voters    turnout  \\\n",
      "county                                                                     \n",
      "Adams        PA   41973  35.482334  63.112001  Romney   61156  68.632677   \n",
      "Allegheny    PA  614671  56.640219  42.185820   Obama  924351  66.497575   \n",
      "\n",
      "              margin color  \n",
      "county                      \n",
      "Adams      27.629667   red  \n",
      "Allegheny  14.454399  blue  \n"
     ]
    }
   ],
   "source": [
    "# Create the dictionary: red_vs_blue\n",
    "red_vs_blue = {'Obama':'blue' , 'Romney':'red'}\n",
    "\n",
    "# Use the dictionary to map the 'winner' column to the new column: election['color']\n",
    "election['color'] = election['winner'].map(red_vs_blue)\n",
    "\n",
    "# Print the output of election.head()\n",
    "print(election.head(2))"
   ]
  },
  {
   "cell_type": "code",
   "execution_count": 30,
   "metadata": {},
   "outputs": [],
   "source": [
    "# Mapper 2\n",
    "mapper = {True:'ThisIsTrue',False:'ThisIsFalse'}\n",
    "\n",
    "# adding new col\n",
    "election['mapper'] = (election['total'] < 80000).map(mapper)"
   ]
  },
  {
   "cell_type": "code",
   "execution_count": 31,
   "metadata": {},
   "outputs": [
    {
     "data": {
      "text/html": [
       "<div>\n",
       "<style scoped>\n",
       "    .dataframe tbody tr th:only-of-type {\n",
       "        vertical-align: middle;\n",
       "    }\n",
       "\n",
       "    .dataframe tbody tr th {\n",
       "        vertical-align: top;\n",
       "    }\n",
       "\n",
       "    .dataframe thead th {\n",
       "        text-align: right;\n",
       "    }\n",
       "</style>\n",
       "<table border=\"1\" class=\"dataframe\">\n",
       "  <thead>\n",
       "    <tr style=\"text-align: right;\">\n",
       "      <th></th>\n",
       "      <th>state</th>\n",
       "      <th>total</th>\n",
       "      <th>Obama</th>\n",
       "      <th>Romney</th>\n",
       "      <th>winner</th>\n",
       "      <th>voters</th>\n",
       "      <th>turnout</th>\n",
       "      <th>margin</th>\n",
       "      <th>color</th>\n",
       "      <th>turnout_zscore</th>\n",
       "      <th>mapper</th>\n",
       "    </tr>\n",
       "    <tr>\n",
       "      <th>county</th>\n",
       "      <th></th>\n",
       "      <th></th>\n",
       "      <th></th>\n",
       "      <th></th>\n",
       "      <th></th>\n",
       "      <th></th>\n",
       "      <th></th>\n",
       "      <th></th>\n",
       "      <th></th>\n",
       "      <th></th>\n",
       "      <th></th>\n",
       "    </tr>\n",
       "  </thead>\n",
       "  <tbody>\n",
       "    <tr>\n",
       "      <th>Adams</th>\n",
       "      <td>PA</td>\n",
       "      <td>41973</td>\n",
       "      <td>35.482334</td>\n",
       "      <td>63.112001</td>\n",
       "      <td>Romney</td>\n",
       "      <td>61156</td>\n",
       "      <td>68.632677</td>\n",
       "      <td>27.629667</td>\n",
       "      <td>red</td>\n",
       "      <td>0.853734</td>\n",
       "      <td>ThisIsTrue</td>\n",
       "    </tr>\n",
       "    <tr>\n",
       "      <th>Allegheny</th>\n",
       "      <td>PA</td>\n",
       "      <td>614671</td>\n",
       "      <td>56.640219</td>\n",
       "      <td>42.185820</td>\n",
       "      <td>Obama</td>\n",
       "      <td>924351</td>\n",
       "      <td>66.497575</td>\n",
       "      <td>14.454399</td>\n",
       "      <td>blue</td>\n",
       "      <td>0.439846</td>\n",
       "      <td>ThisIsFalse</td>\n",
       "    </tr>\n",
       "    <tr>\n",
       "      <th>Armstrong</th>\n",
       "      <td>PA</td>\n",
       "      <td>28322</td>\n",
       "      <td>30.696985</td>\n",
       "      <td>67.901278</td>\n",
       "      <td>Romney</td>\n",
       "      <td>42147</td>\n",
       "      <td>67.198140</td>\n",
       "      <td>37.204293</td>\n",
       "      <td>red</td>\n",
       "      <td>0.575650</td>\n",
       "      <td>ThisIsTrue</td>\n",
       "    </tr>\n",
       "    <tr>\n",
       "      <th>Beaver</th>\n",
       "      <td>PA</td>\n",
       "      <td>80015</td>\n",
       "      <td>46.032619</td>\n",
       "      <td>52.637630</td>\n",
       "      <td>Romney</td>\n",
       "      <td>115157</td>\n",
       "      <td>69.483401</td>\n",
       "      <td>6.605012</td>\n",
       "      <td>red</td>\n",
       "      <td>1.018647</td>\n",
       "      <td>ThisIsFalse</td>\n",
       "    </tr>\n",
       "    <tr>\n",
       "      <th>Bedford</th>\n",
       "      <td>PA</td>\n",
       "      <td>21444</td>\n",
       "      <td>22.057452</td>\n",
       "      <td>76.986570</td>\n",
       "      <td>Romney</td>\n",
       "      <td>32189</td>\n",
       "      <td>66.619031</td>\n",
       "      <td>54.929118</td>\n",
       "      <td>red</td>\n",
       "      <td>0.463391</td>\n",
       "      <td>ThisIsTrue</td>\n",
       "    </tr>\n",
       "  </tbody>\n",
       "</table>\n",
       "</div>"
      ],
      "text/plain": [
       "          state   total      Obama     Romney  winner  voters    turnout  \\\n",
       "county                                                                     \n",
       "Adams        PA   41973  35.482334  63.112001  Romney   61156  68.632677   \n",
       "Allegheny    PA  614671  56.640219  42.185820   Obama  924351  66.497575   \n",
       "Armstrong    PA   28322  30.696985  67.901278  Romney   42147  67.198140   \n",
       "Beaver       PA   80015  46.032619  52.637630  Romney  115157  69.483401   \n",
       "Bedford      PA   21444  22.057452  76.986570  Romney   32189  66.619031   \n",
       "\n",
       "              margin color  turnout_zscore       mapper  \n",
       "county                                                   \n",
       "Adams      27.629667   red        0.853734   ThisIsTrue  \n",
       "Allegheny  14.454399  blue        0.439846  ThisIsFalse  \n",
       "Armstrong  37.204293   red        0.575650   ThisIsTrue  \n",
       "Beaver      6.605012   red        1.018647  ThisIsFalse  \n",
       "Bedford    54.929118   red        0.463391   ThisIsTrue  "
      ]
     },
     "execution_count": 31,
     "metadata": {},
     "output_type": "execute_result"
    }
   ],
   "source": [
    "election.head()"
   ]
  },
  {
   "cell_type": "markdown",
   "metadata": {},
   "source": [
    "## Using vectorized functions\n",
    "- When performance is paramount, you should avoid using `.apply()` and `.map()` because those constructs perform Python for-loops over the data stored in a pandas Series or DataFrame. By using vectorized functions instead, you can loop over the data at the same speed as compiled code (C, Fortran, etc.)! NumPy, SciPy and pandas come with a variety of vectorized functions (called Universal Functions or UFuncs in NumPy).\n",
    "\n",
    "- You can even write your own vectorized functions, but for now we will focus on the ones distributed by NumPy and pandas.\n",
    "\n",
    "- In this exercise you're going to import the `zscore` function from `scipy.stats` and use it to compute the deviation in voter turnout in Pennsylvania from the mean in fractions of the standard deviation. In statistics, the z-score is the number of standard deviations by which an observation is above the mean - so if it is negative, it means the observation is below the mean.\n",
    "\n",
    "- Instead of using `.apply()` as you did in the earlier exercises, the `zscore` UFunc will take a pandas Series as input and return a NumPy array. You will then assign the values of the NumPy array to a new column in the DataFrame. You will be working with the election DataFrame - it has been pre-loaded for you."
   ]
  },
  {
   "cell_type": "code",
   "execution_count": 12,
   "metadata": {},
   "outputs": [
    {
     "name": "stdout",
     "output_type": "stream",
     "text": [
      "<class 'numpy.ndarray'>\n",
      "          state   total      Obama     Romney  winner  voters    turnout  \\\n",
      "county                                                                     \n",
      "Adams        PA   41973  35.482334  63.112001  Romney   61156  68.632677   \n",
      "Allegheny    PA  614671  56.640219  42.185820   Obama  924351  66.497575   \n",
      "Armstrong    PA   28322  30.696985  67.901278  Romney   42147  67.198140   \n",
      "Beaver       PA   80015  46.032619  52.637630  Romney  115157  69.483401   \n",
      "Bedford      PA   21444  22.057452  76.986570  Romney   32189  66.619031   \n",
      "\n",
      "              margin color  turnout_zscore  \n",
      "county                                      \n",
      "Adams      27.629667   red        0.853734  \n",
      "Allegheny  14.454399  blue        0.439846  \n",
      "Armstrong  37.204293   red        0.575650  \n",
      "Beaver      6.605012   red        1.018647  \n",
      "Bedford    54.929118   red        0.463391  \n"
     ]
    }
   ],
   "source": [
    "# Import zscore from scipy.stats\n",
    "from scipy.stats import zscore\n",
    "\n",
    "# Call zscore with election['turnout'] as input: turnout_zscore\n",
    "turnout_zscore = zscore(election['turnout'])\n",
    "\n",
    "# Print the type of turnout_zscore\n",
    "print(type(turnout_zscore))\n",
    "\n",
    "# Assign turnout_zscore to a new column: election['turnout_zscore']\n",
    "election['turnout_zscore'] = turnout_zscore\n",
    "\n",
    "# Print the output of election.head()\n",
    "print(election.head())"
   ]
  },
  {
   "cell_type": "markdown",
   "metadata": {},
   "source": [
    "# Advanced indexing"
   ]
  },
  {
   "cell_type": "code",
   "execution_count": 13,
   "metadata": {},
   "outputs": [],
   "source": [
    "nan = str(\"nan\")\n",
    "sales = pd.DataFrame({'eggs':[47, 110, 221, 77, 132, 205]\n",
    "                        ,'salt':[12.0, 50.0, 89.0, 87.0, nan, 60.0],\n",
    "                     'spam':[17, 31, 72, 20, 52, 55]},index=['Jan', 'Feb', 'Mar', 'Apr', 'May', 'Jun'])"
   ]
  },
  {
   "cell_type": "markdown",
   "metadata": {},
   "source": [
    "## Single Index\n",
    "### Changing index of a DataFrame\n",
    "\n",
    "- As you saw in the previous exercise, indexes are immutable objects. This means that if you want to change or modify the index in a DataFrame, then you need to change the whole index. You will do this now, using a list comprehension to create the new index."
   ]
  },
  {
   "cell_type": "code",
   "execution_count": 14,
   "metadata": {},
   "outputs": [
    {
     "name": "stdout",
     "output_type": "stream",
     "text": [
      "     eggs salt  spam\n",
      "JAN    47   12    17\n",
      "FEB   110   50    31\n",
      "MAR   221   89    72\n",
      "APR    77   87    20\n",
      "MAY   132  nan    52\n",
      "JUN   205   60    55\n"
     ]
    }
   ],
   "source": [
    "# Create the list of new indexes: new_idx\n",
    "new_idx = [i.upper() for i in sales.index]\n",
    "\n",
    "# Assign new_idx to sales.index\n",
    "sales.index = new_idx\n",
    "\n",
    "# Print the sales DataFrame\n",
    "print(sales)"
   ]
  },
  {
   "cell_type": "markdown",
   "metadata": {},
   "source": [
    "### Changing index name labels\n",
    "- Notice that in the previous exercise, the index was not labeled with a name. In this exercise, you will set its name to 'MONTHS'.\n",
    "\n",
    "- Similarly, if all the columns are related in some way, you can provide a label for the set of columns."
   ]
  },
  {
   "cell_type": "code",
   "execution_count": 15,
   "metadata": {},
   "outputs": [
    {
     "name": "stdout",
     "output_type": "stream",
     "text": [
      "PRODUCTS  eggs salt  spam\n",
      "MONTHS                   \n",
      "JAN         47   12    17\n",
      "FEB        110   50    31\n",
      "MAR        221   89    72\n",
      "APR         77   87    20\n",
      "MAY        132  nan    52\n",
      "JUN        205   60    55\n"
     ]
    }
   ],
   "source": [
    "# Assign the string 'MONTHS' to sales.index.name\n",
    "sales.index.name = 'MONTHS'\n",
    "\n",
    "# Assign the string 'PRODUCTS' to sales.columns.name \n",
    "sales.columns.name = 'PRODUCTS'\n",
    "\n",
    "# Print the sales dataframe again\n",
    "print(sales)"
   ]
  },
  {
   "cell_type": "markdown",
   "metadata": {},
   "source": [
    "### Building an index, then a DataFrame\n",
    "\n",
    "- You can also build the DataFrame and index independently, and then put them together. If you take this route, be careful, as any mistakes in generating the DataFrame or the index can cause the data and the index to be aligned incorrectly."
   ]
  },
  {
   "cell_type": "code",
   "execution_count": 16,
   "metadata": {},
   "outputs": [
    {
     "name": "stdout",
     "output_type": "stream",
     "text": [
      "PRODUCTS  eggs salt  spam\n",
      "Jan         47   12    17\n",
      "Feb        110   50    31\n",
      "Mar        221   89    72\n",
      "Apr         77   87    20\n",
      "May        132  nan    52\n",
      "Jun        205   60    55\n"
     ]
    }
   ],
   "source": [
    "# Generate the list of months: months\n",
    "months = ['Jan', 'Feb', 'Mar', 'Apr', 'May', 'Jun']\n",
    "\n",
    "# Assign months to sales.index\n",
    "sales.index = months\n",
    "\n",
    "# Print the modified sales DataFrame\n",
    "print(sales)"
   ]
  },
  {
   "cell_type": "markdown",
   "metadata": {},
   "source": [
    "## Multi index\n",
    "### Extracting data with a MultiIndex"
   ]
  },
  {
   "cell_type": "code",
   "execution_count": 17,
   "metadata": {},
   "outputs": [
    {
     "data": {
      "text/html": [
       "<div>\n",
       "<style scoped>\n",
       "    .dataframe tbody tr th:only-of-type {\n",
       "        vertical-align: middle;\n",
       "    }\n",
       "\n",
       "    .dataframe tbody tr th {\n",
       "        vertical-align: top;\n",
       "    }\n",
       "\n",
       "    .dataframe thead th {\n",
       "        text-align: right;\n",
       "    }\n",
       "</style>\n",
       "<table border=\"1\" class=\"dataframe\">\n",
       "  <thead>\n",
       "    <tr style=\"text-align: right;\">\n",
       "      <th></th>\n",
       "      <th></th>\n",
       "      <th>eggs</th>\n",
       "      <th>salt</th>\n",
       "      <th>spam</th>\n",
       "    </tr>\n",
       "    <tr>\n",
       "      <th>state</th>\n",
       "      <th>month</th>\n",
       "      <th></th>\n",
       "      <th></th>\n",
       "      <th></th>\n",
       "    </tr>\n",
       "  </thead>\n",
       "  <tbody>\n",
       "    <tr>\n",
       "      <th rowspan=\"2\" valign=\"top\">CA</th>\n",
       "      <th>1</th>\n",
       "      <td>47</td>\n",
       "      <td>12</td>\n",
       "      <td>17</td>\n",
       "    </tr>\n",
       "    <tr>\n",
       "      <th>2</th>\n",
       "      <td>110</td>\n",
       "      <td>50</td>\n",
       "      <td>31</td>\n",
       "    </tr>\n",
       "    <tr>\n",
       "      <th rowspan=\"2\" valign=\"top\">NY</th>\n",
       "      <th>1</th>\n",
       "      <td>221</td>\n",
       "      <td>89</td>\n",
       "      <td>72</td>\n",
       "    </tr>\n",
       "    <tr>\n",
       "      <th>2</th>\n",
       "      <td>77</td>\n",
       "      <td>87</td>\n",
       "      <td>20</td>\n",
       "    </tr>\n",
       "    <tr>\n",
       "      <th rowspan=\"2\" valign=\"top\">TX</th>\n",
       "      <th>1</th>\n",
       "      <td>132</td>\n",
       "      <td>nan</td>\n",
       "      <td>52</td>\n",
       "    </tr>\n",
       "    <tr>\n",
       "      <th>2</th>\n",
       "      <td>205</td>\n",
       "      <td>60</td>\n",
       "      <td>55</td>\n",
       "    </tr>\n",
       "  </tbody>\n",
       "</table>\n",
       "</div>"
      ],
      "text/plain": [
       "             eggs salt  spam\n",
       "state month                 \n",
       "CA    1        47   12    17\n",
       "      2       110   50    31\n",
       "NY    1       221   89    72\n",
       "      2        77   87    20\n",
       "TX    1       132  nan    52\n",
       "      2       205   60    55"
      ]
     },
     "execution_count": 17,
     "metadata": {},
     "output_type": "execute_result"
    }
   ],
   "source": [
    "# setting up the DF\n",
    "nan = str(\"nan\")\n",
    "state = ['CA', 'NY', 'TX']\n",
    "month = [1, 2]\n",
    "indeks = pd.MultiIndex.from_product([state,month],names=['state','month'])\n",
    "sales = pd.DataFrame({'eggs':[47, 110, 221, 77, 132, 205]\n",
    "                        ,'salt':[12.0, 50.0, 89.0, 87.0, nan, 60.0],\n",
    "                     'spam':[17, 31, 72, 20, 52, 55]},index=indeks)\n",
    "sales"
   ]
  },
  {
   "cell_type": "markdown",
   "metadata": {},
   "source": [
    "### Extracting data with a MultiIndex"
   ]
  },
  {
   "cell_type": "code",
   "execution_count": 18,
   "metadata": {},
   "outputs": [
    {
     "name": "stdout",
     "output_type": "stream",
     "text": [
      "             eggs salt  spam\n",
      "state month                 \n",
      "CA    1        47   12    17\n",
      "      2       110   50    31\n",
      "TX    1       132  nan    52\n",
      "      2       205   60    55\n",
      "             eggs salt  spam\n",
      "state month                 \n",
      "CA    1        47   12    17\n",
      "      2       110   50    31\n",
      "NY    1       221   89    72\n",
      "      2        77   87    20\n",
      "TX    1       132  nan    52\n",
      "      2       205   60    55\n"
     ]
    }
   ],
   "source": [
    "# Print sales.loc[['CA', 'TX']]\n",
    "print(sales.loc[['CA','TX']])\n",
    "\n",
    "# Print sales['CA':'TX']\n",
    "print(sales['CA':'TX'])"
   ]
  },
  {
   "cell_type": "markdown",
   "metadata": {},
   "source": [
    "### Setting & sorting a MultiIndex\n",
    "\n",
    "- In the previous exercise, the MultiIndex was created and sorted for you. Now, you're going to do this yourself! With a MultiIndex, you should always ensure the index is sorted. You can skip this only if you know the data is already sorted on the index fields."
   ]
  },
  {
   "cell_type": "raw",
   "metadata": {},
   "source": [
    "# Set the index to be the columns ['state', 'month']: sales\n",
    "sales = sales.set_index(['state', 'month'])\n",
    "\n",
    "# Sort the MultiIndex: sales\n",
    "sales = sales.sort_index()\n",
    "\n",
    "# Print the sales DataFrame\n",
    "print(sales)"
   ]
  },
  {
   "cell_type": "markdown",
   "metadata": {},
   "source": [
    "### Using .loc[] with nonunique indexes\n",
    "\n",
    "-  it is always preferable to have a meaningful index that uniquely identifies each row. Even though pandas does not require unique index values in DataFrames, it works better if the index values are indeed unique. "
   ]
  },
  {
   "cell_type": "raw",
   "metadata": {},
   "source": [
    "# Set the index to the column 'state': sales\n",
    "sales = sales.set_index(['state'])\n",
    "\n",
    "# Print the sales DataFrame\n",
    "print(sales)\n",
    "\n",
    "# Access the data from 'NY'\n",
    "print(sales.loc['NY'])"
   ]
  },
  {
   "cell_type": "markdown",
   "metadata": {},
   "source": [
    "### Indexing multiple levels of a MultiIndex\n",
    "- Looking up indexed data is fast and efficient. And you have already seen that lookups based on the outermost level of a `MultiIndex` work just like lookups on DataFrames that have a single-level `Index`.\n",
    "\n",
    "- Looking up data based on inner levels of a `MultiIndex` can be a bit trickier. The trickiest of all these lookups are when you want to access some inner levels of the index. In this case, you need to use `slice(None)` in the slicing parameter for the outermost dimension(s) instead of the usual :, or use `pd.IndexSlice`. You can refer to the pandas documentation for more details. For example, in the video, Dhavide used the following code to extract rows from all Symbols for the dates Oct. 3rd through 4th inclusive:\n",
    "\n",
    "`stocks.loc[(slice(None), slice('2016-10-03', '2016-10-04')), :]`\n",
    "\n",
    "Pay particular attention to the tuple `(slice(None), slice('2016-10-03', '2016-10-04'))`"
   ]
  },
  {
   "cell_type": "code",
   "execution_count": 19,
   "metadata": {},
   "outputs": [],
   "source": [
    "# Look up data for NY in month 1 in sales: NY_month1\n",
    "NY_month1 = sales.loc[('NY',1),:]\n",
    "\n",
    "# Look up data for CA and TX in month 2: CA_TX_month2\n",
    "CA_TX_month2 = sales.loc[(['CA','TX'],2),:]\n",
    "\n",
    "# Access the inner month index and look up data for all states in month 2: all_month2\n",
    "all_month2 = sales.loc[(slice(None),2),:]"
   ]
  },
  {
   "cell_type": "markdown",
   "metadata": {},
   "source": [
    "# Rearranging and reshaping data\n",
    "\n",
    "## Pivoting\n",
    "- difference between pivot and pivot_table:\n",
    "    1. https://qr.ae/pNrjhC\n",
    "    2. https://stackoverflow.com/a/42965471\n",
    "\n",
    "### Pivoting a single variable"
   ]
  },
  {
   "cell_type": "code",
   "execution_count": 21,
   "metadata": {},
   "outputs": [
    {
     "name": "stdout",
     "output_type": "stream",
     "text": [
      "city     Austin  Dallas\n",
      "weekday                \n",
      "Mon         326     456\n",
      "Sun         139     237\n"
     ]
    }
   ],
   "source": [
    "# Pivot the users DataFrame: visitors_pivot\n",
    "visitors_pivot = users.pivot(values='visitors',columns='city',index='weekday')\n",
    "\n",
    "# Print the pivoted DataFrame\n",
    "print(visitors_pivot)"
   ]
  },
  {
   "cell_type": "markdown",
   "metadata": {},
   "source": [
    "### Pivoting all variables"
   ]
  },
  {
   "cell_type": "code",
   "execution_count": 22,
   "metadata": {},
   "outputs": [
    {
     "name": "stdout",
     "output_type": "stream",
     "text": [
      "city     Austin  Dallas\n",
      "weekday                \n",
      "Mon           3       5\n",
      "Sun           7      12\n",
      "        visitors        signups       \n",
      "city      Austin Dallas  Austin Dallas\n",
      "weekday                               \n",
      "Mon          326    456       3      5\n",
      "Sun          139    237       7     12\n"
     ]
    }
   ],
   "source": [
    "# Pivot users with signups indexed by weekday and city: signups_pivot\n",
    "signups_pivot = users.pivot(values='signups',index='weekday',columns='city')\n",
    "\n",
    "# Print signups_pivot\n",
    "print(signups_pivot)\n",
    "\n",
    "# Pivot users pivoted by both signups and visitors: pivot\n",
    "pivot = users.pivot(index='weekday',columns='city')\n",
    "\n",
    "# Print the pivoted DataFrame\n",
    "print(pivot)"
   ]
  },
  {
   "cell_type": "markdown",
   "metadata": {},
   "source": [
    "## Stacking & unstacking DataFrames\n",
    "\n",
    "\n",
    "### Stacking & unstacking I"
   ]
  },
  {
   "cell_type": "code",
   "execution_count": 23,
   "metadata": {},
   "outputs": [
    {
     "name": "stdout",
     "output_type": "stream",
     "text": [
      "                visitors  signups\n",
      "city   weekday                   \n",
      "Austin Mon           326        3\n",
      "       Sun           139        7\n",
      "Dallas Mon           456        5\n",
      "       Sun           237       12\n"
     ]
    }
   ],
   "source": [
    "users_2 = users.set_index(['city','weekday']).sort_index()\n",
    "print(users_2)"
   ]
  },
  {
   "cell_type": "code",
   "execution_count": null,
   "metadata": {},
   "outputs": [],
   "source": []
  },
  {
   "cell_type": "code",
   "execution_count": 24,
   "metadata": {},
   "outputs": [
    {
     "name": "stdout",
     "output_type": "stream",
     "text": [
      "        visitors      signups    \n",
      "weekday      Mon  Sun     Mon Sun\n",
      "city                             \n",
      "Austin       326  139       3   7\n",
      "Dallas       456  237       5  12\n",
      "\n",
      "\n",
      "                 visitors  signups\n",
      "city   weekday                   \n",
      "Austin Mon           326        3\n",
      "       Sun           139        7\n",
      "Dallas Mon           456        5\n",
      "       Sun           237       12\n"
     ]
    }
   ],
   "source": [
    "# Unstack users by 'weekday': byweekday\n",
    "byweekday = users_2.unstack('weekday')\n",
    "\n",
    "# Print the byweekday DataFrame\n",
    "print(byweekday)\n",
    "\n",
    "# Stack byweekday by 'weekday' and print it\n",
    "print('\\n\\n',byweekday.stack('weekday'))\n"
   ]
  },
  {
   "cell_type": "markdown",
   "metadata": {},
   "source": [
    "### Stacking & unstacking II\n",
    "\n",
    "- You are now going to continue working with the users DataFrame. As always, first explore it in the IPython Shell to see the layout and note the index.\n",
    "\n",
    "- Your job in this exercise is to unstack and then stack the 'city' level, as you did previously for 'weekday'. Note that you won't get the same DataFrame."
   ]
  },
  {
   "cell_type": "code",
   "execution_count": 25,
   "metadata": {},
   "outputs": [
    {
     "name": "stdout",
     "output_type": "stream",
     "text": [
      "        visitors        signups       \n",
      "city      Austin Dallas  Austin Dallas\n",
      "weekday                               \n",
      "Mon          326    456       3      5\n",
      "Sun          139    237       7     12\n",
      "\n",
      "\n",
      "                 visitors  signups\n",
      "weekday city                     \n",
      "Mon     Austin       326        3\n",
      "        Dallas       456        5\n",
      "Sun     Austin       139        7\n",
      "        Dallas       237       12\n"
     ]
    }
   ],
   "source": [
    "# Unstack users by 'city': bycity\n",
    "bycity = users_2.unstack('city')\n",
    "\n",
    "# Print the bycity DataFrame\n",
    "print(bycity)\n",
    "\n",
    "# Stack bycity by 'city' and print it\n",
    "# Note that you won't get the same DataFrame as earlier\n",
    "print('\\n\\n',bycity.stack('city'))"
   ]
  },
  {
   "cell_type": "markdown",
   "metadata": {},
   "source": [
    "### Restoring the index order\n",
    "\n",
    "- Continuing from the previous exercise, you will now use .swaplevel(0, 1) to flip the index levels. Note they won't be sorted. To sort them, you will have to follow up with a .sort_index(). You will then obtain the original DataFrame. Note that an unsorted index leads to slicing failures.\n",
    "\n",
    "- To begin, print both users and bycity in the IPython Shell. The goal here is to convert bycity back to something that looks like users."
   ]
  },
  {
   "cell_type": "code",
   "execution_count": 42,
   "metadata": {},
   "outputs": [
    {
     "name": "stdout",
     "output_type": "stream",
     "text": [
      "                Unnamed: 0  visitors  signups\n",
      "city   weekday                               \n",
      "Austin Mon               2       326        3\n",
      "Dallas Mon               3       456        5\n",
      "Austin Sun               0       139        7\n",
      "Dallas Sun               1       237       12\n",
      "\n",
      "\n",
      "                 Unnamed: 0  visitors  signups\n",
      "city   weekday                               \n",
      "Austin Mon               2       326        3\n",
      "       Sun               0       139        7\n",
      "Dallas Mon               3       456        5\n",
      "       Sun               1       237       12\n",
      "\n",
      "\n",
      " True\n"
     ]
    }
   ],
   "source": [
    "# Stack 'city' back into the index of bycity: newusers\n",
    "newusers = bycity.stack('city')\n",
    "\n",
    "# Swap the levels of the index of newusers: newusers\n",
    "# you can also have (0,1) indexes, indicating you want to swap index level 0 with index level 1\n",
    "newusers = newusers.swaplevel('weekday','city')\n",
    "\n",
    "# Print newusers and verify that the index is not sorted\n",
    "print(newusers)\n",
    "\n",
    "# Sort the index of newusers: newusers\n",
    "newusers = newusers.sort_index()\n",
    "\n",
    "# Print newusers and verify that the index is now sorted\n",
    "print('\\n\\n',newusers)\n",
    "\n",
    "# Verify that the new DataFrame is equal to the original\n",
    "print('\\n\\n',newusers.equals(users_2))"
   ]
  },
  {
   "cell_type": "markdown",
   "metadata": {},
   "source": [
    "## Melting DataFrames\n",
    "\n",
    "### Adding names for readability\n",
    "- You are now going to practice melting DataFrames. A DataFrame called visitors_by_city_weekday has been pre-loaded for you. Explore it in the IPython Shell and see that it is the users DataFrame from previous exercises with the rows indexed by 'weekday', columns indexed by 'city', and values populated with 'visitors'.\n",
    "\n",
    "- Recall from the video that the goal of melting is to restore a pivoted DataFrame to its original form, or to change it from a wide shape to a long shape. You can explicitly specify the columns that should remain in the reshaped DataFrame with id_vars, and list which columns to convert into values with value_vars. As Dhavide demonstrated, if you don't pass a name to the values in pd.melt(), you will lose the name of your variable. You can fix this by using the value_name keyword argument.\n",
    "\n",
    "- Your job in this exercise is to melt visitors_by_city_weekday to move the city names from the column labels to values in a single column called 'city'. If you were to use just pd.melt(visitors_by_city_weekday), you would obtain the following result:\n",
    "\n",
    "```\n",
    "      city value\n",
    "0  weekday   Mon\n",
    "1  weekday   Sun\n",
    "2   Austin   326\n",
    "3   Austin   139\n",
    "4   Dallas   456\n",
    "5   Dallas   237\n",
    "```\n",
    "\n",
    "Therefore, you have to specify the id_vars keyword argument to ensure that 'weekday' is retained in the reshaped DataFrame, and the value_name keyword argument to change the name of value to visitors."
   ]
  },
  {
   "cell_type": "code",
   "execution_count": 49,
   "metadata": {},
   "outputs": [],
   "source": [
    "visitors_by_city_weekday = users.pivot(values='visitors',columns='city',index='weekday')"
   ]
  },
  {
   "cell_type": "code",
   "execution_count": 50,
   "metadata": {},
   "outputs": [
    {
     "name": "stdout",
     "output_type": "stream",
     "text": [
      "city weekday  Austin  Dallas\n",
      "0        Mon     326     456\n",
      "1        Sun     139     237\n",
      "\n",
      "\n",
      "   weekday    city  visitors\n",
      "0     Mon  Austin       326\n",
      "1     Sun  Austin       139\n",
      "2     Mon  Dallas       456\n",
      "3     Sun  Dallas       237\n"
     ]
    }
   ],
   "source": [
    "# Reset the index: visitors_by_city_weekday\n",
    "visitors_by_city_weekday = visitors_by_city_weekday.reset_index() \n",
    "\n",
    "# Print visitors_by_city_weekday\n",
    "print(visitors_by_city_weekday)\n",
    "\n",
    "# Melt visitors_by_city_weekday: visitors\n",
    "visitors = pd.melt(visitors_by_city_weekday, id_vars='weekday', value_name='visitors')\n",
    "\n",
    "# Print visitors\n",
    "print('\\n\\n',visitors)"
   ]
  },
  {
   "cell_type": "markdown",
   "metadata": {},
   "source": [
    "- Notice how your melted DataFrame now has a 'city' column with Austin and Dallas as its values. In the original DataFrame, they were columns themselves. Also note how specifying the value_name parameter has renamed the 'value' column to 'visitors'."
   ]
  },
  {
   "cell_type": "markdown",
   "metadata": {},
   "source": [
    "### Going from wide to long\n",
    "- You can move multiple columns into a single column (making the data long and skinny) by \"melting\" multiple columns. "
   ]
  },
  {
   "cell_type": "code",
   "execution_count": 55,
   "metadata": {},
   "outputs": [
    {
     "name": "stdout",
     "output_type": "stream",
     "text": [
      "  weekday    city  variable  value\n",
      "0     Sun  Austin  visitors    139\n",
      "1     Sun  Dallas  visitors    237\n",
      "2     Mon  Austin  visitors    326\n",
      "3     Mon  Dallas  visitors    456\n",
      "4     Sun  Austin   signups      7\n",
      "5     Sun  Dallas   signups     12\n",
      "6     Mon  Austin   signups      3\n",
      "7     Mon  Dallas   signups      5\n"
     ]
    }
   ],
   "source": [
    "# Melt users: skinny\n",
    "skinny = users.melt(id_vars=['weekday','city'])\n",
    "\n",
    "# Print skinny\n",
    "print(skinny)"
   ]
  },
  {
   "cell_type": "markdown",
   "metadata": {},
   "source": [
    "- Here, because you didn't specify the var_name or value_name parameters, the melted DataFrame has the default variable and value column names."
   ]
  },
  {
   "cell_type": "markdown",
   "metadata": {},
   "source": [
    "### Obtaining key-value pairs with melt()\n",
    "\n",
    "- Sometimes, all you need is some key-value pairs, and the context does not matter. If said context is in the index, you can easily obtain what you want. For example, in the users DataFrame, the visitors and signups columns lend themselves well to being represented as key-value pairs. So if you created a hierarchical index with 'city' and 'weekday' columns as the index, you can easily extract key-value pairs for the 'visitors' and 'signups' columns by melting users and specifying col_level=0."
   ]
  },
  {
   "cell_type": "code",
   "execution_count": 57,
   "metadata": {},
   "outputs": [
    {
     "name": "stdout",
     "output_type": "stream",
     "text": [
      "                visitors  signups\n",
      "city   weekday                   \n",
      "Austin Sun           139        7\n",
      "Dallas Sun           237       12\n",
      "Austin Mon           326        3\n",
      "Dallas Mon           456        5\n",
      "\n",
      "\n",
      "    variable  value\n",
      "0  visitors    139\n",
      "1  visitors    237\n",
      "2  visitors    326\n",
      "3  visitors    456\n",
      "4   signups      7\n",
      "5   signups     12\n",
      "6   signups      3\n",
      "7   signups      5\n"
     ]
    }
   ],
   "source": [
    "# Set the new index: users_idx\n",
    "users_idx = users.set_index(['city','weekday'])\n",
    "\n",
    "# Print the users_idx DataFrame\n",
    "print(users_idx)\n",
    "\n",
    "# Obtain the key-value pairs: kv_pairs\n",
    "kv_pairs = users_idx.melt(col_level=0)\n",
    "\n",
    "# Print the key-value pairs\n",
    "print('\\n\\n',kv_pairs)"
   ]
  },
  {
   "cell_type": "markdown",
   "metadata": {},
   "source": [
    "- It's always worth keeping in mind whether any aspects of your data lend themselves well to being represented as key-value pairs."
   ]
  },
  {
   "cell_type": "markdown",
   "metadata": {},
   "source": [
    "## Pivot tables\n",
    "\n",
    "### Setting up a pivot table\n",
    "\n",
    "- Recall from the video that a pivot table allows you to see all of your variables as a function of two other variables. In this exercise, you will use the .pivot_table() method to see how the users DataFrame entries appear when presented as functions of the 'weekday' and 'city' columns. That is, with the rows indexed by 'weekday' and the columns indexed by 'city'."
   ]
  },
  {
   "cell_type": "code",
   "execution_count": 58,
   "metadata": {},
   "outputs": [
    {
     "name": "stdout",
     "output_type": "stream",
     "text": [
      "        signups        visitors       \n",
      "city     Austin Dallas   Austin Dallas\n",
      "weekday                               \n",
      "Mon           3      5      326    456\n",
      "Sun           7     12      139    237\n"
     ]
    }
   ],
   "source": [
    "# Create the DataFrame with the appropriate pivot table: by_city_day\n",
    "by_city_day = users.pivot_table(index='weekday',columns='city')\n",
    "\n",
    "# Print by_city_day\n",
    "print(by_city_day)"
   ]
  },
  {
   "cell_type": "markdown",
   "metadata": {},
   "source": [
    "- Notice the labels of the index and the columns are 'weekday' and 'city', respectively - exactly as you specified."
   ]
  },
  {
   "cell_type": "markdown",
   "metadata": {},
   "source": [
    "### Using other aggregations in pivot tables\n",
    "\n",
    "- You can also use aggregation functions within a pivot table by specifying the aggfunc parameter. In this exercise, you will practice using the 'count' and len aggregation functions - which produce the same result - on the users DataFrame."
   ]
  },
  {
   "cell_type": "code",
   "execution_count": 59,
   "metadata": {},
   "outputs": [
    {
     "name": "stdout",
     "output_type": "stream",
     "text": [
      "         city  signups  visitors\n",
      "weekday                         \n",
      "Mon         2        2         2\n",
      "Sun         2        2         2\n",
      "==========================================\n",
      "True\n"
     ]
    }
   ],
   "source": [
    "# Use a pivot table to display the count of each column: count_by_weekday1\n",
    "count_by_weekday1 = users.pivot_table(index='weekday',aggfunc='count')\n",
    "\n",
    "# Print count_by_weekday\n",
    "print(count_by_weekday1)\n",
    "\n",
    "# Replace 'aggfunc='count'' with 'aggfunc=len': count_by_weekday2\n",
    "count_by_weekday2 = users.pivot_table(index='weekday',aggfunc=len)\n",
    "\n",
    "# Verify that the same result is obtained\n",
    "print('==========================================')\n",
    "print(count_by_weekday1.equals(count_by_weekday2))"
   ]
  },
  {
   "cell_type": "markdown",
   "metadata": {},
   "source": [
    "### Using margins in pivot tables\n",
    "\n",
    "- Sometimes it's useful to add totals in the margins of a pivot table. You can do this with the argument margins=True. In this exercise, you will practice using margins in a pivot table along with a new aggregation function: sum.\n",
    "\n",
    "- The users DataFrame, which you are now probably very familiar with, has been pre-loaded for you."
   ]
  },
  {
   "cell_type": "code",
   "execution_count": 61,
   "metadata": {},
   "outputs": [
    {
     "name": "stdout",
     "output_type": "stream",
     "text": [
      "         signups  visitors\n",
      "weekday                   \n",
      "Mon            8       782\n",
      "Sun           19       376\n",
      "\n",
      "\n",
      "          signups  visitors\n",
      "weekday                   \n",
      "Mon            8       782\n",
      "Sun           19       376\n",
      "All           27      1158\n"
     ]
    }
   ],
   "source": [
    "# Create the DataFrame with the appropriate pivot table: signups_and_visitors\n",
    "signups_and_visitors = users.pivot_table(index='weekday',values=['visitors','signups'],aggfunc=sum)\n",
    "\n",
    "# Print signups_and_visitors\n",
    "print(signups_and_visitors)\n",
    "\n",
    "# Add in the margins: signups_and_visitors_total \n",
    "signups_and_visitors_total = users.pivot_table(index='weekday',values=['visitors','signups'],aggfunc=sum,margins=True)\n",
    "\n",
    "# Print signups_and_visitors_total\n",
    "print('\\n\\n',signups_and_visitors_total)"
   ]
  },
  {
   "cell_type": "markdown",
   "metadata": {},
   "source": [
    "# Grouping data\n",
    "\n",
    "## Grouping by multiple columns\n",
    "- In this exercise, you will return to working with the Titanic dataset from Chapter 1 and use .groupby() to analyze the distribution of passengers who boarded the Titanic.\n",
    "\n",
    "- The 'pclass' column identifies which class of ticket was purchased by the passenger and the 'embarked' column indicates at which of the three ports the passenger boarded the Titanic. 'S' stands for Southampton, England, 'C' for Cherbourg, France and 'Q' for Queenstown, Ireland.\n",
    "\n",
    "- Your job is to first group by the 'pclass' column and count the number of rows in each class using the 'survived' column. You will then group by the 'embarked' and 'pclass' columns and count the number of passengers."
   ]
  },
  {
   "cell_type": "code",
   "execution_count": 63,
   "metadata": {},
   "outputs": [
    {
     "name": "stdout",
     "output_type": "stream",
     "text": [
      "\n",
      "\n",
      " pclass\n",
      "1    323\n",
      "2    277\n",
      "3    709\n",
      "Name: survived, dtype: int64\n",
      "\n",
      "\n",
      " embarked  pclass\n",
      "C         1         141\n",
      "          2          28\n",
      "          3         101\n",
      "Q         1           3\n",
      "          2           7\n",
      "          3         113\n",
      "S         1         177\n",
      "          2         242\n",
      "          3         495\n",
      "Name: survived, dtype: int64\n"
     ]
    }
   ],
   "source": [
    "# Group titanic by 'pclass'\n",
    "by_class = titanic.groupby('pclass')\n",
    "\n",
    "# Aggregate 'survived' column of by_class by count\n",
    "count_by_class = by_class['survived'].count()\n",
    "\n",
    "# Print count_by_class\n",
    "print('\\n\\n',count_by_class)\n",
    "\n",
    "# Group titanic by 'embarked' and 'pclass'\n",
    "by_mult = titanic.groupby(['embarked','pclass'])\n",
    "\n",
    "# Aggregate 'survived' column of by_mult by count\n",
    "count_mult = by_mult['survived'].count()\n",
    "\n",
    "# Print count_mult\n",
    "print('\\n\\n',count_mult)"
   ]
  },
  {
   "cell_type": "markdown",
   "metadata": {},
   "source": [
    "## Groupby and aggregation\n",
    "\n",
    "### Computing multiple aggregates of multiple columns\n",
    "\n",
    "- The .agg() method can be used with a tuple or list of aggregations as input. When applying multiple aggregations on multiple columns, the aggregated DataFrame has a multi-level column index."
   ]
  },
  {
   "cell_type": "code",
   "execution_count": 72,
   "metadata": {},
   "outputs": [
    {
     "name": "stdout",
     "output_type": "stream",
     "text": [
      "pclass\n",
      "1    80.0\n",
      "2    70.0\n",
      "3    74.0\n",
      "Name: (age, max), dtype: float64\n",
      "pclass\n",
      "1    60.0000\n",
      "2    15.0458\n",
      "3     8.0500\n",
      "Name: (fare, median), dtype: float64\n"
     ]
    }
   ],
   "source": [
    "# Group titanic by 'pclass': by_class\n",
    "by_class = titanic.groupby('pclass')\n",
    "\n",
    "# Select 'age' and 'fare'\n",
    "by_class_sub = by_class[['age','fare']]\n",
    "\n",
    "# Aggregate by_class_sub by 'max' and 'median': aggregated\n",
    "aggregated = by_class_sub.agg(['max','median'])\n",
    "\n",
    "# Print the maximum age in each class\n",
    "print(aggregated.loc[:, ('age','max')])\n",
    "\n",
    "# Print the median fare in each class\n",
    "print(aggregated.loc[:, ('fare','median')])"
   ]
  },
  {
   "cell_type": "code",
   "execution_count": null,
   "metadata": {},
   "outputs": [],
   "source": []
  },
  {
   "cell_type": "markdown",
   "metadata": {},
   "source": [
    "### Aggregating on index levels/fields\n",
    "\n",
    "- If you have a DataFrame with a multi-level row index, the individual levels can be used to perform the groupby. This allows advanced aggregation techniques to be applied along one or more levels in the index and across one or more columns."
   ]
  },
  {
   "cell_type": "code",
   "execution_count": 71,
   "metadata": {},
   "outputs": [
    {
     "name": "stdout",
     "output_type": "stream",
     "text": [
      "                                   population  child_mortality       gdp\n",
      "Year region                                                             \n",
      "2013 America                     9.629087e+08        17.745833   49634.0\n",
      "     East Asia & Pacific         2.244209e+09        22.285714  134744.0\n",
      "     Europe & Central Asia       8.968788e+08         9.831875   86418.0\n",
      "     Middle East & North Africa  4.030504e+08        20.221500  128676.0\n",
      "     South Asia                  1.701241e+09        46.287500   11469.0\n",
      "     Sub-Saharan Africa          9.205996e+08        76.944490   32035.0\n"
     ]
    }
   ],
   "source": [
    "gapminder_2 = gapminder.set_index(['Year','region','Country']).sort_index()\n",
    "\n",
    "# Group gapminder by 'Year' and 'region': by_year_region\n",
    "by_year_region = gapminder_2.groupby(level=['Year','region'])\n",
    "\n",
    "# Define the function to compute spread: spread\n",
    "def spread(series):\n",
    "    return series.max() - series.min()\n",
    "\n",
    "# Create the dictionary: aggregator\n",
    "aggregator = {'population':'sum', 'child_mortality':'mean', 'gdp':spread}\n",
    "\n",
    "# Aggregate by_year_region using the dictionary: aggregated\n",
    "aggregated = by_year_region.agg(aggregator)\n",
    "\n",
    "# Print the last 6 entries of aggregated \n",
    "print(aggregated.tail(6))"
   ]
  },
  {
   "cell_type": "markdown",
   "metadata": {},
   "source": [
    "### Grouping on a function of the index\n",
    "- Groupby operations can also be performed on transformations of the index values. In the case of a DateTimeIndex, we can extract portions of the datetime over which to group.\n",
    "\n",
    "- In this exercise you'll read in a set of sample sales data from February 2015 and assign the 'Date' column as the index. Your job is to group the sales data by the day of the week and aggregate the sum of the 'Units' column."
   ]
  },
  {
   "cell_type": "raw",
   "metadata": {},
   "source": [
    "# Read file: sales\n",
    "sales = pd.read_csv('sales.csv', index_col='Date', parse_dates=True)\n",
    "\n",
    "# Create a groupby object: by_day\n",
    "by_day = sales.groupby(sales.index.strftime('%a'))\n",
    "\n",
    "# Create sum: units_sum\n",
    "units_sum = by_day['Units'].sum()\n",
    "\n",
    "# Print units_sum\n",
    "print(units_sum)"
   ]
  },
  {
   "cell_type": "raw",
   "metadata": {},
   "source": [
    "<script.py> output:\n",
    "    Mon    48\n",
    "    Sat     7\n",
    "    Thu    59\n",
    "    Tue    13\n",
    "    Wed    48\n",
    "    Name: Units, dtype: int64"
   ]
  },
  {
   "cell_type": "markdown",
   "metadata": {},
   "source": [
    "## Groupby and transformation\n",
    "\n",
    "- difference between groupby+agg Vs groupby+transform:\n",
    "https://stackoverflow.com/questions/40957932/transform-vs-aggregate-in-pandas\n",
    "\n",
    "### Detecting outliers with Z-Scores\n",
    "- As Dhavide demonstrated in the video using the `zscore` function, you can apply a `.transform()` method after grouping to apply a function to groups of data independently. The z-score is also useful to find outliers: a z-score value of +/- 3 is generally considered to be an outlier.\n",
    "\n",
    "- In this example, you're going to normalize the Gapminder data in 2010 for life expectancy and fertility by the z-score per region. Using boolean indexing, you will filter for countries that have high fertility rates and low life expectancy for their region."
   ]
  },
  {
   "cell_type": "code",
   "execution_count": 81,
   "metadata": {},
   "outputs": [
    {
     "name": "stdout",
     "output_type": "stream",
     "text": [
      "             fertility    life  population  child_mortality     gdp  \\\n",
      "Country                                                               \n",
      "Guatemala        3.974  71.100  14388929.0             34.5  6849.0   \n",
      "Haiti            3.350  45.000   9993247.0            208.8  1518.0   \n",
      "Tajikistan       3.780  66.830   6878637.0             52.6  2110.0   \n",
      "Timor-Leste      6.237  65.952   1124355.0             63.8  1777.0   \n",
      "\n",
      "                            region  \n",
      "Country                             \n",
      "Guatemala                  America  \n",
      "Haiti                      America  \n",
      "Tajikistan   Europe & Central Asia  \n",
      "Timor-Leste    East Asia & Pacific  \n"
     ]
    }
   ],
   "source": [
    "gapminder_2010 = gapminder[gapminder['Year']==2010].drop('Year',axis=1).set_index('Country')\n",
    "\n",
    "# Import zscore\n",
    "from scipy.stats import zscore\n",
    "\n",
    "# Group gapminder_2010: standardized\n",
    "standardized = gapminder_2010.groupby('region')[['life','fertility']].transform(zscore)\n",
    "\n",
    "# Construct a Boolean Series to identify outliers: outliers\n",
    "outliers = (standardized['life'] < -3) | (standardized['fertility'] > 3)\n",
    "\n",
    "# Filter gapminder_2010 by the outliers: gm_outliers\n",
    "gm_outliers = gapminder_2010.loc[outliers]\n",
    "\n",
    "# Print gm_outliers\n",
    "print(gm_outliers)"
   ]
  },
  {
   "cell_type": "markdown",
   "metadata": {},
   "source": [
    "### Filling missing data (imputation) by group\n",
    "- Many statistical and machine learning packages cannot determine the best action to take when missing data entries are encountered. Dealing with missing data is natural in pandas (both in using the default behavior and in defining a custom behavior). In Chapter 1, you practiced using the .dropna() method to drop missing values. Now, you will practice imputing missing values. You can use .groupby() and .transform() to fill missing data appropriately for each group.\n",
    "\n",
    "- Your job is to fill in missing 'age' values for passengers on the Titanic with the median age from their 'gender' and 'pclass'. To do this, you'll group by the 'sex' and 'pclass' columns and transform each group with a custom function to call .fillna() and impute the median value."
   ]
  },
  {
   "cell_type": "code",
   "execution_count": 84,
   "metadata": {},
   "outputs": [
    {
     "name": "stdout",
     "output_type": "stream",
     "text": [
      "      pclass  survived                 name   sex   age  sibsp  parch  ticket  \\\n",
      "1307       3         0  Zakarian, Mr. Ortin  male  27.0      0      0    2670   \n",
      "1308       3         0   Zimmerman, Mr. Leo  male  29.0      0      0  315082   \n",
      "\n",
      "       fare cabin embarked boat  body home.dest  \n",
      "1307  7.225   NaN        C  NaN   NaN       NaN  \n",
      "1308  7.875   NaN        S  NaN   NaN       NaN  \n"
     ]
    }
   ],
   "source": [
    "# Create a groupby object: by_sex_class\n",
    "by_sex_class = titanic.groupby(['sex','pclass'])\n",
    "\n",
    "# Write a function that imputes median\n",
    "def impute_median(series):\n",
    "    return series.fillna(series.median())\n",
    "\n",
    "# Impute age and assign to titanic['age']\n",
    "titanic['age'] = by_sex_class['age'].transform(impute_median)\n",
    "\n",
    "# Print the output of titanic.tail(10)\n",
    "print(titanic.tail(2))"
   ]
  },
  {
   "cell_type": "markdown",
   "metadata": {},
   "source": [
    "## Other transformations with .apply\n",
    "- The `.apply()` method when used on a groupby object performs an arbitrary function on each of the groups. These functions can be aggregations, transformations or more complex workflows. The `.apply()` method will then combine the results in an intelligent way.\n",
    "\n",
    "- In this exercise, you're going to analyze economic disparity within regions of the world using the Gapminder data set for 2010. To do this you'll define a function to compute the aggregate spread of per capita GDP in each region and the individual country's z-score of the regional per capita GDP. You'll then select three countries - United States, Great Britain and China - to see a summary of the regional GDP and that country's z-score against the regional mean.\n"
   ]
  },
  {
   "cell_type": "code",
   "execution_count": 85,
   "metadata": {},
   "outputs": [],
   "source": [
    "def disparity(gr):\n",
    "    # Compute the spread of gr['gdp']: s\n",
    "    s = gr['gdp'].max() - gr['gdp'].min()\n",
    "    # Compute the z-score of gr['gdp'] as (gr['gdp']-gr['gdp'].mean())/gr['gdp'].std(): z\n",
    "    z = (gr['gdp'] - gr['gdp'].mean())/gr['gdp'].std()\n",
    "    # Return a DataFrame with the inputs {'z(gdp)':z, 'regional spread(gdp)':s}\n",
    "    return pd.DataFrame({'z(gdp)':z , 'regional spread(gdp)':s})"
   ]
  },
  {
   "cell_type": "code",
   "execution_count": 86,
   "metadata": {},
   "outputs": [
    {
     "name": "stdout",
     "output_type": "stream",
     "text": [
      "                  z(gdp)  regional spread(gdp)\n",
      "Country                                       \n",
      "United States   3.013374               47855.0\n",
      "United Kingdom  0.572873               89037.0\n",
      "China          -0.432756               96993.0\n"
     ]
    }
   ],
   "source": [
    "# Group gapminder_2010 by 'region': regional\n",
    "regional = gapminder_2010.groupby('region')\n",
    "\n",
    "# Apply the disparity function on regional: reg_disp\n",
    "reg_disp = regional.apply(disparity)\n",
    "\n",
    "# Print the disparity of 'United States', 'United Kingdom', and 'China'\n",
    "print(reg_disp.loc[['United States','United Kingdom','China']])"
   ]
  },
  {
   "cell_type": "markdown",
   "metadata": {},
   "source": [
    "### Grouping and filtering with .apply()\n",
    "\n",
    "- By using .apply(), you can write functions that filter rows within groups. The .apply() method will handle the iteration over individual groups and then re-combine them back into a Series or DataFrame.\n",
    "\n",
    "- In this exercise you'll take the Titanic data set and analyze survival rates from the 'C' deck, which contained the most passengers. To do this you'll group the dataset by 'sex' and then use the .apply() method on a provided user defined function which calculates the mean survival rates on the 'C' deck:\n",
    "\n",
    "\n"
   ]
  },
  {
   "cell_type": "code",
   "execution_count": 87,
   "metadata": {},
   "outputs": [],
   "source": [
    "def c_deck_survival(gr):\n",
    "    c_passengers = gr['cabin'].str.startswith('C').fillna(False)\n",
    "    return gr.loc[c_passengers, 'survived'].mean()"
   ]
  },
  {
   "cell_type": "code",
   "execution_count": 88,
   "metadata": {},
   "outputs": [
    {
     "name": "stdout",
     "output_type": "stream",
     "text": [
      "sex\n",
      "female    0.913043\n",
      "male      0.312500\n",
      "dtype: float64\n"
     ]
    }
   ],
   "source": [
    "# Create a groupby object using titanic over the 'sex' column: by_sex\n",
    "by_sex = titanic.groupby('sex')\n",
    "\n",
    "# Call by_sex.apply with the function c_deck_survival\n",
    "c_surv_by_sex = by_sex.apply(c_deck_survival)\n",
    "\n",
    "# Print the survival rates\n",
    "print(c_surv_by_sex)"
   ]
  },
  {
   "cell_type": "markdown",
   "metadata": {},
   "source": [
    "### Grouping and filtering with .filter()\n",
    "- You can use groupby with the `.filter()` method to remove whole groups of rows from a DataFrame based on a boolean condition.\n",
    "\n",
    "- In this exercise, you'll take the February sales data and remove entries from companies that purchased less than or equal to 35 Units in the whole month.\n",
    "\n",
    "- First, you'll identify how many units each company bought for verification. Next you'll use the `.filter()` method after grouping by `'Company'` to remove all rows belonging to companies whose sum over the `'Units'` column was less than or equal to 35. Finally, verify that the three companies whose total Units purchased were less than or equal to 35 have been filtered out from the DataFrame."
   ]
  },
  {
   "cell_type": "raw",
   "metadata": {},
   "source": [
    "# Read the CSV file into a DataFrame: sales\n",
    "sales = pd.read_csv('sales.csv', index_col='Date', parse_dates=True)\n",
    "\n",
    "# Group sales by 'Company': by_company\n",
    "by_company = sales.groupby('Company')\n",
    "\n",
    "# Compute the sum of the 'Units' of by_company: by_com_sum\n",
    "by_com_sum = by_company['Units'].sum()\n",
    "print(by_com_sum)\n",
    "\n",
    "# Filter 'Units' where the sum is > 35: by_com_filt\n",
    "by_com_filt = by_company.filter(lambda g:g['Units'].sum()>35)\n",
    "print(by_com_filt)"
   ]
  },
  {
   "cell_type": "markdown",
   "metadata": {},
   "source": [
    "### Filtering and grouping with .map()\n",
    "\n",
    "- You have seen how to group by a column, or by multiple columns. Sometimes, you may instead want to group by a function/transformation of a column. The key here is that the Series is indexed the same way as the DataFrame. You can also mix and match column grouping with Series grouping.\n",
    "\n",
    "- In this exercise your job is to investigate survival rates of passengers on the Titanic by 'age' and 'pclass'. In particular, the goal is to find out what fraction of children under 10 survived in each 'pclass'. You'll do this by first creating a boolean array where True is passengers under 10 years old and False is passengers over 10. You'll use .map() to change these values to strings.\n",
    "\n",
    "- Finally, you'll group by the under 10 series and the 'pclass' column and aggregate the 'survived' column. The 'survived' column has the value 1 if the passenger survived and 0 otherwise. The mean of the 'survived' column is the fraction of passengers who lived.\n",
    "\n",
    "- The DataFrame has been pre-loaded for you as titanic."
   ]
  },
  {
   "cell_type": "code",
   "execution_count": 90,
   "metadata": {},
   "outputs": [
    {
     "name": "stdout",
     "output_type": "stream",
     "text": [
      "\n",
      "\n",
      " age\n",
      "over 10     0.366748\n",
      "under 10    0.609756\n",
      "Name: survived, dtype: float64\n",
      "\n",
      "\n",
      " age       pclass\n",
      "over 10   1         0.617555\n",
      "          2         0.380392\n",
      "          3         0.238897\n",
      "under 10  1         0.750000\n",
      "          2         1.000000\n",
      "          3         0.446429\n",
      "Name: survived, dtype: float64\n"
     ]
    }
   ],
   "source": [
    "# Create the Boolean Series: under10\n",
    "under10 = (titanic['age'] < 10).map({True:'under 10', False:'over 10'})\n",
    "\n",
    "# Group by under10 and compute the survival rate\n",
    "survived_mean_1 = titanic.groupby(under10)['survived'].mean()\n",
    "print('\\n\\n',survived_mean_1)\n",
    "\n",
    "# Group by under10 and pclass and compute the survival rate\n",
    "survived_mean_2 = titanic.groupby([under10,'pclass'])['survived'].mean()\n",
    "print('\\n\\n',survived_mean_2)"
   ]
  },
  {
   "cell_type": "markdown",
   "metadata": {},
   "source": [
    "# Case Study - Summer Olympics\n",
    "\n",
    "## Using .value_counts() for ranking\n",
    "\n",
    "- For this exercise, you will use the pandas Series method .value_counts() to determine the top 15 countries ranked by total number of medals.\n",
    "\n",
    "- Notice that .value_counts() sorts by values by default. The result is returned as a Series of counts indexed by unique entries from the original Series with values (counts) ranked in descending order.\n",
    "\n",
    "- The DataFrame has been pre-loaded for you as medals.\n"
   ]
  },
  {
   "cell_type": "code",
   "execution_count": 94,
   "metadata": {},
   "outputs": [
    {
     "name": "stdout",
     "output_type": "stream",
     "text": [
      "USA    4335\n",
      "URS    2049\n",
      "GBR    1594\n",
      "FRA    1314\n",
      "ITA    1228\n",
      "Name: NOC, dtype: int64\n"
     ]
    }
   ],
   "source": [
    "medals = olympics.copy()\n",
    "\n",
    "# Select the 'NOC' column of medals: country_names\n",
    "country_names = medals['NOC']\n",
    "\n",
    "# Count the number of medals won by each country: medal_counts\n",
    "medal_counts = country_names.value_counts()\n",
    "\n",
    "# Print top 15 countries ranked by medals\n",
    "print(medal_counts.head(5))"
   ]
  },
  {
   "cell_type": "markdown",
   "metadata": {},
   "source": [
    "## Using .pivot_table() to count medals by type\n",
    "\n",
    "- Rather than ranking countries by total medals won and showing that list, you may want to see a bit more detail. You can use a pivot table to compute how many separate bronze, silver and gold medals each country won. That pivot table can then be used to repeat the previous computation to rank by total medals won.\n",
    "\n",
    "- In this exercise, you will use .pivot_table() first to aggregate the total medals by type. Then, you can use .sum() along the columns of the pivot table to produce a new column. When the modified pivot table is sorted by the total medals column, you can display the results from the last exercise with a bit more detail."
   ]
  },
  {
   "cell_type": "code",
   "execution_count": 101,
   "metadata": {},
   "outputs": [
    {
     "name": "stdout",
     "output_type": "stream",
     "text": [
      "Medal  Bronze    Gold  Silver  totals\n",
      "NOC                                  \n",
      "USA    1052.0  2088.0  1195.0  4335.0\n",
      "URS     584.0   838.0   627.0  2049.0\n",
      "GBR     505.0   498.0   591.0  1594.0\n",
      "FRA     475.0   378.0   461.0  1314.0\n",
      "ITA     374.0   460.0   394.0  1228.0\n"
     ]
    }
   ],
   "source": [
    "# Construct the pivot table: counted\n",
    "counted = medals.pivot_table(index='NOC',columns='Medal',values='Athlete',aggfunc='count')\n",
    "\n",
    "# Create the new column: counted['totals']\n",
    "counted['totals'] = counted.sum(axis='columns')\n",
    "\n",
    "# Sort counted by the 'totals' column\n",
    "counted = counted.sort_values('totals', ascending=False)\n",
    "\n",
    "# Print the top 15 rows of counted\n",
    "print(counted.head(5))"
   ]
  },
  {
   "cell_type": "markdown",
   "metadata": {},
   "source": [
    "## Applying .drop_duplicates()\n",
    "\n",
    "- What could be the difference between the 'Event_gender' and 'Gender' columns? You should be able to evaluate your guess by looking at the unique values of the pairs (Event_gender, Gender) in the data. In particular, you should not see something like (Event_gender='M', Gender='Women'). However, you will see that, strangely enough, there is an observation with (Event_gender='W', Gender='Men').\n",
    "\n",
    "- The duplicates can be dropped using the .drop_duplicates() method, leaving behind the unique observations. The DataFrame has been loaded as medals."
   ]
  },
  {
   "cell_type": "code",
   "execution_count": 102,
   "metadata": {},
   "outputs": [
    {
     "name": "stdout",
     "output_type": "stream",
     "text": [
      "      Event_gender Gender\n",
      "0                M    Men\n",
      "348              X    Men\n",
      "416              W  Women\n",
      "639              X  Women\n",
      "23675            W    Men\n"
     ]
    }
   ],
   "source": [
    "# Select columns: ev_gen\n",
    "ev_gen = medals[['Event_gender','Gender']]\n",
    "\n",
    "# Drop duplicate pairs: ev_gen_uniques\n",
    "ev_gen_uniques = ev_gen.drop_duplicates()\n",
    "\n",
    "# Print ev_gen_uniques\n",
    "print(ev_gen_uniques)"
   ]
  },
  {
   "cell_type": "markdown",
   "metadata": {},
   "source": [
    "## Finding possible errors with .groupby()\n",
    "- You will now use .groupby() to continue your exploration. Your job is to group by 'Event_gender' and 'Gender' and count the rows.\n",
    "\n",
    "- You will see that there is only one suspicious row: This is likely a data error."
   ]
  },
  {
   "cell_type": "code",
   "execution_count": 103,
   "metadata": {},
   "outputs": [
    {
     "name": "stdout",
     "output_type": "stream",
     "text": [
      "                      City  Edition  Sport  Discipline  Athlete    NOC  Event  \\\n",
      "Event_gender Gender                                                             \n",
      "M            Men     20067    20067  20067       20067    20067  20067  20067   \n",
      "W            Men         1        1      1           1        1      1      1   \n",
      "             Women    7277     7277   7277        7277     7277   7277   7277   \n",
      "X            Men      1653     1653   1653        1653     1653   1653   1653   \n",
      "             Women     218      218    218         218      218    218    218   \n",
      "\n",
      "                     Medal  \n",
      "Event_gender Gender         \n",
      "M            Men     20067  \n",
      "W            Men         1  \n",
      "             Women    7277  \n",
      "X            Men      1653  \n",
      "             Women     218  \n"
     ]
    }
   ],
   "source": [
    "# Group medals by the two columns: medals_by_gender\n",
    "medals_by_gender = medals.groupby(['Event_gender','Gender'])\n",
    "\n",
    "# Create a DataFrame with a group count: medal_count_by_gender\n",
    "medal_count_by_gender = medals_by_gender.count()\n",
    "\n",
    "# Print medal_count_by_gender\n",
    "print(medal_count_by_gender)"
   ]
  },
  {
   "cell_type": "code",
   "execution_count": 104,
   "metadata": {},
   "outputs": [
    {
     "name": "stdout",
     "output_type": "stream",
     "text": [
      "         City  Edition      Sport Discipline            Athlete  NOC Gender  \\\n",
      "23675  Sydney     2000  Athletics  Athletics  CHEPCHUMBA, Joyce  KEN    Men   \n",
      "\n",
      "          Event Event_gender   Medal  \n",
      "23675  marathon            W  Bronze  \n"
     ]
    }
   ],
   "source": [
    "# Create the Boolean Series: sus\n",
    "sus = (medals['Event_gender']=='W')&(medals['Gender']=='Men')\n",
    "\n",
    "# Create a DataFrame with the suspicious row: suspect\n",
    "suspect = medals[sus]\n",
    "\n",
    "# Print suspect\n",
    "print(suspect)"
   ]
  },
  {
   "cell_type": "markdown",
   "metadata": {},
   "source": [
    "## Using .nunique() to rank by distinct sports\n",
    "\n",
    "- You may want to know which countries won medals in the most distinct sports. The .nunique() method is the principal aggregation here. Given a categorical Series S, S.nunique() returns the number of distinct categories."
   ]
  },
  {
   "cell_type": "code",
   "execution_count": 106,
   "metadata": {},
   "outputs": [
    {
     "name": "stdout",
     "output_type": "stream",
     "text": [
      "NOC\n",
      "USA    34\n",
      "GBR    31\n",
      "FRA    28\n",
      "GER    26\n",
      "CHN    24\n",
      "Name: Sport, dtype: int64\n"
     ]
    }
   ],
   "source": [
    "# Group medals by 'NOC': country_grouped\n",
    "country_grouped = medals.groupby('NOC')\n",
    "\n",
    "# Compute the number of distinct sports in which each country won medals: Nsports\n",
    "Nsports = country_grouped['Sport'].nunique()\n",
    "\n",
    "# Sort the values of Nsports in descending order\n",
    "Nsports = Nsports.sort_values(ascending=False)\n",
    "\n",
    "# Print the top 15 rows of Nsports\n",
    "print(Nsports.head(5))"
   ]
  },
  {
   "cell_type": "markdown",
   "metadata": {},
   "source": [
    "## Counting USA vs. USSR Cold War Olympic Sports\n",
    "- The Olympic competitions between 1952 and 1988 took place during the height of the Cold War between the United States of America (USA) & the Union of Soviet Socialist Republics (USSR). Your goal in this exercise is to aggregate the number of distinct sports in which the USA and the USSR won medals during the Cold War years.\n",
    "\n",
    "- The construction is mostly the same as in the preceding exercise. There is an additional filtering stage beforehand in which you reduce the original DataFrame medals by extracting data from the Cold War period that applies only to the US or to the USSR. The relevant country codes in the DataFrame, which has been pre-loaded as medals, are 'USA' & 'URS'."
   ]
  },
  {
   "cell_type": "code",
   "execution_count": 107,
   "metadata": {},
   "outputs": [
    {
     "name": "stdout",
     "output_type": "stream",
     "text": [
      "NOC\n",
      "URS    21\n",
      "USA    20\n",
      "Name: Sport, dtype: int64\n"
     ]
    }
   ],
   "source": [
    "# Create a Boolean Series that is True when 'Edition' is between 1952 and 1988: during_cold_war\n",
    "during_cold_war = (medals['Edition'] >= 1952) & (medals['Edition'] <= 1988)\n",
    "\n",
    "# Extract rows for which 'NOC' is either 'USA' or 'URS': is_usa_urs\n",
    "is_usa_urs = medals.NOC.isin(['USA','URS'])\n",
    "\n",
    "# Use during_cold_war and is_usa_urs to create the DataFrame: cold_war_medals\n",
    "cold_war_medals = medals.loc[during_cold_war & is_usa_urs]\n",
    "\n",
    "# Group cold_war_medals by 'NOC'\n",
    "country_grouped = cold_war_medals.groupby('NOC')\n",
    "\n",
    "# Create Nsports\n",
    "Nsports = country_grouped['Sport'].nunique().sort_values(ascending=False)\n",
    "\n",
    "# Print Nsports\n",
    "print(Nsports)"
   ]
  },
  {
   "cell_type": "markdown",
   "metadata": {},
   "source": [
    "## Counting USA vs. USSR Cold War Olympic Medals\n",
    "- For this exercise, you want to see which country, the USA or the USSR, won the most medals consistently over the Cold War period.\n",
    "\n",
    "- There are several steps involved in carrying out this computation.\n",
    "\n",
    "    - You'll need a pivot table with years ('Edition') on the index and countries ('NOC') on the columns. The entries will be the total number of medals each country won that year. If the country won no medals in a given edition, expect a NaN in that entry of the pivot table.\n",
    "    - You'll need to slice the Cold War period and subset the 'USA' and 'URS' columns.\n",
    "    - You'll need to make a Series from this slice of the pivot table that tells which country won the most medals in that edition using `.idxmax(axis='columns')`. If .max() returns the maximum value of Series or 1D array, `.idxmax()` returns the index of the maximizing element. The argument axis=columns or axis=1 is required because, by default, this aggregation would be done along columns for a DataFrame.\n",
    "    - The final Series contains either 'USA' or 'URS' according to which country won the most medals in each Olympic edition. You can use .value_counts() to count the number of occurrences of each."
   ]
  },
  {
   "cell_type": "code",
   "execution_count": 108,
   "metadata": {},
   "outputs": [
    {
     "name": "stdout",
     "output_type": "stream",
     "text": [
      "URS    8\n",
      "USA    2\n",
      "dtype: int64\n"
     ]
    }
   ],
   "source": [
    "# Create the pivot table: medals_won_by_country\n",
    "medals_won_by_country = medals.pivot_table(index='Edition',columns='NOC',values='Athlete',aggfunc='count')\n",
    "\n",
    "# Slice medals_won_by_country: cold_war_usa_urs_medals\n",
    "cold_war_usa_urs_medals = medals_won_by_country.loc['1952':'1988', ['USA','URS']]\n",
    "\n",
    "# Create most_medals \n",
    "most_medals = cold_war_usa_urs_medals.idxmax(axis='columns')\n",
    "\n",
    "# Print most_medals.value_counts()\n",
    "print(most_medals.value_counts())"
   ]
  },
  {
   "cell_type": "markdown",
   "metadata": {},
   "source": [
    "## Visualizing USA Medal Counts by Edition: Line Plot\n",
    "- Your job in this exercise is to visualize the medal counts by 'Edition' for the USA. The DataFrame has been pre-loaded for you as medals."
   ]
  },
  {
   "cell_type": "code",
   "execution_count": 109,
   "metadata": {},
   "outputs": [
    {
     "data": {
      "image/png": "[encoded data removed]",
      "text/plain": [
       "<Figure size 432x288 with 1 Axes>"
      ]
     },
     "metadata": {
      "needs_background": "light"
     },
     "output_type": "display_data"
    }
   ],
   "source": [
    "# Create the DataFrame: usa\n",
    "usa = medals[medals['NOC']=='USA']\n",
    "\n",
    "# Group usa by ['Edition', 'Medal'] and aggregate over 'Athlete'\n",
    "usa_medals_by_year = usa.groupby(['Edition', 'Medal'])['Athlete'].count()\n",
    "\n",
    "# Reshape usa_medals_by_year by unstacking\n",
    "usa_medals_by_year = usa_medals_by_year.unstack(level='Medal')\n",
    "\n",
    "# Plot the DataFrame usa_medals_by_year\n",
    "usa_medals_by_year.plot()\n",
    "plt.show()"
   ]
  },
  {
   "cell_type": "markdown",
   "metadata": {},
   "source": [
    "## Visualizing USA Medal Counts by Edition: Area Plot\n",
    "- As in the previous exercise, your job in this exercise is to visualize the medal counts by 'Edition' for the USA. This time, you will use an area plot to see the breakdown better. The usa DataFrame has been created and all reshaping from the previous exercise has been done. You need to write the plotting command."
   ]
  },
  {
   "cell_type": "code",
   "execution_count": 110,
   "metadata": {},
   "outputs": [
    {
     "data": {
      "image/png": "[encoded data removed]",
      "text/plain": [
       "<Figure size 432x288 with 1 Axes>"
      ]
     },
     "metadata": {
      "needs_background": "light"
     },
     "output_type": "display_data"
    }
   ],
   "source": [
    "# Create the DataFrame: usa\n",
    "usa = medals[medals.NOC == 'USA']\n",
    "\n",
    "# Group usa by 'Edition', 'Medal', and 'Athlete'\n",
    "usa_medals_by_year = usa.groupby(['Edition', 'Medal'])['Athlete'].count()\n",
    "\n",
    "# Reshape usa_medals_by_year by unstacking\n",
    "usa_medals_by_year = usa_medals_by_year.unstack(level='Medal')\n",
    "\n",
    "# Create an area plot of usa_medals_by_year\n",
    "usa_medals_by_year.plot.area()\n",
    "plt.show()"
   ]
  },
  {
   "cell_type": "markdown",
   "metadata": {},
   "source": [
    "## Visualizing USA Medal Counts by Edition: Area Plot with Ordered Medals\n",
    "- You may have noticed that the medals are ordered according to a lexicographic (dictionary) ordering: Bronze < Gold < Silver. However, you would prefer an ordering consistent with the Olympic rules: Bronze < Silver < Gold.\n",
    "\n",
    "- You can achieve this using Categorical types. In this final exercise, after redefining the 'Medal' column of the DataFrame medals, you will repeat the area plot from the previous exercise to see the new ordering."
   ]
  },
  {
   "cell_type": "code",
   "execution_count": 111,
   "metadata": {},
   "outputs": [
    {
     "data": {
      "image/png": "[encoded data removed]",
      "text/plain": [
       "<Figure size 432x288 with 1 Axes>"
      ]
     },
     "metadata": {
      "needs_background": "light"
     },
     "output_type": "display_data"
    }
   ],
   "source": [
    "# Redefine 'Medal' as an ordered categorical\n",
    "medals.Medal = pd.Categorical(medals['Medal'],categories=['Bronze', 'Silver', 'Gold'],ordered=True)\n",
    "\n",
    "# Create the DataFrame: usa\n",
    "usa = medals[medals.NOC == 'USA']\n",
    "\n",
    "# Group usa by 'Edition', 'Medal', and 'Athlete'\n",
    "usa_medals_by_year = usa.groupby(['Edition', 'Medal'])['Athlete'].count()\n",
    "\n",
    "# Reshape usa_medals_by_year by unstacking\n",
    "usa_medals_by_year = usa_medals_by_year.unstack(level='Medal')\n",
    "\n",
    "# Create an area plot of usa_medals_by_year\n",
    "usa_medals_by_year.plot.area()\n",
    "plt.show()"
   ]
  }
 ],
 "metadata": {
  "kernelspec": {
   "display_name": "Python 3",
   "language": "python",
   "name": "python3"
  },
  "language_info": {
   "codemirror_mode": {
    "name": "ipython",
    "version": 3
   },
   "file_extension": ".py",
   "mimetype": "text/x-python",
   "name": "python",
   "nbconvert_exporter": "python",
   "pygments_lexer": "ipython3",
   "version": "3.7.6"
  },
  "toc": {
   "base_numbering": 1,
   "nav_menu": {},
   "number_sections": true,
   "sideBar": true,
   "skip_h1_title": false,
   "title_cell": "Table of Contents",
   "title_sidebar": "Contents",
   "toc_cell": true,
   "toc_position": {
    "height": "calc(100% - 180px)",
    "left": "10px",
    "top": "150px",
    "width": "265.6px"
   },
   "toc_section_display": true,
   "toc_window_display": true
  }
 },
 "nbformat": 4,
 "nbformat_minor": 4
}
