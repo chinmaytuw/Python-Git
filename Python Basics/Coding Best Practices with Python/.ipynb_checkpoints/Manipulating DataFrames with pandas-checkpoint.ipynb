{
 "cells": [
  {
   "cell_type": "markdown",
   "metadata": {
    "toc": true
   },
   "source": [
    "<h1>Table of Contents<span class=\"tocSkip\"></span></h1>\n",
    "<div class=\"toc\"><ul class=\"toc-item\"><li><span><a href=\"#Extracting-and-transforming-data\" data-toc-modified-id=\"Extracting-and-transforming-data-1\"><span class=\"toc-item-num\">1&nbsp;&nbsp;</span>Extracting and transforming data</a></span><ul class=\"toc-item\"><li><span><a href=\"#Indexing-and-column-rearrangement\" data-toc-modified-id=\"Indexing-and-column-rearrangement-1.1\"><span class=\"toc-item-num\">1.1&nbsp;&nbsp;</span>Indexing and column rearrangement</a></span></li><li><span><a href=\"#Slicing-DataFrames\" data-toc-modified-id=\"Slicing-DataFrames-1.2\"><span class=\"toc-item-num\">1.2&nbsp;&nbsp;</span>Slicing DataFrames</a></span></li><li><span><a href=\"#Filtering\" data-toc-modified-id=\"Filtering-1.3\"><span class=\"toc-item-num\">1.3&nbsp;&nbsp;</span>Filtering</a></span><ul class=\"toc-item\"><li><span><a href=\"#Filtering-columns-using-other-columns\" data-toc-modified-id=\"Filtering-columns-using-other-columns-1.3.1\"><span class=\"toc-item-num\">1.3.1&nbsp;&nbsp;</span>Filtering columns using other columns</a></span></li><li><span><a href=\"#Filtering-using-NaNs\" data-toc-modified-id=\"Filtering-using-NaNs-1.3.2\"><span class=\"toc-item-num\">1.3.2&nbsp;&nbsp;</span>Filtering using NaNs</a></span></li></ul></li><li><span><a href=\"#Using-apply()-to-transform-a-column\" data-toc-modified-id=\"Using-apply()-to-transform-a-column-1.4\"><span class=\"toc-item-num\">1.4&nbsp;&nbsp;</span>Using apply() to transform a column</a></span></li><li><span><a href=\"#Using-.map()-with-a-dictionary\" data-toc-modified-id=\"Using-.map()-with-a-dictionary-1.5\"><span class=\"toc-item-num\">1.5&nbsp;&nbsp;</span>Using .map() with a dictionary</a></span></li><li><span><a href=\"#Using-vectorized-functions\" data-toc-modified-id=\"Using-vectorized-functions-1.6\"><span class=\"toc-item-num\">1.6&nbsp;&nbsp;</span>Using vectorized functions</a></span></li></ul></li><li><span><a href=\"#Advanced-indexing\" data-toc-modified-id=\"Advanced-indexing-2\"><span class=\"toc-item-num\">2&nbsp;&nbsp;</span>Advanced indexing</a></span><ul class=\"toc-item\"><li><span><a href=\"#Single-Index\" data-toc-modified-id=\"Single-Index-2.1\"><span class=\"toc-item-num\">2.1&nbsp;&nbsp;</span>Single Index</a></span><ul class=\"toc-item\"><li><span><a href=\"#Changing-index-of-a-DataFrame\" data-toc-modified-id=\"Changing-index-of-a-DataFrame-2.1.1\"><span class=\"toc-item-num\">2.1.1&nbsp;&nbsp;</span>Changing index of a DataFrame</a></span></li><li><span><a href=\"#Changing-index-name-labels\" data-toc-modified-id=\"Changing-index-name-labels-2.1.2\"><span class=\"toc-item-num\">2.1.2&nbsp;&nbsp;</span>Changing index name labels</a></span></li><li><span><a href=\"#Building-an-index,-then-a-DataFrame\" data-toc-modified-id=\"Building-an-index,-then-a-DataFrame-2.1.3\"><span class=\"toc-item-num\">2.1.3&nbsp;&nbsp;</span>Building an index, then a DataFrame</a></span></li></ul></li><li><span><a href=\"#Multi-index\" data-toc-modified-id=\"Multi-index-2.2\"><span class=\"toc-item-num\">2.2&nbsp;&nbsp;</span>Multi index</a></span><ul class=\"toc-item\"><li><span><a href=\"#Extracting-data-with-a-MultiIndex\" data-toc-modified-id=\"Extracting-data-with-a-MultiIndex-2.2.1\"><span class=\"toc-item-num\">2.2.1&nbsp;&nbsp;</span>Extracting data with a MultiIndex</a></span></li><li><span><a href=\"#Extracting-data-with-a-MultiIndex\" data-toc-modified-id=\"Extracting-data-with-a-MultiIndex-2.2.2\"><span class=\"toc-item-num\">2.2.2&nbsp;&nbsp;</span>Extracting data with a MultiIndex</a></span></li><li><span><a href=\"#Setting-&amp;-sorting-a-MultiIndex\" data-toc-modified-id=\"Setting-&amp;-sorting-a-MultiIndex-2.2.3\"><span class=\"toc-item-num\">2.2.3&nbsp;&nbsp;</span>Setting &amp; sorting a MultiIndex</a></span></li><li><span><a href=\"#Using-.loc[]-with-nonunique-indexes\" data-toc-modified-id=\"Using-.loc[]-with-nonunique-indexes-2.2.4\"><span class=\"toc-item-num\">2.2.4&nbsp;&nbsp;</span>Using .loc[] with nonunique indexes</a></span></li><li><span><a href=\"#Indexing-multiple-levels-of-a-MultiIndex\" data-toc-modified-id=\"Indexing-multiple-levels-of-a-MultiIndex-2.2.5\"><span class=\"toc-item-num\">2.2.5&nbsp;&nbsp;</span>Indexing multiple levels of a MultiIndex</a></span></li></ul></li></ul></li><li><span><a href=\"#Rearranging-and-reshaping-data\" data-toc-modified-id=\"Rearranging-and-reshaping-data-3\"><span class=\"toc-item-num\">3&nbsp;&nbsp;</span>Rearranging and reshaping data</a></span></li></ul></div>"
   ]
  },
  {
   "cell_type": "code",
   "execution_count": 1,
   "metadata": {},
   "outputs": [
    {
     "name": "stderr",
     "output_type": "stream",
     "text": [
      "/anaconda3/lib/python3.7/importlib/_bootstrap.py:219: RuntimeWarning: numpy.ufunc size changed, may indicate binary incompatibility. Expected 192 from C header, got 216 from PyObject\n",
      "  return f(*args, **kwds)\n"
     ]
    }
   ],
   "source": [
    "import pandas as pd\n",
    "import numpy as np\n",
    "import matplotlib.pyplot as plt\n"
   ]
  },
  {
   "cell_type": "code",
   "execution_count": 17,
   "metadata": {},
   "outputs": [],
   "source": [
    "# importing data\n",
    "olympics = pd.read_csv('https://assets.datacamp.com/production/repositories/502/datasets/bf22326ecc9171f68796ad805a7c1135288120b6/all_medalists.csv')\n",
    "gampminder = pd.read_csv('https://assets.datacamp.com/production/repositories/502/datasets/09378cc53faec573bcb802dce03b01318108a880/gapminder_tidy.csv')\n",
    "elections = pd.read_csv('https://assets.datacamp.com/production/repositories/502/datasets/502f4eedaf44ad1c94b3595c7691746f282e0b0a/pennsylvania2012_turnout.csv')\n",
    "weather = pd.read_csv('https://assets.datacamp.com/production/repositories/502/datasets/6c4984cb81ea50971c1660434cc4535a6669a848/pittsburgh2013.csv')\n",
    "titanic = pd.read_csv('https://assets.datacamp.com/production/repositories/502/datasets/e280ed94bf4539afb57d8b1cbcc14bcf660d3c63/titanic.csv')\n",
    "users = pd.read_csv('https://assets.datacamp.com/production/repositories/502/datasets/eaf29468b9fbaad454a74d3c2b59b36e5ab4558b/users.csv')\n",
    "\n"
   ]
  },
  {
   "cell_type": "markdown",
   "metadata": {},
   "source": [
    "# Extracting and transforming data\n",
    "\n",
    "## Indexing and column rearrangement"
   ]
  },
  {
   "cell_type": "code",
   "execution_count": 21,
   "metadata": {},
   "outputs": [
    {
     "name": "stdout",
     "output_type": "stream",
     "text": [
      "           winner   total  voters\n",
      "county                           \n",
      "Adams      Romney   41973   61156\n",
      "Allegheny   Obama  614671  924351\n",
      "Armstrong  Romney   28322   42147\n",
      "Beaver     Romney   80015  115157\n",
      "Bedford    Romney   21444   32189\n"
     ]
    }
   ],
   "source": [
    "# Import pandas\n",
    "import pandas as pd\n",
    "\n",
    "# read df\n",
    "election = pd.read_csv('https://assets.datacamp.com/production/repositories/502/datasets/502f4eedaf44ad1c94b3595c7691746f282e0b0a/pennsylvania2012_turnout.csv',index_col='county')\n",
    "\n",
    "# Create a separate dataframe with the columns ['winner', 'total', 'voters']: results\n",
    "results = election[['winner', 'total', 'voters']]\n",
    "\n",
    "# Print the output of results.head()\n",
    "print(results.head())"
   ]
  },
  {
   "cell_type": "markdown",
   "metadata": {},
   "source": [
    "## Slicing DataFrames\n",
    "<img src = './Images/df-1.png' width = 400 align = \"left\">"
   ]
  },
  {
   "cell_type": "code",
   "execution_count": 23,
   "metadata": {},
   "outputs": [
    {
     "name": "stdout",
     "output_type": "stream",
     "text": [
      "             state   total      Obama     Romney  winner   voters    turnout  \\\n",
      "county                                                                         \n",
      "Perry           PA   18240  29.769737  68.591009  Romney    27245  66.948064   \n",
      "Philadelphia    PA  653598  85.224251  14.051451   Obama  1099197  59.461407   \n",
      "\n",
      "                 margin  \n",
      "county                   \n",
      "Perry         38.821272  \n",
      "Philadelphia  71.172800  \n",
      "       state  total      Obama     Romney  winner  voters    turnout  \\\n",
      "county                                                                 \n",
      "Potter    PA   7205  26.259542  72.158223  Romney   10913  66.022175   \n",
      "Pike      PA  23164  43.904334  54.882576  Romney   41840  55.363289   \n",
      "\n",
      "           margin  \n",
      "county             \n",
      "Potter  45.898681  \n",
      "Pike    10.978242  \n"
     ]
    }
   ],
   "source": [
    "# Slice the row labels 'Perry' to 'Potter': p_counties\n",
    "p_counties = election.loc['Perry':'Potter']\n",
    "\n",
    "# Print the p_counties DataFrame\n",
    "print(p_counties.head(2))\n",
    "\n",
    "# Slice the row labels 'Potter' to 'Perry' in reverse order: p_counties_rev\n",
    "p_counties_rev = election.loc['Potter':'Perry':-1]\n",
    "\n",
    "# Print the p_counties_rev DataFrame\n",
    "print(p_counties_rev.head(2))"
   ]
  },
  {
   "cell_type": "markdown",
   "metadata": {},
   "source": [
    "## Slicing columns"
   ]
  },
  {
   "cell_type": "code",
   "execution_count": 25,
   "metadata": {},
   "outputs": [
    {
     "name": "stdout",
     "output_type": "stream",
     "text": [
      "       state  total      Obama\n",
      "county                        \n",
      "Adams     PA  41973  35.482334\n",
      "            Obama     Romney  winner\n",
      "county                              \n",
      "Adams   35.482334  63.112001  Romney\n",
      "           Romney  winner  voters    turnout     margin\n",
      "county                                                 \n",
      "Adams   63.112001  Romney   61156  68.632677  27.629667\n"
     ]
    }
   ],
   "source": [
    "# Slice the columns from the starting column to 'Obama': left_columns\n",
    "left_columns = election.loc[:,:'Obama']\n",
    "\n",
    "# Print the output of left_columns.head()\n",
    "print(left_columns.head(1))\n",
    "\n",
    "# Slice the columns from 'Obama' to 'winner': middle_columns\n",
    "middle_columns = election.loc[:,'Obama':'winner']\n",
    "\n",
    "# Print the output of middle_columns.head()\n",
    "print(middle_columns.head(1))\n",
    "\n",
    "# Slice the columns from 'Romney' to the end: 'right_columns'\n",
    "right_columns = election.loc[:,'Romney':]\n",
    "\n",
    "# Print the output of right_columns.head()\n",
    "print(right_columns.head(1))"
   ]
  },
  {
   "cell_type": "markdown",
   "metadata": {},
   "source": [
    "## Subselecting DataFrames with lists"
   ]
  },
  {
   "cell_type": "code",
   "execution_count": 26,
   "metadata": {},
   "outputs": [
    {
     "name": "stdout",
     "output_type": "stream",
     "text": [
      "              winner      Obama     Romney\n",
      "county                                    \n",
      "Philadelphia   Obama  85.224251  14.051451\n",
      "Centre        Romney  48.948416  48.977486\n",
      "Fulton        Romney  21.096291  77.748861\n"
     ]
    }
   ],
   "source": [
    "# Create the list of row labels: rows\n",
    "rows = ['Philadelphia', 'Centre', 'Fulton']\n",
    "\n",
    "# Create the list of column labels: cols\n",
    "cols = ['winner', 'Obama', 'Romney']\n",
    "\n",
    "# Create the new DataFrame: three_counties\n",
    "three_counties = election.loc[rows,cols]\n",
    "\n",
    "# Print the three_counties DataFrame\n",
    "print(three_counties)"
   ]
  },
  {
   "cell_type": "markdown",
   "metadata": {},
   "source": [
    "## Filtering \n",
    "\n",
    "### Filtering columns using other columns"
   ]
  },
  {
   "cell_type": "code",
   "execution_count": 29,
   "metadata": {},
   "outputs": [
    {
     "name": "stdout",
     "output_type": "stream",
     "text": [
      "       state   total      Obama     Romney  winner  voters    turnout  \\\n",
      "county                                                                  \n",
      "Bucks     PA  319407  49.966970  48.801686   Obama  435606  73.324748   \n",
      "Butler    PA   88924  31.920516  66.816607  Romney  122762  72.436096   \n",
      "\n",
      "           margin  \n",
      "county             \n",
      "Bucks    1.165284  \n",
      "Butler  34.896091  \n"
     ]
    }
   ],
   "source": [
    "# Create the boolean array: high_turnout\n",
    "high_turnout = election['turnout']>70\n",
    "\n",
    "# Filter the election DataFrame with the high_turnout array: high_turnout_df\n",
    "high_turnout_df = election[high_turnout]\n",
    "\n",
    "# Print the high_turnout_results DataFrame\n",
    "print(high_turnout_df.head(2))"
   ]
  },
  {
   "cell_type": "code",
   "execution_count": 27,
   "metadata": {},
   "outputs": [
    {
     "name": "stdout",
     "output_type": "stream",
     "text": [
      "<class 'pandas.core.frame.DataFrame'>\n",
      "Index: 67 entries, Adams to York\n",
      "Data columns (total 8 columns):\n",
      "state      67 non-null object\n",
      "total      67 non-null int64\n",
      "Obama      67 non-null float64\n",
      "Romney     67 non-null float64\n",
      "winner     64 non-null object\n",
      "voters     67 non-null int64\n",
      "turnout    67 non-null float64\n",
      "margin     67 non-null float64\n",
      "dtypes: float64(4), int64(2), object(2)\n",
      "memory usage: 4.7+ KB\n",
      "None\n"
     ]
    },
    {
     "name": "stderr",
     "output_type": "stream",
     "text": [
      "/anaconda3/lib/python3.7/site-packages/ipykernel_launcher.py:10: SettingWithCopyWarning: \n",
      "A value is trying to be set on a copy of a slice from a DataFrame\n",
      "\n",
      "See the caveats in the documentation: http://pandas.pydata.org/pandas-docs/stable/user_guide/indexing.html#returning-a-view-versus-a-copy\n",
      "  # Remove the CWD from sys.path while we load stuff.\n"
     ]
    }
   ],
   "source": [
    "election_2 = election.copy()\n",
    "\n",
    "# Import numpy\n",
    "import numpy as np\n",
    "\n",
    "# Create the boolean array: too_close\n",
    "too_close = election_2['margin']<1\n",
    "\n",
    "# Assign np.nan to the 'winner' column where the results were too close to call\n",
    "election_2.winner[too_close] = np.nan\n",
    "\n",
    "# Print the output of election.info()\n",
    "print(election_2.info())\n"
   ]
  },
  {
   "cell_type": "markdown",
   "metadata": {},
   "source": [
    "### Filtering using NaNs"
   ]
  },
  {
   "cell_type": "code",
   "execution_count": 30,
   "metadata": {},
   "outputs": [
    {
     "name": "stdout",
     "output_type": "stream",
     "text": [
      "(1309, 2)\n",
      "(272, 2)\n",
      "(1069, 2)\n",
      "<class 'pandas.core.frame.DataFrame'>\n",
      "RangeIndex: 1309 entries, 0 to 1308\n",
      "Data columns (total 10 columns):\n",
      "pclass      1309 non-null int64\n",
      "survived    1309 non-null int64\n",
      "name        1309 non-null object\n",
      "sex         1309 non-null object\n",
      "age         1046 non-null float64\n",
      "sibsp       1309 non-null int64\n",
      "parch       1309 non-null int64\n",
      "ticket      1309 non-null object\n",
      "fare        1308 non-null float64\n",
      "embarked    1307 non-null object\n",
      "dtypes: float64(2), int64(4), object(4)\n",
      "memory usage: 102.4+ KB\n",
      "None\n"
     ]
    }
   ],
   "source": [
    "# Select the 'age' and 'cabin' columns: df\n",
    "df = titanic[['age','cabin']]\n",
    "\n",
    "# Print the shape of df\n",
    "print(df.shape)\n",
    "\n",
    "# Drop rows in df with how='any' and print the shape\n",
    "print(df.dropna(how='any').shape)\n",
    "\n",
    "# Drop rows in df with how='all' and print the shape\n",
    "print(df.dropna(how='all').shape)\n",
    "\n",
    "# Drop columns in titanic with less than 1000 non-missing values\n",
    "print(titanic.dropna(thresh=1000, axis='columns').info())"
   ]
  },
  {
   "cell_type": "markdown",
   "metadata": {},
   "source": [
    "## Using apply() to transform a column\n",
    "- The .apply() method can be used on a pandas DataFrame to apply an arbitrary Python function to every element. In this exercise you'll take daily weather data in Pittsburgh in 2013 obtained from Weather Underground.\n",
    "\n",
    "- A function to convert degrees Fahrenheit to degrees Celsius has been written for you. Your job is to use the .apply() method to perform this conversion on the 'Mean TemperatureF' and 'Mean Dew PointF' columns of the weather DataFrame."
   ]
  },
  {
   "cell_type": "code",
   "execution_count": 31,
   "metadata": {},
   "outputs": [
    {
     "name": "stdout",
     "output_type": "stream",
     "text": [
      "   Mean TemperatureC  Mean Dew PointC\n",
      "0          -2.222222        -2.777778\n",
      "1          -6.111111       -11.111111\n",
      "2          -4.444444        -9.444444\n",
      "3          -2.222222        -7.222222\n",
      "4          -1.111111        -6.666667\n"
     ]
    }
   ],
   "source": [
    "# Write a function to convert degrees Fahrenheit to degrees Celsius: to_celsius\n",
    "def to_celsius(F):\n",
    "    return 5/9*(F - 32)\n",
    "\n",
    "# Apply the function over 'Mean TemperatureF' and 'Mean Dew PointF': df_celsius\n",
    "df_celsius = weather[['Mean TemperatureF','Mean Dew PointF']].apply(to_celsius)\n",
    "\n",
    "# Reassign the column labels of df_celsius\n",
    "df_celsius.columns = ['Mean TemperatureC', 'Mean Dew PointC']\n",
    "\n",
    "# Print the output of df_celsius.head()\n",
    "print(df_celsius.head())"
   ]
  },
  {
   "cell_type": "markdown",
   "metadata": {},
   "source": [
    "## Using .map() with a dictionary\n",
    "\n",
    "- The .map() method is used to transform values according to a Python dictionary look-up. In this exercise you'll practice this method while returning to working with the election DataFrame, which has been pre-loaded for you."
   ]
  },
  {
   "cell_type": "code",
   "execution_count": 33,
   "metadata": {},
   "outputs": [
    {
     "name": "stdout",
     "output_type": "stream",
     "text": [
      "          state   total      Obama     Romney  winner  voters    turnout  \\\n",
      "county                                                                     \n",
      "Adams        PA   41973  35.482334  63.112001  Romney   61156  68.632677   \n",
      "Allegheny    PA  614671  56.640219  42.185820   Obama  924351  66.497575   \n",
      "\n",
      "              margin color  \n",
      "county                      \n",
      "Adams      27.629667   red  \n",
      "Allegheny  14.454399  blue  \n"
     ]
    }
   ],
   "source": [
    "# Create the dictionary: red_vs_blue\n",
    "red_vs_blue = {'Obama':'blue' , 'Romney':'red'}\n",
    "\n",
    "# Use the dictionary to map the 'winner' column to the new column: election['color']\n",
    "election['color'] = election['winner'].map(red_vs_blue)\n",
    "\n",
    "# Print the output of election.head()\n",
    "print(election.head(2))"
   ]
  },
  {
   "cell_type": "markdown",
   "metadata": {},
   "source": [
    "## Using vectorized functions\n",
    "- When performance is paramount, you should avoid using `.apply()` and `.map()` because those constructs perform Python for-loops over the data stored in a pandas Series or DataFrame. By using vectorized functions instead, you can loop over the data at the same speed as compiled code (C, Fortran, etc.)! NumPy, SciPy and pandas come with a variety of vectorized functions (called Universal Functions or UFuncs in NumPy).\n",
    "\n",
    "- You can even write your own vectorized functions, but for now we will focus on the ones distributed by NumPy and pandas.\n",
    "\n",
    "- In this exercise you're going to import the `zscore` function from `scipy.stats` and use it to compute the deviation in voter turnout in Pennsylvania from the mean in fractions of the standard deviation. In statistics, the z-score is the number of standard deviations by which an observation is above the mean - so if it is negative, it means the observation is below the mean.\n",
    "\n",
    "- Instead of using `.apply()` as you did in the earlier exercises, the `zscore` UFunc will take a pandas Series as input and return a NumPy array. You will then assign the values of the NumPy array to a new column in the DataFrame. You will be working with the election DataFrame - it has been pre-loaded for you."
   ]
  },
  {
   "cell_type": "code",
   "execution_count": 34,
   "metadata": {},
   "outputs": [
    {
     "name": "stderr",
     "output_type": "stream",
     "text": [
      "/anaconda3/lib/python3.7/importlib/_bootstrap.py:219: RuntimeWarning: numpy.ufunc size changed, may indicate binary incompatibility. Expected 192 from C header, got 216 from PyObject\n",
      "  return f(*args, **kwds)\n",
      "/anaconda3/lib/python3.7/importlib/_bootstrap.py:219: RuntimeWarning: numpy.ufunc size changed, may indicate binary incompatibility. Expected 192 from C header, got 216 from PyObject\n",
      "  return f(*args, **kwds)\n",
      "/anaconda3/lib/python3.7/importlib/_bootstrap.py:219: RuntimeWarning: numpy.ufunc size changed, may indicate binary incompatibility. Expected 192 from C header, got 216 from PyObject\n",
      "  return f(*args, **kwds)\n"
     ]
    },
    {
     "name": "stdout",
     "output_type": "stream",
     "text": [
      "<class 'numpy.ndarray'>\n",
      "          state   total      Obama     Romney  winner  voters    turnout  \\\n",
      "county                                                                     \n",
      "Adams        PA   41973  35.482334  63.112001  Romney   61156  68.632677   \n",
      "Allegheny    PA  614671  56.640219  42.185820   Obama  924351  66.497575   \n",
      "Armstrong    PA   28322  30.696985  67.901278  Romney   42147  67.198140   \n",
      "Beaver       PA   80015  46.032619  52.637630  Romney  115157  69.483401   \n",
      "Bedford      PA   21444  22.057452  76.986570  Romney   32189  66.619031   \n",
      "\n",
      "              margin color  turnout_zscore  \n",
      "county                                      \n",
      "Adams      27.629667   red        0.853734  \n",
      "Allegheny  14.454399  blue        0.439846  \n",
      "Armstrong  37.204293   red        0.575650  \n",
      "Beaver      6.605012   red        1.018647  \n",
      "Bedford    54.929118   red        0.463391  \n"
     ]
    }
   ],
   "source": [
    "# Import zscore from scipy.stats\n",
    "from scipy.stats import zscore\n",
    "\n",
    "# Call zscore with election['turnout'] as input: turnout_zscore\n",
    "turnout_zscore = zscore(election['turnout'])\n",
    "\n",
    "# Print the type of turnout_zscore\n",
    "print(type(turnout_zscore))\n",
    "\n",
    "# Assign turnout_zscore to a new column: election['turnout_zscore']\n",
    "election['turnout_zscore'] = turnout_zscore\n",
    "\n",
    "# Print the output of election.head()\n",
    "print(election.head())"
   ]
  },
  {
   "cell_type": "markdown",
   "metadata": {},
   "source": [
    "# Advanced indexing"
   ]
  },
  {
   "cell_type": "code",
   "execution_count": 40,
   "metadata": {},
   "outputs": [],
   "source": [
    "nan = str(\"nan\")\n",
    "sales = pd.DataFrame({'eggs':[47, 110, 221, 77, 132, 205]\n",
    "                        ,'salt':[12.0, 50.0, 89.0, 87.0, nan, 60.0],\n",
    "                     'spam':[17, 31, 72, 20, 52, 55]},index=['Jan', 'Feb', 'Mar', 'Apr', 'May', 'Jun'])"
   ]
  },
  {
   "cell_type": "markdown",
   "metadata": {},
   "source": [
    "## Single Index\n",
    "### Changing index of a DataFrame\n",
    "\n",
    "- As you saw in the previous exercise, indexes are immutable objects. This means that if you want to change or modify the index in a DataFrame, then you need to change the whole index. You will do this now, using a list comprehension to create the new index."
   ]
  },
  {
   "cell_type": "code",
   "execution_count": 41,
   "metadata": {},
   "outputs": [
    {
     "name": "stdout",
     "output_type": "stream",
     "text": [
      "     eggs salt  spam\n",
      "JAN    47   12    17\n",
      "FEB   110   50    31\n",
      "MAR   221   89    72\n",
      "APR    77   87    20\n",
      "MAY   132  nan    52\n",
      "JUN   205   60    55\n"
     ]
    }
   ],
   "source": [
    "# Create the list of new indexes: new_idx\n",
    "new_idx = [i.upper() for i in sales.index]\n",
    "\n",
    "# Assign new_idx to sales.index\n",
    "sales.index = new_idx\n",
    "\n",
    "# Print the sales DataFrame\n",
    "print(sales)"
   ]
  },
  {
   "cell_type": "markdown",
   "metadata": {},
   "source": [
    "### Changing index name labels\n",
    "- Notice that in the previous exercise, the index was not labeled with a name. In this exercise, you will set its name to 'MONTHS'.\n",
    "\n",
    "- Similarly, if all the columns are related in some way, you can provide a label for the set of columns."
   ]
  },
  {
   "cell_type": "code",
   "execution_count": 43,
   "metadata": {},
   "outputs": [
    {
     "name": "stdout",
     "output_type": "stream",
     "text": [
      "PRODUCTS  eggs salt  spam\n",
      "MONTHS                   \n",
      "JAN         47   12    17\n",
      "FEB        110   50    31\n",
      "MAR        221   89    72\n",
      "APR         77   87    20\n",
      "MAY        132  nan    52\n",
      "JUN        205   60    55\n"
     ]
    }
   ],
   "source": [
    "# Assign the string 'MONTHS' to sales.index.name\n",
    "sales.index.name = 'MONTHS'\n",
    "\n",
    "# Assign the string 'PRODUCTS' to sales.columns.name \n",
    "sales.columns.name = 'PRODUCTS'\n",
    "\n",
    "# Print the sales dataframe again\n",
    "print(sales)"
   ]
  },
  {
   "cell_type": "markdown",
   "metadata": {},
   "source": [
    "### Building an index, then a DataFrame\n",
    "\n",
    "- You can also build the DataFrame and index independently, and then put them together. If you take this route, be careful, as any mistakes in generating the DataFrame or the index can cause the data and the index to be aligned incorrectly."
   ]
  },
  {
   "cell_type": "code",
   "execution_count": 44,
   "metadata": {},
   "outputs": [
    {
     "name": "stdout",
     "output_type": "stream",
     "text": [
      "PRODUCTS  eggs salt  spam\n",
      "Jan         47   12    17\n",
      "Feb        110   50    31\n",
      "Mar        221   89    72\n",
      "Apr         77   87    20\n",
      "May        132  nan    52\n",
      "Jun        205   60    55\n"
     ]
    }
   ],
   "source": [
    "# Generate the list of months: months\n",
    "months = ['Jan', 'Feb', 'Mar', 'Apr', 'May', 'Jun']\n",
    "\n",
    "# Assign months to sales.index\n",
    "sales.index = months\n",
    "\n",
    "# Print the modified sales DataFrame\n",
    "print(sales)"
   ]
  },
  {
   "cell_type": "markdown",
   "metadata": {},
   "source": [
    "## Multi index\n",
    "### Extracting data with a MultiIndex"
   ]
  },
  {
   "cell_type": "code",
   "execution_count": 51,
   "metadata": {},
   "outputs": [
    {
     "data": {
      "text/html": [
       "<div>\n",
       "<style scoped>\n",
       "    .dataframe tbody tr th:only-of-type {\n",
       "        vertical-align: middle;\n",
       "    }\n",
       "\n",
       "    .dataframe tbody tr th {\n",
       "        vertical-align: top;\n",
       "    }\n",
       "\n",
       "    .dataframe thead th {\n",
       "        text-align: right;\n",
       "    }\n",
       "</style>\n",
       "<table border=\"1\" class=\"dataframe\">\n",
       "  <thead>\n",
       "    <tr style=\"text-align: right;\">\n",
       "      <th></th>\n",
       "      <th></th>\n",
       "      <th>eggs</th>\n",
       "      <th>salt</th>\n",
       "      <th>spam</th>\n",
       "    </tr>\n",
       "    <tr>\n",
       "      <th>state</th>\n",
       "      <th>month</th>\n",
       "      <th></th>\n",
       "      <th></th>\n",
       "      <th></th>\n",
       "    </tr>\n",
       "  </thead>\n",
       "  <tbody>\n",
       "    <tr>\n",
       "      <td rowspan=\"2\" valign=\"top\">CA</td>\n",
       "      <td>1</td>\n",
       "      <td>47</td>\n",
       "      <td>12</td>\n",
       "      <td>17</td>\n",
       "    </tr>\n",
       "    <tr>\n",
       "      <td>2</td>\n",
       "      <td>110</td>\n",
       "      <td>50</td>\n",
       "      <td>31</td>\n",
       "    </tr>\n",
       "    <tr>\n",
       "      <td rowspan=\"2\" valign=\"top\">NY</td>\n",
       "      <td>1</td>\n",
       "      <td>221</td>\n",
       "      <td>89</td>\n",
       "      <td>72</td>\n",
       "    </tr>\n",
       "    <tr>\n",
       "      <td>2</td>\n",
       "      <td>77</td>\n",
       "      <td>87</td>\n",
       "      <td>20</td>\n",
       "    </tr>\n",
       "    <tr>\n",
       "      <td rowspan=\"2\" valign=\"top\">TX</td>\n",
       "      <td>1</td>\n",
       "      <td>132</td>\n",
       "      <td>nan</td>\n",
       "      <td>52</td>\n",
       "    </tr>\n",
       "    <tr>\n",
       "      <td>2</td>\n",
       "      <td>205</td>\n",
       "      <td>60</td>\n",
       "      <td>55</td>\n",
       "    </tr>\n",
       "  </tbody>\n",
       "</table>\n",
       "</div>"
      ],
      "text/plain": [
       "             eggs salt  spam\n",
       "state month                 \n",
       "CA    1        47   12    17\n",
       "      2       110   50    31\n",
       "NY    1       221   89    72\n",
       "      2        77   87    20\n",
       "TX    1       132  nan    52\n",
       "      2       205   60    55"
      ]
     },
     "execution_count": 51,
     "metadata": {},
     "output_type": "execute_result"
    }
   ],
   "source": [
    "# setting up the DF\n",
    "nan = str(\"nan\")\n",
    "state = ['CA', 'NY', 'TX']\n",
    "month = [1, 2]\n",
    "indeks = pd.MultiIndex.from_product([state,month],names=['state','month'])\n",
    "sales = pd.DataFrame({'eggs':[47, 110, 221, 77, 132, 205]\n",
    "                        ,'salt':[12.0, 50.0, 89.0, 87.0, nan, 60.0],\n",
    "                     'spam':[17, 31, 72, 20, 52, 55]},index=indeks)\n",
    "sales"
   ]
  },
  {
   "cell_type": "markdown",
   "metadata": {},
   "source": [
    "### Extracting data with a MultiIndex"
   ]
  },
  {
   "cell_type": "code",
   "execution_count": 52,
   "metadata": {},
   "outputs": [
    {
     "name": "stdout",
     "output_type": "stream",
     "text": [
      "             eggs salt  spam\n",
      "state month                 \n",
      "CA    1        47   12    17\n",
      "      2       110   50    31\n",
      "TX    1       132  nan    52\n",
      "      2       205   60    55\n",
      "             eggs salt  spam\n",
      "state month                 \n",
      "CA    1        47   12    17\n",
      "      2       110   50    31\n",
      "NY    1       221   89    72\n",
      "      2        77   87    20\n",
      "TX    1       132  nan    52\n",
      "      2       205   60    55\n"
     ]
    }
   ],
   "source": [
    "# Print sales.loc[['CA', 'TX']]\n",
    "print(sales.loc[['CA','TX']])\n",
    "\n",
    "# Print sales['CA':'TX']\n",
    "print(sales['CA':'TX'])"
   ]
  },
  {
   "cell_type": "markdown",
   "metadata": {},
   "source": [
    "### Setting & sorting a MultiIndex\n",
    "\n",
    "- In the previous exercise, the MultiIndex was created and sorted for you. Now, you're going to do this yourself! With a MultiIndex, you should always ensure the index is sorted. You can skip this only if you know the data is already sorted on the index fields."
   ]
  },
  {
   "cell_type": "raw",
   "metadata": {},
   "source": [
    "# Set the index to be the columns ['state', 'month']: sales\n",
    "sales = sales.set_index(['state', 'month'])\n",
    "\n",
    "# Sort the MultiIndex: sales\n",
    "sales = sales.sort_index()\n",
    "\n",
    "# Print the sales DataFrame\n",
    "print(sales)"
   ]
  },
  {
   "cell_type": "markdown",
   "metadata": {},
   "source": [
    "### Using .loc[] with nonunique indexes\n",
    "\n",
    "-  it is always preferable to have a meaningful index that uniquely identifies each row. Even though pandas does not require unique index values in DataFrames, it works better if the index values are indeed unique. "
   ]
  },
  {
   "cell_type": "raw",
   "metadata": {},
   "source": [
    "# Set the index to the column 'state': sales\n",
    "sales = sales.set_index(['state'])\n",
    "\n",
    "# Print the sales DataFrame\n",
    "print(sales)\n",
    "\n",
    "# Access the data from 'NY'\n",
    "print(sales.loc['NY'])"
   ]
  },
  {
   "cell_type": "markdown",
   "metadata": {},
   "source": [
    "### Indexing multiple levels of a MultiIndex\n",
    "- Looking up indexed data is fast and efficient. And you have already seen that lookups based on the outermost level of a `MultiIndex` work just like lookups on DataFrames that have a single-level `Index`.\n",
    "\n",
    "- Looking up data based on inner levels of a `MultiIndex` can be a bit trickier. The trickiest of all these lookups are when you want to access some inner levels of the index. In this case, you need to use `slice(None)` in the slicing parameter for the outermost dimension(s) instead of the usual :, or use `pd.IndexSlice`. You can refer to the pandas documentation for more details. For example, in the video, Dhavide used the following code to extract rows from all Symbols for the dates Oct. 3rd through 4th inclusive:\n",
    "\n",
    "`stocks.loc[(slice(None), slice('2016-10-03', '2016-10-04')), :]`\n",
    "\n",
    "Pay particular attention to the tuple `(slice(None), slice('2016-10-03', '2016-10-04'))`"
   ]
  },
  {
   "cell_type": "code",
   "execution_count": 55,
   "metadata": {},
   "outputs": [],
   "source": [
    "# Look up data for NY in month 1 in sales: NY_month1\n",
    "NY_month1 = sales.loc[('NY',1),:]\n",
    "\n",
    "# Look up data for CA and TX in month 2: CA_TX_month2\n",
    "CA_TX_month2 = sales.loc[(['CA','TX'],2),:]\n",
    "\n",
    "# Access the inner month index and look up data for all states in month 2: all_month2\n",
    "all_month2 = sales.loc[(slice(None),2),:]"
   ]
  },
  {
   "cell_type": "markdown",
   "metadata": {},
   "source": [
    "# Rearranging and reshaping data"
   ]
  },
  {
   "cell_type": "code",
   "execution_count": null,
   "metadata": {},
   "outputs": [],
   "source": []
  }
 ],
 "metadata": {
  "kernelspec": {
   "display_name": "Python 3",
   "language": "python",
   "name": "python3"
  },
  "language_info": {
   "codemirror_mode": {
    "name": "ipython",
    "version": 3
   },
   "file_extension": ".py",
   "mimetype": "text/x-python",
   "name": "python",
   "nbconvert_exporter": "python",
   "pygments_lexer": "ipython3",
   "version": "3.7.4"
  },
  "toc": {
   "base_numbering": 1,
   "nav_menu": {},
   "number_sections": true,
   "sideBar": true,
   "skip_h1_title": false,
   "title_cell": "Table of Contents",
   "title_sidebar": "Contents",
   "toc_cell": true,
   "toc_position": {},
   "toc_section_display": true,
   "toc_window_display": false
  }
 },
 "nbformat": 4,
 "nbformat_minor": 4
}
