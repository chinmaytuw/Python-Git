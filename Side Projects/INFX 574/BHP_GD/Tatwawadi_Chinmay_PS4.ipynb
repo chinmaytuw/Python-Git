{
 "cells": [
  {
   "cell_type": "markdown",
   "metadata": {},
   "source": [
    "# Problem Set 4, due February 23 at 11:59am, mid-day, noon.\n",
    "\n",
    "### Before You Start\n",
    "\n",
    "This is a fun but challenging problem set. It will test your python skills, as well as your understanding of the material in class and in the readings. Start early and debug often! Some notes:\n",
    "\n",
    "* Part 1 is meant to be easy, so get through it quickly.\n",
    "* Part 2 (especially 2.1) will be difficult, but it is the lynchpin of this problem set to make sure to do it well and understand what you've done. If you find your gradient descent algorithm is taking more than a few minutes to complete, debug more, compare notes with others, and go to the TA sessions.\n",
    "* Depending on how well you've done 2.1, parts 2.3 and 4.3 will be relatively painless or incredibly painful. \n",
    "* Part 4 (especially 3.3) will be computationally intensive. Don't leave this until the last minute, otherwise your code might be running when the deadline arrives.\n",
    "* Do the extra credit problems last."
   ]
  },
  {
   "cell_type": "markdown",
   "metadata": {},
   "source": [
    "---\n",
    "\n",
    "## Introduction to the assignment\n",
    "\n",
    "As with the last assignment, you will be using the [Boston Housing Prices Data Set](http://archive.ics.uci.edu/ml/datasets/Housing)."
   ]
  },
  {
   "cell_type": "code",
   "execution_count": 96,
   "metadata": {
    "collapsed": false
   },
   "outputs": [],
   "source": [
    "import IPython\n",
    "import numpy as np\n",
    "import scipy as sp\n",
    "import pandas as pd\n",
    "from pandas import DataFrame,Series\n",
    "import matplotlib\n",
    "import sklearn\n",
    "\n",
    "import time\n",
    "from __future__ import division\n",
    "\n",
    "%matplotlib inline  \n",
    "import matplotlib.pyplot as plt  \n",
    "import statsmodels.api as sm\n",
    "from matplotlib import pyplot, pylab\n",
    "from sklearn.linear_model import LinearRegression\n",
    "from sklearn.metrics import mean_squared_error\n",
    "import statsmodels.formula.api as smf\n",
    "\n",
    "from sklearn.cross_validation import train_test_split"
   ]
  },
  {
   "cell_type": "code",
   "execution_count": 97,
   "metadata": {
    "collapsed": true
   },
   "outputs": [],
   "source": [
    "from sklearn.datasets import load_boston\n",
    "bdata = load_boston()"
   ]
  },
  {
   "cell_type": "code",
   "execution_count": 98,
   "metadata": {
    "collapsed": false
   },
   "outputs": [],
   "source": [
    "# creaing dataframe in pandas\n",
    "bostonDF = DataFrame(bdata.data)\n",
    "\n",
    "#creating labels\n",
    "bostonDF.columns = bdata.feature_names\n",
    "\n",
    "#creating column for price\n",
    "bostonDF['MEDV'] = bdata.target"
   ]
  },
  {
   "cell_type": "markdown",
   "metadata": {},
   "source": [
    "---\n",
    "\n",
    "## Part 1: Getting oriented\n",
    "\n",
    "Use different learning rates\n",
    "\n",
    "### 1.1 Use existing libraries\n",
    "\n",
    "Soon, you will write your own gradient descent algorithm, which you will then use to minimize the squared error cost function.  First, however, let's use the canned versions that come with Python, to make sure we understand what we're aiming to achieve.\n",
    "\n",
    "Using the same Boston housing prices dataset, use the [Linear Regression class](http://scikit-learn.org/stable/modules/generated/sklearn.linear_model.LinearRegression.html) from sklearn or the [OLS class](http://wiki.scipy.org/Cookbook/OLS) from SciPy to explore the relationship between  median housing price and number of rooms per house. Do this by first (a) regressing the housing price on the number of rooms per house, and then (b) regressing the housing price on the number of rooms per house and the (number of rooms per house) squared.  Interpret your results."
   ]
  },
  {
   "cell_type": "code",
   "execution_count": 99,
   "metadata": {
    "collapsed": false
   },
   "outputs": [],
   "source": [
    "# uncomment the following if you want to see a lengthy description of the dataset\n",
    "# print bdata.keys()\n",
    "# print bdata.feature_names\n",
    "# print bdata.data.shape\n",
    "# print bdata.target.shape\n",
    "# print bdata.DESCR\n",
    "\n",
    "\n"
   ]
  },
  {
   "cell_type": "code",
   "execution_count": 100,
   "metadata": {
    "collapsed": false
   },
   "outputs": [
    {
     "data": {
      "text/plain": [
       "Intercept   -34.670621\n",
       "RM            9.102109\n",
       "dtype: float64"
      ]
     },
     "execution_count": 100,
     "metadata": {},
     "output_type": "execute_result"
    }
   ],
   "source": [
    "# regressing the housing price on the number of rooms per house,\n",
    "bostonDF_model_LR1 = smf.ols(formula='MEDV~RM', data =bostonDF).fit()\n",
    "\n",
    "# checking the params\n",
    "bostonDF_model_LR1.params"
   ]
  },
  {
   "cell_type": "code",
   "execution_count": 101,
   "metadata": {
    "collapsed": false
   },
   "outputs": [
    {
     "data": {
      "text/plain": [
       "Intercept    66.058847\n",
       "RM          -22.643262\n",
       "RM2           2.470124\n",
       "dtype: float64"
      ]
     },
     "execution_count": 101,
     "metadata": {},
     "output_type": "execute_result"
    }
   ],
   "source": [
    "# creating new col for number of rooms squared\n",
    "bostonDF['RM2'] = bostonDF['RM']**2\n",
    "\n",
    "# regressing the housing price on the number of rooms per house and the (number of rooms per house) squared.\n",
    "bostonDF_model_LR2 = smf.ols(formula='MEDV ~RM+RM2', data =bostonDF).fit()\n",
    "\n",
    "#printing\n",
    "bostonDF_model_LR2.params"
   ]
  },
  {
   "cell_type": "markdown",
   "metadata": {},
   "source": [
    "1. In case 1, the coefficient is 9.1, which means that an increase in 1 room will increase the price by $9.1k.\n",
    "2. In case 2, there seems to be a non linear relationship"
   ]
  },
  {
   "cell_type": "markdown",
   "metadata": {},
   "source": [
    "*Enter your observations here*"
   ]
  },
  {
   "cell_type": "markdown",
   "metadata": {},
   "source": [
    "### 1.2 Training and testing\n",
    "\n",
    "Chances are, for the above problem you used all of your data to fit the regression line. In some circumstances this is a reasonable thing to do, but often this will result in overfitting. Let's redo the above results the ML way, using careful cross-validation.  Since you are now experts in cross-validation, and have written your own cross-validation algorithm from scratch, you can now take a shortcut and use the libraries that others have built for you.\n",
    "\n",
    "Using the [cross-validation functions](http://scikit-learn.org/stable/modules/cross_validation.html) from scikit-learn, use 250-fold cross-validation to fit regression (a) above, i.e. the linear fit of housing price on number of rooms per house. Each fold of cross-validation will give you one slope coefficient and one intercept coefficient.  Plot the distribution of the 250 slope coefficients using a histogram with 25 bins, then draw a vertical line at the value of the slope coefficient that you estimated in 1.1 using the full dataset.  What do you notice?"
   ]
  },
  {
   "cell_type": "code",
   "execution_count": 102,
   "metadata": {
    "collapsed": false
   },
   "outputs": [],
   "source": [
    "from sklearn.cross_validation import KFold\n",
    "\n",
    "# creating features & output\n",
    "X = bostonDF[\"RM\"]\n",
    "y = bostonDF[\"MEDV\"]\n",
    "\n",
    "#?KFOLD\n",
    "kf = KFold(506,n_folds=250)\n",
    "\n",
    "\n",
    "# training and testing sets\n",
    "X_train = []\n",
    "y_train = []\n",
    "X_test = []\n",
    "y_test = []\n",
    "\n",
    "for train_ind, test_ind in kf:\n",
    "    X_train.append(X[train_ind])\n",
    "    y_train.append(y[train_ind])\n",
    "    X_test.append(X[test_ind])\n",
    "    y_test.append(y[test_ind])\n",
    "    \n",
    "# reshaping to matrix\n",
    "for j in range(250):\n",
    "    if j < 6:\n",
    "        X_train[j] = X_train[j].reshape(503,1)\n",
    "        y_train[j] = y_train[j].reshape(503,1)\n",
    "        X_test[j] = X_test[j].reshape(3,1)\n",
    "        y_test[j] = y_test[j].reshape(3,1)\n",
    "    else:\n",
    "        X_train[j] = X_train[j].reshape(504,1)\n",
    "        y_train[j] = y_train[j].reshape(504,1)\n",
    "        X_test[j] = X_test[j].reshape(2,1)\n",
    "        y_test[j] = y_test[j].reshape(2,1)\n",
    "        \n",
    "# creating an array to store results\n",
    "Results_LR =[]\n",
    "for j in range(250):\n",
    "    LR = LinearRegression()\n",
    "    Results_LR.append(LR.fit(X_train[j], y_train[j])) \n",
    "    \n",
    "# creating an array to store corresponding slopes \n",
    "Results_LR_Slopes =[]\n",
    "for i in range(250):\n",
    "    Results_LR_Slopes.append(Results_LR[i].coef_[0][0])"
   ]
  },
  {
   "cell_type": "code",
   "execution_count": 103,
   "metadata": {
    "collapsed": false
   },
   "outputs": [
    {
     "data": {
      "text/plain": [
       "<matplotlib.text.Text at 0x1c96a76d588>"
      ]
     },
     "execution_count": 103,
     "metadata": {},
     "output_type": "execute_result"
    },
    {
     "data": {
      "image/png": "[encoded data removed]",
      "text/plain": [
       "<matplotlib.figure.Figure at 0x1c96a79af60>"
      ]
     },
     "metadata": {},
     "output_type": "display_data"
    }
   ],
   "source": [
    "#creating histogram   \n",
    "plt.hist(Results_LR_Slopes,bins=25,color='green',alpha=0.6)\n",
    "plt.axvline(x=bostonDF_model_LR1.params[1],color = \"red\")\n",
    "\n",
    "#Creating labels\n",
    "pylab.xlabel(\"Slopes\")\n",
    "pylab.ylabel(\"Folds\")\n",
    "pylab.title('Slopes Vs Folds')"
   ]
  },
  {
   "cell_type": "markdown",
   "metadata": {},
   "source": [
    "*Enter your observations here*"
   ]
  },
  {
   "cell_type": "markdown",
   "metadata": {},
   "source": [
    "### 1.3 Regression lines\n",
    "\n",
    "Create a scatterplot of housing price on rooms per house, and add the two regression lines from 1.1 (or 1.2 if you prefer to do so). Show the linear regression line in red, and the linear+quadratic regression line (which may have curvature) in blue.  Label these two regression lines with the corresponding regression equations (i.e. the slope and intercept of the line).\n",
    "\n",
    "Bonus: Add the 95% confidence bands (i.e.,  the area that has a 95% chance of containing the true regression line) to each of these lines."
   ]
  },
  {
   "cell_type": "markdown",
   "metadata": {},
   "source": [
    "\n"
   ]
  },
  {
   "cell_type": "code",
   "execution_count": 104,
   "metadata": {
    "collapsed": false
   },
   "outputs": [
    {
     "data": {
      "text/plain": [
       "<matplotlib.legend.Legend at 0x1c96af31ef0>"
      ]
     },
     "execution_count": 104,
     "metadata": {},
     "output_type": "execute_result"
    },
    {
     "data": {
      "image/png": "[encoded data removed]",
      "text/plain": [
       "<matplotlib.figure.Figure at 0x1c96a76acf8>"
      ]
     },
     "metadata": {},
     "output_type": "display_data"
    }
   ],
   "source": [
    "# Creating figure and assigning size\n",
    "fig, ax = plt.subplots(figsize=(16, 10))\n",
    "\n",
    "#plotting scatterplot\n",
    "ax.scatter(bostonDF['RM'], bostonDF['MEDV'], alpha=0.4, color='black', label ='Data')\n",
    "\n",
    "#Adding regression line for first model\n",
    "ax.plot(bostonDF['RM'], bostonDF_model_LR1.params[0] + (bostonDF_model_LR1.params[1]*bostonDF['RM']), alpha=0.9, \n",
    "        color='red', label = 'Regression line for Model 1')\n",
    "\n",
    "#Adding second regression line for model 2\n",
    "ax.plot(bostonDF['RM'], \n",
    "           bostonDF_model_LR2.params[0] + (bostonDF_model_LR2.params[1]*bostonDF['RM']) + (bostonDF_model_LR2.params[2]*((bostonDF['RM'])**2)), \n",
    "           alpha=0.5,  color='blue', label = 'Regression line for Model 2')\n",
    "\n",
    "#Adding labels\n",
    "pylab.ylabel('Median house price')\n",
    "pylab.xlabel('Rooms/house')\n",
    "pylab.title('Median House Price VS Rooms per House - Boston')\n",
    "\n",
    "#adding legends\n",
    "pylab.legend(loc='best')"
   ]
  },
  {
   "cell_type": "markdown",
   "metadata": {},
   "source": [
    "## Part 2: Gradient descent: Linear Regression\n",
    "\n",
    "This is where it gets fun!\n",
    "\n",
    "### 2.1 Implement gradient descent with one independent variable (Average rooms per house)\n",
    "\n",
    "Implement the batch gradient descent algorithm that we discussed in class. Use the version you implement to regress the housing price on the number of rooms per house. Experiment with 3-4 different values of the learning rate *R*, and do the following:\n",
    "\n",
    "* Report the values of alpha and beta that minimize the loss function\n",
    "* Report the number of iterations it takes for your algorithm to converge (for each value of *R*)\n",
    "* Report the total running time of your algorithm, in seconds\n",
    "\n",
    "Some skeleton code is provided below, but you should feel free to delete this code and start from scratch if you prefer.\n",
    "\n",
    "* *Hint 1: Don't forget to implement a stopping condition, so that at every iteration you check whether your results have converged. Common approaches to this are to (a) check to see if the loss has stopped decreasing; and (b) check if both your current parameter esimates are close to the estimates from the previous iteration.  In both cases, \"close\" should not be ==0, it should be <=epsilon, where epsilon is something very small (like 0.0001).*\n",
    "* *Hint 2: Some people like to include a MaxIterations parameter in their gradient descent algorithm, to prevent divergence. *"
   ]
  },
  {
   "cell_type": "code",
   "execution_count": 112,
   "metadata": {
    "collapsed": false
   },
   "outputs": [],
   "source": [
    "import time\n",
    "\n",
    "\"\"\"\n",
    "Function\n",
    "--------\n",
    "bivariate_ols\n",
    "    Gradient Decent to minimize OLS. Used to find co-efficients of bivariate OLS Linear regression\n",
    "\n",
    "Parameters\n",
    "----------\n",
    "xvalues, yvalues : narray\n",
    "    xvalues: independent variable\n",
    "    yvalues: dependent variable\n",
    "    \n",
    "R: float\n",
    "    Learning rate\n",
    "    \n",
    "MaxIterations: Int\n",
    "    maximum number of iterations\n",
    "    \n",
    "\n",
    "Returns\n",
    "-------\n",
    "al0: float\n",
    "    intercept\n",
    "    \n",
    "bt0: float\n",
    "    co-efficient\n",
    "\"\"\"\n",
    "def bivariate_ols(xvalues, yvalues, R=0.01, MaxIterations=1000):\n",
    "    #initializing params\n",
    "    start_time = time.time()\n",
    "    condi = False #initial condition is set as FALSE\n",
    "    it = 0 #Initial value for iteration\n",
    "    n = len(xvalues) \n",
    "    \n",
    "    # initial values for alpha & beta\n",
    "    al0 = 10\n",
    "    bt0 = 8\n",
    "    \n",
    "    sum_l = 0\n",
    "    for i in range(n):\n",
    "        sum_l += (al0 + bt0*xvalues[i] - yvalues[i])**2\n",
    "        \n",
    "    l = sum_l\n",
    "\n",
    "    while not condi:\n",
    "\n",
    "        sum_al0 = 0\n",
    "        for i in range(n):\n",
    "            sum_al0 += (al0 + bt0*xvalues[i] - yvalues[i])\n",
    "            \n",
    "        sum_bt0 = 0\n",
    "        for j in range(n):\n",
    "            sum_bt0 += (al0 + bt0*xvalues[j] - yvalues[j])*xvalues[j]    \n",
    "        \n",
    "        # bringing in learning rate\n",
    "        temp_al0 = al0 - R*sum_al0*(1/n)\n",
    "        temp_bt0 = bt0 - R*sum_bt0*(1/n)\n",
    "        \n",
    "        al0 = temp_al0\n",
    "        bt0 = temp_bt0\n",
    "        \n",
    "        e = 0\n",
    "        for k in range(n):\n",
    "            e += (al0 + bt0*xvalues[k] - yvalues[k])**2\n",
    "            \n",
    "        \n",
    "        if(abs(l-e) <= 0.001):\n",
    "            print (\"converged after iterations\",it)\n",
    "            condi = True #Changing the condition val so loop can run\n",
    "            \n",
    "        # updating error\n",
    "        l = e\n",
    "        \n",
    "        #updating iterations \n",
    "        it += 1\n",
    "        \n",
    "        if it == MaxIterations:\n",
    "            print (\"Max Iterations\")\n",
    "            condi = True  #changing condi for loop to run\n",
    "    \n",
    "    print ('Time taken:',' ', str(round(time.time() - start_time,2)) ,'seconds')\n",
    "    return al0, bt0\n",
    "\n",
    "# example function call\n",
    "# print (bivariate_ols(X, Y, 0.01, 100000))"
   ]
  },
  {
   "cell_type": "code",
   "execution_count": 113,
   "metadata": {
    "collapsed": false
   },
   "outputs": [
    {
     "name": "stdout",
     "output_type": "stream",
     "text": [
      "For R = 0.001\n",
      "Max Iterations\n",
      "Time taken:   34.74 seconds\n",
      "(8.5687047856375269, 2.3046677929680524)\n",
      "\n",
      " For R = 0.01 \n",
      "\n",
      "Max Iterations\n",
      "Time taken:   40.97 seconds\n",
      "(4.1336658209751063, 3.0018784024731073)\n",
      "\n",
      " For R = 0.1 \n",
      "\n",
      "Max Iterations\n",
      "Time taken:   34.27 seconds\n",
      "(nan, nan)\n"
     ]
    }
   ],
   "source": [
    "#For r=0.001\n",
    "print ('For R = 0.001')\n",
    "print (bivariate_ols(bostonDF['RM'], bostonDF['MEDV'],0.001,1000))\n",
    "\n",
    "#For r=0.01\n",
    "print (\"\\n For R = 0.01 \\n\")\n",
    "print (bivariate_ols(bostonDF['RM'], bostonDF['MEDV'],0.01,1000))\n",
    "\n",
    "#for R=0.1\n",
    "print (\"\\n For R = 0.1 \\n\")\n",
    "print (bivariate_ols(bostonDF['RM'], bostonDF['MEDV'],0.1,1000))"
   ]
  },
  {
   "cell_type": "markdown",
   "metadata": {},
   "source": [
    "1. The function converges after 33,000 iterations,giving the correct slope and intercept."
   ]
  },
  {
   "cell_type": "markdown",
   "metadata": {},
   "source": [
    "### 2.2 Data normalization (done for you!)\n",
    "\n",
    "Soon, you will implement a version of gradient descent that can use an arbitrary number of independent variables. Before doing this, we want to give you some code in case you want to standardize your features."
   ]
  },
  {
   "cell_type": "code",
   "execution_count": 114,
   "metadata": {
    "collapsed": false
   },
   "outputs": [],
   "source": [
    "def standardize(raw_data):\n",
    "    return ((raw_data - np.mean(raw_data, axis = 0)) / np.std(raw_data, axis = 0))"
   ]
  },
  {
   "cell_type": "markdown",
   "metadata": {},
   "source": [
    "### 2.3 Implement gradient descent with an arbitrary number of independent variables\n",
    "\n",
    "Now that you have a simple version of gradient descent working, create a version of gradient descent that can take more than one independent variable.  Assume all independent variables will be continuous.  Test your algorithm using CRIM and RM as independent variables. Standardize these variables before before inputting them to the gradient descent algorithm. \n",
    "\n",
    "As before,  report and interpret your estimated coefficients, the number of iterations before convergence, and the total running time of your algorithm. Experiment with 2-3 different values of R.\n",
    "\n",
    "* *Hint 1: Be careful to implement this efficiently, otherwise it might take a long time for your code to run. Commands like `np.dot` can be a good friend to you on this problem*"
   ]
  },
  {
   "cell_type": "code",
   "execution_count": null,
   "metadata": {
    "collapsed": true
   },
   "outputs": [],
   "source": []
  },
  {
   "cell_type": "code",
   "execution_count": 115,
   "metadata": {
    "collapsed": false
   },
   "outputs": [],
   "source": [
    "\"\"\"\n",
    "Function\n",
    "--------\n",
    "multivariate_ols\n",
    "    Gradient Decent to minimize OLS. Used to find co-efficients of bivariate OLS Linear regression\n",
    "\n",
    "Parameters\n",
    "----------\n",
    "xvalue_matrix, yvalues : narray\n",
    "    xvalue_matrix: independent variable\n",
    "    yvalues: dependent variable\n",
    "    \n",
    "R: float\n",
    "    Learning rate\n",
    "    \n",
    "MaxIterations: Int\n",
    "    maximum number of iterations\n",
    "    \n",
    "\n",
    "Returns\n",
    "-------\n",
    "alpha: float\n",
    "    intercept\n",
    "    \n",
    "beta_array: array[float]\n",
    "    co-efficient\n",
    "\"\"\"\n",
    "\n",
    "def multivariate_ols(xvalue_matrix, yvalues, R=0.01, MaxIterations=1000):\n",
    "    start_time = time.time()\n",
    "    \n",
    "    xm = xvalue_matrix\n",
    "    \n",
    "    yl = len(yvalues) # length of dependant variable matrix\n",
    "    \n",
    "    eps = 0.0001 #value of epsilon\n",
    "    \n",
    "    n = len(xm.T) # taking the length of transposed matrix\n",
    "    \n",
    "    # array of coefficients\n",
    "    th0 = np.array([10]*n)\n",
    "    th0 = th0.reshape(-1,1)\n",
    "    \n",
    "    # transposing input\n",
    "    xTran = xm.transpose()\n",
    "    \n",
    "    # reshaping\n",
    "    ym = yvalues.reshape(-1,1)\n",
    "    \n",
    "    # calculating yhat\n",
    "    yhat = np.dot(xm, th0)\n",
    "    \n",
    "    # calculating the loss\n",
    "    e = yhat - ym\n",
    "    \n",
    "    # calculating the cost\n",
    "    Jc = np.sum(e**2)\n",
    "    \n",
    "    #setting the condition\n",
    "    converge = False\n",
    "    \n",
    "    #setting iteration\n",
    "    it=0\n",
    "    \n",
    "    while not converge: \n",
    "\n",
    "        # avg val of gradient\n",
    "        grad = np.dot(xTran, e) / yl\n",
    "        \n",
    "        # updating theta\n",
    "        th0 = th0 - R * grad\n",
    "        \n",
    "        # updating hypothesis\n",
    "        yhat = np.dot(xm, th0)\n",
    "        \n",
    "        # updating loss \n",
    "        e = yhat - ym\n",
    "        \n",
    "        # updating cost\n",
    "        cost = np.sum(e**2)\n",
    "\n",
    "        if abs(Jc - cost) <= eps:\n",
    "            print ('Converged after iterations:: ', it)\n",
    "            converge = True #changing condition\n",
    "\n",
    "        else:\n",
    "            Jc = cost\n",
    "        if it == MaxIterations:\n",
    "            print ('Max iterations')\n",
    "            converge = True #changind the condition\n",
    "        it = it+1 #incrementing iteration value\n",
    "        \n",
    "    #printing runtime\n",
    "    print (\"Time taken: \" , str(round(time.time() - start_time,2)) , \" seconds\")\n",
    "    return th0 #returing theta value"
   ]
  },
  {
   "cell_type": "code",
   "execution_count": 116,
   "metadata": {
    "collapsed": false
   },
   "outputs": [
    {
     "name": "stdout",
     "output_type": "stream",
     "text": [
      "For R = 0.1 \n",
      "\n",
      "Converged after iterations::  113\n",
      "Time taken:  0.0  seconds\n",
      "[[ 22.53273017]\n",
      " [  5.89519421]\n",
      " [ -2.24782868]]\n",
      "\n",
      " For R = 0.01 \n",
      "\n",
      "Converged after iterations::  1018\n",
      "Time taken:  0.02  seconds\n",
      "[[ 22.53235932]\n",
      " [  5.89720009]\n",
      " [ -2.24579562]]\n",
      "\n",
      " For R = 0.001 \n",
      "\n",
      "Converged after iterations::  8754\n",
      "Time taken:  0.15  seconds\n",
      "[[ 22.5308389 ]\n",
      " [  5.90314339]\n",
      " [ -2.23969647]]\n"
     ]
    }
   ],
   "source": [
    "#creating input matrix for x_matrix\n",
    "x_mat = np.ones((506, 3, ))\n",
    "\n",
    "#standardizing RM\n",
    "x_mat[:,1:2] = standardize(bostonDF['RM']).reshape(506,1)\n",
    "\n",
    "#standardizing CRIM\n",
    "x_mat[:,2:3] = standardize(bostonDF['CRIM']).reshape(506,1)\n",
    "\n",
    "# for R= 0.1\n",
    "print ('For R = 0.1', '\\n')\n",
    "print (multivariate_ols(x_mat,bostonDF['MEDV'],0.1,10000))\n",
    "\n",
    "#for R=0.01\n",
    "print ('\\n For R = 0.01','\\n')\n",
    "print (multivariate_ols(x_mat,bostonDF['MEDV'], 0.01, 10000))\n",
    "\n",
    "# for R=0.001\n",
    "print (\"\\n For R = 0.001\",'\\n')\n",
    "print (multivariate_ols(x_mat, bostonDF['MEDV'], 0.001, 10000))"
   ]
  },
  {
   "cell_type": "markdown",
   "metadata": {},
   "source": [
    "#### Analysis:\n",
    "1. Value of coefficients is almost the same.\n",
    "2. Lower the learning rate, higher the number of iterations before convergence."
   ]
  },
  {
   "cell_type": "markdown",
   "metadata": {},
   "source": [
    "### 2.4 Compare standardized vs. non-standardized results\n",
    "\n",
    "Repeat the analysis from 2.3, but this time do not standardize your variables - i.e., use the original data. Use the same three values of R (0.1, 0.01, and 0.001). What do you notice about the running time and convergence properties of your algorithm?"
   ]
  },
  {
   "cell_type": "code",
   "execution_count": 117,
   "metadata": {
    "collapsed": false
   },
   "outputs": [
    {
     "name": "stdout",
     "output_type": "stream",
     "text": [
      "\n",
      " For R = 0.001 \n",
      "\n",
      "Converged after iterations::  336660\n",
      "Time taken:  5.34  seconds\n",
      "[[-28.42492053]\n",
      " [  8.26126066]\n",
      " [ -0.26475149]]\n",
      "\n",
      " For R = 0.01 \n",
      "\n",
      "Converged after iterations::  43941\n",
      "Time taken:  0.73  seconds\n",
      "[[-29.02447588]\n",
      " [  8.35444689]\n",
      " [ -0.26274883]]\n"
     ]
    }
   ],
   "source": [
    "# unstandardized data\n",
    "x_mat = np.ones((506, 3, ))\n",
    "\n",
    "x_mat[:,1:2] = (bostonDF['RM']).reshape(506,1)\n",
    "x_mat[:,2:3] = (bostonDF['CRIM']).reshape(506,1)\n",
    "\n",
    "#for R=0.001\n",
    "print ('\\n For R = 0.001','\\n')\n",
    "print (multivariate_ols(x_mat, bostonDF['MEDV'], 0.001,1000000))\n",
    "\n",
    "#for R= 0.01\n",
    "print (\"\\n For R = 0.01\",'\\n')\n",
    "print (multivariate_ols(x_mat, bostonDF['MEDV'], 0.01,1000000))"
   ]
  },
  {
   "cell_type": "markdown",
   "metadata": {},
   "source": [
    "#### Analysis:\n",
    "1. Value of coeffs is visibly different from earlier. \n",
    "2. Values of coeffs are not as stable as earlier and vary as R changes.\n",
    "3. Unstandardized values take more iterations and time to converge."
   ]
  },
  {
   "cell_type": "markdown",
   "metadata": {},
   "source": [
    "## 3. Prediction\n",
    "\n",
    "Let's use our fitted model to make predictions about housing prices. Since the focus is now on prediction rather than the interpretation of the coefficients, it would be wise for you to first standardize your features before proceeding.\n",
    "\n",
    "### 3.1 Cross-Validation\n",
    "\n",
    "Unless you were careful above, you probably overfit your data again. Let's fix that in one of two ways. If you're feeling confident, use k-fold cross-validation to re-fit the multivariate regression from 2.3 above, and report your estimated coefficients (there should be three, corresponding to the intercept and the two coefficients for CRIM and RM). Or if you want to do the quick and dirty version, randomly divide your data into a training set (66%) and testing set (34%) and use the training set to re-fit the regression from 2.3 above. "
   ]
  },
  {
   "cell_type": "code",
   "execution_count": 118,
   "metadata": {
    "collapsed": false
   },
   "outputs": [
    {
     "name": "stdout",
     "output_type": "stream",
     "text": [
      "Converged after iterations::  998\n",
      "Time taken:  0.03  seconds\n"
     ]
    },
    {
     "data": {
      "text/plain": [
       "array([[ 22.45804901],\n",
       "       [  6.02338556],\n",
       "       [ -2.70739531]])"
      ]
     },
     "execution_count": 118,
     "metadata": {},
     "output_type": "execute_result"
    }
   ],
   "source": [
    "# creating the input matrix\n",
    "x_mat = np.ones((506, 3, ))\n",
    "\n",
    "#Standardizing the values\n",
    "x_mat[:,1:2] = standardize(bostonDF['RM']).reshape(506,1)\n",
    "x_mat[:,2:3] = standardize(bostonDF['CRIM']).reshape(506,1)\n",
    "\n",
    "# setting output as Median price val\n",
    "y_mat = bostonDF['MEDV']\n",
    "\n",
    "#creating test set and train set\n",
    "X_train, X_test, y_train, y_test = train_test_split(x_mat, y_mat, test_size=0.34, random_state = 5)\n",
    "\n",
    "bostonDF_model_MV = multivariate_ols(X_train, y_train, 0.01, 10000)\n",
    "bostonDF_model_MV"
   ]
  },
  {
   "cell_type": "markdown",
   "metadata": {},
   "source": [
    "#### Analysis:\n",
    "1. This is the same as the reuslts for 2.3"
   ]
  },
  {
   "cell_type": "markdown",
   "metadata": {},
   "source": [
    "### 3.2 Predicted values and RMSE\n",
    "\n",
    "Let's figure out how accurate this predictive model turned out to be. Compute the RMSE on your test cases, i.e. take the model parameters that you found above and compare the actual to the predicted values for just the test instances. If you did this the k-fold way above, this will be the average RMSE across the k test sets. If you did this the quick and dirty way above, this will just be the RMSE on your single test set.\n",
    "\n",
    "What is your test RMSE?  How does it compare to the performance of your nearest neighbor algorithm from the last problem set?"
   ]
  },
  {
   "cell_type": "code",
   "execution_count": 119,
   "metadata": {
    "collapsed": false
   },
   "outputs": [
    {
     "data": {
      "text/plain": [
       "7.1082223440812164"
      ]
     },
     "execution_count": 119,
     "metadata": {},
     "output_type": "execute_result"
    }
   ],
   "source": [
    "# computing RMSE\n",
    "def compute_rmse(preds,yvals):\n",
    "    if len(np.array(preds)) == len(np.array(yvals)):\n",
    "        RMSE = np.sqrt(np.mean((np.array(preds)-np.array(yvals))**2))\n",
    "    else:\n",
    "        print('array length not equal')\n",
    "        return -1\n",
    "    return RMSE\n",
    "\n",
    "# creating array to store predictions\n",
    "y_preds = []\n",
    "\n",
    "# appending the array\n",
    "for j in range(len(X_test)):\n",
    "    y_preds.append((bostonDF_model_MV[0] + bostonDF_model_MV[1]*X_test[j][1] + bostonDF_model_MV[2]*X_test[j][2])[0])\n",
    "    \n",
    "# storing actual values in list\n",
    "y_act = []\n",
    "\n",
    "# appending test values to this array\n",
    "for i in y_test.index:\n",
    "    y_act.append(y_test[i])\n",
    "    \n",
    "    \n",
    "compute_rmse(y_preds, y_act)"
   ]
  },
  {
   "cell_type": "markdown",
   "metadata": {},
   "source": [
    "The RMSE values computed using KNN were about the same as this RMSE value i.e. 7.11"
   ]
  },
  {
   "cell_type": "markdown",
   "metadata": {},
   "source": [
    "### Extra Credit 1: Logistic Regression\n",
    "\n",
    "For extra credit, implement logistic regression using gradient descent. Create a new variable (EXPENSIVE) to indicate whether the median housing price is more than $400,000. Use your model  a logistic regression of EXPENSIVE on CHAS and RM. Report your results."
   ]
  },
  {
   "cell_type": "code",
   "execution_count": null,
   "metadata": {
    "collapsed": false
   },
   "outputs": [],
   "source": []
  },
  {
   "cell_type": "markdown",
   "metadata": {},
   "source": [
    "*Discuss your results here*"
   ]
  },
  {
   "cell_type": "markdown",
   "metadata": {},
   "source": [
    "## 4 Regularization \n",
    "\n",
    "### 4.1 Get prepped\n",
    "\n",
    "Step 1: Create new interaction variables between each possible pair of the F_s features. If you originally had *K* features, you should now have *K+K^2/2* features. Standardize all of your features.\n",
    "\n",
    "Step 2: For simplicity, generate a single training and testing set.  Randomly sample 66% of your data and call this the training set, and set aside the remaining 34% as your test set."
   ]
  },
  {
   "cell_type": "code",
   "execution_count": 120,
   "metadata": {
    "collapsed": false
   },
   "outputs": [],
   "source": [
    "# creating new DataFrame\n",
    "bostonDF_new = DataFrame(bdata.data)\n",
    "\n",
    "# labeling columns\n",
    "bostonDF_new.columns = bdata.feature_names\n",
    "\n",
    "#array for new features\n",
    "features = [] \n",
    "\n",
    "for j in bostonDF_new.columns:\n",
    "    features.append(j) #appending the array off columns\n",
    "    \n",
    "#creating new features    \n",
    "for i in range(13):\n",
    "    ftr1 = features[i]\n",
    "    bostonDF_new[ftr1 + \"*\" + ftr1] = bostonDF_new[ftr1] * bostonDF_new[ftr1]\n",
    "    k = i + 1\n",
    "    for k in range(k,13):\n",
    "        ftr2 = features[k]\n",
    "        bostonDF_new[ftr1+\"*\"+ftr2] = bostonDF_new[ftr1] * bostonDF_new[ftr2]\n",
    "        \n",
    "# setting MEDV as target\n",
    "bostonDF_new['MEDV'] = bdata.target"
   ]
  },
  {
   "cell_type": "markdown",
   "metadata": {},
   "source": [
    "### 4.2 Let's overfit!\n",
    "Now, using your version of multivariate regression from 2.3, let's overfit the training data. Using your training set, regress housing price on as many of those *K+K/2* features as you can.  If you get too greedy, it's possible this will take a long time to compute, so start with 5-10 features, and if you have the time, add more features.\n",
    "\n",
    "Report the RMSE when you apply your model to your training set and to your testing set. How do these numbers compare to each other, and to the RMSE from 3.2 and nearest neighbors?"
   ]
  },
  {
   "cell_type": "code",
   "execution_count": 121,
   "metadata": {
    "collapsed": false
   },
   "outputs": [],
   "source": [
    "#creating new input with 15 features\n",
    "x_mat = np.ones((506, 16, ))\n",
    "\n",
    "#standardizing the data\n",
    "x_mat[:,1:2] = standardize(bostonDF_new['RM']).reshape(506,1)\n",
    "x_mat[:,2:3] = standardize(bostonDF_new['CRIM']).reshape(506,1)\n",
    "x_mat[:,3:4] = standardize(bostonDF_new['DIS']).reshape(506,1)\n",
    "x_mat[:,4:5] = standardize(bostonDF_new['RAD']).reshape(506,1)\n",
    "x_mat[:,5:6] = standardize(bostonDF_new['TAX']).reshape(506,1)\n",
    "x_mat[:,6:7] = standardize(bostonDF_new['PTRATIO']).reshape(506,1)\n",
    "x_mat[:,7:8] = standardize(bostonDF_new['AGE']).reshape(506,1)\n",
    "x_mat[:,8:9] = standardize(bostonDF_new['LSTAT']).reshape(506,1)\n",
    "\n",
    "x_mat[:,9:10] = standardize(bostonDF_new['RM*LSTAT']).reshape(506,1)\n",
    "x_mat[:,10:11] = standardize(bostonDF_new['CRIM*RM']).reshape(506,1)\n",
    "x_mat[:,11:12] = standardize(bostonDF_new['CRIM*LSTAT']).reshape(506,1)\n",
    "x_mat[:,12:13] = standardize(bostonDF_new['CRIM*PTRATIO']).reshape(506,1)\n",
    "x_mat[:,13:14] = standardize(bostonDF_new['DIS*TAX']).reshape(506,1)\n",
    "x_mat[:,14:15] = standardize(bostonDF_new['AGE*DIS']).reshape(506,1)\n",
    "x_mat[:,15:16] = standardize(bostonDF_new['ZN*LSTAT']).reshape(506,1)\n",
    "\n",
    "\n",
    "y_mat = bostonDF_new['MEDV']\n",
    "\n",
    "# creating test and train sets\n",
    "X_train, X_test, y_train, y_test = train_test_split(x_mat , y_mat, test_size=0.34, random_state = 5 )"
   ]
  },
  {
   "cell_type": "code",
   "execution_count": 122,
   "metadata": {
    "collapsed": false
   },
   "outputs": [
    {
     "name": "stdout",
     "output_type": "stream",
     "text": [
      "Converged after iterations::  56266\n",
      "Time taken:  0.98  seconds\n"
     ]
    },
    {
     "data": {
      "text/plain": [
       "array([[ 22.44432146],\n",
       "       [  6.99763349],\n",
       "       [  4.49147135],\n",
       "       [ -1.70812017],\n",
       "       [  1.53113237],\n",
       "       [ -1.9664907 ],\n",
       "       [ -1.28731044],\n",
       "       [ -1.04101455],\n",
       "       [ 15.80111177],\n",
       "       [-16.90686489],\n",
       "       [ -6.26472801],\n",
       "       [ -5.24880117],\n",
       "       [  5.49683818],\n",
       "       [ -0.30529042],\n",
       "       [  0.2765893 ],\n",
       "       [  0.42280051]])"
      ]
     },
     "execution_count": 122,
     "metadata": {},
     "output_type": "execute_result"
    }
   ],
   "source": [
    "# fitting the data in new model\n",
    "bostonDF_model_MV2 = multivariate_ols(X_train, y_train, 0.01, 100000)\n",
    "\n",
    "#printing the coeffs\n",
    "bostonDF_model_MV2"
   ]
  },
  {
   "cell_type": "code",
   "execution_count": 123,
   "metadata": {
    "collapsed": true
   },
   "outputs": [],
   "source": [
    "# storing predicted values on train set into an array\n",
    "y_preds_train = []\n",
    "\n",
    "#appeding the array:\n",
    "for i in range(len(X_train)):\n",
    "    y_preds_train.append((bostonDF_model_MV2[0] \n",
    "                       + bostonDF_model_MV2[1] * X_train[i][1] \n",
    "                       + bostonDF_model_MV2[2] * X_train[i][2]\n",
    "                       + bostonDF_model_MV2[3] * X_train[i][3]\n",
    "                       + bostonDF_model_MV2[4] * X_train[i][4]\n",
    "                       + bostonDF_model_MV2[5] *X_train[i][5]\n",
    "                       + bostonDF_model_MV2[6] * X_train[i][6]\n",
    "                       + bostonDF_model_MV2[7] * X_train[i][7]\n",
    "                       + bostonDF_model_MV2[8] * X_train[i][8]\n",
    "                       + bostonDF_model_MV2[9] * X_train[i][9]\n",
    "                       + bostonDF_model_MV2[10] * X_train[i][10]\n",
    "                       + bostonDF_model_MV2[11] * X_train[i][11]\n",
    "                       + bostonDF_model_MV2[12] * X_train[i][12]\n",
    "                       + bostonDF_model_MV2[13] * X_train[i][13]\n",
    "                       + bostonDF_model_MV2[14] * X_train[i][14]\n",
    "                       + bostonDF_model_MV2[15] * X_train[i][15])[0])\n",
    "\n",
    "# storing predicted values on test set into an array   \n",
    "y_preds_test = []\n",
    "\n",
    "#appending the array\n",
    "for i in range(len(X_test)):\n",
    "    y_preds_test.append((bostonDF_model_MV2[0] \n",
    "                       + bostonDF_model_MV2[1] * X_test[i][1] \n",
    "                       + bostonDF_model_MV2[2] * X_test[i][2]\n",
    "                       + bostonDF_model_MV2[3] * X_test[i][3]\n",
    "                       + bostonDF_model_MV2[4] * X_test[i][4]\n",
    "                       + bostonDF_model_MV2[5] * X_test[i][5]\n",
    "                       + bostonDF_model_MV2[6 ] * X_test[i][6]\n",
    "                       + bostonDF_model_MV2[7] * X_test[i][7]\n",
    "                       + bostonDF_model_MV2[8] * X_test[i][8]\n",
    "                       + bostonDF_model_MV2[9] * X_test[i][9]\n",
    "                       + bostonDF_model_MV2[10] *X_test[i][10]\n",
    "                       + bostonDF_model_MV2[11] * X_test[i][11]\n",
    "                       + bostonDF_model_MV2[12] * X_test[i][12]\n",
    "                       + bostonDF_model_MV2[13] * X_test[i][13]\n",
    "                       + bostonDF_model_MV2[14] * X_test[i][14]\n",
    "                       + bostonDF_model_MV2[15] * X_test[i][15])[0])"
   ]
  },
  {
   "cell_type": "code",
   "execution_count": 124,
   "metadata": {
    "collapsed": false
   },
   "outputs": [
    {
     "data": {
      "text/plain": [
       "3.7636932206980815"
      ]
     },
     "execution_count": 124,
     "metadata": {},
     "output_type": "execute_result"
    }
   ],
   "source": [
    "compute_rmse(y_preds_train, y_train)"
   ]
  },
  {
   "cell_type": "code",
   "execution_count": 125,
   "metadata": {
    "collapsed": false
   },
   "outputs": [
    {
     "data": {
      "text/plain": [
       "4.9985235118860523"
      ]
     },
     "execution_count": 125,
     "metadata": {},
     "output_type": "execute_result"
    }
   ],
   "source": [
    "compute_rmse ( y_preds_test, y_test )"
   ]
  },
  {
   "cell_type": "markdown",
   "metadata": {},
   "source": [
    "#### Analysis:\n",
    "\n",
    "1. Models usually perform better on training set than on test. This is true here as RMSE value for test is higher."
   ]
  },
  {
   "cell_type": "markdown",
   "metadata": {},
   "source": [
    "*Discuss your results here*"
   ]
  },
  {
   "cell_type": "markdown",
   "metadata": {},
   "source": [
    "### 4.3 Ridge regularization\n",
    "Incorporate L2 (Ridge) regularization into your multivariate_ols regression. Write a new version of your gradient descent algorithm that includes a regularization term \"lambda\" to penalize excessive complexity. \n",
    "\n",
    "Use your regularized regression to re-fit the model from 3.2 above on your training data. Try this for several different values of lambda, and report your RMSE for each lambda separately for your training and testing data. How do these numbers compare to each other, to the RMSE from 4.2,  to the RMSE from 2.3, and to the RMSE from nearest neighbors?\n",
    "\n",
    "Go brag to your friends about how you just implemented ridge-regularized multivariate regression using gradient descent optimization, from scratch. If you still have friends."
   ]
  },
  {
   "cell_type": "code",
   "execution_count": 126,
   "metadata": {
    "collapsed": false
   },
   "outputs": [],
   "source": [
    "\"\"\"\n",
    "Function\n",
    "--------\n",
    "multivariate_ols_ridge\n",
    "    Gradient Decent to minimize OLS. Used to find co-efficients of bivariate OLS Linear regression\n",
    "\n",
    "Parameters\n",
    "----------\n",
    "xvalue_matrix, yvalues : narray\n",
    "    xvalue_matrix: independent variable\n",
    "    yvalues: dependent variable\n",
    "    \n",
    "R: float\n",
    "    Learning rate\n",
    "    \n",
    "MaxIterations: Int\n",
    "    maximum number of iterations\n",
    "    \n",
    "\n",
    "Returns\n",
    "-------\n",
    "alpha: float\n",
    "    intercept\n",
    "    \n",
    "beta_array: array[float]\n",
    "    co-efficient\n",
    "\"\"\"\n",
    "\n",
    "def multivariate_ols_ridge(xvalue_matrix, yvalues, R, L, MaxIterations):\n",
    "    start_time=time.time() #start of runtime\n",
    "    \n",
    "    xm=xvalue_matrix \n",
    "    \n",
    "    yl = len(yvalues) # length of dependant variable matrix\n",
    "    \n",
    "    eps = 0.0001 #value of epsilon\n",
    "    \n",
    "    n = len(xm.T) # taking the length of transposed matrix\n",
    "    \n",
    "    #array of coefficients\n",
    "    th0 = np.array([10]*n)\n",
    "    th0 = th0.reshape(-1,1)\n",
    "    \n",
    "    # transposing input\n",
    "    xTran = xm.transpose()\n",
    "    \n",
    "    # reshaping\n",
    "    ym = yvalues.reshape(-1,1)\n",
    "    \n",
    "     # calculating yhat\n",
    "    yhat = np.dot(xm, th0)\n",
    "    \n",
    "    # calculating the loss\n",
    "    e = yhat - ym\n",
    "    \n",
    "    # calculating the cost\n",
    "    Jc = np.sum(e**2)\n",
    "    \n",
    "    #setting the condition\n",
    "    converge = False\n",
    "    \n",
    "    #setting iteration\n",
    "    it=0\n",
    "    \n",
    "    while not converge: \n",
    "\n",
    "        # avg val of gradient\n",
    "        grad = np.dot(xTran, e) / yl\n",
    "        \n",
    "        #updating theta\n",
    "        th0 = th0 - R * (grad + (L/ yl) * th0)\n",
    "        \n",
    "        # updating hypothesis\n",
    "        yhat = np.dot(xm, th0)\n",
    "        \n",
    "        # updating loss \n",
    "        e = yhat - ym\n",
    "        \n",
    "        # updating cost\n",
    "        cost = np.sum(e**2)\n",
    "\n",
    "        if abs(Jc - cost) <= eps:\n",
    "            print ('Converged after iterations:: ', it)\n",
    "            converge = True #changing condition\n",
    "\n",
    "        else:\n",
    "            Jc = cost\n",
    "        if it == MaxIterations:\n",
    "            print ('Max iterations')\n",
    "            converge = True #changind the condition\n",
    "        it = it+1 #incrementing iteration value\n",
    "        \n",
    "    \n",
    "    #printing runtime\n",
    "    print (\"Time taken: \" , str(round(time.time() - start_time,2)) , \" seconds\")\n",
    "    return th0 #returing theta value"
   ]
  },
  {
   "cell_type": "code",
   "execution_count": 127,
   "metadata": {
    "collapsed": true
   },
   "outputs": [],
   "source": [
    "#creating new input with 15 features\n",
    "x_mat = np.ones((506, 16, ))\n",
    "\n",
    "#standardizing the data\n",
    "x_mat[:,1:2] = standardize(bostonDF_new['RM']).reshape(506,1)\n",
    "x_mat[:,2:3] = standardize(bostonDF_new['CRIM']).reshape(506,1)\n",
    "x_mat[:,3:4] = standardize(bostonDF_new['DIS']).reshape(506,1)\n",
    "x_mat[:,4:5] = standardize(bostonDF_new['RAD']).reshape(506,1)\n",
    "x_mat[:,5:6] = standardize(bostonDF_new['TAX']).reshape(506,1)\n",
    "x_mat[:,6:7] = standardize(bostonDF_new['PTRATIO']).reshape(506,1)\n",
    "\n",
    "y_mat = bostonDF_new['MEDV']\n",
    "\n",
    "# creating test and train sets\n",
    "X_train, X_test, y_train, y_test = train_test_split(x_mat , y_mat, test_size=0.34, random_state = 5 )"
   ]
  },
  {
   "cell_type": "code",
   "execution_count": 128,
   "metadata": {
    "collapsed": true
   },
   "outputs": [],
   "source": [
    "L = [0.001,0.005,0.1,0.5,0.7,1,3,5,7,10,13,15,20]"
   ]
  },
  {
   "cell_type": "code",
   "execution_count": 129,
   "metadata": {
    "collapsed": false
   },
   "outputs": [
    {
     "name": "stdout",
     "output_type": "stream",
     "text": [
      "Converged after iterations::  6656\n",
      "Time taken:  0.13  seconds\n",
      "RMSE for L =  0.001\n",
      "21.653358177\n",
      "\n",
      "\n",
      "Converged after iterations::  6662\n",
      "Time taken:  0.14  seconds\n",
      "RMSE for L =  0.005\n",
      "21.6533462291\n",
      "\n",
      "\n",
      "Converged after iterations::  6824\n",
      "Time taken:  0.12  seconds\n",
      "RMSE for L =  0.1\n",
      "21.6530735711\n",
      "\n",
      "\n",
      "Converged after iterations::  7422\n",
      "Time taken:  0.12  seconds\n",
      "RMSE for L =  0.5\n",
      "21.6516752168\n",
      "\n",
      "\n",
      "Converged after iterations::  7654\n",
      "Time taken:  0.13  seconds\n",
      "RMSE for L =  0.7\n",
      "21.6508780255\n",
      "\n",
      "\n",
      "Converged after iterations::  7924\n",
      "Time taken:  0.13  seconds\n",
      "RMSE for L =  1\n",
      "21.6496308458\n",
      "\n",
      "\n",
      "Converged after iterations::  8535\n",
      "Time taken:  0.15  seconds\n",
      "RMSE for L =  3\n",
      "21.6415547904\n",
      "\n",
      "\n",
      "Converged after iterations::  8459\n",
      "Time taken:  0.14  seconds\n",
      "RMSE for L =  5\n",
      "21.634710844\n",
      "\n",
      "\n",
      "Converged after iterations::  8210\n",
      "Time taken:  0.14  seconds\n",
      "RMSE for L =  7\n",
      "21.628983247\n",
      "\n",
      "\n",
      "Converged after iterations::  7752\n",
      "Time taken:  0.13  seconds\n",
      "RMSE for L =  10\n",
      "21.6220203614\n",
      "\n",
      "\n",
      "Converged after iterations::  7290\n",
      "Time taken:  0.16  seconds\n",
      "RMSE for L =  13\n",
      "21.616539853\n",
      "\n",
      "\n",
      "Converged after iterations::  6999\n",
      "Time taken:  0.15  seconds\n",
      "RMSE for L =  15\n",
      "21.6135222883\n",
      "\n",
      "\n",
      "Converged after iterations::  6343\n",
      "Time taken:  0.11  seconds\n",
      "RMSE for L =  20\n",
      "21.6076580928\n",
      "\n",
      "\n"
     ]
    }
   ],
   "source": [
    "for l in L:\n",
    "    bostonDF_model_MV2 = multivariate_ols_ridge(X_train, y_train, 0.01, l, 10000)\n",
    "\n",
    "    y_preds = [] #creating array to store prediction values\n",
    "    \n",
    "    #appending the array\n",
    "    for j in range(len(X_test)):\n",
    "        y_preds.append((bostonDF_model_MV2[0] \n",
    "                       + bostonDF_model_MV2[1] * X_test[j][1] \n",
    "                       + bostonDF_model_MV2[2] * X_test[j][2]\n",
    "                       + bostonDF_model_MV2[3] * X_test[j][3]\n",
    "                       + bostonDF_model_MV2[4] * X_test[j][4]\n",
    "                       + bostonDF_model_MV2[5] * X_test[j][5]\n",
    "                       + bostonDF_model_MV2[6] * X_test[j][6])[0])\n",
    "    \n",
    "    y_act = [] #array of actual vals\n",
    "    \n",
    "    \n",
    "    #appending the array\n",
    "    for k in y_test.index:\n",
    "        y_act.append(y_test[k])\n",
    "    \n",
    "    print (\"RMSE for L = \", l )\n",
    "    print (compute_rmse(y_preds, y_act))\n",
    "    print (\"\\n\")"
   ]
  },
  {
   "cell_type": "markdown",
   "metadata": {},
   "source": [
    "#### Analysis:\n",
    "1. The RMSE values decrease as L increases.\n",
    "2. These values are considerably high than the previosuly computed values."
   ]
  },
  {
   "cell_type": "markdown",
   "metadata": {},
   "source": [
    "### Extra Credit 2: Cross-validate lambda\n",
    "\n",
    "Use k-fold cross-validation to select the optimal value of lambda. Report the average RMSE across all training sets, and the average RMSE across all testing sets. How do these numbers compare to each other, to the RMSE from your previous efforts?  Finally, create a scatter plot that shows RMSE as a function of lambda."
   ]
  },
  {
   "cell_type": "code",
   "execution_count": null,
   "metadata": {
    "collapsed": false
   },
   "outputs": [],
   "source": []
  },
  {
   "cell_type": "code",
   "execution_count": null,
   "metadata": {
    "collapsed": false
   },
   "outputs": [],
   "source": []
  },
  {
   "cell_type": "markdown",
   "metadata": {},
   "source": [
    "*Discuss your results here*"
   ]
  },
  {
   "cell_type": "markdown",
   "metadata": {},
   "source": [
    "### (Showoff) Extra Credit 3: Lambda and coefficients\n",
    "\n",
    "If you're feeling extra-special, create a parameter plot that shows how the different coefficient estimates change as a function of lambda. To make this graph intelligible, only include the *K* original F_s features in this plot"
   ]
  },
  {
   "cell_type": "code",
   "execution_count": 130,
   "metadata": {
    "collapsed": false
   },
   "outputs": [],
   "source": [
    "# Your code here"
   ]
  },
  {
   "cell_type": "markdown",
   "metadata": {},
   "source": [
    "*Discuss your results here*"
   ]
  }
 ],
 "metadata": {
  "anaconda-cloud": {},
  "kernelspec": {
   "display_name": "Python [conda root]",
   "language": "python",
   "name": "conda-root-py"
  },
  "language_info": {
   "codemirror_mode": {
    "name": "ipython",
    "version": 3
   },
   "file_extension": ".py",
   "mimetype": "text/x-python",
   "name": "python",
   "nbconvert_exporter": "python",
   "pygments_lexer": "ipython3",
   "version": "3.5.2"
  }
 },
 "nbformat": 4,
 "nbformat_minor": 0
}
