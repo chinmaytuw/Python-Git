{
 "cells": [
  {
   "cell_type": "markdown",
   "metadata": {},
   "source": [
    "# Problem Set 3, due February 10 at 11:59am (i.e., noon).\n",
    "\n",
    "###Before You Start\n",
    "\n",
    "Make sure the following libraries load correctly (hit Ctrl-Enter). Note that while you are loading several powerful libraries, including machine learning libraries, the goal of this problem set is to implement several algorithms from scratch. In particular, you should *not* be using any built-in libraries for nearest neighbors, distance metrics, or cross-validation -- your mission is to write those algorithms in Python! Parts 1 and 2 will be relatively easy; Part 3 will take more time.\n",
    "\n",
    "*Also note:* For this assignment we are requiring you to use base **matplotlib** - no more Seaborn or other packages. This will help you become familiar with techniques for maintaining fine-grained control over your data visualizations. It will also help our graders, who spent countless hours trying to make various versions import for grading."
   ]
  },
  {
   "cell_type": "code",
   "execution_count": 272,
   "metadata": {
    "collapsed": false
   },
   "outputs": [],
   "source": [
    "import IPython\n",
    "import numpy as np\n",
    "import scipy as sp\n",
    "import pandas as pd\n",
    "from pandas import Series,DataFrame\n",
    "import matplotlib\n",
    "import sklearn\n",
    "import matplotlib.pyplot as plt\n",
    "%matplotlib inline"
   ]
  },
  {
   "cell_type": "markdown",
   "metadata": {},
   "source": [
    "---\n",
    "\n",
    "## Introduction to the assignment\n",
    "\n",
    "For this assignment, you will be using the [Boston Housing Prices Data Set](http://archive.ics.uci.edu/ml/datasets/Housing).  Please read about the dataset carefully before continuing.  Use the following commands to load the dataset:\n"
   ]
  },
  {
   "cell_type": "code",
   "execution_count": 273,
   "metadata": {
    "collapsed": false
   },
   "outputs": [],
   "source": [
    "from sklearn.datasets import load_boston\n",
    "bdata = load_boston()"
   ]
  },
  {
   "cell_type": "markdown",
   "metadata": {},
   "source": [
    "The following commands will provide some basic information about the shape of the data:"
   ]
  },
  {
   "cell_type": "code",
   "execution_count": 274,
   "metadata": {
    "collapsed": false
   },
   "outputs": [
    {
     "name": "stdout",
     "output_type": "stream",
     "text": [
      "dict_keys(['target', 'DESCR', 'feature_names', 'data'])\n",
      "['CRIM' 'ZN' 'INDUS' 'CHAS' 'NOX' 'RM' 'AGE' 'DIS' 'RAD' 'TAX' 'PTRATIO'\n",
      " 'B' 'LSTAT']\n",
      "(506, 13)\n",
      "(506,)\n"
     ]
    }
   ],
   "source": [
    "print (bdata.keys())\n",
    "print (bdata.feature_names)\n",
    "print (bdata.data.shape)\n",
    "print (bdata.target.shape)\n",
    "# uncomment the following if you want to see a lengthy description of the dataset\n",
    "# print (bdata.DESCR)"
   ]
  },
  {
   "cell_type": "code",
   "execution_count": 275,
   "metadata": {
    "collapsed": false
   },
   "outputs": [],
   "source": [
    "# Creating pandas data Frame\n",
    "BostonDF = DataFrame(bdata.data)\n",
    "\n",
    "# Creating column names\n",
    "BostonDF.columns = bdata.feature_names\n",
    "\n",
    "# The target column will be price \n",
    "BostonDF['MEDV'] = bdata.target"
   ]
  },
  {
   "cell_type": "markdown",
   "metadata": {},
   "source": [
    "---\n",
    "\n",
    "##Part 1: Descriptive analysis\n",
    "\n",
    "Before beginning the \"real\" work, dig into the data a bit do see what you're dealing with.  If you're new to analyzing data in Python, please make sure to read the relevant readings linked to on Canvas before beginning (for instance, [this one](https://github.com/jrjohansson/scientific-python-lectures)).\n",
    "\n",
    "###1.1: Histogram of housing prices\n",
    "\n",
    "Below you will find some very basic code to make a very basic histogram of median housing prices (the \"target\" variable) for your dataset.  Your first task is to make this graph look pretty by doing the following:\n",
    "\n",
    "1. Add appropriate labels to the x and y axes, make sure to include units\n",
    "2. Change the bin width on the histogram to be $1000\n",
    "3. Remove the axes on the top and right side of the plot window\n",
    "4. Change the color of the bars to be green, and remove the black borders from the bars\n"
   ]
  },
  {
   "cell_type": "code",
   "execution_count": 276,
   "metadata": {
    "collapsed": false
   },
   "outputs": [
    {
     "data": {
      "text/plain": [
       "<matplotlib.text.Text at 0x1eb7925e828>"
      ]
     },
     "execution_count": 276,
     "metadata": {},
     "output_type": "execute_result"
    },
    {
     "data": {
      "image/png": "[encoded data removed]",
      "text/plain": [
       "<matplotlib.figure.Figure at 0x1eb791d4080>"
      ]
     },
     "metadata": {},
     "output_type": "display_data"
    }
   ],
   "source": [
    "#Creating figure and setting axes\n",
    "fig = plt.figure()\n",
    "axes = fig.add_axes([0.1, 0.1, 0.8, 0.8])\n",
    "\n",
    "#Creating histogram\n",
    "axes.hist(BostonDF['MEDV'],bins=40,color='green',edgecolor='none',alpha=0.7)\n",
    "\n",
    "#Removing top and right axes\n",
    "axes.spines['top'].set_visible(False)\n",
    "axes.spines['right'].set_visible(False)\n",
    "axes.get_xaxis().tick_bottom()\n",
    "axes.get_yaxis().tick_left()\n",
    "\n",
    "#adding label\n",
    "axes.set_xlabel('Prices in 1000$')\n",
    "axes.set_ylabel('Number of houses')\n",
    "axes.set_title('Histogram- Median Housing Prices in Boston')"
   ]
  },
  {
   "cell_type": "markdown",
   "metadata": {},
   "source": [
    "###1.2: Scatter plot of housing prices and crime\n",
    "\n",
    "Use matplotlib to create a scatter plot that shows the relationship between the median value of the home (y-axis) and the per-capita crime rate (x-axis).  Properly label your axes, and make sure that your graphic looks polished and professional.\n"
   ]
  },
  {
   "cell_type": "code",
   "execution_count": 277,
   "metadata": {
    "collapsed": false
   },
   "outputs": [
    {
     "data": {
      "text/plain": [
       "<matplotlib.text.Text at 0x1eb795f9048>"
      ]
     },
     "execution_count": 277,
     "metadata": {},
     "output_type": "execute_result"
    },
    {
     "data": {
      "image/png": "[encoded data removed]",
      "text/plain": [
       "<matplotlib.figure.Figure at 0x1eb78f7eef0>"
      ]
     },
     "metadata": {},
     "output_type": "display_data"
    }
   ],
   "source": [
    "#Creating figure and setting axes\n",
    "fig = plt.figure()\n",
    "axes = fig.add_axes([0.1, 0.1, 0.8, 0.8])\n",
    "\n",
    "axes.scatter(BostonDF['CRIM'],BostonDF['MEDV'],alpha=0.4)\n",
    "\n",
    "#Removing top and right axes\n",
    "axes.spines['top'].set_visible(False)\n",
    "axes.spines['right'].set_visible(False)\n",
    "axes.get_xaxis().tick_bottom()\n",
    "axes.get_yaxis().tick_left()\n",
    "\n",
    "#adding label\n",
    "axes.set_xlabel('Crime rate')\n",
    "axes.set_ylabel('Median House Value')\n",
    "axes.set_title('Scatterplot- Median Housing Value VS Crime Rate in Boston')"
   ]
  },
  {
   "cell_type": "markdown",
   "metadata": {},
   "source": [
    "---\n",
    "\n",
    "##Part 2: Experimental Setup\n",
    "\n",
    "The goal of the next few sections is to design an experiment to predict the median home value for an instance in the data.\n",
    "\n",
    "###2.1 Begin by writing a function to compute the Root Mean Squared Error for a list of numbers\n",
    "\n",
    "You can find the sqrt function in the Numpy package. Furthermore the details of RMSE can be found on [Wikipedia](http://en.wikipedia.org/wiki/Root-mean-square_deviation)\n",
    "\n"
   ]
  },
  {
   "cell_type": "code",
   "execution_count": 278,
   "metadata": {
    "collapsed": false
   },
   "outputs": [],
   "source": [
    "\"\"\"\n",
    "Function\n",
    "--------\n",
    "compute_rmse\n",
    "\n",
    "Given two arrays, one of actual values and one of predicted values,\n",
    "compute the Roote Mean Squared Error\n",
    "\n",
    "Parameters\n",
    "----------\n",
    "predictions : array\n",
    "    Array of numerical values corresponding to predictions for each of the N observations\n",
    "\n",
    "yvalues : array\n",
    "    Array of numerical values corresponding to the actual values for each of the N observations\n",
    "\n",
    "Returns\n",
    "-------\n",
    "rmse : int\n",
    "    Root Mean Squared Error of the prediction\n",
    "\n",
    "Example\n",
    "-------\n",
    ">>> print compute_rmse((2,2,3),(0,2,6)\n",
    "2.16\n",
    "\"\"\"\n",
    "def compute_rmse(predictions, yvalues):\n",
    "    if len(np.array(predictions)) == len(np.array(yvalues)):\n",
    "        rmse = np.sqrt(np.mean((np.array(predictions) - np.array(yvalues))**2))\n",
    "    else:\n",
    "        print(\"unequal arrays\")\n",
    "        return -1\n",
    "    return rmse"
   ]
  },
  {
   "cell_type": "markdown",
   "metadata": {},
   "source": [
    "###2.2 Divide your data into training and testing datasets\n",
    "\n",
    "Randomly select 66% of the data and put this in a training dataset (call this \"bdata_train\"), and place the remaining 34% in a testing dataset (call this \"bdata_test\")\n"
   ]
  },
  {
   "cell_type": "code",
   "execution_count": 279,
   "metadata": {
    "collapsed": false
   },
   "outputs": [],
   "source": [
    "# leave the following line untouched, it will help ensure that your \"random\" split is the same \"random\" split used by the rest of the class\n",
    "np.random.seed(seed=13579)\n",
    "\n",
    "#dividing into test and train\n",
    "bdata_train = BostonDF.sample(frac=0.66)\n",
    "bdata_test = BostonDF.loc[~BostonDF.index.isin(bdata_train.index)]\n",
    "\n",
    "# We need to reset the indexes of the training and test sets\n",
    "bdata_test.index = range(0,len(bdata_test))\n",
    "bdata_train.index = range(0,len(bdata_train))"
   ]
  },
  {
   "cell_type": "markdown",
   "metadata": {},
   "source": [
    "###2.3 Use a very bad baseline for prediction, and compute RMSE\n",
    "\n",
    "Create a model that predicts, for every observation x_i, that the median home value is the average (mean) of the median values for all instances in the training set.  Compute the RMSE on the training set.  Now compute the RMSE on the test data set (but use the model you trained on the training set!).  How does RMSE compare for training vs. testing datasets? Is this what you expected, and why?"
   ]
  },
  {
   "cell_type": "code",
   "execution_count": 280,
   "metadata": {
    "collapsed": false
   },
   "outputs": [],
   "source": [
    "def badModel(df):\n",
    "    badModelDf=[]\n",
    "    for i in range(0,len(df)):\n",
    "        badModelDf.append(df[\"MEDV\"].mean())\n",
    "    \n",
    "    return badModelDf"
   ]
  },
  {
   "cell_type": "code",
   "execution_count": 281,
   "metadata": {
    "collapsed": false
   },
   "outputs": [
    {
     "name": "stdout",
     "output_type": "stream",
     "text": [
      "Train MSE:: 8.85972596946\n"
     ]
    }
   ],
   "source": [
    "print('Train MSE::',compute_rmse(badModel(bdata_train),bdata_train.MEDV))"
   ]
  },
  {
   "cell_type": "markdown",
   "metadata": {},
   "source": [
    "*Enter your observations here*"
   ]
  },
  {
   "cell_type": "code",
   "execution_count": 282,
   "metadata": {
    "collapsed": false
   },
   "outputs": [
    {
     "name": "stdout",
     "output_type": "stream",
     "text": [
      "Test MSE:: 9.78274166815\n"
     ]
    }
   ],
   "source": [
    "print('Test MSE::',compute_rmse(badModel(bdata_test),bdata_test.MEDV))"
   ]
  },
  {
   "cell_type": "markdown",
   "metadata": {},
   "source": [
    "#### Analysis:\n",
    "\n",
    "1. The RMSE for training set is slightly lower than that of RMSE for test set.\n",
    "2. I expected the values to have some difference because this seems fairly logical. The test and training sets are\n",
    "    randomly selected and will have different values of MEDV in them. so the RMSE is bound to have some difference."
   ]
  },
  {
   "cell_type": "markdown",
   "metadata": {},
   "source": [
    "---\n",
    "\n",
    "##Part 3: Nearest Neighbors\n"
   ]
  },
  {
   "cell_type": "markdown",
   "metadata": {},
   "source": [
    "###3.1 Nearest Neighbors: Distance function\n",
    "Let's try and build a machine learning algorithm to beat the \"Average Value\" baseline that you computed above.  Soon you will implement the Nearest Neighbor algorithm, but first you need to create a distance metric to measure the distance (and similarity) between two instances.  Write a generic function to compute the L-Norm distance (called the [*p*-norm](http://en.wikipedia.org/wiki/Norm_(mathematics) distance on Wikipedia). Verify that your function works by computing the Euclidean distance between the points (3,4) and (6,8)."
   ]
  },
  {
   "cell_type": "code",
   "execution_count": 283,
   "metadata": {
    "collapsed": false
   },
   "outputs": [],
   "source": [
    "\"\"\"\n",
    "Function\n",
    "--------\n",
    "distance\n",
    "\n",
    "Given two instances and a value for L, return the L-Norm distance between them\n",
    "\n",
    "Parameters\n",
    "--------\n",
    "x1, x2 : array\n",
    "    Array of numerical values corresponding to predictions for each of the N observations\n",
    "\n",
    "L: int\n",
    "    Value of L for computing distances\n",
    "\n",
    "Returns\n",
    "------\n",
    "dist : int\n",
    "    The L-norm distance between instances\n",
    "\n",
    "Example\n",
    "------\n",
    ">>> print distance((3,4),(6,8),2)\n",
    "7\n",
    "\n",
    "\"\"\"\n",
    "def distance(x1, x2, L):\n",
    "    # We will have to convert the 'tuples' to arrays and then calculate the values off it\n",
    "    dist = abs(np.sum((np.array(x1)-np.array(x2))**L))**(1/L)\n",
    "    \n",
    "    return dist"
   ]
  },
  {
   "cell_type": "markdown",
   "metadata": {},
   "source": [
    "###3.2 Basic Nearest Neighbor algorithm\n",
    "\n",
    "Now things get fun.  Your task is to implement a basic nearest neighbor algorithm from scratch.  Your simple model will use two input features (CRIM and RM) and a single output (MEDV).  In other words, you are modelling the relationship between median home value and crime rates and house size.\n",
    "\n",
    "Use your training data (bdata_train) to \"fit\" your model, although as you know, with Nearest Neighbors there is no real training, you just need to keep your training data in memory.  Write a function that predicts, for each instance in the testing data (bdata_test), the median home value using the nearest neighbor algorithm we discussed in class.  Since this is a small dataset, you can simply compare your test instance to every instance in the training set, and return the MEDV value of the closest training instance.  Have your function take L as an input, where L is passed to the distance function.\n",
    "\n",
    "Compute the RMSE for the Nearest Neighbor predictions on the test set, using the Euclidean distance.  Report an estimate of the total time taken by your code to predict the nearest neighbors for all the values in the test data set."
   ]
  },
  {
   "cell_type": "code",
   "execution_count": 284,
   "metadata": {
    "collapsed": false
   },
   "outputs": [],
   "source": [
    "\"\"\"\n",
    "Function\n",
    "------\n",
    "nneighbor\n",
    "\n",
    "Given test instance, training set, L ; will return nearest neighbour.\n",
    "\n",
    "Parameters\n",
    "-------\n",
    "L: int\n",
    "    Value of L to use in computing distances\n",
    "\n",
    "KtrainSet,KtestInst : dataframes\n",
    "    2 data frames for test_data,training data\n",
    "    \n",
    "Returns\n",
    "------\n",
    "KtrainSet['MEDV'][id] : int\n",
    "    Value of nearest MEDV in the KtrainSet\n",
    "\n",
    "\n",
    "\"\"\"\n",
    "import time\n",
    "def nneighbor(KtestInst, KtrainSet, L):\n",
    "    dis = [] # this empty array will store the distances\n",
    "    for i in range(0, len(KtrainSet)):\n",
    "        dis.append(distance((KtestInst[\"RM\"], KtestInst[\"CRIM\"]),\n",
    "                 (KtrainSet[\"RM\"][i], KtrainSet[\"CRIM\"][i]),\n",
    "                 L))\n",
    "        \n",
    "    minDist = min(dis) #least distance\n",
    "    id = dis.index(minDist) #least distance index\n",
    "\n",
    "    return KtrainSet['MEDV'][id] #return the nearest MEDV value from the training set"
   ]
  },
  {
   "cell_type": "code",
   "execution_count": 285,
   "metadata": {
    "collapsed": false
   },
   "outputs": [
    {
     "name": "stdout",
     "output_type": "stream",
     "text": [
      "RMSE value:: 7.24243791666\n",
      "Time taken:  4.63 seconds\n"
     ]
    }
   ],
   "source": [
    "start_time = time.time()\n",
    "\n",
    "Preds = []\n",
    "for i in range(len(bdata_test)):\n",
    "    Preds.append(nneighbor(bdata_test.loc[i],bdata_train,2))\n",
    "    \n",
    "print (\"RMSE value::\",compute_rmse(Preds,bdata_test[\"MEDV\"]))\n",
    "print (\"Time taken: \" , str(round(time.time() - start_time,2)) , \"seconds\")"
   ]
  },
  {
   "cell_type": "markdown",
   "metadata": {},
   "source": [
    "###3.3 Results and Normalization\n",
    "\n",
    "If you were being astute, you would have noticed that we never normalized our features -- a big no-no with Nearest Neighbor algorithms.  Write a generic normalization function that takes as input an array of values for a given feature, and returns the normalized array (subtract the mean and divide by the standard deviation).\n",
    "\n",
    "Re-run the Nearest Neighbor algorithm on the normalized dataset (still just using CRIM and RM as input), and compare the RMSE from this method with your previous RMSE evaluations.\n",
    "\n",
    "*NOTE*: To normalize properly, best practice is to compute the mean and standard deviation on the training set, and use these values to normalize the testing dataset. However, for this problem set, it is okay if you separately normalize each dataset using the respective mean and standard deviation."
   ]
  },
  {
   "cell_type": "code",
   "execution_count": 286,
   "metadata": {
    "collapsed": false
   },
   "outputs": [],
   "source": [
    "\"\"\"\n",
    "Function\n",
    "------\n",
    "normalize\n",
    "\n",
    "Given an array da, return the normalized array da\n",
    "\n",
    "Parameters\n",
    "---------\n",
    "da: array\n",
    "    array of numbers\n",
    "\n",
    "Return\n",
    "-------\n",
    "da: array\n",
    "    Normalized array\n",
    "\n",
    "\"\"\"\n",
    "def normalize(da):\n",
    "    # convert the data to array\n",
    "    da=np.array(da) \n",
    "    for i in range(len(da)):\n",
    "        da[i]=(da[i]-da.mean())/(np.std(da)) # normalzing such that length/norm of the resulting vector is 1 \n",
    "    return da"
   ]
  },
  {
   "cell_type": "code",
   "execution_count": 287,
   "metadata": {
    "collapsed": false
   },
   "outputs": [
    {
     "name": "stderr",
     "output_type": "stream",
     "text": [
      "C:\\Program Files\\Anaconda3\\lib\\site-packages\\pandas\\core\\generic.py:2701: SettingWithCopyWarning: \n",
      "A value is trying to be set on a copy of a slice from a DataFrame.\n",
      "Try using .loc[row_indexer,col_indexer] = value instead\n",
      "\n",
      "See the caveats in the documentation: http://pandas.pydata.org/pandas-docs/stable/indexing.html#indexing-view-versus-copy\n",
      "  self[name] = value\n"
     ]
    }
   ],
   "source": [
    "# Calling the nomrlization function on each feature of dataset\n",
    "bdata_test.RM = normalize(bdata_test.RM)\n",
    "bdata_train.RM = normalize(bdata_train.RM)\n",
    "\n",
    "bdata_test.CRIM = normalize(bdata_test.CRIM)\n",
    "bdata_train.CRIM = normalize(bdata_train.CRIM)"
   ]
  },
  {
   "cell_type": "code",
   "execution_count": 288,
   "metadata": {
    "collapsed": false
   },
   "outputs": [
    {
     "name": "stdout",
     "output_type": "stream",
     "text": [
      "RMSE value:: 11.0350920166\n",
      "Time taken:  4.64 secs\n"
     ]
    }
   ],
   "source": [
    "start_time = time.time()\n",
    "\n",
    "Preds = []\n",
    "for i in range(len(bdata_test)):\n",
    "    Preds.append(nneighbor(bdata_test.loc[i],bdata_train,2))\n",
    "    \n",
    "print (\"RMSE value::\",compute_rmse(Preds,bdata_test[\"MEDV\"]))\n",
    "print (\"Time taken: \" , str(round(time.time() - start_time,2)) , \"secs\")"
   ]
  },
  {
   "cell_type": "code",
   "execution_count": 289,
   "metadata": {
    "collapsed": false
   },
   "outputs": [],
   "source": [
    "# bdata_test.RM.head(15)"
   ]
  },
  {
   "cell_type": "markdown",
   "metadata": {},
   "source": [
    "#### Analysis:\n",
    "1. The RMSE value after normalization has increased."
   ]
  },
  {
   "cell_type": "markdown",
   "metadata": {},
   "source": [
    "###3.4 Optimization\n",
    "\n",
    "A lot of the decisions we've made so far have been arbitrary.  Try to increase the performance of your nearest neighbor algorithm by adding features that you think might be relevant, and by using different values of L in the distance function.  Try a model that uses a different set of 2 features, then try at least one model that uses more than 4 features, then try using a different value of L.  If you're having fun, try a few different combinations of features and L!\n",
    "\n",
    "What combination of features and distance function provide the lowest RMSE?  Do your decisions affect the running time of the algorithm?"
   ]
  },
  {
   "cell_type": "markdown",
   "metadata": {},
   "source": [
    "### With 2 features:"
   ]
  },
  {
   "cell_type": "code",
   "execution_count": 290,
   "metadata": {
    "collapsed": false
   },
   "outputs": [
    {
     "name": "stderr",
     "output_type": "stream",
     "text": [
      "C:\\Program Files\\Anaconda3\\lib\\site-packages\\pandas\\core\\generic.py:2701: SettingWithCopyWarning: \n",
      "A value is trying to be set on a copy of a slice from a DataFrame.\n",
      "Try using .loc[row_indexer,col_indexer] = value instead\n",
      "\n",
      "See the caveats in the documentation: http://pandas.pydata.org/pandas-docs/stable/indexing.html#indexing-view-versus-copy\n",
      "  self[name] = value\n"
     ]
    }
   ],
   "source": [
    "# Calling the normalization function on PTRATIO, NOX\n",
    "bdata_test.PTRATIO = normalize(bdata_test.PTRATIO)\n",
    "bdata_train.PTRATIO = normalize(bdata_train.PTRATIO)\n",
    "\n",
    "bdata_test.NOX = normalize(bdata_test.NOX)\n",
    "bdata_train.NOX = normalize(bdata_train.NOX)"
   ]
  },
  {
   "cell_type": "code",
   "execution_count": 291,
   "metadata": {
    "collapsed": true
   },
   "outputs": [],
   "source": [
    "\"\"\"\n",
    "Function\n",
    "------\n",
    "nneighborPN\n",
    "\n",
    "Given test instance, training set, L ; will return nearest neighbour.\n",
    "\n",
    "Parameters\n",
    "-------\n",
    "L: int\n",
    "    Value of L to use in computing distances\n",
    "\n",
    "KtrainSet,KtestInst : dataframes\n",
    "    2 data frames for test_data,training data\n",
    "    \n",
    "Returns\n",
    "------\n",
    "KtrainSet['MEDV'][id] : int\n",
    "    Value of nearest MEDV in the KtrainSet\n",
    "\n",
    "Example\n",
    "-------\n",
    "\"\"\"\n",
    "import time\n",
    "def nneighborPN(KtestInst, KtrainSet, L):\n",
    "    dis = [] # this empty array will store the distances\n",
    "    for i in range(0, len(KtrainSet)):\n",
    "        dis.append(distance((KtestInst[\"PTRATIO\"], KtestInst[\"NOX\"]),\n",
    "                 (KtrainSet[\"PTRATIO\"][i], KtrainSet[\"NOX\"][i]),\n",
    "                 L))\n",
    "        \n",
    "    minDist = min(dis) #least distance\n",
    "    id = dis.index(minDist) #least distance index\n",
    "\n",
    "    return KtrainSet['MEDV'][id] #return the nearest MEDV value from the training set"
   ]
  },
  {
   "cell_type": "code",
   "execution_count": 292,
   "metadata": {
    "collapsed": false
   },
   "outputs": [
    {
     "name": "stdout",
     "output_type": "stream",
     "text": [
      "RMSE value for PTRAIO and NOX with L as 2:: 10.8680270347\n",
      "Time taken:  4.57 secs\n"
     ]
    }
   ],
   "source": [
    "start_time = time.time()\n",
    "\n",
    "Preds = []\n",
    "for i in range(len(bdata_test)):\n",
    "    Preds.append(nneighborPN(bdata_test.loc[i],bdata_train,2))\n",
    "    \n",
    "print (\"RMSE value for PTRAIO and NOX with L as 2::\",compute_rmse(Preds,bdata_test[\"MEDV\"]))\n",
    "print (\"Time taken: \" , str(round(time.time() - start_time,2)) , \"secs\")"
   ]
  },
  {
   "cell_type": "code",
   "execution_count": 293,
   "metadata": {
    "collapsed": false
   },
   "outputs": [
    {
     "name": "stdout",
     "output_type": "stream",
     "text": [
      "RMSE value for PTRAIO and NOX with L as 3:: 10.8379715771\n",
      "Time taken:  4.78 secs\n"
     ]
    }
   ],
   "source": [
    "start_time = time.time()\n",
    "\n",
    "Preds = []\n",
    "for i in range(len(bdata_test)):\n",
    "    Preds.append(nneighborPN(bdata_test.loc[i],bdata_train,3))\n",
    "    \n",
    "print (\"RMSE value for PTRAIO and NOX with L as 3::\",compute_rmse(Preds,bdata_test[\"MEDV\"]))\n",
    "print (\"Time taken: \" , str(round(time.time() - start_time,2)) , \"secs\")"
   ]
  },
  {
   "cell_type": "code",
   "execution_count": 294,
   "metadata": {
    "collapsed": false
   },
   "outputs": [
    {
     "name": "stdout",
     "output_type": "stream",
     "text": [
      "RMSE value for PTRAIO and NOX with L as 4:: 10.439977947\n",
      "Time taken:  4.89 secs\n"
     ]
    }
   ],
   "source": [
    "start_time = time.time()\n",
    "\n",
    "Preds = []\n",
    "for i in range(len(bdata_test)):\n",
    "    Preds.append(nneighborPN(bdata_test.loc[i],bdata_train,4))\n",
    "    \n",
    "print (\"RMSE value for PTRAIO and NOX with L as 4::\",compute_rmse(Preds,bdata_test[\"MEDV\"]))\n",
    "print (\"Time taken: \" , str(round(time.time() - start_time,2)) , \"secs\")"
   ]
  },
  {
   "cell_type": "code",
   "execution_count": 295,
   "metadata": {
    "collapsed": false
   },
   "outputs": [
    {
     "name": "stdout",
     "output_type": "stream",
     "text": [
      "RMSE value for PTRAIO and RM with L as 5:: 10.7986379417\n",
      "Time taken:  4.88 secs\n"
     ]
    }
   ],
   "source": [
    "start_time = time.time()\n",
    "\n",
    "Preds = []\n",
    "for i in range(len(bdata_test)):\n",
    "    Preds.append(nneighborPN(bdata_test.loc[i],bdata_train,5))\n",
    "    \n",
    "print (\"RMSE value for PTRAIO and RM with L as 5::\",compute_rmse(Preds,bdata_test[\"MEDV\"]))\n",
    "print (\"Time taken: \" , str(round(time.time() - start_time,2)) , \"secs\")"
   ]
  },
  {
   "cell_type": "code",
   "execution_count": 296,
   "metadata": {
    "collapsed": false,
    "scrolled": true
   },
   "outputs": [
    {
     "name": "stdout",
     "output_type": "stream",
     "text": [
      "RMSE value for PTRAIO and RM with L as 6:: 10.1638867085\n",
      "Time taken:  4.71 secs\n"
     ]
    }
   ],
   "source": [
    "start_time = time.time()\n",
    "\n",
    "Preds = []\n",
    "for i in range(len(bdata_test)):\n",
    "    Preds.append(nneighborPN(bdata_test.loc[i],bdata_train,6))\n",
    "    \n",
    "print (\"RMSE value for PTRAIO and RM with L as 6::\",compute_rmse(Preds,bdata_test[\"MEDV\"]))\n",
    "print (\"Time taken: \" , str(round(time.time() - start_time,2)) , \"secs\")"
   ]
  },
  {
   "cell_type": "markdown",
   "metadata": {},
   "source": []
  },
  {
   "cell_type": "code",
   "execution_count": null,
   "metadata": {
    "collapsed": true
   },
   "outputs": [],
   "source": []
  },
  {
   "cell_type": "markdown",
   "metadata": {},
   "source": [
    "### With 4 features:"
   ]
  },
  {
   "cell_type": "code",
   "execution_count": 297,
   "metadata": {
    "collapsed": false
   },
   "outputs": [
    {
     "name": "stderr",
     "output_type": "stream",
     "text": [
      "C:\\Program Files\\Anaconda3\\lib\\site-packages\\pandas\\core\\generic.py:2701: SettingWithCopyWarning: \n",
      "A value is trying to be set on a copy of a slice from a DataFrame.\n",
      "Try using .loc[row_indexer,col_indexer] = value instead\n",
      "\n",
      "See the caveats in the documentation: http://pandas.pydata.org/pandas-docs/stable/indexing.html#indexing-view-versus-copy\n",
      "  self[name] = value\n"
     ]
    }
   ],
   "source": [
    "# Calling the normalization function on AGE,TAX,LSTAT\n",
    "bdata_test.AGE = normalize(bdata_test.AGE)\n",
    "bdata_train.AGE = normalize(bdata_train.AGE)\n",
    "\n",
    "bdata_test.TAX = normalize(bdata_test.TAX)\n",
    "bdata_train.TAX = normalize(bdata_train.TAX)\n",
    "\n",
    "bdata_test.LSTAT = normalize(bdata_test.LSTAT)\n",
    "bdata_train.LSTAT = normalize(bdata_train.LSTAT)\n",
    "\n",
    "# We will combine these 3 with the earlier CRIM and RM features"
   ]
  },
  {
   "cell_type": "code",
   "execution_count": 298,
   "metadata": {
    "collapsed": true
   },
   "outputs": [],
   "source": [
    "\"\"\"\n",
    "Function\n",
    "------\n",
    "nneighbor5\n",
    "Given test instance, training set, L, ; will return nearest neighbour.\n",
    "\n",
    "Parameters\n",
    "-------\n",
    "L: int\n",
    "    Value of L to use in computing distances\n",
    "\n",
    "KtrainSet,KtestInst : dataframes\n",
    "    2 data frames for test_data,training data\n",
    "    \n",
    "Returns\n",
    "------\n",
    "KtrainSet['MEDV'][id] : int\n",
    "    Value of nearest MEDV in the KtrainSet\n",
    "\n",
    "\"\"\"\n",
    "import time\n",
    "def nneighbor5(KtestInst, KtrainSet, L):\n",
    "    dis = [] # this empty array will store the distances\n",
    "    for i in range(0, len(KtrainSet)):\n",
    "        dis.append(distance((KtestInst[\"RM\"], KtestInst[\"CRIM\"], KtestInst[\"PTRATIO\"]\n",
    "                             ,KtestInst[\"NOX\"],KtestInst[\"LSTAT\"]),\n",
    "                 (KtrainSet[\"RM\"][i], KtrainSet[\"CRIM\"][i], KtrainSet[\"PTRATIO\"][i], KtrainSet[\"NOX\"][i],KtrainSet[\"LSTAT\"][i]),\n",
    "                 L))\n",
    "        \n",
    "    minDist = min(dis) #least distance\n",
    "    id = dis.index(minDist) #least distance index\n",
    "\n",
    "    return KtrainSet['MEDV'][id] #return the nearest MEDV value from the training set"
   ]
  },
  {
   "cell_type": "code",
   "execution_count": 299,
   "metadata": {
    "collapsed": false
   },
   "outputs": [
    {
     "name": "stdout",
     "output_type": "stream",
     "text": [
      "RMSE value for RM,CRIM,PTRATIO,NOX,LSTAT and L =2:: 6.86239754022\n",
      "Time taken:  9.63 secs\n"
     ]
    }
   ],
   "source": [
    "start_time = time.time()\n",
    "\n",
    "Preds = []\n",
    "for i in range(len(bdata_test)):\n",
    "    Preds.append(nneighbor5(bdata_test.loc[i],bdata_train,2))\n",
    "    \n",
    "print (\"RMSE value for RM,CRIM,PTRATIO,NOX,LSTAT and L =2::\",compute_rmse(Preds,bdata_test[\"MEDV\"]))\n",
    "\n",
    "print (\"Time taken: \" , str(round(time.time() - start_time,2)) , \"secs\")"
   ]
  },
  {
   "cell_type": "code",
   "execution_count": 300,
   "metadata": {
    "collapsed": false
   },
   "outputs": [
    {
     "name": "stdout",
     "output_type": "stream",
     "text": [
      "RMSE value for RM,CRIM,PTRATIO,NOX,LSTAT and L =3:: 9.75703085794\n",
      "Time taken:  9.94 secs\n"
     ]
    }
   ],
   "source": [
    "start_time = time.time()\n",
    "\n",
    "Preds = []\n",
    "for i in range(len(bdata_test)):\n",
    "    Preds.append(nneighbor5(bdata_test.loc[i],bdata_train,3))\n",
    "    \n",
    "print (\"RMSE value for RM,CRIM,PTRATIO,NOX,LSTAT and L =3::\",compute_rmse(Preds,bdata_test[\"MEDV\"]))\n",
    "print (\"Time taken: \" , str(round(time.time() - start_time,2)) , \"secs\")"
   ]
  },
  {
   "cell_type": "code",
   "execution_count": 301,
   "metadata": {
    "collapsed": false
   },
   "outputs": [
    {
     "name": "stdout",
     "output_type": "stream",
     "text": [
      "RMSE value for RM,CRIM,PTRATIO,NOX,LSTAT and L =4:: 7.09408122114\n",
      "Time taken:  9.83 secs\n"
     ]
    }
   ],
   "source": [
    "start_time = time.time()\n",
    "\n",
    "Preds = []\n",
    "for i in range(len(bdata_test)):\n",
    "    Preds.append(nneighbor5(bdata_test.loc[i],bdata_train,4))\n",
    "    \n",
    "print (\"RMSE value for RM,CRIM,PTRATIO,NOX,LSTAT and L =4::\",compute_rmse(Preds,bdata_test[\"MEDV\"]))\n",
    "\n",
    "print (\"Time taken: \" , str(round(time.time() - start_time,2)) , \"secs\")"
   ]
  },
  {
   "cell_type": "code",
   "execution_count": 302,
   "metadata": {
    "collapsed": false
   },
   "outputs": [
    {
     "name": "stdout",
     "output_type": "stream",
     "text": [
      "RMSE value for RM,CRIM,PTRATIO,NOX,LSTAT and L =5:: 7.22334715946\n",
      "Time taken:  9.98 secs\n"
     ]
    }
   ],
   "source": [
    "start_time = time.time()\n",
    "\n",
    "Preds = []\n",
    "for i in range(len(bdata_test)):\n",
    "    Preds.append(nneighbor5(bdata_test.loc[i],bdata_train,5))\n",
    "    \n",
    "print (\"RMSE value for RM,CRIM,PTRATIO,NOX,LSTAT and L =5::\",compute_rmse(Preds,bdata_test[\"MEDV\"]))\n",
    "\n",
    "print (\"Time taken: \" , str(round(time.time() - start_time,2)) , \"secs\")"
   ]
  },
  {
   "cell_type": "code",
   "execution_count": 303,
   "metadata": {
    "collapsed": false
   },
   "outputs": [
    {
     "name": "stdout",
     "output_type": "stream",
     "text": [
      "RMSE value for RM,CRIM,PTRATIO,NOX,LSTAT and L =6:: 6.9560455553\n",
      "Time taken:  9.91 secs\n"
     ]
    }
   ],
   "source": [
    "start_time = time.time()\n",
    "\n",
    "Preds = []\n",
    "for i in range(len(bdata_test)):\n",
    "    Preds.append(nneighbor5(bdata_test.loc[i],bdata_train,6))\n",
    "    \n",
    "print (\"RMSE value for RM,CRIM,PTRATIO,NOX,LSTAT and L =6::\",compute_rmse(Preds,bdata_test[\"MEDV\"]))\n",
    "\n",
    "print (\"Time taken: \" , str(round(time.time() - start_time,2)) , \"secs\")"
   ]
  },
  {
   "cell_type": "markdown",
   "metadata": {},
   "source": [
    "#### printing all the overvations:\n",
    "#### for Model 1: 2 features:\n",
    "RMSE value for PTRAIO and NOX with L as 2:: 13.2330233498\n",
    "Time taken: 3.12 seconds\n",
    "\n",
    "RMSE value for PTRAIO and NOX with L as 3:: 13.5547790422\n",
    "Time taken: 3.25 seconds\n",
    "\n",
    "RMSE value for PTRAIO and NOX with L as 4:: 13.2473121451\n",
    "Time taken: 3.3 seconds\n",
    "\n",
    "RMSE value for PTRAIO and RM with L as 5:: 13.5683712241\n",
    "Time taken: 3.47 seconds\n",
    "\n",
    "RMSE value for PTRAIO and RM with L as 6:: 13.2407624666\n",
    "Time taken: 3.34 seconds\n",
    "\n",
    "\n",
    "#### for Model 2: 5 features:\n",
    "RMSE value for RM,CRIM,PTRATIO,NOX,LSTAT and L =2:: 7.65112470832\n",
    "Time taken: 6.81 seconds\n",
    "\n",
    "RMSE value for RM,CRIM,PTRATIO,NOX,LSTAT and L =3:: 9.56218934744\n",
    "Time taken: 6.79 seconds\n",
    "\n",
    "RMSE value for RM,CRIM,PTRATIO,NOX,LSTAT and L =4:: 7.7027705677\n",
    "Time taken: 6.88 seconds\n",
    "\n",
    "RMSE value for RM,CRIM,PTRATIO,NOX,LSTAT and L =5:: 7.97079334267\n",
    "Time taken: 6.77 seconds\n",
    "\n",
    "RMSE value for RM,CRIM,PTRATIO,NOX,LSTAT and L =6:: 7.70491763836\n",
    "Time taken: 6.81 seconds\n",
    "\n",
    "## Analysis:\n",
    "1. For model 1, RMSE, time is lowest for L=2.\n",
    "2. For Model 2, RMSE is lowest for L=2. while time is lowest for L=5"
   ]
  },
  {
   "cell_type": "markdown",
   "metadata": {},
   "source": [
    "*enter your observations here*"
   ]
  },
  {
   "cell_type": "markdown",
   "metadata": {},
   "source": [
    "### 3.5 Cross-Validation\n",
    "\n",
    "The more you tinkered with your features and distance function, the higher the risk that you overfit your training data.  To prevent this sort of overfitting, you need to use cross-validation (see K-fold [cross-validation](http://en.wikipedia.org/wiki/Cross-validation_(statistics)).  Here you must implement a simple k-fold cross-validation algorithm yourself.  The function you write here will be used several more times in this problem set, so do your best to write efficient code! (Note that the sklearn package has a built-in [K-fold](http://scikit-learn.org/stable/modules/cross_validation.html#cross-validation) iterator -- you should *not* be invoking that or any related algorithms in this section of the problem set.)\n",
    "\n",
    "Use 10-fold cross-validation and report the average RMSE for Nearest Neighbors using Euclidean distance with CRIM and RM input features, as well as the total running time for the full run of 10 folds.  In other words, randomly divide your dataset into 10 equally-sized samples, and for each of 10 iterations (the \"folds\"), use 9 samples as \"training data\" (even though there is no training in k-NN!), and the remaining 1 sample for testing.  Compute the RMSE of that particular test set, then move on to the next iteration.  Report the average RMSE across the 10 iterations."
   ]
  },
  {
   "cell_type": "code",
   "execution_count": 304,
   "metadata": {
    "collapsed": false
   },
   "outputs": [],
   "source": [
    "# We would need to resample the data\n",
    "BostonDF_Resample = BostonDF.sample(frac = 1)\n",
    "\n",
    "# creating samples for 10 fold cross validation\n",
    "BostonDF_Samples = np.array_split(BostonDF_Resample, 10)\n",
    "\n",
    "\"\"\"\n",
    "Function\n",
    "--------\n",
    "crossval\n",
    "\n",
    "Given a dataframe, return the test & training sets \n",
    "\n",
    "Parameters\n",
    "----------\n",
    "df : dataframes\n",
    "    dataframes that needs to be segregated into test and train\n",
    "\n",
    "Returns\n",
    "-------\n",
    "train, test : list\n",
    "    2 Lists for test and train, each containing equal number of test and train dataframes\n",
    "\n",
    "\"\"\"\n",
    "# creating arrays for training and test sets\n",
    "testDF = []\n",
    "trainDF = []\n",
    "\n",
    "# creating the function for cross validation \n",
    "def crossval(df):\n",
    "    for i in range(len(df)):\n",
    "        testDF.append(df[i]) # i th subset of the dataframe will go into test while rest will go to training set\n",
    "        trainDF.append(df[:i] + df[(i+1):]) \n",
    "    for h in range(len(trainDF)):\n",
    "        trainDF[h] = pd.DataFrame(pd.concat(trainDF[h]))   # bringing in al the data to training set"
   ]
  },
  {
   "cell_type": "code",
   "execution_count": 305,
   "metadata": {
    "collapsed": true
   },
   "outputs": [],
   "source": [
    "crossval(BostonDF_Samples)"
   ]
  },
  {
   "cell_type": "code",
   "execution_count": 306,
   "metadata": {
    "collapsed": true
   },
   "outputs": [],
   "source": [
    "# We need to reset the indexes of the training and test sets\n",
    "for l in range(len(testDF)):\n",
    "    testDF[l].index = range(0,len(testDF[l]))\n",
    "    trainDF[l].index = range(0,len(trainDF[l]))"
   ]
  },
  {
   "cell_type": "code",
   "execution_count": 307,
   "metadata": {
    "collapsed": false
   },
   "outputs": [
    {
     "name": "stdout",
     "output_type": "stream",
     "text": [
      "Iteration No ::  1\n",
      "RMSE ::  9.61065585079\n",
      "Time taken:  0.04 secs\n",
      "\n",
      "\n",
      "Iteration No ::  2\n",
      "RMSE ::  4.54828129573\n",
      "Time taken:  0.04 secs\n",
      "\n",
      "\n",
      "Iteration No ::  3\n",
      "RMSE ::  6.30438689467\n",
      "Time taken:  0.04 secs\n",
      "\n",
      "\n",
      "Iteration No ::  4\n",
      "RMSE ::  8.53306142336\n",
      "Time taken:  0.04 secs\n",
      "\n",
      "\n",
      "Iteration No ::  5\n",
      "RMSE ::  9.25706937067\n",
      "Time taken:  0.04 secs\n",
      "\n",
      "\n",
      "Iteration No ::  6\n",
      "RMSE ::  4.64099380838\n",
      "Time taken:  0.04 secs\n",
      "\n",
      "\n",
      "Iteration No ::  7\n",
      "RMSE ::  7.78576906927\n",
      "Time taken:  0.03 secs\n",
      "\n",
      "\n",
      "Iteration No ::  8\n",
      "RMSE ::  5.22691113374\n",
      "Time taken:  0.03 secs\n",
      "\n",
      "\n",
      "Iteration No ::  9\n",
      "RMSE ::  5.27004743812\n",
      "Time taken:  0.03 secs\n",
      "\n",
      "\n",
      "Iteration No ::  10\n",
      "RMSE ::  7.58356116874\n",
      "Time taken:  0.04 secs\n",
      "\n",
      "\n",
      "Average RMSE: 6.87607374535\n",
      "Total runtime::  18.62 secs\n"
     ]
    }
   ],
   "source": [
    "start = time.time()\n",
    "\n",
    "RMSE = 0\n",
    "\n",
    "for k in range(len(testDF)): \n",
    "    preds = []  # this array will store all the predictions\n",
    "    print (\"Iteration No :: \" ,k+1)\n",
    "    for j in range(len(testDF[k])):\n",
    "        start_time = time.time()  # this will select all observations of the kth subset\n",
    "        preds.append(nneighbor(testDF[k].loc[j],trainDF[k],2)) # appending the values by calling nneighbor function\n",
    "        \n",
    "    \n",
    "    print (\"RMSE :: \", compute_rmse(preds,testDF[k].MEDV))\n",
    "    print (\"Time taken: \" , str(round(time.time() - start_time,2)) , \"secs\")\n",
    "    print (\"\\n\")\n",
    "    RMSE += compute_rmse(preds,testDF[k].MEDV)\n",
    "    preds = []\n",
    "    \n",
    "print (\"Average RMSE:\" , (RMSE/10))\n",
    "print (\"Total runtime:: \", str(round(time.time() - start,2)) , \"secs\")"
   ]
  },
  {
   "cell_type": "markdown",
   "metadata": {},
   "source": [
    "###3.6 K-Nearest Neighbors Algorithm\n",
    "\n",
    "Implement the K-Nearest Neighbors algorithm.  Using 10-fold cross validation, report the RMSE for K=3 and the running time of the algorithm."
   ]
  },
  {
   "cell_type": "code",
   "execution_count": 308,
   "metadata": {
    "collapsed": false
   },
   "outputs": [],
   "source": [
    "\"\"\"\n",
    "Function\n",
    "-----\n",
    "knn\n",
    "\n",
    "Given test instance, training set, L, ; will return nearest neighbour.\n",
    "\n",
    "Parameters\n",
    "-------\n",
    "testinstance: dataframe\n",
    "    dataframe of test set\n",
    "    \n",
    "train : dataframe\n",
    "    dataframe for training set\n",
    "\n",
    "L: int\n",
    "    Value of L for computing distances\n",
    "    \n",
    "K: int\n",
    "    number of nearest neighbours\n",
    "\n",
    "Returns\n",
    "------\n",
    "sum_val/K : int\n",
    "    Avg. MEDV value\n",
    "\n",
    "\"\"\"\n",
    "import time\n",
    "def knn(KtestInst, KtrainSet, L, K):\n",
    "    \n",
    "    minDis = [] # this array wil store the min distances\n",
    "    for i in range(0, len(KtrainSet)):\n",
    "        minDis.append(distance((KtestInst['RM'], KtestInst['CRIM']),\n",
    "                 (KtrainSet['RM'][i], KtrainSet['CRIM'][i]),L))\n",
    "   \n",
    "    # Sorting the minDis array\n",
    "    minDisSort=minDis[:] \n",
    "    minDisSort=sorted(minDisSort)\n",
    "    \n",
    "    disn = [] # array to store distances of neighbours\n",
    "    \n",
    "    for j in range(K):\n",
    "        disn.append(minDisSort[j]) # appending values in disn array\n",
    "\n",
    "    ind = [] # array to store indices of the nearest neighbours\n",
    "    for k in range(len(disn)):\n",
    "        ind.append(minDis.index(disn[k])) # appending values to ind array\n",
    "        \n",
    "    TotVal = 0\n",
    "    for l in range(len(ind)):\n",
    "        TotVal += KtrainSet['MEDV'][l] # this will increment to give total val for MEDV\n",
    "    \n",
    "    return TotVal/K # returing avg value"
   ]
  },
  {
   "cell_type": "code",
   "execution_count": 309,
   "metadata": {
    "collapsed": false
   },
   "outputs": [
    {
     "name": "stdout",
     "output_type": "stream",
     "text": [
      "RMSE when K = 3:: 105.401303799\n",
      "total runtime:: 2.17 secs\n"
     ]
    }
   ],
   "source": [
    "start_time = time.time()\n",
    "\n",
    "RMSE = 0\n",
    "for a in range(len(testDF)):\n",
    "    preds = []\n",
    "    for b in range(len(testDF[a])):\n",
    "        preds.append(knn(testDF[a].loc[b],testDF[a],2,3))\n",
    "    \n",
    "    RMSE += compute_rmse(preds,testDF[a].MEDV)\n",
    "    \n",
    "    preds = []\n",
    "    \n",
    "print ('RMSE when K = 3::' ,RMSE)\n",
    "print ('total runtime::' , str(round(time.time() - start_time,2)) , 'secs')"
   ]
  },
  {
   "cell_type": "markdown",
   "metadata": {},
   "source": []
  },
  {
   "cell_type": "markdown",
   "metadata": {},
   "source": [
    "###3.7 Using cross validation to find K\n",
    "\n",
    "What is the best choice of K?  Compute the RMSE for values of K between 1 and 25 using 10-fold cross-validation.  Use the following features in your model, and don't forget to normalize: CRIM, ZN, RM, AGE, DIS, TAX.  Create a graph that shows how RMSE changes as K increases from 1 to 25.  Label your axes, and summarize what you see.  What do you think is a reasonable choice of K for this model?"
   ]
  },
  {
   "cell_type": "code",
   "execution_count": 310,
   "metadata": {
    "collapsed": false
   },
   "outputs": [],
   "source": [
    "# Calling the normalization function on test and train\n",
    "for k in range(len(trainDF)):\n",
    "    trainDF[k].CRIM = normalize(trainDF[k].CRIM)\n",
    "    trainDF[k].ZN = normalize(trainDF[k].ZN)\n",
    "    trainDF[k].INDUS = normalize(trainDF[k].INDUS)\n",
    "    trainDF[k].RM = normalize(trainDF[k].RM)\n",
    "    trainDF[k].AGE = normalize(trainDF[k].AGE)\n",
    "    trainDF[k].DIS = normalize(trainDF[k].DIS)\n",
    "    trainDF[k].TAX = normalize(trainDF[k].TAX)\n",
    "    \n",
    "    \n",
    "for j in range(len(testDF)):\n",
    "    testDF[j].CRIM = normalize(testDF[j].CRIM)\n",
    "    testDF[j].ZN = normalize(testDF[j].ZN)\n",
    "    testDF[j].INDUS = normalize(testDF[j].INDUS)\n",
    "    testDF[j].RM = normalize(testDF[j].RM)\n",
    "    testDF[j].AGE = normalize(testDF[j].AGE)\n",
    "    testDF[j].DIS = normalize(testDF[j].DIS)\n",
    "    testDF[j].TAX = normalize(testDF[j].TAX)"
   ]
  },
  {
   "cell_type": "code",
   "execution_count": 311,
   "metadata": {
    "collapsed": true
   },
   "outputs": [],
   "source": [
    "\"\"\"\n",
    "Function\n",
    "------\n",
    "knn6\n",
    "\n",
    "Given test instance, training set, L, ; will return nearest neighbour.\n",
    "\n",
    "Parameters\n",
    "-------\n",
    "testinstance: dataframe\n",
    "    dataframe of test set\n",
    "    \n",
    "train : dataframe\n",
    "    dataframe for training set\n",
    "\n",
    "L: int\n",
    "    Value of L for computing distances\n",
    "    \n",
    "K: int\n",
    "    number of nearest neighbours\n",
    "\n",
    "Returns\n",
    "-----\n",
    "sum_val/K : int\n",
    "    Avg. MEDV value\n",
    "\n",
    "\"\"\"\n",
    "import time\n",
    "def knn6(KtestInst, KtrainSet, L, K):\n",
    "    \n",
    "    minDis = [] # this array wil store the min distances\n",
    "    for i in range(0, len(KtrainSet)):\n",
    "        minDis.append(distance((KtestInst['RM'], KtestInst['CRIM'], KtestInst['ZN']\n",
    "                               ,KtestInst['AGE'],KtestInst['DIS'],KtestInst['TAX']),\n",
    "                 (KtrainSet['RM'][i], KtrainSet['CRIM'][i],KtrainSet['ZN'][i]\n",
    "                 ,KtrainSet['AGE'][i],KtrainSet['DIS'][i],KtrainSet['TAX'][i]),L))\n",
    "   \n",
    "    # Sorting the minDis array\n",
    "    minDisSort=minDis[:] \n",
    "    minDisSort=sorted(minDisSort)\n",
    "    \n",
    "    disn = [] # array to store distances of neighbours\n",
    "    \n",
    "    for j in range(K):\n",
    "        disn.append(minDisSort[j]) # appending values in disn array\n",
    "\n",
    "    ind = [] # array to store indices of the nearest neighbours\n",
    "    for k in range(len(disn)):\n",
    "        ind.append(minDis.index(disn[k])) # appending values to ind array\n",
    "        \n",
    "    TotVal = 0\n",
    "    for l in range(len(ind)):\n",
    "        TotVal += KtrainSet['MEDV'][l] # this will increment to give total val for MEDV\n",
    "    \n",
    "    return TotVal/K # returing avg value"
   ]
  },
  {
   "cell_type": "code",
   "execution_count": 312,
   "metadata": {
    "collapsed": true
   },
   "outputs": [],
   "source": [
    "\"\"\"\n",
    "Function\n",
    "------\n",
    "RMSval\n",
    "Given a value of K, returns total RMSE val \n",
    "\n",
    "Parameters\n",
    "--------\n",
    "x : int\n",
    "number of nearest neighbours\n",
    "\n",
    "Returns\n",
    "------\n",
    "Total RMSE val\n",
    "\"\"\"\n",
    "def RMSval(x):\n",
    "    RMSval = 0 # initializing RMSval as 0\n",
    "    for i in range(len(testDF)):\n",
    "        preds = [] # array to store predictions\n",
    "        for j in range(len(testDF[i])):\n",
    "            preds.append(knn6(testDF[i].loc[j], trainDF[i], 1, x))\n",
    "        RMSval += compute_rmse(preds, testDF[i].MEDV)\n",
    "        preds = []\n",
    "    return RMSval"
   ]
  },
  {
   "cell_type": "code",
   "execution_count": 313,
   "metadata": {
    "collapsed": false
   },
   "outputs": [
    {
     "name": "stdout",
     "output_type": "stream",
     "text": [
      "total runtime: 17.340833333333332 mins\n"
     ]
    }
   ],
   "source": [
    "start_time = time.time()\n",
    "\n",
    "RMSE_Values = [] # this array will store total RMSE vals for every value of k\n",
    "for i in range(1,26):\n",
    "    RMSE_Values.append(RMSval(i))\n",
    "    \n",
    "print ('total runtime:', str(round(time.time() - start_time,2)/60) , 'mins')"
   ]
  },
  {
   "cell_type": "code",
   "execution_count": 314,
   "metadata": {
    "collapsed": true
   },
   "outputs": [],
   "source": [
    "# values of k from 1 to 15\n",
    "Kvals = np.arange(1,26)\n",
    "\n",
    "# storing the RMSE values\n",
    "RMSE_for_K = RMSE_Values\n",
    "\n",
    "# bringing all this together in a dataframe\n",
    "RMSE_K_DF = pd.DataFrame ({'K':Kvals,'RMSE':RMSE_for_K})\n",
    "\n",
    "# we would need to reindex the dataframe\n",
    "RMSE_K_DF.set_index(Kvals, inplace=True)"
   ]
  },
  {
   "cell_type": "code",
   "execution_count": 315,
   "metadata": {
    "collapsed": false
   },
   "outputs": [
    {
     "data": {
      "text/plain": [
       "<matplotlib.text.Text at 0x1eb79664438>"
      ]
     },
     "execution_count": 315,
     "metadata": {},
     "output_type": "execute_result"
    },
    {
     "data": {
      "image/png": "[encoded data removed]",
      "text/plain": [
       "<matplotlib.figure.Figure at 0x1eb793e2780>"
      ]
     },
     "metadata": {},
     "output_type": "display_data"
    }
   ],
   "source": [
    "# plotting K value vs total rmse\n",
    "RMSE_K_DF['RMSE'].plot(color=\"#8B008B\", linewidth=2, marker='o')\n",
    "\n",
    "#Adding labels\n",
    "plt.xlabel('K')\n",
    "plt.ylabel('RMSE')\n",
    "plt.title('K vs RMSE')"
   ]
  },
  {
   "cell_type": "code",
   "execution_count": 316,
   "metadata": {
    "collapsed": false
   },
   "outputs": [
    {
     "data": {
      "text/plain": [
       "91.400381217340552"
      ]
     },
     "execution_count": 316,
     "metadata": {},
     "output_type": "execute_result"
    }
   ],
   "source": [
    "RMSE_K_DF.RMSE.min()"
   ]
  },
  {
   "cell_type": "markdown",
   "metadata": {},
   "source": [
    "#### Analysis:\n",
    "1. The RMSE values increase from K=1 and reaches the max at K=4. From then on, it decreases.\n",
    "2. The RMSE value reaches a low point at K=10 after which it stabalizes, only with a exception at K=14 where it seems to\n",
    "   increase slightly. \n",
    "3. K=10 should be a good K value as after this, the RMSE value is more or less the same."
   ]
  }
 ],
 "metadata": {
  "anaconda-cloud": {},
  "kernelspec": {
   "display_name": "Python [default]",
   "language": "python",
   "name": "python3"
  },
  "language_info": {
   "codemirror_mode": {
    "name": "ipython",
    "version": 3
   },
   "file_extension": ".py",
   "mimetype": "text/x-python",
   "name": "python",
   "nbconvert_exporter": "python",
   "pygments_lexer": "ipython3",
   "version": "3.5.2"
  }
 },
 "nbformat": 4,
 "nbformat_minor": 0
}
