{
 "cells": [
  {
   "cell_type": "markdown",
   "metadata": {
    "toc": true
   },
   "source": [
    "<h1>Table of Contents<span class=\"tocSkip\"></span></h1>\n",
    "<div class=\"toc\"><ul class=\"toc-item\"><li><span><a href=\"#Problem-Set-2,-due-January-23th-at-5:30-pm/January-24th-3:30pm\" data-toc-modified-id=\"Problem-Set-2,-due-January-23th-at-5:30-pm/January-24th-3:30pm-1\"><span class=\"toc-item-num\">1&nbsp;&nbsp;</span>Problem Set 2, due January 23th at 5:30 pm/January 24th 3:30pm</a></span></li><li><span><a href=\"#Introduction-to-the-assignment\" data-toc-modified-id=\"Introduction-to-the-assignment-2\"><span class=\"toc-item-num\">2&nbsp;&nbsp;</span>Introduction to the assignment</a></span><ul class=\"toc-item\"><li><ul class=\"toc-item\"><li><span><a href=\"#1.1----Summary-Statistics\" data-toc-modified-id=\"1.1----Summary-Statistics-2.0.1\"><span class=\"toc-item-num\">2.0.1&nbsp;&nbsp;</span>1.1    Summary Statistics</a></span></li><li><span><a href=\"#1.2-Differences-at-baseline?\" data-toc-modified-id=\"1.2-Differences-at-baseline?-2.0.2\"><span class=\"toc-item-num\">2.0.2&nbsp;&nbsp;</span>1.2 Differences at baseline?</a></span></li><li><span><a href=\"#1.3-Interpretation\" data-toc-modified-id=\"1.3-Interpretation-2.0.3\"><span class=\"toc-item-num\">2.0.3&nbsp;&nbsp;</span>1.3 Interpretation</a></span></li><li><span><a href=\"#1.4-Graphical-exploration,-part-1\" data-toc-modified-id=\"1.4-Graphical-exploration,-part-1-2.0.4\"><span class=\"toc-item-num\">2.0.4&nbsp;&nbsp;</span>1.4 Graphical exploration, part 1</a></span></li><li><span><a href=\"#Analysis:\" data-toc-modified-id=\"Analysis:-2.0.5\"><span class=\"toc-item-num\">2.0.5&nbsp;&nbsp;</span>Analysis:</a></span></li><li><span><a href=\"#1.5-Graphical-exploration,-part-2\" data-toc-modified-id=\"1.5-Graphical-exploration,-part-2-2.0.6\"><span class=\"toc-item-num\">2.0.6&nbsp;&nbsp;</span>1.5 Graphical exploration, part 2</a></span></li><li><span><a href=\"#Analysis:\" data-toc-modified-id=\"Analysis:-2.0.7\"><span class=\"toc-item-num\">2.0.7&nbsp;&nbsp;</span>Analysis:</a></span></li></ul></li><li><span><a href=\"#Part-2:-Measuring-Impact\" data-toc-modified-id=\"Part-2:-Measuring-Impact-2.1\"><span class=\"toc-item-num\">2.1&nbsp;&nbsp;</span>Part 2: Measuring Impact</a></span><ul class=\"toc-item\"><li><span><a href=\"#2.1-Simple-differences:-T-test\" data-toc-modified-id=\"2.1-Simple-differences:-T-test-2.1.1\"><span class=\"toc-item-num\">2.1.1&nbsp;&nbsp;</span>2.1 Simple differences: T-test</a></span></li><li><span><a href=\"#Analysis:\" data-toc-modified-id=\"Analysis:-2.1.2\"><span class=\"toc-item-num\">2.1.2&nbsp;&nbsp;</span>Analysis:</a></span></li><li><span><a href=\"#2.2-Simple-differences:-Regression\" data-toc-modified-id=\"2.2-Simple-differences:-Regression-2.1.3\"><span class=\"toc-item-num\">2.1.3&nbsp;&nbsp;</span>2.2 Simple differences: Regression</a></span></li><li><span><a href=\"#2.3-Multiple-Regression\" data-toc-modified-id=\"2.3-Multiple-Regression-2.1.4\"><span class=\"toc-item-num\">2.1.4&nbsp;&nbsp;</span>2.3 Multiple Regression</a></span></li><li><span><a href=\"#2.4-Difference-in-Difference,-version-1-(tabular)\" data-toc-modified-id=\"2.4-Difference-in-Difference,-version-1-(tabular)-2.1.5\"><span class=\"toc-item-num\">2.1.5&nbsp;&nbsp;</span>2.4 Difference-in-Difference, version 1 (tabular)</a></span></li><li><span><a href=\"#2.5-Difference-in-Difference,-version-1-(regression)\" data-toc-modified-id=\"2.5-Difference-in-Difference,-version-1-(regression)-2.1.6\"><span class=\"toc-item-num\">2.1.6&nbsp;&nbsp;</span>2.5 Difference-in-Difference, version 1 (regression)</a></span></li><li><span><a href=\"#2.6-Difference-in-Difference,-version-2\" data-toc-modified-id=\"2.6-Difference-in-Difference,-version-2-2.1.7\"><span class=\"toc-item-num\">2.1.7&nbsp;&nbsp;</span>2.6 Difference-in-Difference, version 2</a></span></li><li><span><a href=\"#2.7-Spillover-effects-(extra-credit)\" data-toc-modified-id=\"2.7-Spillover-effects-(extra-credit)-2.1.8\"><span class=\"toc-item-num\">2.1.8&nbsp;&nbsp;</span>2.7 Spillover effects (extra credit)</a></span></li><li><span><a href=\"#2.8-Summary\" data-toc-modified-id=\"2.8-Summary-2.1.9\"><span class=\"toc-item-num\">2.1.9&nbsp;&nbsp;</span>2.8 Summary</a></span></li></ul></li></ul></li></ul></div>"
   ]
  },
  {
   "cell_type": "markdown",
   "metadata": {
    "ein.tags": [
     "worksheet-0"
    ],
    "slideshow": {
     "slide_type": "-"
    }
   },
   "source": [
    "# Problem Set 2, due January 23th at 5:30 pm/January 24th 3:30pm\n",
    "\n",
    "**Please Note:** This assignment will likely take you a _long_ time, especially if you are new to Python. Start early!"
   ]
  },
  {
   "cell_type": "markdown",
   "metadata": {
    "ein.tags": [
     "worksheet-0"
    ],
    "slideshow": {
     "slide_type": "-"
    }
   },
   "source": [
    "# Introduction to the assignment\n",
    "\n",
    "For this assignment, you will be using data from the [Progresa program](http://en.wikipedia.org/wiki/Oportunidades), a government social assistance program in Mexico. This program, as well as the details of its impact, are described in the paper \"[School subsidies for the poor: evaluating the Mexican Progresa poverty program](http://www.sciencedirect.com/science/article/pii/S0304387803001858)\", by Paul Shultz (available on Canvas). Please familiarize yourself with the PROGRESA program before beginning this problem set, so you have a rough sense of where the data come from and how they were generated. If you just proceed into the problem set without understanding Progresa or the data, it will be very difficult!\n",
    "\n",
    "The goal of this problem set is to implement some of the basic econometric techniques that you are learning in class to measure the impact of Progresa on secondary school enrollment rates. The timeline of the program was:\n",
    "\n",
    " * Baseline survey conducted in 1997\n",
    " * Intervention begins in 1998, \"Wave 1\" of data collected in 1998\n",
    " * \"Wave 2 of data\" collected in 1999\n",
    " * Evaluation ends in 2000, at which point the control villages were treated. \n",
    " \n",
    "When you are ready, download the progresa_sample.csv data from Canvas. The data are actual data collected to evaluate the impact of the Progresa program.  In this file, each row corresponds to an observation taken for a given child for a given year. There are two years of data (1997 and 1998), and just under 40,000 children who are surveyed in each year. For each child-year observation, the following variables are collected:\n",
    "\n",
    "| Variable name | Description|\n",
    "|---------|---------|\n",
    "|year\t  |year in which data is collected\n",
    "|sex\t  |male = 1|\n",
    "|indig\t  |indigenous = 1|\n",
    "|dist_sec |nearest distance to a secondary school|\n",
    "|sc\t      |enrolled in school in year of survey|\n",
    "|grc      |grade enrolled|\n",
    "|fam_n    |family size|\n",
    "|min_dist |\tmin distance to an urban center|\n",
    "|dist_cap |\tmin distance to the capital|\n",
    "|poor     |\tpoor = 1|\n",
    "|progresa |treatment =1|\n",
    "|hohedu\t  |years of schooling of head of household|\n",
    "|hohwag\t  |monthly wages of head of household|\n",
    "|welfare_index|\twelfare index used to classify poor|\n",
    "|hohsex\t  |gender of head of household (male=1)|\n",
    "|hohage   |age of head of household|\n",
    "|age      |years old|\n",
    "|folnum\t  |individual id|\n",
    "|village  |\tvillage id|\n",
    "|sc97\t  |schooling in 1997|"
   ]
  },
  {
   "cell_type": "code",
   "execution_count": 1,
   "metadata": {
    "collapsed": true
   },
   "outputs": [],
   "source": [
    "# importing required libraries\n",
    "import pandas as pd\n",
    "from pandas import DataFrame,Series\n",
    "import numpy as np\n",
    "import scipy.stats\n",
    "import matplotlib.pyplot as plt\n",
    "import seaborn as sns\n",
    "%matplotlib inline"
   ]
  },
  {
   "cell_type": "code",
   "execution_count": 3,
   "metadata": {},
   "outputs": [
    {
     "data": {
      "text/html": [
       "<div>\n",
       "<table border=\"1\" class=\"dataframe\">\n",
       "  <thead>\n",
       "    <tr style=\"text-align: right;\">\n",
       "      <th></th>\n",
       "      <th>year</th>\n",
       "      <th>sex</th>\n",
       "      <th>indig</th>\n",
       "      <th>dist_sec</th>\n",
       "      <th>sc</th>\n",
       "      <th>grc</th>\n",
       "      <th>fam_n</th>\n",
       "      <th>min_dist</th>\n",
       "      <th>dist_cap</th>\n",
       "      <th>poor</th>\n",
       "      <th>...</th>\n",
       "      <th>hohedu</th>\n",
       "      <th>hohwag</th>\n",
       "      <th>welfare_index</th>\n",
       "      <th>hohsex</th>\n",
       "      <th>hohage</th>\n",
       "      <th>age</th>\n",
       "      <th>village</th>\n",
       "      <th>folnum</th>\n",
       "      <th>grc97</th>\n",
       "      <th>sc97</th>\n",
       "    </tr>\n",
       "  </thead>\n",
       "  <tbody>\n",
       "    <tr>\n",
       "      <th>0</th>\n",
       "      <td>97</td>\n",
       "      <td>0.0</td>\n",
       "      <td>0.0</td>\n",
       "      <td>4.473</td>\n",
       "      <td>1.0</td>\n",
       "      <td>7.0</td>\n",
       "      <td>7</td>\n",
       "      <td>21.168384</td>\n",
       "      <td>21.168384</td>\n",
       "      <td>pobre</td>\n",
       "      <td>...</td>\n",
       "      <td>6</td>\n",
       "      <td>0.0</td>\n",
       "      <td>583.0</td>\n",
       "      <td>1.0</td>\n",
       "      <td>35.0</td>\n",
       "      <td>13</td>\n",
       "      <td>163</td>\n",
       "      <td>1</td>\n",
       "      <td>7</td>\n",
       "      <td>1.0</td>\n",
       "    </tr>\n",
       "    <tr>\n",
       "      <th>1</th>\n",
       "      <td>98</td>\n",
       "      <td>0.0</td>\n",
       "      <td>0.0</td>\n",
       "      <td>4.473</td>\n",
       "      <td>1.0</td>\n",
       "      <td>8.0</td>\n",
       "      <td>7</td>\n",
       "      <td>21.168384</td>\n",
       "      <td>21.168384</td>\n",
       "      <td>pobre</td>\n",
       "      <td>...</td>\n",
       "      <td>6</td>\n",
       "      <td>0.0</td>\n",
       "      <td>583.0</td>\n",
       "      <td>1.0</td>\n",
       "      <td>35.0</td>\n",
       "      <td>14</td>\n",
       "      <td>163</td>\n",
       "      <td>1</td>\n",
       "      <td>7</td>\n",
       "      <td>1.0</td>\n",
       "    </tr>\n",
       "    <tr>\n",
       "      <th>2</th>\n",
       "      <td>97</td>\n",
       "      <td>1.0</td>\n",
       "      <td>0.0</td>\n",
       "      <td>4.473</td>\n",
       "      <td>1.0</td>\n",
       "      <td>6.0</td>\n",
       "      <td>7</td>\n",
       "      <td>21.168384</td>\n",
       "      <td>21.168384</td>\n",
       "      <td>pobre</td>\n",
       "      <td>...</td>\n",
       "      <td>6</td>\n",
       "      <td>0.0</td>\n",
       "      <td>583.0</td>\n",
       "      <td>1.0</td>\n",
       "      <td>35.0</td>\n",
       "      <td>12</td>\n",
       "      <td>163</td>\n",
       "      <td>2</td>\n",
       "      <td>6</td>\n",
       "      <td>1.0</td>\n",
       "    </tr>\n",
       "    <tr>\n",
       "      <th>3</th>\n",
       "      <td>98</td>\n",
       "      <td>1.0</td>\n",
       "      <td>0.0</td>\n",
       "      <td>4.473</td>\n",
       "      <td>1.0</td>\n",
       "      <td>7.0</td>\n",
       "      <td>7</td>\n",
       "      <td>21.168384</td>\n",
       "      <td>21.168384</td>\n",
       "      <td>pobre</td>\n",
       "      <td>...</td>\n",
       "      <td>6</td>\n",
       "      <td>0.0</td>\n",
       "      <td>583.0</td>\n",
       "      <td>1.0</td>\n",
       "      <td>35.0</td>\n",
       "      <td>13</td>\n",
       "      <td>163</td>\n",
       "      <td>2</td>\n",
       "      <td>6</td>\n",
       "      <td>1.0</td>\n",
       "    </tr>\n",
       "    <tr>\n",
       "      <th>4</th>\n",
       "      <td>97</td>\n",
       "      <td>0.0</td>\n",
       "      <td>0.0</td>\n",
       "      <td>4.473</td>\n",
       "      <td>1.0</td>\n",
       "      <td>2.0</td>\n",
       "      <td>7</td>\n",
       "      <td>21.168384</td>\n",
       "      <td>21.168384</td>\n",
       "      <td>pobre</td>\n",
       "      <td>...</td>\n",
       "      <td>6</td>\n",
       "      <td>0.0</td>\n",
       "      <td>583.0</td>\n",
       "      <td>1.0</td>\n",
       "      <td>35.0</td>\n",
       "      <td>8</td>\n",
       "      <td>163</td>\n",
       "      <td>3</td>\n",
       "      <td>2</td>\n",
       "      <td>1.0</td>\n",
       "    </tr>\n",
       "  </tbody>\n",
       "</table>\n",
       "<p>5 rows × 21 columns</p>\n",
       "</div>"
      ],
      "text/plain": [
       "   year  sex  indig  dist_sec   sc  grc  fam_n   min_dist   dist_cap   poor  \\\n",
       "0    97  0.0    0.0     4.473  1.0  7.0      7  21.168384  21.168384  pobre   \n",
       "1    98  0.0    0.0     4.473  1.0  8.0      7  21.168384  21.168384  pobre   \n",
       "2    97  1.0    0.0     4.473  1.0  6.0      7  21.168384  21.168384  pobre   \n",
       "3    98  1.0    0.0     4.473  1.0  7.0      7  21.168384  21.168384  pobre   \n",
       "4    97  0.0    0.0     4.473  1.0  2.0      7  21.168384  21.168384  pobre   \n",
       "\n",
       "   ...  hohedu  hohwag  welfare_index  hohsex  hohage  age  village  folnum  \\\n",
       "0  ...       6     0.0          583.0     1.0    35.0   13      163       1   \n",
       "1  ...       6     0.0          583.0     1.0    35.0   14      163       1   \n",
       "2  ...       6     0.0          583.0     1.0    35.0   12      163       2   \n",
       "3  ...       6     0.0          583.0     1.0    35.0   13      163       2   \n",
       "4  ...       6     0.0          583.0     1.0    35.0    8      163       3   \n",
       "\n",
       "   grc97  sc97  \n",
       "0      7   1.0  \n",
       "1      7   1.0  \n",
       "2      6   1.0  \n",
       "3      6   1.0  \n",
       "4      2   1.0  \n",
       "\n",
       "[5 rows x 21 columns]"
      ]
     },
     "execution_count": 3,
     "metadata": {},
     "output_type": "execute_result"
    }
   ],
   "source": [
    "# importing the data\n",
    "ProgresaMaster = pd.read_csv(\"progresa_sample.csv\")\n",
    "ProgresaMaster.head()"
   ]
  },
  {
   "cell_type": "code",
   "execution_count": null,
   "metadata": {},
   "outputs": [],
   "source": []
  },
  {
   "cell_type": "markdown",
   "metadata": {
    "ein.tags": [
     "worksheet-0"
    ],
    "slideshow": {
     "slide_type": "-"
    }
   },
   "source": [
    "---\n",
    "\n",
    "##Part 1: Descriptive analysis\n",
    "\n",
    "### 1.1\tSummary Statistics\n",
    "\n",
    "Present summary statistics (mean and standard deviation) for all of the demographic variables in the dataset (i.e., everything except year, folnum, village). Present these in a single table alphabetized by variable name. Do NOT simply expect the grader to scroll through your output!"
   ]
  },
  {
   "cell_type": "code",
   "execution_count": 5,
   "metadata": {
    "autoscroll": "json-false",
    "ein.tags": [
     "worksheet-0"
    ],
    "slideshow": {
     "slide_type": "-"
    }
   },
   "outputs": [
    {
     "name": "stderr",
     "output_type": "stream",
     "text": [
      "C:\\Program Files\\Anaconda3\\lib\\site-packages\\ipykernel\\__main__.py:2: FutureWarning: using '-' to provide set differences with Indexes is deprecated, use .difference()\n",
      "  from ipykernel import kernelapp as app\n",
      "C:\\Program Files\\Anaconda3\\lib\\site-packages\\numpy\\lib\\function_base.py:3834: RuntimeWarning: Invalid value encountered in percentile\n",
      "  RuntimeWarning)\n"
     ]
    },
    {
     "data": {
      "text/html": [
       "<div>\n",
       "<table border=\"1\" class=\"dataframe\">\n",
       "  <thead>\n",
       "    <tr style=\"text-align: right;\">\n",
       "      <th></th>\n",
       "      <th>mean</th>\n",
       "      <th>std</th>\n",
       "    </tr>\n",
       "  </thead>\n",
       "  <tbody>\n",
       "    <tr>\n",
       "      <th>age</th>\n",
       "      <td>11.366460</td>\n",
       "      <td>3.167744</td>\n",
       "    </tr>\n",
       "    <tr>\n",
       "      <th>dist_cap</th>\n",
       "      <td>147.674452</td>\n",
       "      <td>76.063134</td>\n",
       "    </tr>\n",
       "    <tr>\n",
       "      <th>dist_sec</th>\n",
       "      <td>2.418910</td>\n",
       "      <td>2.234109</td>\n",
       "    </tr>\n",
       "    <tr>\n",
       "      <th>fam_n</th>\n",
       "      <td>7.215715</td>\n",
       "      <td>2.352900</td>\n",
       "    </tr>\n",
       "    <tr>\n",
       "      <th>grc</th>\n",
       "      <td>3.963537</td>\n",
       "      <td>2.499063</td>\n",
       "    </tr>\n",
       "    <tr>\n",
       "      <th>grc97</th>\n",
       "      <td>3.705372</td>\n",
       "      <td>2.572387</td>\n",
       "    </tr>\n",
       "    <tr>\n",
       "      <th>hohage</th>\n",
       "      <td>44.436717</td>\n",
       "      <td>11.620372</td>\n",
       "    </tr>\n",
       "    <tr>\n",
       "      <th>hohedu</th>\n",
       "      <td>2.768104</td>\n",
       "      <td>2.656106</td>\n",
       "    </tr>\n",
       "    <tr>\n",
       "      <th>hohsex</th>\n",
       "      <td>0.925185</td>\n",
       "      <td>0.263095</td>\n",
       "    </tr>\n",
       "    <tr>\n",
       "      <th>hohwag</th>\n",
       "      <td>586.985312</td>\n",
       "      <td>788.133664</td>\n",
       "    </tr>\n",
       "    <tr>\n",
       "      <th>indig</th>\n",
       "      <td>0.298324</td>\n",
       "      <td>0.457525</td>\n",
       "    </tr>\n",
       "    <tr>\n",
       "      <th>min_dist</th>\n",
       "      <td>103.447520</td>\n",
       "      <td>42.089441</td>\n",
       "    </tr>\n",
       "    <tr>\n",
       "      <th>sc</th>\n",
       "      <td>0.819818</td>\n",
       "      <td>0.384342</td>\n",
       "    </tr>\n",
       "    <tr>\n",
       "      <th>sc97</th>\n",
       "      <td>0.813922</td>\n",
       "      <td>0.389172</td>\n",
       "    </tr>\n",
       "    <tr>\n",
       "      <th>sex</th>\n",
       "      <td>0.512211</td>\n",
       "      <td>0.499854</td>\n",
       "    </tr>\n",
       "    <tr>\n",
       "      <th>welfare_index</th>\n",
       "      <td>690.346564</td>\n",
       "      <td>139.491130</td>\n",
       "    </tr>\n",
       "  </tbody>\n",
       "</table>\n",
       "</div>"
      ],
      "text/plain": [
       "                     mean         std\n",
       "age             11.366460    3.167744\n",
       "dist_cap       147.674452   76.063134\n",
       "dist_sec         2.418910    2.234109\n",
       "fam_n            7.215715    2.352900\n",
       "grc              3.963537    2.499063\n",
       "grc97            3.705372    2.572387\n",
       "hohage          44.436717   11.620372\n",
       "hohedu           2.768104    2.656106\n",
       "hohsex           0.925185    0.263095\n",
       "hohwag         586.985312  788.133664\n",
       "indig            0.298324    0.457525\n",
       "min_dist       103.447520   42.089441\n",
       "sc               0.819818    0.384342\n",
       "sc97             0.813922    0.389172\n",
       "sex              0.512211    0.499854\n",
       "welfare_index  690.346564  139.491130"
      ]
     },
     "execution_count": 5,
     "metadata": {},
     "output_type": "execute_result"
    }
   ],
   "source": [
    "#leaving out year,folnum, village from our data frame\n",
    "ProgresaSummary = ProgresaMaster.ix[:,ProgresaMaster.columns-['year', 'folnum', 'village']]\n",
    "\n",
    "#Selecting index 1,2 since we need only mean and std deviation\n",
    "ProgresaSummary = ProgresaSummary.describe()[1:3]\n",
    "\n",
    "#transposing\n",
    "ProgresaSummary.transpose()"
   ]
  },
  {
   "cell_type": "markdown",
   "metadata": {
    "ein.tags": [
     "worksheet-0"
    ],
    "slideshow": {
     "slide_type": "-"
    }
   },
   "source": [
    "### 1.2 Differences at baseline?\n",
    "\n",
    "Are the baseline (1997) demographic characteristics **for the poor**  different in treatment and control villages? Hint: Use a T-Test to determine whether there is a statistically significant difference in the average values of each of the variables in the dataset. Focus only on the data from 1997 for individuals who are poor (i.e., poor=='pobre').\n",
    "\n",
    "Present your results in a single table with the following columns and 14 (or so) rows:\n",
    "\n",
    "| Variable name | Average value (Treatment villages) | Average value (Control villages) | Difference (Treat - Control) | p-value |\n",
    "|------|------|------|------|------|\n",
    "|Male  |?     |?     |?     |?     |\n"
   ]
  },
  {
   "cell_type": "code",
   "execution_count": 7,
   "metadata": {
    "autoscroll": "json-false",
    "ein.tags": [
     "worksheet-0"
    ],
    "slideshow": {
     "slide_type": "-"
    }
   },
   "outputs": [
    {
     "name": "stderr",
     "output_type": "stream",
     "text": [
      "C:\\Program Files\\Anaconda3\\lib\\site-packages\\ipykernel\\__main__.py:5: FutureWarning: using '-' to provide set differences with Indexes is deprecated, use .difference()\n",
      "C:\\Program Files\\Anaconda3\\lib\\site-packages\\ipykernel\\__main__.py:12: SettingWithCopyWarning: \n",
      "A value is trying to be set on a copy of a slice from a DataFrame\n",
      "\n",
      "See the caveats in the documentation: http://pandas.pydata.org/pandas-docs/stable/indexing.html#indexing-view-versus-copy\n",
      "C:\\Program Files\\Anaconda3\\lib\\site-packages\\ipykernel\\__main__.py:13: SettingWithCopyWarning: \n",
      "A value is trying to be set on a copy of a slice from a DataFrame\n",
      "\n",
      "See the caveats in the documentation: http://pandas.pydata.org/pandas-docs/stable/indexing.html#indexing-view-versus-copy\n"
     ]
    }
   ],
   "source": [
    "#Since we want data only for 1997 and poor people, we filter these values out\n",
    "ProgresaBase = ProgresaMaster[(ProgresaMaster['year'] == 97) & (ProgresaMaster['poor'] == 'pobre')]\n",
    "\n",
    "#leaving out year, folnum, village as before\n",
    "ProgresaBase = ProgresaBase.ix[:,ProgresaBase.columns-[\"year\", \"folnum\", \"village\"]]\n",
    "\n",
    "#creating control and treatment groups\n",
    "ProgresaControl = ProgresaBase[ProgresaBase['progresa'] == '0']\n",
    "ProgresaTreat = ProgresaBase[ProgresaBase['progresa'] == 'basal']\n",
    "\n",
    "# We won't need poor, progresa columns, so removing them by having inplace = true\n",
    "ProgresaControl.drop(['poor','progresa'],axis=1,inplace=True)\n",
    "ProgresaTreat.drop(['poor','progresa'],axis=1,inplace=True)"
   ]
  },
  {
   "cell_type": "code",
   "execution_count": 12,
   "metadata": {},
   "outputs": [
    {
     "data": {
      "text/html": [
       "<div>\n",
       "<table border=\"1\" class=\"dataframe\">\n",
       "  <thead>\n",
       "    <tr style=\"text-align: right;\">\n",
       "      <th></th>\n",
       "      <th>Average for Treatment</th>\n",
       "      <th>Average for Control</th>\n",
       "      <th>Diff</th>\n",
       "    </tr>\n",
       "  </thead>\n",
       "  <tbody>\n",
       "    <tr>\n",
       "      <th>age</th>\n",
       "      <td>10.717</td>\n",
       "      <td>10.742</td>\n",
       "      <td>-0.025032</td>\n",
       "    </tr>\n",
       "    <tr>\n",
       "      <th>dist_cap</th>\n",
       "      <td>150.829</td>\n",
       "      <td>153.77</td>\n",
       "      <td>-2.94066</td>\n",
       "    </tr>\n",
       "    <tr>\n",
       "      <th>dist_sec</th>\n",
       "      <td>2.45312</td>\n",
       "      <td>2.50766</td>\n",
       "      <td>-0.0545398</td>\n",
       "    </tr>\n",
       "    <tr>\n",
       "      <th>fam_n</th>\n",
       "      <td>7.28133</td>\n",
       "      <td>7.30247</td>\n",
       "      <td>-0.0211419</td>\n",
       "    </tr>\n",
       "    <tr>\n",
       "      <th>grc</th>\n",
       "      <td>3.5316</td>\n",
       "      <td>3.54305</td>\n",
       "      <td>-0.0114503</td>\n",
       "    </tr>\n",
       "    <tr>\n",
       "      <th>grc97</th>\n",
       "      <td>3.5316</td>\n",
       "      <td>3.54305</td>\n",
       "      <td>-0.0114503</td>\n",
       "    </tr>\n",
       "    <tr>\n",
       "      <th>hohage</th>\n",
       "      <td>43.6488</td>\n",
       "      <td>44.2769</td>\n",
       "      <td>-0.62809</td>\n",
       "    </tr>\n",
       "    <tr>\n",
       "      <th>hohedu</th>\n",
       "      <td>2.66314</td>\n",
       "      <td>2.59035</td>\n",
       "      <td>0.0727912</td>\n",
       "    </tr>\n",
       "    <tr>\n",
       "      <th>hohsex</th>\n",
       "      <td>0.924656</td>\n",
       "      <td>0.922947</td>\n",
       "      <td>0.00170878</td>\n",
       "    </tr>\n",
       "    <tr>\n",
       "      <th>hohwag</th>\n",
       "      <td>544.34</td>\n",
       "      <td>573.164</td>\n",
       "      <td>-28.824</td>\n",
       "    </tr>\n",
       "    <tr>\n",
       "      <th>indig</th>\n",
       "      <td>0.325986</td>\n",
       "      <td>0.332207</td>\n",
       "      <td>-0.00622198</td>\n",
       "    </tr>\n",
       "    <tr>\n",
       "      <th>min_dist</th>\n",
       "      <td>107.153</td>\n",
       "      <td>103.238</td>\n",
       "      <td>3.91506</td>\n",
       "    </tr>\n",
       "    <tr>\n",
       "      <th>sc</th>\n",
       "      <td>0.822697</td>\n",
       "      <td>0.815186</td>\n",
       "      <td>0.00751088</td>\n",
       "    </tr>\n",
       "    <tr>\n",
       "      <th>sc97</th>\n",
       "      <td>0.822697</td>\n",
       "      <td>0.815186</td>\n",
       "      <td>0.00751088</td>\n",
       "    </tr>\n",
       "    <tr>\n",
       "      <th>sex</th>\n",
       "      <td>0.519317</td>\n",
       "      <td>0.505052</td>\n",
       "      <td>0.0142652</td>\n",
       "    </tr>\n",
       "    <tr>\n",
       "      <th>welfare_index</th>\n",
       "      <td>655.428</td>\n",
       "      <td>659.579</td>\n",
       "      <td>-4.15072</td>\n",
       "    </tr>\n",
       "  </tbody>\n",
       "</table>\n",
       "</div>"
      ],
      "text/plain": [
       "              Average for Treatment Average for Control        Diff\n",
       "age                          10.717              10.742   -0.025032\n",
       "dist_cap                    150.829              153.77    -2.94066\n",
       "dist_sec                    2.45312             2.50766  -0.0545398\n",
       "fam_n                       7.28133             7.30247  -0.0211419\n",
       "grc                          3.5316             3.54305  -0.0114503\n",
       "grc97                        3.5316             3.54305  -0.0114503\n",
       "hohage                      43.6488             44.2769    -0.62809\n",
       "hohedu                      2.66314             2.59035   0.0727912\n",
       "hohsex                     0.924656            0.922947  0.00170878\n",
       "hohwag                       544.34             573.164     -28.824\n",
       "indig                      0.325986            0.332207 -0.00622198\n",
       "min_dist                    107.153             103.238     3.91506\n",
       "sc                         0.822697            0.815186  0.00751088\n",
       "sc97                       0.822697            0.815186  0.00751088\n",
       "sex                        0.519317            0.505052   0.0142652\n",
       "welfare_index               655.428             659.579    -4.15072"
      ]
     },
     "execution_count": 12,
     "metadata": {},
     "output_type": "execute_result"
    }
   ],
   "source": [
    "#We need to create a data frame with the mean values of control and treatment sets\n",
    "#Step 1: creating array of indexes and new column names for the array of\n",
    "index = ['age', 'dist_cap', 'dist_sec', 'fam_n', 'grc', 'grc97', 'hohage',\n",
    "       'hohedu', 'hohsex', 'hohwag', 'indig', 'min_dist', 'sc', 'sc97',\n",
    "       'sex', 'welfare_index']\n",
    "colNames = ['Average for Treatment','Average for Control']\n",
    "\n",
    "# Step 2: creating a data frame with the indexes and column names that we want\n",
    "TreatControl_Mean = pd.DataFrame(index = index, columns = colNames)\n",
    "\n",
    "# Step 3: calculating means and filling the data frame\n",
    "for i in range(16):\n",
    "    TreatControl_Mean['Average for Treatment'][i] = ProgresaTreat.mean()[i]\n",
    "    TreatControl_Mean['Average for Control'][i] = ProgresaControl.mean()[i]\n",
    "    \n",
    "# Step 4: Calculating the difference in the values:\n",
    "TreatControl_Mean['Diff'] = TreatControl_Mean['Average for Treatment'] - TreatControl_Mean['Average for Control']\n",
    "\n",
    "# Displaying the results of operations thus far\n",
    "TreatControl_Mean"
   ]
  },
  {
   "cell_type": "code",
   "execution_count": 13,
   "metadata": {
    "collapsed": true
   },
   "outputs": [],
   "source": [
    "#Step 5: Since we need to perform t-test, creating a col for p-value\n",
    "TreatControl_Mean['pVal']=\"\"\n",
    "\n",
    "#Step 6: carrying out the ttest and then inserting the pvalues in the table of averages\n",
    "for i in index:   \n",
    "    TreatControl_Mean['pVal'][i] = scipy.stats.ttest_ind(ProgresaControl[i].dropna(),ProgresaTreat[i].dropna())[1]"
   ]
  },
  {
   "cell_type": "code",
   "execution_count": 14,
   "metadata": {},
   "outputs": [
    {
     "data": {
      "text/html": [
       "<div>\n",
       "<table border=\"1\" class=\"dataframe\">\n",
       "  <thead>\n",
       "    <tr style=\"text-align: right;\">\n",
       "      <th></th>\n",
       "      <th>Average for Treatment</th>\n",
       "      <th>Average for Control</th>\n",
       "      <th>Diff</th>\n",
       "      <th>pVal</th>\n",
       "    </tr>\n",
       "  </thead>\n",
       "  <tbody>\n",
       "    <tr>\n",
       "      <th>age</th>\n",
       "      <td>10.717</td>\n",
       "      <td>10.742</td>\n",
       "      <td>-0.025032</td>\n",
       "      <td>0.478559</td>\n",
       "    </tr>\n",
       "    <tr>\n",
       "      <th>dist_cap</th>\n",
       "      <td>150.829</td>\n",
       "      <td>153.77</td>\n",
       "      <td>-2.94066</td>\n",
       "      <td>0.000841501</td>\n",
       "    </tr>\n",
       "    <tr>\n",
       "      <th>dist_sec</th>\n",
       "      <td>2.45312</td>\n",
       "      <td>2.50766</td>\n",
       "      <td>-0.0545398</td>\n",
       "      <td>0.0356984</td>\n",
       "    </tr>\n",
       "    <tr>\n",
       "      <th>fam_n</th>\n",
       "      <td>7.28133</td>\n",
       "      <td>7.30247</td>\n",
       "      <td>-0.0211419</td>\n",
       "      <td>0.427104</td>\n",
       "    </tr>\n",
       "    <tr>\n",
       "      <th>grc</th>\n",
       "      <td>3.5316</td>\n",
       "      <td>3.54305</td>\n",
       "      <td>-0.0114503</td>\n",
       "      <td>0.689015</td>\n",
       "    </tr>\n",
       "    <tr>\n",
       "      <th>grc97</th>\n",
       "      <td>3.5316</td>\n",
       "      <td>3.54305</td>\n",
       "      <td>-0.0114503</td>\n",
       "      <td>0.689015</td>\n",
       "    </tr>\n",
       "    <tr>\n",
       "      <th>hohage</th>\n",
       "      <td>43.6488</td>\n",
       "      <td>44.2769</td>\n",
       "      <td>-0.62809</td>\n",
       "      <td>1.79624e-06</td>\n",
       "    </tr>\n",
       "    <tr>\n",
       "      <th>hohedu</th>\n",
       "      <td>2.66314</td>\n",
       "      <td>2.59035</td>\n",
       "      <td>0.0727912</td>\n",
       "      <td>0.0110509</td>\n",
       "    </tr>\n",
       "    <tr>\n",
       "      <th>hohsex</th>\n",
       "      <td>0.924656</td>\n",
       "      <td>0.922947</td>\n",
       "      <td>0.00170878</td>\n",
       "      <td>0.571186</td>\n",
       "    </tr>\n",
       "    <tr>\n",
       "      <th>hohwag</th>\n",
       "      <td>544.34</td>\n",
       "      <td>573.164</td>\n",
       "      <td>-28.824</td>\n",
       "      <td>0.000325384</td>\n",
       "    </tr>\n",
       "    <tr>\n",
       "      <th>indig</th>\n",
       "      <td>0.325986</td>\n",
       "      <td>0.332207</td>\n",
       "      <td>-0.00622198</td>\n",
       "      <td>0.24536</td>\n",
       "    </tr>\n",
       "    <tr>\n",
       "      <th>min_dist</th>\n",
       "      <td>107.153</td>\n",
       "      <td>103.238</td>\n",
       "      <td>3.91506</td>\n",
       "      <td>2.35831e-16</td>\n",
       "    </tr>\n",
       "    <tr>\n",
       "      <th>sc</th>\n",
       "      <td>0.822697</td>\n",
       "      <td>0.815186</td>\n",
       "      <td>0.00751088</td>\n",
       "      <td>0.0951781</td>\n",
       "    </tr>\n",
       "    <tr>\n",
       "      <th>sc97</th>\n",
       "      <td>0.822697</td>\n",
       "      <td>0.815186</td>\n",
       "      <td>0.00751088</td>\n",
       "      <td>0.0951781</td>\n",
       "    </tr>\n",
       "    <tr>\n",
       "      <th>sex</th>\n",
       "      <td>0.519317</td>\n",
       "      <td>0.505052</td>\n",
       "      <td>0.0142652</td>\n",
       "      <td>0.0121917</td>\n",
       "    </tr>\n",
       "    <tr>\n",
       "      <th>welfare_index</th>\n",
       "      <td>655.428</td>\n",
       "      <td>659.579</td>\n",
       "      <td>-4.15072</td>\n",
       "      <td>0.00143102</td>\n",
       "    </tr>\n",
       "  </tbody>\n",
       "</table>\n",
       "</div>"
      ],
      "text/plain": [
       "              Average for Treatment Average for Control        Diff  \\\n",
       "age                          10.717              10.742   -0.025032   \n",
       "dist_cap                    150.829              153.77    -2.94066   \n",
       "dist_sec                    2.45312             2.50766  -0.0545398   \n",
       "fam_n                       7.28133             7.30247  -0.0211419   \n",
       "grc                          3.5316             3.54305  -0.0114503   \n",
       "grc97                        3.5316             3.54305  -0.0114503   \n",
       "hohage                      43.6488             44.2769    -0.62809   \n",
       "hohedu                      2.66314             2.59035   0.0727912   \n",
       "hohsex                     0.924656            0.922947  0.00170878   \n",
       "hohwag                       544.34             573.164     -28.824   \n",
       "indig                      0.325986            0.332207 -0.00622198   \n",
       "min_dist                    107.153             103.238     3.91506   \n",
       "sc                         0.822697            0.815186  0.00751088   \n",
       "sc97                       0.822697            0.815186  0.00751088   \n",
       "sex                        0.519317            0.505052   0.0142652   \n",
       "welfare_index               655.428             659.579    -4.15072   \n",
       "\n",
       "                      pVal  \n",
       "age               0.478559  \n",
       "dist_cap       0.000841501  \n",
       "dist_sec         0.0356984  \n",
       "fam_n             0.427104  \n",
       "grc               0.689015  \n",
       "grc97             0.689015  \n",
       "hohage         1.79624e-06  \n",
       "hohedu           0.0110509  \n",
       "hohsex            0.571186  \n",
       "hohwag         0.000325384  \n",
       "indig              0.24536  \n",
       "min_dist       2.35831e-16  \n",
       "sc               0.0951781  \n",
       "sc97             0.0951781  \n",
       "sex              0.0121917  \n",
       "welfare_index   0.00143102  "
      ]
     },
     "execution_count": 14,
     "metadata": {},
     "output_type": "execute_result"
    }
   ],
   "source": [
    "# Displaying the table\n",
    "TreatControl_Mean"
   ]
  },
  {
   "cell_type": "markdown",
   "metadata": {
    "ein.tags": [
     "worksheet-0"
    ],
    "slideshow": {
     "slide_type": "-"
    }
   },
   "source": [
    "### 1.3 Interpretation\n",
    "\n",
    "* A: Are there statistically significant differences between treatment and control villages as baseline? \n",
    "* B: Why does it matter if there are differences at baseline?\n",
    "* C: What does this imply about how to measure the impact of the treatment?"
   ]
  },
  {
   "cell_type": "markdown",
   "metadata": {
    "autoscroll": "json-false",
    "ein.tags": [
     "worksheet-0"
    ],
    "slideshow": {
     "slide_type": "-"
    }
   },
   "source": [
    "A: Are there statistically significant differences between treatment and control villages as baseline? \n",
    "Answer: There are 7 variables with statiscally significant p values. So we can say that there differences are significant.\n",
    "\n",
    "B: Why does it matter if there are differences at baseline?\n",
    "Answer: These differences would mean that the two groups, i.e. difference and control, are different. Also,\n",
    "there could be unobserved factors involved as far as the intervention is concerned.\n",
    "\n",
    "C: What does this imply about how to measure the impact of the treatment?\n",
    "Answer: The parameters that have statically significant impact should not be accounted for in the final analysis as that would\n",
    "skew the results."
   ]
  },
  {
   "cell_type": "markdown",
   "metadata": {
    "ein.tags": [
     "worksheet-0"
    ],
    "slideshow": {
     "slide_type": "-"
    }
   },
   "source": [
    "### 1.4 Graphical exploration, part 1\n",
    "\n",
    "For each level of household head education, compute the average enrollment rate in 1997. Create a scatterplot that shows this relationship. What do you notice?"
   ]
  },
  {
   "cell_type": "code",
   "execution_count": 17,
   "metadata": {
    "autoscroll": "json-false",
    "ein.tags": [
     "worksheet-0"
    ],
    "slideshow": {
     "slide_type": "-"
    }
   },
   "outputs": [
    {
     "data": {
      "image/png": "[encoded data removed]",
      "text/plain": [
       "<matplotlib.figure.Figure at 0x731173cf98>"
      ]
     },
     "metadata": {},
     "output_type": "display_data"
    }
   ],
   "source": [
    "#Step 1: grouping by househoild head education level and creating a mean\n",
    "ProgresaEducation = ProgresaMaster.groupby(\"hohedu\", as_index=False).mean()\n",
    "\n",
    "#Step 2: plotting average enrollment for each household level\n",
    "plt.scatter(ProgresaEducation[\"hohedu\"],ProgresaEducation[\"sc97\"],color='r')\n",
    "plt.xlabel(\"Household Head Education Level\")\n",
    "plt.ylabel(\"Average Enrollment Rate(1997)\")\n",
    "plt.title( 'Education Level VS Average Enrollment')\n",
    "plt.grid(color='b', alpha=0.5, linestyle='dashed', linewidth=0.5)\n",
    "plt.show()"
   ]
  },
  {
   "cell_type": "markdown",
   "metadata": {},
   "source": [
    "### Analysis:\n",
    "1. We can see that the Average Enrollment rate increases as the household head eduacation level increases from 0 to 9.\n",
    "2. It drops at level 10,after which it picks back up.\n",
    "3. The enrollemnt rate post this point varies quite a bit. \n",
    "4. There is an outlier at level 20, with lowest enrollment rate of 0.5 which is quite surprising."
   ]
  },
  {
   "cell_type": "markdown",
   "metadata": {
    "ein.tags": [
     "worksheet-0"
    ],
    "slideshow": {
     "slide_type": "-"
    }
   },
   "source": [
    "### 1.5 Graphical exploration, part 2\n",
    "\n",
    "Create a histogram of village enrollment rates **among poor households in treated villages**, before and after treatment. Specifically, for each village, calculate the average rate of enrollment of poor households in treated villages in 1997, then compute the average rate of enrollment of poor households in treated villages in 1998. Create two separate histograms showing the distribution of these average enrollments rates, one histogram for 1997 and one histogram for 1998. On each histogram, draw a vertical line that intersects the x-axis at the average value (across all households).\n",
    "* Does there appear to be a difference? Is this difference statistically significant?\n",
    "* Which D estimator in Schultz (2004) does this approach correspond to?"
   ]
  },
  {
   "cell_type": "code",
   "execution_count": 18,
   "metadata": {
    "autoscroll": "json-false",
    "ein.tags": [
     "worksheet-0"
    ],
    "slideshow": {
     "slide_type": "-"
    }
   },
   "outputs": [],
   "source": [
    "#Step 1: Selecting the households that fall in 'poor' and 'basal'\n",
    "ProgresaPoorBasal = ProgresaMaster[(ProgresaMaster['poor']=='pobre') & (ProgresaMaster['progresa']== 'basal')]\n",
    "\n",
    "# Step 1.1 : creating Pre and post Treatment groups\n",
    "ProgresaPreTreatment = ProgresaPoorBasal[ProgresaPoorBasal['year'] == 97]\n",
    "ProgresaPostTreatment = ProgresaPoorBasal[ProgresaPoorBasal['year'] == 98]\n",
    "\n",
    "#Step 2: Grouping data by villages and aggregating by mean\n",
    "ProgresaVillagePre  = ProgresaPreTreatment.groupby('village', as_index=False).mean()\n",
    "ProgresaVillagePost = ProgresaPostTreatment.groupby('village',as_index=False).mean()"
   ]
  },
  {
   "cell_type": "code",
   "execution_count": 19,
   "metadata": {},
   "outputs": [
    {
     "data": {
      "text/plain": [
       "<matplotlib.lines.Line2D at 0x73117818d0>"
      ]
     },
     "execution_count": 19,
     "metadata": {},
     "output_type": "execute_result"
    },
    {
     "data": {
      "image/png": "[encoded data removed]",
      "text/plain": [
       "<matplotlib.figure.Figure at 0x7311781898>"
      ]
     },
     "metadata": {},
     "output_type": "display_data"
    }
   ],
   "source": [
    "#Step 3: Plotting histogram for pre\n",
    "plt.hist(ProgresaVillagePre['sc'],alpha = 0.7, color = 'c')\n",
    "plt.axvline(ProgresaVillagePre['sc'].mean(),color='k')"
   ]
  },
  {
   "cell_type": "code",
   "execution_count": 20,
   "metadata": {},
   "outputs": [
    {
     "data": {
      "text/plain": [
       "<matplotlib.lines.Line2D at 0x7315dd0978>"
      ]
     },
     "execution_count": 20,
     "metadata": {},
     "output_type": "execute_result"
    },
    {
     "data": {
      "image/png": "[encoded data removed]",
      "text/plain": [
       "<matplotlib.figure.Figure at 0x7315dd0940>"
      ]
     },
     "metadata": {},
     "output_type": "display_data"
    }
   ],
   "source": [
    "#Step 4: Plotting Histogram for post\n",
    "plt.hist(ProgresaVillagePost['sc'],alpha = 0.7, color = 'g')\n",
    "plt.axvline(ProgresaVillagePost['sc'].mean(),color='k')"
   ]
  },
  {
   "cell_type": "code",
   "execution_count": 21,
   "metadata": {},
   "outputs": [
    {
     "data": {
      "text/plain": [
       "0.0156967932034231"
      ]
     },
     "execution_count": 21,
     "metadata": {},
     "output_type": "execute_result"
    }
   ],
   "source": [
    "# Step 5: Calculating the difference in means\n",
    "ProgresaVillagePost['sc'].mean() - ProgresaVillagePre['sc'].mean()"
   ]
  },
  {
   "cell_type": "code",
   "execution_count": 22,
   "metadata": {},
   "outputs": [
    {
     "data": {
      "text/plain": [
       "Ttest_indResult(statistic=2.0157134865156379, pvalue=0.04424870036572115)"
      ]
     },
     "execution_count": 22,
     "metadata": {},
     "output_type": "execute_result"
    }
   ],
   "source": [
    "# Step 6: calculating statistical significance\n",
    "scipy.stats.ttest_ind(ProgresaVillagePost['sc'], ProgresaVillagePre['sc'])"
   ]
  },
  {
   "cell_type": "markdown",
   "metadata": {},
   "source": [
    "### Analysis:\n",
    "1. So there is a statistically significant difference in the mean values.\n",
    "2. This corresponds to D-estimator D1."
   ]
  },
  {
   "cell_type": "markdown",
   "metadata": {
    "ein.tags": [
     "worksheet-0"
    ],
    "slideshow": {
     "slide_type": "-"
    }
   },
   "source": [
    "## Part 2: Measuring Impact\n",
    "\n",
    "### 2.1 Simple differences: T-test\n",
    "\n",
    "Start out by estimating the impact of Progresa using \"simple differences.\" Restricting yourself to data from 1998 (after treatment).\n",
    "* calculate the average enrollment rate among **poor** households in the Treatment villages and the average enrollment rate among **poor** households in the control villages.\n",
    "* Which difference estimator in Schultz (2004) does this approach correspond to?\n",
    "* Use a t-test to determine if this difference is statistically significant. What do you conclude?"
   ]
  },
  {
   "cell_type": "code",
   "execution_count": 25,
   "metadata": {
    "autoscroll": "json-false",
    "ein.tags": [
     "worksheet-0"
    ],
    "slideshow": {
     "slide_type": "-"
    }
   },
   "outputs": [],
   "source": [
    "# Cleaning the data and creating relevant data sets\n",
    "Progresa98 = ProgresaMaster[ProgresaMaster['year'] == 98]\n",
    "Progresa98Control = Progresa98[Progresa98['progresa'] == '0']\n",
    "Progresa98ControlPoor = Progresa98Control[Progresa98Control['poor'] == 'pobre']\n",
    "Progresa98Treat = Progresa98[Progresa98['progresa'] == 'basal']\n",
    "Progresa98TreatPoor = Progresa98Treat[Progresa98Treat['poor'] == 'pobre']\n",
    "Progresa98Poor = Progresa98[Progresa98['poor'] == 'pobre']"
   ]
  },
  {
   "cell_type": "code",
   "execution_count": 26,
   "metadata": {},
   "outputs": [
    {
     "data": {
      "text/plain": [
       "0.8464791213954308"
      ]
     },
     "execution_count": 26,
     "metadata": {},
     "output_type": "execute_result"
    }
   ],
   "source": [
    "# Calculating average enrollment rate in treatment houses\n",
    "Progresa98TreatPoor['sc'].mean()"
   ]
  },
  {
   "cell_type": "code",
   "execution_count": 27,
   "metadata": {},
   "outputs": [
    {
     "data": {
      "text/plain": [
       "0.807636956730308"
      ]
     },
     "execution_count": 27,
     "metadata": {},
     "output_type": "execute_result"
    }
   ],
   "source": [
    "# Calculating average enrollment rate in Control houses\n",
    "Progresa98ControlPoor['sc'].mean()"
   ]
  },
  {
   "cell_type": "code",
   "execution_count": 24,
   "metadata": {},
   "outputs": [
    {
     "data": {
      "text/plain": [
       "Ttest_indResult(statistic=8.3587205674183735, pvalue=6.636344447523235e-17)"
      ]
     },
     "execution_count": 24,
     "metadata": {},
     "output_type": "execute_result"
    }
   ],
   "source": [
    "# Performing T test on out data\n",
    "scipy.stats.ttest_ind(Progresa98TreatPoor['sc'].dropna(), Progresa98ControlPoor['sc'].dropna())"
   ]
  },
  {
   "cell_type": "markdown",
   "metadata": {},
   "source": [
    "### Analysis:\n",
    "1. The null hypothesis here would be that average enrollment for both groups is same. Since p value  \n",
    "    is statistically significant and lower than 0.05, we can say that it is safe to reject null hypotheis.\n",
    "    \n",
    "2. The average enrollment rate in Treatment houses is 0.84. The average enrollment rate in control is 0.80.\n",
    "\n",
    "3. This approaches the difference estimator D1."
   ]
  },
  {
   "cell_type": "markdown",
   "metadata": {
    "ein.tags": [
     "worksheet-0"
    ],
    "slideshow": {
     "slide_type": "-"
    }
   },
   "source": [
    "### 2.2 Simple differences: Regression\n",
    "\n",
    "Estimate the effects of Progresa on enrollment using a regression model, by regressing the 1998 enrollment rates **of the poor** on treatment assignment. Discuss the following:\n",
    "\n",
    "* Based on this model, how much did Progresa increase the likelihood of a child enrolling?\n",
    "* How does your regression estimate compare to your t-test estimate from part 2.1?\n",
    "* Based on this regression model, can we reject the null hypothesis that the treatment effects are zero? \n",
    "* What is the counterfactual assumption underlying this regression?"
   ]
  },
  {
   "cell_type": "code",
   "execution_count": 29,
   "metadata": {
    "autoscroll": "json-false",
    "ein.tags": [
     "worksheet-0"
    ],
    "slideshow": {
     "slide_type": "-"
    }
   },
   "outputs": [
    {
     "data": {
      "text/html": [
       "<table class=\"simpletable\">\n",
       "<caption>OLS Regression Results</caption>\n",
       "<tr>\n",
       "  <th>Dep. Variable:</th>           <td>sc</td>        <th>  R-squared:         </th> <td>   0.003</td> \n",
       "</tr>\n",
       "<tr>\n",
       "  <th>Model:</th>                   <td>OLS</td>       <th>  Adj. R-squared:    </th> <td>   0.003</td> \n",
       "</tr>\n",
       "<tr>\n",
       "  <th>Method:</th>             <td>Least Squares</td>  <th>  F-statistic:       </th> <td>   69.87</td> \n",
       "</tr>\n",
       "<tr>\n",
       "  <th>Date:</th>             <td>Wed, 25 Jan 2017</td> <th>  Prob (F-statistic):</th> <td>6.64e-17</td> \n",
       "</tr>\n",
       "<tr>\n",
       "  <th>Time:</th>                 <td>22:06:56</td>     <th>  Log-Likelihood:    </th> <td> -11926.</td> \n",
       "</tr>\n",
       "<tr>\n",
       "  <th>No. Observations:</th>      <td> 27450</td>      <th>  AIC:               </th> <td>2.386e+04</td>\n",
       "</tr>\n",
       "<tr>\n",
       "  <th>Df Residuals:</th>          <td> 27448</td>      <th>  BIC:               </th> <td>2.387e+04</td>\n",
       "</tr>\n",
       "<tr>\n",
       "  <th>Df Model:</th>              <td>     1</td>      <th>                     </th>     <td> </td>    \n",
       "</tr>\n",
       "<tr>\n",
       "  <th>Covariance Type:</th>      <td>nonrobust</td>    <th>                     </th>     <td> </td>    \n",
       "</tr>\n",
       "</table>\n",
       "<table class=\"simpletable\">\n",
       "<tr>\n",
       "          <td></td>             <th>coef</th>     <th>std err</th>      <th>t</th>      <th>P>|t|</th> <th>[95.0% Conf. Int.]</th> \n",
       "</tr>\n",
       "<tr>\n",
       "  <th>Intercept</th>         <td>    0.8076</td> <td>    0.004</td> <td>  220.676</td> <td> 0.000</td> <td>    0.800     0.815</td>\n",
       "</tr>\n",
       "<tr>\n",
       "  <th>progresa[T.basal]</th> <td>    0.0388</td> <td>    0.005</td> <td>    8.359</td> <td> 0.000</td> <td>    0.030     0.048</td>\n",
       "</tr>\n",
       "</table>\n",
       "<table class=\"simpletable\">\n",
       "<tr>\n",
       "  <th>Omnibus:</th>       <td>7638.939</td> <th>  Durbin-Watson:     </th> <td>   1.734</td> \n",
       "</tr>\n",
       "<tr>\n",
       "  <th>Prob(Omnibus):</th>  <td> 0.000</td>  <th>  Jarque-Bera (JB):  </th> <td>15767.534</td>\n",
       "</tr>\n",
       "<tr>\n",
       "  <th>Skew:</th>           <td>-1.767</td>  <th>  Prob(JB):          </th> <td>    0.00</td> \n",
       "</tr>\n",
       "<tr>\n",
       "  <th>Kurtosis:</th>       <td> 4.140</td>  <th>  Cond. No.          </th> <td>    3.01</td> \n",
       "</tr>\n",
       "</table>"
      ],
      "text/plain": [
       "<class 'statsmodels.iolib.summary.Summary'>\n",
       "\"\"\"\n",
       "                            OLS Regression Results                            \n",
       "==============================================================================\n",
       "Dep. Variable:                     sc   R-squared:                       0.003\n",
       "Model:                            OLS   Adj. R-squared:                  0.003\n",
       "Method:                 Least Squares   F-statistic:                     69.87\n",
       "Date:                Wed, 25 Jan 2017   Prob (F-statistic):           6.64e-17\n",
       "Time:                        22:06:56   Log-Likelihood:                -11926.\n",
       "No. Observations:               27450   AIC:                         2.386e+04\n",
       "Df Residuals:                   27448   BIC:                         2.387e+04\n",
       "Df Model:                           1                                         \n",
       "Covariance Type:            nonrobust                                         \n",
       "=====================================================================================\n",
       "                        coef    std err          t      P>|t|      [95.0% Conf. Int.]\n",
       "-------------------------------------------------------------------------------------\n",
       "Intercept             0.8076      0.004    220.676      0.000         0.800     0.815\n",
       "progresa[T.basal]     0.0388      0.005      8.359      0.000         0.030     0.048\n",
       "==============================================================================\n",
       "Omnibus:                     7638.939   Durbin-Watson:                   1.734\n",
       "Prob(Omnibus):                  0.000   Jarque-Bera (JB):            15767.534\n",
       "Skew:                          -1.767   Prob(JB):                         0.00\n",
       "Kurtosis:                       4.140   Cond. No.                         3.01\n",
       "==============================================================================\n",
       "\n",
       "Warnings:\n",
       "[1] Standard Errors assume that the covariance matrix of the errors is correctly specified.\n",
       "\"\"\""
      ]
     },
     "execution_count": 29,
     "metadata": {},
     "output_type": "execute_result"
    }
   ],
   "source": [
    "# importing the statsmodel library\n",
    "import statsmodels.formula.api as smf\n",
    "\n",
    "#Creating regression model based of ordinary least squares\n",
    "Model_lm = smf.ols(formula='sc ~ progresa',data=Progresa98Poor).fit()\n",
    "\n",
    "#Summarizing the model\n",
    "Model_lm.summary()"
   ]
  },
  {
   "cell_type": "markdown",
   "metadata": {},
   "source": [
    "Question 1:Based on this model, how much did Progresa increase the likelihood of a child enrolling?\n",
    "Answer: Progresa's coeff is 0.0388. This is a likelihood that a unit increase in progresa will increase the likehood of\n",
    "child enrollemnt by 3.88%\n",
    "\n",
    "Questions 2: How does your regression estimate compare to your t-test estimate from part 2.1?\n",
    "Answer: The p value for the t-test and regression are same. Also, the difference in means for t-test is same as coeff in regression i.e. 0.0388.\n",
    "\n",
    "Question 3: Based on this regression model, can we reject the null hypothesis that the treatment effects are zero?\n",
    "Answer: The p-value here is statistically significant, so we cannot reject null hypothesis.\n",
    "\n",
    "\n",
    "Question 4: What is the counterfactual assumption underlying this regression?\n",
    "Answer: The assumption is that enrollement increased in 1998. The counterfactual assumption, or the alternate assumption, would be that there was no increase in enrollment over the previous year."
   ]
  },
  {
   "cell_type": "markdown",
   "metadata": {
    "ein.tags": [
     "worksheet-0"
    ],
    "slideshow": {
     "slide_type": "-"
    }
   },
   "source": [
    "### 2.3 Multiple Regression\n",
    "\n",
    "Re-run the above regression estimated but this time include a set of control variables. Include, for instance, age, distance to a secondary school, gender, education of household head, indigenous, etc.\n",
    "\n",
    "* How do the controls affect the point estimate of treatment effect?\n",
    "* How do the controls affect the standard error on the treatment effect? \n",
    "* How do you interpret the differences (or similarities) between your estimates of 2.2 and 2.3?"
   ]
  },
  {
   "cell_type": "code",
   "execution_count": 34,
   "metadata": {
    "autoscroll": "json-false",
    "ein.tags": [
     "worksheet-0"
    ],
    "slideshow": {
     "slide_type": "-"
    }
   },
   "outputs": [],
   "source": [
    "# Creating Mulitple linear regressions model\n",
    "Model_Mlm = smf.ols(formula='sc ~ progresa + age + dist_sec + sex + hohedu + welfare_index + hohsex +indig + grc97 + fam_n + min_dist + dist_cap + hohwag + hohsex + hohage', \n",
    "data = Progresa98Poor).fit()"
   ]
  },
  {
   "cell_type": "code",
   "execution_count": 35,
   "metadata": {},
   "outputs": [
    {
     "data": {
      "text/html": [
       "<table class=\"simpletable\">\n",
       "<caption>OLS Regression Results</caption>\n",
       "<tr>\n",
       "  <th>Dep. Variable:</th>           <td>sc</td>        <th>  R-squared:         </th> <td>   0.280</td> \n",
       "</tr>\n",
       "<tr>\n",
       "  <th>Model:</th>                   <td>OLS</td>       <th>  Adj. R-squared:    </th> <td>   0.280</td> \n",
       "</tr>\n",
       "<tr>\n",
       "  <th>Method:</th>             <td>Least Squares</td>  <th>  F-statistic:       </th> <td>   757.4</td> \n",
       "</tr>\n",
       "<tr>\n",
       "  <th>Date:</th>             <td>Thu, 26 Jan 2017</td> <th>  Prob (F-statistic):</th>  <td>  0.00</td>  \n",
       "</tr>\n",
       "<tr>\n",
       "  <th>Time:</th>                 <td>20:08:04</td>     <th>  Log-Likelihood:    </th> <td> -7390.0</td> \n",
       "</tr>\n",
       "<tr>\n",
       "  <th>No. Observations:</th>      <td> 27260</td>      <th>  AIC:               </th> <td>1.481e+04</td>\n",
       "</tr>\n",
       "<tr>\n",
       "  <th>Df Residuals:</th>          <td> 27245</td>      <th>  BIC:               </th> <td>1.493e+04</td>\n",
       "</tr>\n",
       "<tr>\n",
       "  <th>Df Model:</th>              <td>    14</td>      <th>                     </th>     <td> </td>    \n",
       "</tr>\n",
       "<tr>\n",
       "  <th>Covariance Type:</th>      <td>nonrobust</td>    <th>                     </th>     <td> </td>    \n",
       "</tr>\n",
       "</table>\n",
       "<table class=\"simpletable\">\n",
       "<tr>\n",
       "          <td></td>             <th>coef</th>     <th>std err</th>      <th>t</th>      <th>P>|t|</th> <th>[95.0% Conf. Int.]</th> \n",
       "</tr>\n",
       "<tr>\n",
       "  <th>Intercept</th>         <td>    1.5656</td> <td>    0.020</td> <td>   76.972</td> <td> 0.000</td> <td>    1.526     1.605</td>\n",
       "</tr>\n",
       "<tr>\n",
       "  <th>progresa[T.basal]</th> <td>    0.0336</td> <td>    0.004</td> <td>    8.425</td> <td> 0.000</td> <td>    0.026     0.041</td>\n",
       "</tr>\n",
       "<tr>\n",
       "  <th>age</th>               <td>   -0.0832</td> <td>    0.001</td> <td>  -67.928</td> <td> 0.000</td> <td>   -0.086    -0.081</td>\n",
       "</tr>\n",
       "<tr>\n",
       "  <th>dist_sec</th>          <td>   -0.0087</td> <td>    0.001</td> <td>   -9.829</td> <td> 0.000</td> <td>   -0.010    -0.007</td>\n",
       "</tr>\n",
       "<tr>\n",
       "  <th>sex</th>               <td>    0.0325</td> <td>    0.004</td> <td>    8.437</td> <td> 0.000</td> <td>    0.025     0.040</td>\n",
       "</tr>\n",
       "<tr>\n",
       "  <th>hohedu</th>            <td>    0.0059</td> <td>    0.001</td> <td>    6.803</td> <td> 0.000</td> <td>    0.004     0.008</td>\n",
       "</tr>\n",
       "<tr>\n",
       "  <th>welfare_index</th>     <td> 3.269e-06</td> <td> 1.82e-05</td> <td>    0.180</td> <td> 0.857</td> <td>-3.23e-05  3.89e-05</td>\n",
       "</tr>\n",
       "<tr>\n",
       "  <th>hohsex</th>            <td>    0.0075</td> <td>    0.008</td> <td>    0.978</td> <td> 0.328</td> <td>   -0.008     0.023</td>\n",
       "</tr>\n",
       "<tr>\n",
       "  <th>indig</th>             <td>    0.0243</td> <td>    0.005</td> <td>    5.146</td> <td> 0.000</td> <td>    0.015     0.034</td>\n",
       "</tr>\n",
       "<tr>\n",
       "  <th>grc97</th>             <td>    0.0255</td> <td>    0.001</td> <td>   17.312</td> <td> 0.000</td> <td>    0.023     0.028</td>\n",
       "</tr>\n",
       "<tr>\n",
       "  <th>fam_n</th>             <td>    0.0007</td> <td>    0.001</td> <td>    0.834</td> <td> 0.404</td> <td>   -0.001     0.002</td>\n",
       "</tr>\n",
       "<tr>\n",
       "  <th>min_dist</th>          <td>    0.0004</td> <td> 6.31e-05</td> <td>    6.221</td> <td> 0.000</td> <td>    0.000     0.001</td>\n",
       "</tr>\n",
       "<tr>\n",
       "  <th>dist_cap</th>          <td>    0.0002</td> <td> 3.68e-05</td> <td>    5.369</td> <td> 0.000</td> <td>    0.000     0.000</td>\n",
       "</tr>\n",
       "<tr>\n",
       "  <th>hohwag</th>            <td>-1.325e-06</td> <td> 2.81e-06</td> <td>   -0.471</td> <td> 0.638</td> <td>-6.84e-06  4.19e-06</td>\n",
       "</tr>\n",
       "<tr>\n",
       "  <th>hohage</th>            <td>   -0.0002</td> <td>    0.000</td> <td>   -0.780</td> <td> 0.435</td> <td>   -0.001     0.000</td>\n",
       "</tr>\n",
       "</table>\n",
       "<table class=\"simpletable\">\n",
       "<tr>\n",
       "  <th>Omnibus:</th>       <td>3066.652</td> <th>  Durbin-Watson:     </th> <td>   1.730</td>\n",
       "</tr>\n",
       "<tr>\n",
       "  <th>Prob(Omnibus):</th>  <td> 0.000</td>  <th>  Jarque-Bera (JB):  </th> <td>4200.446</td>\n",
       "</tr>\n",
       "<tr>\n",
       "  <th>Skew:</th>           <td>-0.943</td>  <th>  Prob(JB):          </th> <td>    0.00</td>\n",
       "</tr>\n",
       "<tr>\n",
       "  <th>Kurtosis:</th>       <td> 3.371</td>  <th>  Cond. No.          </th> <td>1.10e+04</td>\n",
       "</tr>\n",
       "</table>"
      ],
      "text/plain": [
       "<class 'statsmodels.iolib.summary.Summary'>\n",
       "\"\"\"\n",
       "                            OLS Regression Results                            \n",
       "==============================================================================\n",
       "Dep. Variable:                     sc   R-squared:                       0.280\n",
       "Model:                            OLS   Adj. R-squared:                  0.280\n",
       "Method:                 Least Squares   F-statistic:                     757.4\n",
       "Date:                Thu, 26 Jan 2017   Prob (F-statistic):               0.00\n",
       "Time:                        20:08:04   Log-Likelihood:                -7390.0\n",
       "No. Observations:               27260   AIC:                         1.481e+04\n",
       "Df Residuals:                   27245   BIC:                         1.493e+04\n",
       "Df Model:                          14                                         \n",
       "Covariance Type:            nonrobust                                         \n",
       "=====================================================================================\n",
       "                        coef    std err          t      P>|t|      [95.0% Conf. Int.]\n",
       "-------------------------------------------------------------------------------------\n",
       "Intercept             1.5656      0.020     76.972      0.000         1.526     1.605\n",
       "progresa[T.basal]     0.0336      0.004      8.425      0.000         0.026     0.041\n",
       "age                  -0.0832      0.001    -67.928      0.000        -0.086    -0.081\n",
       "dist_sec             -0.0087      0.001     -9.829      0.000        -0.010    -0.007\n",
       "sex                   0.0325      0.004      8.437      0.000         0.025     0.040\n",
       "hohedu                0.0059      0.001      6.803      0.000         0.004     0.008\n",
       "welfare_index      3.269e-06   1.82e-05      0.180      0.857     -3.23e-05  3.89e-05\n",
       "hohsex                0.0075      0.008      0.978      0.328        -0.008     0.023\n",
       "indig                 0.0243      0.005      5.146      0.000         0.015     0.034\n",
       "grc97                 0.0255      0.001     17.312      0.000         0.023     0.028\n",
       "fam_n                 0.0007      0.001      0.834      0.404        -0.001     0.002\n",
       "min_dist              0.0004   6.31e-05      6.221      0.000         0.000     0.001\n",
       "dist_cap              0.0002   3.68e-05      5.369      0.000         0.000     0.000\n",
       "hohwag            -1.325e-06   2.81e-06     -0.471      0.638     -6.84e-06  4.19e-06\n",
       "hohage               -0.0002      0.000     -0.780      0.435        -0.001     0.000\n",
       "==============================================================================\n",
       "Omnibus:                     3066.652   Durbin-Watson:                   1.730\n",
       "Prob(Omnibus):                  0.000   Jarque-Bera (JB):             4200.446\n",
       "Skew:                          -0.943   Prob(JB):                         0.00\n",
       "Kurtosis:                       3.371   Cond. No.                     1.10e+04\n",
       "==============================================================================\n",
       "\n",
       "Warnings:\n",
       "[1] Standard Errors assume that the covariance matrix of the errors is correctly specified.\n",
       "[2] The condition number is large, 1.1e+04. This might indicate that there are\n",
       "strong multicollinearity or other numerical problems.\n",
       "\"\"\""
      ]
     },
     "execution_count": 35,
     "metadata": {},
     "output_type": "execute_result"
    }
   ],
   "source": [
    "# Summarizing\n",
    "Model_Mlm.summary()"
   ]
  },
  {
   "cell_type": "markdown",
   "metadata": {},
   "source": [
    "Question 1: How do the controls affect the point estimate of treatment effect?\n",
    "Answer: Earlier, the coeff of progresa was 0.0338 whereas now it is 0.0336, which means that it has decreased after\n",
    "introduction of controls.\n",
    "\n",
    "Question 2: How do the controls affect the standard error on the treatment effect?\n",
    "Answer: Controls increase the accuracy of measurement as the std error here is 0.004 whereas in linear model it is 0.005.\n",
    "\n",
    "Question 3:How do you interpret the differences (or similarities) between your estimates of 2.2 and 2.3?\n",
    "Answer: The coeff and std error with controls is less than without controls. Overall, it makes for a better model."
   ]
  },
  {
   "cell_type": "markdown",
   "metadata": {
    "ein.tags": [
     "worksheet-0"
    ],
    "slideshow": {
     "slide_type": "-"
    }
   },
   "source": [
    "### 2.4 Difference-in-Difference, version 1 (tabular)\n",
    "\n",
    "Thus far, we have computed the effects of Progresa by estimating the difference in 1998 enrollment rates across villages. An alternative approach would be to compute the treatment effect using a difference-in-differences framework.\n",
    "\n",
    "Begin by estimating the average treatment effects of the program for poor households using data from 1997 and 1998. Specifically, calculate the difference (between 1997 and 1998) in enrollment rates among poor households in treated villages; then compute the difference (between 1997 and 1998) in enrollment rates among poor households in treated villages. The difference between these two differences is your estimate.\n",
    "\n",
    "* What is your estimate of the impact, and how does it compare to your earlier (simple difference) results?\n",
    "* What is the counterfactual assumption underlying this estimate? \n"
   ]
  },
  {
   "cell_type": "code",
   "execution_count": 36,
   "metadata": {
    "autoscroll": "json-false",
    "ein.tags": [
     "worksheet-0"
    ],
    "slideshow": {
     "slide_type": "-"
    }
   },
   "outputs": [],
   "source": [
    "# Cleaning the data and creating relevant data sets\n",
    "Progresa97 = ProgresaMaster[ProgresaMaster['year'] == 97]\n",
    "Progresa97Control = Progresa97[Progresa97['progresa'] == '0']\n",
    "Progresa97ControlPoor = Progresa97Control[Progresa97Control['poor'] == 'pobre']\n",
    "Progresa97Treat = Progresa97[Progresa97['progresa'] == 'basal']\n",
    "Progresa97TreatPoor = Progresa97Treat[Progresa97Treat['poor'] == 'pobre']\n",
    "Progresa97Poor = Progresa97[Progresa97['poor'] == 'pobre']"
   ]
  },
  {
   "cell_type": "code",
   "execution_count": 37,
   "metadata": {
    "collapsed": true
   },
   "outputs": [],
   "source": [
    "ControlDiff = Progresa98ControlPoor['sc'].mean() - Progresa97ControlPoor['sc'].mean()"
   ]
  },
  {
   "cell_type": "code",
   "execution_count": 38,
   "metadata": {
    "collapsed": true
   },
   "outputs": [],
   "source": [
    "TreatDiff = Progresa98TreatPoor['sc'].mean() - Progresa97TreatPoor['sc'].mean()"
   ]
  },
  {
   "cell_type": "code",
   "execution_count": 39,
   "metadata": {},
   "outputs": [
    {
     "data": {
      "text/plain": [
       "0.031331280319323085"
      ]
     },
     "execution_count": 39,
     "metadata": {},
     "output_type": "execute_result"
    }
   ],
   "source": [
    "TreatDiff - ControlDiff"
   ]
  },
  {
   "cell_type": "markdown",
   "metadata": {},
   "source": [
    "Question 1: What is your estimate of the impact, and how does it compare to your earlier (simple difference) results?\n",
    "Answer: The simple difference result was 0.038 whereas difference of difference result is 0.0313, which is less. So we can say progresa had a positive impact.\n",
    "\n",
    "Question 2: What is the counterfactual assumption underlying this estimate?\n",
    "Answer: Counter: Without intervention, treatment and control would have given similar results across time."
   ]
  },
  {
   "cell_type": "markdown",
   "metadata": {
    "ein.tags": [
     "worksheet-0"
    ],
    "slideshow": {
     "slide_type": "-"
    }
   },
   "source": [
    "### 2.5 Difference-in-Difference, version 1 (regression)\n",
    "\n",
    "Now use a regression specification to estimate the average treatment effect of the program (on the poor) in a difference-in-differences framework. Include at least 5 control variables.\n",
    "\n",
    "* What is your estimate of the impact of Progresa? Be very specific in interpreting your coefficients and standard errors, and make sure to specify exactly what units you are measuring and estimating.\n",
    "* How do these estimates of the treatment effect compare to the estimates based on the simple difference?\n",
    "* How do these estimates compare to the difference-in-difference estimates from 2.4 above? What accounts for these differences?\n",
    "* What is the counterfactual assumption underlying this regression? "
   ]
  },
  {
   "cell_type": "code",
   "execution_count": 43,
   "metadata": {
    "autoscroll": "json-false",
    "ein.tags": [
     "worksheet-0"
    ],
    "slideshow": {
     "slide_type": "-"
    }
   },
   "outputs": [
    {
     "name": "stderr",
     "output_type": "stream",
     "text": [
      "C:\\Program Files\\Anaconda3\\lib\\site-packages\\ipykernel\\__main__.py:5: SettingWithCopyWarning: \n",
      "A value is trying to be set on a copy of a slice from a DataFrame.\n",
      "Try using .loc[row_indexer,col_indexer] = value instead\n",
      "\n",
      "See the caveats in the documentation: http://pandas.pydata.org/pandas-docs/stable/indexing.html#indexing-view-versus-copy\n",
      "C:\\Program Files\\Anaconda3\\lib\\site-packages\\ipykernel\\__main__.py:6: SettingWithCopyWarning: \n",
      "A value is trying to be set on a copy of a slice from a DataFrame.\n",
      "Try using .loc[row_indexer,col_indexer] = value instead\n",
      "\n",
      "See the caveats in the documentation: http://pandas.pydata.org/pandas-docs/stable/indexing.html#indexing-view-versus-copy\n",
      "C:\\Program Files\\Anaconda3\\lib\\site-packages\\pandas\\core\\indexing.py:465: SettingWithCopyWarning: \n",
      "A value is trying to be set on a copy of a slice from a DataFrame.\n",
      "Try using .loc[row_indexer,col_indexer] = value instead\n",
      "\n",
      "See the caveats in the documentation: http://pandas.pydata.org/pandas-docs/stable/indexing.html#indexing-view-versus-copy\n",
      "  self.obj[item] = s\n",
      "C:\\Program Files\\Anaconda3\\lib\\site-packages\\ipykernel\\__main__.py:16: SettingWithCopyWarning: \n",
      "A value is trying to be set on a copy of a slice from a DataFrame.\n",
      "Try using .loc[row_indexer,col_indexer] = value instead\n",
      "\n",
      "See the caveats in the documentation: http://pandas.pydata.org/pandas-docs/stable/indexing.html#indexing-view-versus-copy\n"
     ]
    }
   ],
   "source": [
    "# Creating a dataset for poor\n",
    "ProgresaPoor=ProgresaMaster[ProgresaMaster[\"poor\"]==\"pobre\"]\n",
    "\n",
    "# adding new columns to the dataset\n",
    "ProgresaPoor['prog']=''\n",
    "ProgresaPoor['yr']=''\n",
    "\n",
    "\n",
    "#Setting values in the new columns\n",
    "ProgresaPoor.loc[ProgresaPoor['progresa']==\"0\",'prog']=0\n",
    "ProgresaPoor.loc[ProgresaPoor['progresa']==\"basal\",'prog']=1\n",
    "ProgresaPoor.loc[ProgresaPoor['year']==97,'yr']=0\n",
    "ProgresaPoor.loc[ProgresaPoor['year']==98,'yr']=1\n",
    "\n",
    "# We would also need to calculate the interaction term, which would\n",
    "# be the combination of the newly created cols, so adding another column and multiplying the newly added values\n",
    "ProgresaPoor['prog_yr']=ProgresaPoor['prog']*ProgresaPoor['yr']"
   ]
  },
  {
   "cell_type": "code",
   "execution_count": 46,
   "metadata": {},
   "outputs": [
    {
     "data": {
      "text/html": [
       "<table class=\"simpletable\">\n",
       "<caption>OLS Regression Results</caption>\n",
       "<tr>\n",
       "  <th>Dep. Variable:</th>           <td>sc</td>        <th>  R-squared:         </th> <td>   0.296</td> \n",
       "</tr>\n",
       "<tr>\n",
       "  <th>Model:</th>                   <td>OLS</td>       <th>  Adj. R-squared:    </th> <td>   0.296</td> \n",
       "</tr>\n",
       "<tr>\n",
       "  <th>Method:</th>             <td>Least Squares</td>  <th>  F-statistic:       </th> <td>   2726.</td> \n",
       "</tr>\n",
       "<tr>\n",
       "  <th>Date:</th>             <td>Thu, 26 Jan 2017</td> <th>  Prob (F-statistic):</th>  <td>  0.00</td>  \n",
       "</tr>\n",
       "<tr>\n",
       "  <th>Time:</th>                 <td>21:16:23</td>     <th>  Log-Likelihood:    </th> <td> -16031.</td> \n",
       "</tr>\n",
       "<tr>\n",
       "  <th>No. Observations:</th>      <td> 58352</td>      <th>  AIC:               </th> <td>3.208e+04</td>\n",
       "</tr>\n",
       "<tr>\n",
       "  <th>Df Residuals:</th>          <td> 58342</td>      <th>  BIC:               </th> <td>3.217e+04</td>\n",
       "</tr>\n",
       "<tr>\n",
       "  <th>Df Model:</th>              <td>     9</td>      <th>                     </th>     <td> </td>    \n",
       "</tr>\n",
       "<tr>\n",
       "  <th>Covariance Type:</th>      <td>nonrobust</td>    <th>                     </th>     <td> </td>    \n",
       "</tr>\n",
       "</table>\n",
       "<table class=\"simpletable\">\n",
       "<tr>\n",
       "        <td></td>          <th>coef</th>     <th>std err</th>      <th>t</th>      <th>P>|t|</th> <th>[95.0% Conf. Int.]</th> \n",
       "</tr>\n",
       "<tr>\n",
       "  <th>Intercept</th>    <td>    1.5647</td> <td>    0.008</td> <td>  197.393</td> <td> 0.000</td> <td>    1.549     1.580</td>\n",
       "</tr>\n",
       "<tr>\n",
       "  <th>prog[T.1]</th>    <td>    0.0009</td> <td>    0.004</td> <td>    0.243</td> <td> 0.808</td> <td>   -0.006     0.008</td>\n",
       "</tr>\n",
       "<tr>\n",
       "  <th>yr[T.1]</th>      <td>    0.0521</td> <td>    0.004</td> <td>   11.982</td> <td> 0.000</td> <td>    0.044     0.061</td>\n",
       "</tr>\n",
       "<tr>\n",
       "  <th>prog_yr[T.1]</th> <td>    0.0314</td> <td>    0.005</td> <td>    5.771</td> <td> 0.000</td> <td>    0.021     0.042</td>\n",
       "</tr>\n",
       "<tr>\n",
       "  <th>age</th>          <td>   -0.0898</td> <td>    0.001</td> <td> -109.676</td> <td> 0.000</td> <td>   -0.091    -0.088</td>\n",
       "</tr>\n",
       "<tr>\n",
       "  <th>dist_sec</th>     <td>   -0.0071</td> <td>    0.001</td> <td>  -11.641</td> <td> 0.000</td> <td>   -0.008    -0.006</td>\n",
       "</tr>\n",
       "<tr>\n",
       "  <th>sex</th>          <td>    0.0360</td> <td>    0.003</td> <td>   13.640</td> <td> 0.000</td> <td>    0.031     0.041</td>\n",
       "</tr>\n",
       "<tr>\n",
       "  <th>hohedu</th>       <td>    0.0048</td> <td>    0.001</td> <td>    9.025</td> <td> 0.000</td> <td>    0.004     0.006</td>\n",
       "</tr>\n",
       "<tr>\n",
       "  <th>grc97</th>        <td>    0.0356</td> <td>    0.001</td> <td>   35.361</td> <td> 0.000</td> <td>    0.034     0.038</td>\n",
       "</tr>\n",
       "<tr>\n",
       "  <th>min_dist</th>     <td>    0.0007</td> <td> 3.16e-05</td> <td>   21.982</td> <td> 0.000</td> <td>    0.001     0.001</td>\n",
       "</tr>\n",
       "</table>\n",
       "<table class=\"simpletable\">\n",
       "<tr>\n",
       "  <th>Omnibus:</th>       <td>5922.931</td> <th>  Durbin-Watson:     </th> <td>   1.492</td>\n",
       "</tr>\n",
       "<tr>\n",
       "  <th>Prob(Omnibus):</th>  <td> 0.000</td>  <th>  Jarque-Bera (JB):  </th> <td>7883.119</td>\n",
       "</tr>\n",
       "<tr>\n",
       "  <th>Skew:</th>           <td>-0.884</td>  <th>  Prob(JB):          </th> <td>    0.00</td>\n",
       "</tr>\n",
       "<tr>\n",
       "  <th>Kurtosis:</th>       <td> 3.340</td>  <th>  Cond. No.          </th> <td>    731.</td>\n",
       "</tr>\n",
       "</table>"
      ],
      "text/plain": [
       "<class 'statsmodels.iolib.summary.Summary'>\n",
       "\"\"\"\n",
       "                            OLS Regression Results                            \n",
       "==============================================================================\n",
       "Dep. Variable:                     sc   R-squared:                       0.296\n",
       "Model:                            OLS   Adj. R-squared:                  0.296\n",
       "Method:                 Least Squares   F-statistic:                     2726.\n",
       "Date:                Thu, 26 Jan 2017   Prob (F-statistic):               0.00\n",
       "Time:                        21:16:23   Log-Likelihood:                -16031.\n",
       "No. Observations:               58352   AIC:                         3.208e+04\n",
       "Df Residuals:                   58342   BIC:                         3.217e+04\n",
       "Df Model:                           9                                         \n",
       "Covariance Type:            nonrobust                                         \n",
       "================================================================================\n",
       "                   coef    std err          t      P>|t|      [95.0% Conf. Int.]\n",
       "--------------------------------------------------------------------------------\n",
       "Intercept        1.5647      0.008    197.393      0.000         1.549     1.580\n",
       "prog[T.1]        0.0009      0.004      0.243      0.808        -0.006     0.008\n",
       "yr[T.1]          0.0521      0.004     11.982      0.000         0.044     0.061\n",
       "prog_yr[T.1]     0.0314      0.005      5.771      0.000         0.021     0.042\n",
       "age             -0.0898      0.001   -109.676      0.000        -0.091    -0.088\n",
       "dist_sec        -0.0071      0.001    -11.641      0.000        -0.008    -0.006\n",
       "sex              0.0360      0.003     13.640      0.000         0.031     0.041\n",
       "hohedu           0.0048      0.001      9.025      0.000         0.004     0.006\n",
       "grc97            0.0356      0.001     35.361      0.000         0.034     0.038\n",
       "min_dist         0.0007   3.16e-05     21.982      0.000         0.001     0.001\n",
       "==============================================================================\n",
       "Omnibus:                     5922.931   Durbin-Watson:                   1.492\n",
       "Prob(Omnibus):                  0.000   Jarque-Bera (JB):             7883.119\n",
       "Skew:                          -0.884   Prob(JB):                         0.00\n",
       "Kurtosis:                       3.340   Cond. No.                         731.\n",
       "==============================================================================\n",
       "\n",
       "Warnings:\n",
       "[1] Standard Errors assume that the covariance matrix of the errors is correctly specified.\n",
       "\"\"\""
      ]
     },
     "execution_count": 46,
     "metadata": {},
     "output_type": "execute_result"
    }
   ],
   "source": [
    "Model_DiD = smf.ols(formula='sc ~ prog + yr + prog_yr + age + dist_sec + sex + hohedu + grc97 + min_dist'\n",
    "                    , data = ProgresaPoor).fit()\n",
    "Model_DiD.summary()"
   ]
  },
  {
   "cell_type": "markdown",
   "metadata": {},
   "source": [
    "Question 1: What is your estimate of the impact of Progresa? Be very specific in interpreting your coefficients and standard errors, and make sure to specify exactly what units you are measuring and estimating.\n",
    "Answer: The coefficient of 'prog_yr' is 0.0314 and the standard error is 0.005. This would set the range of this interaction \n",
    "term from 0.0309 to 0.0319. This showcases the increase progresa caused on the enrollement rate.\n",
    "\n",
    "Question 2: How do these estimates of the treatment effect compare to the estimates based on the simple difference?\n",
    "Answer: The coeff estimate for simple difference was around 0.038 which is higher than the estimates of treatment calcualted here.\n",
    "\n",
    "Question 3: How do these estimates compare to the difference-in-difference estimates from 2.4 above? What accounts for these differences?\n",
    "Answer: The difference-in-difference estimates from 2.4 was around 0.0313 which is almost equal to 0.0314, which is the coeff\n",
    "calculated here. The difference could be because of control variables.\n",
    "\n",
    "Question 4: What is the counterfactual assumption underlying this regression?\n",
    "Answer: Without intervention, treatment and control would have given similar results across time."
   ]
  },
  {
   "cell_type": "markdown",
   "metadata": {
    "ein.tags": [
     "worksheet-0"
    ],
    "slideshow": {
     "slide_type": "-"
    }
   },
   "source": [
    "### 2.6 Difference-in-Difference, version 2\n",
    "\n",
    "In the previous problem, you estimated a difference-in-differences model that compared changes in enrollment rates over time across treatment and control villages. An alternative approach would be to compare enrollment rates in 1998 between poor and non-poor across treatment and control villages. \n",
    "\n",
    "* How would we estimate this version of the treatment effects in a regression model? \n",
    "* What is the counterfactual assumption underlying this regression?\n",
    "* How do these treatment effects compare to the estimates above?\n",
    "* Discuss some possible explanations for differences or similarities "
   ]
  },
  {
   "cell_type": "code",
   "execution_count": 48,
   "metadata": {
    "autoscroll": "json-false",
    "ein.tags": [
     "worksheet-0"
    ],
    "slideshow": {
     "slide_type": "-"
    }
   },
   "outputs": [
    {
     "name": "stderr",
     "output_type": "stream",
     "text": [
      "C:\\Program Files\\Anaconda3\\lib\\site-packages\\ipykernel\\__main__.py:2: SettingWithCopyWarning: \n",
      "A value is trying to be set on a copy of a slice from a DataFrame.\n",
      "Try using .loc[row_indexer,col_indexer] = value instead\n",
      "\n",
      "See the caveats in the documentation: http://pandas.pydata.org/pandas-docs/stable/indexing.html#indexing-view-versus-copy\n",
      "  from ipykernel import kernelapp as app\n",
      "C:\\Program Files\\Anaconda3\\lib\\site-packages\\ipykernel\\__main__.py:3: SettingWithCopyWarning: \n",
      "A value is trying to be set on a copy of a slice from a DataFrame.\n",
      "Try using .loc[row_indexer,col_indexer] = value instead\n",
      "\n",
      "See the caveats in the documentation: http://pandas.pydata.org/pandas-docs/stable/indexing.html#indexing-view-versus-copy\n",
      "  app.launch_new_instance()\n",
      "C:\\Program Files\\Anaconda3\\lib\\site-packages\\pandas\\core\\indexing.py:465: SettingWithCopyWarning: \n",
      "A value is trying to be set on a copy of a slice from a DataFrame.\n",
      "Try using .loc[row_indexer,col_indexer] = value instead\n",
      "\n",
      "See the caveats in the documentation: http://pandas.pydata.org/pandas-docs/stable/indexing.html#indexing-view-versus-copy\n",
      "  self.obj[item] = s\n",
      "C:\\Program Files\\Anaconda3\\lib\\site-packages\\ipykernel\\__main__.py:13: SettingWithCopyWarning: \n",
      "A value is trying to be set on a copy of a slice from a DataFrame.\n",
      "Try using .loc[row_indexer,col_indexer] = value instead\n",
      "\n",
      "See the caveats in the documentation: http://pandas.pydata.org/pandas-docs/stable/indexing.html#indexing-view-versus-copy\n"
     ]
    }
   ],
   "source": [
    "# since we want to focus on 98 data, creating new parameters like before\n",
    "Progresa98['poorNew'] = ''\n",
    "Progresa98['prog']=''\n",
    "\n",
    "\n",
    "#Adding values to the new cols\n",
    "Progresa98.loc[Progresa98['poor']=='pobre','poorNew']= 1\n",
    "Progresa98.loc[Progresa98['poor']!='pobre','poorNew']= 0\n",
    "Progresa98.loc[Progresa98['progresa']=='basal','prog']= 1\n",
    "Progresa98.loc[Progresa98['progresa']=='0','poorNew']= 0\n",
    "\n",
    "#Creating Interaction param\n",
    "Progresa98['poorNew_prog']= Progresa98['poorNew']*Progresa98['prog']"
   ]
  },
  {
   "cell_type": "code",
   "execution_count": 50,
   "metadata": {},
   "outputs": [
    {
     "data": {
      "text/html": [
       "<table class=\"simpletable\">\n",
       "<caption>OLS Regression Results</caption>\n",
       "<tr>\n",
       "  <th>Dep. Variable:</th>           <td>sc</td>        <th>  R-squared:         </th> <td>   0.280</td> \n",
       "</tr>\n",
       "<tr>\n",
       "  <th>Model:</th>                   <td>OLS</td>       <th>  Adj. R-squared:    </th> <td>   0.280</td> \n",
       "</tr>\n",
       "<tr>\n",
       "  <th>Method:</th>             <td>Least Squares</td>  <th>  F-statistic:       </th> <td>   1559.</td> \n",
       "</tr>\n",
       "<tr>\n",
       "  <th>Date:</th>             <td>Thu, 26 Jan 2017</td> <th>  Prob (F-statistic):</th>  <td>  0.00</td>  \n",
       "</tr>\n",
       "<tr>\n",
       "  <th>Time:</th>                 <td>21:54:17</td>     <th>  Log-Likelihood:    </th> <td> -9103.0</td> \n",
       "</tr>\n",
       "<tr>\n",
       "  <th>No. Observations:</th>      <td> 32097</td>      <th>  AIC:               </th> <td>1.822e+04</td>\n",
       "</tr>\n",
       "<tr>\n",
       "  <th>Df Residuals:</th>          <td> 32088</td>      <th>  BIC:               </th> <td>1.830e+04</td>\n",
       "</tr>\n",
       "<tr>\n",
       "  <th>Df Model:</th>              <td>     8</td>      <th>                     </th>     <td> </td>    \n",
       "</tr>\n",
       "<tr>\n",
       "  <th>Covariance Type:</th>      <td>nonrobust</td>    <th>                     </th>     <td> </td>    \n",
       "</tr>\n",
       "</table>\n",
       "<table class=\"simpletable\">\n",
       "<tr>\n",
       "          <td></td>             <th>coef</th>     <th>std err</th>      <th>t</th>      <th>P>|t|</th> <th>[95.0% Conf. Int.]</th> \n",
       "</tr>\n",
       "<tr>\n",
       "  <th>Intercept</th>         <td>    1.6160</td> <td>    0.013</td> <td>  128.652</td> <td> 0.000</td> <td>    1.591     1.641</td>\n",
       "</tr>\n",
       "<tr>\n",
       "  <th>prog[T.]</th>          <td>   -0.0152</td> <td>    0.003</td> <td>   -4.485</td> <td> 0.000</td> <td>   -0.022    -0.009</td>\n",
       "</tr>\n",
       "<tr>\n",
       "  <th>poorNew[T.1]</th>      <td>    0.0004</td> <td>    0.003</td> <td>    0.118</td> <td> 0.906</td> <td>   -0.006     0.007</td>\n",
       "</tr>\n",
       "<tr>\n",
       "  <th>poorNew_prog[T.1]</th> <td>    0.0004</td> <td>    0.003</td> <td>    0.118</td> <td> 0.906</td> <td>   -0.006     0.007</td>\n",
       "</tr>\n",
       "<tr>\n",
       "  <th>poorNew_prog[T.]</th>  <td>   -0.0152</td> <td>    0.003</td> <td>   -4.485</td> <td> 0.000</td> <td>   -0.022    -0.009</td>\n",
       "</tr>\n",
       "<tr>\n",
       "  <th>age</th>               <td>   -0.0842</td> <td>    0.001</td> <td>  -73.287</td> <td> 0.000</td> <td>   -0.086    -0.082</td>\n",
       "</tr>\n",
       "<tr>\n",
       "  <th>dist_sec</th>          <td>   -0.0091</td> <td>    0.001</td> <td>  -10.981</td> <td> 0.000</td> <td>   -0.011    -0.007</td>\n",
       "</tr>\n",
       "<tr>\n",
       "  <th>sex</th>               <td>    0.0327</td> <td>    0.004</td> <td>    9.103</td> <td> 0.000</td> <td>    0.026     0.040</td>\n",
       "</tr>\n",
       "<tr>\n",
       "  <th>hohedu</th>            <td>    0.0073</td> <td>    0.001</td> <td>   10.588</td> <td> 0.000</td> <td>    0.006     0.009</td>\n",
       "</tr>\n",
       "<tr>\n",
       "  <th>grc97</th>             <td>    0.0259</td> <td>    0.001</td> <td>   19.009</td> <td> 0.000</td> <td>    0.023     0.029</td>\n",
       "</tr>\n",
       "<tr>\n",
       "  <th>min_dist</th>          <td>    0.0007</td> <td> 4.28e-05</td> <td>   16.659</td> <td> 0.000</td> <td>    0.001     0.001</td>\n",
       "</tr>\n",
       "</table>\n",
       "<table class=\"simpletable\">\n",
       "<tr>\n",
       "  <th>Omnibus:</th>       <td>3319.078</td> <th>  Durbin-Watson:     </th> <td>   1.730</td>\n",
       "</tr>\n",
       "<tr>\n",
       "  <th>Prob(Omnibus):</th>  <td> 0.000</td>  <th>  Jarque-Bera (JB):  </th> <td>4450.245</td>\n",
       "</tr>\n",
       "<tr>\n",
       "  <th>Skew:</th>           <td>-0.904</td>  <th>  Prob(JB):          </th> <td>    0.00</td>\n",
       "</tr>\n",
       "<tr>\n",
       "  <th>Kurtosis:</th>       <td> 3.245</td>  <th>  Cond. No.          </th> <td>1.86e+19</td>\n",
       "</tr>\n",
       "</table>"
      ],
      "text/plain": [
       "<class 'statsmodels.iolib.summary.Summary'>\n",
       "\"\"\"\n",
       "                            OLS Regression Results                            \n",
       "==============================================================================\n",
       "Dep. Variable:                     sc   R-squared:                       0.280\n",
       "Model:                            OLS   Adj. R-squared:                  0.280\n",
       "Method:                 Least Squares   F-statistic:                     1559.\n",
       "Date:                Thu, 26 Jan 2017   Prob (F-statistic):               0.00\n",
       "Time:                        21:54:17   Log-Likelihood:                -9103.0\n",
       "No. Observations:               32097   AIC:                         1.822e+04\n",
       "Df Residuals:                   32088   BIC:                         1.830e+04\n",
       "Df Model:                           8                                         \n",
       "Covariance Type:            nonrobust                                         \n",
       "=====================================================================================\n",
       "                        coef    std err          t      P>|t|      [95.0% Conf. Int.]\n",
       "-------------------------------------------------------------------------------------\n",
       "Intercept             1.6160      0.013    128.652      0.000         1.591     1.641\n",
       "prog[T.]             -0.0152      0.003     -4.485      0.000        -0.022    -0.009\n",
       "poorNew[T.1]          0.0004      0.003      0.118      0.906        -0.006     0.007\n",
       "poorNew_prog[T.1]     0.0004      0.003      0.118      0.906        -0.006     0.007\n",
       "poorNew_prog[T.]     -0.0152      0.003     -4.485      0.000        -0.022    -0.009\n",
       "age                  -0.0842      0.001    -73.287      0.000        -0.086    -0.082\n",
       "dist_sec             -0.0091      0.001    -10.981      0.000        -0.011    -0.007\n",
       "sex                   0.0327      0.004      9.103      0.000         0.026     0.040\n",
       "hohedu                0.0073      0.001     10.588      0.000         0.006     0.009\n",
       "grc97                 0.0259      0.001     19.009      0.000         0.023     0.029\n",
       "min_dist              0.0007   4.28e-05     16.659      0.000         0.001     0.001\n",
       "==============================================================================\n",
       "Omnibus:                     3319.078   Durbin-Watson:                   1.730\n",
       "Prob(Omnibus):                  0.000   Jarque-Bera (JB):             4450.245\n",
       "Skew:                          -0.904   Prob(JB):                         0.00\n",
       "Kurtosis:                       3.245   Cond. No.                     1.86e+19\n",
       "==============================================================================\n",
       "\n",
       "Warnings:\n",
       "[1] Standard Errors assume that the covariance matrix of the errors is correctly specified.\n",
       "[2] The smallest eigenvalue is 1.18e-30. This might indicate that there are\n",
       "strong multicollinearity problems or that the design matrix is singular.\n",
       "\"\"\""
      ]
     },
     "execution_count": 50,
     "metadata": {},
     "output_type": "execute_result"
    }
   ],
   "source": [
    "Model_DiD_2 = smf.ols(formula=\"sc ~ prog + poorNew + poorNew_prog + age + dist_sec + sex + hohedu + grc97 + min_dist\"\n",
    "                      ,data = Progresa98).fit()\n",
    "Model_DiD_2.summary()"
   ]
  },
  {
   "cell_type": "markdown",
   "metadata": {},
   "source": [
    "Question 1: What is the counterfactual assumption underlying this regression?\n",
    "Answer: Without interventiom, average enrollment rate in treatment and control villages would be same.\n",
    "\n",
    "Question 2: How do these treatment effects compare to the estimates above?\n",
    "Answer: These treatment estimates are lesser than the ones computed earlier.\n",
    "\n",
    "Question 3: Discuss some possible explanations for differences or similarities\n",
    "Answer: Ealier we just considered poor people in out data whereas in this data we considered both poor and rich for 98."
   ]
  },
  {
   "cell_type": "markdown",
   "metadata": {
    "ein.tags": [
     "worksheet-0"
    ],
    "slideshow": {
     "slide_type": "-"
    }
   },
   "source": [
    "### 2.7 Spillover effects (extra credit)\n",
    "\n",
    "Thus far, we have focused on the impact of PROGRESA on poor households. Repeat your analysis in 2.5, using a double-difference regression to estimate the impact of PROGRESA on non-poor households. In other words, compare the difference in enrollments between 1997 and 1998 for non-poor households in treatment villages with the difference in enrollments between 1997 and 1998 for non-poor households in control villages.\n",
    "\n",
    "* A: Describe one or two reasons why PROGRESA might have impacted non-poor households.\n",
    "* B: Do you observe any impacts of PROGRESA on the non-poor?\n",
    "* C: What is the identifying assumption that you are using to estimate the impact of PROGRESA on non-poor households."
   ]
  },
  {
   "cell_type": "code",
   "execution_count": 0,
   "metadata": {
    "autoscroll": "json-false",
    "ein.tags": [
     "worksheet-0"
    ],
    "slideshow": {
     "slide_type": "-"
    }
   },
   "outputs": [],
   "source": []
  },
  {
   "cell_type": "markdown",
   "metadata": {
    "ein.tags": [
     "worksheet-0"
    ],
    "slideshow": {
     "slide_type": "-"
    }
   },
   "source": [
    "### 2.8 Summary\n",
    "\n",
    "Based on all the analysis you have undertaken to date, do you thik that Progresa had a causal impact on the enrollment rates of poor households in Mexico?"
   ]
  },
  {
   "cell_type": "markdown",
   "metadata": {
    "autoscroll": "json-false",
    "ein.tags": [
     "worksheet-0"
    ],
    "slideshow": {
     "slide_type": "-"
    }
   },
   "source": [
    "1. Progresa does display a causal impact on enrollment rates. It seems to have boosted the enrollment in the treatment and control villages, albeit marginally."
   ]
  }
 ],
 "metadata": {
  "anaconda-cloud": {},
  "kernelspec": {
   "display_name": "Python 3",
   "language": "python",
   "name": "python3"
  },
  "language_info": {
   "codemirror_mode": {
    "name": "ipython",
    "version": 3
   },
   "file_extension": ".py",
   "mimetype": "text/x-python",
   "name": "python",
   "nbconvert_exporter": "python",
   "pygments_lexer": "ipython3",
   "version": "3.7.6"
  },
  "name": "INFX574-PS2.ipynb",
  "toc": {
   "base_numbering": 1,
   "nav_menu": {},
   "number_sections": true,
   "sideBar": true,
   "skip_h1_title": false,
   "title_cell": "Table of Contents",
   "title_sidebar": "Contents",
   "toc_cell": true,
   "toc_position": {},
   "toc_section_display": true,
   "toc_window_display": false
  }
 },
 "nbformat": 4,
 "nbformat_minor": 2
}
